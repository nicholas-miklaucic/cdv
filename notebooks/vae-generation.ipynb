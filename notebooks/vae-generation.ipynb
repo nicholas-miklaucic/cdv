{
 "cells": [
  {
   "cell_type": "code",
   "execution_count": 1,
   "metadata": {},
   "outputs": [
    {
     "name": "stdout",
     "output_type": "stream",
     "text": [
      "/home/nmiklaucic/cdv\n"
     ]
    },
    {
     "name": "stderr",
     "output_type": "stream",
     "text": [
      "/home/nmiklaucic/miniconda3/envs/avid/lib/python3.12/site-packages/IPython/core/magics/osm.py:393: UserWarning: This is now an optional IPython functionality, using bookmarks requires you to install the `pickleshare` library.\n",
      "  bkms = self.shell.db.get('bookmarks', {})\n",
      "/home/nmiklaucic/miniconda3/envs/avid/lib/python3.12/site-packages/IPython/core/magics/osm.py:417: UserWarning: This is now an optional IPython functionality, setting dhist requires you to install the `pickleshare` library.\n",
      "  self.shell.db['dhist'] = compress_dhist(dhist)[-100:]\n"
     ]
    }
   ],
   "source": [
    "%cd ~/cdv\n",
    "!source env.sh"
   ]
  },
  {
   "cell_type": "code",
   "execution_count": 2,
   "metadata": {},
   "outputs": [],
   "source": [
    "import os\n",
    "\n",
    "# os.environ['CUDA_VISIBLE_DEVICES'] = '0,1,2'\n",
    "\n",
    "import numpy as np\n",
    "import jax.numpy as jnp\n",
    "import jax.random as jr\n",
    "import jax\n",
    "import pandas as pd\n",
    "import plotly.express as px\n",
    "import matplotlib.pyplot as plt\n",
    "import seaborn as sns\n",
    "import rho_plus as rp\n",
    "\n",
    "is_dark = False\n",
    "theme, cs = rp.mpl_setup(is_dark)"
   ]
  },
  {
   "cell_type": "code",
   "execution_count": 3,
   "metadata": {},
   "outputs": [
    {
     "data": {
      "text/html": [
       "<pre style=\"white-space:pre;overflow-x:auto;line-height:normal;font-family:Menlo,'DejaVu Sans Mono',consolas,'Courier New',monospace\">Configured `CheckpointManager` using deprecated legacy API. Please follow the instructions at                      \n",
       "<span style=\"color: #0000ff; text-decoration-color: #0000ff; text-decoration: underline\">https://orbax.readthedocs.io/en/latest/api_refactor.html</span> to migrate by May 1st, <span style=\"color: #008080; text-decoration-color: #008080; font-weight: bold\">2024</span>.                              \n",
       "</pre>\n"
      ],
      "text/plain": [
       "Configured `CheckpointManager` using deprecated legacy API. Please follow the instructions at                      \n",
       "\u001b[4;94mhttps://orbax.readthedocs.io/en/latest/api_refactor.html\u001b[0m to migrate by May 1st, \u001b[1;36m2024\u001b[0m.                              \n"
      ]
     },
     "metadata": {},
     "output_type": "display_data"
    },
    {
     "data": {
      "text/html": [
       "<pre style=\"white-space:pre;overflow-x:auto;line-height:normal;font-family:Menlo,'DejaVu Sans Mono',consolas,'Courier New',monospace\">Given directory is read <span style=\"color: #808000; text-decoration-color: #808000\">only</span>=<span style=\"color: #800080; text-decoration-color: #800080\">/home/nmiklaucic/cdv/logs/mace_vae_rec_407/final_ckpt/</span><span style=\"color: #ff00ff; text-decoration-color: #ff00ff\">ckpts</span>                           \n",
       "</pre>\n"
      ],
      "text/plain": [
       "Given directory is read \u001b[33monly\u001b[0m=\u001b[35m/home/nmiklaucic/cdv/logs/mace_vae_rec_407/final_ckpt/\u001b[0m\u001b[95mckpts\u001b[0m                           \n"
      ]
     },
     "metadata": {},
     "output_type": "display_data"
    },
    {
     "data": {
      "text/html": [
       "<pre style=\"white-space:pre;overflow-x:auto;line-height:normal;font-family:Menlo,'DejaVu Sans Mono',consolas,'Courier New',monospace\">Restoring item from <span style=\"color: #800080; text-decoration-color: #800080\">/home/nmiklaucic/cdv/logs/mace_vae_rec_407/final_ckpt/ckpts/</span><span style=\"color: #ff00ff; text-decoration-color: #ff00ff\">41799.</span>                             \n",
       "</pre>\n"
      ],
      "text/plain": [
       "Restoring item from \u001b[35m/home/nmiklaucic/cdv/logs/mace_vae_rec_407/final_ckpt/ckpts/\u001b[0m\u001b[95m41799.\u001b[0m                             \n"
      ]
     },
     "metadata": {},
     "output_type": "display_data"
    },
    {
     "data": {
      "text/html": [
       "<pre style=\"white-space:pre;overflow-x:auto;line-height:normal;font-family:Menlo,'DejaVu Sans Mono',consolas,'Courier New',monospace\">Finished restoring checkpoint from <span style=\"color: #800080; text-decoration-color: #800080\">/home/nmiklaucic/cdv/logs/mace_vae_rec_407/final_ckpt/ckpts/</span><span style=\"color: #ff00ff; text-decoration-color: #ff00ff\">41799.</span>              \n",
       "</pre>\n"
      ],
      "text/plain": [
       "Finished restoring checkpoint from \u001b[35m/home/nmiklaucic/cdv/logs/mace_vae_rec_407/final_ckpt/ckpts/\u001b[0m\u001b[95m41799.\u001b[0m              \n"
      ]
     },
     "metadata": {},
     "output_type": "display_data"
    }
   ],
   "source": [
    "from pathlib import Path\n",
    "import pyrallis\n",
    "from cdv.config import MainConfig\n",
    "import orbax.checkpoint as ocp\n",
    "\n",
    "from cdv.training_state import TrainingRun\n",
    "from cdv.checkpointing import best_ckpt\n",
    "\n",
    "# run_dir = Path('logs') / '03-17:45_918'\n",
    "# run_dir = Path('logs') / 'e_form_no_downsample_564'\n",
    "# run_dir = Path('logs') / 'e_form_equivariant_patch_235'\n",
    "# run_dir = Path('logs') / '04-13-interrupted-919'\n",
    "# run_dir = Path('logs') / '04-13-14_650'\n",
    "run_dir = Path('logs') / 'mace_vae_rec_407'\n",
    "\n",
    "with open(run_dir / 'config.toml') as conf_file:\n",
    "    config = pyrallis.cfgparsing.load(MainConfig, conf_file)\n",
    "\n",
    "model = config.build_vae()\n",
    "\n",
    "ckpt = best_ckpt(run_dir)\n",
    "# ckpt = jax.tree.map(lambda x: x if isinstance(x, (float, int)) else x.astype(jnp.bfloat16), ckpt)\n",
    "model = model.bind(ckpt['state']['params'])"
   ]
  },
  {
   "cell_type": "code",
   "execution_count": 4,
   "metadata": {},
   "outputs": [
    {
     "data": {
      "text/html": [
       "<pre style=\"white-space:pre;overflow-x:auto;line-height:normal;font-family:Menlo,'DejaVu Sans Mono',consolas,'Courier New',monospace\"></pre>\n"
      ],
      "text/plain": []
     },
     "metadata": {},
     "output_type": "display_data"
    },
    {
     "data": {
      "text/plain": [
       "\n",
       "\u001b[1;35mCrystalGraphs\u001b[0m\u001b[1m(\u001b[0m\n",
       "    \u001b[33mnodes\u001b[0m=\u001b[1;35mNodeData\u001b[0m\u001b[1m(\u001b[0m\n",
       "        \u001b[33mspecies\u001b[0m=\u001b[1;35mArray\u001b[0m\u001b[1m(\u001b[0m\u001b[1m[\u001b[0m\u001b[1;36m28\u001b[0m, \u001b[1;36m28\u001b[0m, \u001b[1;36m28\u001b[0m, \u001b[1;36m28\u001b[0m, \u001b[1;36m70\u001b[0m, \u001b[1;36m70\u001b[0m, \u001b[1;36m70\u001b[0m, \u001b[1;36m70\u001b[0m, \u001b[1;36m71\u001b[0m, \u001b[1;36m71\u001b[0m, \u001b[1;36m71\u001b[0m, \u001b[1;36m71\u001b[0m, \u001b[1;36m71\u001b[0m, \u001b[1;36m71\u001b[0m, \u001b[1;36m71\u001b[0m, \u001b[1;36m71\u001b[0m, \u001b[1;36m71\u001b[0m,\n",
       "       \u001b[1;36m71\u001b[0m, \u001b[1;36m71\u001b[0m, \u001b[1;36m71\u001b[0m, \u001b[1;36m53\u001b[0m, \u001b[1;36m53\u001b[0m, \u001b[1;36m53\u001b[0m, \u001b[1;36m53\u001b[0m, \u001b[1;36m53\u001b[0m, \u001b[1;36m53\u001b[0m, \u001b[1;36m53\u001b[0m, \u001b[1;36m53\u001b[0m, \u001b[1;36m53\u001b[0m, \u001b[1;36m53\u001b[0m, \u001b[1;36m53\u001b[0m, \u001b[1;36m53\u001b[0m, \u001b[1;36m63\u001b[0m, \u001b[1;36m63\u001b[0m,\n",
       "       \u001b[1;36m63\u001b[0m, \u001b[1;36m63\u001b[0m, \u001b[1;36m64\u001b[0m, \u001b[1;36m64\u001b[0m, \u001b[1;36m70\u001b[0m, \u001b[1;36m70\u001b[0m,  \u001b[1;36m6\u001b[0m,  \u001b[1;36m6\u001b[0m, \u001b[1;36m11\u001b[0m, \u001b[1;36m11\u001b[0m, \u001b[1;36m26\u001b[0m, \u001b[1;36m26\u001b[0m, \u001b[1;36m26\u001b[0m, \u001b[1;36m26\u001b[0m, \u001b[1;36m70\u001b[0m, \u001b[1;36m70\u001b[0m, \u001b[1;36m70\u001b[0m,\n",
       "       \u001b[1;36m70\u001b[0m, \u001b[1;36m70\u001b[0m, \u001b[1;36m70\u001b[0m, \u001b[1;36m70\u001b[0m, \u001b[1;36m70\u001b[0m, \u001b[1;36m70\u001b[0m, \u001b[1;36m70\u001b[0m, \u001b[1;36m70\u001b[0m, \u001b[1;36m70\u001b[0m, \u001b[1;36m31\u001b[0m, \u001b[1;36m31\u001b[0m, \u001b[1;36m31\u001b[0m, \u001b[1;36m31\u001b[0m, \u001b[1;36m31\u001b[0m, \u001b[1;36m31\u001b[0m, \u001b[1;36m70\u001b[0m, \u001b[1;36m70\u001b[0m,\n",
       "       \u001b[1;36m70\u001b[0m, \u001b[1;36m70\u001b[0m, \u001b[1;36m70\u001b[0m, \u001b[1;36m70\u001b[0m, \u001b[1;36m70\u001b[0m, \u001b[1;36m70\u001b[0m, \u001b[1;36m70\u001b[0m, \u001b[1;36m70\u001b[0m, \u001b[1;36m70\u001b[0m, \u001b[1;36m71\u001b[0m, \u001b[1;36m37\u001b[0m, \u001b[1;36m37\u001b[0m, \u001b[1;36m37\u001b[0m, \u001b[1;36m37\u001b[0m, \u001b[1;36m37\u001b[0m, \u001b[1;36m37\u001b[0m, \u001b[1;36m70\u001b[0m,\n",
       "       \u001b[1;36m70\u001b[0m, \u001b[1;36m70\u001b[0m, \u001b[1;36m70\u001b[0m, \u001b[1;36m70\u001b[0m, \u001b[1;36m70\u001b[0m, \u001b[1;36m70\u001b[0m, \u001b[1;36m70\u001b[0m, \u001b[1;36m70\u001b[0m, \u001b[1;36m70\u001b[0m, \u001b[1;36m70\u001b[0m, \u001b[1;36m71\u001b[0m, \u001b[1;36m26\u001b[0m, \u001b[1;36m26\u001b[0m, \u001b[1;36m26\u001b[0m, \u001b[1;36m26\u001b[0m, \u001b[1;36m53\u001b[0m, \u001b[1;36m53\u001b[0m,\n",
       "       \u001b[1;36m53\u001b[0m, \u001b[1;36m53\u001b[0m, \u001b[1;36m70\u001b[0m, \u001b[1;36m70\u001b[0m, \u001b[1;36m70\u001b[0m, \u001b[1;36m70\u001b[0m, \u001b[1;36m70\u001b[0m, \u001b[1;36m70\u001b[0m, \u001b[1;36m70\u001b[0m, \u001b[1;36m70\u001b[0m, \u001b[1;36m37\u001b[0m, \u001b[1;36m37\u001b[0m, \u001b[1;36m37\u001b[0m, \u001b[1;36m37\u001b[0m, \u001b[1;36m71\u001b[0m, \u001b[1;36m71\u001b[0m, \u001b[1;36m71\u001b[0m,\n",
       "       \u001b[1;36m71\u001b[0m, \u001b[1;36m71\u001b[0m, \u001b[1;36m71\u001b[0m, \u001b[1;36m71\u001b[0m, \u001b[1;36m71\u001b[0m, \u001b[1;36m71\u001b[0m, \u001b[1;36m71\u001b[0m, \u001b[1;36m71\u001b[0m, \u001b[1;36m71\u001b[0m, \u001b[1;36m15\u001b[0m, \u001b[1;36m15\u001b[0m, \u001b[1;36m15\u001b[0m, \u001b[1;36m15\u001b[0m, \u001b[1;36m50\u001b[0m, \u001b[1;36m50\u001b[0m, \u001b[1;36m50\u001b[0m, \u001b[1;36m50\u001b[0m,\n",
       "       \u001b[1;36m63\u001b[0m, \u001b[1;36m63\u001b[0m, \u001b[1;36m63\u001b[0m, \u001b[1;36m63\u001b[0m, \u001b[1;36m63\u001b[0m, \u001b[1;36m63\u001b[0m, \u001b[1;36m63\u001b[0m, \u001b[1;36m63\u001b[0m,  \u001b[1;36m5\u001b[0m,  \u001b[1;36m5\u001b[0m, \u001b[1;36m31\u001b[0m, \u001b[1;36m31\u001b[0m, \u001b[1;36m36\u001b[0m, \u001b[1;36m36\u001b[0m, \u001b[1;36m70\u001b[0m, \u001b[1;36m70\u001b[0m, \u001b[1;36m70\u001b[0m,\n",
       "       \u001b[1;36m70\u001b[0m, \u001b[1;36m70\u001b[0m, \u001b[1;36m70\u001b[0m, \u001b[1;36m70\u001b[0m, \u001b[1;36m70\u001b[0m, \u001b[1;36m50\u001b[0m, \u001b[1;36m50\u001b[0m, \u001b[1;36m50\u001b[0m, \u001b[1;36m50\u001b[0m, \u001b[1;36m70\u001b[0m, \u001b[1;36m70\u001b[0m, \u001b[1;36m70\u001b[0m, \u001b[1;36m70\u001b[0m, \u001b[1;36m70\u001b[0m, \u001b[1;36m70\u001b[0m, \u001b[1;36m70\u001b[0m, \u001b[1;36m70\u001b[0m,\n",
       "       \u001b[1;36m70\u001b[0m, \u001b[1;36m70\u001b[0m, \u001b[1;36m14\u001b[0m, \u001b[1;36m14\u001b[0m, \u001b[1;36m14\u001b[0m, \u001b[1;36m20\u001b[0m, \u001b[1;36m20\u001b[0m, \u001b[1;36m33\u001b[0m, \u001b[1;36m65\u001b[0m, \u001b[1;36m65\u001b[0m, \u001b[1;36m65\u001b[0m, \u001b[1;36m65\u001b[0m, \u001b[1;36m65\u001b[0m, \u001b[1;36m65\u001b[0m, \u001b[1;36m65\u001b[0m, \u001b[1;36m65\u001b[0m,  \u001b[1;36m2\u001b[0m,\n",
       "        \u001b[1;36m2\u001b[0m, \u001b[1;36m15\u001b[0m, \u001b[1;36m48\u001b[0m, \u001b[1;36m48\u001b[0m, \u001b[1;36m48\u001b[0m, \u001b[1;36m70\u001b[0m, \u001b[1;36m70\u001b[0m, \u001b[1;36m70\u001b[0m, \u001b[1;36m70\u001b[0m, \u001b[1;36m70\u001b[0m, \u001b[1;36m70\u001b[0m, \u001b[1;36m70\u001b[0m, \u001b[1;36m70\u001b[0m, \u001b[1;36m31\u001b[0m, \u001b[1;36m31\u001b[0m, \u001b[1;36m37\u001b[0m, \u001b[1;36m37\u001b[0m,\n",
       "       \u001b[1;36m70\u001b[0m, \u001b[1;36m70\u001b[0m, \u001b[1;36m70\u001b[0m, \u001b[1;36m70\u001b[0m, \u001b[1;36m70\u001b[0m, \u001b[1;36m70\u001b[0m, \u001b[1;36m70\u001b[0m, \u001b[1;36m70\u001b[0m, \u001b[1;36m18\u001b[0m, \u001b[1;36m18\u001b[0m, \u001b[1;36m52\u001b[0m, \u001b[1;36m52\u001b[0m, \u001b[1;36m52\u001b[0m, \u001b[1;36m52\u001b[0m, \u001b[1;36m52\u001b[0m, \u001b[1;36m52\u001b[0m, \u001b[1;36m52\u001b[0m,\n",
       "       \u001b[1;36m52\u001b[0m, \u001b[1;36m52\u001b[0m, \u001b[1;36m52\u001b[0m, \u001b[1;36m11\u001b[0m, \u001b[1;36m11\u001b[0m, \u001b[1;36m11\u001b[0m, \u001b[1;36m11\u001b[0m, \u001b[1;36m36\u001b[0m, \u001b[1;36m36\u001b[0m, \u001b[1;36m36\u001b[0m, \u001b[1;36m36\u001b[0m, \u001b[1;36m38\u001b[0m, \u001b[1;36m38\u001b[0m, \u001b[1;36m38\u001b[0m, \u001b[1;36m38\u001b[0m,  \u001b[1;36m2\u001b[0m, \u001b[1;36m50\u001b[0m,\n",
       "       \u001b[1;36m52\u001b[0m, \u001b[1;36m52\u001b[0m, \u001b[1;36m70\u001b[0m, \u001b[1;36m70\u001b[0m, \u001b[1;36m70\u001b[0m, \u001b[1;36m70\u001b[0m, \u001b[1;36m70\u001b[0m, \u001b[1;36m70\u001b[0m, \u001b[1;36m70\u001b[0m, \u001b[1;36m70\u001b[0m, \u001b[1;36m23\u001b[0m, \u001b[1;36m23\u001b[0m, \u001b[1;36m23\u001b[0m, \u001b[1;36m70\u001b[0m, \u001b[1;36m70\u001b[0m, \u001b[1;36m70\u001b[0m, \u001b[1;36m70\u001b[0m,\n",
       "       \u001b[1;36m70\u001b[0m, \u001b[1;36m70\u001b[0m, \u001b[1;36m70\u001b[0m, \u001b[1;36m70\u001b[0m,  \u001b[1;36m5\u001b[0m, \u001b[1;36m24\u001b[0m, \u001b[1;36m24\u001b[0m, \u001b[1;36m39\u001b[0m, \u001b[1;36m70\u001b[0m, \u001b[1;36m70\u001b[0m, \u001b[1;36m70\u001b[0m, \u001b[1;36m70\u001b[0m, \u001b[1;36m70\u001b[0m, \u001b[1;36m70\u001b[0m, \u001b[1;36m50\u001b[0m, \u001b[1;36m50\u001b[0m, \u001b[1;36m53\u001b[0m,\n",
       "       \u001b[1;36m53\u001b[0m, \u001b[1;36m70\u001b[0m, \u001b[1;36m70\u001b[0m, \u001b[1;36m70\u001b[0m, \u001b[1;36m70\u001b[0m, \u001b[1;36m70\u001b[0m, \u001b[1;36m70\u001b[0m,  \u001b[1;36m2\u001b[0m,  \u001b[1;36m2\u001b[0m, \u001b[1;36m15\u001b[0m, \u001b[1;36m48\u001b[0m, \u001b[1;36m70\u001b[0m, \u001b[1;36m70\u001b[0m, \u001b[1;36m70\u001b[0m, \u001b[1;36m70\u001b[0m, \u001b[1;36m70\u001b[0m, \u001b[1;36m70\u001b[0m,\n",
       "        \u001b[1;36m2\u001b[0m,  \u001b[1;36m2\u001b[0m, \u001b[1;36m23\u001b[0m, \u001b[1;36m44\u001b[0m, \u001b[1;36m70\u001b[0m, \u001b[1;36m70\u001b[0m, \u001b[1;36m70\u001b[0m, \u001b[1;36m70\u001b[0m, \u001b[1;36m70\u001b[0m, \u001b[1;36m70\u001b[0m,  \u001b[1;36m9\u001b[0m,  \u001b[1;36m9\u001b[0m,  \u001b[1;36m9\u001b[0m, \u001b[1;36m43\u001b[0m, \u001b[1;36m43\u001b[0m, \u001b[1;36m43\u001b[0m, \u001b[1;36m58\u001b[0m,\n",
       "       \u001b[1;36m58\u001b[0m, \u001b[1;36m58\u001b[0m, \u001b[1;36m33\u001b[0m, \u001b[1;36m34\u001b[0m, \u001b[1;36m71\u001b[0m, \u001b[1;36m71\u001b[0m, \u001b[1;36m71\u001b[0m, \u001b[1;36m71\u001b[0m, \u001b[1;36m71\u001b[0m, \u001b[1;36m71\u001b[0m,  \u001b[1;36m3\u001b[0m,  \u001b[1;36m5\u001b[0m, \u001b[1;36m51\u001b[0m, \u001b[1;36m51\u001b[0m, \u001b[1;36m65\u001b[0m, \u001b[1;36m65\u001b[0m, \u001b[1;36m65\u001b[0m,\n",
       "       \u001b[1;36m65\u001b[0m, \u001b[1;36m19\u001b[0m, \u001b[1;36m19\u001b[0m, \u001b[1;36m66\u001b[0m, \u001b[1;36m66\u001b[0m, \u001b[1;36m66\u001b[0m, \u001b[1;36m66\u001b[0m, \u001b[1;36m66\u001b[0m, \u001b[1;36m66\u001b[0m, \u001b[1;36m31\u001b[0m, \u001b[1;36m31\u001b[0m, \u001b[1;36m31\u001b[0m, \u001b[1;36m31\u001b[0m, \u001b[1;36m63\u001b[0m, \u001b[1;36m63\u001b[0m, \u001b[1;36m68\u001b[0m, \u001b[1;36m68\u001b[0m,\n",
       "       \u001b[1;36m19\u001b[0m, \u001b[1;36m19\u001b[0m, \u001b[1;36m19\u001b[0m, \u001b[1;36m19\u001b[0m, \u001b[1;36m41\u001b[0m, \u001b[1;36m41\u001b[0m, \u001b[1;36m52\u001b[0m, \u001b[1;36m52\u001b[0m, \u001b[1;36m12\u001b[0m, \u001b[1;36m12\u001b[0m, \u001b[1;36m37\u001b[0m, \u001b[1;36m37\u001b[0m, \u001b[1;36m40\u001b[0m, \u001b[1;36m40\u001b[0m, \u001b[1;36m63\u001b[0m,  \u001b[1;36m1\u001b[0m,  \u001b[1;36m1\u001b[0m,\n",
       "       \u001b[1;36m39\u001b[0m, \u001b[1;36m39\u001b[0m, \u001b[1;36m64\u001b[0m, \u001b[1;36m64\u001b[0m, \u001b[1;36m12\u001b[0m, \u001b[1;36m12\u001b[0m, \u001b[1;36m12\u001b[0m, \u001b[1;36m12\u001b[0m, \u001b[1;36m30\u001b[0m, \u001b[1;36m30\u001b[0m, \u001b[1;36m27\u001b[0m, \u001b[1;36m33\u001b[0m, \u001b[1;36m33\u001b[0m, \u001b[1;36m33\u001b[0m, \u001b[1;36m33\u001b[0m, \u001b[1;36m35\u001b[0m,  \u001b[1;36m2\u001b[0m,\n",
       "        \u001b[1;36m2\u001b[0m, \u001b[1;36m44\u001b[0m, \u001b[1;36m44\u001b[0m, \u001b[1;36m60\u001b[0m, \u001b[1;36m60\u001b[0m, \u001b[1;36m45\u001b[0m, \u001b[1;36m45\u001b[0m, \u001b[1;36m70\u001b[0m, \u001b[1;36m70\u001b[0m, \u001b[1;36m70\u001b[0m, \u001b[1;36m70\u001b[0m, \u001b[1;36m54\u001b[0m, \u001b[1;36m54\u001b[0m, \u001b[1;36m69\u001b[0m, \u001b[1;36m69\u001b[0m, \u001b[1;36m69\u001b[0m, \u001b[1;36m69\u001b[0m,\n",
       "        \u001b[1;36m2\u001b[0m,  \u001b[1;36m5\u001b[0m, \u001b[1;36m53\u001b[0m, \u001b[1;36m53\u001b[0m, \u001b[1;36m53\u001b[0m,  \u001b[1;36m1\u001b[0m, \u001b[1;36m22\u001b[0m, \u001b[1;36m71\u001b[0m, \u001b[1;36m71\u001b[0m, \u001b[1;36m71\u001b[0m, \u001b[1;36m28\u001b[0m, \u001b[1;36m30\u001b[0m, \u001b[1;36m70\u001b[0m, \u001b[1;36m70\u001b[0m, \u001b[1;36m70\u001b[0m, \u001b[1;36m20\u001b[0m, \u001b[1;36m57\u001b[0m,\n",
       "       \u001b[1;36m53\u001b[0m, \u001b[1;36m53\u001b[0m, \u001b[1;36m53\u001b[0m,  \u001b[1;36m6\u001b[0m, \u001b[1;36m27\u001b[0m, \u001b[1;36m27\u001b[0m, \u001b[1;36m60\u001b[0m, \u001b[1;36m28\u001b[0m, \u001b[1;36m59\u001b[0m, \u001b[1;36m70\u001b[0m, \u001b[1;36m70\u001b[0m,  \u001b[1;36m5\u001b[0m,  \u001b[1;36m5\u001b[0m, \u001b[1;36m51\u001b[0m, \u001b[1;36m62\u001b[0m,  \u001b[1;36m1\u001b[0m, \u001b[1;36m50\u001b[0m,\n",
       "       \u001b[1;36m67\u001b[0m, \u001b[1;36m67\u001b[0m, \u001b[1;36m27\u001b[0m, \u001b[1;36m27\u001b[0m, \u001b[1;36m56\u001b[0m, \u001b[1;36m59\u001b[0m,  \u001b[1;36m2\u001b[0m, \u001b[1;36m34\u001b[0m, \u001b[1;36m48\u001b[0m, \u001b[1;36m48\u001b[0m, \u001b[1;36m22\u001b[0m, \u001b[1;36m24\u001b[0m, \u001b[1;36m57\u001b[0m, \u001b[1;36m57\u001b[0m, \u001b[1;36m68\u001b[0m, \u001b[1;36m68\u001b[0m, \u001b[1;36m68\u001b[0m,\n",
       "       \u001b[1;36m68\u001b[0m,  \u001b[1;36m3\u001b[0m,  \u001b[1;36m3\u001b[0m,  \u001b[1;36m3\u001b[0m, \u001b[1;36m68\u001b[0m, \u001b[1;36m43\u001b[0m, \u001b[1;36m43\u001b[0m, \u001b[1;36m65\u001b[0m, \u001b[1;36m65\u001b[0m, \u001b[1;36m20\u001b[0m, \u001b[1;36m27\u001b[0m, \u001b[1;36m27\u001b[0m, \u001b[1;36m38\u001b[0m, \u001b[1;36m20\u001b[0m, \u001b[1;36m63\u001b[0m, \u001b[1;36m63\u001b[0m, \u001b[1;36m63\u001b[0m,\n",
       "       \u001b[1;36m27\u001b[0m, \u001b[1;36m50\u001b[0m, \u001b[1;36m50\u001b[0m, \u001b[1;36m57\u001b[0m, \u001b[1;36m27\u001b[0m, \u001b[1;36m27\u001b[0m, \u001b[1;36m54\u001b[0m, \u001b[1;36m59\u001b[0m, \u001b[1;36m19\u001b[0m, \u001b[1;36m26\u001b[0m, \u001b[1;36m27\u001b[0m, \u001b[1;36m27\u001b[0m, \u001b[1;36m30\u001b[0m, \u001b[1;36m39\u001b[0m, \u001b[1;36m47\u001b[0m, \u001b[1;36m47\u001b[0m, \u001b[1;36m61\u001b[0m,\n",
       "        \u001b[1;36m4\u001b[0m, \u001b[1;36m40\u001b[0m, \u001b[1;36m53\u001b[0m,  \u001b[1;36m5\u001b[0m, \u001b[1;36m24\u001b[0m, \u001b[1;36m70\u001b[0m, \u001b[1;36m65\u001b[0m, \u001b[1;36m66\u001b[0m, \u001b[1;36m66\u001b[0m, \u001b[1;36m34\u001b[0m, \u001b[1;36m70\u001b[0m, \u001b[1;36m33\u001b[0m, \u001b[1;36m53\u001b[0m, \u001b[1;36m17\u001b[0m, \u001b[1;36m56\u001b[0m, \u001b[1;36m54\u001b[0m, \u001b[1;36m70\u001b[0m,\n",
       "        \u001b[1;36m0\u001b[0m,  \u001b[1;36m0\u001b[0m,  \u001b[1;36m0\u001b[0m,  \u001b[1;36m0\u001b[0m,  \u001b[1;36m0\u001b[0m,  \u001b[1;36m0\u001b[0m,  \u001b[1;36m0\u001b[0m,  \u001b[1;36m0\u001b[0m,  \u001b[1;36m0\u001b[0m,  \u001b[1;36m0\u001b[0m,  \u001b[1;36m0\u001b[0m,  \u001b[1;36m0\u001b[0m,  \u001b[1;36m0\u001b[0m,  \u001b[1;36m0\u001b[0m,  \u001b[1;36m0\u001b[0m,  \u001b[1;36m0\u001b[0m,  \u001b[1;36m0\u001b[0m,\n",
       "        \u001b[1;36m0\u001b[0m,  \u001b[1;36m0\u001b[0m\u001b[1m]\u001b[0m, \u001b[33mdtype\u001b[0m=\u001b[35mint16\u001b[0m\u001b[1m)\u001b[0m,\n",
       "        \u001b[33mfrac\u001b[0m=\u001b[1;35mArray\u001b[0m\u001b[1m(\u001b[0m\u001b[1m[\u001b[0m\u001b[1m[\u001b[0m\u001b[1;36m0.21012239\u001b[0m, \u001b[1;36m0.5293284\u001b[0m , \u001b[1;36m0.51457256\u001b[0m\u001b[1m]\u001b[0m,\n",
       "       \u001b[1m[\u001b[0m\u001b[1;36m0.36718404\u001b[0m, \u001b[1;36m0.37243938\u001b[0m, \u001b[1;36m0.13592707\u001b[0m\u001b[1m]\u001b[0m,\n",
       "       \u001b[1m[\u001b[0m\u001b[1;36m0.63281596\u001b[0m, \u001b[1;36m0.6275606\u001b[0m , \u001b[1;36m0.8640729\u001b[0m \u001b[1m]\u001b[0m,\n",
       "       \u001b[33m...\u001b[0m,\n",
       "       \u001b[1m[\u001b[0m\u001b[1;36m0\u001b[0m.        , \u001b[1;36m0\u001b[0m.        , \u001b[1;36m0\u001b[0m.        \u001b[1m]\u001b[0m,\n",
       "       \u001b[1m[\u001b[0m\u001b[1;36m0\u001b[0m.        , \u001b[1;36m0\u001b[0m.        , \u001b[1;36m0\u001b[0m.        \u001b[1m]\u001b[0m,\n",
       "       \u001b[1m[\u001b[0m\u001b[1;36m0\u001b[0m.        , \u001b[1;36m0\u001b[0m.        , \u001b[1;36m0\u001b[0m.        \u001b[1m]\u001b[0m\u001b[1m]\u001b[0m, \u001b[33mdtype\u001b[0m=\u001b[35mfloat32\u001b[0m\u001b[1m)\u001b[0m,\n",
       "        \u001b[33mcart\u001b[0m=\u001b[1;35mArray\u001b[0m\u001b[1m(\u001b[0m\u001b[1m[\u001b[0m\u001b[1m[\u001b[0m\u001b[1;36m-0.26378998\u001b[0m,  \u001b[1;36m1.3603293\u001b[0m ,  \u001b[1;36m3.785032\u001b[0m  \u001b[1m]\u001b[0m,\n",
       "       \u001b[1m[\u001b[0m \u001b[1;36m2.1203477\u001b[0m ,  \u001b[1;36m1.377736\u001b[0m  ,  \u001b[1;36m0.8357895\u001b[0m \u001b[1m]\u001b[0m,\n",
       "       \u001b[1m[\u001b[0m \u001b[1;36m2.674069\u001b[0m  ,  \u001b[1;36m0.9959503\u001b[0m ,  \u001b[1;36m6.254862\u001b[0m  \u001b[1m]\u001b[0m,\n",
       "       \u001b[33m...\u001b[0m,\n",
       "       \u001b[1m[\u001b[0m \u001b[1;36m0\u001b[0m.        ,  \u001b[1;36m0\u001b[0m.        ,  \u001b[1;36m0\u001b[0m.        \u001b[1m]\u001b[0m,\n",
       "       \u001b[1m[\u001b[0m \u001b[1;36m0\u001b[0m.        ,  \u001b[1;36m0\u001b[0m.        ,  \u001b[1;36m0\u001b[0m.        \u001b[1m]\u001b[0m,\n",
       "       \u001b[1m[\u001b[0m \u001b[1;36m0\u001b[0m.        ,  \u001b[1;36m0\u001b[0m.        ,  \u001b[1;36m0\u001b[0m.        \u001b[1m]\u001b[0m\u001b[1m]\u001b[0m, \u001b[33mdtype\u001b[0m=\u001b[35mfloat32\u001b[0m\u001b[1m)\u001b[0m,\n",
       "        \u001b[33mincoming\u001b[0m=\u001b[1;35mArray\u001b[0m\u001b[1m(\u001b[0m\u001b[1m[\u001b[0m\u001b[1m[\u001b[0m  \u001b[1;36m30\u001b[0m,   \u001b[1;36m53\u001b[0m,   \u001b[1;36m67\u001b[0m, \u001b[33m...\u001b[0m,    \u001b[1;36m0\u001b[0m,    \u001b[1;36m0\u001b[0m,    \u001b[1;36m0\u001b[0m\u001b[1m]\u001b[0m,\n",
       "       \u001b[1m[\u001b[0m  \u001b[1;36m10\u001b[0m,   \u001b[1;36m47\u001b[0m,   \u001b[1;36m73\u001b[0m, \u001b[33m...\u001b[0m,    \u001b[1;36m0\u001b[0m,    \u001b[1;36m0\u001b[0m,    \u001b[1;36m0\u001b[0m\u001b[1m]\u001b[0m,\n",
       "       \u001b[1m[\u001b[0m  \u001b[1;36m13\u001b[0m,   \u001b[1;36m27\u001b[0m,   \u001b[1;36m70\u001b[0m, \u001b[33m...\u001b[0m,    \u001b[1;36m0\u001b[0m,    \u001b[1;36m0\u001b[0m,    \u001b[1;36m0\u001b[0m\u001b[1m]\u001b[0m,\n",
       "       \u001b[33m...\u001b[0m,\n",
       "       \u001b[1m[\u001b[0m\u001b[1;36m9848\u001b[0m, \u001b[1;36m9848\u001b[0m, \u001b[1;36m9848\u001b[0m, \u001b[33m...\u001b[0m, \u001b[1;36m9848\u001b[0m, \u001b[1;36m9848\u001b[0m, \u001b[1;36m9848\u001b[0m\u001b[1m]\u001b[0m,\n",
       "       \u001b[1m[\u001b[0m\u001b[1;36m9848\u001b[0m, \u001b[1;36m9848\u001b[0m, \u001b[1;36m9848\u001b[0m, \u001b[33m...\u001b[0m, \u001b[1;36m9848\u001b[0m, \u001b[1;36m9848\u001b[0m, \u001b[1;36m9848\u001b[0m\u001b[1m]\u001b[0m,\n",
       "       \u001b[1m[\u001b[0m\u001b[1;36m9848\u001b[0m, \u001b[1;36m9848\u001b[0m, \u001b[1;36m9848\u001b[0m, \u001b[33m...\u001b[0m, \u001b[1;36m9848\u001b[0m, \u001b[1;36m9848\u001b[0m, \u001b[1;36m9848\u001b[0m\u001b[1m]\u001b[0m\u001b[1m]\u001b[0m, \u001b[33mdtype\u001b[0m=\u001b[35mint32\u001b[0m\u001b[1m)\u001b[0m,\n",
       "        \u001b[33mincoming_pad\u001b[0m=\u001b[1;35mArray\u001b[0m\u001b[1m(\u001b[0m\u001b[1m[\u001b[0m\u001b[1m[\u001b[0m \u001b[3;92mTrue\u001b[0m,  \u001b[3;92mTrue\u001b[0m,  \u001b[3;92mTrue\u001b[0m, \u001b[33m...\u001b[0m, \u001b[3;91mFalse\u001b[0m, \u001b[3;91mFalse\u001b[0m, \u001b[3;91mFalse\u001b[0m\u001b[1m]\u001b[0m,\n",
       "       \u001b[1m[\u001b[0m \u001b[3;92mTrue\u001b[0m,  \u001b[3;92mTrue\u001b[0m,  \u001b[3;92mTrue\u001b[0m, \u001b[33m...\u001b[0m, \u001b[3;91mFalse\u001b[0m, \u001b[3;91mFalse\u001b[0m, \u001b[3;91mFalse\u001b[0m\u001b[1m]\u001b[0m,\n",
       "       \u001b[1m[\u001b[0m \u001b[3;92mTrue\u001b[0m,  \u001b[3;92mTrue\u001b[0m,  \u001b[3;92mTrue\u001b[0m, \u001b[33m...\u001b[0m, \u001b[3;91mFalse\u001b[0m, \u001b[3;91mFalse\u001b[0m, \u001b[3;91mFalse\u001b[0m\u001b[1m]\u001b[0m,\n",
       "       \u001b[33m...\u001b[0m,\n",
       "       \u001b[1m[\u001b[0m\u001b[3;91mFalse\u001b[0m, \u001b[3;91mFalse\u001b[0m, \u001b[3;91mFalse\u001b[0m, \u001b[33m...\u001b[0m, \u001b[3;91mFalse\u001b[0m, \u001b[3;91mFalse\u001b[0m, \u001b[3;91mFalse\u001b[0m\u001b[1m]\u001b[0m,\n",
       "       \u001b[1m[\u001b[0m\u001b[3;91mFalse\u001b[0m, \u001b[3;91mFalse\u001b[0m, \u001b[3;91mFalse\u001b[0m, \u001b[33m...\u001b[0m, \u001b[3;91mFalse\u001b[0m, \u001b[3;91mFalse\u001b[0m, \u001b[3;91mFalse\u001b[0m\u001b[1m]\u001b[0m,\n",
       "       \u001b[1m[\u001b[0m\u001b[3;91mFalse\u001b[0m, \u001b[3;91mFalse\u001b[0m, \u001b[3;91mFalse\u001b[0m, \u001b[33m...\u001b[0m, \u001b[3;91mFalse\u001b[0m, \u001b[3;91mFalse\u001b[0m, \u001b[3;91mFalse\u001b[0m\u001b[1m]\u001b[0m\u001b[1m]\u001b[0m, \u001b[33mdtype\u001b[0m=\u001b[35mbool\u001b[0m\u001b[1m)\u001b[0m,\n",
       "        \u001b[33moutgoing\u001b[0m=\u001b[1;35mArray\u001b[0m\u001b[1m(\u001b[0m\u001b[1m[\u001b[0m\u001b[1m[\u001b[0m   \u001b[1;36m0\u001b[0m,    \u001b[1;36m1\u001b[0m,    \u001b[1;36m2\u001b[0m, \u001b[33m...\u001b[0m,   \u001b[1;36m17\u001b[0m,   \u001b[1;36m18\u001b[0m,   \u001b[1;36m19\u001b[0m\u001b[1m]\u001b[0m,\n",
       "       \u001b[1m[\u001b[0m  \u001b[1;36m20\u001b[0m,   \u001b[1;36m21\u001b[0m,   \u001b[1;36m22\u001b[0m, \u001b[33m...\u001b[0m,   \u001b[1;36m37\u001b[0m,   \u001b[1;36m38\u001b[0m,   \u001b[1;36m39\u001b[0m\u001b[1m]\u001b[0m,\n",
       "       \u001b[1m[\u001b[0m  \u001b[1;36m40\u001b[0m,   \u001b[1;36m41\u001b[0m,   \u001b[1;36m42\u001b[0m, \u001b[33m...\u001b[0m,   \u001b[1;36m57\u001b[0m,   \u001b[1;36m58\u001b[0m,   \u001b[1;36m59\u001b[0m\u001b[1m]\u001b[0m,\n",
       "       \u001b[33m...\u001b[0m,\n",
       "       \u001b[1m[\u001b[0m\u001b[1;36m9848\u001b[0m, \u001b[1;36m9848\u001b[0m, \u001b[1;36m9848\u001b[0m, \u001b[33m...\u001b[0m, \u001b[1;36m9848\u001b[0m, \u001b[1;36m9848\u001b[0m, \u001b[1;36m9848\u001b[0m\u001b[1m]\u001b[0m,\n",
       "       \u001b[1m[\u001b[0m\u001b[1;36m9848\u001b[0m, \u001b[1;36m9848\u001b[0m, \u001b[1;36m9848\u001b[0m, \u001b[33m...\u001b[0m, \u001b[1;36m9848\u001b[0m, \u001b[1;36m9848\u001b[0m, \u001b[1;36m9848\u001b[0m\u001b[1m]\u001b[0m,\n",
       "       \u001b[1m[\u001b[0m\u001b[1;36m9848\u001b[0m, \u001b[1;36m9848\u001b[0m, \u001b[1;36m9848\u001b[0m, \u001b[33m...\u001b[0m, \u001b[1;36m9848\u001b[0m, \u001b[1;36m9848\u001b[0m, \u001b[1;36m9848\u001b[0m\u001b[1m]\u001b[0m\u001b[1m]\u001b[0m, \u001b[33mdtype\u001b[0m=\u001b[35mint32\u001b[0m\u001b[1m)\u001b[0m,\n",
       "        \u001b[33moutgoing_pad\u001b[0m=\u001b[1;35mArray\u001b[0m\u001b[1m(\u001b[0m\u001b[1m[\u001b[0m\u001b[1m[\u001b[0m \u001b[3;92mTrue\u001b[0m,  \u001b[3;92mTrue\u001b[0m,  \u001b[3;92mTrue\u001b[0m, \u001b[33m...\u001b[0m,  \u001b[3;92mTrue\u001b[0m,  \u001b[3;92mTrue\u001b[0m,  \u001b[3;92mTrue\u001b[0m\u001b[1m]\u001b[0m,\n",
       "       \u001b[1m[\u001b[0m \u001b[3;92mTrue\u001b[0m,  \u001b[3;92mTrue\u001b[0m,  \u001b[3;92mTrue\u001b[0m, \u001b[33m...\u001b[0m,  \u001b[3;92mTrue\u001b[0m,  \u001b[3;92mTrue\u001b[0m,  \u001b[3;92mTrue\u001b[0m\u001b[1m]\u001b[0m,\n",
       "       \u001b[1m[\u001b[0m \u001b[3;92mTrue\u001b[0m,  \u001b[3;92mTrue\u001b[0m,  \u001b[3;92mTrue\u001b[0m, \u001b[33m...\u001b[0m,  \u001b[3;92mTrue\u001b[0m,  \u001b[3;92mTrue\u001b[0m,  \u001b[3;92mTrue\u001b[0m\u001b[1m]\u001b[0m,\n",
       "       \u001b[33m...\u001b[0m,\n",
       "       \u001b[1m[\u001b[0m\u001b[3;91mFalse\u001b[0m, \u001b[3;91mFalse\u001b[0m, \u001b[3;91mFalse\u001b[0m, \u001b[33m...\u001b[0m, \u001b[3;91mFalse\u001b[0m, \u001b[3;91mFalse\u001b[0m, \u001b[3;91mFalse\u001b[0m\u001b[1m]\u001b[0m,\n",
       "       \u001b[1m[\u001b[0m\u001b[3;91mFalse\u001b[0m, \u001b[3;91mFalse\u001b[0m, \u001b[3;91mFalse\u001b[0m, \u001b[33m...\u001b[0m, \u001b[3;91mFalse\u001b[0m, \u001b[3;91mFalse\u001b[0m, \u001b[3;91mFalse\u001b[0m\u001b[1m]\u001b[0m,\n",
       "       \u001b[1m[\u001b[0m\u001b[3;91mFalse\u001b[0m, \u001b[3;91mFalse\u001b[0m, \u001b[3;91mFalse\u001b[0m, \u001b[33m...\u001b[0m, \u001b[3;91mFalse\u001b[0m, \u001b[3;91mFalse\u001b[0m, \u001b[3;91mFalse\u001b[0m\u001b[1m]\u001b[0m\u001b[1m]\u001b[0m, \u001b[33mdtype\u001b[0m=\u001b[35mbool\u001b[0m\u001b[1m)\u001b[0m,\n",
       "        \u001b[33mgraph_i\u001b[0m=\u001b[1;35mArray\u001b[0m\u001b[1m(\u001b[0m\u001b[1m[\u001b[0m \u001b[1;36m0\u001b[0m,  \u001b[1;36m0\u001b[0m,  \u001b[1;36m0\u001b[0m,  \u001b[1;36m0\u001b[0m,  \u001b[1;36m0\u001b[0m,  \u001b[1;36m0\u001b[0m,  \u001b[1;36m0\u001b[0m,  \u001b[1;36m0\u001b[0m,  \u001b[1;36m0\u001b[0m,  \u001b[1;36m0\u001b[0m,  \u001b[1;36m0\u001b[0m,  \u001b[1;36m0\u001b[0m,  \u001b[1;36m0\u001b[0m,  \u001b[1;36m0\u001b[0m,  \u001b[1;36m0\u001b[0m,  \u001b[1;36m0\u001b[0m,  \u001b[1;36m0\u001b[0m,\n",
       "        \u001b[1;36m0\u001b[0m,  \u001b[1;36m0\u001b[0m,  \u001b[1;36m0\u001b[0m,  \u001b[1;36m1\u001b[0m,  \u001b[1;36m1\u001b[0m,  \u001b[1;36m1\u001b[0m,  \u001b[1;36m1\u001b[0m,  \u001b[1;36m1\u001b[0m,  \u001b[1;36m1\u001b[0m,  \u001b[1;36m1\u001b[0m,  \u001b[1;36m1\u001b[0m,  \u001b[1;36m1\u001b[0m,  \u001b[1;36m1\u001b[0m,  \u001b[1;36m1\u001b[0m,  \u001b[1;36m1\u001b[0m,  \u001b[1;36m1\u001b[0m,  \u001b[1;36m1\u001b[0m,\n",
       "        \u001b[1;36m1\u001b[0m,  \u001b[1;36m1\u001b[0m,  \u001b[1;36m1\u001b[0m,  \u001b[1;36m1\u001b[0m,  \u001b[1;36m1\u001b[0m,  \u001b[1;36m1\u001b[0m,  \u001b[1;36m2\u001b[0m,  \u001b[1;36m2\u001b[0m,  \u001b[1;36m2\u001b[0m,  \u001b[1;36m2\u001b[0m,  \u001b[1;36m2\u001b[0m,  \u001b[1;36m2\u001b[0m,  \u001b[1;36m2\u001b[0m,  \u001b[1;36m2\u001b[0m,  \u001b[1;36m2\u001b[0m,  \u001b[1;36m2\u001b[0m,  \u001b[1;36m2\u001b[0m,\n",
       "        \u001b[1;36m2\u001b[0m,  \u001b[1;36m2\u001b[0m,  \u001b[1;36m2\u001b[0m,  \u001b[1;36m2\u001b[0m,  \u001b[1;36m2\u001b[0m,  \u001b[1;36m2\u001b[0m,  \u001b[1;36m2\u001b[0m,  \u001b[1;36m2\u001b[0m,  \u001b[1;36m2\u001b[0m,  \u001b[1;36m3\u001b[0m,  \u001b[1;36m3\u001b[0m,  \u001b[1;36m3\u001b[0m,  \u001b[1;36m3\u001b[0m,  \u001b[1;36m3\u001b[0m,  \u001b[1;36m3\u001b[0m,  \u001b[1;36m3\u001b[0m,  \u001b[1;36m3\u001b[0m,\n",
       "        \u001b[1;36m3\u001b[0m,  \u001b[1;36m3\u001b[0m,  \u001b[1;36m3\u001b[0m,  \u001b[1;36m3\u001b[0m,  \u001b[1;36m3\u001b[0m,  \u001b[1;36m3\u001b[0m,  \u001b[1;36m3\u001b[0m,  \u001b[1;36m3\u001b[0m,  \u001b[1;36m3\u001b[0m,  \u001b[1;36m3\u001b[0m,  \u001b[1;36m4\u001b[0m,  \u001b[1;36m4\u001b[0m,  \u001b[1;36m4\u001b[0m,  \u001b[1;36m4\u001b[0m,  \u001b[1;36m4\u001b[0m,  \u001b[1;36m4\u001b[0m,  \u001b[1;36m4\u001b[0m,\n",
       "        \u001b[1;36m4\u001b[0m,  \u001b[1;36m4\u001b[0m,  \u001b[1;36m4\u001b[0m,  \u001b[1;36m4\u001b[0m,  \u001b[1;36m4\u001b[0m,  \u001b[1;36m4\u001b[0m,  \u001b[1;36m4\u001b[0m,  \u001b[1;36m4\u001b[0m,  \u001b[1;36m4\u001b[0m,  \u001b[1;36m4\u001b[0m,  \u001b[1;36m4\u001b[0m,  \u001b[1;36m5\u001b[0m,  \u001b[1;36m5\u001b[0m,  \u001b[1;36m5\u001b[0m,  \u001b[1;36m5\u001b[0m,  \u001b[1;36m5\u001b[0m,  \u001b[1;36m5\u001b[0m,\n",
       "        \u001b[1;36m5\u001b[0m,  \u001b[1;36m5\u001b[0m,  \u001b[1;36m5\u001b[0m,  \u001b[1;36m5\u001b[0m,  \u001b[1;36m5\u001b[0m,  \u001b[1;36m5\u001b[0m,  \u001b[1;36m5\u001b[0m,  \u001b[1;36m5\u001b[0m,  \u001b[1;36m5\u001b[0m,  \u001b[1;36m5\u001b[0m,  \u001b[1;36m6\u001b[0m,  \u001b[1;36m6\u001b[0m,  \u001b[1;36m6\u001b[0m,  \u001b[1;36m6\u001b[0m,  \u001b[1;36m6\u001b[0m,  \u001b[1;36m6\u001b[0m,  \u001b[1;36m6\u001b[0m,\n",
       "        \u001b[1;36m6\u001b[0m,  \u001b[1;36m6\u001b[0m,  \u001b[1;36m6\u001b[0m,  \u001b[1;36m6\u001b[0m,  \u001b[1;36m6\u001b[0m,  \u001b[1;36m6\u001b[0m,  \u001b[1;36m6\u001b[0m,  \u001b[1;36m6\u001b[0m,  \u001b[1;36m6\u001b[0m,  \u001b[1;36m7\u001b[0m,  \u001b[1;36m7\u001b[0m,  \u001b[1;36m7\u001b[0m,  \u001b[1;36m7\u001b[0m,  \u001b[1;36m7\u001b[0m,  \u001b[1;36m7\u001b[0m,  \u001b[1;36m7\u001b[0m,  \u001b[1;36m7\u001b[0m,\n",
       "        \u001b[1;36m7\u001b[0m,  \u001b[1;36m7\u001b[0m,  \u001b[1;36m7\u001b[0m,  \u001b[1;36m7\u001b[0m,  \u001b[1;36m7\u001b[0m,  \u001b[1;36m7\u001b[0m,  \u001b[1;36m7\u001b[0m,  \u001b[1;36m7\u001b[0m,  \u001b[1;36m8\u001b[0m,  \u001b[1;36m8\u001b[0m,  \u001b[1;36m8\u001b[0m,  \u001b[1;36m8\u001b[0m,  \u001b[1;36m8\u001b[0m,  \u001b[1;36m8\u001b[0m,  \u001b[1;36m8\u001b[0m,  \u001b[1;36m8\u001b[0m,  \u001b[1;36m8\u001b[0m,\n",
       "        \u001b[1;36m8\u001b[0m,  \u001b[1;36m8\u001b[0m,  \u001b[1;36m8\u001b[0m,  \u001b[1;36m8\u001b[0m,  \u001b[1;36m8\u001b[0m,  \u001b[1;36m9\u001b[0m,  \u001b[1;36m9\u001b[0m,  \u001b[1;36m9\u001b[0m,  \u001b[1;36m9\u001b[0m,  \u001b[1;36m9\u001b[0m,  \u001b[1;36m9\u001b[0m,  \u001b[1;36m9\u001b[0m,  \u001b[1;36m9\u001b[0m,  \u001b[1;36m9\u001b[0m,  \u001b[1;36m9\u001b[0m,  \u001b[1;36m9\u001b[0m,  \u001b[1;36m9\u001b[0m,\n",
       "        \u001b[1;36m9\u001b[0m,  \u001b[1;36m9\u001b[0m, \u001b[1;36m10\u001b[0m, \u001b[1;36m10\u001b[0m, \u001b[1;36m10\u001b[0m, \u001b[1;36m10\u001b[0m, \u001b[1;36m10\u001b[0m, \u001b[1;36m10\u001b[0m, \u001b[1;36m10\u001b[0m, \u001b[1;36m10\u001b[0m, \u001b[1;36m10\u001b[0m, \u001b[1;36m10\u001b[0m, \u001b[1;36m10\u001b[0m, \u001b[1;36m10\u001b[0m, \u001b[1;36m10\u001b[0m, \u001b[1;36m10\u001b[0m, \u001b[1;36m11\u001b[0m,\n",
       "       \u001b[1;36m11\u001b[0m, \u001b[1;36m11\u001b[0m, \u001b[1;36m11\u001b[0m, \u001b[1;36m11\u001b[0m, \u001b[1;36m11\u001b[0m, \u001b[1;36m11\u001b[0m, \u001b[1;36m11\u001b[0m, \u001b[1;36m11\u001b[0m, \u001b[1;36m11\u001b[0m, \u001b[1;36m11\u001b[0m, \u001b[1;36m11\u001b[0m, \u001b[1;36m11\u001b[0m, \u001b[1;36m11\u001b[0m, \u001b[1;36m12\u001b[0m, \u001b[1;36m12\u001b[0m, \u001b[1;36m12\u001b[0m, \u001b[1;36m12\u001b[0m,\n",
       "       \u001b[1;36m12\u001b[0m, \u001b[1;36m12\u001b[0m, \u001b[1;36m12\u001b[0m, \u001b[1;36m12\u001b[0m, \u001b[1;36m12\u001b[0m, \u001b[1;36m12\u001b[0m, \u001b[1;36m12\u001b[0m, \u001b[1;36m12\u001b[0m, \u001b[1;36m13\u001b[0m, \u001b[1;36m13\u001b[0m, \u001b[1;36m13\u001b[0m, \u001b[1;36m13\u001b[0m, \u001b[1;36m13\u001b[0m, \u001b[1;36m13\u001b[0m, \u001b[1;36m13\u001b[0m, \u001b[1;36m13\u001b[0m, \u001b[1;36m13\u001b[0m,\n",
       "       \u001b[1;36m13\u001b[0m, \u001b[1;36m13\u001b[0m, \u001b[1;36m13\u001b[0m, \u001b[1;36m14\u001b[0m, \u001b[1;36m14\u001b[0m, \u001b[1;36m14\u001b[0m, \u001b[1;36m14\u001b[0m, \u001b[1;36m14\u001b[0m, \u001b[1;36m14\u001b[0m, \u001b[1;36m14\u001b[0m, \u001b[1;36m14\u001b[0m, \u001b[1;36m14\u001b[0m, \u001b[1;36m14\u001b[0m, \u001b[1;36m14\u001b[0m, \u001b[1;36m14\u001b[0m, \u001b[1;36m15\u001b[0m, \u001b[1;36m15\u001b[0m,\n",
       "       \u001b[1;36m15\u001b[0m, \u001b[1;36m15\u001b[0m, \u001b[1;36m15\u001b[0m, \u001b[1;36m15\u001b[0m, \u001b[1;36m15\u001b[0m, \u001b[1;36m15\u001b[0m, \u001b[1;36m15\u001b[0m, \u001b[1;36m15\u001b[0m, \u001b[1;36m15\u001b[0m, \u001b[1;36m15\u001b[0m, \u001b[1;36m16\u001b[0m, \u001b[1;36m16\u001b[0m, \u001b[1;36m16\u001b[0m, \u001b[1;36m16\u001b[0m, \u001b[1;36m16\u001b[0m, \u001b[1;36m16\u001b[0m, \u001b[1;36m16\u001b[0m,\n",
       "       \u001b[1;36m16\u001b[0m, \u001b[1;36m16\u001b[0m, \u001b[1;36m16\u001b[0m, \u001b[1;36m16\u001b[0m, \u001b[1;36m17\u001b[0m, \u001b[1;36m17\u001b[0m, \u001b[1;36m17\u001b[0m, \u001b[1;36m17\u001b[0m, \u001b[1;36m17\u001b[0m, \u001b[1;36m17\u001b[0m, \u001b[1;36m17\u001b[0m, \u001b[1;36m17\u001b[0m, \u001b[1;36m17\u001b[0m, \u001b[1;36m17\u001b[0m, \u001b[1;36m18\u001b[0m, \u001b[1;36m18\u001b[0m, \u001b[1;36m18\u001b[0m,\n",
       "       \u001b[1;36m18\u001b[0m, \u001b[1;36m18\u001b[0m, \u001b[1;36m18\u001b[0m, \u001b[1;36m18\u001b[0m, \u001b[1;36m18\u001b[0m, \u001b[1;36m18\u001b[0m, \u001b[1;36m18\u001b[0m, \u001b[1;36m19\u001b[0m, \u001b[1;36m19\u001b[0m, \u001b[1;36m19\u001b[0m, \u001b[1;36m19\u001b[0m, \u001b[1;36m19\u001b[0m, \u001b[1;36m19\u001b[0m, \u001b[1;36m19\u001b[0m, \u001b[1;36m19\u001b[0m, \u001b[1;36m19\u001b[0m, \u001b[1;36m19\u001b[0m,\n",
       "       \u001b[1;36m20\u001b[0m, \u001b[1;36m20\u001b[0m, \u001b[1;36m20\u001b[0m, \u001b[1;36m20\u001b[0m, \u001b[1;36m20\u001b[0m, \u001b[1;36m20\u001b[0m, \u001b[1;36m20\u001b[0m, \u001b[1;36m20\u001b[0m, \u001b[1;36m20\u001b[0m, \u001b[1;36m20\u001b[0m, \u001b[1;36m21\u001b[0m, \u001b[1;36m21\u001b[0m, \u001b[1;36m21\u001b[0m, \u001b[1;36m21\u001b[0m, \u001b[1;36m21\u001b[0m, \u001b[1;36m21\u001b[0m, \u001b[1;36m21\u001b[0m,\n",
       "       \u001b[1;36m21\u001b[0m, \u001b[1;36m21\u001b[0m, \u001b[1;36m22\u001b[0m, \u001b[1;36m22\u001b[0m, \u001b[1;36m22\u001b[0m, \u001b[1;36m22\u001b[0m, \u001b[1;36m22\u001b[0m, \u001b[1;36m22\u001b[0m, \u001b[1;36m22\u001b[0m, \u001b[1;36m22\u001b[0m, \u001b[1;36m23\u001b[0m, \u001b[1;36m23\u001b[0m, \u001b[1;36m23\u001b[0m, \u001b[1;36m23\u001b[0m, \u001b[1;36m23\u001b[0m, \u001b[1;36m23\u001b[0m, \u001b[1;36m23\u001b[0m,\n",
       "       \u001b[1;36m23\u001b[0m, \u001b[1;36m24\u001b[0m, \u001b[1;36m24\u001b[0m, \u001b[1;36m24\u001b[0m, \u001b[1;36m24\u001b[0m, \u001b[1;36m24\u001b[0m, \u001b[1;36m24\u001b[0m, \u001b[1;36m24\u001b[0m, \u001b[1;36m24\u001b[0m, \u001b[1;36m25\u001b[0m, \u001b[1;36m25\u001b[0m, \u001b[1;36m25\u001b[0m, \u001b[1;36m25\u001b[0m, \u001b[1;36m25\u001b[0m, \u001b[1;36m25\u001b[0m, \u001b[1;36m25\u001b[0m, \u001b[1;36m25\u001b[0m,\n",
       "       \u001b[1;36m26\u001b[0m, \u001b[1;36m26\u001b[0m, \u001b[1;36m26\u001b[0m, \u001b[1;36m26\u001b[0m, \u001b[1;36m26\u001b[0m, \u001b[1;36m26\u001b[0m, \u001b[1;36m26\u001b[0m, \u001b[1;36m26\u001b[0m, \u001b[1;36m27\u001b[0m, \u001b[1;36m27\u001b[0m, \u001b[1;36m27\u001b[0m, \u001b[1;36m27\u001b[0m, \u001b[1;36m27\u001b[0m, \u001b[1;36m27\u001b[0m, \u001b[1;36m27\u001b[0m, \u001b[1;36m28\u001b[0m, \u001b[1;36m28\u001b[0m,\n",
       "       \u001b[1;36m28\u001b[0m, \u001b[1;36m28\u001b[0m, \u001b[1;36m28\u001b[0m, \u001b[1;36m28\u001b[0m, \u001b[1;36m29\u001b[0m, \u001b[1;36m29\u001b[0m, \u001b[1;36m29\u001b[0m, \u001b[1;36m29\u001b[0m, \u001b[1;36m29\u001b[0m, \u001b[1;36m29\u001b[0m, \u001b[1;36m30\u001b[0m, \u001b[1;36m30\u001b[0m, \u001b[1;36m30\u001b[0m, \u001b[1;36m30\u001b[0m, \u001b[1;36m30\u001b[0m, \u001b[1;36m30\u001b[0m, \u001b[1;36m31\u001b[0m,\n",
       "       \u001b[1;36m31\u001b[0m, \u001b[1;36m31\u001b[0m, \u001b[1;36m31\u001b[0m, \u001b[1;36m31\u001b[0m, \u001b[1;36m31\u001b[0m, \u001b[1;36m32\u001b[0m, \u001b[1;36m32\u001b[0m, \u001b[1;36m32\u001b[0m, \u001b[1;36m32\u001b[0m, \u001b[1;36m32\u001b[0m, \u001b[1;36m32\u001b[0m, \u001b[1;36m33\u001b[0m, \u001b[1;36m33\u001b[0m, \u001b[1;36m33\u001b[0m, \u001b[1;36m33\u001b[0m, \u001b[1;36m33\u001b[0m, \u001b[1;36m33\u001b[0m,\n",
       "       \u001b[1;36m34\u001b[0m, \u001b[1;36m34\u001b[0m, \u001b[1;36m34\u001b[0m, \u001b[1;36m34\u001b[0m, \u001b[1;36m34\u001b[0m, \u001b[1;36m35\u001b[0m, \u001b[1;36m35\u001b[0m, \u001b[1;36m35\u001b[0m, \u001b[1;36m35\u001b[0m, \u001b[1;36m35\u001b[0m, \u001b[1;36m36\u001b[0m, \u001b[1;36m36\u001b[0m, \u001b[1;36m36\u001b[0m, \u001b[1;36m36\u001b[0m, \u001b[1;36m36\u001b[0m, \u001b[1;36m37\u001b[0m, \u001b[1;36m37\u001b[0m,\n",
       "       \u001b[1;36m37\u001b[0m, \u001b[1;36m37\u001b[0m, \u001b[1;36m37\u001b[0m, \u001b[1;36m38\u001b[0m, \u001b[1;36m38\u001b[0m, \u001b[1;36m38\u001b[0m, \u001b[1;36m38\u001b[0m, \u001b[1;36m39\u001b[0m, \u001b[1;36m39\u001b[0m, \u001b[1;36m39\u001b[0m, \u001b[1;36m39\u001b[0m, \u001b[1;36m40\u001b[0m, \u001b[1;36m40\u001b[0m, \u001b[1;36m40\u001b[0m, \u001b[1;36m40\u001b[0m, \u001b[1;36m41\u001b[0m, \u001b[1;36m41\u001b[0m,\n",
       "       \u001b[1;36m41\u001b[0m, \u001b[1;36m41\u001b[0m, \u001b[1;36m42\u001b[0m, \u001b[1;36m42\u001b[0m, \u001b[1;36m42\u001b[0m, \u001b[1;36m42\u001b[0m, \u001b[1;36m43\u001b[0m, \u001b[1;36m43\u001b[0m, \u001b[1;36m43\u001b[0m, \u001b[1;36m43\u001b[0m, \u001b[1;36m44\u001b[0m, \u001b[1;36m44\u001b[0m, \u001b[1;36m44\u001b[0m, \u001b[1;36m44\u001b[0m, \u001b[1;36m45\u001b[0m, \u001b[1;36m45\u001b[0m, \u001b[1;36m45\u001b[0m,\n",
       "       \u001b[1;36m45\u001b[0m, \u001b[1;36m46\u001b[0m, \u001b[1;36m46\u001b[0m, \u001b[1;36m46\u001b[0m, \u001b[1;36m46\u001b[0m, \u001b[1;36m47\u001b[0m, \u001b[1;36m47\u001b[0m, \u001b[1;36m47\u001b[0m, \u001b[1;36m47\u001b[0m, \u001b[1;36m48\u001b[0m, \u001b[1;36m48\u001b[0m, \u001b[1;36m48\u001b[0m, \u001b[1;36m48\u001b[0m, \u001b[1;36m49\u001b[0m, \u001b[1;36m49\u001b[0m, \u001b[1;36m49\u001b[0m, \u001b[1;36m49\u001b[0m,\n",
       "       \u001b[1;36m50\u001b[0m, \u001b[1;36m50\u001b[0m, \u001b[1;36m50\u001b[0m, \u001b[1;36m50\u001b[0m, \u001b[1;36m51\u001b[0m, \u001b[1;36m51\u001b[0m, \u001b[1;36m51\u001b[0m, \u001b[1;36m51\u001b[0m, \u001b[1;36m52\u001b[0m, \u001b[1;36m52\u001b[0m, \u001b[1;36m52\u001b[0m, \u001b[1;36m53\u001b[0m, \u001b[1;36m53\u001b[0m, \u001b[1;36m53\u001b[0m, \u001b[1;36m54\u001b[0m, \u001b[1;36m54\u001b[0m, \u001b[1;36m54\u001b[0m,\n",
       "       \u001b[1;36m55\u001b[0m, \u001b[1;36m55\u001b[0m, \u001b[1;36m55\u001b[0m, \u001b[1;36m56\u001b[0m, \u001b[1;36m56\u001b[0m, \u001b[1;36m56\u001b[0m, \u001b[1;36m57\u001b[0m, \u001b[1;36m57\u001b[0m, \u001b[1;36m57\u001b[0m, \u001b[1;36m58\u001b[0m, \u001b[1;36m58\u001b[0m, \u001b[1;36m59\u001b[0m, \u001b[1;36m59\u001b[0m, \u001b[1;36m60\u001b[0m, \u001b[1;36m60\u001b[0m, \u001b[1;36m61\u001b[0m, \u001b[1;36m61\u001b[0m,\n",
       "       \u001b[1;36m62\u001b[0m, \u001b[1;36m62\u001b[0m, \u001b[1;36m62\u001b[0m, \u001b[1;36m62\u001b[0m, \u001b[1;36m62\u001b[0m, \u001b[1;36m62\u001b[0m, \u001b[1;36m62\u001b[0m, \u001b[1;36m62\u001b[0m, \u001b[1;36m62\u001b[0m, \u001b[1;36m62\u001b[0m, \u001b[1;36m62\u001b[0m, \u001b[1;36m62\u001b[0m, \u001b[1;36m62\u001b[0m, \u001b[1;36m62\u001b[0m, \u001b[1;36m62\u001b[0m, \u001b[1;36m62\u001b[0m, \u001b[1;36m62\u001b[0m,\n",
       "       \u001b[1;36m62\u001b[0m, \u001b[1;36m62\u001b[0m\u001b[1m]\u001b[0m, \u001b[33mdtype\u001b[0m=\u001b[35mint32\u001b[0m\u001b[1m)\u001b[0m\n",
       "    \u001b[1m)\u001b[0m,\n",
       "    \u001b[33medges\u001b[0m=\u001b[1;35mEdgeData\u001b[0m\u001b[1m(\u001b[0m\n",
       "        \u001b[33mto_jimage\u001b[0m=\u001b[1;35mArray\u001b[0m\u001b[1m(\u001b[0m\u001b[1m[\u001b[0m\u001b[1m[\u001b[0m\u001b[1;36m0\u001b[0m, \u001b[1;36m0\u001b[0m, \u001b[1;36m0\u001b[0m\u001b[1m]\u001b[0m,\n",
       "       \u001b[1m[\u001b[0m\u001b[1;36m0\u001b[0m, \u001b[1;36m0\u001b[0m, \u001b[1;36m0\u001b[0m\u001b[1m]\u001b[0m,\n",
       "       \u001b[1m[\u001b[0m\u001b[1;36m0\u001b[0m, \u001b[1;36m0\u001b[0m, \u001b[1;36m0\u001b[0m\u001b[1m]\u001b[0m,\n",
       "       \u001b[33m...\u001b[0m,\n",
       "       \u001b[1m[\u001b[0m\u001b[1;36m0\u001b[0m, \u001b[1;36m0\u001b[0m, \u001b[1;36m0\u001b[0m\u001b[1m]\u001b[0m,\n",
       "       \u001b[1m[\u001b[0m\u001b[1;36m0\u001b[0m, \u001b[1;36m0\u001b[0m, \u001b[1;36m0\u001b[0m\u001b[1m]\u001b[0m,\n",
       "       \u001b[1m[\u001b[0m\u001b[1;36m0\u001b[0m, \u001b[1;36m0\u001b[0m, \u001b[1;36m0\u001b[0m\u001b[1m]\u001b[0m\u001b[1m]\u001b[0m, \u001b[33mdtype\u001b[0m=\u001b[35mint8\u001b[0m\u001b[1m)\u001b[0m,\n",
       "        \u001b[33mgraph_i\u001b[0m=\u001b[1;35mArray\u001b[0m\u001b[1m(\u001b[0m\u001b[1m[\u001b[0m \u001b[1;36m0\u001b[0m,  \u001b[1;36m0\u001b[0m,  \u001b[1;36m0\u001b[0m, \u001b[33m...\u001b[0m, \u001b[1;36m62\u001b[0m, \u001b[1;36m62\u001b[0m, \u001b[1;36m62\u001b[0m\u001b[1m]\u001b[0m, \u001b[33mdtype\u001b[0m=\u001b[35mint32\u001b[0m\u001b[1m)\u001b[0m,\n",
       "        \u001b[33msender\u001b[0m=\u001b[1;35mArray\u001b[0m\u001b[1m(\u001b[0m\u001b[1m[\u001b[0m  \u001b[1;36m0\u001b[0m,   \u001b[1;36m0\u001b[0m,   \u001b[1;36m0\u001b[0m, \u001b[33m...\u001b[0m, \u001b[1;36m493\u001b[0m, \u001b[1;36m493\u001b[0m, \u001b[1;36m493\u001b[0m\u001b[1m]\u001b[0m, \u001b[33mdtype\u001b[0m=\u001b[35mint32\u001b[0m\u001b[1m)\u001b[0m,\n",
       "        \u001b[33mreceiver\u001b[0m=\u001b[1;35mArray\u001b[0m\u001b[1m(\u001b[0m\u001b[1m[\u001b[0m  \u001b[1;36m4\u001b[0m,  \u001b[1;36m15\u001b[0m,  \u001b[1;36m14\u001b[0m, \u001b[33m...\u001b[0m, \u001b[1;36m493\u001b[0m, \u001b[1;36m493\u001b[0m, \u001b[1;36m493\u001b[0m\u001b[1m]\u001b[0m, \u001b[33mdtype\u001b[0m=\u001b[35mint32\u001b[0m\u001b[1m)\u001b[0m\n",
       "    \u001b[1m)\u001b[0m,\n",
       "    \u001b[33mn_node\u001b[0m=\u001b[1;35mArray\u001b[0m\u001b[1m(\u001b[0m\u001b[1m[\u001b[0m\u001b[1;36m20\u001b[0m, \u001b[1;36m20\u001b[0m, \u001b[1;36m20\u001b[0m, \u001b[1;36m18\u001b[0m, \u001b[1;36m18\u001b[0m, \u001b[1;36m16\u001b[0m, \u001b[1;36m16\u001b[0m, \u001b[1;36m16\u001b[0m, \u001b[1;36m14\u001b[0m, \u001b[1;36m14\u001b[0m, \u001b[1;36m14\u001b[0m, \u001b[1;36m14\u001b[0m, \u001b[1;36m12\u001b[0m, \u001b[1;36m12\u001b[0m, \u001b[1;36m12\u001b[0m, \u001b[1;36m12\u001b[0m, \u001b[1;36m11\u001b[0m,\n",
       "       \u001b[1;36m10\u001b[0m, \u001b[1;36m10\u001b[0m, \u001b[1;36m10\u001b[0m, \u001b[1;36m10\u001b[0m,  \u001b[1;36m9\u001b[0m,  \u001b[1;36m8\u001b[0m,  \u001b[1;36m8\u001b[0m,  \u001b[1;36m8\u001b[0m,  \u001b[1;36m8\u001b[0m,  \u001b[1;36m8\u001b[0m,  \u001b[1;36m7\u001b[0m,  \u001b[1;36m6\u001b[0m,  \u001b[1;36m6\u001b[0m,  \u001b[1;36m6\u001b[0m,  \u001b[1;36m6\u001b[0m,  \u001b[1;36m6\u001b[0m,  \u001b[1;36m6\u001b[0m,\n",
       "        \u001b[1;36m5\u001b[0m,  \u001b[1;36m5\u001b[0m,  \u001b[1;36m5\u001b[0m,  \u001b[1;36m5\u001b[0m,  \u001b[1;36m4\u001b[0m,  \u001b[1;36m4\u001b[0m,  \u001b[1;36m4\u001b[0m,  \u001b[1;36m4\u001b[0m,  \u001b[1;36m4\u001b[0m,  \u001b[1;36m4\u001b[0m,  \u001b[1;36m4\u001b[0m,  \u001b[1;36m4\u001b[0m,  \u001b[1;36m4\u001b[0m,  \u001b[1;36m4\u001b[0m,  \u001b[1;36m4\u001b[0m,  \u001b[1;36m4\u001b[0m,  \u001b[1;36m4\u001b[0m,\n",
       "        \u001b[1;36m4\u001b[0m,  \u001b[1;36m3\u001b[0m,  \u001b[1;36m3\u001b[0m,  \u001b[1;36m3\u001b[0m,  \u001b[1;36m3\u001b[0m,  \u001b[1;36m3\u001b[0m,  \u001b[1;36m3\u001b[0m,  \u001b[1;36m2\u001b[0m,  \u001b[1;36m2\u001b[0m,  \u001b[1;36m2\u001b[0m,  \u001b[1;36m2\u001b[0m, \u001b[1;36m19\u001b[0m,  \u001b[1;36m0\u001b[0m\u001b[1m]\u001b[0m, \u001b[33mdtype\u001b[0m=\u001b[35mint32\u001b[0m\u001b[1m)\u001b[0m,\n",
       "    \u001b[33mn_edge\u001b[0m=\u001b[1;35mArray\u001b[0m\u001b[1m(\u001b[0m\u001b[1m[\u001b[0m\u001b[1;36m400\u001b[0m, \u001b[1;36m400\u001b[0m, \u001b[1;36m400\u001b[0m, \u001b[1;36m360\u001b[0m, \u001b[1;36m360\u001b[0m, \u001b[1;36m320\u001b[0m, \u001b[1;36m320\u001b[0m, \u001b[1;36m320\u001b[0m, \u001b[1;36m280\u001b[0m, \u001b[1;36m280\u001b[0m, \u001b[1;36m280\u001b[0m, \u001b[1;36m280\u001b[0m, \u001b[1;36m240\u001b[0m,\n",
       "       \u001b[1;36m240\u001b[0m, \u001b[1;36m240\u001b[0m, \u001b[1;36m240\u001b[0m, \u001b[1;36m220\u001b[0m, \u001b[1;36m200\u001b[0m, \u001b[1;36m200\u001b[0m, \u001b[1;36m200\u001b[0m, \u001b[1;36m200\u001b[0m, \u001b[1;36m180\u001b[0m, \u001b[1;36m160\u001b[0m, \u001b[1;36m160\u001b[0m, \u001b[1;36m160\u001b[0m, \u001b[1;36m160\u001b[0m,\n",
       "       \u001b[1;36m160\u001b[0m, \u001b[1;36m140\u001b[0m, \u001b[1;36m120\u001b[0m, \u001b[1;36m120\u001b[0m, \u001b[1;36m120\u001b[0m, \u001b[1;36m120\u001b[0m, \u001b[1;36m120\u001b[0m, \u001b[1;36m120\u001b[0m, \u001b[1;36m100\u001b[0m, \u001b[1;36m100\u001b[0m, \u001b[1;36m100\u001b[0m, \u001b[1;36m100\u001b[0m,  \u001b[1;36m80\u001b[0m,\n",
       "        \u001b[1;36m80\u001b[0m,  \u001b[1;36m80\u001b[0m,  \u001b[1;36m80\u001b[0m,  \u001b[1;36m80\u001b[0m,  \u001b[1;36m80\u001b[0m,  \u001b[1;36m80\u001b[0m,  \u001b[1;36m80\u001b[0m,  \u001b[1;36m80\u001b[0m,  \u001b[1;36m80\u001b[0m,  \u001b[1;36m80\u001b[0m,  \u001b[1;36m80\u001b[0m,  \u001b[1;36m80\u001b[0m,  \u001b[1;36m80\u001b[0m,\n",
       "        \u001b[1;36m60\u001b[0m,  \u001b[1;36m60\u001b[0m,  \u001b[1;36m60\u001b[0m,  \u001b[1;36m60\u001b[0m,  \u001b[1;36m60\u001b[0m,  \u001b[1;36m60\u001b[0m,  \u001b[1;36m40\u001b[0m,  \u001b[1;36m40\u001b[0m,  \u001b[1;36m40\u001b[0m,  \u001b[1;36m28\u001b[0m,  \u001b[1;36m24\u001b[0m,   \u001b[1;36m0\u001b[0m\u001b[1m]\u001b[0m,      \u001b[33mdtype\u001b[0m=\u001b[35mint32\u001b[0m\u001b[1m)\u001b[0m,\n",
       "    \u001b[33mpadding_mask\u001b[0m=\u001b[1;35mArray\u001b[0m\u001b[1m(\u001b[0m\u001b[1m[\u001b[0m \u001b[3;92mTrue\u001b[0m,  \u001b[3;92mTrue\u001b[0m,  \u001b[3;92mTrue\u001b[0m,  \u001b[3;92mTrue\u001b[0m,  \u001b[3;92mTrue\u001b[0m,  \u001b[3;92mTrue\u001b[0m,  \u001b[3;92mTrue\u001b[0m,  \u001b[3;92mTrue\u001b[0m,  \u001b[3;92mTrue\u001b[0m,\n",
       "        \u001b[3;92mTrue\u001b[0m,  \u001b[3;92mTrue\u001b[0m,  \u001b[3;92mTrue\u001b[0m,  \u001b[3;92mTrue\u001b[0m,  \u001b[3;92mTrue\u001b[0m,  \u001b[3;92mTrue\u001b[0m,  \u001b[3;92mTrue\u001b[0m,  \u001b[3;92mTrue\u001b[0m,  \u001b[3;92mTrue\u001b[0m,\n",
       "        \u001b[3;92mTrue\u001b[0m,  \u001b[3;92mTrue\u001b[0m,  \u001b[3;92mTrue\u001b[0m,  \u001b[3;92mTrue\u001b[0m,  \u001b[3;92mTrue\u001b[0m,  \u001b[3;92mTrue\u001b[0m,  \u001b[3;92mTrue\u001b[0m,  \u001b[3;92mTrue\u001b[0m,  \u001b[3;92mTrue\u001b[0m,\n",
       "        \u001b[3;92mTrue\u001b[0m,  \u001b[3;92mTrue\u001b[0m,  \u001b[3;92mTrue\u001b[0m,  \u001b[3;92mTrue\u001b[0m,  \u001b[3;92mTrue\u001b[0m,  \u001b[3;92mTrue\u001b[0m,  \u001b[3;92mTrue\u001b[0m,  \u001b[3;92mTrue\u001b[0m,  \u001b[3;92mTrue\u001b[0m,\n",
       "        \u001b[3;92mTrue\u001b[0m,  \u001b[3;92mTrue\u001b[0m,  \u001b[3;92mTrue\u001b[0m,  \u001b[3;92mTrue\u001b[0m,  \u001b[3;92mTrue\u001b[0m,  \u001b[3;92mTrue\u001b[0m,  \u001b[3;92mTrue\u001b[0m,  \u001b[3;92mTrue\u001b[0m,  \u001b[3;92mTrue\u001b[0m,\n",
       "        \u001b[3;92mTrue\u001b[0m,  \u001b[3;92mTrue\u001b[0m,  \u001b[3;92mTrue\u001b[0m,  \u001b[3;92mTrue\u001b[0m,  \u001b[3;92mTrue\u001b[0m,  \u001b[3;92mTrue\u001b[0m,  \u001b[3;92mTrue\u001b[0m,  \u001b[3;92mTrue\u001b[0m,  \u001b[3;92mTrue\u001b[0m,\n",
       "        \u001b[3;92mTrue\u001b[0m,  \u001b[3;92mTrue\u001b[0m,  \u001b[3;92mTrue\u001b[0m,  \u001b[3;92mTrue\u001b[0m,  \u001b[3;92mTrue\u001b[0m,  \u001b[3;92mTrue\u001b[0m,  \u001b[3;92mTrue\u001b[0m,  \u001b[3;92mTrue\u001b[0m, \u001b[3;91mFalse\u001b[0m,\n",
       "       \u001b[3;91mFalse\u001b[0m\u001b[1m]\u001b[0m, \u001b[33mdtype\u001b[0m=\u001b[35mbool\u001b[0m\u001b[1m)\u001b[0m,\n",
       "    \u001b[33mgraph_data\u001b[0m=\u001b[1;35mCrystalData\u001b[0m\u001b[1m(\u001b[0m\n",
       "        \u001b[33mdataset_i\u001b[0m=\u001b[1;35mArray\u001b[0m\u001b[1m(\u001b[0m\u001b[1m[\u001b[0m\u001b[1;36m30746\u001b[0m, \u001b[1;36m57708\u001b[0m, \u001b[1;36m21553\u001b[0m,  \u001b[1;36m4336\u001b[0m,   \u001b[1;36m863\u001b[0m, \u001b[1;36m20045\u001b[0m, \u001b[1;36m18129\u001b[0m, \u001b[1;36m56885\u001b[0m, \u001b[1;36m32277\u001b[0m,\n",
       "       \u001b[1;36m21562\u001b[0m, \u001b[1;36m51309\u001b[0m, \u001b[1;36m38962\u001b[0m, \u001b[1;36m33506\u001b[0m, \u001b[1;36m21470\u001b[0m, \u001b[1;36m55395\u001b[0m, \u001b[1;36m40844\u001b[0m, \u001b[1;36m60716\u001b[0m, \u001b[1;36m20069\u001b[0m,\n",
       "       \u001b[1;36m37578\u001b[0m, \u001b[1;36m24754\u001b[0m, \u001b[1;36m15368\u001b[0m, \u001b[1;36m56133\u001b[0m, \u001b[1;36m28395\u001b[0m, \u001b[1;36m37496\u001b[0m, \u001b[1;36m20979\u001b[0m,  \u001b[1;36m5851\u001b[0m,  \u001b[1;36m1932\u001b[0m,\n",
       "       \u001b[1;36m15896\u001b[0m, \u001b[1;36m43589\u001b[0m, \u001b[1;36m16853\u001b[0m,  \u001b[1;36m9347\u001b[0m, \u001b[1;36m14284\u001b[0m, \u001b[1;36m19835\u001b[0m, \u001b[1;36m26842\u001b[0m, \u001b[1;36m51195\u001b[0m, \u001b[1;36m49406\u001b[0m,\n",
       "       \u001b[1;36m30466\u001b[0m, \u001b[1;36m51817\u001b[0m,  \u001b[1;36m9696\u001b[0m, \u001b[1;36m52967\u001b[0m,  \u001b[1;36m7632\u001b[0m, \u001b[1;36m54501\u001b[0m,  \u001b[1;36m9288\u001b[0m,  \u001b[1;36m3453\u001b[0m, \u001b[1;36m30544\u001b[0m,\n",
       "       \u001b[1;36m38185\u001b[0m, \u001b[1;36m31960\u001b[0m, \u001b[1;36m19238\u001b[0m, \u001b[1;36m11025\u001b[0m, \u001b[1;36m43101\u001b[0m, \u001b[1;36m10481\u001b[0m, \u001b[1;36m22043\u001b[0m,  \u001b[1;36m5359\u001b[0m,  \u001b[1;36m5874\u001b[0m,\n",
       "       \u001b[1;36m38149\u001b[0m, \u001b[1;36m43831\u001b[0m, \u001b[1;36m52696\u001b[0m, \u001b[1;36m50235\u001b[0m, \u001b[1;36m43418\u001b[0m, \u001b[1;36m33881\u001b[0m, \u001b[1;36m12980\u001b[0m, \u001b[1;36m45202\u001b[0m,     \u001b[1;36m0\u001b[0m,\n",
       "           \u001b[1;36m0\u001b[0m\u001b[1m]\u001b[0m, \u001b[33mdtype\u001b[0m=\u001b[35mint32\u001b[0m\u001b[1m)\u001b[0m,\n",
       "        \u001b[33mabc\u001b[0m=\u001b[1;35mArray\u001b[0m\u001b[1m(\u001b[0m\u001b[1m[\u001b[0m\u001b[1m[\u001b[0m \u001b[1;36m8.865856\u001b[0m ,  \u001b[1;36m5.285617\u001b[0m ,  \u001b[1;36m8.082956\u001b[0m \u001b[1m]\u001b[0m,\n",
       "       \u001b[1m[\u001b[0m \u001b[1;36m4.9665227\u001b[0m,  \u001b[1;36m5.9281125\u001b[0m,  \u001b[1;36m6.8448863\u001b[0m\u001b[1m]\u001b[0m,\n",
       "       \u001b[1m[\u001b[0m \u001b[1;36m5.409391\u001b[0m ,  \u001b[1;36m5.43434\u001b[0m  ,  \u001b[1;36m7.636362\u001b[0m \u001b[1m]\u001b[0m,\n",
       "       \u001b[1m[\u001b[0m \u001b[1;36m4.586698\u001b[0m ,  \u001b[1;36m4.586698\u001b[0m ,  \u001b[1;36m8.670405\u001b[0m \u001b[1m]\u001b[0m,\n",
       "       \u001b[1m[\u001b[0m \u001b[1;36m4.370556\u001b[0m ,  \u001b[1;36m5.196484\u001b[0m ,  \u001b[1;36m7.1918917\u001b[0m\u001b[1m]\u001b[0m,\n",
       "       \u001b[1m[\u001b[0m \u001b[1;36m2.9324682\u001b[0m,  \u001b[1;36m4.576425\u001b[0m , \u001b[1;36m10.523034\u001b[0m \u001b[1m]\u001b[0m,\n",
       "       \u001b[1m[\u001b[0m \u001b[1;36m6.930721\u001b[0m ,  \u001b[1;36m6.9307213\u001b[0m,  \u001b[1;36m6.9307218\u001b[0m\u001b[1m]\u001b[0m,\n",
       "       \u001b[1m[\u001b[0m \u001b[1;36m3.4017045\u001b[0m,  \u001b[1;36m5.723568\u001b[0m , \u001b[1;36m10.833397\u001b[0m \u001b[1m]\u001b[0m,\n",
       "       \u001b[1m[\u001b[0m \u001b[1;36m5.9128942\u001b[0m,  \u001b[1;36m5.9128942\u001b[0m,  \u001b[1;36m5.9128942\u001b[0m\u001b[1m]\u001b[0m,\n",
       "       \u001b[1m[\u001b[0m\u001b[1;36m11.905961\u001b[0m ,  \u001b[1;36m5.3717284\u001b[0m,  \u001b[1;36m3.8182285\u001b[0m\u001b[1m]\u001b[0m,\n",
       "       \u001b[1m[\u001b[0m \u001b[1;36m7.754184\u001b[0m ,  \u001b[1;36m7.6637936\u001b[0m,  \u001b[1;36m7.75467\u001b[0m  \u001b[1m]\u001b[0m,\n",
       "       \u001b[1m[\u001b[0m \u001b[1;36m4.3677835\u001b[0m,  \u001b[1;36m4.3677835\u001b[0m, \u001b[1;36m12.080793\u001b[0m \u001b[1m]\u001b[0m,\n",
       "       \u001b[1m[\u001b[0m \u001b[1;36m4.9409738\u001b[0m,  \u001b[1;36m4.9409733\u001b[0m,  \u001b[1;36m5.8171487\u001b[0m\u001b[1m]\u001b[0m,\n",
       "       \u001b[1m[\u001b[0m \u001b[1;36m4.92152\u001b[0m  ,  \u001b[1;36m9.390552\u001b[0m ,  \u001b[1;36m5.333544\u001b[0m \u001b[1m]\u001b[0m,\n",
       "       \u001b[1m[\u001b[0m \u001b[1;36m4.5798593\u001b[0m,  \u001b[1;36m7.389854\u001b[0m ,  \u001b[1;36m6.7790766\u001b[0m\u001b[1m]\u001b[0m,\n",
       "       \u001b[1m[\u001b[0m \u001b[1;36m4.9347134\u001b[0m,  \u001b[1;36m4.9347134\u001b[0m,  \u001b[1;36m7.827728\u001b[0m \u001b[1m]\u001b[0m,\n",
       "       \u001b[1m[\u001b[0m \u001b[1;36m6.830172\u001b[0m ,  \u001b[1;36m6.830172\u001b[0m ,  \u001b[1;36m4.1598487\u001b[0m\u001b[1m]\u001b[0m,\n",
       "       \u001b[1m[\u001b[0m \u001b[1;36m5.206988\u001b[0m ,  \u001b[1;36m5.2068267\u001b[0m,  \u001b[1;36m5.5669627\u001b[0m\u001b[1m]\u001b[0m,\n",
       "       \u001b[1m[\u001b[0m \u001b[1;36m8.139855\u001b[0m ,  \u001b[1;36m8.139855\u001b[0m ,  \u001b[1;36m3.7459738\u001b[0m\u001b[1m]\u001b[0m,\n",
       "       \u001b[1m[\u001b[0m \u001b[1;36m6.005767\u001b[0m ,  \u001b[1;36m6.005767\u001b[0m ,  \u001b[1;36m6.0057673\u001b[0m\u001b[1m]\u001b[0m,\n",
       "       \u001b[1m[\u001b[0m \u001b[1;36m6.2272453\u001b[0m,  \u001b[1;36m6.2272453\u001b[0m,  \u001b[1;36m6.2272453\u001b[0m\u001b[1m]\u001b[0m,\n",
       "       \u001b[1m[\u001b[0m \u001b[1;36m7.415793\u001b[0m ,  \u001b[1;36m7.4156837\u001b[0m,  \u001b[1;36m4.1193113\u001b[0m\u001b[1m]\u001b[0m,\n",
       "       \u001b[1m[\u001b[0m \u001b[1;36m5.577477\u001b[0m ,  \u001b[1;36m5.5774765\u001b[0m,  \u001b[1;36m5.5774765\u001b[0m\u001b[1m]\u001b[0m,\n",
       "       \u001b[1m[\u001b[0m \u001b[1;36m5.5247793\u001b[0m,  \u001b[1;36m5.55924\u001b[0m  ,  \u001b[1;36m6.5886297\u001b[0m\u001b[1m]\u001b[0m,\n",
       "       \u001b[1m[\u001b[0m \u001b[1;36m7.317088\u001b[0m ,  \u001b[1;36m7.3170886\u001b[0m,  \u001b[1;36m6.445945\u001b[0m \u001b[1m]\u001b[0m,\n",
       "       \u001b[1m[\u001b[0m \u001b[1;36m5.8554053\u001b[0m,  \u001b[1;36m7.763366\u001b[0m ,  \u001b[1;36m5.097458\u001b[0m \u001b[1m]\u001b[0m,\n",
       "       \u001b[1m[\u001b[0m \u001b[1;36m3.5976012\u001b[0m,  \u001b[1;36m5.1835394\u001b[0m,  \u001b[1;36m7.473246\u001b[0m \u001b[1m]\u001b[0m,\n",
       "       \u001b[1m[\u001b[0m \u001b[1;36m3.9966352\u001b[0m,  \u001b[1;36m5.784949\u001b[0m ,  \u001b[1;36m5.918057\u001b[0m \u001b[1m]\u001b[0m,\n",
       "       \u001b[1m[\u001b[0m \u001b[1;36m4.2235394\u001b[0m,  \u001b[1;36m4.2235394\u001b[0m, \u001b[1;36m10.211257\u001b[0m \u001b[1m]\u001b[0m,\n",
       "       \u001b[1m[\u001b[0m \u001b[1;36m5.552474\u001b[0m ,  \u001b[1;36m5.552474\u001b[0m ,  \u001b[1;36m6.876667\u001b[0m \u001b[1m]\u001b[0m,\n",
       "       \u001b[1m[\u001b[0m \u001b[1;36m4.8185415\u001b[0m,  \u001b[1;36m4.8185415\u001b[0m,  \u001b[1;36m4.8185415\u001b[0m\u001b[1m]\u001b[0m,\n",
       "       \u001b[1m[\u001b[0m \u001b[1;36m6.6763716\u001b[0m,  \u001b[1;36m6.6763716\u001b[0m,  \u001b[1;36m8.518582\u001b[0m \u001b[1m]\u001b[0m,\n",
       "       \u001b[1m[\u001b[0m \u001b[1;36m4.466901\u001b[0m ,  \u001b[1;36m4.466901\u001b[0m ,  \u001b[1;36m2.9180636\u001b[0m\u001b[1m]\u001b[0m,\n",
       "       \u001b[1m[\u001b[0m \u001b[1;36m5.632084\u001b[0m ,  \u001b[1;36m5.632084\u001b[0m ,  \u001b[1;36m3.7963076\u001b[0m\u001b[1m]\u001b[0m,\n",
       "       \u001b[1m[\u001b[0m \u001b[1;36m5.044842\u001b[0m ,  \u001b[1;36m5.044842\u001b[0m ,  \u001b[1;36m5.044842\u001b[0m \u001b[1m]\u001b[0m,\n",
       "       \u001b[1m[\u001b[0m \u001b[1;36m4.320909\u001b[0m ,  \u001b[1;36m4.320909\u001b[0m ,  \u001b[1;36m4.320909\u001b[0m \u001b[1m]\u001b[0m,\n",
       "       \u001b[1m[\u001b[0m \u001b[1;36m4.1015983\u001b[0m,  \u001b[1;36m4.1015983\u001b[0m,  \u001b[1;36m4.1015983\u001b[0m\u001b[1m]\u001b[0m,\n",
       "       \u001b[1m[\u001b[0m \u001b[1;36m3.4717312\u001b[0m,  \u001b[1;36m3.4717312\u001b[0m,  \u001b[1;36m3.4717312\u001b[0m\u001b[1m]\u001b[0m,\n",
       "       \u001b[1m[\u001b[0m \u001b[1;36m4.3489013\u001b[0m,  \u001b[1;36m4.3489013\u001b[0m,  \u001b[1;36m4.1028757\u001b[0m\u001b[1m]\u001b[0m,\n",
       "       \u001b[1m[\u001b[0m \u001b[1;36m6.372102\u001b[0m ,  \u001b[1;36m6.372102\u001b[0m ,  \u001b[1;36m6.372102\u001b[0m \u001b[1m]\u001b[0m,\n",
       "       \u001b[1m[\u001b[0m \u001b[1;36m4.458923\u001b[0m ,  \u001b[1;36m4.458923\u001b[0m ,  \u001b[1;36m4.458923\u001b[0m \u001b[1m]\u001b[0m,\n",
       "       \u001b[1m[\u001b[0m \u001b[1;36m4.123024\u001b[0m ,  \u001b[1;36m4.123024\u001b[0m ,  \u001b[1;36m7.6825323\u001b[0m\u001b[1m]\u001b[0m,\n",
       "       \u001b[1m[\u001b[0m \u001b[1;36m2.8478343\u001b[0m,  \u001b[1;36m2.8478343\u001b[0m,  \u001b[1;36m5.571026\u001b[0m \u001b[1m]\u001b[0m,\n",
       "       \u001b[1m[\u001b[0m \u001b[1;36m4.2338953\u001b[0m,  \u001b[1;36m4.2338953\u001b[0m,  \u001b[1;36m7.0859118\u001b[0m\u001b[1m]\u001b[0m,\n",
       "       \u001b[1m[\u001b[0m \u001b[1;36m4.4918113\u001b[0m,  \u001b[1;36m4.4918113\u001b[0m,  \u001b[1;36m4.4918113\u001b[0m\u001b[1m]\u001b[0m,\n",
       "       \u001b[1m[\u001b[0m \u001b[1;36m3.9417365\u001b[0m,  \u001b[1;36m3.9417365\u001b[0m,  \u001b[1;36m5.1440043\u001b[0m\u001b[1m]\u001b[0m,\n",
       "       \u001b[1m[\u001b[0m \u001b[1;36m4.376101\u001b[0m ,  \u001b[1;36m4.376101\u001b[0m ,  \u001b[1;36m4.376101\u001b[0m \u001b[1m]\u001b[0m,\n",
       "       \u001b[1m[\u001b[0m \u001b[1;36m4.1576247\u001b[0m,  \u001b[1;36m4.1576247\u001b[0m,  \u001b[1;36m5.807446\u001b[0m \u001b[1m]\u001b[0m,\n",
       "       \u001b[1m[\u001b[0m \u001b[1;36m4.501919\u001b[0m ,  \u001b[1;36m4.501919\u001b[0m ,  \u001b[1;36m4.501919\u001b[0m \u001b[1m]\u001b[0m,\n",
       "       \u001b[1m[\u001b[0m \u001b[1;36m4.49739\u001b[0m  ,  \u001b[1;36m4.1052666\u001b[0m,  \u001b[1;36m3.8549619\u001b[0m\u001b[1m]\u001b[0m,\n",
       "       \u001b[1m[\u001b[0m \u001b[1;36m4.9362507\u001b[0m,  \u001b[1;36m4.9362507\u001b[0m,  \u001b[1;36m4.9362507\u001b[0m\u001b[1m]\u001b[0m,\n",
       "       \u001b[1m[\u001b[0m \u001b[1;36m9.568847\u001b[0m ,  \u001b[1;36m6.7762003\u001b[0m,  \u001b[1;36m5.581882\u001b[0m \u001b[1m]\u001b[0m,\n",
       "       \u001b[1m[\u001b[0m \u001b[1;36m4.7601566\u001b[0m,  \u001b[1;36m4.7601566\u001b[0m,  \u001b[1;36m4.7601566\u001b[0m\u001b[1m]\u001b[0m,\n",
       "       \u001b[1m[\u001b[0m \u001b[1;36m5.90936\u001b[0m  ,  \u001b[1;36m5.90936\u001b[0m  ,  \u001b[1;36m5.90936\u001b[0m  \u001b[1m]\u001b[0m,\n",
       "       \u001b[1m[\u001b[0m \u001b[1;36m3.0079966\u001b[0m,  \u001b[1;36m3.0079966\u001b[0m,  \u001b[1;36m3.4285693\u001b[0m\u001b[1m]\u001b[0m,\n",
       "       \u001b[1m[\u001b[0m \u001b[1;36m3.4237745\u001b[0m,  \u001b[1;36m3.4237745\u001b[0m,  \u001b[1;36m6.8645015\u001b[0m\u001b[1m]\u001b[0m,\n",
       "       \u001b[1m[\u001b[0m \u001b[1;36m2.8743544\u001b[0m,  \u001b[1;36m2.8743544\u001b[0m,  \u001b[1;36m6.5090575\u001b[0m\u001b[1m]\u001b[0m,\n",
       "       \u001b[1m[\u001b[0m \u001b[1;36m4.5347595\u001b[0m,  \u001b[1;36m3.329559\u001b[0m ,  \u001b[1;36m7.159939\u001b[0m \u001b[1m]\u001b[0m,\n",
       "       \u001b[1m[\u001b[0m \u001b[1;36m3.665349\u001b[0m ,  \u001b[1;36m3.665349\u001b[0m ,  \u001b[1;36m3.4988678\u001b[0m\u001b[1m]\u001b[0m,\n",
       "       \u001b[1m[\u001b[0m \u001b[1;36m2.6721816\u001b[0m,  \u001b[1;36m2.6721814\u001b[0m,  \u001b[1;36m2.672181\u001b[0m \u001b[1m]\u001b[0m,\n",
       "       \u001b[1m[\u001b[0m \u001b[1;36m3.459621\u001b[0m ,  \u001b[1;36m3.459621\u001b[0m ,  \u001b[1;36m3.459621\u001b[0m \u001b[1m]\u001b[0m,\n",
       "       \u001b[1m[\u001b[0m \u001b[1;36m5.2917724\u001b[0m,  \u001b[1;36m5.2917724\u001b[0m,  \u001b[1;36m7.4084816\u001b[0m\u001b[1m]\u001b[0m,\n",
       "       \u001b[1m[\u001b[0m \u001b[1;36m0\u001b[0m.       ,  \u001b[1;36m0\u001b[0m.       ,  \u001b[1;36m0\u001b[0m.       \u001b[1m]\u001b[0m,\n",
       "       \u001b[1m[\u001b[0m \u001b[1;36m0\u001b[0m.       ,  \u001b[1;36m0\u001b[0m.       ,  \u001b[1;36m0\u001b[0m.       \u001b[1m]\u001b[0m\u001b[1m]\u001b[0m, \u001b[33mdtype\u001b[0m=\u001b[35mfloat32\u001b[0m\u001b[1m)\u001b[0m,\n",
       "        \u001b[33mangles_rad\u001b[0m=\u001b[1;35mArray\u001b[0m\u001b[1m(\u001b[0m\u001b[1m[\u001b[0m\u001b[1m[\u001b[0m\u001b[1;36m1.7251432\u001b[0m , \u001b[1;36m1.8138971\u001b[0m , \u001b[1;36m2.0757594\u001b[0m \u001b[1m]\u001b[0m,\n",
       "       \u001b[1m[\u001b[0m\u001b[1;36m1.8788898\u001b[0m , \u001b[1;36m1.5643412\u001b[0m , \u001b[1;36m1.6693162\u001b[0m \u001b[1m]\u001b[0m,\n",
       "       \u001b[1m[\u001b[0m\u001b[1;36m1.5707964\u001b[0m , \u001b[1;36m1.5707964\u001b[0m , \u001b[1;36m1.5707964\u001b[0m \u001b[1m]\u001b[0m,\n",
       "       \u001b[1m[\u001b[0m\u001b[1;36m1.5707964\u001b[0m , \u001b[1;36m1.5707964\u001b[0m , \u001b[1;36m1.5931057\u001b[0m \u001b[1m]\u001b[0m,\n",
       "       \u001b[1m[\u001b[0m\u001b[1;36m1.502546\u001b[0m  , \u001b[1;36m1.5597192\u001b[0m , \u001b[1;36m1.5560465\u001b[0m \u001b[1m]\u001b[0m,\n",
       "       \u001b[1m[\u001b[0m\u001b[1;36m1.5707964\u001b[0m , \u001b[1;36m1.5707964\u001b[0m , \u001b[1;36m1.5707964\u001b[0m \u001b[1m]\u001b[0m,\n",
       "       \u001b[1m[\u001b[0m\u001b[1;36m1.0471976\u001b[0m , \u001b[1;36m1.0471976\u001b[0m , \u001b[1;36m1.0471976\u001b[0m \u001b[1m]\u001b[0m,\n",
       "       \u001b[1m[\u001b[0m\u001b[1;36m1.5707964\u001b[0m , \u001b[1;36m1.5707964\u001b[0m , \u001b[1;36m1.5707964\u001b[0m \u001b[1m]\u001b[0m,\n",
       "       \u001b[1m[\u001b[0m\u001b[1;36m1.0455273\u001b[0m , \u001b[1;36m1.6017461\u001b[0m , \u001b[1;36m2.128806\u001b[0m  \u001b[1m]\u001b[0m,\n",
       "       \u001b[1m[\u001b[0m\u001b[1;36m1.9341387\u001b[0m , \u001b[1;36m1.5707964\u001b[0m , \u001b[1;36m1.5707964\u001b[0m \u001b[1m]\u001b[0m,\n",
       "       \u001b[1m[\u001b[0m\u001b[1;36m1.0402484\u001b[0m , \u001b[1;36m1.0472254\u001b[0m , \u001b[1;36m1.0403724\u001b[0m \u001b[1m]\u001b[0m,\n",
       "       \u001b[1m[\u001b[0m\u001b[1;36m1.5707964\u001b[0m , \u001b[1;36m1.5707964\u001b[0m , \u001b[1;36m1.5707964\u001b[0m \u001b[1m]\u001b[0m,\n",
       "       \u001b[1m[\u001b[0m\u001b[1;36m1.5707964\u001b[0m , \u001b[1;36m1.5707964\u001b[0m , \u001b[1;36m1.9590962\u001b[0m \u001b[1m]\u001b[0m,\n",
       "       \u001b[1m[\u001b[0m\u001b[1;36m1.5707964\u001b[0m , \u001b[1;36m1.7905327\u001b[0m , \u001b[1;36m1.5707964\u001b[0m \u001b[1m]\u001b[0m,\n",
       "       \u001b[1m[\u001b[0m\u001b[1;36m1.5707964\u001b[0m , \u001b[1;36m1.5707964\u001b[0m , \u001b[1;36m1.5707964\u001b[0m \u001b[1m]\u001b[0m,\n",
       "       \u001b[1m[\u001b[0m\u001b[1;36m1.5019498\u001b[0m , \u001b[1;36m1.5019498\u001b[0m , \u001b[1;36m1.1387866\u001b[0m \u001b[1m]\u001b[0m,\n",
       "       \u001b[1m[\u001b[0m\u001b[1;36m1.5707964\u001b[0m , \u001b[1;36m1.5707964\u001b[0m , \u001b[1;36m2.0949163\u001b[0m \u001b[1m]\u001b[0m,\n",
       "       \u001b[1m[\u001b[0m\u001b[1;36m1.0840946\u001b[0m , \u001b[1;36m1.0841203\u001b[0m , \u001b[1;36m1.04716\u001b[0m   \u001b[1m]\u001b[0m,\n",
       "       \u001b[1m[\u001b[0m\u001b[1;36m1.503868\u001b[0m  , \u001b[1;36m1.503868\u001b[0m  , \u001b[1;36m0.47187263\u001b[0m\u001b[1m]\u001b[0m,\n",
       "       \u001b[1m[\u001b[0m\u001b[1;36m1.0471976\u001b[0m , \u001b[1;36m1.0471975\u001b[0m , \u001b[1;36m1.0471976\u001b[0m \u001b[1m]\u001b[0m,\n",
       "       \u001b[1m[\u001b[0m\u001b[1;36m1.0471976\u001b[0m , \u001b[1;36m1.0471976\u001b[0m , \u001b[1;36m1.0471976\u001b[0m \u001b[1m]\u001b[0m,\n",
       "       \u001b[1m[\u001b[0m\u001b[1;36m1.5707964\u001b[0m , \u001b[1;36m1.5707964\u001b[0m , \u001b[1;36m2.0944035\u001b[0m \u001b[1m]\u001b[0m,\n",
       "       \u001b[1m[\u001b[0m\u001b[1;36m0.94339806\u001b[0m, \u001b[1;36m0.94339806\u001b[0m, \u001b[1;36m0.94339806\u001b[0m\u001b[1m]\u001b[0m,\n",
       "       \u001b[1m[\u001b[0m\u001b[1;36m1.9701681\u001b[0m , \u001b[1;36m1.9482923\u001b[0m , \u001b[1;36m1.5661935\u001b[0m \u001b[1m]\u001b[0m,\n",
       "       \u001b[1m[\u001b[0m\u001b[1;36m1.5707964\u001b[0m , \u001b[1;36m1.5707964\u001b[0m , \u001b[1;36m2.0943952\u001b[0m \u001b[1m]\u001b[0m,\n",
       "       \u001b[1m[\u001b[0m\u001b[1;36m0.50905156\u001b[0m, \u001b[1;36m0.95897883\u001b[0m, \u001b[1;36m0.71630174\u001b[0m\u001b[1m]\u001b[0m,\n",
       "       \u001b[1m[\u001b[0m\u001b[1;36m1.9365168\u001b[0m , \u001b[1;36m1.5707964\u001b[0m , \u001b[1;36m1.5707964\u001b[0m \u001b[1m]\u001b[0m,\n",
       "       \u001b[1m[\u001b[0m\u001b[1;36m1.278958\u001b[0m  , \u001b[1;36m1.2263618\u001b[0m , \u001b[1;36m1.2180952\u001b[0m \u001b[1m]\u001b[0m,\n",
       "       \u001b[1m[\u001b[0m\u001b[1;36m1.5707964\u001b[0m , \u001b[1;36m1.5707964\u001b[0m , \u001b[1;36m2.0943952\u001b[0m \u001b[1m]\u001b[0m,\n",
       "       \u001b[1m[\u001b[0m\u001b[1;36m1.5707964\u001b[0m , \u001b[1;36m1.5707964\u001b[0m , \u001b[1;36m2.0943954\u001b[0m \u001b[1m]\u001b[0m,\n",
       "       \u001b[1m[\u001b[0m\u001b[1;36m1.0471976\u001b[0m , \u001b[1;36m1.0471976\u001b[0m , \u001b[1;36m1.0471976\u001b[0m \u001b[1m]\u001b[0m,\n",
       "       \u001b[1m[\u001b[0m\u001b[1;36m0.8888721\u001b[0m , \u001b[1;36m0.8888721\u001b[0m , \u001b[1;36m0.8236275\u001b[0m \u001b[1m]\u001b[0m,\n",
       "       \u001b[1m[\u001b[0m\u001b[1;36m1.5707964\u001b[0m , \u001b[1;36m1.5707964\u001b[0m , \u001b[1;36m1.5707964\u001b[0m \u001b[1m]\u001b[0m,\n",
       "       \u001b[1m[\u001b[0m\u001b[1;36m1.5707964\u001b[0m , \u001b[1;36m1.5707964\u001b[0m , \u001b[1;36m1.5707964\u001b[0m \u001b[1m]\u001b[0m,\n",
       "       \u001b[1m[\u001b[0m\u001b[1;36m1.5707964\u001b[0m , \u001b[1;36m1.5707964\u001b[0m , \u001b[1;36m1.5707964\u001b[0m \u001b[1m]\u001b[0m,\n",
       "       \u001b[1m[\u001b[0m\u001b[1;36m1.5707964\u001b[0m , \u001b[1;36m1.5707964\u001b[0m , \u001b[1;36m1.5707964\u001b[0m \u001b[1m]\u001b[0m,\n",
       "       \u001b[1m[\u001b[0m\u001b[1;36m1.5707964\u001b[0m , \u001b[1;36m1.5707964\u001b[0m , \u001b[1;36m1.5707964\u001b[0m \u001b[1m]\u001b[0m,\n",
       "       \u001b[1m[\u001b[0m\u001b[1;36m1.5707964\u001b[0m , \u001b[1;36m1.5707964\u001b[0m , \u001b[1;36m1.5707964\u001b[0m \u001b[1m]\u001b[0m,\n",
       "       \u001b[1m[\u001b[0m\u001b[1;36m1.5707964\u001b[0m , \u001b[1;36m1.5707964\u001b[0m , \u001b[1;36m1.5707964\u001b[0m \u001b[1m]\u001b[0m,\n",
       "       \u001b[1m[\u001b[0m\u001b[1;36m0.49983224\u001b[0m, \u001b[1;36m0.49983224\u001b[0m, \u001b[1;36m0.49983224\u001b[0m\u001b[1m]\u001b[0m,\n",
       "       \u001b[1m[\u001b[0m\u001b[1;36m1.0471976\u001b[0m , \u001b[1;36m1.0471976\u001b[0m , \u001b[1;36m1.0471976\u001b[0m \u001b[1m]\u001b[0m,\n",
       "       \u001b[1m[\u001b[0m\u001b[1;36m1.5707964\u001b[0m , \u001b[1;36m1.5707964\u001b[0m , \u001b[1;36m1.5707964\u001b[0m \u001b[1m]\u001b[0m,\n",
       "       \u001b[1m[\u001b[0m\u001b[1;36m1.5707964\u001b[0m , \u001b[1;36m1.5707964\u001b[0m , \u001b[1;36m1.5707964\u001b[0m \u001b[1m]\u001b[0m,\n",
       "       \u001b[1m[\u001b[0m\u001b[1;36m1.5707964\u001b[0m , \u001b[1;36m1.5707964\u001b[0m , \u001b[1;36m1.5707964\u001b[0m \u001b[1m]\u001b[0m,\n",
       "       \u001b[1m[\u001b[0m\u001b[1;36m1.0471976\u001b[0m , \u001b[1;36m1.0471976\u001b[0m , \u001b[1;36m1.0471976\u001b[0m \u001b[1m]\u001b[0m,\n",
       "       \u001b[1m[\u001b[0m\u001b[1;36m1.5707964\u001b[0m , \u001b[1;36m1.5707964\u001b[0m , \u001b[1;36m1.5707964\u001b[0m \u001b[1m]\u001b[0m,\n",
       "       \u001b[1m[\u001b[0m\u001b[1;36m1.0471976\u001b[0m , \u001b[1;36m1.0471976\u001b[0m , \u001b[1;36m1.0471976\u001b[0m \u001b[1m]\u001b[0m,\n",
       "       \u001b[1m[\u001b[0m\u001b[1;36m1.5707964\u001b[0m , \u001b[1;36m1.5707964\u001b[0m , \u001b[1;36m1.5690703\u001b[0m \u001b[1m]\u001b[0m,\n",
       "       \u001b[1m[\u001b[0m\u001b[1;36m2.3669107\u001b[0m , \u001b[1;36m2.3669107\u001b[0m , \u001b[1;36m1.127093\u001b[0m  \u001b[1m]\u001b[0m,\n",
       "       \u001b[1m[\u001b[0m\u001b[1;36m0.91337067\u001b[0m, \u001b[1;36m1.8386151\u001b[0m , \u001b[1;36m1.2525266\u001b[0m \u001b[1m]\u001b[0m,\n",
       "       \u001b[1m[\u001b[0m\u001b[1;36m2.3931565\u001b[0m , \u001b[1;36m2.3931565\u001b[0m , \u001b[1;36m1.0865879\u001b[0m \u001b[1m]\u001b[0m,\n",
       "       \u001b[1m[\u001b[0m\u001b[1;36m0.39919573\u001b[0m, \u001b[1;36m0.5153658\u001b[0m , \u001b[1;36m0.33487058\u001b[0m\u001b[1m]\u001b[0m,\n",
       "       \u001b[1m[\u001b[0m\u001b[1;36m2.4794016\u001b[0m , \u001b[1;36m2.4794016\u001b[0m , \u001b[1;36m0.9553856\u001b[0m \u001b[1m]\u001b[0m,\n",
       "       \u001b[1m[\u001b[0m\u001b[1;36m2.6142125\u001b[0m , \u001b[1;36m2.6142125\u001b[0m , \u001b[1;36m0.7550212\u001b[0m \u001b[1m]\u001b[0m,\n",
       "       \u001b[1m[\u001b[0m\u001b[1;36m1.5707964\u001b[0m , \u001b[1;36m1.5707964\u001b[0m , \u001b[1;36m2.0943954\u001b[0m \u001b[1m]\u001b[0m,\n",
       "       \u001b[1m[\u001b[0m\u001b[1;36m1.5707964\u001b[0m , \u001b[1;36m1.5707964\u001b[0m , \u001b[1;36m1.5707964\u001b[0m \u001b[1m]\u001b[0m,\n",
       "       \u001b[1m[\u001b[0m\u001b[1;36m1.5707964\u001b[0m , \u001b[1;36m1.5707964\u001b[0m , \u001b[1;36m1.5707964\u001b[0m \u001b[1m]\u001b[0m,\n",
       "       \u001b[1m[\u001b[0m\u001b[1;36m1.5707964\u001b[0m , \u001b[1;36m1.4143078\u001b[0m , \u001b[1;36m1.5707964\u001b[0m \u001b[1m]\u001b[0m,\n",
       "       \u001b[1m[\u001b[0m\u001b[1;36m1.5707964\u001b[0m , \u001b[1;36m1.5707964\u001b[0m , \u001b[1;36m2.0943952\u001b[0m \u001b[1m]\u001b[0m,\n",
       "       \u001b[1m[\u001b[0m\u001b[1;36m1.0471975\u001b[0m , \u001b[1;36m1.0471975\u001b[0m , \u001b[1;36m1.0471976\u001b[0m \u001b[1m]\u001b[0m,\n",
       "       \u001b[1m[\u001b[0m\u001b[1;36m1.5707964\u001b[0m , \u001b[1;36m1.5707964\u001b[0m , \u001b[1;36m1.5707964\u001b[0m \u001b[1m]\u001b[0m,\n",
       "       \u001b[1m[\u001b[0m\u001b[1;36m1.5707964\u001b[0m , \u001b[1;36m1.5707964\u001b[0m , \u001b[1;36m1.5707964\u001b[0m \u001b[1m]\u001b[0m,\n",
       "       \u001b[1m[\u001b[0m\u001b[1;36m0\u001b[0m.        , \u001b[1;36m0\u001b[0m.        , \u001b[1;36m0\u001b[0m.        \u001b[1m]\u001b[0m,\n",
       "       \u001b[1m[\u001b[0m\u001b[1;36m0\u001b[0m.        , \u001b[1;36m0\u001b[0m.        , \u001b[1;36m0\u001b[0m.        \u001b[1m]\u001b[0m\u001b[1m]\u001b[0m, \u001b[33mdtype\u001b[0m=\u001b[35mfloat32\u001b[0m\u001b[1m)\u001b[0m,\n",
       "        \u001b[33mlat\u001b[0m=\u001b[1;35mArray\u001b[0m\u001b[1m(\u001b[0m\u001b[1m[\u001b[0m\u001b[1m[\u001b[0m\u001b[1m[\u001b[0m \u001b[1;36m8.85132408e+00\u001b[0m, \u001b[1;36m-2.29144722e-01\u001b[0m, \u001b[1;36m-4.52727139e-01\u001b[0m\u001b[1m]\u001b[0m,\n",
       "        \u001b[1m[\u001b[0m\u001b[1;36m-2.44500470e+00\u001b[0m,  \u001b[1;36m4.68508005e+00\u001b[0m, \u001b[1;36m-9.86233726e-02\u001b[0m\u001b[1m]\u001b[0m,\n",
       "        \u001b[1m[\u001b[0m\u001b[1;36m-1.61190283e+00\u001b[0m, \u001b[1;36m-2.08224869e+00\u001b[0m,  \u001b[1;36m7.64200163e+00\u001b[0m\u001b[1m]\u001b[0m\u001b[1m]\u001b[0m,\n",
       "\n",
       "       \u001b[1m[\u001b[0m\u001b[1m[\u001b[0m \u001b[1;36m4.96621370e+00\u001b[0m, \u001b[1;36m-5.48638329e-02\u001b[0m,  \u001b[1;36m7.73605006e-03\u001b[0m\u001b[1m]\u001b[0m,\n",
       "        \u001b[1m[\u001b[0m\u001b[1;36m-5.17782331e-01\u001b[0m,  \u001b[1;36m5.90502548e+00\u001b[0m, \u001b[1;36m-7.13811070e-02\u001b[0m\u001b[1m]\u001b[0m,\n",
       "        \u001b[1m[\u001b[0m \u001b[1;36m1.18570579e-02\u001b[0m, \u001b[1;36m-2.00361800e+00\u001b[0m,  \u001b[1;36m6.54506254e+00\u001b[0m\u001b[1m]\u001b[0m\u001b[1m]\u001b[0m,\n",
       "\n",
       "       \u001b[1m[\u001b[0m\u001b[1m[\u001b[0m \u001b[1;36m5.40939093e+00\u001b[0m,  \u001b[1;36m0.00000000e+00\u001b[0m,  \u001b[1;36m0.00000000e+00\u001b[0m\u001b[1m]\u001b[0m,\n",
       "        \u001b[1m[\u001b[0m \u001b[1;36m0.00000000e+00\u001b[0m,  \u001b[1;36m5.43434000e+00\u001b[0m,  \u001b[1;36m0.00000000e+00\u001b[0m\u001b[1m]\u001b[0m,\n",
       "        \u001b[1m[\u001b[0m \u001b[1;36m0.00000000e+00\u001b[0m,  \u001b[1;36m0.00000000e+00\u001b[0m,  \u001b[1;36m7.63636208e+00\u001b[0m\u001b[1m]\u001b[0m\u001b[1m]\u001b[0m,\n",
       "\n",
       "       \u001b[1m[\u001b[0m\u001b[1m[\u001b[0m \u001b[1;36m4.58641291e+00\u001b[0m, \u001b[1;36m-5.11619747e-02\u001b[0m,  \u001b[1;36m0.00000000e+00\u001b[0m\u001b[1m]\u001b[0m,\n",
       "        \u001b[1m[\u001b[0m\u001b[1;36m-5.11619747e-02\u001b[0m,  \u001b[1;36m4.58641291e+00\u001b[0m, \u001b[1;36m-0.00000000e+00\u001b[0m\u001b[1m]\u001b[0m,\n",
       "        \u001b[1m[\u001b[0m \u001b[1;36m0.00000000e+00\u001b[0m, \u001b[1;36m-0.00000000e+00\u001b[0m,  \u001b[1;36m8.67040539e+00\u001b[0m\u001b[1m]\u001b[0m\u001b[1m]\u001b[0m,\n",
       "\n",
       "       \u001b[1m[\u001b[0m\u001b[1m[\u001b[0m \u001b[1;36m4.37052250e+00\u001b[0m, \u001b[1;36m-1.41900927e-02\u001b[0m, \u001b[1;36m-9.51108430e-03\u001b[0m\u001b[1m]\u001b[0m,\n",
       "        \u001b[1m[\u001b[0m \u001b[1;36m9.34021845e-02\u001b[0m,  \u001b[1;36m5.19539309e+00\u001b[0m, \u001b[1;36m-5.11291660e-02\u001b[0m\u001b[1m]\u001b[0m,\n",
       "        \u001b[1m[\u001b[0m \u001b[1;36m9.70828757e-02\u001b[0m,  \u001b[1;36m5.59382200e-01\u001b[0m,  \u001b[1;36m7.16944695e+00\u001b[0m\u001b[1m]\u001b[0m\u001b[1m]\u001b[0m,\n",
       "\n",
       "       \u001b[1m[\u001b[0m\u001b[1m[\u001b[0m \u001b[1;36m2.93246818e+00\u001b[0m,  \u001b[1;36m0.00000000e+00\u001b[0m,  \u001b[1;36m0.00000000e+00\u001b[0m\u001b[1m]\u001b[0m,\n",
       "        \u001b[1m[\u001b[0m\u001b[1;36m-0.00000000e+00\u001b[0m,  \u001b[1;36m4.57642508e+00\u001b[0m,  \u001b[1;36m0.00000000e+00\u001b[0m\u001b[1m]\u001b[0m,\n",
       "        \u001b[1m[\u001b[0m \u001b[1;36m0.00000000e+00\u001b[0m,  \u001b[1;36m0.00000000e+00\u001b[0m,  \u001b[1;36m1.05230341e+01\u001b[0m\u001b[1m]\u001b[0m\u001b[1m]\u001b[0m,\n",
       "\n",
       "       \u001b[1m[\u001b[0m\u001b[1m[\u001b[0m \u001b[1;36m6.00218058e+00\u001b[0m,  \u001b[1;36m1.29951063e-08\u001b[0m,  \u001b[1;36m3.46536040e+00\u001b[0m\u001b[1m]\u001b[0m,\n",
       "        \u001b[1m[\u001b[0m \u001b[1;36m2.00072670e+00\u001b[0m,  \u001b[1;36m5.65891075e+00\u001b[0m,  \u001b[1;36m3.46536040e+00\u001b[0m\u001b[1m]\u001b[0m,\n",
       "        \u001b[1m[\u001b[0m \u001b[1;36m3.67557114e-08\u001b[0m,  \u001b[1;36m2.59902162e-08\u001b[0m,  \u001b[1;36m6.93072176e+00\u001b[0m\u001b[1m]\u001b[0m\u001b[1m]\u001b[0m,\n",
       "\n",
       "       \u001b[1m[\u001b[0m\u001b[1m[\u001b[0m \u001b[1;36m3.40170455e+00\u001b[0m, \u001b[1;36m-0.00000000e+00\u001b[0m,  \u001b[1;36m0.00000000e+00\u001b[0m\u001b[1m]\u001b[0m,\n",
       "        \u001b[1m[\u001b[0m\u001b[1;36m-0.00000000e+00\u001b[0m,  \u001b[1;36m5.72356796e+00\u001b[0m,  \u001b[1;36m0.00000000e+00\u001b[0m\u001b[1m]\u001b[0m,\n",
       "        \u001b[1m[\u001b[0m \u001b[1;36m0.00000000e+00\u001b[0m,  \u001b[1;36m0.00000000e+00\u001b[0m,  \u001b[1;36m1.08333969e+01\u001b[0m\u001b[1m]\u001b[0m\u001b[1m]\u001b[0m,\n",
       "\n",
       "       \u001b[1m[\u001b[0m\u001b[1m[\u001b[0m \u001b[1;36m2.86790895e+00\u001b[0m, \u001b[1;36m-5.16944647e+00\u001b[0m, \u001b[1;36m-1.19313434e-01\u001b[0m\u001b[1m]\u001b[0m,\n",
       "        \u001b[1m[\u001b[0m \u001b[1;36m2.86790895e+00\u001b[0m,  \u001b[1;36m5.16944647e+00\u001b[0m,  \u001b[1;36m1.19313434e-01\u001b[0m\u001b[1m]\u001b[0m,\n",
       "        \u001b[1m[\u001b[0m \u001b[1;36m2.86790895e+00\u001b[0m,  \u001b[1;36m1.68753731e+00\u001b[0m,  \u001b[1;36m4.88770247e+00\u001b[0m\u001b[1m]\u001b[0m\u001b[1m]\u001b[0m,\n",
       "\n",
       "       \u001b[1m[\u001b[0m\u001b[1m[\u001b[0m \u001b[1;36m1.19059610e+01\u001b[0m,  \u001b[1;36m0.00000000e+00\u001b[0m,  \u001b[1;36m0.00000000e+00\u001b[0m\u001b[1m]\u001b[0m,\n",
       "        \u001b[1m[\u001b[0m \u001b[1;36m0.00000000e+00\u001b[0m,  \u001b[1;36m5.02103090e+00\u001b[0m, \u001b[1;36m-1.90911388e+00\u001b[0m\u001b[1m]\u001b[0m,\n",
       "        \u001b[1m[\u001b[0m \u001b[1;36m0.00000000e+00\u001b[0m, \u001b[1;36m-3.70102882e-08\u001b[0m,  \u001b[1;36m3.81822848e+00\u001b[0m\u001b[1m]\u001b[0m\u001b[1m]\u001b[0m,\n",
       "\n",
       "       \u001b[1m[\u001b[0m\u001b[1m[\u001b[0m \u001b[1;36m6.71544790e+00\u001b[0m, \u001b[1;36m-3.81061836e-04\u001b[0m,  \u001b[1;36m3.87687063e+00\u001b[0m\u001b[1m]\u001b[0m,\n",
       "        \u001b[1m[\u001b[0m \u001b[1;36m2.23806095e+00\u001b[0m,  \u001b[1;36m6.21946764e+00\u001b[0m,  \u001b[1;36m3.87853551e+00\u001b[0m\u001b[1m]\u001b[0m,\n",
       "        \u001b[1m[\u001b[0m \u001b[1;36m4.00294412e-05\u001b[0m, \u001b[1;36m-7.75158696e-04\u001b[0m,  \u001b[1;36m7.75467014e+00\u001b[0m\u001b[1m]\u001b[0m\u001b[1m]\u001b[0m,\n",
       "\n",
       "       \u001b[1m[\u001b[0m\u001b[1m[\u001b[0m \u001b[1;36m4.36778355e+00\u001b[0m,  \u001b[1;36m0.00000000e+00\u001b[0m,  \u001b[1;36m0.00000000e+00\u001b[0m\u001b[1m]\u001b[0m,\n",
       "        \u001b[1m[\u001b[0m \u001b[1;36m0.00000000e+00\u001b[0m,  \u001b[1;36m4.36778355e+00\u001b[0m, \u001b[1;36m-0.00000000e+00\u001b[0m\u001b[1m]\u001b[0m,\n",
       "        \u001b[1m[\u001b[0m \u001b[1;36m0.00000000e+00\u001b[0m,  \u001b[1;36m0.00000000e+00\u001b[0m,  \u001b[1;36m1.20807934e+01\u001b[0m\u001b[1m]\u001b[0m\u001b[1m]\u001b[0m,\n",
       "\n",
       "       \u001b[1m[\u001b[0m\u001b[1m[\u001b[0m \u001b[1;36m4.94087887e+00\u001b[0m, \u001b[1;36m-3.05857547e-02\u001b[0m, \u001b[1;36m-0.00000000e+00\u001b[0m\u001b[1m]\u001b[0m,\n",
       "        \u001b[1m[\u001b[0m\u001b[1;36m-1.84238422e+00\u001b[0m,  \u001b[1;36m4.58463097e+00\u001b[0m,  \u001b[1;36m0.00000000e+00\u001b[0m\u001b[1m]\u001b[0m,\n",
       "        \u001b[1m[\u001b[0m\u001b[1;36m-0.00000000e+00\u001b[0m, \u001b[1;36m-0.00000000e+00\u001b[0m,  \u001b[1;36m5.81714869e+00\u001b[0m\u001b[1m]\u001b[0m\u001b[1m]\u001b[0m,\n",
       "\n",
       "       \u001b[1m[\u001b[0m\u001b[1m[\u001b[0m \u001b[1;36m0.00000000e+00\u001b[0m,  \u001b[1;36m4.92150545e+00\u001b[0m,  \u001b[1;36m1.20881889e-02\u001b[0m\u001b[1m]\u001b[0m,\n",
       "        \u001b[1m[\u001b[0m \u001b[1;36m9.39055157e+00\u001b[0m,  \u001b[1;36m0.00000000e+00\u001b[0m,  \u001b[1;36m0.00000000e+00\u001b[0m\u001b[1m]\u001b[0m,\n",
       "        \u001b[1m[\u001b[0m \u001b[1;36m0.00000000e+00\u001b[0m, \u001b[1;36m-1.14977658e+00\u001b[0m, \u001b[1;36m-5.20813799e+00\u001b[0m\u001b[1m]\u001b[0m\u001b[1m]\u001b[0m,\n",
       "\n",
       "       \u001b[1m[\u001b[0m\u001b[1m[\u001b[0m \u001b[1;36m4.57985926e+00\u001b[0m, \u001b[1;36m-0.00000000e+00\u001b[0m,  \u001b[1;36m2.00000003e-16\u001b[0m\u001b[1m]\u001b[0m,\n",
       "        \u001b[1m[\u001b[0m \u001b[1;36m1.20000005e-15\u001b[0m,  \u001b[1;36m7.38985395e+00\u001b[0m,  \u001b[1;36m4.00000007e-16\u001b[0m\u001b[1m]\u001b[0m,\n",
       "        \u001b[1m[\u001b[0m\u001b[1;36m-0.00000000e+00\u001b[0m,  \u001b[1;36m0.00000000e+00\u001b[0m,  \u001b[1;36m6.77907658e+00\u001b[0m\u001b[1m]\u001b[0m\u001b[1m]\u001b[0m,\n",
       "\n",
       "       \u001b[1m[\u001b[0m\u001b[1m[\u001b[0m \u001b[1;36m4.92377663e+00\u001b[0m, \u001b[1;36m-4.58720513e-03\u001b[0m,  \u001b[1;36m3.28327298e-01\u001b[0m\u001b[1m]\u001b[0m,\n",
       "        \u001b[1m[\u001b[0m \u001b[1;36m2.05301404e+00\u001b[0m,  \u001b[1;36m4.47534704e+00\u001b[0m,  \u001b[1;36m3.28327298e-01\u001b[0m\u001b[1m]\u001b[0m,\n",
       "        \u001b[1m[\u001b[0m \u001b[1;36m1.77263375e-02\u001b[0m,  \u001b[1;36m1.13591189e-02\u001b[0m,  \u001b[1;36m7.82769966e+00\u001b[0m\u001b[1m]\u001b[0m\u001b[1m]\u001b[0m,\n",
       "\n",
       "       \u001b[1m[\u001b[0m\u001b[1m[\u001b[0m \u001b[1;36m3.41354394e+00\u001b[0m, \u001b[1;36m-5.91599226e+00\u001b[0m,  \u001b[1;36m0.00000000e+00\u001b[0m\u001b[1m]\u001b[0m,\n",
       "        \u001b[1m[\u001b[0m \u001b[1;36m3.41354394e+00\u001b[0m,  \u001b[1;36m5.91599226e+00\u001b[0m,  \u001b[1;36m0.00000000e+00\u001b[0m\u001b[1m]\u001b[0m,\n",
       "        \u001b[1m[\u001b[0m \u001b[1;36m0.00000000e+00\u001b[0m,  \u001b[1;36m0.00000000e+00\u001b[0m,  \u001b[1;36m4.15984869e+00\u001b[0m\u001b[1m]\u001b[0m\u001b[1m]\u001b[0m,\n",
       "\n",
       "       \u001b[1m[\u001b[0m\u001b[1m[\u001b[0m \u001b[1;36m5.20698786e+00\u001b[0m,  \u001b[1;36m3.41091392e-04\u001b[0m, \u001b[1;36m-4.46878403e-05\u001b[0m\u001b[1m]\u001b[0m,\n",
       "        \u001b[1m[\u001b[0m \u001b[1;36m2.60328722e+00\u001b[0m,  \u001b[1;36m4.50931692e+00\u001b[0m, \u001b[1;36m-4.10377688e-05\u001b[0m\u001b[1m]\u001b[0m,\n",
       "        \u001b[1m[\u001b[0m \u001b[1;36m2.60355735e+00\u001b[0m,  \u001b[1;36m1.50346828e+00\u001b[0m,  \u001b[1;36m4.68531179e+00\u001b[0m\u001b[1m]\u001b[0m\u001b[1m]\u001b[0m,\n",
       "\n",
       "       \u001b[1m[\u001b[0m\u001b[1m[\u001b[0m \u001b[1;36m8.13034248e+00\u001b[0m,  \u001b[1;36m1.84359580e-01\u001b[0m,  \u001b[1;36m3.47546309e-01\u001b[0m\u001b[1m]\u001b[0m,\n",
       "        \u001b[1m[\u001b[0m \u001b[1;36m7.15635109e+00\u001b[0m,  \u001b[1;36m3.86304212e+00\u001b[0m,  \u001b[1;36m3.47546309e-01\u001b[0m\u001b[1m]\u001b[0m,\n",
       "        \u001b[1m[\u001b[0m \u001b[1;36m9.01975557e-02\u001b[0m,  \u001b[1;36m2.38812771e-02\u001b[0m,  \u001b[1;36m3.74481177e+00\u001b[0m\u001b[1m]\u001b[0m\u001b[1m]\u001b[0m,\n",
       "\n",
       "       \u001b[1m[\u001b[0m\u001b[1m[\u001b[0m \u001b[1;36m5.20114660e+00\u001b[0m, \u001b[1;36m-0.00000000e+00\u001b[0m,  \u001b[1;36m3.00288367e+00\u001b[0m\u001b[1m]\u001b[0m,\n",
       "        \u001b[1m[\u001b[0m \u001b[1;36m1.73371553e+00\u001b[0m,  \u001b[1;36m4.90368795e+00\u001b[0m,  \u001b[1;36m3.00288367e+00\u001b[0m\u001b[1m]\u001b[0m,\n",
       "        \u001b[1m[\u001b[0m \u001b[1;36m0.00000000e+00\u001b[0m, \u001b[1;36m-0.00000000e+00\u001b[0m,  \u001b[1;36m6.00576735e+00\u001b[0m\u001b[1m]\u001b[0m\u001b[1m]\u001b[0m,\n",
       "\n",
       "       \u001b[1m[\u001b[0m\u001b[1m[\u001b[0m \u001b[1;36m5.39295292e+00\u001b[0m, \u001b[1;36m-0.00000000e+00\u001b[0m,  \u001b[1;36m3.11362267e+00\u001b[0m\u001b[1m]\u001b[0m,\n",
       "        \u001b[1m[\u001b[0m \u001b[1;36m1.79765093e+00\u001b[0m,  \u001b[1;36m5.08452463e+00\u001b[0m,  \u001b[1;36m3.11362267e+00\u001b[0m\u001b[1m]\u001b[0m,\n",
       "        \u001b[1m[\u001b[0m\u001b[1;36m-0.00000000e+00\u001b[0m, \u001b[1;36m-0.00000000e+00\u001b[0m,  \u001b[1;36m6.22724533e+00\u001b[0m\u001b[1m]\u001b[0m\u001b[1m]\u001b[0m,\n",
       "\n",
       "       \u001b[1m[\u001b[0m\u001b[1m[\u001b[0m \u001b[1;36m3.70789647e+00\u001b[0m, \u001b[1;36m-6.42226505e+00\u001b[0m,  \u001b[1;36m0.00000000e+00\u001b[0m\u001b[1m]\u001b[0m,\n",
       "        \u001b[1m[\u001b[0m \u001b[1;36m3.70778751e+00\u001b[0m,  \u001b[1;36m6.42220211e+00\u001b[0m,  \u001b[1;36m0.00000000e+00\u001b[0m\u001b[1m]\u001b[0m,\n",
       "        \u001b[1m[\u001b[0m \u001b[1;36m0.00000000e+00\u001b[0m,  \u001b[1;36m0.00000000e+00\u001b[0m,  \u001b[1;36m4.11931133e+00\u001b[0m\u001b[1m]\u001b[0m\u001b[1m]\u001b[0m,\n",
       "\n",
       "       \u001b[1m[\u001b[0m\u001b[1m[\u001b[0m \u001b[1;36m4.54649925e+00\u001b[0m,  \u001b[1;36m3.65924500e-02\u001b[0m,  \u001b[1;36m3.23051906e+00\u001b[0m\u001b[1m]\u001b[0m,\n",
       "        \u001b[1m[\u001b[0m \u001b[1;36m1.68724453e+00\u001b[0m,  \u001b[1;36m4.22199011e+00\u001b[0m,  \u001b[1;36m3.23051810e+00\u001b[0m\u001b[1m]\u001b[0m,\n",
       "        \u001b[1m[\u001b[0m \u001b[1;36m5.35654798e-02\u001b[0m,  \u001b[1;36m3.65942419e-02\u001b[0m,  \u001b[1;36m5.57709932e+00\u001b[0m\u001b[1m]\u001b[0m\u001b[1m]\u001b[0m,\n",
       "\n",
       "       \u001b[1m[\u001b[0m\u001b[1m[\u001b[0m \u001b[1;36m5.15132809e+00\u001b[0m,  \u001b[1;36m5.39412303e-03\u001b[0m, \u001b[1;36m-1.99674201e+00\u001b[0m\u001b[1m]\u001b[0m,\n",
       "        \u001b[1m[\u001b[0m\u001b[1;36m-8.16563249e-01\u001b[0m,  \u001b[1;36m5.05534172e+00\u001b[0m, \u001b[1;36m-2.16376877e+00\u001b[0m\u001b[1m]\u001b[0m,\n",
       "        \u001b[1m[\u001b[0m\u001b[1;36m-5.07939868e-02\u001b[0m, \u001b[1;36m-5.53178834e-03\u001b[0m,  \u001b[1;36m6.58843184e+00\u001b[0m\u001b[1m]\u001b[0m\u001b[1m]\u001b[0m,\n",
       "\n",
       "       \u001b[1m[\u001b[0m\u001b[1m[\u001b[0m \u001b[1;36m7.31708813e+00\u001b[0m,  \u001b[1;36m0.00000000e+00\u001b[0m, \u001b[1;36m-0.00000000e+00\u001b[0m\u001b[1m]\u001b[0m,\n",
       "        \u001b[1m[\u001b[0m\u001b[1;36m-3.65854406e+00\u001b[0m,  \u001b[1;36m6.33678484e+00\u001b[0m, \u001b[1;36m-0.00000000e+00\u001b[0m\u001b[1m]\u001b[0m,\n",
       "        \u001b[1m[\u001b[0m \u001b[1;36m0.00000000e+00\u001b[0m, \u001b[1;36m-0.00000000e+00\u001b[0m,  \u001b[1;36m6.44594479e+00\u001b[0m\u001b[1m]\u001b[0m\u001b[1m]\u001b[0m,\n",
       "\n",
       "       \u001b[1m[\u001b[0m\u001b[1m[\u001b[0m \u001b[1;36m4.78091240e+00\u001b[0m, \u001b[1;36m-2.36938340e-05\u001b[0m,  \u001b[1;36m3.38062859e+00\u001b[0m\u001b[1m]\u001b[0m,\n",
       "        \u001b[1m[\u001b[0m \u001b[1;36m2.37175655e+00\u001b[0m,  \u001b[1;36m2.92764568e+00\u001b[0m,  \u001b[1;36m6.78774738e+00\u001b[0m\u001b[1m]\u001b[0m,\n",
       "        \u001b[1m[\u001b[0m\u001b[1;36m-1.86771173e-02\u001b[0m,  \u001b[1;36m2.58985274e-05\u001b[0m,  \u001b[1;36m5.09742355e+00\u001b[0m\u001b[1m]\u001b[0m\u001b[1m]\u001b[0m,\n",
       "\n",
       "       \u001b[1m[\u001b[0m\u001b[1m[\u001b[0m \u001b[1;36m3.59760118e+00\u001b[0m,  \u001b[1;36m0.00000000e+00\u001b[0m,  \u001b[1;36m0.00000000e+00\u001b[0m\u001b[1m]\u001b[0m,\n",
       "        \u001b[1m[\u001b[0m \u001b[1;36m0.00000000e+00\u001b[0m,  \u001b[1;36m4.83816481e+00\u001b[0m, \u001b[1;36m-1.86044121e+00\u001b[0m\u001b[1m]\u001b[0m,\n",
       "        \u001b[1m[\u001b[0m \u001b[1;36m0.00000000e+00\u001b[0m,  \u001b[1;36m1.03350980e-02\u001b[0m,  \u001b[1;36m7.47323895e+00\u001b[0m\u001b[1m]\u001b[0m\u001b[1m]\u001b[0m,\n",
       "\n",
       "       \u001b[1m[\u001b[0m\u001b[1m[\u001b[0m \u001b[1;36m3.75050306e+00\u001b[0m,  \u001b[1;36m4.03807987e-10\u001b[0m,  \u001b[1;36m1.38087654e+00\u001b[0m\u001b[1m]\u001b[0m,\n",
       "        \u001b[1m[\u001b[0m \u001b[1;36m1.52375269e+00\u001b[0m,  \u001b[1;36m5.33267164e+00\u001b[0m,  \u001b[1;36m1.64512014e+00\u001b[0m\u001b[1m]\u001b[0m,\n",
       "        \u001b[1m[\u001b[0m\u001b[1;36m-4.93602529e-02\u001b[0m,  \u001b[1;36m3.56043391e-02\u001b[0m,  \u001b[1;36m5.91774368e+00\u001b[0m\u001b[1m]\u001b[0m\u001b[1m]\u001b[0m,\n",
       "\n",
       "       \u001b[1m[\u001b[0m\u001b[1m[\u001b[0m \u001b[1;36m4.22353935e+00\u001b[0m,  \u001b[1;36m0.00000000e+00\u001b[0m,  \u001b[1;36m0.00000000e+00\u001b[0m\u001b[1m]\u001b[0m,\n",
       "        \u001b[1m[\u001b[0m\u001b[1;36m-2.11176968e+00\u001b[0m,  \u001b[1;36m3.65769243e+00\u001b[0m,  \u001b[1;36m0.00000000e+00\u001b[0m\u001b[1m]\u001b[0m,\n",
       "        \u001b[1m[\u001b[0m\u001b[1;36m-0.00000000e+00\u001b[0m, \u001b[1;36m-0.00000000e+00\u001b[0m,  \u001b[1;36m1.02112570e+01\u001b[0m\u001b[1m]\u001b[0m\u001b[1m]\u001b[0m,\n",
       "\n",
       "       \u001b[1m[\u001b[0m\u001b[1m[\u001b[0m \u001b[1;36m2.77623653e+00\u001b[0m, \u001b[1;36m-4.80858374e+00\u001b[0m, \u001b[1;36m-0.00000000e+00\u001b[0m\u001b[1m]\u001b[0m,\n",
       "        \u001b[1m[\u001b[0m \u001b[1;36m2.77623653e+00\u001b[0m,  \u001b[1;36m4.80858374e+00\u001b[0m,  \u001b[1;36m0.00000000e+00\u001b[0m\u001b[1m]\u001b[0m,\n",
       "        \u001b[1m[\u001b[0m \u001b[1;36m0.00000000e+00\u001b[0m,  \u001b[1;36m0.00000000e+00\u001b[0m,  \u001b[1;36m6.87666702e+00\u001b[0m\u001b[1m]\u001b[0m\u001b[1m]\u001b[0m,\n",
       "\n",
       "       \u001b[1m[\u001b[0m\u001b[1m[\u001b[0m \u001b[1;36m0.00000000e+00\u001b[0m,  \u001b[1;36m3.40722322e+00\u001b[0m,  \u001b[1;36m3.40722322e+00\u001b[0m\u001b[1m]\u001b[0m,\n",
       "        \u001b[1m[\u001b[0m \u001b[1;36m3.40722322e+00\u001b[0m, \u001b[1;36m-0.00000000e+00\u001b[0m,  \u001b[1;36m3.40722322e+00\u001b[0m\u001b[1m]\u001b[0m,\n",
       "        \u001b[1m[\u001b[0m \u001b[1;36m3.40722322e+00\u001b[0m,  \u001b[1;36m3.40722322e+00\u001b[0m, \u001b[1;36m-0.00000000e+00\u001b[0m\u001b[1m]\u001b[0m\u001b[1m]\u001b[0m,\n",
       "\n",
       "       \u001b[1m[\u001b[0m\u001b[1m[\u001b[0m \u001b[1;36m5.17026854e+00\u001b[0m,  \u001b[1;36m4.59468886e-02\u001b[0m,  \u001b[1;36m4.22376013e+00\u001b[0m\u001b[1m]\u001b[0m,\n",
       "        \u001b[1m[\u001b[0m \u001b[1;36m2.36728740e+00\u001b[0m,  \u001b[1;36m4.59670925e+00\u001b[0m,  \u001b[1;36m4.22376013e+00\u001b[0m\u001b[1m]\u001b[0m,\n",
       "        \u001b[1m[\u001b[0m\u001b[1;36m-2.57202461e-02\u001b[0m, \u001b[1;36m-1.58420391e-02\u001b[0m,  \u001b[1;36m8.51852894e+00\u001b[0m\u001b[1m]\u001b[0m\u001b[1m]\u001b[0m,\n",
       "\n",
       "       \u001b[1m[\u001b[0m\u001b[1m[\u001b[0m \u001b[1;36m4.46690083e+00\u001b[0m, \u001b[1;36m-0.00000000e+00\u001b[0m,  \u001b[1;36m0.00000000e+00\u001b[0m\u001b[1m]\u001b[0m,\n",
       "        \u001b[1m[\u001b[0m\u001b[1;36m-0.00000000e+00\u001b[0m,  \u001b[1;36m4.46690083e+00\u001b[0m,  \u001b[1;36m0.00000000e+00\u001b[0m\u001b[1m]\u001b[0m,\n",
       "        \u001b[1m[\u001b[0m \u001b[1;36m0.00000000e+00\u001b[0m,  \u001b[1;36m0.00000000e+00\u001b[0m,  \u001b[1;36m2.91806364e+00\u001b[0m\u001b[1m]\u001b[0m\u001b[1m]\u001b[0m,\n",
       "\n",
       "       \u001b[1m[\u001b[0m\u001b[1m[\u001b[0m \u001b[1;36m5.63208389e+00\u001b[0m,  \u001b[1;36m0.00000000e+00\u001b[0m,  \u001b[1;36m0.00000000e+00\u001b[0m\u001b[1m]\u001b[0m,\n",
       "        \u001b[1m[\u001b[0m \u001b[1;36m0.00000000e+00\u001b[0m,  \u001b[1;36m5.63208389e+00\u001b[0m,  \u001b[1;36m0.00000000e+00\u001b[0m\u001b[1m]\u001b[0m,\n",
       "        \u001b[1m[\u001b[0m \u001b[1;36m0.00000000e+00\u001b[0m,  \u001b[1;36m0.00000000e+00\u001b[0m,  \u001b[1;36m3.79630756e+00\u001b[0m\u001b[1m]\u001b[0m\u001b[1m]\u001b[0m,\n",
       "\n",
       "       \u001b[1m[\u001b[0m\u001b[1m[\u001b[0m \u001b[1;36m5.04484177e+00\u001b[0m, \u001b[1;36m-0.00000000e+00\u001b[0m,  \u001b[1;36m0.00000000e+00\u001b[0m\u001b[1m]\u001b[0m,\n",
       "        \u001b[1m[\u001b[0m \u001b[1;36m0.00000000e+00\u001b[0m,  \u001b[1;36m5.04484177e+00\u001b[0m,  \u001b[1;36m0.00000000e+00\u001b[0m\u001b[1m]\u001b[0m,\n",
       "        \u001b[1m[\u001b[0m\u001b[1;36m-0.00000000e+00\u001b[0m,  \u001b[1;36m0.00000000e+00\u001b[0m,  \u001b[1;36m5.04484177e+00\u001b[0m\u001b[1m]\u001b[0m\u001b[1m]\u001b[0m,\n",
       "\n",
       "       \u001b[1m[\u001b[0m\u001b[1m[\u001b[0m \u001b[1;36m4.32090902e+00\u001b[0m, \u001b[1;36m-0.00000000e+00\u001b[0m, \u001b[1;36m-0.00000000e+00\u001b[0m\u001b[1m]\u001b[0m,\n",
       "        \u001b[1m[\u001b[0m\u001b[1;36m-0.00000000e+00\u001b[0m,  \u001b[1;36m4.32090902e+00\u001b[0m, \u001b[1;36m-0.00000000e+00\u001b[0m\u001b[1m]\u001b[0m,\n",
       "        \u001b[1m[\u001b[0m \u001b[1;36m0.00000000e+00\u001b[0m,  \u001b[1;36m0.00000000e+00\u001b[0m,  \u001b[1;36m4.32090902e+00\u001b[0m\u001b[1m]\u001b[0m\u001b[1m]\u001b[0m,\n",
       "\n",
       "       \u001b[1m[\u001b[0m\u001b[1m[\u001b[0m \u001b[1;36m4.10159826e+00\u001b[0m,  \u001b[1;36m0.00000000e+00\u001b[0m,  \u001b[1;36m0.00000000e+00\u001b[0m\u001b[1m]\u001b[0m,\n",
       "        \u001b[1m[\u001b[0m \u001b[1;36m0.00000000e+00\u001b[0m,  \u001b[1;36m4.10159826e+00\u001b[0m, \u001b[1;36m-0.00000000e+00\u001b[0m\u001b[1m]\u001b[0m,\n",
       "        \u001b[1m[\u001b[0m \u001b[1;36m0.00000000e+00\u001b[0m,  \u001b[1;36m0.00000000e+00\u001b[0m,  \u001b[1;36m4.10159826e+00\u001b[0m\u001b[1m]\u001b[0m\u001b[1m]\u001b[0m,\n",
       "\n",
       "       \u001b[1m[\u001b[0m\u001b[1m[\u001b[0m \u001b[1;36m3.47173119e+00\u001b[0m, \u001b[1;36m-0.00000000e+00\u001b[0m,  \u001b[1;36m0.00000000e+00\u001b[0m\u001b[1m]\u001b[0m,\n",
       "        \u001b[1m[\u001b[0m \u001b[1;36m0.00000000e+00\u001b[0m,  \u001b[1;36m3.47173119e+00\u001b[0m,  \u001b[1;36m0.00000000e+00\u001b[0m\u001b[1m]\u001b[0m,\n",
       "        \u001b[1m[\u001b[0m \u001b[1;36m0.00000000e+00\u001b[0m,  \u001b[1;36m0.00000000e+00\u001b[0m,  \u001b[1;36m3.47173119e+00\u001b[0m\u001b[1m]\u001b[0m\u001b[1m]\u001b[0m,\n",
       "\n",
       "       \u001b[1m[\u001b[0m\u001b[1m[\u001b[0m \u001b[1;36m4.34890127e+00\u001b[0m,  \u001b[1;36m0.00000000e+00\u001b[0m,  \u001b[1;36m0.00000000e+00\u001b[0m\u001b[1m]\u001b[0m,\n",
       "        \u001b[1m[\u001b[0m \u001b[1;36m0.00000000e+00\u001b[0m,  \u001b[1;36m4.34890127e+00\u001b[0m,  \u001b[1;36m0.00000000e+00\u001b[0m\u001b[1m]\u001b[0m,\n",
       "        \u001b[1m[\u001b[0m \u001b[1;36m0.00000000e+00\u001b[0m, \u001b[1;36m-0.00000000e+00\u001b[0m,  \u001b[1;36m4.10287571e+00\u001b[0m\u001b[1m]\u001b[0m\u001b[1m]\u001b[0m,\n",
       "\n",
       "       \u001b[1m[\u001b[0m\u001b[1m[\u001b[0m \u001b[1;36m1.57596529e+00\u001b[0m,  \u001b[1;36m9.09883976e-01\u001b[0m,  \u001b[1;36m6.10672760e+00\u001b[0m\u001b[1m]\u001b[0m,\n",
       "        \u001b[1m[\u001b[0m\u001b[1;36m-1.57596529e+00\u001b[0m,  \u001b[1;36m9.09883976e-01\u001b[0m,  \u001b[1;36m6.10672760e+00\u001b[0m\u001b[1m]\u001b[0m,\n",
       "        \u001b[1m[\u001b[0m \u001b[1;36m0.00000000e+00\u001b[0m, \u001b[1;36m-1.81976795e+00\u001b[0m,  \u001b[1;36m6.10672760e+00\u001b[0m\u001b[1m]\u001b[0m\u001b[1m]\u001b[0m,\n",
       "\n",
       "       \u001b[1m[\u001b[0m\u001b[1m[\u001b[0m \u001b[1;36m0.00000000e+00\u001b[0m,  \u001b[1;36m3.15293479e+00\u001b[0m,  \u001b[1;36m3.15293479e+00\u001b[0m\u001b[1m]\u001b[0m,\n",
       "        \u001b[1m[\u001b[0m \u001b[1;36m3.15293479e+00\u001b[0m,  \u001b[1;36m0.00000000e+00\u001b[0m,  \u001b[1;36m3.15293479e+00\u001b[0m\u001b[1m]\u001b[0m,\n",
       "        \u001b[1m[\u001b[0m \u001b[1;36m3.15293479e+00\u001b[0m,  \u001b[1;36m3.15293479e+00\u001b[0m, \u001b[1;36m-0.00000000e+00\u001b[0m\u001b[1m]\u001b[0m\u001b[1m]\u001b[0m,\n",
       "\n",
       "       \u001b[1m[\u001b[0m\u001b[1m[\u001b[0m \u001b[1;36m4.12302399e+00\u001b[0m, \u001b[1;36m-0.00000000e+00\u001b[0m, \u001b[1;36m-0.00000000e+00\u001b[0m\u001b[1m]\u001b[0m,\n",
       "        \u001b[1m[\u001b[0m\u001b[1;36m-0.00000000e+00\u001b[0m,  \u001b[1;36m4.12302399e+00\u001b[0m,  \u001b[1;36m0.00000000e+00\u001b[0m\u001b[1m]\u001b[0m,\n",
       "        \u001b[1m[\u001b[0m\u001b[1;36m-0.00000000e+00\u001b[0m,  \u001b[1;36m0.00000000e+00\u001b[0m,  \u001b[1;36m7.68253231e+00\u001b[0m\u001b[1m]\u001b[0m\u001b[1m]\u001b[0m,\n",
       "\n",
       "       \u001b[1m[\u001b[0m\u001b[1m[\u001b[0m \u001b[1;36m2.84783435e+00\u001b[0m,  \u001b[1;36m0.00000000e+00\u001b[0m, \u001b[1;36m-0.00000000e+00\u001b[0m\u001b[1m]\u001b[0m,\n",
       "        \u001b[1m[\u001b[0m \u001b[1;36m0.00000000e+00\u001b[0m,  \u001b[1;36m2.84783435e+00\u001b[0m,  \u001b[1;36m0.00000000e+00\u001b[0m\u001b[1m]\u001b[0m,\n",
       "        \u001b[1m[\u001b[0m\u001b[1;36m-0.00000000e+00\u001b[0m,  \u001b[1;36m0.00000000e+00\u001b[0m,  \u001b[1;36m5.57102585e+00\u001b[0m\u001b[1m]\u001b[0m\u001b[1m]\u001b[0m,\n",
       "\n",
       "       \u001b[1m[\u001b[0m\u001b[1m[\u001b[0m \u001b[1;36m4.23389530e+00\u001b[0m,  \u001b[1;36m0.00000000e+00\u001b[0m, \u001b[1;36m-0.00000000e+00\u001b[0m\u001b[1m]\u001b[0m,\n",
       "        \u001b[1m[\u001b[0m\u001b[1;36m-0.00000000e+00\u001b[0m,  \u001b[1;36m4.23389530e+00\u001b[0m,  \u001b[1;36m0.00000000e+00\u001b[0m\u001b[1m]\u001b[0m,\n",
       "        \u001b[1m[\u001b[0m \u001b[1;36m0.00000000e+00\u001b[0m,  \u001b[1;36m0.00000000e+00\u001b[0m,  \u001b[1;36m7.08591175e+00\u001b[0m\u001b[1m]\u001b[0m\u001b[1m]\u001b[0m,\n",
       "\n",
       "       \u001b[1m[\u001b[0m\u001b[1m[\u001b[0m\u001b[1;36m-0.00000000e+00\u001b[0m,  \u001b[1;36m3.17619038e+00\u001b[0m,  \u001b[1;36m3.17619038e+00\u001b[0m\u001b[1m]\u001b[0m,\n",
       "        \u001b[1m[\u001b[0m \u001b[1;36m3.17619038e+00\u001b[0m,  \u001b[1;36m0.00000000e+00\u001b[0m,  \u001b[1;36m3.17619038e+00\u001b[0m\u001b[1m]\u001b[0m,\n",
       "        \u001b[1m[\u001b[0m \u001b[1;36m3.17619038e+00\u001b[0m,  \u001b[1;36m3.17619038e+00\u001b[0m, \u001b[1;36m-0.00000000e+00\u001b[0m\u001b[1m]\u001b[0m\u001b[1m]\u001b[0m,\n",
       "\n",
       "       \u001b[1m[\u001b[0m\u001b[1m[\u001b[0m \u001b[1;36m3.94173646e+00\u001b[0m, \u001b[1;36m-0.00000000e+00\u001b[0m,  \u001b[1;36m0.00000000e+00\u001b[0m\u001b[1m]\u001b[0m,\n",
       "        \u001b[1m[\u001b[0m \u001b[1;36m0.00000000e+00\u001b[0m,  \u001b[1;36m3.94173646e+00\u001b[0m,  \u001b[1;36m0.00000000e+00\u001b[0m\u001b[1m]\u001b[0m,\n",
       "        \u001b[1m[\u001b[0m \u001b[1;36m0.00000000e+00\u001b[0m,  \u001b[1;36m0.00000000e+00\u001b[0m,  \u001b[1;36m5.14400434e+00\u001b[0m\u001b[1m]\u001b[0m\u001b[1m]\u001b[0m,\n",
       "\n",
       "       \u001b[1m[\u001b[0m\u001b[1m[\u001b[0m \u001b[1;36m3.09437084e+00\u001b[0m,  \u001b[1;36m3.09437084e+00\u001b[0m,  \u001b[1;36m0.00000000e+00\u001b[0m\u001b[1m]\u001b[0m,\n",
       "        \u001b[1m[\u001b[0m \u001b[1;36m3.09437084e+00\u001b[0m, \u001b[1;36m-0.00000000e+00\u001b[0m, \u001b[1;36m-3.09437084e+00\u001b[0m\u001b[1m]\u001b[0m,\n",
       "        \u001b[1m[\u001b[0m\u001b[1;36m-0.00000000e+00\u001b[0m,  \u001b[1;36m3.09437084e+00\u001b[0m, \u001b[1;36m-3.09437084e+00\u001b[0m\u001b[1m]\u001b[0m\u001b[1m]\u001b[0m,\n",
       "\n",
       "       \u001b[1m[\u001b[0m\u001b[1m[\u001b[0m \u001b[1;36m4.15750456e+00\u001b[0m,  \u001b[1;36m3.16126570e-02\u001b[0m,  \u001b[1;36m0.00000000e+00\u001b[0m\u001b[1m]\u001b[0m,\n",
       "        \u001b[1m[\u001b[0m\u001b[1;36m-2.44365875e-02\u001b[0m,  \u001b[1;36m4.15755272e+00\u001b[0m,  \u001b[1;36m0.00000000e+00\u001b[0m\u001b[1m]\u001b[0m,\n",
       "        \u001b[1m[\u001b[0m \u001b[1;36m0.00000000e+00\u001b[0m,  \u001b[1;36m0.00000000e+00\u001b[0m,  \u001b[1;36m5.80744600e+00\u001b[0m\u001b[1m]\u001b[0m\u001b[1m]\u001b[0m,\n",
       "\n",
       "       \u001b[1m[\u001b[0m\u001b[1m[\u001b[0m\u001b[1;36m-1.70049953e+00\u001b[0m,  \u001b[1;36m1.70049953e+00\u001b[0m,  \u001b[1;36m3.80576897e+00\u001b[0m\u001b[1m]\u001b[0m,\n",
       "        \u001b[1m[\u001b[0m \u001b[1;36m1.70049953e+00\u001b[0m, \u001b[1;36m-1.70049953e+00\u001b[0m,  \u001b[1;36m3.80576897e+00\u001b[0m\u001b[1m]\u001b[0m,\n",
       "        \u001b[1m[\u001b[0m \u001b[1;36m1.70049953e+00\u001b[0m,  \u001b[1;36m1.70049953e+00\u001b[0m, \u001b[1;36m-3.80576897e+00\u001b[0m\u001b[1m]\u001b[0m\u001b[1m]\u001b[0m,\n",
       "\n",
       "       \u001b[1m[\u001b[0m\u001b[1m[\u001b[0m \u001b[1;36m4.42312002e+00\u001b[0m,  \u001b[1;36m8.02476823e-01\u001b[0m, \u001b[1;36m-1.36223152e-01\u001b[0m\u001b[1m]\u001b[0m,\n",
       "        \u001b[1m[\u001b[0m \u001b[1;36m1.93069577e+00\u001b[0m, \u001b[1;36m-3.55800033e+00\u001b[0m, \u001b[1;36m-6.82834506e-01\u001b[0m\u001b[1m]\u001b[0m,\n",
       "        \u001b[1m[\u001b[0m\u001b[1;36m-6.64200068e-01\u001b[0m, \u001b[1;36m-2.53603482e+00\u001b[0m, \u001b[1;36m-2.82632232e+00\u001b[0m\u001b[1m]\u001b[0m\u001b[1m]\u001b[0m,\n",
       "\n",
       "       \u001b[1m[\u001b[0m\u001b[1m[\u001b[0m\u001b[1;36m-1.80442095e+00\u001b[0m,  \u001b[1;36m1.80442095e+00\u001b[0m,  \u001b[1;36m4.22548246e+00\u001b[0m\u001b[1m]\u001b[0m,\n",
       "        \u001b[1m[\u001b[0m \u001b[1;36m1.80442095e+00\u001b[0m, \u001b[1;36m-1.80442095e+00\u001b[0m,  \u001b[1;36m4.22548246e+00\u001b[0m\u001b[1m]\u001b[0m,\n",
       "        \u001b[1m[\u001b[0m \u001b[1;36m1.80442095e+00\u001b[0m,  \u001b[1;36m1.80442095e+00\u001b[0m, \u001b[1;36m-4.22548246e+00\u001b[0m\u001b[1m]\u001b[0m\u001b[1m]\u001b[0m,\n",
       "\n",
       "       \u001b[1m[\u001b[0m\u001b[1m[\u001b[0m\u001b[1;36m-9.28605366e+00\u001b[0m, \u001b[1;36m-5.43153703e-01\u001b[0m, \u001b[1;36m-2.24432874e+00\u001b[0m\u001b[1m]\u001b[0m,\n",
       "        \u001b[1m[\u001b[0m\u001b[1;36m-6.74797058e+00\u001b[0m,  \u001b[1;36m1.86901778e-01\u001b[0m,  \u001b[1;36m5.88942409e-01\u001b[0m\u001b[1m]\u001b[0m,\n",
       "        \u001b[1m[\u001b[0m\u001b[1;36m-5.11130953e+00\u001b[0m,  \u001b[1;36m2.24089599e+00\u001b[0m, \u001b[1;36m-1.01524651e-01\u001b[0m\u001b[1m]\u001b[0m\u001b[1m]\u001b[0m,\n",
       "\n",
       "       \u001b[1m[\u001b[0m\u001b[1m[\u001b[0m\u001b[1;36m-1.54742813e+00\u001b[0m,  \u001b[1;36m1.54742813e+00\u001b[0m,  \u001b[1;36m4.22729492e+00\u001b[0m\u001b[1m]\u001b[0m,\n",
       "        \u001b[1m[\u001b[0m \u001b[1;36m1.54742813e+00\u001b[0m, \u001b[1;36m-1.54742813e+00\u001b[0m,  \u001b[1;36m4.22729492e+00\u001b[0m\u001b[1m]\u001b[0m,\n",
       "        \u001b[1m[\u001b[0m \u001b[1;36m1.54742813e+00\u001b[0m,  \u001b[1;36m1.54742813e+00\u001b[0m, \u001b[1;36m-4.22729492e+00\u001b[0m\u001b[1m]\u001b[0m\u001b[1m]\u001b[0m,\n",
       "\n",
       "       \u001b[1m[\u001b[0m\u001b[1m[\u001b[0m\u001b[1;36m-1.54024434e+00\u001b[0m,  \u001b[1;36m1.54024434e+00\u001b[0m,  \u001b[1;36m5.49325323e+00\u001b[0m\u001b[1m]\u001b[0m,\n",
       "        \u001b[1m[\u001b[0m \u001b[1;36m1.54024434e+00\u001b[0m, \u001b[1;36m-1.54024434e+00\u001b[0m,  \u001b[1;36m5.49325323e+00\u001b[0m\u001b[1m]\u001b[0m,\n",
       "        \u001b[1m[\u001b[0m \u001b[1;36m1.54024434e+00\u001b[0m,  \u001b[1;36m1.54024434e+00\u001b[0m, \u001b[1;36m-5.49325323e+00\u001b[0m\u001b[1m]\u001b[0m\u001b[1m]\u001b[0m,\n",
       "\n",
       "       \u001b[1m[\u001b[0m\u001b[1m[\u001b[0m \u001b[1;36m1.50399792e+00\u001b[0m, \u001b[1;36m-2.60500169e+00\u001b[0m,  \u001b[1;36m0.00000000e+00\u001b[0m\u001b[1m]\u001b[0m,\n",
       "        \u001b[1m[\u001b[0m \u001b[1;36m1.50399792e+00\u001b[0m,  \u001b[1;36m2.60500169e+00\u001b[0m,  \u001b[1;36m0.00000000e+00\u001b[0m\u001b[1m]\u001b[0m,\n",
       "        \u001b[1m[\u001b[0m \u001b[1;36m0.00000000e+00\u001b[0m,  \u001b[1;36m0.00000000e+00\u001b[0m,  \u001b[1;36m3.42856932e+00\u001b[0m\u001b[1m]\u001b[0m\u001b[1m]\u001b[0m,\n",
       "\n",
       "       \u001b[1m[\u001b[0m\u001b[1m[\u001b[0m \u001b[1;36m3.42377448e+00\u001b[0m, \u001b[1;36m-0.00000000e+00\u001b[0m,  \u001b[1;36m0.00000000e+00\u001b[0m\u001b[1m]\u001b[0m,\n",
       "        \u001b[1m[\u001b[0m \u001b[1;36m0.00000000e+00\u001b[0m,  \u001b[1;36m3.42377448e+00\u001b[0m, \u001b[1;36m-0.00000000e+00\u001b[0m\u001b[1m]\u001b[0m,\n",
       "        \u001b[1m[\u001b[0m\u001b[1;36m-0.00000000e+00\u001b[0m, \u001b[1;36m-0.00000000e+00\u001b[0m,  \u001b[1;36m6.86450148e+00\u001b[0m\u001b[1m]\u001b[0m\u001b[1m]\u001b[0m,\n",
       "\n",
       "       \u001b[1m[\u001b[0m\u001b[1m[\u001b[0m \u001b[1;36m2.87435436e+00\u001b[0m,  \u001b[1;36m0.00000000e+00\u001b[0m,  \u001b[1;36m0.00000000e+00\u001b[0m\u001b[1m]\u001b[0m,\n",
       "        \u001b[1m[\u001b[0m\u001b[1;36m-0.00000000e+00\u001b[0m,  \u001b[1;36m2.87435436e+00\u001b[0m,  \u001b[1;36m0.00000000e+00\u001b[0m\u001b[1m]\u001b[0m,\n",
       "        \u001b[1m[\u001b[0m\u001b[1;36m-0.00000000e+00\u001b[0m,  \u001b[1;36m0.00000000e+00\u001b[0m,  \u001b[1;36m6.50905752e+00\u001b[0m\u001b[1m]\u001b[0m\u001b[1m]\u001b[0m,\n",
       "\n",
       "       \u001b[1m[\u001b[0m\u001b[1m[\u001b[0m \u001b[1;36m4.52606106e+00\u001b[0m,  \u001b[1;36m0.00000000e+00\u001b[0m,  \u001b[1;36m2.80739099e-01\u001b[0m\u001b[1m]\u001b[0m,\n",
       "        \u001b[1m[\u001b[0m \u001b[1;36m0.00000000e+00\u001b[0m,  \u001b[1;36m3.32955909e+00\u001b[0m,  \u001b[1;36m0.00000000e+00\u001b[0m\u001b[1m]\u001b[0m,\n",
       "        \u001b[1m[\u001b[0m \u001b[1;36m6.75897479e-01\u001b[0m,  \u001b[1;36m0.00000000e+00\u001b[0m,  \u001b[1;36m7.12796545e+00\u001b[0m\u001b[1m]\u001b[0m\u001b[1m]\u001b[0m,\n",
       "\n",
       "       \u001b[1m[\u001b[0m\u001b[1m[\u001b[0m \u001b[1;36m3.66534901e+00\u001b[0m, \u001b[1;36m-0.00000000e+00\u001b[0m, \u001b[1;36m-0.00000000e+00\u001b[0m\u001b[1m]\u001b[0m,\n",
       "        \u001b[1m[\u001b[0m\u001b[1;36m-1.83267450e+00\u001b[0m,  \u001b[1;36m3.17428517e+00\u001b[0m,  \u001b[1;36m0.00000000e+00\u001b[0m\u001b[1m]\u001b[0m,\n",
       "        \u001b[1m[\u001b[0m\u001b[1;36m-0.00000000e+00\u001b[0m,  \u001b[1;36m0.00000000e+00\u001b[0m,  \u001b[1;36m3.49886775e+00\u001b[0m\u001b[1m]\u001b[0m\u001b[1m]\u001b[0m,\n",
       "\n",
       "       \u001b[1m[\u001b[0m\u001b[1m[\u001b[0m \u001b[1;36m2.31417704e+00\u001b[0m,  \u001b[1;36m0.00000000e+00\u001b[0m,  \u001b[1;36m1.33609104e+00\u001b[0m\u001b[1m]\u001b[0m,\n",
       "        \u001b[1m[\u001b[0m \u001b[1;36m7.71391988e-01\u001b[0m,  \u001b[1;36m2.18182707e+00\u001b[0m,  \u001b[1;36m1.33609104e+00\u001b[0m\u001b[1m]\u001b[0m,\n",
       "        \u001b[1m[\u001b[0m \u001b[1;36m0.00000000e+00\u001b[0m,  \u001b[1;36m0.00000000e+00\u001b[0m,  \u001b[1;36m2.67218089e+00\u001b[0m\u001b[1m]\u001b[0m\u001b[1m]\u001b[0m,\n",
       "\n",
       "       \u001b[1m[\u001b[0m\u001b[1m[\u001b[0m \u001b[1;36m3.45962095e+00\u001b[0m,  \u001b[1;36m0.00000000e+00\u001b[0m, \u001b[1;36m-0.00000000e+00\u001b[0m\u001b[1m]\u001b[0m,\n",
       "        \u001b[1m[\u001b[0m \u001b[1;36m0.00000000e+00\u001b[0m,  \u001b[1;36m3.45962095e+00\u001b[0m,  \u001b[1;36m0.00000000e+00\u001b[0m\u001b[1m]\u001b[0m,\n",
       "        \u001b[1m[\u001b[0m \u001b[1;36m0.00000000e+00\u001b[0m,  \u001b[1;36m0.00000000e+00\u001b[0m,  \u001b[1;36m3.45962095e+00\u001b[0m\u001b[1m]\u001b[0m\u001b[1m]\u001b[0m,\n",
       "\n",
       "       \u001b[1m[\u001b[0m\u001b[1m[\u001b[0m \u001b[1;36m5.29177237e+00\u001b[0m,  \u001b[1;36m0.00000000e+00\u001b[0m,  \u001b[1;36m0.00000000e+00\u001b[0m\u001b[1m]\u001b[0m,\n",
       "        \u001b[1m[\u001b[0m \u001b[1;36m0.00000000e+00\u001b[0m,  \u001b[1;36m5.29177237e+00\u001b[0m,  \u001b[1;36m0.00000000e+00\u001b[0m\u001b[1m]\u001b[0m,\n",
       "        \u001b[1m[\u001b[0m \u001b[1;36m0.00000000e+00\u001b[0m,  \u001b[1;36m0.00000000e+00\u001b[0m,  \u001b[1;36m7.40848160e+00\u001b[0m\u001b[1m]\u001b[0m\u001b[1m]\u001b[0m,\n",
       "\n",
       "       \u001b[1m[\u001b[0m\u001b[1m[\u001b[0m \u001b[1;36m0.00000000e+00\u001b[0m,  \u001b[1;36m0.00000000e+00\u001b[0m,  \u001b[1;36m0.00000000e+00\u001b[0m\u001b[1m]\u001b[0m,\n",
       "        \u001b[1m[\u001b[0m \u001b[1;36m0.00000000e+00\u001b[0m,  \u001b[1;36m0.00000000e+00\u001b[0m,  \u001b[1;36m0.00000000e+00\u001b[0m\u001b[1m]\u001b[0m,\n",
       "        \u001b[1m[\u001b[0m \u001b[1;36m0.00000000e+00\u001b[0m,  \u001b[1;36m0.00000000e+00\u001b[0m,  \u001b[1;36m0.00000000e+00\u001b[0m\u001b[1m]\u001b[0m\u001b[1m]\u001b[0m,\n",
       "\n",
       "       \u001b[1m[\u001b[0m\u001b[1m[\u001b[0m \u001b[1;36m0.00000000e+00\u001b[0m,  \u001b[1;36m0.00000000e+00\u001b[0m,  \u001b[1;36m0.00000000e+00\u001b[0m\u001b[1m]\u001b[0m,\n",
       "        \u001b[1m[\u001b[0m \u001b[1;36m0.00000000e+00\u001b[0m,  \u001b[1;36m0.00000000e+00\u001b[0m,  \u001b[1;36m0.00000000e+00\u001b[0m\u001b[1m]\u001b[0m,\n",
       "        \u001b[1m[\u001b[0m \u001b[1;36m0.00000000e+00\u001b[0m,  \u001b[1;36m0.00000000e+00\u001b[0m,  \u001b[1;36m0.00000000e+00\u001b[0m\u001b[1m]\u001b[0m\u001b[1m]\u001b[0m\u001b[1m]\u001b[0m,      \u001b[33mdtype\u001b[0m=\u001b[35mfloat32\u001b[0m\u001b[1m)\u001b[0m,\n",
       "        \u001b[33me_form\u001b[0m=\u001b[1;35mArray\u001b[0m\u001b[1m(\u001b[0m\u001b[1m[\u001b[0m\u001b[1;36m-2.97295\u001b[0m, \u001b[1;36m-0.16274\u001b[0m, \u001b[1;36m-2.68945\u001b[0m, \u001b[1;36m-2.60915\u001b[0m, \u001b[1;36m-1.47502\u001b[0m, \u001b[1;36m-1.47172\u001b[0m,\n",
       "       \u001b[1;36m-1.95572\u001b[0m, \u001b[1;36m-0.38862\u001b[0m, \u001b[1;36m-2.27363\u001b[0m, \u001b[1;36m-1.96061\u001b[0m, \u001b[1;36m-1.73123\u001b[0m, \u001b[1;36m-2.1377\u001b[0m ,\n",
       "       \u001b[1;36m-1.96628\u001b[0m, \u001b[1;36m-0.57296\u001b[0m, \u001b[1;36m-0.42509\u001b[0m, \u001b[1;36m-2.4866\u001b[0m , \u001b[1;36m-3.43052\u001b[0m, \u001b[1;36m-2.5679\u001b[0m ,\n",
       "       \u001b[1;36m-1.71926\u001b[0m, \u001b[1;36m-2.9162\u001b[0m , \u001b[1;36m-2.67489\u001b[0m, \u001b[1;36m-1.06652\u001b[0m, \u001b[1;36m-2.35347\u001b[0m, \u001b[1;36m-0.70943\u001b[0m,\n",
       "       \u001b[1;36m-0.885\u001b[0m  , \u001b[1;36m-0.82375\u001b[0m, \u001b[1;36m-0.97026\u001b[0m, \u001b[1;36m-0.63735\u001b[0m, \u001b[1;36m-0.74968\u001b[0m, \u001b[1;36m-0.28068\u001b[0m,\n",
       "        \u001b[1;36m0.49447\u001b[0m, \u001b[1;36m-0.46781\u001b[0m, \u001b[1;36m-1.76177\u001b[0m, \u001b[1;36m-0.01375\u001b[0m,  \u001b[1;36m0.02628\u001b[0m, \u001b[1;36m-3.30182\u001b[0m,\n",
       "       \u001b[1;36m-2.15686\u001b[0m, \u001b[1;36m-0.16403\u001b[0m,  \u001b[1;36m0.39673\u001b[0m, \u001b[1;36m-0.8252\u001b[0m , \u001b[1;36m-0.55925\u001b[0m, \u001b[1;36m-0.16675\u001b[0m,\n",
       "       \u001b[1;36m-0.4213\u001b[0m , \u001b[1;36m-0.38892\u001b[0m, \u001b[1;36m-0.64533\u001b[0m, \u001b[1;36m-0\u001b[0m.     ,  \u001b[1;36m0.3119\u001b[0m , \u001b[1;36m-0.54261\u001b[0m,\n",
       "        \u001b[1;36m0.141\u001b[0m  ,  \u001b[1;36m0.5289\u001b[0m ,  \u001b[1;36m0.09202\u001b[0m, \u001b[1;36m-0.40074\u001b[0m, \u001b[1;36m-0.02765\u001b[0m,  \u001b[1;36m0.37237\u001b[0m,\n",
       "       \u001b[1;36m-0.0262\u001b[0m ,  \u001b[1;36m0.55652\u001b[0m, \u001b[1;36m-0.87156\u001b[0m,  \u001b[1;36m0.31086\u001b[0m, \u001b[1;36m-0.78689\u001b[0m,  \u001b[1;36m0.05985\u001b[0m,\n",
       "       \u001b[1;36m-0.97091\u001b[0m,  \u001b[1;36m5.01434\u001b[0m,  \u001b[1;36m0\u001b[0m.     ,  \u001b[1;36m0\u001b[0m.     \u001b[1m]\u001b[0m, \u001b[33mdtype\u001b[0m=\u001b[35mfloat32\u001b[0m\u001b[1m)\u001b[0m,\n",
       "        \u001b[33mbandgap\u001b[0m=\u001b[1;35mArray\u001b[0m\u001b[1m(\u001b[0m\u001b[1m[\u001b[0m\u001b[1;36m3.561\u001b[0m, \u001b[1;36m3.654\u001b[0m, \u001b[1;36m0\u001b[0m.   , \u001b[1;36m0\u001b[0m.   , \u001b[1;36m0\u001b[0m.   , \u001b[1;36m0\u001b[0m.   , \u001b[1;36m0\u001b[0m.   , \u001b[1;36m0\u001b[0m.   , \u001b[1;36m0\u001b[0m.   ,\n",
       "       \u001b[1;36m0.611\u001b[0m, \u001b[1;36m0.871\u001b[0m, \u001b[1;36m0\u001b[0m.   , \u001b[1;36m0\u001b[0m.   , \u001b[1;36m0.312\u001b[0m, \u001b[1;36m0\u001b[0m.   , \u001b[1;36m0\u001b[0m.   , \u001b[1;36m0.074\u001b[0m, \u001b[1;36m1.174\u001b[0m,\n",
       "       \u001b[1;36m0\u001b[0m.   , \u001b[1;36m3.864\u001b[0m, \u001b[1;36m1.657\u001b[0m, \u001b[1;36m0\u001b[0m.   , \u001b[1;36m0\u001b[0m.   , \u001b[1;36m1.321\u001b[0m, \u001b[1;36m0\u001b[0m.   , \u001b[1;36m0\u001b[0m.   , \u001b[1;36m0\u001b[0m.   ,\n",
       "       \u001b[1;36m0\u001b[0m.   , \u001b[1;36m0.147\u001b[0m, \u001b[1;36m0\u001b[0m.   , \u001b[1;36m0\u001b[0m.   , \u001b[1;36m0\u001b[0m.   , \u001b[1;36m1.366\u001b[0m, \u001b[1;36m0\u001b[0m.   , \u001b[1;36m1.325\u001b[0m, \u001b[1;36m0\u001b[0m.   ,\n",
       "       \u001b[1;36m0.367\u001b[0m, \u001b[1;36m0\u001b[0m.   , \u001b[1;36m0\u001b[0m.   , \u001b[1;36m0\u001b[0m.   , \u001b[1;36m0\u001b[0m.   , \u001b[1;36m0\u001b[0m.   , \u001b[1;36m0\u001b[0m.   , \u001b[1;36m0\u001b[0m.   , \u001b[1;36m0\u001b[0m.   ,\n",
       "       \u001b[1;36m6.676\u001b[0m, \u001b[1;36m0\u001b[0m.   , \u001b[1;36m0.745\u001b[0m, \u001b[1;36m0\u001b[0m.   , \u001b[1;36m0\u001b[0m.   , \u001b[1;36m0\u001b[0m.   , \u001b[1;36m0\u001b[0m.   , \u001b[1;36m0\u001b[0m.   , \u001b[1;36m0\u001b[0m.   ,\n",
       "       \u001b[1;36m0\u001b[0m.   , \u001b[1;36m0\u001b[0m.   , \u001b[1;36m0\u001b[0m.   , \u001b[1;36m0\u001b[0m.   , \u001b[1;36m0\u001b[0m.   , \u001b[1;36m0\u001b[0m.   , \u001b[1;36m0\u001b[0m.   , \u001b[1;36m0\u001b[0m.   , \u001b[1;36m0\u001b[0m.   ,\n",
       "       \u001b[1;36m0\u001b[0m.   \u001b[1m]\u001b[0m, \u001b[33mdtype\u001b[0m=\u001b[35mfloat32\u001b[0m\u001b[1m)\u001b[0m,\n",
       "        \u001b[33me_total\u001b[0m=\u001b[1;35mArray\u001b[0m\u001b[1m(\u001b[0m\u001b[1m[\u001b[0m\u001b[1;36m-4.95885\u001b[0m, \u001b[1;36m-4.32826\u001b[0m, \u001b[1;36m-5.90949\u001b[0m, \u001b[1;36m-6.49217\u001b[0m, \u001b[1;36m-4.94782\u001b[0m, \u001b[1;36m-5.34104\u001b[0m,\n",
       "       \u001b[1;36m-2.95034\u001b[0m, \u001b[1;36m-7.36439\u001b[0m, \u001b[1;36m-4.98377\u001b[0m, \u001b[1;36m-6.52933\u001b[0m, \u001b[1;36m-3.86665\u001b[0m, \u001b[1;36m-4.6604\u001b[0m ,\n",
       "       \u001b[1;36m-5.83336\u001b[0m, \u001b[1;36m-4.17329\u001b[0m, \u001b[1;36m-2.43845\u001b[0m, \u001b[1;36m-5.92249\u001b[0m, \u001b[1;36m-7.93124\u001b[0m, \u001b[1;36m-6.31692\u001b[0m,\n",
       "       \u001b[1;36m-5.92244\u001b[0m, \u001b[1;36m-5.37765\u001b[0m, \u001b[1;36m-5.10484\u001b[0m, \u001b[1;36m-2.06836\u001b[0m, \u001b[1;36m-2.68625\u001b[0m, \u001b[1;36m-2.73043\u001b[0m,\n",
       "       \u001b[1;36m-2.38953\u001b[0m, \u001b[1;36m-7.44678\u001b[0m, \u001b[1;36m-5.95485\u001b[0m, \u001b[1;36m-4.90438\u001b[0m, \u001b[1;36m-0.76486\u001b[0m, \u001b[1;36m-1.44998\u001b[0m,\n",
       "       \u001b[1;36m-4.05434\u001b[0m,  \u001b[1;36m0.27871\u001b[0m, \u001b[1;36m-4.25582\u001b[0m, \u001b[1;36m-2.154\u001b[0m  , \u001b[1;36m-2.14753\u001b[0m, \u001b[1;36m-3.62821\u001b[0m,\n",
       "       \u001b[1;36m-5.37343\u001b[0m, \u001b[1;36m-3.18949\u001b[0m, \u001b[1;36m-0.76452\u001b[0m, \u001b[1;36m-5.22067\u001b[0m, \u001b[1;36m-1.93543\u001b[0m, \u001b[1;36m-1.79238\u001b[0m,\n",
       "       \u001b[1;36m-3.16174\u001b[0m, \u001b[1;36m-0.74741\u001b[0m, \u001b[1;36m-6.74293\u001b[0m, \u001b[1;36m-6.8617\u001b[0m , \u001b[1;36m-0.69804\u001b[0m, \u001b[1;36m-2.07172\u001b[0m,\n",
       "       \u001b[1;36m-1.89231\u001b[0m, \u001b[1;36m-5.20962\u001b[0m, \u001b[1;36m-6.00301\u001b[0m, \u001b[1;36m-4.12649\u001b[0m, \u001b[1;36m-5.1561\u001b[0m ,  \u001b[1;36m0.02918\u001b[0m,\n",
       "       \u001b[1;36m-7.31355\u001b[0m, \u001b[1;36m-1.72399\u001b[0m, \u001b[1;36m-5.22952\u001b[0m, \u001b[1;36m-0.24461\u001b[0m, \u001b[1;36m-1.12631\u001b[0m, \u001b[1;36m-4.83838\u001b[0m,\n",
       "       \u001b[1;36m-2.98558\u001b[0m,  \u001b[1;36m0.33188\u001b[0m,  \u001b[1;36m0\u001b[0m.     ,  \u001b[1;36m0\u001b[0m.     \u001b[1m]\u001b[0m, \u001b[33mdtype\u001b[0m=\u001b[35mfloat32\u001b[0m\u001b[1m)\u001b[0m,\n",
       "        \u001b[33mehull\u001b[0m=\u001b[1;35mArray\u001b[0m\u001b[1m(\u001b[0m\u001b[1m[\u001b[0m\u001b[1;36m5.8000e-03\u001b[0m, \u001b[1;36m2.4180e-01\u001b[0m, \u001b[1;36m0.0000e+00\u001b[0m, \u001b[1;36m5.7000e-03\u001b[0m, \u001b[1;36m2.0600e-02\u001b[0m,\n",
       "       \u001b[1;36m1.1300e-02\u001b[0m, \u001b[1;36m2.4790e-01\u001b[0m, \u001b[1;36m2.3000e-03\u001b[0m, \u001b[1;36m9.2200e-02\u001b[0m, \u001b[1;36m1.6790e-01\u001b[0m,\n",
       "       \u001b[1;36m8.5400e-02\u001b[0m, \u001b[1;36m2.8980e-01\u001b[0m, \u001b[1;36m3.9300e-02\u001b[0m, \u001b[1;36m0.0000e+00\u001b[0m, \u001b[1;36m0.0000e+00\u001b[0m,\n",
       "       \u001b[1;36m3.2000e-02\u001b[0m, \u001b[1;36m0.0000e+00\u001b[0m, \u001b[1;36m3.9200e-02\u001b[0m, \u001b[1;36m6.9400e-02\u001b[0m, \u001b[1;36m0.0000e+00\u001b[0m,\n",
       "       \u001b[1;36m0.0000e+00\u001b[0m, \u001b[1;36m0.0000e+00\u001b[0m, \u001b[1;36m1.0550e-01\u001b[0m, \u001b[1;36m0.0000e+00\u001b[0m, \u001b[1;36m0.0000e+00\u001b[0m,\n",
       "       \u001b[1;36m1.0790e-01\u001b[0m, \u001b[1;36m0.0000e+00\u001b[0m, \u001b[1;36m0.0000e+00\u001b[0m, \u001b[1;36m0.0000e+00\u001b[0m, \u001b[1;36m1.0300e-02\u001b[0m,\n",
       "       \u001b[1;36m5.4770e-01\u001b[0m, \u001b[1;36m0.0000e+00\u001b[0m, \u001b[1;36m1.6100e-02\u001b[0m, \u001b[1;36m4.4170e-01\u001b[0m, \u001b[1;36m6.4400e-01\u001b[0m,\n",
       "       \u001b[1;36m1.2380e-01\u001b[0m, \u001b[1;36m6.1000e-03\u001b[0m, \u001b[1;36m1.4540e-01\u001b[0m, \u001b[1;36m7.2340e-01\u001b[0m, \u001b[1;36m1.1814e+00\u001b[0m,\n",
       "       \u001b[1;36m2.4900e-02\u001b[0m, \u001b[1;36m1.0200e+00\u001b[0m, \u001b[1;36m2.2180e-01\u001b[0m, \u001b[1;36m2.7320e-01\u001b[0m, \u001b[1;36m0.0000e+00\u001b[0m,\n",
       "       \u001b[1;36m0.0000e+00\u001b[0m, \u001b[1;36m3.7050e-01\u001b[0m, \u001b[1;36m1.7000e-02\u001b[0m, \u001b[1;36m3.8820e-01\u001b[0m, \u001b[1;36m5.3130e-01\u001b[0m,\n",
       "       \u001b[1;36m2.3750e-01\u001b[0m, \u001b[1;36m5.3000e-02\u001b[0m, \u001b[1;36m2.1960e-01\u001b[0m, \u001b[1;36m4.4520e-01\u001b[0m, \u001b[1;36m4.4970e-01\u001b[0m,\n",
       "       \u001b[1;36m1.0878e+00\u001b[0m, \u001b[1;36m1.0097e+00\u001b[0m, \u001b[1;36m3.1660e-01\u001b[0m, \u001b[1;36m3.8430e-01\u001b[0m, \u001b[1;36m6.0500e-02\u001b[0m,\n",
       "       \u001b[1;36m0.0000e+00\u001b[0m, \u001b[1;36m5.7260e+00\u001b[0m, \u001b[1;36m0.0000e+00\u001b[0m, \u001b[1;36m0.0000e+00\u001b[0m\u001b[1m]\u001b[0m, \u001b[33mdtype\u001b[0m=\u001b[35mfloat32\u001b[0m\u001b[1m)\u001b[0m,\n",
       "        \u001b[33mdimensionality\u001b[0m=\u001b[1;35mArray\u001b[0m\u001b[1m(\u001b[0m\u001b[1m[\u001b[0m\u001b[1;36m2\u001b[0m., \u001b[1;36m3\u001b[0m., \u001b[1;36m1\u001b[0m., \u001b[1;36m0\u001b[0m., \u001b[1;36m0\u001b[0m., \u001b[1;36m0\u001b[0m., \u001b[1;36m0\u001b[0m., \u001b[1;36m0\u001b[0m., \u001b[1;36m1\u001b[0m., \u001b[1;36m2\u001b[0m., \u001b[1;36m0\u001b[0m., \u001b[1;36m1\u001b[0m., \u001b[1;36m0\u001b[0m., \u001b[1;36m1\u001b[0m., \u001b[1;36m0\u001b[0m., \u001b[1;36m1\u001b[0m., \u001b[1;36m0\u001b[0m.,\n",
       "       \u001b[1;36m1\u001b[0m., \u001b[1;36m2\u001b[0m., \u001b[1;36m1\u001b[0m., \u001b[1;36m1\u001b[0m., \u001b[1;36m0\u001b[0m., \u001b[1;36m0\u001b[0m., \u001b[1;36m1\u001b[0m., \u001b[1;36m4\u001b[0m., \u001b[1;36m0\u001b[0m., \u001b[1;36m0\u001b[0m., \u001b[1;36m0\u001b[0m., \u001b[1;36m1\u001b[0m., \u001b[1;36m0\u001b[0m., \u001b[1;36m1\u001b[0m., \u001b[1;36m1\u001b[0m., \u001b[1;36m0\u001b[0m., \u001b[1;36m0\u001b[0m.,\n",
       "       \u001b[1;36m1\u001b[0m., \u001b[1;36m1\u001b[0m., \u001b[1;36m1\u001b[0m., \u001b[1;36m1\u001b[0m., \u001b[1;36m1\u001b[0m., \u001b[1;36m0\u001b[0m., \u001b[1;36m1\u001b[0m., \u001b[1;36m1\u001b[0m., \u001b[1;36m1\u001b[0m., \u001b[1;36m1\u001b[0m., \u001b[1;36m0\u001b[0m., \u001b[1;36m3\u001b[0m., \u001b[1;36m1\u001b[0m., \u001b[1;36m4\u001b[0m., \u001b[1;36m1\u001b[0m., \u001b[1;36m1\u001b[0m., \u001b[1;36m1\u001b[0m.,\n",
       "       \u001b[1;36m1\u001b[0m., \u001b[1;36m1\u001b[0m., \u001b[1;36m0\u001b[0m., \u001b[1;36m0\u001b[0m., \u001b[1;36m1\u001b[0m., \u001b[1;36m2\u001b[0m., \u001b[1;36m1\u001b[0m., \u001b[1;36m0\u001b[0m., \u001b[1;36m0\u001b[0m., \u001b[1;36m0\u001b[0m., \u001b[1;36m1\u001b[0m., \u001b[1;36m0\u001b[0m., \u001b[1;36m0\u001b[0m.\u001b[1m]\u001b[0m, \u001b[33mdtype\u001b[0m=\u001b[35mfloat32\u001b[0m\u001b[1m)\u001b[0m,\n",
       "        \u001b[33mdensity\u001b[0m=\u001b[1;35mArray\u001b[0m\u001b[1m(\u001b[0m\u001b[1m[\u001b[0m \u001b[1;36m3.612\u001b[0m,  \u001b[1;36m2.173\u001b[0m,  \u001b[1;36m5.723\u001b[0m,  \u001b[1;36m4.559\u001b[0m,  \u001b[1;36m5.402\u001b[0m,  \u001b[1;36m4.136\u001b[0m,  \u001b[1;36m3.184\u001b[0m,  \u001b[1;36m6.577\u001b[0m,\n",
       "        \u001b[1;36m4.426\u001b[0m,  \u001b[1;36m3.956\u001b[0m,  \u001b[1;36m4.33\u001b[0m ,  \u001b[1;36m6.173\u001b[0m,  \u001b[1;36m4.315\u001b[0m,  \u001b[1;36m4.47\u001b[0m ,  \u001b[1;36m7.804\u001b[0m,  \u001b[1;36m4.073\u001b[0m,\n",
       "        \u001b[1;36m8.323\u001b[0m,  \u001b[1;36m7.976\u001b[0m,  \u001b[1;36m4.277\u001b[0m,  \u001b[1;36m6.302\u001b[0m,  \u001b[1;36m7.87\u001b[0m , \u001b[1;36m12.362\u001b[0m,  \u001b[1;36m4.376\u001b[0m,  \u001b[1;36m2.991\u001b[0m,\n",
       "        \u001b[1;36m6.214\u001b[0m,  \u001b[1;36m5.938\u001b[0m, \u001b[1;36m11.398\u001b[0m,  \u001b[1;36m6.559\u001b[0m,  \u001b[1;36m4.8\u001b[0m  ,  \u001b[1;36m8.915\u001b[0m,  \u001b[1;36m6.965\u001b[0m,  \u001b[1;36m8.953\u001b[0m,\n",
       "        \u001b[1;36m5.968\u001b[0m,  \u001b[1;36m7.257\u001b[0m,  \u001b[1;36m1.905\u001b[0m,  \u001b[1;36m3.858\u001b[0m,  \u001b[1;36m8.309\u001b[0m,  \u001b[1;36m5.095\u001b[0m,  \u001b[1;36m5.677\u001b[0m,  \u001b[1;36m7.2\u001b[0m  ,\n",
       "        \u001b[1;36m7.57\u001b[0m ,  \u001b[1;36m4.339\u001b[0m,  \u001b[1;36m8.356\u001b[0m,  \u001b[1;36m6.448\u001b[0m, \u001b[1;36m11.091\u001b[0m,  \u001b[1;36m1.164\u001b[0m,  \u001b[1;36m2.325\u001b[0m,  \u001b[1;36m4.988\u001b[0m,\n",
       "        \u001b[1;36m3.82\u001b[0m ,  \u001b[1;36m2.355\u001b[0m,  \u001b[1;36m9.111\u001b[0m, \u001b[1;36m11.247\u001b[0m,  \u001b[1;36m9.943\u001b[0m,  \u001b[1;36m8.822\u001b[0m, \u001b[1;36m12.699\u001b[0m,  \u001b[1;36m2.409\u001b[0m,\n",
       "        \u001b[1;36m6.296\u001b[0m,  \u001b[1;36m4.445\u001b[0m,  \u001b[1;36m5.238\u001b[0m,  \u001b[1;36m6.523\u001b[0m, \u001b[1;36m10.975\u001b[0m,  \u001b[1;36m1.667\u001b[0m,  \u001b[1;36m0\u001b[0m.   ,  \u001b[1;36m0\u001b[0m.   \u001b[1m]\u001b[0m,      \u001b[33mdtype\u001b[0m=\u001b[35mfloat32\u001b[0m\u001b[1m)\u001b[0m,\n",
       "        \u001b[33mspace_group\u001b[0m=\u001b[1;35mArray\u001b[0m\u001b[1m(\u001b[0m\u001b[1m[\u001b[0m  \u001b[1;36m2\u001b[0m.,   \u001b[1;36m2\u001b[0m.,  \u001b[1;36m31\u001b[0m.,  \u001b[1;36m38\u001b[0m.,   \u001b[1;36m1\u001b[0m.,  \u001b[1;36m62\u001b[0m., \u001b[1;36m227\u001b[0m.,  \u001b[1;36m62\u001b[0m.,  \u001b[1;36m74\u001b[0m.,  \u001b[1;36m63\u001b[0m., \u001b[1;36m166\u001b[0m.,\n",
       "       \u001b[1;36m123\u001b[0m.,  \u001b[1;36m63\u001b[0m.,  \u001b[1;36m11\u001b[0m.,  \u001b[1;36m62\u001b[0m.,  \u001b[1;36m12\u001b[0m., \u001b[1;36m189\u001b[0m., \u001b[1;36m146\u001b[0m.,   \u001b[1;36m5\u001b[0m., \u001b[1;36m225\u001b[0m., \u001b[1;36m225\u001b[0m., \u001b[1;36m189\u001b[0m.,\n",
       "       \u001b[1;36m148\u001b[0m.,   \u001b[1;36m1\u001b[0m., \u001b[1;36m193\u001b[0m., \u001b[1;36m141\u001b[0m.,  \u001b[1;36m11\u001b[0m.,  \u001b[1;36m12\u001b[0m., \u001b[1;36m194\u001b[0m., \u001b[1;36m194\u001b[0m., \u001b[1;36m216\u001b[0m.,  \u001b[1;36m12\u001b[0m., \u001b[1;36m136\u001b[0m.,\n",
       "       \u001b[1;36m136\u001b[0m., \u001b[1;36m221\u001b[0m., \u001b[1;36m221\u001b[0m., \u001b[1;36m221\u001b[0m., \u001b[1;36m221\u001b[0m., \u001b[1;36m123\u001b[0m., \u001b[1;36m166\u001b[0m., \u001b[1;36m216\u001b[0m.,  \u001b[1;36m99\u001b[0m.,  \u001b[1;36m99\u001b[0m., \u001b[1;36m123\u001b[0m.,\n",
       "       \u001b[1;36m225\u001b[0m., \u001b[1;36m136\u001b[0m., \u001b[1;36m225\u001b[0m.,  \u001b[1;36m39\u001b[0m., \u001b[1;36m119\u001b[0m.,   \u001b[1;36m2\u001b[0m., \u001b[1;36m139\u001b[0m.,  \u001b[1;36m12\u001b[0m., \u001b[1;36m107\u001b[0m., \u001b[1;36m107\u001b[0m., \u001b[1;36m191\u001b[0m.,\n",
       "        \u001b[1;36m99\u001b[0m.,  \u001b[1;36m99\u001b[0m.,   \u001b[1;36m6\u001b[0m., \u001b[1;36m187\u001b[0m., \u001b[1;36m225\u001b[0m., \u001b[1;36m221\u001b[0m.,  \u001b[1;36m99\u001b[0m.,   \u001b[1;36m0\u001b[0m.,   \u001b[1;36m0\u001b[0m.\u001b[1m]\u001b[0m,      \u001b[33mdtype\u001b[0m=\u001b[35mfloat32\u001b[0m\u001b[1m)\u001b[0m,\n",
       "        \u001b[33mmagmom\u001b[0m=\u001b[1;35mArray\u001b[0m\u001b[1m(\u001b[0m\u001b[1m[\u001b[0m \u001b[1;36m0\u001b[0m.   ,  \u001b[1;36m0\u001b[0m.   , \u001b[1;36m13.396\u001b[0m,  \u001b[1;36m6.523\u001b[0m,  \u001b[1;36m2.718\u001b[0m, \u001b[1;36m15.324\u001b[0m,  \u001b[1;36m0\u001b[0m.   ,  \u001b[1;36m0\u001b[0m.   ,\n",
       "        \u001b[1;36m1.867\u001b[0m,  \u001b[1;36m0\u001b[0m.   ,  \u001b[1;36m2.817\u001b[0m,  \u001b[1;36m0\u001b[0m.   ,  \u001b[1;36m1.971\u001b[0m,  \u001b[1;36m0\u001b[0m.   ,  \u001b[1;36m0\u001b[0m.   ,  \u001b[1;36m1.844\u001b[0m,\n",
       "        \u001b[1;36m1.93\u001b[0m ,  \u001b[1;36m0\u001b[0m.   ,  \u001b[1;36m0\u001b[0m.   ,  \u001b[1;36m0\u001b[0m.   ,  \u001b[1;36m0\u001b[0m.   ,  \u001b[1;36m0\u001b[0m.   ,  \u001b[1;36m0\u001b[0m.   ,  \u001b[1;36m0\u001b[0m.   ,\n",
       "        \u001b[1;36m0\u001b[0m.   ,  \u001b[1;36m0\u001b[0m.   ,  \u001b[1;36m0\u001b[0m.   ,  \u001b[1;36m0\u001b[0m.   ,  \u001b[1;36m0\u001b[0m.   ,  \u001b[1;36m0\u001b[0m.   ,  \u001b[1;36m0\u001b[0m.   ,  \u001b[1;36m0\u001b[0m.   ,\n",
       "        \u001b[1;36m0\u001b[0m.   ,  \u001b[1;36m0\u001b[0m.   ,  \u001b[1;36m0\u001b[0m.   ,  \u001b[1;36m0.743\u001b[0m,  \u001b[1;36m0\u001b[0m.   ,  \u001b[1;36m0\u001b[0m.   ,  \u001b[1;36m0\u001b[0m.   ,  \u001b[1;36m0\u001b[0m.   ,\n",
       "        \u001b[1;36m0\u001b[0m.   ,  \u001b[1;36m3.878\u001b[0m,  \u001b[1;36m0\u001b[0m.   ,  \u001b[1;36m0\u001b[0m.   ,  \u001b[1;36m0\u001b[0m.   ,  \u001b[1;36m0\u001b[0m.   ,  \u001b[1;36m0\u001b[0m.   ,  \u001b[1;36m0\u001b[0m.   ,\n",
       "        \u001b[1;36m0.271\u001b[0m,  \u001b[1;36m0\u001b[0m.   ,  \u001b[1;36m0\u001b[0m.   ,  \u001b[1;36m0\u001b[0m.   ,  \u001b[1;36m0.901\u001b[0m,  \u001b[1;36m0\u001b[0m.   ,  \u001b[1;36m0\u001b[0m.   ,  \u001b[1;36m0\u001b[0m.   ,\n",
       "        \u001b[1;36m0\u001b[0m.   ,  \u001b[1;36m0\u001b[0m.   ,  \u001b[1;36m0\u001b[0m.   ,  \u001b[1;36m0\u001b[0m.   ,  \u001b[1;36m0\u001b[0m.   ,  \u001b[1;36m4.123\u001b[0m,  \u001b[1;36m0\u001b[0m.   ,  \u001b[1;36m0\u001b[0m.   \u001b[1m]\u001b[0m,      \u001b[33mdtype\u001b[0m=\u001b[35mfloat32\u001b[0m\u001b[1m)\u001b[0m,\n",
       "        \u001b[33mnum_spec\u001b[0m=\u001b[1;35mArray\u001b[0m\u001b[1m(\u001b[0m\u001b[1m[\u001b[0m\u001b[1;36m3\u001b[0m., \u001b[1;36m4\u001b[0m., \u001b[1;36m4\u001b[0m., \u001b[1;36m3\u001b[0m., \u001b[1;36m3\u001b[0m., \u001b[1;36m3\u001b[0m., \u001b[1;36m2\u001b[0m., \u001b[1;36m3\u001b[0m., \u001b[1;36m4\u001b[0m., \u001b[1;36m2\u001b[0m., \u001b[1;36m4\u001b[0m., \u001b[1;36m4\u001b[0m., \u001b[1;36m3\u001b[0m., \u001b[1;36m2\u001b[0m., \u001b[1;36m3\u001b[0m., \u001b[1;36m4\u001b[0m., \u001b[1;36m2\u001b[0m.,\n",
       "       \u001b[1;36m4\u001b[0m., \u001b[1;36m3\u001b[0m., \u001b[1;36m4\u001b[0m., \u001b[1;36m4\u001b[0m., \u001b[1;36m3\u001b[0m., \u001b[1;36m3\u001b[0m., \u001b[1;36m4\u001b[0m., \u001b[1;36m2\u001b[0m., \u001b[1;36m3\u001b[0m., \u001b[1;36m3\u001b[0m., \u001b[1;36m4\u001b[0m., \u001b[1;36m3\u001b[0m., \u001b[1;36m2\u001b[0m., \u001b[1;36m3\u001b[0m., \u001b[1;36m3\u001b[0m., \u001b[1;36m2\u001b[0m., \u001b[1;36m2\u001b[0m.,\n",
       "       \u001b[1;36m3\u001b[0m., \u001b[1;36m3\u001b[0m., \u001b[1;36m3\u001b[0m., \u001b[1;36m3\u001b[0m., \u001b[1;36m3\u001b[0m., \u001b[1;36m3\u001b[0m., \u001b[1;36m3\u001b[0m., \u001b[1;36m3\u001b[0m., \u001b[1;36m3\u001b[0m., \u001b[1;36m3\u001b[0m., \u001b[1;36m3\u001b[0m., \u001b[1;36m1\u001b[0m., \u001b[1;36m2\u001b[0m., \u001b[1;36m2\u001b[0m., \u001b[1;36m3\u001b[0m., \u001b[1;36m2\u001b[0m., \u001b[1;36m3\u001b[0m.,\n",
       "       \u001b[1;36m3\u001b[0m., \u001b[1;36m3\u001b[0m., \u001b[1;36m3\u001b[0m., \u001b[1;36m2\u001b[0m., \u001b[1;36m3\u001b[0m., \u001b[1;36m3\u001b[0m., \u001b[1;36m2\u001b[0m., \u001b[1;36m2\u001b[0m., \u001b[1;36m2\u001b[0m., \u001b[1;36m2\u001b[0m., \u001b[1;36m2\u001b[0m., \u001b[1;36m0\u001b[0m., \u001b[1;36m0\u001b[0m.\u001b[1m]\u001b[0m, \u001b[33mdtype\u001b[0m=\u001b[35mfloat32\u001b[0m\u001b[1m)\u001b[0m\n",
       "    \u001b[1m)\u001b[0m\n",
       "\u001b[1m)\u001b[0m"
      ]
     },
     "execution_count": 4,
     "metadata": {},
     "output_type": "execute_result"
    }
   ],
   "source": [
    "from cdv.dataset import load_file\n",
    "\n",
    "batch = load_file(config, 0, pad=True)\n",
    "batch"
   ]
  },
  {
   "cell_type": "code",
   "execution_count": 5,
   "metadata": {},
   "outputs": [
    {
     "data": {
      "text/html": [
       "<pre style=\"white-space:pre;overflow-x:auto;line-height:normal;font-family:Menlo,'DejaVu Sans Mono',consolas,'Courier New',monospace\"><span style=\"color: #00a0ec; text-decoration-color: #00a0ec; font-weight: bold\">arg0 &gt;&gt;&gt; CrystalGraphs</span>\n",
       "├── <span style=\"color: #00a0ec; text-decoration-color: #00a0ec; font-weight: bold\">nodes</span>\n",
       "│   ├── <span style=\"color: #00bc70; text-decoration-color: #00bc70; font-weight: bold\">species</span>\n",
       "│   │   └── <span style=\"color: #ff7300; text-decoration-color: #ff7300; font-weight: bold\">i16[512]</span>\n",
       "│   ├── <span style=\"color: #00bc70; text-decoration-color: #00bc70; font-weight: bold\">frac</span>\n",
       "│   │   └── <span style=\"color: #ff7300; text-decoration-color: #ff7300; font-weight: bold\">f32[512, 3]</span>\n",
       "│   ├── <span style=\"color: #00bc70; text-decoration-color: #00bc70; font-weight: bold\">cart</span>\n",
       "│   │   └── <span style=\"color: #ff7300; text-decoration-color: #ff7300; font-weight: bold\">f32[512, 3]</span>\n",
       "│   ├── <span style=\"color: #00bc70; text-decoration-color: #00bc70; font-weight: bold\">incoming</span>\n",
       "│   │   └── <span style=\"color: #ff7300; text-decoration-color: #ff7300; font-weight: bold\">i32[512, 32]</span>\n",
       "│   ├── <span style=\"color: #00bc70; text-decoration-color: #00bc70; font-weight: bold\">incoming_pad</span>\n",
       "│   │   └── <span style=\"color: #ff7300; text-decoration-color: #ff7300; font-weight: bold\">bool[512, 32]</span>\n",
       "│   ├── <span style=\"color: #00bc70; text-decoration-color: #00bc70; font-weight: bold\">outgoing</span>\n",
       "│   │   └── <span style=\"color: #ff7300; text-decoration-color: #ff7300; font-weight: bold\">i32[512, 20]</span>\n",
       "│   ├── <span style=\"color: #00bc70; text-decoration-color: #00bc70; font-weight: bold\">outgoing_pad</span>\n",
       "│   │   └── <span style=\"color: #ff7300; text-decoration-color: #ff7300; font-weight: bold\">bool[512, 20]</span>\n",
       "│   └── <span style=\"color: #00bc70; text-decoration-color: #00bc70; font-weight: bold\">graph_i</span>\n",
       "│       └── <span style=\"color: #ff7300; text-decoration-color: #ff7300; font-weight: bold\">i32[512]</span>\n",
       "├── <span style=\"color: #00a0ec; text-decoration-color: #00a0ec; font-weight: bold\">edges</span>\n",
       "│   ├── <span style=\"color: #00bc70; text-decoration-color: #00bc70; font-weight: bold\">to_jimage</span>\n",
       "│   │   └── <span style=\"color: #ff7300; text-decoration-color: #ff7300; font-weight: bold\">i8[9872, 3]</span>\n",
       "│   ├── <span style=\"color: #00bc70; text-decoration-color: #00bc70; font-weight: bold\">graph_i</span>\n",
       "│   │   └── <span style=\"color: #ff7300; text-decoration-color: #ff7300; font-weight: bold\">i32[9872]</span>\n",
       "│   ├── <span style=\"color: #00bc70; text-decoration-color: #00bc70; font-weight: bold\">sender</span>\n",
       "│   │   └── <span style=\"color: #ff7300; text-decoration-color: #ff7300; font-weight: bold\">i32[9872]</span>\n",
       "│   └── <span style=\"color: #00bc70; text-decoration-color: #00bc70; font-weight: bold\">receiver</span>\n",
       "│       └── <span style=\"color: #ff7300; text-decoration-color: #ff7300; font-weight: bold\">i32[9872]</span>\n",
       "├── <span style=\"color: #00a0ec; text-decoration-color: #00a0ec; font-weight: bold\">n_node</span>\n",
       "│   └── <span style=\"color: #00bc70; text-decoration-color: #00bc70; font-weight: bold\">i32[64]</span>\n",
       "├── <span style=\"color: #00a0ec; text-decoration-color: #00a0ec; font-weight: bold\">n_edge</span>\n",
       "│   └── <span style=\"color: #00bc70; text-decoration-color: #00bc70; font-weight: bold\">i32[64]</span>\n",
       "├── <span style=\"color: #00a0ec; text-decoration-color: #00a0ec; font-weight: bold\">padding_mask</span>\n",
       "│   └── <span style=\"color: #00bc70; text-decoration-color: #00bc70; font-weight: bold\">bool[64]</span>\n",
       "└── <span style=\"color: #00a0ec; text-decoration-color: #00a0ec; font-weight: bold\">graph_data</span>\n",
       "    ├── <span style=\"color: #00bc70; text-decoration-color: #00bc70; font-weight: bold\">dataset_i</span>\n",
       "    │   └── <span style=\"color: #ff7300; text-decoration-color: #ff7300; font-weight: bold\">i32[64]</span>\n",
       "    ├── <span style=\"color: #00bc70; text-decoration-color: #00bc70; font-weight: bold\">abc</span>\n",
       "    │   └── <span style=\"color: #ff7300; text-decoration-color: #ff7300; font-weight: bold\">f32[64, 3]</span>\n",
       "    ├── <span style=\"color: #00bc70; text-decoration-color: #00bc70; font-weight: bold\">angles_rad</span>\n",
       "    │   └── <span style=\"color: #ff7300; text-decoration-color: #ff7300; font-weight: bold\">f32[64, 3]</span>\n",
       "    ├── <span style=\"color: #00bc70; text-decoration-color: #00bc70; font-weight: bold\">lat</span>\n",
       "    │   └── <span style=\"color: #ff7300; text-decoration-color: #ff7300; font-weight: bold\">f32[64, 3, 3]</span>\n",
       "    ├── <span style=\"color: #00bc70; text-decoration-color: #00bc70; font-weight: bold\">e_form</span>\n",
       "    │   └── <span style=\"color: #ff7300; text-decoration-color: #ff7300; font-weight: bold\">f32[64]</span>\n",
       "    ├── <span style=\"color: #00bc70; text-decoration-color: #00bc70; font-weight: bold\">bandgap</span>\n",
       "    │   └── <span style=\"color: #ff7300; text-decoration-color: #ff7300; font-weight: bold\">f32[64]</span>\n",
       "    ├── <span style=\"color: #00bc70; text-decoration-color: #00bc70; font-weight: bold\">e_total</span>\n",
       "    │   └── <span style=\"color: #ff7300; text-decoration-color: #ff7300; font-weight: bold\">f32[64]</span>\n",
       "    ├── <span style=\"color: #00bc70; text-decoration-color: #00bc70; font-weight: bold\">ehull</span>\n",
       "    │   └── <span style=\"color: #ff7300; text-decoration-color: #ff7300; font-weight: bold\">f32[64]</span>\n",
       "    ├── <span style=\"color: #00bc70; text-decoration-color: #00bc70; font-weight: bold\">dimensionality</span>\n",
       "    │   └── <span style=\"color: #ff7300; text-decoration-color: #ff7300; font-weight: bold\">f32[64]</span>\n",
       "    ├── <span style=\"color: #00bc70; text-decoration-color: #00bc70; font-weight: bold\">density</span>\n",
       "    │   └── <span style=\"color: #ff7300; text-decoration-color: #ff7300; font-weight: bold\">f32[64]</span>\n",
       "    ├── <span style=\"color: #00bc70; text-decoration-color: #00bc70; font-weight: bold\">space_group</span>\n",
       "    │   └── <span style=\"color: #ff7300; text-decoration-color: #ff7300; font-weight: bold\">f32[64]</span>\n",
       "    ├── <span style=\"color: #00bc70; text-decoration-color: #00bc70; font-weight: bold\">magmom</span>\n",
       "    │   └── <span style=\"color: #ff7300; text-decoration-color: #ff7300; font-weight: bold\">f32[64]</span>\n",
       "    └── <span style=\"color: #00bc70; text-decoration-color: #00bc70; font-weight: bold\">num_spec</span>\n",
       "        └── <span style=\"color: #ff7300; text-decoration-color: #ff7300; font-weight: bold\">f32[64]</span>\n",
       "</pre>\n"
      ],
      "text/plain": [
       "\u001b[1;38;2;0;160;236marg0 >>> CrystalGraphs\u001b[0m\n",
       "├── \u001b[1;38;2;0;160;236mnodes\u001b[0m\n",
       "│   ├── \u001b[1;38;2;0;188;112mspecies\u001b[0m\n",
       "│   │   └── \u001b[1;38;2;255;115;0mi16[512]\u001b[0m\n",
       "│   ├── \u001b[1;38;2;0;188;112mfrac\u001b[0m\n",
       "│   │   └── \u001b[1;38;2;255;115;0mf32[512, 3]\u001b[0m\n",
       "│   ├── \u001b[1;38;2;0;188;112mcart\u001b[0m\n",
       "│   │   └── \u001b[1;38;2;255;115;0mf32[512, 3]\u001b[0m\n",
       "│   ├── \u001b[1;38;2;0;188;112mincoming\u001b[0m\n",
       "│   │   └── \u001b[1;38;2;255;115;0mi32[512, 32]\u001b[0m\n",
       "│   ├── \u001b[1;38;2;0;188;112mincoming_pad\u001b[0m\n",
       "│   │   └── \u001b[1;38;2;255;115;0mbool[512, 32]\u001b[0m\n",
       "│   ├── \u001b[1;38;2;0;188;112moutgoing\u001b[0m\n",
       "│   │   └── \u001b[1;38;2;255;115;0mi32[512, 20]\u001b[0m\n",
       "│   ├── \u001b[1;38;2;0;188;112moutgoing_pad\u001b[0m\n",
       "│   │   └── \u001b[1;38;2;255;115;0mbool[512, 20]\u001b[0m\n",
       "│   └── \u001b[1;38;2;0;188;112mgraph_i\u001b[0m\n",
       "│       └── \u001b[1;38;2;255;115;0mi32[512]\u001b[0m\n",
       "├── \u001b[1;38;2;0;160;236medges\u001b[0m\n",
       "│   ├── \u001b[1;38;2;0;188;112mto_jimage\u001b[0m\n",
       "│   │   └── \u001b[1;38;2;255;115;0mi8[9872, 3]\u001b[0m\n",
       "│   ├── \u001b[1;38;2;0;188;112mgraph_i\u001b[0m\n",
       "│   │   └── \u001b[1;38;2;255;115;0mi32[9872]\u001b[0m\n",
       "│   ├── \u001b[1;38;2;0;188;112msender\u001b[0m\n",
       "│   │   └── \u001b[1;38;2;255;115;0mi32[9872]\u001b[0m\n",
       "│   └── \u001b[1;38;2;0;188;112mreceiver\u001b[0m\n",
       "│       └── \u001b[1;38;2;255;115;0mi32[9872]\u001b[0m\n",
       "├── \u001b[1;38;2;0;160;236mn_node\u001b[0m\n",
       "│   └── \u001b[1;38;2;0;188;112mi32[64]\u001b[0m\n",
       "├── \u001b[1;38;2;0;160;236mn_edge\u001b[0m\n",
       "│   └── \u001b[1;38;2;0;188;112mi32[64]\u001b[0m\n",
       "├── \u001b[1;38;2;0;160;236mpadding_mask\u001b[0m\n",
       "│   └── \u001b[1;38;2;0;188;112mbool[64]\u001b[0m\n",
       "└── \u001b[1;38;2;0;160;236mgraph_data\u001b[0m\n",
       "    ├── \u001b[1;38;2;0;188;112mdataset_i\u001b[0m\n",
       "    │   └── \u001b[1;38;2;255;115;0mi32[64]\u001b[0m\n",
       "    ├── \u001b[1;38;2;0;188;112mabc\u001b[0m\n",
       "    │   └── \u001b[1;38;2;255;115;0mf32[64, 3]\u001b[0m\n",
       "    ├── \u001b[1;38;2;0;188;112mangles_rad\u001b[0m\n",
       "    │   └── \u001b[1;38;2;255;115;0mf32[64, 3]\u001b[0m\n",
       "    ├── \u001b[1;38;2;0;188;112mlat\u001b[0m\n",
       "    │   └── \u001b[1;38;2;255;115;0mf32[64, 3, 3]\u001b[0m\n",
       "    ├── \u001b[1;38;2;0;188;112me_form\u001b[0m\n",
       "    │   └── \u001b[1;38;2;255;115;0mf32[64]\u001b[0m\n",
       "    ├── \u001b[1;38;2;0;188;112mbandgap\u001b[0m\n",
       "    │   └── \u001b[1;38;2;255;115;0mf32[64]\u001b[0m\n",
       "    ├── \u001b[1;38;2;0;188;112me_total\u001b[0m\n",
       "    │   └── \u001b[1;38;2;255;115;0mf32[64]\u001b[0m\n",
       "    ├── \u001b[1;38;2;0;188;112mehull\u001b[0m\n",
       "    │   └── \u001b[1;38;2;255;115;0mf32[64]\u001b[0m\n",
       "    ├── \u001b[1;38;2;0;188;112mdimensionality\u001b[0m\n",
       "    │   └── \u001b[1;38;2;255;115;0mf32[64]\u001b[0m\n",
       "    ├── \u001b[1;38;2;0;188;112mdensity\u001b[0m\n",
       "    │   └── \u001b[1;38;2;255;115;0mf32[64]\u001b[0m\n",
       "    ├── \u001b[1;38;2;0;188;112mspace_group\u001b[0m\n",
       "    │   └── \u001b[1;38;2;255;115;0mf32[64]\u001b[0m\n",
       "    ├── \u001b[1;38;2;0;188;112mmagmom\u001b[0m\n",
       "    │   └── \u001b[1;38;2;255;115;0mf32[64]\u001b[0m\n",
       "    └── \u001b[1;38;2;0;188;112mnum_spec\u001b[0m\n",
       "        └── \u001b[1;38;2;255;115;0mf32[64]\u001b[0m\n"
      ]
     },
     "metadata": {},
     "output_type": "display_data"
    }
   ],
   "source": [
    "from cdv.utils import debug_structure\n",
    "\n",
    "\n",
    "debug_structure(batch);"
   ]
  },
  {
   "cell_type": "code",
   "execution_count": 6,
   "metadata": {},
   "outputs": [
    {
     "data": {
      "text/html": [
       "<pre style=\"white-space:pre;overflow-x:auto;line-height:normal;font-family:Menlo,'DejaVu Sans Mono',consolas,'Courier New',monospace\"><span style=\"color: #00a0ec; text-decoration-color: #00a0ec; font-weight: bold\">arg0 &gt;&gt;&gt; CrystalGraphs</span>\n",
       "├── <span style=\"color: #00a0ec; text-decoration-color: #00a0ec; font-weight: bold\">nodes</span>\n",
       "│   ├── <span style=\"color: #00bc70; text-decoration-color: #00bc70; font-weight: bold\">species</span>\n",
       "│   │   └── <span style=\"color: #ff7300; text-decoration-color: #ff7300; font-weight: bold\">i16[3, 512]</span>\n",
       "│   ├── <span style=\"color: #00bc70; text-decoration-color: #00bc70; font-weight: bold\">frac</span>\n",
       "│   │   └── <span style=\"color: #ff7300; text-decoration-color: #ff7300; font-weight: bold\">f32[3, 512, 3]</span>\n",
       "│   ├── <span style=\"color: #00bc70; text-decoration-color: #00bc70; font-weight: bold\">cart</span>\n",
       "│   │   └── <span style=\"color: #ff7300; text-decoration-color: #ff7300; font-weight: bold\">f32[3, 512, 3]</span>\n",
       "│   ├── <span style=\"color: #00bc70; text-decoration-color: #00bc70; font-weight: bold\">incoming</span>\n",
       "│   │   └── <span style=\"color: #ff7300; text-decoration-color: #ff7300; font-weight: bold\">i32[3, 512, 32]</span>\n",
       "│   ├── <span style=\"color: #00bc70; text-decoration-color: #00bc70; font-weight: bold\">incoming_pad</span>\n",
       "│   │   └── <span style=\"color: #ff7300; text-decoration-color: #ff7300; font-weight: bold\">bool[3, 512, 32]</span>\n",
       "│   ├── <span style=\"color: #00bc70; text-decoration-color: #00bc70; font-weight: bold\">outgoing</span>\n",
       "│   │   └── <span style=\"color: #ff7300; text-decoration-color: #ff7300; font-weight: bold\">i32[3, 512, 20]</span>\n",
       "│   ├── <span style=\"color: #00bc70; text-decoration-color: #00bc70; font-weight: bold\">outgoing_pad</span>\n",
       "│   │   └── <span style=\"color: #ff7300; text-decoration-color: #ff7300; font-weight: bold\">bool[3, 512, 20]</span>\n",
       "│   └── <span style=\"color: #00bc70; text-decoration-color: #00bc70; font-weight: bold\">graph_i</span>\n",
       "│       └── <span style=\"color: #ff7300; text-decoration-color: #ff7300; font-weight: bold\">i32[3, 512]</span>\n",
       "├── <span style=\"color: #00a0ec; text-decoration-color: #00a0ec; font-weight: bold\">edges</span>\n",
       "│   ├── <span style=\"color: #00bc70; text-decoration-color: #00bc70; font-weight: bold\">to_jimage</span>\n",
       "│   │   └── <span style=\"color: #ff7300; text-decoration-color: #ff7300; font-weight: bold\">i8[3, 9872, 3]</span>\n",
       "│   ├── <span style=\"color: #00bc70; text-decoration-color: #00bc70; font-weight: bold\">graph_i</span>\n",
       "│   │   └── <span style=\"color: #ff7300; text-decoration-color: #ff7300; font-weight: bold\">i32[3, 9872]</span>\n",
       "│   ├── <span style=\"color: #00bc70; text-decoration-color: #00bc70; font-weight: bold\">sender</span>\n",
       "│   │   └── <span style=\"color: #ff7300; text-decoration-color: #ff7300; font-weight: bold\">i32[3, 9872]</span>\n",
       "│   └── <span style=\"color: #00bc70; text-decoration-color: #00bc70; font-weight: bold\">receiver</span>\n",
       "│       └── <span style=\"color: #ff7300; text-decoration-color: #ff7300; font-weight: bold\">i32[3, 9872]</span>\n",
       "├── <span style=\"color: #00a0ec; text-decoration-color: #00a0ec; font-weight: bold\">n_node</span>\n",
       "│   └── <span style=\"color: #00bc70; text-decoration-color: #00bc70; font-weight: bold\">i32[3, 64]</span>\n",
       "├── <span style=\"color: #00a0ec; text-decoration-color: #00a0ec; font-weight: bold\">n_edge</span>\n",
       "│   └── <span style=\"color: #00bc70; text-decoration-color: #00bc70; font-weight: bold\">i32[3, 64]</span>\n",
       "├── <span style=\"color: #00a0ec; text-decoration-color: #00a0ec; font-weight: bold\">padding_mask</span>\n",
       "│   └── <span style=\"color: #00bc70; text-decoration-color: #00bc70; font-weight: bold\">bool[3, 64]</span>\n",
       "└── <span style=\"color: #00a0ec; text-decoration-color: #00a0ec; font-weight: bold\">graph_data</span>\n",
       "    ├── <span style=\"color: #00bc70; text-decoration-color: #00bc70; font-weight: bold\">dataset_i</span>\n",
       "    │   └── <span style=\"color: #ff7300; text-decoration-color: #ff7300; font-weight: bold\">i32[3, 64]</span>\n",
       "    ├── <span style=\"color: #00bc70; text-decoration-color: #00bc70; font-weight: bold\">abc</span>\n",
       "    │   └── <span style=\"color: #ff7300; text-decoration-color: #ff7300; font-weight: bold\">f32[3, 64, 3]</span>\n",
       "    ├── <span style=\"color: #00bc70; text-decoration-color: #00bc70; font-weight: bold\">angles_rad</span>\n",
       "    │   └── <span style=\"color: #ff7300; text-decoration-color: #ff7300; font-weight: bold\">f32[3, 64, 3]</span>\n",
       "    ├── <span style=\"color: #00bc70; text-decoration-color: #00bc70; font-weight: bold\">lat</span>\n",
       "    │   └── <span style=\"color: #ff7300; text-decoration-color: #ff7300; font-weight: bold\">f32[3, 64, 3, 3]</span>\n",
       "    ├── <span style=\"color: #00bc70; text-decoration-color: #00bc70; font-weight: bold\">e_form</span>\n",
       "    │   └── <span style=\"color: #ff7300; text-decoration-color: #ff7300; font-weight: bold\">f32[3, 64]</span>\n",
       "    ├── <span style=\"color: #00bc70; text-decoration-color: #00bc70; font-weight: bold\">bandgap</span>\n",
       "    │   └── <span style=\"color: #ff7300; text-decoration-color: #ff7300; font-weight: bold\">f32[3, 64]</span>\n",
       "    ├── <span style=\"color: #00bc70; text-decoration-color: #00bc70; font-weight: bold\">e_total</span>\n",
       "    │   └── <span style=\"color: #ff7300; text-decoration-color: #ff7300; font-weight: bold\">f32[3, 64]</span>\n",
       "    ├── <span style=\"color: #00bc70; text-decoration-color: #00bc70; font-weight: bold\">ehull</span>\n",
       "    │   └── <span style=\"color: #ff7300; text-decoration-color: #ff7300; font-weight: bold\">f32[3, 64]</span>\n",
       "    ├── <span style=\"color: #00bc70; text-decoration-color: #00bc70; font-weight: bold\">dimensionality</span>\n",
       "    │   └── <span style=\"color: #ff7300; text-decoration-color: #ff7300; font-weight: bold\">f32[3, 64]</span>\n",
       "    ├── <span style=\"color: #00bc70; text-decoration-color: #00bc70; font-weight: bold\">density</span>\n",
       "    │   └── <span style=\"color: #ff7300; text-decoration-color: #ff7300; font-weight: bold\">f32[3, 64]</span>\n",
       "    ├── <span style=\"color: #00bc70; text-decoration-color: #00bc70; font-weight: bold\">space_group</span>\n",
       "    │   └── <span style=\"color: #ff7300; text-decoration-color: #ff7300; font-weight: bold\">f32[3, 64]</span>\n",
       "    ├── <span style=\"color: #00bc70; text-decoration-color: #00bc70; font-weight: bold\">magmom</span>\n",
       "    │   └── <span style=\"color: #ff7300; text-decoration-color: #ff7300; font-weight: bold\">f32[3, 64]</span>\n",
       "    └── <span style=\"color: #00bc70; text-decoration-color: #00bc70; font-weight: bold\">num_spec</span>\n",
       "        └── <span style=\"color: #ff7300; text-decoration-color: #ff7300; font-weight: bold\">f32[3, 64]</span>\n",
       "</pre>\n"
      ],
      "text/plain": [
       "\u001b[1;38;2;0;160;236marg0 >>> CrystalGraphs\u001b[0m\n",
       "├── \u001b[1;38;2;0;160;236mnodes\u001b[0m\n",
       "│   ├── \u001b[1;38;2;0;188;112mspecies\u001b[0m\n",
       "│   │   └── \u001b[1;38;2;255;115;0mi16[3, 512]\u001b[0m\n",
       "│   ├── \u001b[1;38;2;0;188;112mfrac\u001b[0m\n",
       "│   │   └── \u001b[1;38;2;255;115;0mf32[3, 512, 3]\u001b[0m\n",
       "│   ├── \u001b[1;38;2;0;188;112mcart\u001b[0m\n",
       "│   │   └── \u001b[1;38;2;255;115;0mf32[3, 512, 3]\u001b[0m\n",
       "│   ├── \u001b[1;38;2;0;188;112mincoming\u001b[0m\n",
       "│   │   └── \u001b[1;38;2;255;115;0mi32[3, 512, 32]\u001b[0m\n",
       "│   ├── \u001b[1;38;2;0;188;112mincoming_pad\u001b[0m\n",
       "│   │   └── \u001b[1;38;2;255;115;0mbool[3, 512, 32]\u001b[0m\n",
       "│   ├── \u001b[1;38;2;0;188;112moutgoing\u001b[0m\n",
       "│   │   └── \u001b[1;38;2;255;115;0mi32[3, 512, 20]\u001b[0m\n",
       "│   ├── \u001b[1;38;2;0;188;112moutgoing_pad\u001b[0m\n",
       "│   │   └── \u001b[1;38;2;255;115;0mbool[3, 512, 20]\u001b[0m\n",
       "│   └── \u001b[1;38;2;0;188;112mgraph_i\u001b[0m\n",
       "│       └── \u001b[1;38;2;255;115;0mi32[3, 512]\u001b[0m\n",
       "├── \u001b[1;38;2;0;160;236medges\u001b[0m\n",
       "│   ├── \u001b[1;38;2;0;188;112mto_jimage\u001b[0m\n",
       "│   │   └── \u001b[1;38;2;255;115;0mi8[3, 9872, 3]\u001b[0m\n",
       "│   ├── \u001b[1;38;2;0;188;112mgraph_i\u001b[0m\n",
       "│   │   └── \u001b[1;38;2;255;115;0mi32[3, 9872]\u001b[0m\n",
       "│   ├── \u001b[1;38;2;0;188;112msender\u001b[0m\n",
       "│   │   └── \u001b[1;38;2;255;115;0mi32[3, 9872]\u001b[0m\n",
       "│   └── \u001b[1;38;2;0;188;112mreceiver\u001b[0m\n",
       "│       └── \u001b[1;38;2;255;115;0mi32[3, 9872]\u001b[0m\n",
       "├── \u001b[1;38;2;0;160;236mn_node\u001b[0m\n",
       "│   └── \u001b[1;38;2;0;188;112mi32[3, 64]\u001b[0m\n",
       "├── \u001b[1;38;2;0;160;236mn_edge\u001b[0m\n",
       "│   └── \u001b[1;38;2;0;188;112mi32[3, 64]\u001b[0m\n",
       "├── \u001b[1;38;2;0;160;236mpadding_mask\u001b[0m\n",
       "│   └── \u001b[1;38;2;0;188;112mbool[3, 64]\u001b[0m\n",
       "└── \u001b[1;38;2;0;160;236mgraph_data\u001b[0m\n",
       "    ├── \u001b[1;38;2;0;188;112mdataset_i\u001b[0m\n",
       "    │   └── \u001b[1;38;2;255;115;0mi32[3, 64]\u001b[0m\n",
       "    ├── \u001b[1;38;2;0;188;112mabc\u001b[0m\n",
       "    │   └── \u001b[1;38;2;255;115;0mf32[3, 64, 3]\u001b[0m\n",
       "    ├── \u001b[1;38;2;0;188;112mangles_rad\u001b[0m\n",
       "    │   └── \u001b[1;38;2;255;115;0mf32[3, 64, 3]\u001b[0m\n",
       "    ├── \u001b[1;38;2;0;188;112mlat\u001b[0m\n",
       "    │   └── \u001b[1;38;2;255;115;0mf32[3, 64, 3, 3]\u001b[0m\n",
       "    ├── \u001b[1;38;2;0;188;112me_form\u001b[0m\n",
       "    │   └── \u001b[1;38;2;255;115;0mf32[3, 64]\u001b[0m\n",
       "    ├── \u001b[1;38;2;0;188;112mbandgap\u001b[0m\n",
       "    │   └── \u001b[1;38;2;255;115;0mf32[3, 64]\u001b[0m\n",
       "    ├── \u001b[1;38;2;0;188;112me_total\u001b[0m\n",
       "    │   └── \u001b[1;38;2;255;115;0mf32[3, 64]\u001b[0m\n",
       "    ├── \u001b[1;38;2;0;188;112mehull\u001b[0m\n",
       "    │   └── \u001b[1;38;2;255;115;0mf32[3, 64]\u001b[0m\n",
       "    ├── \u001b[1;38;2;0;188;112mdimensionality\u001b[0m\n",
       "    │   └── \u001b[1;38;2;255;115;0mf32[3, 64]\u001b[0m\n",
       "    ├── \u001b[1;38;2;0;188;112mdensity\u001b[0m\n",
       "    │   └── \u001b[1;38;2;255;115;0mf32[3, 64]\u001b[0m\n",
       "    ├── \u001b[1;38;2;0;188;112mspace_group\u001b[0m\n",
       "    │   └── \u001b[1;38;2;255;115;0mf32[3, 64]\u001b[0m\n",
       "    ├── \u001b[1;38;2;0;188;112mmagmom\u001b[0m\n",
       "    │   └── \u001b[1;38;2;255;115;0mf32[3, 64]\u001b[0m\n",
       "    └── \u001b[1;38;2;0;188;112mnum_spec\u001b[0m\n",
       "        └── \u001b[1;38;2;255;115;0mf32[3, 64]\u001b[0m\n"
      ]
     },
     "metadata": {},
     "output_type": "display_data"
    }
   ],
   "source": [
    "cg1 = load_file(config, 1, pad=True)\n",
    "cg2 = load_file(config, 2, pad=True)\n",
    "cg3 = load_file(config, 3, pad=True)\n",
    "cgs = jax.tree_map(lambda x, y, z: jnp.stack([x, y, z]), cg1, cg2, cg3)\n",
    "debug_structure(cgs);"
   ]
  },
  {
   "cell_type": "code",
   "execution_count": 7,
   "metadata": {},
   "outputs": [],
   "source": [
    "from jax.experimental import mesh_utils\n",
    "from jax.sharding import Mesh, PartitionSpec as P, NamedSharding\n",
    "\n",
    "vae = config.build_vae()\n",
    "params = ckpt['state']['params']\n"
   ]
  },
  {
   "cell_type": "code",
   "execution_count": 8,
   "metadata": {},
   "outputs": [
    {
     "name": "stderr",
     "output_type": "stream",
     "text": [
      "E0815 15:03:07.244716  834254 pjrt_stream_executor_client.cc:2804] Execution of replica 0 failed: INTERNAL: external/xla/xla/service/gpu/nccl_api.cc:395: NCCL operation ncclCommInitRankConfig(&comm_handle, nranks, AsNcclUniqueId(clique_id), ranks[i].rank, &comm_config) failed: unhandled system error. Last NCCL warning(error) log entry (may be unrelated) 'Unable to load NCCL library. Multi-GPU collectives will not work.'.\n",
      "E0815 15:03:07.245164  834256 pjrt_stream_executor_client.cc:2804] Execution of replica 0 failed: INTERNAL: external/xla/xla/service/gpu/nccl_api.cc:395: NCCL operation ncclCommInitRankConfig(&comm_handle, nranks, AsNcclUniqueId(clique_id), ranks[i].rank, &comm_config) failed: unhandled system error. Last NCCL warning(error) log entry (may be unrelated) 'Unable to load NCCL library. Multi-GPU collectives will not work.'.\n",
      "E0815 15:03:07.245193  834258 pjrt_stream_executor_client.cc:2804] Execution of replica 0 failed: INTERNAL: external/xla/xla/service/gpu/nccl_api.cc:395: NCCL operation ncclCommInitRankConfig(&comm_handle, nranks, AsNcclUniqueId(clique_id), ranks[i].rank, &comm_config) failed: unhandled system error. Last NCCL warning(error) log entry (may be unrelated) 'Unable to load NCCL library. Multi-GPU collectives will not work.'.\n"
     ]
    },
    {
     "data": {
      "text/html": [
       "<pre style=\"white-space:pre;overflow-x:auto;line-height:normal;font-family:Menlo,'DejaVu Sans Mono',consolas,'Courier New',monospace\"><span style=\"color: #800000; text-decoration-color: #800000\">╭─────────────────────────────── </span><span style=\"color: #800000; text-decoration-color: #800000; font-weight: bold\">Traceback </span><span style=\"color: #bf7f7f; text-decoration-color: #bf7f7f; font-weight: bold\">(most recent call last)</span><span style=\"color: #800000; text-decoration-color: #800000\"> ────────────────────────────────╮</span>\n",
       "<span style=\"color: #800000; text-decoration-color: #800000\">│</span> in <span style=\"color: #00ff00; text-decoration-color: #00ff00\">&lt;module&gt;</span>:<span style=\"color: #0000ff; text-decoration-color: #0000ff\">13</span>                                                                                   <span style=\"color: #800000; text-decoration-color: #800000\">│</span>\n",
       "<span style=\"color: #800000; text-decoration-color: #800000\">│</span>                                                                                                  <span style=\"color: #800000; text-decoration-color: #800000\">│</span>\n",
       "<span style=\"color: #800000; text-decoration-color: #800000\">│</span>   <span style=\"color: #7f7f7f; text-decoration-color: #7f7f7f\">10 </span>cgs = jax.device_put(cgs, sharding)                                                         <span style=\"color: #800000; text-decoration-color: #800000\">│</span>\n",
       "<span style=\"color: #800000; text-decoration-color: #800000\">│</span>   <span style=\"color: #7f7f7f; text-decoration-color: #7f7f7f\">11 </span>params = jax.device_put(params, replicated_sharding)                                        <span style=\"color: #800000; text-decoration-color: #800000\">│</span>\n",
       "<span style=\"color: #800000; text-decoration-color: #800000\">│</span>   <span style=\"color: #7f7f7f; text-decoration-color: #7f7f7f\">12 </span>                                                                                            <span style=\"color: #800000; text-decoration-color: #800000\">│</span>\n",
       "<span style=\"color: #800000; text-decoration-color: #800000\">│</span> <span style=\"color: #800000; text-decoration-color: #800000\">❱ </span>13 vae.apply(params, cgs, ctx=ctx)                                                             <span style=\"color: #800000; text-decoration-color: #800000\">│</span>\n",
       "<span style=\"color: #800000; text-decoration-color: #800000\">│</span>   <span style=\"color: #7f7f7f; text-decoration-color: #7f7f7f\">14 </span>                                                                                            <span style=\"color: #800000; text-decoration-color: #800000\">│</span>\n",
       "<span style=\"color: #800000; text-decoration-color: #800000\">│</span>                                                                                                  <span style=\"color: #800000; text-decoration-color: #800000\">│</span>\n",
       "<span style=\"color: #800000; text-decoration-color: #800000\">│</span> <span style=\"color: #bfbf7f; text-decoration-color: #bfbf7f\">/home/nmiklaucic/miniconda3/envs/avid/lib/python3.12/site-packages/jax/_src/</span><span style=\"color: #808000; text-decoration-color: #808000; font-weight: bold\">traceback_util.py</span>:<span style=\"color: #0000ff; text-decoration-color: #0000ff\">17</span> <span style=\"color: #800000; text-decoration-color: #800000\">│</span>\n",
       "<span style=\"color: #800000; text-decoration-color: #800000\">│</span> <span style=\"color: #0000ff; text-decoration-color: #0000ff\">9</span> in <span style=\"color: #00ff00; text-decoration-color: #00ff00\">reraise_with_filtered_traceback</span>                                                             <span style=\"color: #800000; text-decoration-color: #800000\">│</span>\n",
       "<span style=\"color: #800000; text-decoration-color: #800000\">│</span>                                                                                                  <span style=\"color: #800000; text-decoration-color: #800000\">│</span>\n",
       "<span style=\"color: #800000; text-decoration-color: #800000\">│</span>   <span style=\"color: #7f7f7f; text-decoration-color: #7f7f7f\">176 </span><span style=\"color: #7f7f7f; text-decoration-color: #7f7f7f\">  </span><span style=\"color: #0000ff; text-decoration-color: #0000ff\">def</span> <span style=\"color: #00ff00; text-decoration-color: #00ff00\">reraise_with_filtered_traceback</span>(*args, **kwargs):                                    <span style=\"color: #800000; text-decoration-color: #800000\">│</span>\n",
       "<span style=\"color: #800000; text-decoration-color: #800000\">│</span>   <span style=\"color: #7f7f7f; text-decoration-color: #7f7f7f\">177 </span><span style=\"color: #7f7f7f; text-decoration-color: #7f7f7f\">│   </span>__tracebackhide__ = <span style=\"color: #0000ff; text-decoration-color: #0000ff\">True</span>                                                               <span style=\"color: #800000; text-decoration-color: #800000\">│</span>\n",
       "<span style=\"color: #800000; text-decoration-color: #800000\">│</span>   <span style=\"color: #7f7f7f; text-decoration-color: #7f7f7f\">178 </span><span style=\"color: #7f7f7f; text-decoration-color: #7f7f7f\">│   </span><span style=\"color: #0000ff; text-decoration-color: #0000ff\">try</span>:                                                                                   <span style=\"color: #800000; text-decoration-color: #800000\">│</span>\n",
       "<span style=\"color: #800000; text-decoration-color: #800000\">│</span> <span style=\"color: #800000; text-decoration-color: #800000\">❱ </span>179 <span style=\"color: #7f7f7f; text-decoration-color: #7f7f7f\">│     </span><span style=\"color: #0000ff; text-decoration-color: #0000ff\">return</span> fun(*args, **kwargs)                                                          <span style=\"color: #800000; text-decoration-color: #800000\">│</span>\n",
       "<span style=\"color: #800000; text-decoration-color: #800000\">│</span>   <span style=\"color: #7f7f7f; text-decoration-color: #7f7f7f\">180 </span><span style=\"color: #7f7f7f; text-decoration-color: #7f7f7f\">│   </span><span style=\"color: #0000ff; text-decoration-color: #0000ff\">except</span> <span style=\"color: #00ffff; text-decoration-color: #00ffff\">Exception</span> <span style=\"color: #0000ff; text-decoration-color: #0000ff\">as</span> e:                                                                 <span style=\"color: #800000; text-decoration-color: #800000\">│</span>\n",
       "<span style=\"color: #800000; text-decoration-color: #800000\">│</span>   <span style=\"color: #7f7f7f; text-decoration-color: #7f7f7f\">181 </span><span style=\"color: #7f7f7f; text-decoration-color: #7f7f7f\">│     </span>mode = _filtering_mode()                                                             <span style=\"color: #800000; text-decoration-color: #800000\">│</span>\n",
       "<span style=\"color: #800000; text-decoration-color: #800000\">│</span>   <span style=\"color: #7f7f7f; text-decoration-color: #7f7f7f\">182 </span><span style=\"color: #7f7f7f; text-decoration-color: #7f7f7f\">│     </span><span style=\"color: #0000ff; text-decoration-color: #0000ff\">if</span> _is_under_reraiser(e) <span style=\"color: #ff00ff; text-decoration-color: #ff00ff\">or</span> mode == <span style=\"color: #808000; text-decoration-color: #808000\">\"off\"</span>:                                           <span style=\"color: #800000; text-decoration-color: #800000\">│</span>\n",
       "<span style=\"color: #800000; text-decoration-color: #800000\">│</span>                                                                                                  <span style=\"color: #800000; text-decoration-color: #800000\">│</span>\n",
       "<span style=\"color: #800000; text-decoration-color: #800000\">│</span> <span style=\"color: #bfbf7f; text-decoration-color: #bfbf7f\">/home/nmiklaucic/miniconda3/envs/avid/lib/python3.12/site-packages/flax/linen/</span><span style=\"color: #808000; text-decoration-color: #808000; font-weight: bold\">module.py</span>:<span style=\"color: #0000ff; text-decoration-color: #0000ff\">2226</span> in  <span style=\"color: #800000; text-decoration-color: #800000\">│</span>\n",
       "<span style=\"color: #800000; text-decoration-color: #800000\">│</span> <span style=\"color: #00ff00; text-decoration-color: #00ff00\">apply</span>                                                                                            <span style=\"color: #800000; text-decoration-color: #800000\">│</span>\n",
       "<span style=\"color: #800000; text-decoration-color: #800000\">│</span>                                                                                                  <span style=\"color: #800000; text-decoration-color: #800000\">│</span>\n",
       "<span style=\"color: #800000; text-decoration-color: #800000\">│</span>   <span style=\"color: #7f7f7f; text-decoration-color: #7f7f7f\">2223 </span><span style=\"color: #7f7f7f; text-decoration-color: #7f7f7f\">│   </span><span style=\"color: #0000ff; text-decoration-color: #0000ff\">elif</span> method <span style=\"color: #ff00ff; text-decoration-color: #ff00ff\">is</span> <span style=\"color: #0000ff; text-decoration-color: #0000ff\">None</span>:                                                                  <span style=\"color: #800000; text-decoration-color: #800000\">│</span>\n",
       "<span style=\"color: #800000; text-decoration-color: #800000\">│</span>   <span style=\"color: #7f7f7f; text-decoration-color: #7f7f7f\">2224 </span><span style=\"color: #7f7f7f; text-decoration-color: #7f7f7f\">│     </span>method = <span style=\"color: #00ffff; text-decoration-color: #00ffff\">self</span>.<span style=\"color: #00ff00; text-decoration-color: #00ff00\">__call__</span>                                                              <span style=\"color: #800000; text-decoration-color: #800000\">│</span>\n",
       "<span style=\"color: #800000; text-decoration-color: #800000\">│</span>   <span style=\"color: #7f7f7f; text-decoration-color: #7f7f7f\">2225 </span><span style=\"color: #7f7f7f; text-decoration-color: #7f7f7f\">│   </span>method = _get_unbound_fn(method)                                                      <span style=\"color: #800000; text-decoration-color: #800000\">│</span>\n",
       "<span style=\"color: #800000; text-decoration-color: #800000\">│</span> <span style=\"color: #800000; text-decoration-color: #800000\">❱ </span>2226 <span style=\"color: #7f7f7f; text-decoration-color: #7f7f7f\">│   </span><span style=\"color: #0000ff; text-decoration-color: #0000ff\">return</span> apply(                                                                         <span style=\"color: #800000; text-decoration-color: #800000\">│</span>\n",
       "<span style=\"color: #800000; text-decoration-color: #800000\">│</span>   <span style=\"color: #7f7f7f; text-decoration-color: #7f7f7f\">2227 </span><span style=\"color: #7f7f7f; text-decoration-color: #7f7f7f\">│     </span>method,                                                                             <span style=\"color: #800000; text-decoration-color: #800000\">│</span>\n",
       "<span style=\"color: #800000; text-decoration-color: #800000\">│</span>   <span style=\"color: #7f7f7f; text-decoration-color: #7f7f7f\">2228 </span><span style=\"color: #7f7f7f; text-decoration-color: #7f7f7f\">│     </span><span style=\"color: #00ffff; text-decoration-color: #00ffff\">self</span>,                                                                               <span style=\"color: #800000; text-decoration-color: #800000\">│</span>\n",
       "<span style=\"color: #800000; text-decoration-color: #800000\">│</span>   <span style=\"color: #7f7f7f; text-decoration-color: #7f7f7f\">2229 </span><span style=\"color: #7f7f7f; text-decoration-color: #7f7f7f\">│     </span>mutable=mutable,                                                                    <span style=\"color: #800000; text-decoration-color: #800000\">│</span>\n",
       "<span style=\"color: #800000; text-decoration-color: #800000\">│</span>                                                                                                  <span style=\"color: #800000; text-decoration-color: #800000\">│</span>\n",
       "<span style=\"color: #800000; text-decoration-color: #800000\">│</span> <span style=\"color: #bfbf7f; text-decoration-color: #bfbf7f\">/home/nmiklaucic/miniconda3/envs/avid/lib/python3.12/site-packages/flax/core/</span><span style=\"color: #808000; text-decoration-color: #808000; font-weight: bold\">scope.py</span>:<span style=\"color: #0000ff; text-decoration-color: #0000ff\">1101</span> in    <span style=\"color: #800000; text-decoration-color: #800000\">│</span>\n",
       "<span style=\"color: #800000; text-decoration-color: #800000\">│</span> <span style=\"color: #00ff00; text-decoration-color: #00ff00\">wrapper</span>                                                                                          <span style=\"color: #800000; text-decoration-color: #800000\">│</span>\n",
       "<span style=\"color: #800000; text-decoration-color: #800000\">│</span>                                                                                                  <span style=\"color: #800000; text-decoration-color: #800000\">│</span>\n",
       "<span style=\"color: #800000; text-decoration-color: #800000\">│</span>   <span style=\"color: #7f7f7f; text-decoration-color: #7f7f7f\">1098 </span><span style=\"color: #7f7f7f; text-decoration-color: #7f7f7f\">│   </span><span style=\"color: #0000ff; text-decoration-color: #0000ff\">with</span> bind(                                                                            <span style=\"color: #800000; text-decoration-color: #800000\">│</span>\n",
       "<span style=\"color: #800000; text-decoration-color: #800000\">│</span>   <span style=\"color: #7f7f7f; text-decoration-color: #7f7f7f\">1099 </span><span style=\"color: #7f7f7f; text-decoration-color: #7f7f7f\">│     </span>variables, rngs=rngs, mutable=mutable, flags=flags                                  <span style=\"color: #800000; text-decoration-color: #800000\">│</span>\n",
       "<span style=\"color: #800000; text-decoration-color: #800000\">│</span>   <span style=\"color: #7f7f7f; text-decoration-color: #7f7f7f\">1100 </span><span style=\"color: #7f7f7f; text-decoration-color: #7f7f7f\">│   </span>).temporary() <span style=\"color: #0000ff; text-decoration-color: #0000ff\">as</span> root:                                                                <span style=\"color: #800000; text-decoration-color: #800000\">│</span>\n",
       "<span style=\"color: #800000; text-decoration-color: #800000\">│</span> <span style=\"color: #800000; text-decoration-color: #800000\">❱ </span>1101 <span style=\"color: #7f7f7f; text-decoration-color: #7f7f7f\">│     </span>y = fn(root, *args, **kwargs)                                                       <span style=\"color: #800000; text-decoration-color: #800000\">│</span>\n",
       "<span style=\"color: #800000; text-decoration-color: #800000\">│</span>   <span style=\"color: #7f7f7f; text-decoration-color: #7f7f7f\">1102 </span><span style=\"color: #7f7f7f; text-decoration-color: #7f7f7f\">│   </span><span style=\"color: #0000ff; text-decoration-color: #0000ff\">if</span> mutable <span style=\"color: #ff00ff; text-decoration-color: #ff00ff\">is</span> <span style=\"color: #ff00ff; text-decoration-color: #ff00ff\">not</span> <span style=\"color: #0000ff; text-decoration-color: #0000ff\">False</span>:                                                              <span style=\"color: #800000; text-decoration-color: #800000\">│</span>\n",
       "<span style=\"color: #800000; text-decoration-color: #800000\">│</span>   <span style=\"color: #7f7f7f; text-decoration-color: #7f7f7f\">1103 </span><span style=\"color: #7f7f7f; text-decoration-color: #7f7f7f\">│     </span><span style=\"color: #0000ff; text-decoration-color: #0000ff\">return</span> y, root.mutable_variables()                                                  <span style=\"color: #800000; text-decoration-color: #800000\">│</span>\n",
       "<span style=\"color: #800000; text-decoration-color: #800000\">│</span>   <span style=\"color: #7f7f7f; text-decoration-color: #7f7f7f\">1104 </span><span style=\"color: #7f7f7f; text-decoration-color: #7f7f7f\">│   </span><span style=\"color: #0000ff; text-decoration-color: #0000ff\">else</span>:                                                                                 <span style=\"color: #800000; text-decoration-color: #800000\">│</span>\n",
       "<span style=\"color: #800000; text-decoration-color: #800000\">│</span>                                                                                                  <span style=\"color: #800000; text-decoration-color: #800000\">│</span>\n",
       "<span style=\"color: #800000; text-decoration-color: #800000\">│</span> <span style=\"color: #bfbf7f; text-decoration-color: #bfbf7f\">/home/nmiklaucic/miniconda3/envs/avid/lib/python3.12/site-packages/flax/linen/</span><span style=\"color: #808000; text-decoration-color: #808000; font-weight: bold\">module.py</span>:<span style=\"color: #0000ff; text-decoration-color: #0000ff\">3006</span> in  <span style=\"color: #800000; text-decoration-color: #800000\">│</span>\n",
       "<span style=\"color: #800000; text-decoration-color: #800000\">│</span> <span style=\"color: #00ff00; text-decoration-color: #00ff00\">scope_fn</span>                                                                                         <span style=\"color: #800000; text-decoration-color: #800000\">│</span>\n",
       "<span style=\"color: #800000; text-decoration-color: #800000\">│</span>                                                                                                  <span style=\"color: #800000; text-decoration-color: #800000\">│</span>\n",
       "<span style=\"color: #800000; text-decoration-color: #800000\">│</span>   <span style=\"color: #7f7f7f; text-decoration-color: #7f7f7f\">3003 </span><span style=\"color: #7f7f7f; text-decoration-color: #7f7f7f\">  </span><span style=\"color: #0000ff; text-decoration-color: #0000ff\">def</span> <span style=\"color: #00ff00; text-decoration-color: #00ff00\">scope_fn</span>(scope, *args, **kwargs):                                                   <span style=\"color: #800000; text-decoration-color: #800000\">│</span>\n",
       "<span style=\"color: #800000; text-decoration-color: #800000\">│</span>   <span style=\"color: #7f7f7f; text-decoration-color: #7f7f7f\">3004 </span><span style=\"color: #7f7f7f; text-decoration-color: #7f7f7f\">│   </span>_context.capture_stack.append(capture_intermediates)                                  <span style=\"color: #800000; text-decoration-color: #800000\">│</span>\n",
       "<span style=\"color: #800000; text-decoration-color: #800000\">│</span>   <span style=\"color: #7f7f7f; text-decoration-color: #7f7f7f\">3005 </span><span style=\"color: #7f7f7f; text-decoration-color: #7f7f7f\">│   </span><span style=\"color: #0000ff; text-decoration-color: #0000ff\">try</span>:                                                                                  <span style=\"color: #800000; text-decoration-color: #800000\">│</span>\n",
       "<span style=\"color: #800000; text-decoration-color: #800000\">│</span> <span style=\"color: #800000; text-decoration-color: #800000\">❱ </span>3006 <span style=\"color: #7f7f7f; text-decoration-color: #7f7f7f\">│     </span><span style=\"color: #0000ff; text-decoration-color: #0000ff\">return</span> fn(module.clone(parent=scope, _deep_clone=<span style=\"color: #0000ff; text-decoration-color: #0000ff\">True</span>), *args, **kwargs)            <span style=\"color: #800000; text-decoration-color: #800000\">│</span>\n",
       "<span style=\"color: #800000; text-decoration-color: #800000\">│</span>   <span style=\"color: #7f7f7f; text-decoration-color: #7f7f7f\">3007 </span><span style=\"color: #7f7f7f; text-decoration-color: #7f7f7f\">│   </span><span style=\"color: #0000ff; text-decoration-color: #0000ff\">finally</span>:                                                                              <span style=\"color: #800000; text-decoration-color: #800000\">│</span>\n",
       "<span style=\"color: #800000; text-decoration-color: #800000\">│</span>   <span style=\"color: #7f7f7f; text-decoration-color: #7f7f7f\">3008 </span><span style=\"color: #7f7f7f; text-decoration-color: #7f7f7f\">│     </span>_context.capture_stack.pop()                                                        <span style=\"color: #800000; text-decoration-color: #800000\">│</span>\n",
       "<span style=\"color: #800000; text-decoration-color: #800000\">│</span>   <span style=\"color: #7f7f7f; text-decoration-color: #7f7f7f\">3009 </span>                                                                                          <span style=\"color: #800000; text-decoration-color: #800000\">│</span>\n",
       "<span style=\"color: #800000; text-decoration-color: #800000\">│</span>                                                                                                  <span style=\"color: #800000; text-decoration-color: #800000\">│</span>\n",
       "<span style=\"color: #800000; text-decoration-color: #800000\">│</span> <span style=\"color: #bfbf7f; text-decoration-color: #bfbf7f\">/home/nmiklaucic/miniconda3/envs/avid/lib/python3.12/site-packages/flax/linen/</span><span style=\"color: #808000; text-decoration-color: #808000; font-weight: bold\">module.py</span>:<span style=\"color: #0000ff; text-decoration-color: #0000ff\">701</span> in   <span style=\"color: #800000; text-decoration-color: #800000\">│</span>\n",
       "<span style=\"color: #800000; text-decoration-color: #800000\">│</span> <span style=\"color: #00ff00; text-decoration-color: #00ff00\">wrapped_module_method</span>                                                                            <span style=\"color: #800000; text-decoration-color: #800000\">│</span>\n",
       "<span style=\"color: #800000; text-decoration-color: #800000\">│</span>                                                                                                  <span style=\"color: #800000; text-decoration-color: #800000\">│</span>\n",
       "<span style=\"color: #800000; text-decoration-color: #800000\">│</span>   <span style=\"color: #7f7f7f; text-decoration-color: #7f7f7f\"> 698 </span><span style=\"color: #7f7f7f; text-decoration-color: #7f7f7f\">│   </span><span style=\"color: #7f7f7f; text-decoration-color: #7f7f7f\"># otherwise call the wrapped function as is.</span>                                          <span style=\"color: #800000; text-decoration-color: #800000\">│</span>\n",
       "<span style=\"color: #800000; text-decoration-color: #800000\">│</span>   <span style=\"color: #7f7f7f; text-decoration-color: #7f7f7f\"> 699 </span><span style=\"color: #7f7f7f; text-decoration-color: #7f7f7f\">│   </span><span style=\"color: #0000ff; text-decoration-color: #0000ff\">if</span> args <span style=\"color: #ff00ff; text-decoration-color: #ff00ff\">and</span> <span style=\"color: #00ffff; text-decoration-color: #00ffff\">isinstance</span>(args[<span style=\"color: #0000ff; text-decoration-color: #0000ff\">0</span>], Module):                                              <span style=\"color: #800000; text-decoration-color: #800000\">│</span>\n",
       "<span style=\"color: #800000; text-decoration-color: #800000\">│</span>   <span style=\"color: #7f7f7f; text-decoration-color: #7f7f7f\"> 700 </span><span style=\"color: #7f7f7f; text-decoration-color: #7f7f7f\">│     </span><span style=\"color: #00ffff; text-decoration-color: #00ffff\">self</span>, args = args[<span style=\"color: #0000ff; text-decoration-color: #0000ff\">0</span>], args[<span style=\"color: #0000ff; text-decoration-color: #0000ff\">1</span>:]                                                      <span style=\"color: #800000; text-decoration-color: #800000\">│</span>\n",
       "<span style=\"color: #800000; text-decoration-color: #800000\">│</span> <span style=\"color: #800000; text-decoration-color: #800000\">❱ </span> 701 <span style=\"color: #7f7f7f; text-decoration-color: #7f7f7f\">│     </span><span style=\"color: #0000ff; text-decoration-color: #0000ff\">return</span> <span style=\"color: #00ffff; text-decoration-color: #00ffff\">self</span>._call_wrapped_method(fun, args, kwargs)                                 <span style=\"color: #800000; text-decoration-color: #800000\">│</span>\n",
       "<span style=\"color: #800000; text-decoration-color: #800000\">│</span>   <span style=\"color: #7f7f7f; text-decoration-color: #7f7f7f\"> 702 </span><span style=\"color: #7f7f7f; text-decoration-color: #7f7f7f\">│   </span><span style=\"color: #0000ff; text-decoration-color: #0000ff\">else</span>:                                                                                 <span style=\"color: #800000; text-decoration-color: #800000\">│</span>\n",
       "<span style=\"color: #800000; text-decoration-color: #800000\">│</span>   <span style=\"color: #7f7f7f; text-decoration-color: #7f7f7f\"> 703 </span><span style=\"color: #7f7f7f; text-decoration-color: #7f7f7f\">│     </span><span style=\"color: #0000ff; text-decoration-color: #0000ff\">return</span> fun(*args, **kwargs)                                                         <span style=\"color: #800000; text-decoration-color: #800000\">│</span>\n",
       "<span style=\"color: #800000; text-decoration-color: #800000\">│</span>   <span style=\"color: #7f7f7f; text-decoration-color: #7f7f7f\"> 704 </span>                                                                                          <span style=\"color: #800000; text-decoration-color: #800000\">│</span>\n",
       "<span style=\"color: #800000; text-decoration-color: #800000\">│</span>                                                                                                  <span style=\"color: #800000; text-decoration-color: #800000\">│</span>\n",
       "<span style=\"color: #800000; text-decoration-color: #800000\">│</span> <span style=\"color: #bfbf7f; text-decoration-color: #bfbf7f\">/home/nmiklaucic/miniconda3/envs/avid/lib/python3.12/site-packages/flax/linen/</span><span style=\"color: #808000; text-decoration-color: #808000; font-weight: bold\">module.py</span>:<span style=\"color: #0000ff; text-decoration-color: #0000ff\">1233</span> in  <span style=\"color: #800000; text-decoration-color: #800000\">│</span>\n",
       "<span style=\"color: #800000; text-decoration-color: #800000\">│</span> <span style=\"color: #00ff00; text-decoration-color: #00ff00\">_call_wrapped_method</span>                                                                             <span style=\"color: #800000; text-decoration-color: #800000\">│</span>\n",
       "<span style=\"color: #800000; text-decoration-color: #800000\">│</span>                                                                                                  <span style=\"color: #800000; text-decoration-color: #800000\">│</span>\n",
       "<span style=\"color: #800000; text-decoration-color: #800000\">│</span>   <span style=\"color: #7f7f7f; text-decoration-color: #7f7f7f\">1230 </span><span style=\"color: #7f7f7f; text-decoration-color: #7f7f7f\">│     </span><span style=\"color: #7f7f7f; text-decoration-color: #7f7f7f\"># call method</span>                                                                       <span style=\"color: #800000; text-decoration-color: #800000\">│</span>\n",
       "<span style=\"color: #800000; text-decoration-color: #800000\">│</span>   <span style=\"color: #7f7f7f; text-decoration-color: #7f7f7f\">1231 </span><span style=\"color: #7f7f7f; text-decoration-color: #7f7f7f\">│     </span><span style=\"color: #0000ff; text-decoration-color: #0000ff\">if</span> _use_named_call:                                                                 <span style=\"color: #800000; text-decoration-color: #800000\">│</span>\n",
       "<span style=\"color: #800000; text-decoration-color: #800000\">│</span>   <span style=\"color: #7f7f7f; text-decoration-color: #7f7f7f\">1232 </span><span style=\"color: #7f7f7f; text-decoration-color: #7f7f7f\">│   │   </span><span style=\"color: #0000ff; text-decoration-color: #0000ff\">with</span> jax.named_scope(_derive_profiling_name(<span style=\"color: #00ffff; text-decoration-color: #00ffff\">self</span>, fun)):                          <span style=\"color: #800000; text-decoration-color: #800000\">│</span>\n",
       "<span style=\"color: #800000; text-decoration-color: #800000\">│</span> <span style=\"color: #800000; text-decoration-color: #800000\">❱ </span>1233 <span style=\"color: #7f7f7f; text-decoration-color: #7f7f7f\">│   │     </span>y = run_fun(<span style=\"color: #00ffff; text-decoration-color: #00ffff\">self</span>, *args, **kwargs)                                              <span style=\"color: #800000; text-decoration-color: #800000\">│</span>\n",
       "<span style=\"color: #800000; text-decoration-color: #800000\">│</span>   <span style=\"color: #7f7f7f; text-decoration-color: #7f7f7f\">1234 </span><span style=\"color: #7f7f7f; text-decoration-color: #7f7f7f\">│     </span><span style=\"color: #0000ff; text-decoration-color: #0000ff\">else</span>:                                                                               <span style=\"color: #800000; text-decoration-color: #800000\">│</span>\n",
       "<span style=\"color: #800000; text-decoration-color: #800000\">│</span>   <span style=\"color: #7f7f7f; text-decoration-color: #7f7f7f\">1235 </span><span style=\"color: #7f7f7f; text-decoration-color: #7f7f7f\">│   │   </span>y = run_fun(<span style=\"color: #00ffff; text-decoration-color: #00ffff\">self</span>, *args, **kwargs)                                                <span style=\"color: #800000; text-decoration-color: #800000\">│</span>\n",
       "<span style=\"color: #800000; text-decoration-color: #800000\">│</span>   <span style=\"color: #7f7f7f; text-decoration-color: #7f7f7f\">1236 </span>                                                                                          <span style=\"color: #800000; text-decoration-color: #800000\">│</span>\n",
       "<span style=\"color: #800000; text-decoration-color: #800000\">│</span>                                                                                                  <span style=\"color: #800000; text-decoration-color: #800000\">│</span>\n",
       "<span style=\"color: #800000; text-decoration-color: #800000\">│</span> <span style=\"color: #bfbf7f; text-decoration-color: #bfbf7f\">/home/nmiklaucic/cdv/cdv/</span><span style=\"color: #808000; text-decoration-color: #808000; font-weight: bold\">vae.py</span>:<span style=\"color: #0000ff; text-decoration-color: #0000ff\">186</span> in <span style=\"color: #00ff00; text-decoration-color: #00ff00\">__call__</span>                                                  <span style=\"color: #800000; text-decoration-color: #800000\">│</span>\n",
       "<span style=\"color: #800000; text-decoration-color: #800000\">│</span>                                                                                                  <span style=\"color: #800000; text-decoration-color: #800000\">│</span>\n",
       "<span style=\"color: #800000; text-decoration-color: #800000\">│</span>   <span style=\"color: #7f7f7f; text-decoration-color: #7f7f7f\">183 </span><span style=\"color: #7f7f7f; text-decoration-color: #7f7f7f\">│   </span>                                                                                       <span style=\"color: #800000; text-decoration-color: #800000\">│</span>\n",
       "<span style=\"color: #800000; text-decoration-color: #800000\">│</span>   <span style=\"color: #7f7f7f; text-decoration-color: #7f7f7f\">184 </span><span style=\"color: #7f7f7f; text-decoration-color: #7f7f7f\">│   </span><span style=\"color: #0000ff; text-decoration-color: #0000ff\">def</span> <span style=\"color: #00ff00; text-decoration-color: #00ff00\">__call__</span>(<span style=\"color: #00ffff; text-decoration-color: #00ffff\">self</span>, cg: CrystalGraphs, ctx: Context):                                   <span style=\"color: #800000; text-decoration-color: #800000\">│</span>\n",
       "<span style=\"color: #800000; text-decoration-color: #800000\">│</span>   <span style=\"color: #7f7f7f; text-decoration-color: #7f7f7f\">185 </span><span style=\"color: #7f7f7f; text-decoration-color: #7f7f7f\">│   │   </span><span style=\"color: #7f7f7f; text-decoration-color: #7f7f7f\"># debug_structure(cg=cg)</span>                                                           <span style=\"color: #800000; text-decoration-color: #800000\">│</span>\n",
       "<span style=\"color: #800000; text-decoration-color: #800000\">│</span> <span style=\"color: #800000; text-decoration-color: #800000\">❱ </span>186 <span style=\"color: #7f7f7f; text-decoration-color: #7f7f7f\">│   │   </span>z = <span style=\"color: #00ffff; text-decoration-color: #00ffff\">self</span>.encoder(cg, ctx)                                                          <span style=\"color: #800000; text-decoration-color: #800000\">│</span>\n",
       "<span style=\"color: #800000; text-decoration-color: #800000\">│</span>   <span style=\"color: #7f7f7f; text-decoration-color: #7f7f7f\">187 </span><span style=\"color: #7f7f7f; text-decoration-color: #7f7f7f\">│   │   </span>eps, noisy_cg = <span style=\"color: #00ffff; text-decoration-color: #00ffff\">self</span>.add_coord_noise(cg, ctx)                                      <span style=\"color: #800000; text-decoration-color: #800000\">│</span>\n",
       "<span style=\"color: #800000; text-decoration-color: #800000\">│</span>   <span style=\"color: #7f7f7f; text-decoration-color: #7f7f7f\">188 </span><span style=\"color: #7f7f7f; text-decoration-color: #7f7f7f\">│   │   </span><span style=\"color: #7f7f7f; text-decoration-color: #7f7f7f\"># debug_stat(z=z, eps=eps, noisy_cg=noisy_cg)</span>                                      <span style=\"color: #800000; text-decoration-color: #800000\">│</span>\n",
       "<span style=\"color: #800000; text-decoration-color: #800000\">│</span>   <span style=\"color: #7f7f7f; text-decoration-color: #7f7f7f\">189 </span><span style=\"color: #7f7f7f; text-decoration-color: #7f7f7f\">│   │   </span>eps_rec = <span style=\"color: #00ffff; text-decoration-color: #00ffff\">self</span>.decoder(noisy_cg, z, ctx)                                           <span style=\"color: #800000; text-decoration-color: #800000\">│</span>\n",
       "<span style=\"color: #800000; text-decoration-color: #800000\">│</span>                                                                                                  <span style=\"color: #800000; text-decoration-color: #800000\">│</span>\n",
       "<span style=\"color: #800000; text-decoration-color: #800000\">│</span> <span style=\"color: #bfbf7f; text-decoration-color: #bfbf7f\">/home/nmiklaucic/miniconda3/envs/avid/lib/python3.12/site-packages/flax/linen/</span><span style=\"color: #808000; text-decoration-color: #808000; font-weight: bold\">module.py</span>:<span style=\"color: #0000ff; text-decoration-color: #0000ff\">701</span> in   <span style=\"color: #800000; text-decoration-color: #800000\">│</span>\n",
       "<span style=\"color: #800000; text-decoration-color: #800000\">│</span> <span style=\"color: #00ff00; text-decoration-color: #00ff00\">wrapped_module_method</span>                                                                            <span style=\"color: #800000; text-decoration-color: #800000\">│</span>\n",
       "<span style=\"color: #800000; text-decoration-color: #800000\">│</span>                                                                                                  <span style=\"color: #800000; text-decoration-color: #800000\">│</span>\n",
       "<span style=\"color: #800000; text-decoration-color: #800000\">│</span>   <span style=\"color: #7f7f7f; text-decoration-color: #7f7f7f\"> 698 </span><span style=\"color: #7f7f7f; text-decoration-color: #7f7f7f\">│   </span><span style=\"color: #7f7f7f; text-decoration-color: #7f7f7f\"># otherwise call the wrapped function as is.</span>                                          <span style=\"color: #800000; text-decoration-color: #800000\">│</span>\n",
       "<span style=\"color: #800000; text-decoration-color: #800000\">│</span>   <span style=\"color: #7f7f7f; text-decoration-color: #7f7f7f\"> 699 </span><span style=\"color: #7f7f7f; text-decoration-color: #7f7f7f\">│   </span><span style=\"color: #0000ff; text-decoration-color: #0000ff\">if</span> args <span style=\"color: #ff00ff; text-decoration-color: #ff00ff\">and</span> <span style=\"color: #00ffff; text-decoration-color: #00ffff\">isinstance</span>(args[<span style=\"color: #0000ff; text-decoration-color: #0000ff\">0</span>], Module):                                              <span style=\"color: #800000; text-decoration-color: #800000\">│</span>\n",
       "<span style=\"color: #800000; text-decoration-color: #800000\">│</span>   <span style=\"color: #7f7f7f; text-decoration-color: #7f7f7f\"> 700 </span><span style=\"color: #7f7f7f; text-decoration-color: #7f7f7f\">│     </span><span style=\"color: #00ffff; text-decoration-color: #00ffff\">self</span>, args = args[<span style=\"color: #0000ff; text-decoration-color: #0000ff\">0</span>], args[<span style=\"color: #0000ff; text-decoration-color: #0000ff\">1</span>:]                                                      <span style=\"color: #800000; text-decoration-color: #800000\">│</span>\n",
       "<span style=\"color: #800000; text-decoration-color: #800000\">│</span> <span style=\"color: #800000; text-decoration-color: #800000\">❱ </span> 701 <span style=\"color: #7f7f7f; text-decoration-color: #7f7f7f\">│     </span><span style=\"color: #0000ff; text-decoration-color: #0000ff\">return</span> <span style=\"color: #00ffff; text-decoration-color: #00ffff\">self</span>._call_wrapped_method(fun, args, kwargs)                                 <span style=\"color: #800000; text-decoration-color: #800000\">│</span>\n",
       "<span style=\"color: #800000; text-decoration-color: #800000\">│</span>   <span style=\"color: #7f7f7f; text-decoration-color: #7f7f7f\"> 702 </span><span style=\"color: #7f7f7f; text-decoration-color: #7f7f7f\">│   </span><span style=\"color: #0000ff; text-decoration-color: #0000ff\">else</span>:                                                                                 <span style=\"color: #800000; text-decoration-color: #800000\">│</span>\n",
       "<span style=\"color: #800000; text-decoration-color: #800000\">│</span>   <span style=\"color: #7f7f7f; text-decoration-color: #7f7f7f\"> 703 </span><span style=\"color: #7f7f7f; text-decoration-color: #7f7f7f\">│     </span><span style=\"color: #0000ff; text-decoration-color: #0000ff\">return</span> fun(*args, **kwargs)                                                         <span style=\"color: #800000; text-decoration-color: #800000\">│</span>\n",
       "<span style=\"color: #800000; text-decoration-color: #800000\">│</span>   <span style=\"color: #7f7f7f; text-decoration-color: #7f7f7f\"> 704 </span>                                                                                          <span style=\"color: #800000; text-decoration-color: #800000\">│</span>\n",
       "<span style=\"color: #800000; text-decoration-color: #800000\">│</span>                                                                                                  <span style=\"color: #800000; text-decoration-color: #800000\">│</span>\n",
       "<span style=\"color: #800000; text-decoration-color: #800000\">│</span> <span style=\"color: #bfbf7f; text-decoration-color: #bfbf7f\">/home/nmiklaucic/miniconda3/envs/avid/lib/python3.12/site-packages/flax/linen/</span><span style=\"color: #808000; text-decoration-color: #808000; font-weight: bold\">module.py</span>:<span style=\"color: #0000ff; text-decoration-color: #0000ff\">1233</span> in  <span style=\"color: #800000; text-decoration-color: #800000\">│</span>\n",
       "<span style=\"color: #800000; text-decoration-color: #800000\">│</span> <span style=\"color: #00ff00; text-decoration-color: #00ff00\">_call_wrapped_method</span>                                                                             <span style=\"color: #800000; text-decoration-color: #800000\">│</span>\n",
       "<span style=\"color: #800000; text-decoration-color: #800000\">│</span>                                                                                                  <span style=\"color: #800000; text-decoration-color: #800000\">│</span>\n",
       "<span style=\"color: #800000; text-decoration-color: #800000\">│</span>   <span style=\"color: #7f7f7f; text-decoration-color: #7f7f7f\">1230 </span><span style=\"color: #7f7f7f; text-decoration-color: #7f7f7f\">│     </span><span style=\"color: #7f7f7f; text-decoration-color: #7f7f7f\"># call method</span>                                                                       <span style=\"color: #800000; text-decoration-color: #800000\">│</span>\n",
       "<span style=\"color: #800000; text-decoration-color: #800000\">│</span>   <span style=\"color: #7f7f7f; text-decoration-color: #7f7f7f\">1231 </span><span style=\"color: #7f7f7f; text-decoration-color: #7f7f7f\">│     </span><span style=\"color: #0000ff; text-decoration-color: #0000ff\">if</span> _use_named_call:                                                                 <span style=\"color: #800000; text-decoration-color: #800000\">│</span>\n",
       "<span style=\"color: #800000; text-decoration-color: #800000\">│</span>   <span style=\"color: #7f7f7f; text-decoration-color: #7f7f7f\">1232 </span><span style=\"color: #7f7f7f; text-decoration-color: #7f7f7f\">│   │   </span><span style=\"color: #0000ff; text-decoration-color: #0000ff\">with</span> jax.named_scope(_derive_profiling_name(<span style=\"color: #00ffff; text-decoration-color: #00ffff\">self</span>, fun)):                          <span style=\"color: #800000; text-decoration-color: #800000\">│</span>\n",
       "<span style=\"color: #800000; text-decoration-color: #800000\">│</span> <span style=\"color: #800000; text-decoration-color: #800000\">❱ </span>1233 <span style=\"color: #7f7f7f; text-decoration-color: #7f7f7f\">│   │     </span>y = run_fun(<span style=\"color: #00ffff; text-decoration-color: #00ffff\">self</span>, *args, **kwargs)                                              <span style=\"color: #800000; text-decoration-color: #800000\">│</span>\n",
       "<span style=\"color: #800000; text-decoration-color: #800000\">│</span>   <span style=\"color: #7f7f7f; text-decoration-color: #7f7f7f\">1234 </span><span style=\"color: #7f7f7f; text-decoration-color: #7f7f7f\">│     </span><span style=\"color: #0000ff; text-decoration-color: #0000ff\">else</span>:                                                                               <span style=\"color: #800000; text-decoration-color: #800000\">│</span>\n",
       "<span style=\"color: #800000; text-decoration-color: #800000\">│</span>   <span style=\"color: #7f7f7f; text-decoration-color: #7f7f7f\">1235 </span><span style=\"color: #7f7f7f; text-decoration-color: #7f7f7f\">│   │   </span>y = run_fun(<span style=\"color: #00ffff; text-decoration-color: #00ffff\">self</span>, *args, **kwargs)                                                <span style=\"color: #800000; text-decoration-color: #800000\">│</span>\n",
       "<span style=\"color: #800000; text-decoration-color: #800000\">│</span>   <span style=\"color: #7f7f7f; text-decoration-color: #7f7f7f\">1236 </span>                                                                                          <span style=\"color: #800000; text-decoration-color: #800000\">│</span>\n",
       "<span style=\"color: #800000; text-decoration-color: #800000\">│</span>                                                                                                  <span style=\"color: #800000; text-decoration-color: #800000\">│</span>\n",
       "<span style=\"color: #800000; text-decoration-color: #800000\">│</span> <span style=\"color: #bfbf7f; text-decoration-color: #bfbf7f\">/home/nmiklaucic/cdv/cdv/</span><span style=\"color: #808000; text-decoration-color: #808000; font-weight: bold\">vae.py</span>:<span style=\"color: #0000ff; text-decoration-color: #0000ff\">132</span> in <span style=\"color: #00ff00; text-decoration-color: #00ff00\">__call__</span>                                                  <span style=\"color: #800000; text-decoration-color: #800000\">│</span>\n",
       "<span style=\"color: #800000; text-decoration-color: #800000\">│</span>                                                                                                  <span style=\"color: #800000; text-decoration-color: #800000\">│</span>\n",
       "<span style=\"color: #800000; text-decoration-color: #800000\">│</span>   <span style=\"color: #7f7f7f; text-decoration-color: #7f7f7f\">129 </span><span style=\"color: #7f7f7f; text-decoration-color: #7f7f7f\">│   │   </span><span style=\"color: #00ffff; text-decoration-color: #00ffff\">self</span>.norm = nn.LayerNorm(use_scale=<span style=\"color: #0000ff; text-decoration-color: #0000ff\">False</span>)                                          <span style=\"color: #800000; text-decoration-color: #800000\">│</span>\n",
       "<span style=\"color: #800000; text-decoration-color: #800000\">│</span>   <span style=\"color: #7f7f7f; text-decoration-color: #7f7f7f\">130 </span><span style=\"color: #7f7f7f; text-decoration-color: #7f7f7f\">│   </span>                                                                                       <span style=\"color: #800000; text-decoration-color: #800000\">│</span>\n",
       "<span style=\"color: #800000; text-decoration-color: #800000\">│</span>   <span style=\"color: #7f7f7f; text-decoration-color: #7f7f7f\">131 </span><span style=\"color: #7f7f7f; text-decoration-color: #7f7f7f\">│   </span><span style=\"color: #0000ff; text-decoration-color: #0000ff\">def</span> <span style=\"color: #00ff00; text-decoration-color: #00ff00\">__call__</span>(<span style=\"color: #00ffff; text-decoration-color: #00ffff\">self</span>, cg: CrystalGraphs, ctx: Context) -&gt; LatentOutput:                   <span style=\"color: #800000; text-decoration-color: #800000\">│</span>\n",
       "<span style=\"color: #800000; text-decoration-color: #800000\">│</span> <span style=\"color: #800000; text-decoration-color: #800000\">❱ </span>132 <span style=\"color: #7f7f7f; text-decoration-color: #7f7f7f\">│   │   </span>graph_out, node_out = <span style=\"color: #00ffff; text-decoration-color: #00ffff\">self</span>.encoder(cg, ctx)                                        <span style=\"color: #800000; text-decoration-color: #800000\">│</span>\n",
       "<span style=\"color: #800000; text-decoration-color: #800000\">│</span>   <span style=\"color: #7f7f7f; text-decoration-color: #7f7f7f\">133 </span><span style=\"color: #7f7f7f; text-decoration-color: #7f7f7f\">│   │   </span><span style=\"color: #7f7f7f; text-decoration-color: #7f7f7f\"># in future, maybe this could have other irreps, but for now just scalars</span>          <span style=\"color: #800000; text-decoration-color: #800000\">│</span>\n",
       "<span style=\"color: #800000; text-decoration-color: #800000\">│</span>   <span style=\"color: #7f7f7f; text-decoration-color: #7f7f7f\">134 </span><span style=\"color: #7f7f7f; text-decoration-color: #7f7f7f\">│   │   </span><span style=\"color: #0000ff; text-decoration-color: #0000ff\">assert</span> node_out <span style=\"color: #ff00ff; text-decoration-color: #ff00ff\">is</span> <span style=\"color: #0000ff; text-decoration-color: #0000ff\">None</span>                                                            <span style=\"color: #800000; text-decoration-color: #800000\">│</span>\n",
       "<span style=\"color: #800000; text-decoration-color: #800000\">│</span>   <span style=\"color: #7f7f7f; text-decoration-color: #7f7f7f\">135 </span><span style=\"color: #7f7f7f; text-decoration-color: #7f7f7f\">│   │   </span><span style=\"color: #0000ff; text-decoration-color: #0000ff\">assert</span> graph_out.irreps.is_scalar()                                                <span style=\"color: #800000; text-decoration-color: #800000\">│</span>\n",
       "<span style=\"color: #800000; text-decoration-color: #800000\">│</span>                                                                                                  <span style=\"color: #800000; text-decoration-color: #800000\">│</span>\n",
       "<span style=\"color: #800000; text-decoration-color: #800000\">│</span> <span style=\"color: #bfbf7f; text-decoration-color: #bfbf7f\">/home/nmiklaucic/miniconda3/envs/avid/lib/python3.12/site-packages/flax/linen/</span><span style=\"color: #808000; text-decoration-color: #808000; font-weight: bold\">module.py</span>:<span style=\"color: #0000ff; text-decoration-color: #0000ff\">701</span> in   <span style=\"color: #800000; text-decoration-color: #800000\">│</span>\n",
       "<span style=\"color: #800000; text-decoration-color: #800000\">│</span> <span style=\"color: #00ff00; text-decoration-color: #00ff00\">wrapped_module_method</span>                                                                            <span style=\"color: #800000; text-decoration-color: #800000\">│</span>\n",
       "<span style=\"color: #800000; text-decoration-color: #800000\">│</span>                                                                                                  <span style=\"color: #800000; text-decoration-color: #800000\">│</span>\n",
       "<span style=\"color: #800000; text-decoration-color: #800000\">│</span>   <span style=\"color: #7f7f7f; text-decoration-color: #7f7f7f\"> 698 </span><span style=\"color: #7f7f7f; text-decoration-color: #7f7f7f\">│   </span><span style=\"color: #7f7f7f; text-decoration-color: #7f7f7f\"># otherwise call the wrapped function as is.</span>                                          <span style=\"color: #800000; text-decoration-color: #800000\">│</span>\n",
       "<span style=\"color: #800000; text-decoration-color: #800000\">│</span>   <span style=\"color: #7f7f7f; text-decoration-color: #7f7f7f\"> 699 </span><span style=\"color: #7f7f7f; text-decoration-color: #7f7f7f\">│   </span><span style=\"color: #0000ff; text-decoration-color: #0000ff\">if</span> args <span style=\"color: #ff00ff; text-decoration-color: #ff00ff\">and</span> <span style=\"color: #00ffff; text-decoration-color: #00ffff\">isinstance</span>(args[<span style=\"color: #0000ff; text-decoration-color: #0000ff\">0</span>], Module):                                              <span style=\"color: #800000; text-decoration-color: #800000\">│</span>\n",
       "<span style=\"color: #800000; text-decoration-color: #800000\">│</span>   <span style=\"color: #7f7f7f; text-decoration-color: #7f7f7f\"> 700 </span><span style=\"color: #7f7f7f; text-decoration-color: #7f7f7f\">│     </span><span style=\"color: #00ffff; text-decoration-color: #00ffff\">self</span>, args = args[<span style=\"color: #0000ff; text-decoration-color: #0000ff\">0</span>], args[<span style=\"color: #0000ff; text-decoration-color: #0000ff\">1</span>:]                                                      <span style=\"color: #800000; text-decoration-color: #800000\">│</span>\n",
       "<span style=\"color: #800000; text-decoration-color: #800000\">│</span> <span style=\"color: #800000; text-decoration-color: #800000\">❱ </span> 701 <span style=\"color: #7f7f7f; text-decoration-color: #7f7f7f\">│     </span><span style=\"color: #0000ff; text-decoration-color: #0000ff\">return</span> <span style=\"color: #00ffff; text-decoration-color: #00ffff\">self</span>._call_wrapped_method(fun, args, kwargs)                                 <span style=\"color: #800000; text-decoration-color: #800000\">│</span>\n",
       "<span style=\"color: #800000; text-decoration-color: #800000\">│</span>   <span style=\"color: #7f7f7f; text-decoration-color: #7f7f7f\"> 702 </span><span style=\"color: #7f7f7f; text-decoration-color: #7f7f7f\">│   </span><span style=\"color: #0000ff; text-decoration-color: #0000ff\">else</span>:                                                                                 <span style=\"color: #800000; text-decoration-color: #800000\">│</span>\n",
       "<span style=\"color: #800000; text-decoration-color: #800000\">│</span>   <span style=\"color: #7f7f7f; text-decoration-color: #7f7f7f\"> 703 </span><span style=\"color: #7f7f7f; text-decoration-color: #7f7f7f\">│     </span><span style=\"color: #0000ff; text-decoration-color: #0000ff\">return</span> fun(*args, **kwargs)                                                         <span style=\"color: #800000; text-decoration-color: #800000\">│</span>\n",
       "<span style=\"color: #800000; text-decoration-color: #800000\">│</span>   <span style=\"color: #7f7f7f; text-decoration-color: #7f7f7f\"> 704 </span>                                                                                          <span style=\"color: #800000; text-decoration-color: #800000\">│</span>\n",
       "<span style=\"color: #800000; text-decoration-color: #800000\">│</span>                                                                                                  <span style=\"color: #800000; text-decoration-color: #800000\">│</span>\n",
       "<span style=\"color: #800000; text-decoration-color: #800000\">│</span> <span style=\"color: #bfbf7f; text-decoration-color: #bfbf7f\">/home/nmiklaucic/miniconda3/envs/avid/lib/python3.12/site-packages/flax/linen/</span><span style=\"color: #808000; text-decoration-color: #808000; font-weight: bold\">module.py</span>:<span style=\"color: #0000ff; text-decoration-color: #0000ff\">1233</span> in  <span style=\"color: #800000; text-decoration-color: #800000\">│</span>\n",
       "<span style=\"color: #800000; text-decoration-color: #800000\">│</span> <span style=\"color: #00ff00; text-decoration-color: #00ff00\">_call_wrapped_method</span>                                                                             <span style=\"color: #800000; text-decoration-color: #800000\">│</span>\n",
       "<span style=\"color: #800000; text-decoration-color: #800000\">│</span>                                                                                                  <span style=\"color: #800000; text-decoration-color: #800000\">│</span>\n",
       "<span style=\"color: #800000; text-decoration-color: #800000\">│</span>   <span style=\"color: #7f7f7f; text-decoration-color: #7f7f7f\">1230 </span><span style=\"color: #7f7f7f; text-decoration-color: #7f7f7f\">│     </span><span style=\"color: #7f7f7f; text-decoration-color: #7f7f7f\"># call method</span>                                                                       <span style=\"color: #800000; text-decoration-color: #800000\">│</span>\n",
       "<span style=\"color: #800000; text-decoration-color: #800000\">│</span>   <span style=\"color: #7f7f7f; text-decoration-color: #7f7f7f\">1231 </span><span style=\"color: #7f7f7f; text-decoration-color: #7f7f7f\">│     </span><span style=\"color: #0000ff; text-decoration-color: #0000ff\">if</span> _use_named_call:                                                                 <span style=\"color: #800000; text-decoration-color: #800000\">│</span>\n",
       "<span style=\"color: #800000; text-decoration-color: #800000\">│</span>   <span style=\"color: #7f7f7f; text-decoration-color: #7f7f7f\">1232 </span><span style=\"color: #7f7f7f; text-decoration-color: #7f7f7f\">│   │   </span><span style=\"color: #0000ff; text-decoration-color: #0000ff\">with</span> jax.named_scope(_derive_profiling_name(<span style=\"color: #00ffff; text-decoration-color: #00ffff\">self</span>, fun)):                          <span style=\"color: #800000; text-decoration-color: #800000\">│</span>\n",
       "<span style=\"color: #800000; text-decoration-color: #800000\">│</span> <span style=\"color: #800000; text-decoration-color: #800000\">❱ </span>1233 <span style=\"color: #7f7f7f; text-decoration-color: #7f7f7f\">│   │     </span>y = run_fun(<span style=\"color: #00ffff; text-decoration-color: #00ffff\">self</span>, *args, **kwargs)                                              <span style=\"color: #800000; text-decoration-color: #800000\">│</span>\n",
       "<span style=\"color: #800000; text-decoration-color: #800000\">│</span>   <span style=\"color: #7f7f7f; text-decoration-color: #7f7f7f\">1234 </span><span style=\"color: #7f7f7f; text-decoration-color: #7f7f7f\">│     </span><span style=\"color: #0000ff; text-decoration-color: #0000ff\">else</span>:                                                                               <span style=\"color: #800000; text-decoration-color: #800000\">│</span>\n",
       "<span style=\"color: #800000; text-decoration-color: #800000\">│</span>   <span style=\"color: #7f7f7f; text-decoration-color: #7f7f7f\">1235 </span><span style=\"color: #7f7f7f; text-decoration-color: #7f7f7f\">│   │   </span>y = run_fun(<span style=\"color: #00ffff; text-decoration-color: #00ffff\">self</span>, *args, **kwargs)                                                <span style=\"color: #800000; text-decoration-color: #800000\">│</span>\n",
       "<span style=\"color: #800000; text-decoration-color: #800000\">│</span>   <span style=\"color: #7f7f7f; text-decoration-color: #7f7f7f\">1236 </span>                                                                                          <span style=\"color: #800000; text-decoration-color: #800000\">│</span>\n",
       "<span style=\"color: #800000; text-decoration-color: #800000\">│</span>                                                                                                  <span style=\"color: #800000; text-decoration-color: #800000\">│</span>\n",
       "<span style=\"color: #800000; text-decoration-color: #800000\">│</span> <span style=\"color: #bfbf7f; text-decoration-color: #bfbf7f\">/home/nmiklaucic/cdv/cdv/</span><span style=\"color: #808000; text-decoration-color: #808000; font-weight: bold\">mace.py</span>:<span style=\"color: #0000ff; text-decoration-color: #0000ff\">872</span> in <span style=\"color: #00ff00; text-decoration-color: #00ff00\">__call__</span>                                                 <span style=\"color: #800000; text-decoration-color: #800000\">│</span>\n",
       "<span style=\"color: #800000; text-decoration-color: #800000\">│</span>                                                                                                  <span style=\"color: #800000; text-decoration-color: #800000\">│</span>\n",
       "<span style=\"color: #800000; text-decoration-color: #800000\">│</span>   <span style=\"color: #7f7f7f; text-decoration-color: #7f7f7f\"> 869 </span><span style=\"color: #7f7f7f; text-decoration-color: #7f7f7f\">│   │   </span>ctx: Context,                                                                     <span style=\"color: #800000; text-decoration-color: #800000\">│</span>\n",
       "<span style=\"color: #800000; text-decoration-color: #800000\">│</span>   <span style=\"color: #7f7f7f; text-decoration-color: #7f7f7f\"> 870 </span><span style=\"color: #7f7f7f; text-decoration-color: #7f7f7f\">│   │   </span>global_feats: Float[Array, <span style=\"color: #808000; text-decoration-color: #808000\">'graphs latent'</span>] | <span style=\"color: #0000ff; text-decoration-color: #0000ff\">None</span> = <span style=\"color: #0000ff; text-decoration-color: #0000ff\">None</span>,                        <span style=\"color: #800000; text-decoration-color: #800000\">│</span>\n",
       "<span style=\"color: #800000; text-decoration-color: #800000\">│</span>   <span style=\"color: #7f7f7f; text-decoration-color: #7f7f7f\"> 871 </span><span style=\"color: #7f7f7f; text-decoration-color: #7f7f7f\">│   </span>):                                                                                    <span style=\"color: #800000; text-decoration-color: #800000\">│</span>\n",
       "<span style=\"color: #800000; text-decoration-color: #800000\">│</span> <span style=\"color: #800000; text-decoration-color: #800000\">❱ </span> 872 <span style=\"color: #7f7f7f; text-decoration-color: #7f7f7f\">│   │   </span>vecs = edge_vecs(cg)                                                              <span style=\"color: #800000; text-decoration-color: #800000\">│</span>\n",
       "<span style=\"color: #800000; text-decoration-color: #800000\">│</span>   <span style=\"color: #7f7f7f; text-decoration-color: #7f7f7f\"> 873 </span><span style=\"color: #7f7f7f; text-decoration-color: #7f7f7f\">│   │   </span>                                                                                  <span style=\"color: #800000; text-decoration-color: #800000\">│</span>\n",
       "<span style=\"color: #800000; text-decoration-color: #800000\">│</span>   <span style=\"color: #7f7f7f; text-decoration-color: #7f7f7f\"> 874 </span><span style=\"color: #7f7f7f; text-decoration-color: #7f7f7f\">│   │   </span><span style=\"color: #0000ff; text-decoration-color: #0000ff\">if</span> global_feats <span style=\"color: #ff00ff; text-decoration-color: #ff00ff\">is</span> <span style=\"color: #0000ff; text-decoration-color: #0000ff\">None</span>:                                                          <span style=\"color: #800000; text-decoration-color: #800000\">│</span>\n",
       "<span style=\"color: #800000; text-decoration-color: #800000\">│</span>   <span style=\"color: #7f7f7f; text-decoration-color: #7f7f7f\"> 875 </span><span style=\"color: #7f7f7f; text-decoration-color: #7f7f7f\">│   │   │   </span>extra_node_feats = <span style=\"color: #0000ff; text-decoration-color: #0000ff\">None</span>                                                       <span style=\"color: #800000; text-decoration-color: #800000\">│</span>\n",
       "<span style=\"color: #800000; text-decoration-color: #800000\">│</span>                                                                                                  <span style=\"color: #800000; text-decoration-color: #800000\">│</span>\n",
       "<span style=\"color: #800000; text-decoration-color: #800000\">│</span> <span style=\"color: #bfbf7f; text-decoration-color: #bfbf7f\">/home/nmiklaucic/cdv/cdv/</span><span style=\"color: #808000; text-decoration-color: #808000; font-weight: bold\">layers.py</span>:<span style=\"color: #0000ff; text-decoration-color: #0000ff\">38</span> in <span style=\"color: #00ff00; text-decoration-color: #00ff00\">edge_vecs</span>                                               <span style=\"color: #800000; text-decoration-color: #800000\">│</span>\n",
       "<span style=\"color: #800000; text-decoration-color: #800000\">│</span>                                                                                                  <span style=\"color: #800000; text-decoration-color: #800000\">│</span>\n",
       "<span style=\"color: #800000; text-decoration-color: #800000\">│</span>   <span style=\"color: #7f7f7f; text-decoration-color: #7f7f7f\"> 35 </span>                                                                                           <span style=\"color: #800000; text-decoration-color: #800000\">│</span>\n",
       "<span style=\"color: #800000; text-decoration-color: #800000\">│</span>   <span style=\"color: #7f7f7f; text-decoration-color: #7f7f7f\"> 36 </span>                                                                                           <span style=\"color: #800000; text-decoration-color: #800000\">│</span>\n",
       "<span style=\"color: #800000; text-decoration-color: #800000\">│</span>   <span style=\"color: #7f7f7f; text-decoration-color: #7f7f7f\"> 37 </span><span style=\"color: #0000ff; text-decoration-color: #0000ff\">def</span> <span style=\"color: #00ff00; text-decoration-color: #00ff00\">edge_vecs</span>(cg):                                                                         <span style=\"color: #800000; text-decoration-color: #800000\">│</span>\n",
       "<span style=\"color: #800000; text-decoration-color: #800000\">│</span> <span style=\"color: #800000; text-decoration-color: #800000\">❱ </span> 38 <span style=\"color: #7f7f7f; text-decoration-color: #7f7f7f\">│   </span>send_pos = cg.nodes.cart[cg.senders]                                                   <span style=\"color: #800000; text-decoration-color: #800000\">│</span>\n",
       "<span style=\"color: #800000; text-decoration-color: #800000\">│</span>   <span style=\"color: #7f7f7f; text-decoration-color: #7f7f7f\"> 39 </span><span style=\"color: #7f7f7f; text-decoration-color: #7f7f7f\">│   </span>offsets = EinsOp(<span style=\"color: #808000; text-decoration-color: #808000\">'e abc xyz, e abc -&gt; e xyz'</span>)(                                         <span style=\"color: #800000; text-decoration-color: #800000\">│</span>\n",
       "<span style=\"color: #800000; text-decoration-color: #800000\">│</span>   <span style=\"color: #7f7f7f; text-decoration-color: #7f7f7f\"> 40 </span><span style=\"color: #7f7f7f; text-decoration-color: #7f7f7f\">│   │   </span>cg.graph_data.lat[cg.edges.graph_i], cg.edges.to_jimage                            <span style=\"color: #800000; text-decoration-color: #800000\">│</span>\n",
       "<span style=\"color: #800000; text-decoration-color: #800000\">│</span>   <span style=\"color: #7f7f7f; text-decoration-color: #7f7f7f\"> 41 </span><span style=\"color: #7f7f7f; text-decoration-color: #7f7f7f\">│   </span>)                                                                                      <span style=\"color: #800000; text-decoration-color: #800000\">│</span>\n",
       "<span style=\"color: #800000; text-decoration-color: #800000\">│</span>                                                                                                  <span style=\"color: #800000; text-decoration-color: #800000\">│</span>\n",
       "<span style=\"color: #800000; text-decoration-color: #800000\">│</span> <span style=\"color: #bfbf7f; text-decoration-color: #bfbf7f\">/home/nmiklaucic/miniconda3/envs/avid/lib/python3.12/site-packages/jax/_src/</span><span style=\"color: #808000; text-decoration-color: #808000; font-weight: bold\">array.py</span>:<span style=\"color: #0000ff; text-decoration-color: #0000ff\">346</span> in      <span style=\"color: #800000; text-decoration-color: #800000\">│</span>\n",
       "<span style=\"color: #800000; text-decoration-color: #800000\">│</span> <span style=\"color: #00ff00; text-decoration-color: #00ff00\">__getitem__</span>                                                                                      <span style=\"color: #800000; text-decoration-color: #800000\">│</span>\n",
       "<span style=\"color: #800000; text-decoration-color: #800000\">│</span>                                                                                                  <span style=\"color: #800000; text-decoration-color: #800000\">│</span>\n",
       "<span style=\"color: #800000; text-decoration-color: #800000\">│</span>   <span style=\"color: #7f7f7f; text-decoration-color: #7f7f7f\">343 </span><span style=\"color: #7f7f7f; text-decoration-color: #7f7f7f\">│   │   </span><span style=\"color: #0000ff; text-decoration-color: #0000ff\">else</span>:                                                                              <span style=\"color: #800000; text-decoration-color: #800000\">│</span>\n",
       "<span style=\"color: #800000; text-decoration-color: #800000\">│</span>   <span style=\"color: #7f7f7f; text-decoration-color: #7f7f7f\">344 </span><span style=\"color: #7f7f7f; text-decoration-color: #7f7f7f\">│   │     </span><span style=\"color: #0000ff; text-decoration-color: #0000ff\">return</span> out                                                                       <span style=\"color: #800000; text-decoration-color: #800000\">│</span>\n",
       "<span style=\"color: #800000; text-decoration-color: #800000\">│</span>   <span style=\"color: #7f7f7f; text-decoration-color: #7f7f7f\">345 </span><span style=\"color: #7f7f7f; text-decoration-color: #7f7f7f\">│   </span>                                                                                       <span style=\"color: #800000; text-decoration-color: #800000\">│</span>\n",
       "<span style=\"color: #800000; text-decoration-color: #800000\">│</span> <span style=\"color: #800000; text-decoration-color: #800000\">❱ </span>346 <span style=\"color: #7f7f7f; text-decoration-color: #7f7f7f\">│   </span><span style=\"color: #0000ff; text-decoration-color: #0000ff\">return</span> lax_numpy._rewriting_take(<span style=\"color: #00ffff; text-decoration-color: #00ffff\">self</span>, idx)                                            <span style=\"color: #800000; text-decoration-color: #800000\">│</span>\n",
       "<span style=\"color: #800000; text-decoration-color: #800000\">│</span>   <span style=\"color: #7f7f7f; text-decoration-color: #7f7f7f\">347 </span><span style=\"color: #7f7f7f; text-decoration-color: #7f7f7f\">  </span>                                                                                         <span style=\"color: #800000; text-decoration-color: #800000\">│</span>\n",
       "<span style=\"color: #800000; text-decoration-color: #800000\">│</span>   <span style=\"color: #7f7f7f; text-decoration-color: #7f7f7f\">348 </span><span style=\"color: #7f7f7f; text-decoration-color: #7f7f7f\">  </span><span style=\"color: #0000ff; text-decoration-color: #0000ff\">def</span> <span style=\"color: #00ff00; text-decoration-color: #00ff00\">__iter__</span>(<span style=\"color: #00ffff; text-decoration-color: #00ffff\">self</span>):                                                                      <span style=\"color: #800000; text-decoration-color: #800000\">│</span>\n",
       "<span style=\"color: #800000; text-decoration-color: #800000\">│</span>   <span style=\"color: #7f7f7f; text-decoration-color: #7f7f7f\">349 </span><span style=\"color: #7f7f7f; text-decoration-color: #7f7f7f\">│   </span><span style=\"color: #0000ff; text-decoration-color: #0000ff\">if</span> <span style=\"color: #00ffff; text-decoration-color: #00ffff\">self</span>.ndim == <span style=\"color: #0000ff; text-decoration-color: #0000ff\">0</span>:                                                                     <span style=\"color: #800000; text-decoration-color: #800000\">│</span>\n",
       "<span style=\"color: #800000; text-decoration-color: #800000\">│</span>                                                                                                  <span style=\"color: #800000; text-decoration-color: #800000\">│</span>\n",
       "<span style=\"color: #800000; text-decoration-color: #800000\">│</span> <span style=\"color: #bfbf7f; text-decoration-color: #bfbf7f\">/home/nmiklaucic/miniconda3/envs/avid/lib/python3.12/site-packages/jax/_src/numpy/</span><span style=\"color: #808000; text-decoration-color: #808000; font-weight: bold\">lax_numpy.py</span>:<span style=\"color: #0000ff; text-decoration-color: #0000ff\">4</span> <span style=\"color: #800000; text-decoration-color: #800000\">│</span>\n",
       "<span style=\"color: #800000; text-decoration-color: #800000\">│</span> <span style=\"color: #0000ff; text-decoration-color: #0000ff\">590</span> in <span style=\"color: #00ff00; text-decoration-color: #00ff00\">_rewriting_take</span>                                                                           <span style=\"color: #800000; text-decoration-color: #800000\">│</span>\n",
       "<span style=\"color: #800000; text-decoration-color: #800000\">│</span>                                                                                                  <span style=\"color: #800000; text-decoration-color: #800000\">│</span>\n",
       "<span style=\"color: #800000; text-decoration-color: #800000\">│</span>   <span style=\"color: #7f7f7f; text-decoration-color: #7f7f7f\">4587 </span><span style=\"color: #7f7f7f; text-decoration-color: #7f7f7f\">│   │   </span><span style=\"color: #0000ff; text-decoration-color: #0000ff\">return</span> lax.dynamic_index_in_dim(arr, idx, keepdims=<span style=\"color: #0000ff; text-decoration-color: #0000ff\">False</span>)                         <span style=\"color: #800000; text-decoration-color: #800000\">│</span>\n",
       "<span style=\"color: #800000; text-decoration-color: #800000\">│</span>   <span style=\"color: #7f7f7f; text-decoration-color: #7f7f7f\">4588 </span><span style=\"color: #7f7f7f; text-decoration-color: #7f7f7f\">  </span>                                                                                        <span style=\"color: #800000; text-decoration-color: #800000\">│</span>\n",
       "<span style=\"color: #800000; text-decoration-color: #800000\">│</span>   <span style=\"color: #7f7f7f; text-decoration-color: #7f7f7f\">4589 </span><span style=\"color: #7f7f7f; text-decoration-color: #7f7f7f\">  </span>treedef, static_idx, dynamic_idx = _split_index_for_jit(idx, arr.shape)                 <span style=\"color: #800000; text-decoration-color: #800000\">│</span>\n",
       "<span style=\"color: #800000; text-decoration-color: #800000\">│</span> <span style=\"color: #800000; text-decoration-color: #800000\">❱ </span>4590 <span style=\"color: #7f7f7f; text-decoration-color: #7f7f7f\">  </span><span style=\"color: #0000ff; text-decoration-color: #0000ff\">return</span> _gather(arr, treedef, static_idx, dynamic_idx, indices_are_sorted,               <span style=\"color: #800000; text-decoration-color: #800000\">│</span>\n",
       "<span style=\"color: #800000; text-decoration-color: #800000\">│</span>   <span style=\"color: #7f7f7f; text-decoration-color: #7f7f7f\">4591 </span><span style=\"color: #7f7f7f; text-decoration-color: #7f7f7f\">│   │   │   │    </span>unique_indices, mode, fill_value)                                        <span style=\"color: #800000; text-decoration-color: #800000\">│</span>\n",
       "<span style=\"color: #800000; text-decoration-color: #800000\">│</span>   <span style=\"color: #7f7f7f; text-decoration-color: #7f7f7f\">4592 </span>                                                                                          <span style=\"color: #800000; text-decoration-color: #800000\">│</span>\n",
       "<span style=\"color: #800000; text-decoration-color: #800000\">│</span>   <span style=\"color: #7f7f7f; text-decoration-color: #7f7f7f\">4593 # TODO(phawkins): re-enable jit after fixing excessive recompilation for</span>                  <span style=\"color: #800000; text-decoration-color: #800000\">│</span>\n",
       "<span style=\"color: #800000; text-decoration-color: #800000\">│</span>                                                                                                  <span style=\"color: #800000; text-decoration-color: #800000\">│</span>\n",
       "<span style=\"color: #800000; text-decoration-color: #800000\">│</span> <span style=\"color: #bfbf7f; text-decoration-color: #bfbf7f\">/home/nmiklaucic/miniconda3/envs/avid/lib/python3.12/site-packages/jax/_src/numpy/</span><span style=\"color: #808000; text-decoration-color: #808000; font-weight: bold\">lax_numpy.py</span>:<span style=\"color: #0000ff; text-decoration-color: #0000ff\">4</span> <span style=\"color: #800000; text-decoration-color: #800000\">│</span>\n",
       "<span style=\"color: #800000; text-decoration-color: #800000\">│</span> <span style=\"color: #0000ff; text-decoration-color: #0000ff\">620</span> in <span style=\"color: #00ff00; text-decoration-color: #00ff00\">_gather</span>                                                                                   <span style=\"color: #800000; text-decoration-color: #800000\">│</span>\n",
       "<span style=\"color: #800000; text-decoration-color: #800000\">│</span>                                                                                                  <span style=\"color: #800000; text-decoration-color: #800000\">│</span>\n",
       "<span style=\"color: #800000; text-decoration-color: #800000\">│</span>   <span style=\"color: #7f7f7f; text-decoration-color: #7f7f7f\">4617 </span><span style=\"color: #7f7f7f; text-decoration-color: #7f7f7f\">  </span>                                                                                        <span style=\"color: #800000; text-decoration-color: #800000\">│</span>\n",
       "<span style=\"color: #800000; text-decoration-color: #800000\">│</span>   <span style=\"color: #7f7f7f; text-decoration-color: #7f7f7f\">4618 </span><span style=\"color: #7f7f7f; text-decoration-color: #7f7f7f\">  </span><span style=\"color: #7f7f7f; text-decoration-color: #7f7f7f\"># We avoid generating a gather when indexer.gather_indices.size is empty.</span>               <span style=\"color: #800000; text-decoration-color: #800000\">│</span>\n",
       "<span style=\"color: #800000; text-decoration-color: #800000\">│</span>   <span style=\"color: #7f7f7f; text-decoration-color: #7f7f7f\">4619 </span><span style=\"color: #7f7f7f; text-decoration-color: #7f7f7f\">  </span><span style=\"color: #0000ff; text-decoration-color: #0000ff\">if</span> <span style=\"color: #ff00ff; text-decoration-color: #ff00ff\">not</span> core.is_empty_shape(indexer.gather_indices.shape):                               <span style=\"color: #800000; text-decoration-color: #800000\">│</span>\n",
       "<span style=\"color: #800000; text-decoration-color: #800000\">│</span> <span style=\"color: #800000; text-decoration-color: #800000\">❱ </span>4620 <span style=\"color: #7f7f7f; text-decoration-color: #7f7f7f\">│   </span>y = lax.gather(                                                                       <span style=\"color: #800000; text-decoration-color: #800000\">│</span>\n",
       "<span style=\"color: #800000; text-decoration-color: #800000\">│</span>   <span style=\"color: #7f7f7f; text-decoration-color: #7f7f7f\">4621 </span><span style=\"color: #7f7f7f; text-decoration-color: #7f7f7f\">│     </span>y, indexer.gather_indices, indexer.dnums, indexer.gather_slice_shape,               <span style=\"color: #800000; text-decoration-color: #800000\">│</span>\n",
       "<span style=\"color: #800000; text-decoration-color: #800000\">│</span>   <span style=\"color: #7f7f7f; text-decoration-color: #7f7f7f\">4622 </span><span style=\"color: #7f7f7f; text-decoration-color: #7f7f7f\">│     </span>unique_indices=unique_indices <span style=\"color: #ff00ff; text-decoration-color: #ff00ff\">or</span> indexer.unique_indices,                            <span style=\"color: #800000; text-decoration-color: #800000\">│</span>\n",
       "<span style=\"color: #800000; text-decoration-color: #800000\">│</span>   <span style=\"color: #7f7f7f; text-decoration-color: #7f7f7f\">4623 </span><span style=\"color: #7f7f7f; text-decoration-color: #7f7f7f\">│     </span>indices_are_sorted=indices_are_sorted <span style=\"color: #ff00ff; text-decoration-color: #ff00ff\">or</span> indexer.indices_are_sorted,                <span style=\"color: #800000; text-decoration-color: #800000\">│</span>\n",
       "<span style=\"color: #800000; text-decoration-color: #800000\">│</span>                                                                                                  <span style=\"color: #800000; text-decoration-color: #800000\">│</span>\n",
       "<span style=\"color: #800000; text-decoration-color: #800000\">│</span> <span style=\"color: #bfbf7f; text-decoration-color: #bfbf7f\">/home/nmiklaucic/miniconda3/envs/avid/lib/python3.12/site-packages/jax/_src/lax/</span><span style=\"color: #808000; text-decoration-color: #808000; font-weight: bold\">slicing.py</span>:<span style=\"color: #0000ff; text-decoration-color: #0000ff\">348</span>   <span style=\"color: #800000; text-decoration-color: #800000\">│</span>\n",
       "<span style=\"color: #800000; text-decoration-color: #800000\">│</span> in <span style=\"color: #00ff00; text-decoration-color: #00ff00\">gather</span>                                                                                        <span style=\"color: #800000; text-decoration-color: #800000\">│</span>\n",
       "<span style=\"color: #800000; text-decoration-color: #800000\">│</span>                                                                                                  <span style=\"color: #800000; text-decoration-color: #800000\">│</span>\n",
       "<span style=\"color: #800000; text-decoration-color: #800000\">│</span>   <span style=\"color: #7f7f7f; text-decoration-color: #7f7f7f\"> 345 </span><span style=\"color: #7f7f7f; text-decoration-color: #7f7f7f\">│   │   </span><span style=\"color: #0000ff; text-decoration-color: #0000ff\">raise</span> <span style=\"color: #00ffff; text-decoration-color: #00ffff\">ValueError</span>(<span style=\"color: #808000; text-decoration-color: #808000\">f\"Unsupported dtype for gather fill_value {</span>dtype<span style=\"color: #808000; text-decoration-color: #808000\">}\"</span>)              <span style=\"color: #800000; text-decoration-color: #800000\">│</span>\n",
       "<span style=\"color: #800000; text-decoration-color: #800000\">│</span>   <span style=\"color: #7f7f7f; text-decoration-color: #7f7f7f\"> 346 </span><span style=\"color: #7f7f7f; text-decoration-color: #7f7f7f\">  </span><span style=\"color: #0000ff; text-decoration-color: #0000ff\">else</span>:                                                                                   <span style=\"color: #800000; text-decoration-color: #800000\">│</span>\n",
       "<span style=\"color: #800000; text-decoration-color: #800000\">│</span>   <span style=\"color: #7f7f7f; text-decoration-color: #7f7f7f\"> 347 </span><span style=\"color: #7f7f7f; text-decoration-color: #7f7f7f\">│   </span>fill_value = <span style=\"color: #0000ff; text-decoration-color: #0000ff\">None</span>                                                                     <span style=\"color: #800000; text-decoration-color: #800000\">│</span>\n",
       "<span style=\"color: #800000; text-decoration-color: #800000\">│</span> <span style=\"color: #800000; text-decoration-color: #800000\">❱ </span> 348 <span style=\"color: #7f7f7f; text-decoration-color: #7f7f7f\">  </span><span style=\"color: #0000ff; text-decoration-color: #0000ff\">return</span> gather_p.bind(                                                                   <span style=\"color: #800000; text-decoration-color: #800000\">│</span>\n",
       "<span style=\"color: #800000; text-decoration-color: #800000\">│</span>   <span style=\"color: #7f7f7f; text-decoration-color: #7f7f7f\"> 349 </span><span style=\"color: #7f7f7f; text-decoration-color: #7f7f7f\">│     </span>operand, start_indices, dimension_numbers=dimension_numbers,                        <span style=\"color: #800000; text-decoration-color: #800000\">│</span>\n",
       "<span style=\"color: #800000; text-decoration-color: #800000\">│</span>   <span style=\"color: #7f7f7f; text-decoration-color: #7f7f7f\"> 350 </span><span style=\"color: #7f7f7f; text-decoration-color: #7f7f7f\">│     </span>slice_sizes=core.canonicalize_shape(slice_sizes),                                   <span style=\"color: #800000; text-decoration-color: #800000\">│</span>\n",
       "<span style=\"color: #800000; text-decoration-color: #800000\">│</span>   <span style=\"color: #7f7f7f; text-decoration-color: #7f7f7f\"> 351 </span><span style=\"color: #7f7f7f; text-decoration-color: #7f7f7f\">│     </span>unique_indices=<span style=\"color: #00ffff; text-decoration-color: #00ffff\">bool</span>(unique_indices),                                                <span style=\"color: #800000; text-decoration-color: #800000\">│</span>\n",
       "<span style=\"color: #800000; text-decoration-color: #800000\">│</span>                                                                                                  <span style=\"color: #800000; text-decoration-color: #800000\">│</span>\n",
       "<span style=\"color: #800000; text-decoration-color: #800000\">│</span> <span style=\"color: #bfbf7f; text-decoration-color: #bfbf7f\">/home/nmiklaucic/miniconda3/envs/avid/lib/python3.12/site-packages/jax/_src/</span><span style=\"color: #808000; text-decoration-color: #808000; font-weight: bold\">core.py</span>:<span style=\"color: #0000ff; text-decoration-color: #0000ff\">420</span> in <span style=\"color: #00ff00; text-decoration-color: #00ff00\">bind</span>  <span style=\"color: #800000; text-decoration-color: #800000\">│</span>\n",
       "<span style=\"color: #800000; text-decoration-color: #800000\">│</span>                                                                                                  <span style=\"color: #800000; text-decoration-color: #800000\">│</span>\n",
       "<span style=\"color: #800000; text-decoration-color: #800000\">│</span>   <span style=\"color: #7f7f7f; text-decoration-color: #7f7f7f\"> 417 </span><span style=\"color: #7f7f7f; text-decoration-color: #7f7f7f\">  </span><span style=\"color: #0000ff; text-decoration-color: #0000ff\">def</span> <span style=\"color: #00ff00; text-decoration-color: #00ff00\">bind</span>(<span style=\"color: #00ffff; text-decoration-color: #00ffff\">self</span>, *args, **params):                                                        <span style=\"color: #800000; text-decoration-color: #800000\">│</span>\n",
       "<span style=\"color: #800000; text-decoration-color: #800000\">│</span>   <span style=\"color: #7f7f7f; text-decoration-color: #7f7f7f\"> 418 </span><span style=\"color: #7f7f7f; text-decoration-color: #7f7f7f\">│   </span><span style=\"color: #0000ff; text-decoration-color: #0000ff\">assert</span> (<span style=\"color: #ff00ff; text-decoration-color: #ff00ff\">not</span> config.enable_checks.value <span style=\"color: #ff00ff; text-decoration-color: #ff00ff\">or</span>                                             <span style=\"color: #800000; text-decoration-color: #800000\">│</span>\n",
       "<span style=\"color: #800000; text-decoration-color: #800000\">│</span>   <span style=\"color: #7f7f7f; text-decoration-color: #7f7f7f\"> 419 </span><span style=\"color: #7f7f7f; text-decoration-color: #7f7f7f\">│   │   │   </span><span style=\"color: #00ffff; text-decoration-color: #00ffff\">all</span>(<span style=\"color: #00ffff; text-decoration-color: #00ffff\">isinstance</span>(arg, Tracer) <span style=\"color: #ff00ff; text-decoration-color: #ff00ff\">or</span> valid_jaxtype(arg) <span style=\"color: #0000ff; text-decoration-color: #0000ff\">for</span> arg <span style=\"color: #ff00ff; text-decoration-color: #ff00ff\">in</span> args)), args     <span style=\"color: #800000; text-decoration-color: #800000\">│</span>\n",
       "<span style=\"color: #800000; text-decoration-color: #800000\">│</span> <span style=\"color: #800000; text-decoration-color: #800000\">❱ </span> 420 <span style=\"color: #7f7f7f; text-decoration-color: #7f7f7f\">│   </span><span style=\"color: #0000ff; text-decoration-color: #0000ff\">return</span> <span style=\"color: #00ffff; text-decoration-color: #00ffff\">self</span>.bind_with_trace(find_top_trace(args), args, params)                       <span style=\"color: #800000; text-decoration-color: #800000\">│</span>\n",
       "<span style=\"color: #800000; text-decoration-color: #800000\">│</span>   <span style=\"color: #7f7f7f; text-decoration-color: #7f7f7f\"> 421 </span><span style=\"color: #7f7f7f; text-decoration-color: #7f7f7f\">  </span>                                                                                        <span style=\"color: #800000; text-decoration-color: #800000\">│</span>\n",
       "<span style=\"color: #800000; text-decoration-color: #800000\">│</span>   <span style=\"color: #7f7f7f; text-decoration-color: #7f7f7f\"> 422 </span><span style=\"color: #7f7f7f; text-decoration-color: #7f7f7f\">  </span><span style=\"color: #0000ff; text-decoration-color: #0000ff\">def</span> <span style=\"color: #00ff00; text-decoration-color: #00ff00\">bind_with_trace</span>(<span style=\"color: #00ffff; text-decoration-color: #00ffff\">self</span>, trace, args, params):                                         <span style=\"color: #800000; text-decoration-color: #800000\">│</span>\n",
       "<span style=\"color: #800000; text-decoration-color: #800000\">│</span>   <span style=\"color: #7f7f7f; text-decoration-color: #7f7f7f\"> 423 </span><span style=\"color: #7f7f7f; text-decoration-color: #7f7f7f\">│   </span>out = trace.process_primitive(<span style=\"color: #00ffff; text-decoration-color: #00ffff\">self</span>, <span style=\"color: #00ffff; text-decoration-color: #00ffff\">map</span>(trace.full_raise, args), params)              <span style=\"color: #800000; text-decoration-color: #800000\">│</span>\n",
       "<span style=\"color: #800000; text-decoration-color: #800000\">│</span>                                                                                                  <span style=\"color: #800000; text-decoration-color: #800000\">│</span>\n",
       "<span style=\"color: #800000; text-decoration-color: #800000\">│</span> <span style=\"color: #bfbf7f; text-decoration-color: #bfbf7f\">/home/nmiklaucic/miniconda3/envs/avid/lib/python3.12/site-packages/jax/_src/</span><span style=\"color: #808000; text-decoration-color: #808000; font-weight: bold\">core.py</span>:<span style=\"color: #0000ff; text-decoration-color: #0000ff\">423</span> in       <span style=\"color: #800000; text-decoration-color: #800000\">│</span>\n",
       "<span style=\"color: #800000; text-decoration-color: #800000\">│</span> <span style=\"color: #00ff00; text-decoration-color: #00ff00\">bind_with_trace</span>                                                                                  <span style=\"color: #800000; text-decoration-color: #800000\">│</span>\n",
       "<span style=\"color: #800000; text-decoration-color: #800000\">│</span>                                                                                                  <span style=\"color: #800000; text-decoration-color: #800000\">│</span>\n",
       "<span style=\"color: #800000; text-decoration-color: #800000\">│</span>   <span style=\"color: #7f7f7f; text-decoration-color: #7f7f7f\"> 420 </span><span style=\"color: #7f7f7f; text-decoration-color: #7f7f7f\">│   </span><span style=\"color: #0000ff; text-decoration-color: #0000ff\">return</span> <span style=\"color: #00ffff; text-decoration-color: #00ffff\">self</span>.bind_with_trace(find_top_trace(args), args, params)                       <span style=\"color: #800000; text-decoration-color: #800000\">│</span>\n",
       "<span style=\"color: #800000; text-decoration-color: #800000\">│</span>   <span style=\"color: #7f7f7f; text-decoration-color: #7f7f7f\"> 421 </span><span style=\"color: #7f7f7f; text-decoration-color: #7f7f7f\">  </span>                                                                                        <span style=\"color: #800000; text-decoration-color: #800000\">│</span>\n",
       "<span style=\"color: #800000; text-decoration-color: #800000\">│</span>   <span style=\"color: #7f7f7f; text-decoration-color: #7f7f7f\"> 422 </span><span style=\"color: #7f7f7f; text-decoration-color: #7f7f7f\">  </span><span style=\"color: #0000ff; text-decoration-color: #0000ff\">def</span> <span style=\"color: #00ff00; text-decoration-color: #00ff00\">bind_with_trace</span>(<span style=\"color: #00ffff; text-decoration-color: #00ffff\">self</span>, trace, args, params):                                         <span style=\"color: #800000; text-decoration-color: #800000\">│</span>\n",
       "<span style=\"color: #800000; text-decoration-color: #800000\">│</span> <span style=\"color: #800000; text-decoration-color: #800000\">❱ </span> 423 <span style=\"color: #7f7f7f; text-decoration-color: #7f7f7f\">│   </span>out = trace.process_primitive(<span style=\"color: #00ffff; text-decoration-color: #00ffff\">self</span>, <span style=\"color: #00ffff; text-decoration-color: #00ffff\">map</span>(trace.full_raise, args), params)              <span style=\"color: #800000; text-decoration-color: #800000\">│</span>\n",
       "<span style=\"color: #800000; text-decoration-color: #800000\">│</span>   <span style=\"color: #7f7f7f; text-decoration-color: #7f7f7f\"> 424 </span><span style=\"color: #7f7f7f; text-decoration-color: #7f7f7f\">│   </span><span style=\"color: #0000ff; text-decoration-color: #0000ff\">return</span> <span style=\"color: #00ffff; text-decoration-color: #00ffff\">map</span>(full_lower, out) <span style=\"color: #0000ff; text-decoration-color: #0000ff\">if</span> <span style=\"color: #00ffff; text-decoration-color: #00ffff\">self</span>.multiple_results <span style=\"color: #0000ff; text-decoration-color: #0000ff\">else</span> full_lower(out)             <span style=\"color: #800000; text-decoration-color: #800000\">│</span>\n",
       "<span style=\"color: #800000; text-decoration-color: #800000\">│</span>   <span style=\"color: #7f7f7f; text-decoration-color: #7f7f7f\"> 425 </span><span style=\"color: #7f7f7f; text-decoration-color: #7f7f7f\">  </span>                                                                                        <span style=\"color: #800000; text-decoration-color: #800000\">│</span>\n",
       "<span style=\"color: #800000; text-decoration-color: #800000\">│</span>   <span style=\"color: #7f7f7f; text-decoration-color: #7f7f7f\"> 426 </span><span style=\"color: #7f7f7f; text-decoration-color: #7f7f7f\">  </span><span style=\"color: #0000ff; text-decoration-color: #0000ff\">def</span> <span style=\"color: #00ff00; text-decoration-color: #00ff00\">def_impl</span>(<span style=\"color: #00ffff; text-decoration-color: #00ffff\">self</span>, impl):                                                               <span style=\"color: #800000; text-decoration-color: #800000\">│</span>\n",
       "<span style=\"color: #800000; text-decoration-color: #800000\">│</span>                                                                                                  <span style=\"color: #800000; text-decoration-color: #800000\">│</span>\n",
       "<span style=\"color: #800000; text-decoration-color: #800000\">│</span> <span style=\"color: #bfbf7f; text-decoration-color: #bfbf7f\">/home/nmiklaucic/miniconda3/envs/avid/lib/python3.12/site-packages/jax/_src/</span><span style=\"color: #808000; text-decoration-color: #808000; font-weight: bold\">core.py</span>:<span style=\"color: #0000ff; text-decoration-color: #0000ff\">913</span> in       <span style=\"color: #800000; text-decoration-color: #800000\">│</span>\n",
       "<span style=\"color: #800000; text-decoration-color: #800000\">│</span> <span style=\"color: #00ff00; text-decoration-color: #00ff00\">process_primitive</span>                                                                                <span style=\"color: #800000; text-decoration-color: #800000\">│</span>\n",
       "<span style=\"color: #800000; text-decoration-color: #800000\">│</span>                                                                                                  <span style=\"color: #800000; text-decoration-color: #800000\">│</span>\n",
       "<span style=\"color: #800000; text-decoration-color: #800000\">│</span>   <span style=\"color: #7f7f7f; text-decoration-color: #7f7f7f\"> 910 </span><span style=\"color: #7f7f7f; text-decoration-color: #7f7f7f\">  </span>lift = sublift = pure                                                                   <span style=\"color: #800000; text-decoration-color: #800000\">│</span>\n",
       "<span style=\"color: #800000; text-decoration-color: #800000\">│</span>   <span style=\"color: #7f7f7f; text-decoration-color: #7f7f7f\"> 911 </span><span style=\"color: #7f7f7f; text-decoration-color: #7f7f7f\">  </span>                                                                                        <span style=\"color: #800000; text-decoration-color: #800000\">│</span>\n",
       "<span style=\"color: #800000; text-decoration-color: #800000\">│</span>   <span style=\"color: #7f7f7f; text-decoration-color: #7f7f7f\"> 912 </span><span style=\"color: #7f7f7f; text-decoration-color: #7f7f7f\">  </span><span style=\"color: #0000ff; text-decoration-color: #0000ff\">def</span> <span style=\"color: #00ff00; text-decoration-color: #00ff00\">process_primitive</span>(<span style=\"color: #00ffff; text-decoration-color: #00ffff\">self</span>, primitive, tracers, params):                                <span style=\"color: #800000; text-decoration-color: #800000\">│</span>\n",
       "<span style=\"color: #800000; text-decoration-color: #800000\">│</span> <span style=\"color: #800000; text-decoration-color: #800000\">❱ </span> 913 <span style=\"color: #7f7f7f; text-decoration-color: #7f7f7f\">│   </span><span style=\"color: #0000ff; text-decoration-color: #0000ff\">return</span> primitive.impl(*tracers, **params)                                             <span style=\"color: #800000; text-decoration-color: #800000\">│</span>\n",
       "<span style=\"color: #800000; text-decoration-color: #800000\">│</span>   <span style=\"color: #7f7f7f; text-decoration-color: #7f7f7f\"> 914 </span><span style=\"color: #7f7f7f; text-decoration-color: #7f7f7f\">  </span>                                                                                        <span style=\"color: #800000; text-decoration-color: #800000\">│</span>\n",
       "<span style=\"color: #800000; text-decoration-color: #800000\">│</span>   <span style=\"color: #7f7f7f; text-decoration-color: #7f7f7f\"> 915 </span><span style=\"color: #7f7f7f; text-decoration-color: #7f7f7f\">  </span><span style=\"color: #0000ff; text-decoration-color: #0000ff\">def</span> <span style=\"color: #00ff00; text-decoration-color: #00ff00\">process_call</span>(<span style=\"color: #00ffff; text-decoration-color: #00ffff\">self</span>, primitive, f, tracers, params):                                  <span style=\"color: #800000; text-decoration-color: #800000\">│</span>\n",
       "<span style=\"color: #800000; text-decoration-color: #800000\">│</span>   <span style=\"color: #7f7f7f; text-decoration-color: #7f7f7f\"> 916 </span><span style=\"color: #7f7f7f; text-decoration-color: #7f7f7f\">│   </span><span style=\"color: #0000ff; text-decoration-color: #0000ff\">return</span> primitive.impl(f, *tracers, **params)                                          <span style=\"color: #800000; text-decoration-color: #800000\">│</span>\n",
       "<span style=\"color: #800000; text-decoration-color: #800000\">│</span>                                                                                                  <span style=\"color: #800000; text-decoration-color: #800000\">│</span>\n",
       "<span style=\"color: #800000; text-decoration-color: #800000\">│</span> <span style=\"color: #bfbf7f; text-decoration-color: #bfbf7f\">/home/nmiklaucic/miniconda3/envs/avid/lib/python3.12/site-packages/jax/_src/</span><span style=\"color: #808000; text-decoration-color: #808000; font-weight: bold\">dispatch.py</span>:<span style=\"color: #0000ff; text-decoration-color: #0000ff\">87</span> in    <span style=\"color: #800000; text-decoration-color: #800000\">│</span>\n",
       "<span style=\"color: #800000; text-decoration-color: #800000\">│</span> <span style=\"color: #00ff00; text-decoration-color: #00ff00\">apply_primitive</span>                                                                                  <span style=\"color: #800000; text-decoration-color: #800000\">│</span>\n",
       "<span style=\"color: #800000; text-decoration-color: #800000\">│</span>                                                                                                  <span style=\"color: #800000; text-decoration-color: #800000\">│</span>\n",
       "<span style=\"color: #800000; text-decoration-color: #800000\">│</span>   <span style=\"color: #7f7f7f; text-decoration-color: #7f7f7f\"> 84 </span><span style=\"color: #7f7f7f; text-decoration-color: #7f7f7f\">  </span><span style=\"color: #0000ff; text-decoration-color: #0000ff\">if</span> xla_extension_version &gt;= <span style=\"color: #0000ff; text-decoration-color: #0000ff\">218</span>:                                                         <span style=\"color: #800000; text-decoration-color: #800000\">│</span>\n",
       "<span style=\"color: #800000; text-decoration-color: #800000\">│</span>   <span style=\"color: #7f7f7f; text-decoration-color: #7f7f7f\"> 85 </span><span style=\"color: #7f7f7f; text-decoration-color: #7f7f7f\">│   </span>prev = lib.jax_jit.swap_thread_local_state_disable_jit(<span style=\"color: #0000ff; text-decoration-color: #0000ff\">False</span>)                          <span style=\"color: #800000; text-decoration-color: #800000\">│</span>\n",
       "<span style=\"color: #800000; text-decoration-color: #800000\">│</span>   <span style=\"color: #7f7f7f; text-decoration-color: #7f7f7f\"> 86 </span><span style=\"color: #7f7f7f; text-decoration-color: #7f7f7f\">│   </span><span style=\"color: #0000ff; text-decoration-color: #0000ff\">try</span>:                                                                                   <span style=\"color: #800000; text-decoration-color: #800000\">│</span>\n",
       "<span style=\"color: #800000; text-decoration-color: #800000\">│</span> <span style=\"color: #800000; text-decoration-color: #800000\">❱ </span> 87 <span style=\"color: #7f7f7f; text-decoration-color: #7f7f7f\">│     </span>outs = fun(*args)                                                                    <span style=\"color: #800000; text-decoration-color: #800000\">│</span>\n",
       "<span style=\"color: #800000; text-decoration-color: #800000\">│</span>   <span style=\"color: #7f7f7f; text-decoration-color: #7f7f7f\"> 88 </span><span style=\"color: #7f7f7f; text-decoration-color: #7f7f7f\">│   </span><span style=\"color: #0000ff; text-decoration-color: #0000ff\">finally</span>:                                                                               <span style=\"color: #800000; text-decoration-color: #800000\">│</span>\n",
       "<span style=\"color: #800000; text-decoration-color: #800000\">│</span>   <span style=\"color: #7f7f7f; text-decoration-color: #7f7f7f\"> 89 </span><span style=\"color: #7f7f7f; text-decoration-color: #7f7f7f\">│     </span>lib.jax_jit.swap_thread_local_state_disable_jit(prev)                                <span style=\"color: #800000; text-decoration-color: #800000\">│</span>\n",
       "<span style=\"color: #800000; text-decoration-color: #800000\">│</span>   <span style=\"color: #7f7f7f; text-decoration-color: #7f7f7f\"> 90 </span><span style=\"color: #7f7f7f; text-decoration-color: #7f7f7f\">  </span><span style=\"color: #0000ff; text-decoration-color: #0000ff\">else</span>:                                                                                    <span style=\"color: #800000; text-decoration-color: #800000\">│</span>\n",
       "<span style=\"color: #800000; text-decoration-color: #800000\">│</span>                                                                                                  <span style=\"color: #800000; text-decoration-color: #800000\">│</span>\n",
       "<span style=\"color: #800000; text-decoration-color: #800000\">│</span> <span style=\"color: #bfbf7f; text-decoration-color: #bfbf7f\">/home/nmiklaucic/miniconda3/envs/avid/lib/python3.12/site-packages/jax/_src/</span><span style=\"color: #808000; text-decoration-color: #808000; font-weight: bold\">traceback_util.py</span>:<span style=\"color: #0000ff; text-decoration-color: #0000ff\">17</span> <span style=\"color: #800000; text-decoration-color: #800000\">│</span>\n",
       "<span style=\"color: #800000; text-decoration-color: #800000\">│</span> <span style=\"color: #0000ff; text-decoration-color: #0000ff\">9</span> in <span style=\"color: #00ff00; text-decoration-color: #00ff00\">reraise_with_filtered_traceback</span>                                                             <span style=\"color: #800000; text-decoration-color: #800000\">│</span>\n",
       "<span style=\"color: #800000; text-decoration-color: #800000\">│</span>                                                                                                  <span style=\"color: #800000; text-decoration-color: #800000\">│</span>\n",
       "<span style=\"color: #800000; text-decoration-color: #800000\">│</span>   <span style=\"color: #7f7f7f; text-decoration-color: #7f7f7f\">176 </span><span style=\"color: #7f7f7f; text-decoration-color: #7f7f7f\">  </span><span style=\"color: #0000ff; text-decoration-color: #0000ff\">def</span> <span style=\"color: #00ff00; text-decoration-color: #00ff00\">reraise_with_filtered_traceback</span>(*args, **kwargs):                                    <span style=\"color: #800000; text-decoration-color: #800000\">│</span>\n",
       "<span style=\"color: #800000; text-decoration-color: #800000\">│</span>   <span style=\"color: #7f7f7f; text-decoration-color: #7f7f7f\">177 </span><span style=\"color: #7f7f7f; text-decoration-color: #7f7f7f\">│   </span>__tracebackhide__ = <span style=\"color: #0000ff; text-decoration-color: #0000ff\">True</span>                                                               <span style=\"color: #800000; text-decoration-color: #800000\">│</span>\n",
       "<span style=\"color: #800000; text-decoration-color: #800000\">│</span>   <span style=\"color: #7f7f7f; text-decoration-color: #7f7f7f\">178 </span><span style=\"color: #7f7f7f; text-decoration-color: #7f7f7f\">│   </span><span style=\"color: #0000ff; text-decoration-color: #0000ff\">try</span>:                                                                                   <span style=\"color: #800000; text-decoration-color: #800000\">│</span>\n",
       "<span style=\"color: #800000; text-decoration-color: #800000\">│</span> <span style=\"color: #800000; text-decoration-color: #800000\">❱ </span>179 <span style=\"color: #7f7f7f; text-decoration-color: #7f7f7f\">│     </span><span style=\"color: #0000ff; text-decoration-color: #0000ff\">return</span> fun(*args, **kwargs)                                                          <span style=\"color: #800000; text-decoration-color: #800000\">│</span>\n",
       "<span style=\"color: #800000; text-decoration-color: #800000\">│</span>   <span style=\"color: #7f7f7f; text-decoration-color: #7f7f7f\">180 </span><span style=\"color: #7f7f7f; text-decoration-color: #7f7f7f\">│   </span><span style=\"color: #0000ff; text-decoration-color: #0000ff\">except</span> <span style=\"color: #00ffff; text-decoration-color: #00ffff\">Exception</span> <span style=\"color: #0000ff; text-decoration-color: #0000ff\">as</span> e:                                                                 <span style=\"color: #800000; text-decoration-color: #800000\">│</span>\n",
       "<span style=\"color: #800000; text-decoration-color: #800000\">│</span>   <span style=\"color: #7f7f7f; text-decoration-color: #7f7f7f\">181 </span><span style=\"color: #7f7f7f; text-decoration-color: #7f7f7f\">│     </span>mode = _filtering_mode()                                                             <span style=\"color: #800000; text-decoration-color: #800000\">│</span>\n",
       "<span style=\"color: #800000; text-decoration-color: #800000\">│</span>   <span style=\"color: #7f7f7f; text-decoration-color: #7f7f7f\">182 </span><span style=\"color: #7f7f7f; text-decoration-color: #7f7f7f\">│     </span><span style=\"color: #0000ff; text-decoration-color: #0000ff\">if</span> _is_under_reraiser(e) <span style=\"color: #ff00ff; text-decoration-color: #ff00ff\">or</span> mode == <span style=\"color: #808000; text-decoration-color: #808000\">\"off\"</span>:                                           <span style=\"color: #800000; text-decoration-color: #800000\">│</span>\n",
       "<span style=\"color: #800000; text-decoration-color: #800000\">│</span>                                                                                                  <span style=\"color: #800000; text-decoration-color: #800000\">│</span>\n",
       "<span style=\"color: #800000; text-decoration-color: #800000\">│</span> <span style=\"color: #bfbf7f; text-decoration-color: #bfbf7f\">/home/nmiklaucic/miniconda3/envs/avid/lib/python3.12/site-packages/jax/_src/</span><span style=\"color: #808000; text-decoration-color: #808000; font-weight: bold\">pjit.py</span>:<span style=\"color: #0000ff; text-decoration-color: #0000ff\">248</span> in       <span style=\"color: #800000; text-decoration-color: #800000\">│</span>\n",
       "<span style=\"color: #800000; text-decoration-color: #800000\">│</span> <span style=\"color: #00ff00; text-decoration-color: #00ff00\">cache_miss</span>                                                                                       <span style=\"color: #800000; text-decoration-color: #800000\">│</span>\n",
       "<span style=\"color: #800000; text-decoration-color: #800000\">│</span>                                                                                                  <span style=\"color: #800000; text-decoration-color: #800000\">│</span>\n",
       "<span style=\"color: #800000; text-decoration-color: #800000\">│</span>   <span style=\"color: #7f7f7f; text-decoration-color: #7f7f7f\"> 245 </span><span style=\"color: #7f7f7f; text-decoration-color: #7f7f7f\">  </span>                                                                                        <span style=\"color: #800000; text-decoration-color: #800000\">│</span>\n",
       "<span style=\"color: #800000; text-decoration-color: #800000\">│</span>   <span style=\"color: #7f7f7f; text-decoration-color: #7f7f7f\"> 246 </span><span style=\"color: #7f7f7f; text-decoration-color: #7f7f7f\">  </span><span style=\"color: #ff00ff; text-decoration-color: #ff00ff; font-weight: bold\">@api_boundary</span>                                                                           <span style=\"color: #800000; text-decoration-color: #800000\">│</span>\n",
       "<span style=\"color: #800000; text-decoration-color: #800000\">│</span>   <span style=\"color: #7f7f7f; text-decoration-color: #7f7f7f\"> 247 </span><span style=\"color: #7f7f7f; text-decoration-color: #7f7f7f\">  </span><span style=\"color: #0000ff; text-decoration-color: #0000ff\">def</span> <span style=\"color: #00ff00; text-decoration-color: #00ff00\">cache_miss</span>(*args, **kwargs):                                                        <span style=\"color: #800000; text-decoration-color: #800000\">│</span>\n",
       "<span style=\"color: #800000; text-decoration-color: #800000\">│</span> <span style=\"color: #800000; text-decoration-color: #800000\">❱ </span> 248 <span style=\"color: #7f7f7f; text-decoration-color: #7f7f7f\">│   </span>outs, out_flat, out_tree, args_flat, jaxpr, attrs_tracked = _python_pjit_helper(      <span style=\"color: #800000; text-decoration-color: #800000\">│</span>\n",
       "<span style=\"color: #800000; text-decoration-color: #800000\">│</span>   <span style=\"color: #7f7f7f; text-decoration-color: #7f7f7f\"> 249 </span><span style=\"color: #7f7f7f; text-decoration-color: #7f7f7f\">│   │   </span>fun, infer_params_fn, *args, **kwargs)                                            <span style=\"color: #800000; text-decoration-color: #800000\">│</span>\n",
       "<span style=\"color: #800000; text-decoration-color: #800000\">│</span>   <span style=\"color: #7f7f7f; text-decoration-color: #7f7f7f\"> 250 </span><span style=\"color: #7f7f7f; text-decoration-color: #7f7f7f\">│   </span>executable = _read_most_recent_pjit_call_executable(jaxpr)                            <span style=\"color: #800000; text-decoration-color: #800000\">│</span>\n",
       "<span style=\"color: #800000; text-decoration-color: #800000\">│</span>   <span style=\"color: #7f7f7f; text-decoration-color: #7f7f7f\"> 251 </span><span style=\"color: #7f7f7f; text-decoration-color: #7f7f7f\">│   </span>maybe_fastpath_data = _get_fastpath_data(                                             <span style=\"color: #800000; text-decoration-color: #800000\">│</span>\n",
       "<span style=\"color: #800000; text-decoration-color: #800000\">│</span>                                                                                                  <span style=\"color: #800000; text-decoration-color: #800000\">│</span>\n",
       "<span style=\"color: #800000; text-decoration-color: #800000\">│</span> <span style=\"color: #bfbf7f; text-decoration-color: #bfbf7f\">/home/nmiklaucic/miniconda3/envs/avid/lib/python3.12/site-packages/jax/_src/</span><span style=\"color: #808000; text-decoration-color: #808000; font-weight: bold\">pjit.py</span>:<span style=\"color: #0000ff; text-decoration-color: #0000ff\">143</span> in       <span style=\"color: #800000; text-decoration-color: #800000\">│</span>\n",
       "<span style=\"color: #800000; text-decoration-color: #800000\">│</span> <span style=\"color: #00ff00; text-decoration-color: #00ff00\">_python_pjit_helper</span>                                                                              <span style=\"color: #800000; text-decoration-color: #800000\">│</span>\n",
       "<span style=\"color: #800000; text-decoration-color: #800000\">│</span>                                                                                                  <span style=\"color: #800000; text-decoration-color: #800000\">│</span>\n",
       "<span style=\"color: #800000; text-decoration-color: #800000\">│</span>   <span style=\"color: #7f7f7f; text-decoration-color: #7f7f7f\"> 140 </span><span style=\"color: #7f7f7f; text-decoration-color: #7f7f7f\">│   </span>init_states = _get_states(attrs_tracked)                                              <span style=\"color: #800000; text-decoration-color: #800000\">│</span>\n",
       "<span style=\"color: #800000; text-decoration-color: #800000\">│</span>   <span style=\"color: #7f7f7f; text-decoration-color: #7f7f7f\"> 141 </span><span style=\"color: #7f7f7f; text-decoration-color: #7f7f7f\">│   </span>args_flat = [*init_states, *args_flat]                                                <span style=\"color: #800000; text-decoration-color: #800000\">│</span>\n",
       "<span style=\"color: #800000; text-decoration-color: #800000\">│</span>   <span style=\"color: #7f7f7f; text-decoration-color: #7f7f7f\"> 142 </span><span style=\"color: #7f7f7f; text-decoration-color: #7f7f7f\">  </span><span style=\"color: #0000ff; text-decoration-color: #0000ff\">try</span>:                                                                                    <span style=\"color: #800000; text-decoration-color: #800000\">│</span>\n",
       "<span style=\"color: #800000; text-decoration-color: #800000\">│</span> <span style=\"color: #800000; text-decoration-color: #800000\">❱ </span> 143 <span style=\"color: #7f7f7f; text-decoration-color: #7f7f7f\">│   </span>out_flat = pjit_p.bind(*args_flat, **params)                                          <span style=\"color: #800000; text-decoration-color: #800000\">│</span>\n",
       "<span style=\"color: #800000; text-decoration-color: #800000\">│</span>   <span style=\"color: #7f7f7f; text-decoration-color: #7f7f7f\"> 144 </span><span style=\"color: #7f7f7f; text-decoration-color: #7f7f7f\">  </span><span style=\"color: #0000ff; text-decoration-color: #0000ff\">except</span> pxla.DeviceAssignmentMismatchError <span style=\"color: #0000ff; text-decoration-color: #0000ff\">as</span> e:                                         <span style=\"color: #800000; text-decoration-color: #800000\">│</span>\n",
       "<span style=\"color: #800000; text-decoration-color: #800000\">│</span>   <span style=\"color: #7f7f7f; text-decoration-color: #7f7f7f\"> 145 </span><span style=\"color: #7f7f7f; text-decoration-color: #7f7f7f\">│   </span>fails, = e.args                                                                       <span style=\"color: #800000; text-decoration-color: #800000\">│</span>\n",
       "<span style=\"color: #800000; text-decoration-color: #800000\">│</span>   <span style=\"color: #7f7f7f; text-decoration-color: #7f7f7f\"> 146 </span><span style=\"color: #7f7f7f; text-decoration-color: #7f7f7f\">│   </span>api_name = <span style=\"color: #808000; text-decoration-color: #808000\">'jit'</span> <span style=\"color: #0000ff; text-decoration-color: #0000ff\">if</span> params[<span style=\"color: #808000; text-decoration-color: #808000\">'resource_env'</span>] <span style=\"color: #ff00ff; text-decoration-color: #ff00ff\">is</span> <span style=\"color: #0000ff; text-decoration-color: #0000ff\">None</span> <span style=\"color: #0000ff; text-decoration-color: #0000ff\">else</span> <span style=\"color: #808000; text-decoration-color: #808000\">'pjit'</span>                        <span style=\"color: #800000; text-decoration-color: #800000\">│</span>\n",
       "<span style=\"color: #800000; text-decoration-color: #800000\">│</span>                                                                                                  <span style=\"color: #800000; text-decoration-color: #800000\">│</span>\n",
       "<span style=\"color: #800000; text-decoration-color: #800000\">│</span> <span style=\"color: #bfbf7f; text-decoration-color: #bfbf7f\">/home/nmiklaucic/miniconda3/envs/avid/lib/python3.12/site-packages/jax/_src/</span><span style=\"color: #808000; text-decoration-color: #808000; font-weight: bold\">core.py</span>:<span style=\"color: #0000ff; text-decoration-color: #0000ff\">2727</span> in <span style=\"color: #00ff00; text-decoration-color: #00ff00\">bind</span> <span style=\"color: #800000; text-decoration-color: #800000\">│</span>\n",
       "<span style=\"color: #800000; text-decoration-color: #800000\">│</span>                                                                                                  <span style=\"color: #800000; text-decoration-color: #800000\">│</span>\n",
       "<span style=\"color: #800000; text-decoration-color: #800000\">│</span>   <span style=\"color: #7f7f7f; text-decoration-color: #7f7f7f\">2724 </span><span style=\"color: #7f7f7f; text-decoration-color: #7f7f7f\">│   │   │   │   │   </span>default=<span style=\"color: #0000ff; text-decoration-color: #0000ff\">None</span>, key=<span style=\"color: #0000ff; text-decoration-color: #0000ff\">lambda</span> t: <span style=\"color: #00ffff; text-decoration-color: #00ffff\">getattr</span>(t, <span style=\"color: #808000; text-decoration-color: #808000\">'level'</span>, -<span style=\"color: #0000ff; text-decoration-color: #0000ff\">1</span>))                  <span style=\"color: #800000; text-decoration-color: #800000\">│</span>\n",
       "<span style=\"color: #800000; text-decoration-color: #800000\">│</span>   <span style=\"color: #7f7f7f; text-decoration-color: #7f7f7f\">2725 </span><span style=\"color: #7f7f7f; text-decoration-color: #7f7f7f\">│   </span>top_trace = (top_trace <span style=\"color: #0000ff; text-decoration-color: #0000ff\">if</span> <span style=\"color: #ff00ff; text-decoration-color: #ff00ff\">not</span> axis_main <span style=\"color: #ff00ff; text-decoration-color: #ff00ff\">or</span> axis_main.level &lt; top_trace.level          <span style=\"color: #800000; text-decoration-color: #800000\">│</span>\n",
       "<span style=\"color: #800000; text-decoration-color: #800000\">│</span>   <span style=\"color: #7f7f7f; text-decoration-color: #7f7f7f\">2726 </span><span style=\"color: #7f7f7f; text-decoration-color: #7f7f7f\">│   │   │   │    </span><span style=\"color: #0000ff; text-decoration-color: #0000ff\">else</span> axis_main.with_cur_sublevel())                                      <span style=\"color: #800000; text-decoration-color: #800000\">│</span>\n",
       "<span style=\"color: #800000; text-decoration-color: #800000\">│</span> <span style=\"color: #800000; text-decoration-color: #800000\">❱ </span>2727 <span style=\"color: #7f7f7f; text-decoration-color: #7f7f7f\">│   </span><span style=\"color: #0000ff; text-decoration-color: #0000ff\">return</span> <span style=\"color: #00ffff; text-decoration-color: #00ffff\">self</span>.bind_with_trace(top_trace, args, params)                                  <span style=\"color: #800000; text-decoration-color: #800000\">│</span>\n",
       "<span style=\"color: #800000; text-decoration-color: #800000\">│</span>   <span style=\"color: #7f7f7f; text-decoration-color: #7f7f7f\">2728 </span>                                                                                          <span style=\"color: #800000; text-decoration-color: #800000\">│</span>\n",
       "<span style=\"color: #800000; text-decoration-color: #800000\">│</span>   <span style=\"color: #7f7f7f; text-decoration-color: #7f7f7f\">2729 </span>                                                                                          <span style=\"color: #800000; text-decoration-color: #800000\">│</span>\n",
       "<span style=\"color: #800000; text-decoration-color: #800000\">│</span>   <span style=\"color: #7f7f7f; text-decoration-color: #7f7f7f\">2730 # ------------------- Jaxpr checking -------------------</span>                                  <span style=\"color: #800000; text-decoration-color: #800000\">│</span>\n",
       "<span style=\"color: #800000; text-decoration-color: #800000\">│</span>                                                                                                  <span style=\"color: #800000; text-decoration-color: #800000\">│</span>\n",
       "<span style=\"color: #800000; text-decoration-color: #800000\">│</span> <span style=\"color: #bfbf7f; text-decoration-color: #bfbf7f\">/home/nmiklaucic/miniconda3/envs/avid/lib/python3.12/site-packages/jax/_src/</span><span style=\"color: #808000; text-decoration-color: #808000; font-weight: bold\">core.py</span>:<span style=\"color: #0000ff; text-decoration-color: #0000ff\">423</span> in       <span style=\"color: #800000; text-decoration-color: #800000\">│</span>\n",
       "<span style=\"color: #800000; text-decoration-color: #800000\">│</span> <span style=\"color: #00ff00; text-decoration-color: #00ff00\">bind_with_trace</span>                                                                                  <span style=\"color: #800000; text-decoration-color: #800000\">│</span>\n",
       "<span style=\"color: #800000; text-decoration-color: #800000\">│</span>                                                                                                  <span style=\"color: #800000; text-decoration-color: #800000\">│</span>\n",
       "<span style=\"color: #800000; text-decoration-color: #800000\">│</span>   <span style=\"color: #7f7f7f; text-decoration-color: #7f7f7f\"> 420 </span><span style=\"color: #7f7f7f; text-decoration-color: #7f7f7f\">│   </span><span style=\"color: #0000ff; text-decoration-color: #0000ff\">return</span> <span style=\"color: #00ffff; text-decoration-color: #00ffff\">self</span>.bind_with_trace(find_top_trace(args), args, params)                       <span style=\"color: #800000; text-decoration-color: #800000\">│</span>\n",
       "<span style=\"color: #800000; text-decoration-color: #800000\">│</span>   <span style=\"color: #7f7f7f; text-decoration-color: #7f7f7f\"> 421 </span><span style=\"color: #7f7f7f; text-decoration-color: #7f7f7f\">  </span>                                                                                        <span style=\"color: #800000; text-decoration-color: #800000\">│</span>\n",
       "<span style=\"color: #800000; text-decoration-color: #800000\">│</span>   <span style=\"color: #7f7f7f; text-decoration-color: #7f7f7f\"> 422 </span><span style=\"color: #7f7f7f; text-decoration-color: #7f7f7f\">  </span><span style=\"color: #0000ff; text-decoration-color: #0000ff\">def</span> <span style=\"color: #00ff00; text-decoration-color: #00ff00\">bind_with_trace</span>(<span style=\"color: #00ffff; text-decoration-color: #00ffff\">self</span>, trace, args, params):                                         <span style=\"color: #800000; text-decoration-color: #800000\">│</span>\n",
       "<span style=\"color: #800000; text-decoration-color: #800000\">│</span> <span style=\"color: #800000; text-decoration-color: #800000\">❱ </span> 423 <span style=\"color: #7f7f7f; text-decoration-color: #7f7f7f\">│   </span>out = trace.process_primitive(<span style=\"color: #00ffff; text-decoration-color: #00ffff\">self</span>, <span style=\"color: #00ffff; text-decoration-color: #00ffff\">map</span>(trace.full_raise, args), params)              <span style=\"color: #800000; text-decoration-color: #800000\">│</span>\n",
       "<span style=\"color: #800000; text-decoration-color: #800000\">│</span>   <span style=\"color: #7f7f7f; text-decoration-color: #7f7f7f\"> 424 </span><span style=\"color: #7f7f7f; text-decoration-color: #7f7f7f\">│   </span><span style=\"color: #0000ff; text-decoration-color: #0000ff\">return</span> <span style=\"color: #00ffff; text-decoration-color: #00ffff\">map</span>(full_lower, out) <span style=\"color: #0000ff; text-decoration-color: #0000ff\">if</span> <span style=\"color: #00ffff; text-decoration-color: #00ffff\">self</span>.multiple_results <span style=\"color: #0000ff; text-decoration-color: #0000ff\">else</span> full_lower(out)             <span style=\"color: #800000; text-decoration-color: #800000\">│</span>\n",
       "<span style=\"color: #800000; text-decoration-color: #800000\">│</span>   <span style=\"color: #7f7f7f; text-decoration-color: #7f7f7f\"> 425 </span><span style=\"color: #7f7f7f; text-decoration-color: #7f7f7f\">  </span>                                                                                        <span style=\"color: #800000; text-decoration-color: #800000\">│</span>\n",
       "<span style=\"color: #800000; text-decoration-color: #800000\">│</span>   <span style=\"color: #7f7f7f; text-decoration-color: #7f7f7f\"> 426 </span><span style=\"color: #7f7f7f; text-decoration-color: #7f7f7f\">  </span><span style=\"color: #0000ff; text-decoration-color: #0000ff\">def</span> <span style=\"color: #00ff00; text-decoration-color: #00ff00\">def_impl</span>(<span style=\"color: #00ffff; text-decoration-color: #00ffff\">self</span>, impl):                                                               <span style=\"color: #800000; text-decoration-color: #800000\">│</span>\n",
       "<span style=\"color: #800000; text-decoration-color: #800000\">│</span>                                                                                                  <span style=\"color: #800000; text-decoration-color: #800000\">│</span>\n",
       "<span style=\"color: #800000; text-decoration-color: #800000\">│</span> <span style=\"color: #bfbf7f; text-decoration-color: #bfbf7f\">/home/nmiklaucic/miniconda3/envs/avid/lib/python3.12/site-packages/jax/_src/</span><span style=\"color: #808000; text-decoration-color: #808000; font-weight: bold\">core.py</span>:<span style=\"color: #0000ff; text-decoration-color: #0000ff\">913</span> in       <span style=\"color: #800000; text-decoration-color: #800000\">│</span>\n",
       "<span style=\"color: #800000; text-decoration-color: #800000\">│</span> <span style=\"color: #00ff00; text-decoration-color: #00ff00\">process_primitive</span>                                                                                <span style=\"color: #800000; text-decoration-color: #800000\">│</span>\n",
       "<span style=\"color: #800000; text-decoration-color: #800000\">│</span>                                                                                                  <span style=\"color: #800000; text-decoration-color: #800000\">│</span>\n",
       "<span style=\"color: #800000; text-decoration-color: #800000\">│</span>   <span style=\"color: #7f7f7f; text-decoration-color: #7f7f7f\"> 910 </span><span style=\"color: #7f7f7f; text-decoration-color: #7f7f7f\">  </span>lift = sublift = pure                                                                   <span style=\"color: #800000; text-decoration-color: #800000\">│</span>\n",
       "<span style=\"color: #800000; text-decoration-color: #800000\">│</span>   <span style=\"color: #7f7f7f; text-decoration-color: #7f7f7f\"> 911 </span><span style=\"color: #7f7f7f; text-decoration-color: #7f7f7f\">  </span>                                                                                        <span style=\"color: #800000; text-decoration-color: #800000\">│</span>\n",
       "<span style=\"color: #800000; text-decoration-color: #800000\">│</span>   <span style=\"color: #7f7f7f; text-decoration-color: #7f7f7f\"> 912 </span><span style=\"color: #7f7f7f; text-decoration-color: #7f7f7f\">  </span><span style=\"color: #0000ff; text-decoration-color: #0000ff\">def</span> <span style=\"color: #00ff00; text-decoration-color: #00ff00\">process_primitive</span>(<span style=\"color: #00ffff; text-decoration-color: #00ffff\">self</span>, primitive, tracers, params):                                <span style=\"color: #800000; text-decoration-color: #800000\">│</span>\n",
       "<span style=\"color: #800000; text-decoration-color: #800000\">│</span> <span style=\"color: #800000; text-decoration-color: #800000\">❱ </span> 913 <span style=\"color: #7f7f7f; text-decoration-color: #7f7f7f\">│   </span><span style=\"color: #0000ff; text-decoration-color: #0000ff\">return</span> primitive.impl(*tracers, **params)                                             <span style=\"color: #800000; text-decoration-color: #800000\">│</span>\n",
       "<span style=\"color: #800000; text-decoration-color: #800000\">│</span>   <span style=\"color: #7f7f7f; text-decoration-color: #7f7f7f\"> 914 </span><span style=\"color: #7f7f7f; text-decoration-color: #7f7f7f\">  </span>                                                                                        <span style=\"color: #800000; text-decoration-color: #800000\">│</span>\n",
       "<span style=\"color: #800000; text-decoration-color: #800000\">│</span>   <span style=\"color: #7f7f7f; text-decoration-color: #7f7f7f\"> 915 </span><span style=\"color: #7f7f7f; text-decoration-color: #7f7f7f\">  </span><span style=\"color: #0000ff; text-decoration-color: #0000ff\">def</span> <span style=\"color: #00ff00; text-decoration-color: #00ff00\">process_call</span>(<span style=\"color: #00ffff; text-decoration-color: #00ffff\">self</span>, primitive, f, tracers, params):                                  <span style=\"color: #800000; text-decoration-color: #800000\">│</span>\n",
       "<span style=\"color: #800000; text-decoration-color: #800000\">│</span>   <span style=\"color: #7f7f7f; text-decoration-color: #7f7f7f\"> 916 </span><span style=\"color: #7f7f7f; text-decoration-color: #7f7f7f\">│   </span><span style=\"color: #0000ff; text-decoration-color: #0000ff\">return</span> primitive.impl(f, *tracers, **params)                                          <span style=\"color: #800000; text-decoration-color: #800000\">│</span>\n",
       "<span style=\"color: #800000; text-decoration-color: #800000\">│</span>                                                                                                  <span style=\"color: #800000; text-decoration-color: #800000\">│</span>\n",
       "<span style=\"color: #800000; text-decoration-color: #800000\">│</span> <span style=\"color: #bfbf7f; text-decoration-color: #bfbf7f\">/home/nmiklaucic/miniconda3/envs/avid/lib/python3.12/site-packages/jax/_src/</span><span style=\"color: #808000; text-decoration-color: #808000; font-weight: bold\">pjit.py</span>:<span style=\"color: #0000ff; text-decoration-color: #0000ff\">1409</span> in      <span style=\"color: #800000; text-decoration-color: #800000\">│</span>\n",
       "<span style=\"color: #800000; text-decoration-color: #800000\">│</span> <span style=\"color: #00ff00; text-decoration-color: #00ff00\">_pjit_call_impl</span>                                                                                  <span style=\"color: #800000; text-decoration-color: #800000\">│</span>\n",
       "<span style=\"color: #800000; text-decoration-color: #800000\">│</span>                                                                                                  <span style=\"color: #800000; text-decoration-color: #800000\">│</span>\n",
       "<span style=\"color: #800000; text-decoration-color: #800000\">│</span>   <span style=\"color: #7f7f7f; text-decoration-color: #7f7f7f\">1406 </span><span style=\"color: #7f7f7f; text-decoration-color: #7f7f7f\">  </span>has_explicit_sharding = _pjit_explicit_sharding(                                        <span style=\"color: #800000; text-decoration-color: #800000\">│</span>\n",
       "<span style=\"color: #800000; text-decoration-color: #800000\">│</span>   <span style=\"color: #7f7f7f; text-decoration-color: #7f7f7f\">1407 </span><span style=\"color: #7f7f7f; text-decoration-color: #7f7f7f\">│     </span>in_shardings, out_shardings, <span style=\"color: #0000ff; text-decoration-color: #0000ff\">None</span>, <span style=\"color: #0000ff; text-decoration-color: #0000ff\">None</span>)                                            <span style=\"color: #800000; text-decoration-color: #800000\">│</span>\n",
       "<span style=\"color: #800000; text-decoration-color: #800000\">│</span>   <span style=\"color: #7f7f7f; text-decoration-color: #7f7f7f\">1408 </span><span style=\"color: #7f7f7f; text-decoration-color: #7f7f7f\">  </span><span style=\"color: #0000ff; text-decoration-color: #0000ff\">if</span> xla_extension_version &gt;= <span style=\"color: #0000ff; text-decoration-color: #0000ff\">226</span>:                                                        <span style=\"color: #800000; text-decoration-color: #800000\">│</span>\n",
       "<span style=\"color: #800000; text-decoration-color: #800000\">│</span> <span style=\"color: #800000; text-decoration-color: #800000\">❱ </span>1409 <span style=\"color: #7f7f7f; text-decoration-color: #7f7f7f\">│   </span><span style=\"color: #0000ff; text-decoration-color: #0000ff\">return</span> xc._xla.pjit(                                                                  <span style=\"color: #800000; text-decoration-color: #800000\">│</span>\n",
       "<span style=\"color: #800000; text-decoration-color: #800000\">│</span>   <span style=\"color: #7f7f7f; text-decoration-color: #7f7f7f\">1410 </span><span style=\"color: #7f7f7f; text-decoration-color: #7f7f7f\">│   │   </span>name, f, call_impl_cache_miss, [], [], donated_argnums,                           <span style=\"color: #800000; text-decoration-color: #800000\">│</span>\n",
       "<span style=\"color: #800000; text-decoration-color: #800000\">│</span>   <span style=\"color: #7f7f7f; text-decoration-color: #7f7f7f\">1411 </span><span style=\"color: #7f7f7f; text-decoration-color: #7f7f7f\">│   │   </span>tree_util.dispatch_registry,                                                      <span style=\"color: #800000; text-decoration-color: #800000\">│</span>\n",
       "<span style=\"color: #800000; text-decoration-color: #800000\">│</span>   <span style=\"color: #7f7f7f; text-decoration-color: #7f7f7f\">1412 </span><span style=\"color: #7f7f7f; text-decoration-color: #7f7f7f\">│   │   </span>pxla.shard_arg <span style=\"color: #0000ff; text-decoration-color: #0000ff\">if</span> xla_extension_version &gt;= <span style=\"color: #0000ff; text-decoration-color: #0000ff\">229</span> <span style=\"color: #0000ff; text-decoration-color: #0000ff\">else</span> pxla.temp_shard_arg,  <span style=\"color: #7f7f7f; text-decoration-color: #7f7f7f\"># type</span>  <span style=\"color: #800000; text-decoration-color: #800000\">│</span>\n",
       "<span style=\"color: #800000; text-decoration-color: #800000\">│</span>                                                                                                  <span style=\"color: #800000; text-decoration-color: #800000\">│</span>\n",
       "<span style=\"color: #800000; text-decoration-color: #800000\">│</span> <span style=\"color: #bfbf7f; text-decoration-color: #bfbf7f\">/home/nmiklaucic/miniconda3/envs/avid/lib/python3.12/site-packages/jax/_src/</span><span style=\"color: #808000; text-decoration-color: #808000; font-weight: bold\">pjit.py</span>:<span style=\"color: #0000ff; text-decoration-color: #0000ff\">1392</span> in      <span style=\"color: #800000; text-decoration-color: #800000\">│</span>\n",
       "<span style=\"color: #800000; text-decoration-color: #800000\">│</span> <span style=\"color: #00ff00; text-decoration-color: #00ff00\">call_impl_cache_miss</span>                                                                             <span style=\"color: #800000; text-decoration-color: #800000\">│</span>\n",
       "<span style=\"color: #800000; text-decoration-color: #800000\">│</span>                                                                                                  <span style=\"color: #800000; text-decoration-color: #800000\">│</span>\n",
       "<span style=\"color: #800000; text-decoration-color: #800000\">│</span>   <span style=\"color: #7f7f7f; text-decoration-color: #7f7f7f\">1389 </span><span style=\"color: #7f7f7f; text-decoration-color: #7f7f7f\">│   │   │   │   │   </span>in_shardings, out_shardings, resource_env,                            <span style=\"color: #800000; text-decoration-color: #800000\">│</span>\n",
       "<span style=\"color: #800000; text-decoration-color: #800000\">│</span>   <span style=\"color: #7f7f7f; text-decoration-color: #7f7f7f\">1390 </span><span style=\"color: #7f7f7f; text-decoration-color: #7f7f7f\">│   │   │   │   │   </span>donated_invars, name, keep_unused, inline):                           <span style=\"color: #800000; text-decoration-color: #800000\">│</span>\n",
       "<span style=\"color: #800000; text-decoration-color: #800000\">│</span>   <span style=\"color: #7f7f7f; text-decoration-color: #7f7f7f\">1391 </span><span style=\"color: #7f7f7f; text-decoration-color: #7f7f7f\">  </span><span style=\"color: #0000ff; text-decoration-color: #0000ff\">def</span> <span style=\"color: #00ff00; text-decoration-color: #00ff00\">call_impl_cache_miss</span>(*args_, **kwargs_):                                            <span style=\"color: #800000; text-decoration-color: #800000\">│</span>\n",
       "<span style=\"color: #800000; text-decoration-color: #800000\">│</span> <span style=\"color: #800000; text-decoration-color: #800000\">❱ </span>1392 <span style=\"color: #7f7f7f; text-decoration-color: #7f7f7f\">│   </span>out_flat, compiled = _pjit_call_impl_python(                                          <span style=\"color: #800000; text-decoration-color: #800000\">│</span>\n",
       "<span style=\"color: #800000; text-decoration-color: #800000\">│</span>   <span style=\"color: #7f7f7f; text-decoration-color: #7f7f7f\">1393 </span><span style=\"color: #7f7f7f; text-decoration-color: #7f7f7f\">│   │   </span>*args, jaxpr=jaxpr, in_shardings=in_shardings,                                    <span style=\"color: #800000; text-decoration-color: #800000\">│</span>\n",
       "<span style=\"color: #800000; text-decoration-color: #800000\">│</span>   <span style=\"color: #7f7f7f; text-decoration-color: #7f7f7f\">1394 </span><span style=\"color: #7f7f7f; text-decoration-color: #7f7f7f\">│   │   </span>out_shardings=out_shardings, resource_env=resource_env,                           <span style=\"color: #800000; text-decoration-color: #800000\">│</span>\n",
       "<span style=\"color: #800000; text-decoration-color: #800000\">│</span>   <span style=\"color: #7f7f7f; text-decoration-color: #7f7f7f\">1395 </span><span style=\"color: #7f7f7f; text-decoration-color: #7f7f7f\">│   │   </span>donated_invars=donated_invars, name=name, keep_unused=keep_unused,                <span style=\"color: #800000; text-decoration-color: #800000\">│</span>\n",
       "<span style=\"color: #800000; text-decoration-color: #800000\">│</span>                                                                                                  <span style=\"color: #800000; text-decoration-color: #800000\">│</span>\n",
       "<span style=\"color: #800000; text-decoration-color: #800000\">│</span> <span style=\"color: #bfbf7f; text-decoration-color: #bfbf7f\">/home/nmiklaucic/miniconda3/envs/avid/lib/python3.12/site-packages/jax/_src/</span><span style=\"color: #808000; text-decoration-color: #808000; font-weight: bold\">pjit.py</span>:<span style=\"color: #0000ff; text-decoration-color: #0000ff\">1348</span> in      <span style=\"color: #800000; text-decoration-color: #800000\">│</span>\n",
       "<span style=\"color: #800000; text-decoration-color: #800000\">│</span> <span style=\"color: #00ff00; text-decoration-color: #00ff00\">_pjit_call_impl_python</span>                                                                           <span style=\"color: #800000; text-decoration-color: #800000\">│</span>\n",
       "<span style=\"color: #800000; text-decoration-color: #800000\">│</span>                                                                                                  <span style=\"color: #800000; text-decoration-color: #800000\">│</span>\n",
       "<span style=\"color: #800000; text-decoration-color: #800000\">│</span>   <span style=\"color: #7f7f7f; text-decoration-color: #7f7f7f\">1345 </span><span style=\"color: #7f7f7f; text-decoration-color: #7f7f7f\">│   │   │   │   │   │     </span>(<span style=\"color: #808000; text-decoration-color: #808000\">\"abstract args\"</span>, <span style=\"color: #00ffff; text-decoration-color: #00ffff\">map</span>(xla.abstractify, args)),                  <span style=\"color: #800000; text-decoration-color: #800000\">│</span>\n",
       "<span style=\"color: #800000; text-decoration-color: #800000\">│</span>   <span style=\"color: #7f7f7f; text-decoration-color: #7f7f7f\">1346 </span><span style=\"color: #7f7f7f; text-decoration-color: #7f7f7f\">│   │   │   │   │   │     </span>(<span style=\"color: #808000; text-decoration-color: #808000\">\"fingerprint\"</span>, fingerprint))                                   <span style=\"color: #800000; text-decoration-color: #800000\">│</span>\n",
       "<span style=\"color: #800000; text-decoration-color: #800000\">│</span>   <span style=\"color: #7f7f7f; text-decoration-color: #7f7f7f\">1347 </span><span style=\"color: #7f7f7f; text-decoration-color: #7f7f7f\">  </span><span style=\"color: #0000ff; text-decoration-color: #0000ff\">try</span>:                                                                                    <span style=\"color: #800000; text-decoration-color: #800000\">│</span>\n",
       "<span style=\"color: #800000; text-decoration-color: #800000\">│</span> <span style=\"color: #800000; text-decoration-color: #800000\">❱ </span>1348 <span style=\"color: #7f7f7f; text-decoration-color: #7f7f7f\">│   </span><span style=\"color: #0000ff; text-decoration-color: #0000ff\">return</span> compiled.unsafe_call(*args), compiled                                          <span style=\"color: #800000; text-decoration-color: #800000\">│</span>\n",
       "<span style=\"color: #800000; text-decoration-color: #800000\">│</span>   <span style=\"color: #7f7f7f; text-decoration-color: #7f7f7f\">1349 </span><span style=\"color: #7f7f7f; text-decoration-color: #7f7f7f\">  </span><span style=\"color: #0000ff; text-decoration-color: #0000ff\">except</span> <span style=\"color: #00ffff; text-decoration-color: #00ffff\">FloatingPointError</span> <span style=\"color: #0000ff; text-decoration-color: #0000ff\">as</span> e:                                                         <span style=\"color: #800000; text-decoration-color: #800000\">│</span>\n",
       "<span style=\"color: #800000; text-decoration-color: #800000\">│</span>   <span style=\"color: #7f7f7f; text-decoration-color: #7f7f7f\">1350 </span><span style=\"color: #7f7f7f; text-decoration-color: #7f7f7f\">│   </span><span style=\"color: #0000ff; text-decoration-color: #0000ff\">assert</span> config.debug_nans.value <span style=\"color: #ff00ff; text-decoration-color: #ff00ff\">or</span> config.debug_infs.value  <span style=\"color: #7f7f7f; text-decoration-color: #7f7f7f\"># compiled_fun can only r</span>  <span style=\"color: #800000; text-decoration-color: #800000\">│</span>\n",
       "<span style=\"color: #800000; text-decoration-color: #800000\">│</span>   <span style=\"color: #7f7f7f; text-decoration-color: #7f7f7f\">1351 </span>                                                                                          <span style=\"color: #800000; text-decoration-color: #800000\">│</span>\n",
       "<span style=\"color: #800000; text-decoration-color: #800000\">│</span>                                                                                                  <span style=\"color: #800000; text-decoration-color: #800000\">│</span>\n",
       "<span style=\"color: #800000; text-decoration-color: #800000\">│</span> <span style=\"color: #bfbf7f; text-decoration-color: #bfbf7f\">/home/nmiklaucic/miniconda3/envs/avid/lib/python3.12/site-packages/jax/_src/</span><span style=\"color: #808000; text-decoration-color: #808000; font-weight: bold\">profiler.py</span>:<span style=\"color: #0000ff; text-decoration-color: #0000ff\">336</span> in   <span style=\"color: #800000; text-decoration-color: #800000\">│</span>\n",
       "<span style=\"color: #800000; text-decoration-color: #800000\">│</span> <span style=\"color: #00ff00; text-decoration-color: #00ff00\">wrapper</span>                                                                                          <span style=\"color: #800000; text-decoration-color: #800000\">│</span>\n",
       "<span style=\"color: #800000; text-decoration-color: #800000\">│</span>                                                                                                  <span style=\"color: #800000; text-decoration-color: #800000\">│</span>\n",
       "<span style=\"color: #800000; text-decoration-color: #800000\">│</span>   <span style=\"color: #7f7f7f; text-decoration-color: #7f7f7f\">333 </span><span style=\"color: #7f7f7f; text-decoration-color: #7f7f7f\">  </span><span style=\"color: #ff00ff; text-decoration-color: #ff00ff; font-weight: bold\">@wraps</span>(func)                                                                             <span style=\"color: #800000; text-decoration-color: #800000\">│</span>\n",
       "<span style=\"color: #800000; text-decoration-color: #800000\">│</span>   <span style=\"color: #7f7f7f; text-decoration-color: #7f7f7f\">334 </span><span style=\"color: #7f7f7f; text-decoration-color: #7f7f7f\">  </span><span style=\"color: #0000ff; text-decoration-color: #0000ff\">def</span> <span style=\"color: #00ff00; text-decoration-color: #00ff00\">wrapper</span>(*args, **kwargs):                                                            <span style=\"color: #800000; text-decoration-color: #800000\">│</span>\n",
       "<span style=\"color: #800000; text-decoration-color: #800000\">│</span>   <span style=\"color: #7f7f7f; text-decoration-color: #7f7f7f\">335 </span><span style=\"color: #7f7f7f; text-decoration-color: #7f7f7f\">│   </span><span style=\"color: #0000ff; text-decoration-color: #0000ff\">with</span> TraceAnnotation(name, **decorator_kwargs):                                        <span style=\"color: #800000; text-decoration-color: #800000\">│</span>\n",
       "<span style=\"color: #800000; text-decoration-color: #800000\">│</span> <span style=\"color: #800000; text-decoration-color: #800000\">❱ </span>336 <span style=\"color: #7f7f7f; text-decoration-color: #7f7f7f\">│     </span><span style=\"color: #0000ff; text-decoration-color: #0000ff\">return</span> func(*args, **kwargs)                                                         <span style=\"color: #800000; text-decoration-color: #800000\">│</span>\n",
       "<span style=\"color: #800000; text-decoration-color: #800000\">│</span>   <span style=\"color: #7f7f7f; text-decoration-color: #7f7f7f\">337 </span><span style=\"color: #7f7f7f; text-decoration-color: #7f7f7f\">│   </span><span style=\"color: #0000ff; text-decoration-color: #0000ff\">return</span> wrapper                                                                         <span style=\"color: #800000; text-decoration-color: #800000\">│</span>\n",
       "<span style=\"color: #800000; text-decoration-color: #800000\">│</span>   <span style=\"color: #7f7f7f; text-decoration-color: #7f7f7f\">338 </span><span style=\"color: #7f7f7f; text-decoration-color: #7f7f7f\">  </span><span style=\"color: #0000ff; text-decoration-color: #0000ff\">return</span> wrapper                                                                           <span style=\"color: #800000; text-decoration-color: #800000\">│</span>\n",
       "<span style=\"color: #800000; text-decoration-color: #800000\">│</span>   <span style=\"color: #7f7f7f; text-decoration-color: #7f7f7f\">339 </span>                                                                                           <span style=\"color: #800000; text-decoration-color: #800000\">│</span>\n",
       "<span style=\"color: #800000; text-decoration-color: #800000\">│</span>                                                                                                  <span style=\"color: #800000; text-decoration-color: #800000\">│</span>\n",
       "<span style=\"color: #800000; text-decoration-color: #800000\">│</span> <span style=\"color: #bfbf7f; text-decoration-color: #bfbf7f\">/home/nmiklaucic/miniconda3/envs/avid/lib/python3.12/site-packages/jax/_src/interpreters/</span><span style=\"color: #808000; text-decoration-color: #808000; font-weight: bold\">pxla.py</span> <span style=\"color: #800000; text-decoration-color: #800000\">│</span>\n",
       "<span style=\"color: #800000; text-decoration-color: #800000\">│</span> :<span style=\"color: #0000ff; text-decoration-color: #0000ff\">1209</span> in <span style=\"color: #00ff00; text-decoration-color: #00ff00\">__call__</span>                                                                                <span style=\"color: #800000; text-decoration-color: #800000\">│</span>\n",
       "<span style=\"color: #800000; text-decoration-color: #800000\">│</span>                                                                                                  <span style=\"color: #800000; text-decoration-color: #800000\">│</span>\n",
       "<span style=\"color: #800000; text-decoration-color: #800000\">│</span>   <span style=\"color: #7f7f7f; text-decoration-color: #7f7f7f\">1206 </span><span style=\"color: #7f7f7f; text-decoration-color: #7f7f7f\">│     </span>sharded_runtime_token = results.consume_token()                                     <span style=\"color: #800000; text-decoration-color: #800000\">│</span>\n",
       "<span style=\"color: #800000; text-decoration-color: #800000\">│</span>   <span style=\"color: #7f7f7f; text-decoration-color: #7f7f7f\">1207 </span><span style=\"color: #7f7f7f; text-decoration-color: #7f7f7f\">│     </span><span style=\"color: #00ffff; text-decoration-color: #00ffff\">self</span>._handle_token_bufs(result_token_bufs, sharded_runtime_token)                   <span style=\"color: #800000; text-decoration-color: #800000\">│</span>\n",
       "<span style=\"color: #800000; text-decoration-color: #800000\">│</span>   <span style=\"color: #7f7f7f; text-decoration-color: #7f7f7f\">1208 </span><span style=\"color: #7f7f7f; text-decoration-color: #7f7f7f\">│   </span><span style=\"color: #0000ff; text-decoration-color: #0000ff\">else</span>:                                                                                 <span style=\"color: #800000; text-decoration-color: #800000\">│</span>\n",
       "<span style=\"color: #800000; text-decoration-color: #800000\">│</span> <span style=\"color: #800000; text-decoration-color: #800000\">❱ </span>1209 <span style=\"color: #7f7f7f; text-decoration-color: #7f7f7f\">│     </span>results = <span style=\"color: #00ffff; text-decoration-color: #00ffff\">self</span>.xla_executable.execute_sharded(input_bufs)                           <span style=\"color: #800000; text-decoration-color: #800000\">│</span>\n",
       "<span style=\"color: #800000; text-decoration-color: #800000\">│</span>   <span style=\"color: #7f7f7f; text-decoration-color: #7f7f7f\">1210 </span><span style=\"color: #7f7f7f; text-decoration-color: #7f7f7f\">│   </span><span style=\"color: #0000ff; text-decoration-color: #0000ff\">if</span> dispatch.needs_check_special():                                                    <span style=\"color: #800000; text-decoration-color: #800000\">│</span>\n",
       "<span style=\"color: #800000; text-decoration-color: #800000\">│</span>   <span style=\"color: #7f7f7f; text-decoration-color: #7f7f7f\">1211 </span><span style=\"color: #7f7f7f; text-decoration-color: #7f7f7f\">│     </span>out_arrays = results.disassemble_into_single_device_arrays()                        <span style=\"color: #800000; text-decoration-color: #800000\">│</span>\n",
       "<span style=\"color: #800000; text-decoration-color: #800000\">│</span>   <span style=\"color: #7f7f7f; text-decoration-color: #7f7f7f\">1212 </span><span style=\"color: #7f7f7f; text-decoration-color: #7f7f7f\">│     </span><span style=\"color: #0000ff; text-decoration-color: #0000ff\">for</span> arrays <span style=\"color: #ff00ff; text-decoration-color: #ff00ff\">in</span> out_arrays:                                                           <span style=\"color: #800000; text-decoration-color: #800000\">│</span>\n",
       "<span style=\"color: #800000; text-decoration-color: #800000\">╰──────────────────────────────────────────────────────────────────────────────────────────────────╯</span>\n",
       "<span style=\"color: #ff0000; text-decoration-color: #ff0000; font-weight: bold\">XlaRuntimeError: </span>INTERNAL: external/xla/xla/service/gpu/nccl_api.<span style=\"color: #00ff00; text-decoration-color: #00ff00; font-weight: bold\">cc:395</span>: NCCL operation \n",
       "<span style=\"color: #800080; text-decoration-color: #800080; font-weight: bold\">ncclCommInitRankConfig</span><span style=\"font-weight: bold\">(</span>&amp;comm_handle, nranks, <span style=\"color: #800080; text-decoration-color: #800080; font-weight: bold\">AsNcclUniqueId</span><span style=\"font-weight: bold\">(</span>clique_id<span style=\"font-weight: bold\">)</span>, ranks<span style=\"font-weight: bold\">[</span>i<span style=\"font-weight: bold\">]</span>.rank, &amp;comm_config<span style=\"font-weight: bold\">)</span> failed: \n",
       "unhandled system error. Last NCCL <span style=\"color: #800080; text-decoration-color: #800080; font-weight: bold\">warning</span><span style=\"font-weight: bold\">(</span>error<span style=\"font-weight: bold\">)</span> log entry <span style=\"font-weight: bold\">(</span>may be unrelated<span style=\"font-weight: bold\">)</span> <span style=\"color: #008000; text-decoration-color: #008000\">'Unable to load NCCL library. </span>\n",
       "<span style=\"color: #008000; text-decoration-color: #008000\">Multi-GPU collectives will not work.'</span>.: while running replica <span style=\"color: #008080; text-decoration-color: #008080; font-weight: bold\">0</span> and partition <span style=\"color: #008080; text-decoration-color: #008080; font-weight: bold\">0</span> of a replicated computation <span style=\"font-weight: bold\">(</span>other \n",
       "replicas may have failed as well<span style=\"font-weight: bold\">)</span>.\n",
       "</pre>\n"
      ],
      "text/plain": [
       "\u001b[31m╭─\u001b[0m\u001b[31m──────────────────────────────\u001b[0m\u001b[31m \u001b[0m\u001b[1;31mTraceback \u001b[0m\u001b[1;2;31m(most recent call last)\u001b[0m\u001b[31m \u001b[0m\u001b[31m───────────────────────────────\u001b[0m\u001b[31m─╮\u001b[0m\n",
       "\u001b[31m│\u001b[0m in \u001b[92m<module>\u001b[0m:\u001b[94m13\u001b[0m                                                                                   \u001b[31m│\u001b[0m\n",
       "\u001b[31m│\u001b[0m                                                                                                  \u001b[31m│\u001b[0m\n",
       "\u001b[31m│\u001b[0m   \u001b[2m10 \u001b[0mcgs = jax.device_put(cgs, sharding)                                                         \u001b[31m│\u001b[0m\n",
       "\u001b[31m│\u001b[0m   \u001b[2m11 \u001b[0mparams = jax.device_put(params, replicated_sharding)                                        \u001b[31m│\u001b[0m\n",
       "\u001b[31m│\u001b[0m   \u001b[2m12 \u001b[0m                                                                                            \u001b[31m│\u001b[0m\n",
       "\u001b[31m│\u001b[0m \u001b[31m❱ \u001b[0m13 vae.apply(params, cgs, ctx=ctx)                                                             \u001b[31m│\u001b[0m\n",
       "\u001b[31m│\u001b[0m   \u001b[2m14 \u001b[0m                                                                                            \u001b[31m│\u001b[0m\n",
       "\u001b[31m│\u001b[0m                                                                                                  \u001b[31m│\u001b[0m\n",
       "\u001b[31m│\u001b[0m \u001b[2;33m/home/nmiklaucic/miniconda3/envs/avid/lib/python3.12/site-packages/jax/_src/\u001b[0m\u001b[1;33mtraceback_util.py\u001b[0m:\u001b[94m17\u001b[0m \u001b[31m│\u001b[0m\n",
       "\u001b[31m│\u001b[0m \u001b[94m9\u001b[0m in \u001b[92mreraise_with_filtered_traceback\u001b[0m                                                             \u001b[31m│\u001b[0m\n",
       "\u001b[31m│\u001b[0m                                                                                                  \u001b[31m│\u001b[0m\n",
       "\u001b[31m│\u001b[0m   \u001b[2m176 \u001b[0m\u001b[2m  \u001b[0m\u001b[94mdef\u001b[0m \u001b[92mreraise_with_filtered_traceback\u001b[0m(*args, **kwargs):                                    \u001b[31m│\u001b[0m\n",
       "\u001b[31m│\u001b[0m   \u001b[2m177 \u001b[0m\u001b[2m│   \u001b[0m__tracebackhide__ = \u001b[94mTrue\u001b[0m                                                               \u001b[31m│\u001b[0m\n",
       "\u001b[31m│\u001b[0m   \u001b[2m178 \u001b[0m\u001b[2m│   \u001b[0m\u001b[94mtry\u001b[0m:                                                                                   \u001b[31m│\u001b[0m\n",
       "\u001b[31m│\u001b[0m \u001b[31m❱ \u001b[0m179 \u001b[2m│     \u001b[0m\u001b[94mreturn\u001b[0m fun(*args, **kwargs)                                                          \u001b[31m│\u001b[0m\n",
       "\u001b[31m│\u001b[0m   \u001b[2m180 \u001b[0m\u001b[2m│   \u001b[0m\u001b[94mexcept\u001b[0m \u001b[96mException\u001b[0m \u001b[94mas\u001b[0m e:                                                                 \u001b[31m│\u001b[0m\n",
       "\u001b[31m│\u001b[0m   \u001b[2m181 \u001b[0m\u001b[2m│     \u001b[0mmode = _filtering_mode()                                                             \u001b[31m│\u001b[0m\n",
       "\u001b[31m│\u001b[0m   \u001b[2m182 \u001b[0m\u001b[2m│     \u001b[0m\u001b[94mif\u001b[0m _is_under_reraiser(e) \u001b[95mor\u001b[0m mode == \u001b[33m\"\u001b[0m\u001b[33moff\u001b[0m\u001b[33m\"\u001b[0m:                                           \u001b[31m│\u001b[0m\n",
       "\u001b[31m│\u001b[0m                                                                                                  \u001b[31m│\u001b[0m\n",
       "\u001b[31m│\u001b[0m \u001b[2;33m/home/nmiklaucic/miniconda3/envs/avid/lib/python3.12/site-packages/flax/linen/\u001b[0m\u001b[1;33mmodule.py\u001b[0m:\u001b[94m2226\u001b[0m in  \u001b[31m│\u001b[0m\n",
       "\u001b[31m│\u001b[0m \u001b[92mapply\u001b[0m                                                                                            \u001b[31m│\u001b[0m\n",
       "\u001b[31m│\u001b[0m                                                                                                  \u001b[31m│\u001b[0m\n",
       "\u001b[31m│\u001b[0m   \u001b[2m2223 \u001b[0m\u001b[2m│   \u001b[0m\u001b[94melif\u001b[0m method \u001b[95mis\u001b[0m \u001b[94mNone\u001b[0m:                                                                  \u001b[31m│\u001b[0m\n",
       "\u001b[31m│\u001b[0m   \u001b[2m2224 \u001b[0m\u001b[2m│     \u001b[0mmethod = \u001b[96mself\u001b[0m.\u001b[92m__call__\u001b[0m                                                              \u001b[31m│\u001b[0m\n",
       "\u001b[31m│\u001b[0m   \u001b[2m2225 \u001b[0m\u001b[2m│   \u001b[0mmethod = _get_unbound_fn(method)                                                      \u001b[31m│\u001b[0m\n",
       "\u001b[31m│\u001b[0m \u001b[31m❱ \u001b[0m2226 \u001b[2m│   \u001b[0m\u001b[94mreturn\u001b[0m apply(                                                                         \u001b[31m│\u001b[0m\n",
       "\u001b[31m│\u001b[0m   \u001b[2m2227 \u001b[0m\u001b[2m│     \u001b[0mmethod,                                                                             \u001b[31m│\u001b[0m\n",
       "\u001b[31m│\u001b[0m   \u001b[2m2228 \u001b[0m\u001b[2m│     \u001b[0m\u001b[96mself\u001b[0m,                                                                               \u001b[31m│\u001b[0m\n",
       "\u001b[31m│\u001b[0m   \u001b[2m2229 \u001b[0m\u001b[2m│     \u001b[0mmutable=mutable,                                                                    \u001b[31m│\u001b[0m\n",
       "\u001b[31m│\u001b[0m                                                                                                  \u001b[31m│\u001b[0m\n",
       "\u001b[31m│\u001b[0m \u001b[2;33m/home/nmiklaucic/miniconda3/envs/avid/lib/python3.12/site-packages/flax/core/\u001b[0m\u001b[1;33mscope.py\u001b[0m:\u001b[94m1101\u001b[0m in    \u001b[31m│\u001b[0m\n",
       "\u001b[31m│\u001b[0m \u001b[92mwrapper\u001b[0m                                                                                          \u001b[31m│\u001b[0m\n",
       "\u001b[31m│\u001b[0m                                                                                                  \u001b[31m│\u001b[0m\n",
       "\u001b[31m│\u001b[0m   \u001b[2m1098 \u001b[0m\u001b[2m│   \u001b[0m\u001b[94mwith\u001b[0m bind(                                                                            \u001b[31m│\u001b[0m\n",
       "\u001b[31m│\u001b[0m   \u001b[2m1099 \u001b[0m\u001b[2m│     \u001b[0mvariables, rngs=rngs, mutable=mutable, flags=flags                                  \u001b[31m│\u001b[0m\n",
       "\u001b[31m│\u001b[0m   \u001b[2m1100 \u001b[0m\u001b[2m│   \u001b[0m).temporary() \u001b[94mas\u001b[0m root:                                                                \u001b[31m│\u001b[0m\n",
       "\u001b[31m│\u001b[0m \u001b[31m❱ \u001b[0m1101 \u001b[2m│     \u001b[0my = fn(root, *args, **kwargs)                                                       \u001b[31m│\u001b[0m\n",
       "\u001b[31m│\u001b[0m   \u001b[2m1102 \u001b[0m\u001b[2m│   \u001b[0m\u001b[94mif\u001b[0m mutable \u001b[95mis\u001b[0m \u001b[95mnot\u001b[0m \u001b[94mFalse\u001b[0m:                                                              \u001b[31m│\u001b[0m\n",
       "\u001b[31m│\u001b[0m   \u001b[2m1103 \u001b[0m\u001b[2m│     \u001b[0m\u001b[94mreturn\u001b[0m y, root.mutable_variables()                                                  \u001b[31m│\u001b[0m\n",
       "\u001b[31m│\u001b[0m   \u001b[2m1104 \u001b[0m\u001b[2m│   \u001b[0m\u001b[94melse\u001b[0m:                                                                                 \u001b[31m│\u001b[0m\n",
       "\u001b[31m│\u001b[0m                                                                                                  \u001b[31m│\u001b[0m\n",
       "\u001b[31m│\u001b[0m \u001b[2;33m/home/nmiklaucic/miniconda3/envs/avid/lib/python3.12/site-packages/flax/linen/\u001b[0m\u001b[1;33mmodule.py\u001b[0m:\u001b[94m3006\u001b[0m in  \u001b[31m│\u001b[0m\n",
       "\u001b[31m│\u001b[0m \u001b[92mscope_fn\u001b[0m                                                                                         \u001b[31m│\u001b[0m\n",
       "\u001b[31m│\u001b[0m                                                                                                  \u001b[31m│\u001b[0m\n",
       "\u001b[31m│\u001b[0m   \u001b[2m3003 \u001b[0m\u001b[2m  \u001b[0m\u001b[94mdef\u001b[0m \u001b[92mscope_fn\u001b[0m(scope, *args, **kwargs):                                                   \u001b[31m│\u001b[0m\n",
       "\u001b[31m│\u001b[0m   \u001b[2m3004 \u001b[0m\u001b[2m│   \u001b[0m_context.capture_stack.append(capture_intermediates)                                  \u001b[31m│\u001b[0m\n",
       "\u001b[31m│\u001b[0m   \u001b[2m3005 \u001b[0m\u001b[2m│   \u001b[0m\u001b[94mtry\u001b[0m:                                                                                  \u001b[31m│\u001b[0m\n",
       "\u001b[31m│\u001b[0m \u001b[31m❱ \u001b[0m3006 \u001b[2m│     \u001b[0m\u001b[94mreturn\u001b[0m fn(module.clone(parent=scope, _deep_clone=\u001b[94mTrue\u001b[0m), *args, **kwargs)            \u001b[31m│\u001b[0m\n",
       "\u001b[31m│\u001b[0m   \u001b[2m3007 \u001b[0m\u001b[2m│   \u001b[0m\u001b[94mfinally\u001b[0m:                                                                              \u001b[31m│\u001b[0m\n",
       "\u001b[31m│\u001b[0m   \u001b[2m3008 \u001b[0m\u001b[2m│     \u001b[0m_context.capture_stack.pop()                                                        \u001b[31m│\u001b[0m\n",
       "\u001b[31m│\u001b[0m   \u001b[2m3009 \u001b[0m                                                                                          \u001b[31m│\u001b[0m\n",
       "\u001b[31m│\u001b[0m                                                                                                  \u001b[31m│\u001b[0m\n",
       "\u001b[31m│\u001b[0m \u001b[2;33m/home/nmiklaucic/miniconda3/envs/avid/lib/python3.12/site-packages/flax/linen/\u001b[0m\u001b[1;33mmodule.py\u001b[0m:\u001b[94m701\u001b[0m in   \u001b[31m│\u001b[0m\n",
       "\u001b[31m│\u001b[0m \u001b[92mwrapped_module_method\u001b[0m                                                                            \u001b[31m│\u001b[0m\n",
       "\u001b[31m│\u001b[0m                                                                                                  \u001b[31m│\u001b[0m\n",
       "\u001b[31m│\u001b[0m   \u001b[2m 698 \u001b[0m\u001b[2m│   \u001b[0m\u001b[2m# otherwise call the wrapped function as is.\u001b[0m                                          \u001b[31m│\u001b[0m\n",
       "\u001b[31m│\u001b[0m   \u001b[2m 699 \u001b[0m\u001b[2m│   \u001b[0m\u001b[94mif\u001b[0m args \u001b[95mand\u001b[0m \u001b[96misinstance\u001b[0m(args[\u001b[94m0\u001b[0m], Module):                                              \u001b[31m│\u001b[0m\n",
       "\u001b[31m│\u001b[0m   \u001b[2m 700 \u001b[0m\u001b[2m│     \u001b[0m\u001b[96mself\u001b[0m, args = args[\u001b[94m0\u001b[0m], args[\u001b[94m1\u001b[0m:]                                                      \u001b[31m│\u001b[0m\n",
       "\u001b[31m│\u001b[0m \u001b[31m❱ \u001b[0m 701 \u001b[2m│     \u001b[0m\u001b[94mreturn\u001b[0m \u001b[96mself\u001b[0m._call_wrapped_method(fun, args, kwargs)                                 \u001b[31m│\u001b[0m\n",
       "\u001b[31m│\u001b[0m   \u001b[2m 702 \u001b[0m\u001b[2m│   \u001b[0m\u001b[94melse\u001b[0m:                                                                                 \u001b[31m│\u001b[0m\n",
       "\u001b[31m│\u001b[0m   \u001b[2m 703 \u001b[0m\u001b[2m│     \u001b[0m\u001b[94mreturn\u001b[0m fun(*args, **kwargs)                                                         \u001b[31m│\u001b[0m\n",
       "\u001b[31m│\u001b[0m   \u001b[2m 704 \u001b[0m                                                                                          \u001b[31m│\u001b[0m\n",
       "\u001b[31m│\u001b[0m                                                                                                  \u001b[31m│\u001b[0m\n",
       "\u001b[31m│\u001b[0m \u001b[2;33m/home/nmiklaucic/miniconda3/envs/avid/lib/python3.12/site-packages/flax/linen/\u001b[0m\u001b[1;33mmodule.py\u001b[0m:\u001b[94m1233\u001b[0m in  \u001b[31m│\u001b[0m\n",
       "\u001b[31m│\u001b[0m \u001b[92m_call_wrapped_method\u001b[0m                                                                             \u001b[31m│\u001b[0m\n",
       "\u001b[31m│\u001b[0m                                                                                                  \u001b[31m│\u001b[0m\n",
       "\u001b[31m│\u001b[0m   \u001b[2m1230 \u001b[0m\u001b[2m│     \u001b[0m\u001b[2m# call method\u001b[0m                                                                       \u001b[31m│\u001b[0m\n",
       "\u001b[31m│\u001b[0m   \u001b[2m1231 \u001b[0m\u001b[2m│     \u001b[0m\u001b[94mif\u001b[0m _use_named_call:                                                                 \u001b[31m│\u001b[0m\n",
       "\u001b[31m│\u001b[0m   \u001b[2m1232 \u001b[0m\u001b[2m│   │   \u001b[0m\u001b[94mwith\u001b[0m jax.named_scope(_derive_profiling_name(\u001b[96mself\u001b[0m, fun)):                          \u001b[31m│\u001b[0m\n",
       "\u001b[31m│\u001b[0m \u001b[31m❱ \u001b[0m1233 \u001b[2m│   │     \u001b[0my = run_fun(\u001b[96mself\u001b[0m, *args, **kwargs)                                              \u001b[31m│\u001b[0m\n",
       "\u001b[31m│\u001b[0m   \u001b[2m1234 \u001b[0m\u001b[2m│     \u001b[0m\u001b[94melse\u001b[0m:                                                                               \u001b[31m│\u001b[0m\n",
       "\u001b[31m│\u001b[0m   \u001b[2m1235 \u001b[0m\u001b[2m│   │   \u001b[0my = run_fun(\u001b[96mself\u001b[0m, *args, **kwargs)                                                \u001b[31m│\u001b[0m\n",
       "\u001b[31m│\u001b[0m   \u001b[2m1236 \u001b[0m                                                                                          \u001b[31m│\u001b[0m\n",
       "\u001b[31m│\u001b[0m                                                                                                  \u001b[31m│\u001b[0m\n",
       "\u001b[31m│\u001b[0m \u001b[2;33m/home/nmiklaucic/cdv/cdv/\u001b[0m\u001b[1;33mvae.py\u001b[0m:\u001b[94m186\u001b[0m in \u001b[92m__call__\u001b[0m                                                  \u001b[31m│\u001b[0m\n",
       "\u001b[31m│\u001b[0m                                                                                                  \u001b[31m│\u001b[0m\n",
       "\u001b[31m│\u001b[0m   \u001b[2m183 \u001b[0m\u001b[2m│   \u001b[0m                                                                                       \u001b[31m│\u001b[0m\n",
       "\u001b[31m│\u001b[0m   \u001b[2m184 \u001b[0m\u001b[2m│   \u001b[0m\u001b[94mdef\u001b[0m \u001b[92m__call__\u001b[0m(\u001b[96mself\u001b[0m, cg: CrystalGraphs, ctx: Context):                                   \u001b[31m│\u001b[0m\n",
       "\u001b[31m│\u001b[0m   \u001b[2m185 \u001b[0m\u001b[2m│   │   \u001b[0m\u001b[2m# debug_structure(cg=cg)\u001b[0m                                                           \u001b[31m│\u001b[0m\n",
       "\u001b[31m│\u001b[0m \u001b[31m❱ \u001b[0m186 \u001b[2m│   │   \u001b[0mz = \u001b[96mself\u001b[0m.encoder(cg, ctx)                                                          \u001b[31m│\u001b[0m\n",
       "\u001b[31m│\u001b[0m   \u001b[2m187 \u001b[0m\u001b[2m│   │   \u001b[0meps, noisy_cg = \u001b[96mself\u001b[0m.add_coord_noise(cg, ctx)                                      \u001b[31m│\u001b[0m\n",
       "\u001b[31m│\u001b[0m   \u001b[2m188 \u001b[0m\u001b[2m│   │   \u001b[0m\u001b[2m# debug_stat(z=z, eps=eps, noisy_cg=noisy_cg)\u001b[0m                                      \u001b[31m│\u001b[0m\n",
       "\u001b[31m│\u001b[0m   \u001b[2m189 \u001b[0m\u001b[2m│   │   \u001b[0meps_rec = \u001b[96mself\u001b[0m.decoder(noisy_cg, z, ctx)                                           \u001b[31m│\u001b[0m\n",
       "\u001b[31m│\u001b[0m                                                                                                  \u001b[31m│\u001b[0m\n",
       "\u001b[31m│\u001b[0m \u001b[2;33m/home/nmiklaucic/miniconda3/envs/avid/lib/python3.12/site-packages/flax/linen/\u001b[0m\u001b[1;33mmodule.py\u001b[0m:\u001b[94m701\u001b[0m in   \u001b[31m│\u001b[0m\n",
       "\u001b[31m│\u001b[0m \u001b[92mwrapped_module_method\u001b[0m                                                                            \u001b[31m│\u001b[0m\n",
       "\u001b[31m│\u001b[0m                                                                                                  \u001b[31m│\u001b[0m\n",
       "\u001b[31m│\u001b[0m   \u001b[2m 698 \u001b[0m\u001b[2m│   \u001b[0m\u001b[2m# otherwise call the wrapped function as is.\u001b[0m                                          \u001b[31m│\u001b[0m\n",
       "\u001b[31m│\u001b[0m   \u001b[2m 699 \u001b[0m\u001b[2m│   \u001b[0m\u001b[94mif\u001b[0m args \u001b[95mand\u001b[0m \u001b[96misinstance\u001b[0m(args[\u001b[94m0\u001b[0m], Module):                                              \u001b[31m│\u001b[0m\n",
       "\u001b[31m│\u001b[0m   \u001b[2m 700 \u001b[0m\u001b[2m│     \u001b[0m\u001b[96mself\u001b[0m, args = args[\u001b[94m0\u001b[0m], args[\u001b[94m1\u001b[0m:]                                                      \u001b[31m│\u001b[0m\n",
       "\u001b[31m│\u001b[0m \u001b[31m❱ \u001b[0m 701 \u001b[2m│     \u001b[0m\u001b[94mreturn\u001b[0m \u001b[96mself\u001b[0m._call_wrapped_method(fun, args, kwargs)                                 \u001b[31m│\u001b[0m\n",
       "\u001b[31m│\u001b[0m   \u001b[2m 702 \u001b[0m\u001b[2m│   \u001b[0m\u001b[94melse\u001b[0m:                                                                                 \u001b[31m│\u001b[0m\n",
       "\u001b[31m│\u001b[0m   \u001b[2m 703 \u001b[0m\u001b[2m│     \u001b[0m\u001b[94mreturn\u001b[0m fun(*args, **kwargs)                                                         \u001b[31m│\u001b[0m\n",
       "\u001b[31m│\u001b[0m   \u001b[2m 704 \u001b[0m                                                                                          \u001b[31m│\u001b[0m\n",
       "\u001b[31m│\u001b[0m                                                                                                  \u001b[31m│\u001b[0m\n",
       "\u001b[31m│\u001b[0m \u001b[2;33m/home/nmiklaucic/miniconda3/envs/avid/lib/python3.12/site-packages/flax/linen/\u001b[0m\u001b[1;33mmodule.py\u001b[0m:\u001b[94m1233\u001b[0m in  \u001b[31m│\u001b[0m\n",
       "\u001b[31m│\u001b[0m \u001b[92m_call_wrapped_method\u001b[0m                                                                             \u001b[31m│\u001b[0m\n",
       "\u001b[31m│\u001b[0m                                                                                                  \u001b[31m│\u001b[0m\n",
       "\u001b[31m│\u001b[0m   \u001b[2m1230 \u001b[0m\u001b[2m│     \u001b[0m\u001b[2m# call method\u001b[0m                                                                       \u001b[31m│\u001b[0m\n",
       "\u001b[31m│\u001b[0m   \u001b[2m1231 \u001b[0m\u001b[2m│     \u001b[0m\u001b[94mif\u001b[0m _use_named_call:                                                                 \u001b[31m│\u001b[0m\n",
       "\u001b[31m│\u001b[0m   \u001b[2m1232 \u001b[0m\u001b[2m│   │   \u001b[0m\u001b[94mwith\u001b[0m jax.named_scope(_derive_profiling_name(\u001b[96mself\u001b[0m, fun)):                          \u001b[31m│\u001b[0m\n",
       "\u001b[31m│\u001b[0m \u001b[31m❱ \u001b[0m1233 \u001b[2m│   │     \u001b[0my = run_fun(\u001b[96mself\u001b[0m, *args, **kwargs)                                              \u001b[31m│\u001b[0m\n",
       "\u001b[31m│\u001b[0m   \u001b[2m1234 \u001b[0m\u001b[2m│     \u001b[0m\u001b[94melse\u001b[0m:                                                                               \u001b[31m│\u001b[0m\n",
       "\u001b[31m│\u001b[0m   \u001b[2m1235 \u001b[0m\u001b[2m│   │   \u001b[0my = run_fun(\u001b[96mself\u001b[0m, *args, **kwargs)                                                \u001b[31m│\u001b[0m\n",
       "\u001b[31m│\u001b[0m   \u001b[2m1236 \u001b[0m                                                                                          \u001b[31m│\u001b[0m\n",
       "\u001b[31m│\u001b[0m                                                                                                  \u001b[31m│\u001b[0m\n",
       "\u001b[31m│\u001b[0m \u001b[2;33m/home/nmiklaucic/cdv/cdv/\u001b[0m\u001b[1;33mvae.py\u001b[0m:\u001b[94m132\u001b[0m in \u001b[92m__call__\u001b[0m                                                  \u001b[31m│\u001b[0m\n",
       "\u001b[31m│\u001b[0m                                                                                                  \u001b[31m│\u001b[0m\n",
       "\u001b[31m│\u001b[0m   \u001b[2m129 \u001b[0m\u001b[2m│   │   \u001b[0m\u001b[96mself\u001b[0m.norm = nn.LayerNorm(use_scale=\u001b[94mFalse\u001b[0m)                                          \u001b[31m│\u001b[0m\n",
       "\u001b[31m│\u001b[0m   \u001b[2m130 \u001b[0m\u001b[2m│   \u001b[0m                                                                                       \u001b[31m│\u001b[0m\n",
       "\u001b[31m│\u001b[0m   \u001b[2m131 \u001b[0m\u001b[2m│   \u001b[0m\u001b[94mdef\u001b[0m \u001b[92m__call__\u001b[0m(\u001b[96mself\u001b[0m, cg: CrystalGraphs, ctx: Context) -> LatentOutput:                   \u001b[31m│\u001b[0m\n",
       "\u001b[31m│\u001b[0m \u001b[31m❱ \u001b[0m132 \u001b[2m│   │   \u001b[0mgraph_out, node_out = \u001b[96mself\u001b[0m.encoder(cg, ctx)                                        \u001b[31m│\u001b[0m\n",
       "\u001b[31m│\u001b[0m   \u001b[2m133 \u001b[0m\u001b[2m│   │   \u001b[0m\u001b[2m# in future, maybe this could have other irreps, but for now just scalars\u001b[0m          \u001b[31m│\u001b[0m\n",
       "\u001b[31m│\u001b[0m   \u001b[2m134 \u001b[0m\u001b[2m│   │   \u001b[0m\u001b[94massert\u001b[0m node_out \u001b[95mis\u001b[0m \u001b[94mNone\u001b[0m                                                            \u001b[31m│\u001b[0m\n",
       "\u001b[31m│\u001b[0m   \u001b[2m135 \u001b[0m\u001b[2m│   │   \u001b[0m\u001b[94massert\u001b[0m graph_out.irreps.is_scalar()                                                \u001b[31m│\u001b[0m\n",
       "\u001b[31m│\u001b[0m                                                                                                  \u001b[31m│\u001b[0m\n",
       "\u001b[31m│\u001b[0m \u001b[2;33m/home/nmiklaucic/miniconda3/envs/avid/lib/python3.12/site-packages/flax/linen/\u001b[0m\u001b[1;33mmodule.py\u001b[0m:\u001b[94m701\u001b[0m in   \u001b[31m│\u001b[0m\n",
       "\u001b[31m│\u001b[0m \u001b[92mwrapped_module_method\u001b[0m                                                                            \u001b[31m│\u001b[0m\n",
       "\u001b[31m│\u001b[0m                                                                                                  \u001b[31m│\u001b[0m\n",
       "\u001b[31m│\u001b[0m   \u001b[2m 698 \u001b[0m\u001b[2m│   \u001b[0m\u001b[2m# otherwise call the wrapped function as is.\u001b[0m                                          \u001b[31m│\u001b[0m\n",
       "\u001b[31m│\u001b[0m   \u001b[2m 699 \u001b[0m\u001b[2m│   \u001b[0m\u001b[94mif\u001b[0m args \u001b[95mand\u001b[0m \u001b[96misinstance\u001b[0m(args[\u001b[94m0\u001b[0m], Module):                                              \u001b[31m│\u001b[0m\n",
       "\u001b[31m│\u001b[0m   \u001b[2m 700 \u001b[0m\u001b[2m│     \u001b[0m\u001b[96mself\u001b[0m, args = args[\u001b[94m0\u001b[0m], args[\u001b[94m1\u001b[0m:]                                                      \u001b[31m│\u001b[0m\n",
       "\u001b[31m│\u001b[0m \u001b[31m❱ \u001b[0m 701 \u001b[2m│     \u001b[0m\u001b[94mreturn\u001b[0m \u001b[96mself\u001b[0m._call_wrapped_method(fun, args, kwargs)                                 \u001b[31m│\u001b[0m\n",
       "\u001b[31m│\u001b[0m   \u001b[2m 702 \u001b[0m\u001b[2m│   \u001b[0m\u001b[94melse\u001b[0m:                                                                                 \u001b[31m│\u001b[0m\n",
       "\u001b[31m│\u001b[0m   \u001b[2m 703 \u001b[0m\u001b[2m│     \u001b[0m\u001b[94mreturn\u001b[0m fun(*args, **kwargs)                                                         \u001b[31m│\u001b[0m\n",
       "\u001b[31m│\u001b[0m   \u001b[2m 704 \u001b[0m                                                                                          \u001b[31m│\u001b[0m\n",
       "\u001b[31m│\u001b[0m                                                                                                  \u001b[31m│\u001b[0m\n",
       "\u001b[31m│\u001b[0m \u001b[2;33m/home/nmiklaucic/miniconda3/envs/avid/lib/python3.12/site-packages/flax/linen/\u001b[0m\u001b[1;33mmodule.py\u001b[0m:\u001b[94m1233\u001b[0m in  \u001b[31m│\u001b[0m\n",
       "\u001b[31m│\u001b[0m \u001b[92m_call_wrapped_method\u001b[0m                                                                             \u001b[31m│\u001b[0m\n",
       "\u001b[31m│\u001b[0m                                                                                                  \u001b[31m│\u001b[0m\n",
       "\u001b[31m│\u001b[0m   \u001b[2m1230 \u001b[0m\u001b[2m│     \u001b[0m\u001b[2m# call method\u001b[0m                                                                       \u001b[31m│\u001b[0m\n",
       "\u001b[31m│\u001b[0m   \u001b[2m1231 \u001b[0m\u001b[2m│     \u001b[0m\u001b[94mif\u001b[0m _use_named_call:                                                                 \u001b[31m│\u001b[0m\n",
       "\u001b[31m│\u001b[0m   \u001b[2m1232 \u001b[0m\u001b[2m│   │   \u001b[0m\u001b[94mwith\u001b[0m jax.named_scope(_derive_profiling_name(\u001b[96mself\u001b[0m, fun)):                          \u001b[31m│\u001b[0m\n",
       "\u001b[31m│\u001b[0m \u001b[31m❱ \u001b[0m1233 \u001b[2m│   │     \u001b[0my = run_fun(\u001b[96mself\u001b[0m, *args, **kwargs)                                              \u001b[31m│\u001b[0m\n",
       "\u001b[31m│\u001b[0m   \u001b[2m1234 \u001b[0m\u001b[2m│     \u001b[0m\u001b[94melse\u001b[0m:                                                                               \u001b[31m│\u001b[0m\n",
       "\u001b[31m│\u001b[0m   \u001b[2m1235 \u001b[0m\u001b[2m│   │   \u001b[0my = run_fun(\u001b[96mself\u001b[0m, *args, **kwargs)                                                \u001b[31m│\u001b[0m\n",
       "\u001b[31m│\u001b[0m   \u001b[2m1236 \u001b[0m                                                                                          \u001b[31m│\u001b[0m\n",
       "\u001b[31m│\u001b[0m                                                                                                  \u001b[31m│\u001b[0m\n",
       "\u001b[31m│\u001b[0m \u001b[2;33m/home/nmiklaucic/cdv/cdv/\u001b[0m\u001b[1;33mmace.py\u001b[0m:\u001b[94m872\u001b[0m in \u001b[92m__call__\u001b[0m                                                 \u001b[31m│\u001b[0m\n",
       "\u001b[31m│\u001b[0m                                                                                                  \u001b[31m│\u001b[0m\n",
       "\u001b[31m│\u001b[0m   \u001b[2m 869 \u001b[0m\u001b[2m│   │   \u001b[0mctx: Context,                                                                     \u001b[31m│\u001b[0m\n",
       "\u001b[31m│\u001b[0m   \u001b[2m 870 \u001b[0m\u001b[2m│   │   \u001b[0mglobal_feats: Float[Array, \u001b[33m'\u001b[0m\u001b[33mgraphs latent\u001b[0m\u001b[33m'\u001b[0m] | \u001b[94mNone\u001b[0m = \u001b[94mNone\u001b[0m,                        \u001b[31m│\u001b[0m\n",
       "\u001b[31m│\u001b[0m   \u001b[2m 871 \u001b[0m\u001b[2m│   \u001b[0m):                                                                                    \u001b[31m│\u001b[0m\n",
       "\u001b[31m│\u001b[0m \u001b[31m❱ \u001b[0m 872 \u001b[2m│   │   \u001b[0mvecs = edge_vecs(cg)                                                              \u001b[31m│\u001b[0m\n",
       "\u001b[31m│\u001b[0m   \u001b[2m 873 \u001b[0m\u001b[2m│   │   \u001b[0m                                                                                  \u001b[31m│\u001b[0m\n",
       "\u001b[31m│\u001b[0m   \u001b[2m 874 \u001b[0m\u001b[2m│   │   \u001b[0m\u001b[94mif\u001b[0m global_feats \u001b[95mis\u001b[0m \u001b[94mNone\u001b[0m:                                                          \u001b[31m│\u001b[0m\n",
       "\u001b[31m│\u001b[0m   \u001b[2m 875 \u001b[0m\u001b[2m│   │   │   \u001b[0mextra_node_feats = \u001b[94mNone\u001b[0m                                                       \u001b[31m│\u001b[0m\n",
       "\u001b[31m│\u001b[0m                                                                                                  \u001b[31m│\u001b[0m\n",
       "\u001b[31m│\u001b[0m \u001b[2;33m/home/nmiklaucic/cdv/cdv/\u001b[0m\u001b[1;33mlayers.py\u001b[0m:\u001b[94m38\u001b[0m in \u001b[92medge_vecs\u001b[0m                                               \u001b[31m│\u001b[0m\n",
       "\u001b[31m│\u001b[0m                                                                                                  \u001b[31m│\u001b[0m\n",
       "\u001b[31m│\u001b[0m   \u001b[2m 35 \u001b[0m                                                                                           \u001b[31m│\u001b[0m\n",
       "\u001b[31m│\u001b[0m   \u001b[2m 36 \u001b[0m                                                                                           \u001b[31m│\u001b[0m\n",
       "\u001b[31m│\u001b[0m   \u001b[2m 37 \u001b[0m\u001b[94mdef\u001b[0m \u001b[92medge_vecs\u001b[0m(cg):                                                                         \u001b[31m│\u001b[0m\n",
       "\u001b[31m│\u001b[0m \u001b[31m❱ \u001b[0m 38 \u001b[2m│   \u001b[0msend_pos = cg.nodes.cart[cg.senders]                                                   \u001b[31m│\u001b[0m\n",
       "\u001b[31m│\u001b[0m   \u001b[2m 39 \u001b[0m\u001b[2m│   \u001b[0moffsets = EinsOp(\u001b[33m'\u001b[0m\u001b[33me abc xyz, e abc -> e xyz\u001b[0m\u001b[33m'\u001b[0m)(                                         \u001b[31m│\u001b[0m\n",
       "\u001b[31m│\u001b[0m   \u001b[2m 40 \u001b[0m\u001b[2m│   │   \u001b[0mcg.graph_data.lat[cg.edges.graph_i], cg.edges.to_jimage                            \u001b[31m│\u001b[0m\n",
       "\u001b[31m│\u001b[0m   \u001b[2m 41 \u001b[0m\u001b[2m│   \u001b[0m)                                                                                      \u001b[31m│\u001b[0m\n",
       "\u001b[31m│\u001b[0m                                                                                                  \u001b[31m│\u001b[0m\n",
       "\u001b[31m│\u001b[0m \u001b[2;33m/home/nmiklaucic/miniconda3/envs/avid/lib/python3.12/site-packages/jax/_src/\u001b[0m\u001b[1;33marray.py\u001b[0m:\u001b[94m346\u001b[0m in      \u001b[31m│\u001b[0m\n",
       "\u001b[31m│\u001b[0m \u001b[92m__getitem__\u001b[0m                                                                                      \u001b[31m│\u001b[0m\n",
       "\u001b[31m│\u001b[0m                                                                                                  \u001b[31m│\u001b[0m\n",
       "\u001b[31m│\u001b[0m   \u001b[2m343 \u001b[0m\u001b[2m│   │   \u001b[0m\u001b[94melse\u001b[0m:                                                                              \u001b[31m│\u001b[0m\n",
       "\u001b[31m│\u001b[0m   \u001b[2m344 \u001b[0m\u001b[2m│   │     \u001b[0m\u001b[94mreturn\u001b[0m out                                                                       \u001b[31m│\u001b[0m\n",
       "\u001b[31m│\u001b[0m   \u001b[2m345 \u001b[0m\u001b[2m│   \u001b[0m                                                                                       \u001b[31m│\u001b[0m\n",
       "\u001b[31m│\u001b[0m \u001b[31m❱ \u001b[0m346 \u001b[2m│   \u001b[0m\u001b[94mreturn\u001b[0m lax_numpy._rewriting_take(\u001b[96mself\u001b[0m, idx)                                            \u001b[31m│\u001b[0m\n",
       "\u001b[31m│\u001b[0m   \u001b[2m347 \u001b[0m\u001b[2m  \u001b[0m                                                                                         \u001b[31m│\u001b[0m\n",
       "\u001b[31m│\u001b[0m   \u001b[2m348 \u001b[0m\u001b[2m  \u001b[0m\u001b[94mdef\u001b[0m \u001b[92m__iter__\u001b[0m(\u001b[96mself\u001b[0m):                                                                      \u001b[31m│\u001b[0m\n",
       "\u001b[31m│\u001b[0m   \u001b[2m349 \u001b[0m\u001b[2m│   \u001b[0m\u001b[94mif\u001b[0m \u001b[96mself\u001b[0m.ndim == \u001b[94m0\u001b[0m:                                                                     \u001b[31m│\u001b[0m\n",
       "\u001b[31m│\u001b[0m                                                                                                  \u001b[31m│\u001b[0m\n",
       "\u001b[31m│\u001b[0m \u001b[2;33m/home/nmiklaucic/miniconda3/envs/avid/lib/python3.12/site-packages/jax/_src/numpy/\u001b[0m\u001b[1;33mlax_numpy.py\u001b[0m:\u001b[94m4\u001b[0m \u001b[31m│\u001b[0m\n",
       "\u001b[31m│\u001b[0m \u001b[94m590\u001b[0m in \u001b[92m_rewriting_take\u001b[0m                                                                           \u001b[31m│\u001b[0m\n",
       "\u001b[31m│\u001b[0m                                                                                                  \u001b[31m│\u001b[0m\n",
       "\u001b[31m│\u001b[0m   \u001b[2m4587 \u001b[0m\u001b[2m│   │   \u001b[0m\u001b[94mreturn\u001b[0m lax.dynamic_index_in_dim(arr, idx, keepdims=\u001b[94mFalse\u001b[0m)                         \u001b[31m│\u001b[0m\n",
       "\u001b[31m│\u001b[0m   \u001b[2m4588 \u001b[0m\u001b[2m  \u001b[0m                                                                                        \u001b[31m│\u001b[0m\n",
       "\u001b[31m│\u001b[0m   \u001b[2m4589 \u001b[0m\u001b[2m  \u001b[0mtreedef, static_idx, dynamic_idx = _split_index_for_jit(idx, arr.shape)                 \u001b[31m│\u001b[0m\n",
       "\u001b[31m│\u001b[0m \u001b[31m❱ \u001b[0m4590 \u001b[2m  \u001b[0m\u001b[94mreturn\u001b[0m _gather(arr, treedef, static_idx, dynamic_idx, indices_are_sorted,               \u001b[31m│\u001b[0m\n",
       "\u001b[31m│\u001b[0m   \u001b[2m4591 \u001b[0m\u001b[2m│   │   │   │    \u001b[0munique_indices, mode, fill_value)                                        \u001b[31m│\u001b[0m\n",
       "\u001b[31m│\u001b[0m   \u001b[2m4592 \u001b[0m                                                                                          \u001b[31m│\u001b[0m\n",
       "\u001b[31m│\u001b[0m   \u001b[2m4593 \u001b[0m\u001b[2m# TODO(phawkins): re-enable jit after fixing excessive recompilation for\u001b[0m                  \u001b[31m│\u001b[0m\n",
       "\u001b[31m│\u001b[0m                                                                                                  \u001b[31m│\u001b[0m\n",
       "\u001b[31m│\u001b[0m \u001b[2;33m/home/nmiklaucic/miniconda3/envs/avid/lib/python3.12/site-packages/jax/_src/numpy/\u001b[0m\u001b[1;33mlax_numpy.py\u001b[0m:\u001b[94m4\u001b[0m \u001b[31m│\u001b[0m\n",
       "\u001b[31m│\u001b[0m \u001b[94m620\u001b[0m in \u001b[92m_gather\u001b[0m                                                                                   \u001b[31m│\u001b[0m\n",
       "\u001b[31m│\u001b[0m                                                                                                  \u001b[31m│\u001b[0m\n",
       "\u001b[31m│\u001b[0m   \u001b[2m4617 \u001b[0m\u001b[2m  \u001b[0m                                                                                        \u001b[31m│\u001b[0m\n",
       "\u001b[31m│\u001b[0m   \u001b[2m4618 \u001b[0m\u001b[2m  \u001b[0m\u001b[2m# We avoid generating a gather when indexer.gather_indices.size is empty.\u001b[0m               \u001b[31m│\u001b[0m\n",
       "\u001b[31m│\u001b[0m   \u001b[2m4619 \u001b[0m\u001b[2m  \u001b[0m\u001b[94mif\u001b[0m \u001b[95mnot\u001b[0m core.is_empty_shape(indexer.gather_indices.shape):                               \u001b[31m│\u001b[0m\n",
       "\u001b[31m│\u001b[0m \u001b[31m❱ \u001b[0m4620 \u001b[2m│   \u001b[0my = lax.gather(                                                                       \u001b[31m│\u001b[0m\n",
       "\u001b[31m│\u001b[0m   \u001b[2m4621 \u001b[0m\u001b[2m│     \u001b[0my, indexer.gather_indices, indexer.dnums, indexer.gather_slice_shape,               \u001b[31m│\u001b[0m\n",
       "\u001b[31m│\u001b[0m   \u001b[2m4622 \u001b[0m\u001b[2m│     \u001b[0munique_indices=unique_indices \u001b[95mor\u001b[0m indexer.unique_indices,                            \u001b[31m│\u001b[0m\n",
       "\u001b[31m│\u001b[0m   \u001b[2m4623 \u001b[0m\u001b[2m│     \u001b[0mindices_are_sorted=indices_are_sorted \u001b[95mor\u001b[0m indexer.indices_are_sorted,                \u001b[31m│\u001b[0m\n",
       "\u001b[31m│\u001b[0m                                                                                                  \u001b[31m│\u001b[0m\n",
       "\u001b[31m│\u001b[0m \u001b[2;33m/home/nmiklaucic/miniconda3/envs/avid/lib/python3.12/site-packages/jax/_src/lax/\u001b[0m\u001b[1;33mslicing.py\u001b[0m:\u001b[94m348\u001b[0m   \u001b[31m│\u001b[0m\n",
       "\u001b[31m│\u001b[0m in \u001b[92mgather\u001b[0m                                                                                        \u001b[31m│\u001b[0m\n",
       "\u001b[31m│\u001b[0m                                                                                                  \u001b[31m│\u001b[0m\n",
       "\u001b[31m│\u001b[0m   \u001b[2m 345 \u001b[0m\u001b[2m│   │   \u001b[0m\u001b[94mraise\u001b[0m \u001b[96mValueError\u001b[0m(\u001b[33mf\u001b[0m\u001b[33m\"\u001b[0m\u001b[33mUnsupported dtype for gather fill_value \u001b[0m\u001b[33m{\u001b[0mdtype\u001b[33m}\u001b[0m\u001b[33m\"\u001b[0m)              \u001b[31m│\u001b[0m\n",
       "\u001b[31m│\u001b[0m   \u001b[2m 346 \u001b[0m\u001b[2m  \u001b[0m\u001b[94melse\u001b[0m:                                                                                   \u001b[31m│\u001b[0m\n",
       "\u001b[31m│\u001b[0m   \u001b[2m 347 \u001b[0m\u001b[2m│   \u001b[0mfill_value = \u001b[94mNone\u001b[0m                                                                     \u001b[31m│\u001b[0m\n",
       "\u001b[31m│\u001b[0m \u001b[31m❱ \u001b[0m 348 \u001b[2m  \u001b[0m\u001b[94mreturn\u001b[0m gather_p.bind(                                                                   \u001b[31m│\u001b[0m\n",
       "\u001b[31m│\u001b[0m   \u001b[2m 349 \u001b[0m\u001b[2m│     \u001b[0moperand, start_indices, dimension_numbers=dimension_numbers,                        \u001b[31m│\u001b[0m\n",
       "\u001b[31m│\u001b[0m   \u001b[2m 350 \u001b[0m\u001b[2m│     \u001b[0mslice_sizes=core.canonicalize_shape(slice_sizes),                                   \u001b[31m│\u001b[0m\n",
       "\u001b[31m│\u001b[0m   \u001b[2m 351 \u001b[0m\u001b[2m│     \u001b[0munique_indices=\u001b[96mbool\u001b[0m(unique_indices),                                                \u001b[31m│\u001b[0m\n",
       "\u001b[31m│\u001b[0m                                                                                                  \u001b[31m│\u001b[0m\n",
       "\u001b[31m│\u001b[0m \u001b[2;33m/home/nmiklaucic/miniconda3/envs/avid/lib/python3.12/site-packages/jax/_src/\u001b[0m\u001b[1;33mcore.py\u001b[0m:\u001b[94m420\u001b[0m in \u001b[92mbind\u001b[0m  \u001b[31m│\u001b[0m\n",
       "\u001b[31m│\u001b[0m                                                                                                  \u001b[31m│\u001b[0m\n",
       "\u001b[31m│\u001b[0m   \u001b[2m 417 \u001b[0m\u001b[2m  \u001b[0m\u001b[94mdef\u001b[0m \u001b[92mbind\u001b[0m(\u001b[96mself\u001b[0m, *args, **params):                                                        \u001b[31m│\u001b[0m\n",
       "\u001b[31m│\u001b[0m   \u001b[2m 418 \u001b[0m\u001b[2m│   \u001b[0m\u001b[94massert\u001b[0m (\u001b[95mnot\u001b[0m config.enable_checks.value \u001b[95mor\u001b[0m                                             \u001b[31m│\u001b[0m\n",
       "\u001b[31m│\u001b[0m   \u001b[2m 419 \u001b[0m\u001b[2m│   │   │   \u001b[0m\u001b[96mall\u001b[0m(\u001b[96misinstance\u001b[0m(arg, Tracer) \u001b[95mor\u001b[0m valid_jaxtype(arg) \u001b[94mfor\u001b[0m arg \u001b[95min\u001b[0m args)), args     \u001b[31m│\u001b[0m\n",
       "\u001b[31m│\u001b[0m \u001b[31m❱ \u001b[0m 420 \u001b[2m│   \u001b[0m\u001b[94mreturn\u001b[0m \u001b[96mself\u001b[0m.bind_with_trace(find_top_trace(args), args, params)                       \u001b[31m│\u001b[0m\n",
       "\u001b[31m│\u001b[0m   \u001b[2m 421 \u001b[0m\u001b[2m  \u001b[0m                                                                                        \u001b[31m│\u001b[0m\n",
       "\u001b[31m│\u001b[0m   \u001b[2m 422 \u001b[0m\u001b[2m  \u001b[0m\u001b[94mdef\u001b[0m \u001b[92mbind_with_trace\u001b[0m(\u001b[96mself\u001b[0m, trace, args, params):                                         \u001b[31m│\u001b[0m\n",
       "\u001b[31m│\u001b[0m   \u001b[2m 423 \u001b[0m\u001b[2m│   \u001b[0mout = trace.process_primitive(\u001b[96mself\u001b[0m, \u001b[96mmap\u001b[0m(trace.full_raise, args), params)              \u001b[31m│\u001b[0m\n",
       "\u001b[31m│\u001b[0m                                                                                                  \u001b[31m│\u001b[0m\n",
       "\u001b[31m│\u001b[0m \u001b[2;33m/home/nmiklaucic/miniconda3/envs/avid/lib/python3.12/site-packages/jax/_src/\u001b[0m\u001b[1;33mcore.py\u001b[0m:\u001b[94m423\u001b[0m in       \u001b[31m│\u001b[0m\n",
       "\u001b[31m│\u001b[0m \u001b[92mbind_with_trace\u001b[0m                                                                                  \u001b[31m│\u001b[0m\n",
       "\u001b[31m│\u001b[0m                                                                                                  \u001b[31m│\u001b[0m\n",
       "\u001b[31m│\u001b[0m   \u001b[2m 420 \u001b[0m\u001b[2m│   \u001b[0m\u001b[94mreturn\u001b[0m \u001b[96mself\u001b[0m.bind_with_trace(find_top_trace(args), args, params)                       \u001b[31m│\u001b[0m\n",
       "\u001b[31m│\u001b[0m   \u001b[2m 421 \u001b[0m\u001b[2m  \u001b[0m                                                                                        \u001b[31m│\u001b[0m\n",
       "\u001b[31m│\u001b[0m   \u001b[2m 422 \u001b[0m\u001b[2m  \u001b[0m\u001b[94mdef\u001b[0m \u001b[92mbind_with_trace\u001b[0m(\u001b[96mself\u001b[0m, trace, args, params):                                         \u001b[31m│\u001b[0m\n",
       "\u001b[31m│\u001b[0m \u001b[31m❱ \u001b[0m 423 \u001b[2m│   \u001b[0mout = trace.process_primitive(\u001b[96mself\u001b[0m, \u001b[96mmap\u001b[0m(trace.full_raise, args), params)              \u001b[31m│\u001b[0m\n",
       "\u001b[31m│\u001b[0m   \u001b[2m 424 \u001b[0m\u001b[2m│   \u001b[0m\u001b[94mreturn\u001b[0m \u001b[96mmap\u001b[0m(full_lower, out) \u001b[94mif\u001b[0m \u001b[96mself\u001b[0m.multiple_results \u001b[94melse\u001b[0m full_lower(out)             \u001b[31m│\u001b[0m\n",
       "\u001b[31m│\u001b[0m   \u001b[2m 425 \u001b[0m\u001b[2m  \u001b[0m                                                                                        \u001b[31m│\u001b[0m\n",
       "\u001b[31m│\u001b[0m   \u001b[2m 426 \u001b[0m\u001b[2m  \u001b[0m\u001b[94mdef\u001b[0m \u001b[92mdef_impl\u001b[0m(\u001b[96mself\u001b[0m, impl):                                                               \u001b[31m│\u001b[0m\n",
       "\u001b[31m│\u001b[0m                                                                                                  \u001b[31m│\u001b[0m\n",
       "\u001b[31m│\u001b[0m \u001b[2;33m/home/nmiklaucic/miniconda3/envs/avid/lib/python3.12/site-packages/jax/_src/\u001b[0m\u001b[1;33mcore.py\u001b[0m:\u001b[94m913\u001b[0m in       \u001b[31m│\u001b[0m\n",
       "\u001b[31m│\u001b[0m \u001b[92mprocess_primitive\u001b[0m                                                                                \u001b[31m│\u001b[0m\n",
       "\u001b[31m│\u001b[0m                                                                                                  \u001b[31m│\u001b[0m\n",
       "\u001b[31m│\u001b[0m   \u001b[2m 910 \u001b[0m\u001b[2m  \u001b[0mlift = sublift = pure                                                                   \u001b[31m│\u001b[0m\n",
       "\u001b[31m│\u001b[0m   \u001b[2m 911 \u001b[0m\u001b[2m  \u001b[0m                                                                                        \u001b[31m│\u001b[0m\n",
       "\u001b[31m│\u001b[0m   \u001b[2m 912 \u001b[0m\u001b[2m  \u001b[0m\u001b[94mdef\u001b[0m \u001b[92mprocess_primitive\u001b[0m(\u001b[96mself\u001b[0m, primitive, tracers, params):                                \u001b[31m│\u001b[0m\n",
       "\u001b[31m│\u001b[0m \u001b[31m❱ \u001b[0m 913 \u001b[2m│   \u001b[0m\u001b[94mreturn\u001b[0m primitive.impl(*tracers, **params)                                             \u001b[31m│\u001b[0m\n",
       "\u001b[31m│\u001b[0m   \u001b[2m 914 \u001b[0m\u001b[2m  \u001b[0m                                                                                        \u001b[31m│\u001b[0m\n",
       "\u001b[31m│\u001b[0m   \u001b[2m 915 \u001b[0m\u001b[2m  \u001b[0m\u001b[94mdef\u001b[0m \u001b[92mprocess_call\u001b[0m(\u001b[96mself\u001b[0m, primitive, f, tracers, params):                                  \u001b[31m│\u001b[0m\n",
       "\u001b[31m│\u001b[0m   \u001b[2m 916 \u001b[0m\u001b[2m│   \u001b[0m\u001b[94mreturn\u001b[0m primitive.impl(f, *tracers, **params)                                          \u001b[31m│\u001b[0m\n",
       "\u001b[31m│\u001b[0m                                                                                                  \u001b[31m│\u001b[0m\n",
       "\u001b[31m│\u001b[0m \u001b[2;33m/home/nmiklaucic/miniconda3/envs/avid/lib/python3.12/site-packages/jax/_src/\u001b[0m\u001b[1;33mdispatch.py\u001b[0m:\u001b[94m87\u001b[0m in    \u001b[31m│\u001b[0m\n",
       "\u001b[31m│\u001b[0m \u001b[92mapply_primitive\u001b[0m                                                                                  \u001b[31m│\u001b[0m\n",
       "\u001b[31m│\u001b[0m                                                                                                  \u001b[31m│\u001b[0m\n",
       "\u001b[31m│\u001b[0m   \u001b[2m 84 \u001b[0m\u001b[2m  \u001b[0m\u001b[94mif\u001b[0m xla_extension_version >= \u001b[94m218\u001b[0m:                                                         \u001b[31m│\u001b[0m\n",
       "\u001b[31m│\u001b[0m   \u001b[2m 85 \u001b[0m\u001b[2m│   \u001b[0mprev = lib.jax_jit.swap_thread_local_state_disable_jit(\u001b[94mFalse\u001b[0m)                          \u001b[31m│\u001b[0m\n",
       "\u001b[31m│\u001b[0m   \u001b[2m 86 \u001b[0m\u001b[2m│   \u001b[0m\u001b[94mtry\u001b[0m:                                                                                   \u001b[31m│\u001b[0m\n",
       "\u001b[31m│\u001b[0m \u001b[31m❱ \u001b[0m 87 \u001b[2m│     \u001b[0mouts = fun(*args)                                                                    \u001b[31m│\u001b[0m\n",
       "\u001b[31m│\u001b[0m   \u001b[2m 88 \u001b[0m\u001b[2m│   \u001b[0m\u001b[94mfinally\u001b[0m:                                                                               \u001b[31m│\u001b[0m\n",
       "\u001b[31m│\u001b[0m   \u001b[2m 89 \u001b[0m\u001b[2m│     \u001b[0mlib.jax_jit.swap_thread_local_state_disable_jit(prev)                                \u001b[31m│\u001b[0m\n",
       "\u001b[31m│\u001b[0m   \u001b[2m 90 \u001b[0m\u001b[2m  \u001b[0m\u001b[94melse\u001b[0m:                                                                                    \u001b[31m│\u001b[0m\n",
       "\u001b[31m│\u001b[0m                                                                                                  \u001b[31m│\u001b[0m\n",
       "\u001b[31m│\u001b[0m \u001b[2;33m/home/nmiklaucic/miniconda3/envs/avid/lib/python3.12/site-packages/jax/_src/\u001b[0m\u001b[1;33mtraceback_util.py\u001b[0m:\u001b[94m17\u001b[0m \u001b[31m│\u001b[0m\n",
       "\u001b[31m│\u001b[0m \u001b[94m9\u001b[0m in \u001b[92mreraise_with_filtered_traceback\u001b[0m                                                             \u001b[31m│\u001b[0m\n",
       "\u001b[31m│\u001b[0m                                                                                                  \u001b[31m│\u001b[0m\n",
       "\u001b[31m│\u001b[0m   \u001b[2m176 \u001b[0m\u001b[2m  \u001b[0m\u001b[94mdef\u001b[0m \u001b[92mreraise_with_filtered_traceback\u001b[0m(*args, **kwargs):                                    \u001b[31m│\u001b[0m\n",
       "\u001b[31m│\u001b[0m   \u001b[2m177 \u001b[0m\u001b[2m│   \u001b[0m__tracebackhide__ = \u001b[94mTrue\u001b[0m                                                               \u001b[31m│\u001b[0m\n",
       "\u001b[31m│\u001b[0m   \u001b[2m178 \u001b[0m\u001b[2m│   \u001b[0m\u001b[94mtry\u001b[0m:                                                                                   \u001b[31m│\u001b[0m\n",
       "\u001b[31m│\u001b[0m \u001b[31m❱ \u001b[0m179 \u001b[2m│     \u001b[0m\u001b[94mreturn\u001b[0m fun(*args, **kwargs)                                                          \u001b[31m│\u001b[0m\n",
       "\u001b[31m│\u001b[0m   \u001b[2m180 \u001b[0m\u001b[2m│   \u001b[0m\u001b[94mexcept\u001b[0m \u001b[96mException\u001b[0m \u001b[94mas\u001b[0m e:                                                                 \u001b[31m│\u001b[0m\n",
       "\u001b[31m│\u001b[0m   \u001b[2m181 \u001b[0m\u001b[2m│     \u001b[0mmode = _filtering_mode()                                                             \u001b[31m│\u001b[0m\n",
       "\u001b[31m│\u001b[0m   \u001b[2m182 \u001b[0m\u001b[2m│     \u001b[0m\u001b[94mif\u001b[0m _is_under_reraiser(e) \u001b[95mor\u001b[0m mode == \u001b[33m\"\u001b[0m\u001b[33moff\u001b[0m\u001b[33m\"\u001b[0m:                                           \u001b[31m│\u001b[0m\n",
       "\u001b[31m│\u001b[0m                                                                                                  \u001b[31m│\u001b[0m\n",
       "\u001b[31m│\u001b[0m \u001b[2;33m/home/nmiklaucic/miniconda3/envs/avid/lib/python3.12/site-packages/jax/_src/\u001b[0m\u001b[1;33mpjit.py\u001b[0m:\u001b[94m248\u001b[0m in       \u001b[31m│\u001b[0m\n",
       "\u001b[31m│\u001b[0m \u001b[92mcache_miss\u001b[0m                                                                                       \u001b[31m│\u001b[0m\n",
       "\u001b[31m│\u001b[0m                                                                                                  \u001b[31m│\u001b[0m\n",
       "\u001b[31m│\u001b[0m   \u001b[2m 245 \u001b[0m\u001b[2m  \u001b[0m                                                                                        \u001b[31m│\u001b[0m\n",
       "\u001b[31m│\u001b[0m   \u001b[2m 246 \u001b[0m\u001b[2m  \u001b[0m\u001b[1;95m@api_boundary\u001b[0m                                                                           \u001b[31m│\u001b[0m\n",
       "\u001b[31m│\u001b[0m   \u001b[2m 247 \u001b[0m\u001b[2m  \u001b[0m\u001b[94mdef\u001b[0m \u001b[92mcache_miss\u001b[0m(*args, **kwargs):                                                        \u001b[31m│\u001b[0m\n",
       "\u001b[31m│\u001b[0m \u001b[31m❱ \u001b[0m 248 \u001b[2m│   \u001b[0mouts, out_flat, out_tree, args_flat, jaxpr, attrs_tracked = _python_pjit_helper(      \u001b[31m│\u001b[0m\n",
       "\u001b[31m│\u001b[0m   \u001b[2m 249 \u001b[0m\u001b[2m│   │   \u001b[0mfun, infer_params_fn, *args, **kwargs)                                            \u001b[31m│\u001b[0m\n",
       "\u001b[31m│\u001b[0m   \u001b[2m 250 \u001b[0m\u001b[2m│   \u001b[0mexecutable = _read_most_recent_pjit_call_executable(jaxpr)                            \u001b[31m│\u001b[0m\n",
       "\u001b[31m│\u001b[0m   \u001b[2m 251 \u001b[0m\u001b[2m│   \u001b[0mmaybe_fastpath_data = _get_fastpath_data(                                             \u001b[31m│\u001b[0m\n",
       "\u001b[31m│\u001b[0m                                                                                                  \u001b[31m│\u001b[0m\n",
       "\u001b[31m│\u001b[0m \u001b[2;33m/home/nmiklaucic/miniconda3/envs/avid/lib/python3.12/site-packages/jax/_src/\u001b[0m\u001b[1;33mpjit.py\u001b[0m:\u001b[94m143\u001b[0m in       \u001b[31m│\u001b[0m\n",
       "\u001b[31m│\u001b[0m \u001b[92m_python_pjit_helper\u001b[0m                                                                              \u001b[31m│\u001b[0m\n",
       "\u001b[31m│\u001b[0m                                                                                                  \u001b[31m│\u001b[0m\n",
       "\u001b[31m│\u001b[0m   \u001b[2m 140 \u001b[0m\u001b[2m│   \u001b[0minit_states = _get_states(attrs_tracked)                                              \u001b[31m│\u001b[0m\n",
       "\u001b[31m│\u001b[0m   \u001b[2m 141 \u001b[0m\u001b[2m│   \u001b[0margs_flat = [*init_states, *args_flat]                                                \u001b[31m│\u001b[0m\n",
       "\u001b[31m│\u001b[0m   \u001b[2m 142 \u001b[0m\u001b[2m  \u001b[0m\u001b[94mtry\u001b[0m:                                                                                    \u001b[31m│\u001b[0m\n",
       "\u001b[31m│\u001b[0m \u001b[31m❱ \u001b[0m 143 \u001b[2m│   \u001b[0mout_flat = pjit_p.bind(*args_flat, **params)                                          \u001b[31m│\u001b[0m\n",
       "\u001b[31m│\u001b[0m   \u001b[2m 144 \u001b[0m\u001b[2m  \u001b[0m\u001b[94mexcept\u001b[0m pxla.DeviceAssignmentMismatchError \u001b[94mas\u001b[0m e:                                         \u001b[31m│\u001b[0m\n",
       "\u001b[31m│\u001b[0m   \u001b[2m 145 \u001b[0m\u001b[2m│   \u001b[0mfails, = e.args                                                                       \u001b[31m│\u001b[0m\n",
       "\u001b[31m│\u001b[0m   \u001b[2m 146 \u001b[0m\u001b[2m│   \u001b[0mapi_name = \u001b[33m'\u001b[0m\u001b[33mjit\u001b[0m\u001b[33m'\u001b[0m \u001b[94mif\u001b[0m params[\u001b[33m'\u001b[0m\u001b[33mresource_env\u001b[0m\u001b[33m'\u001b[0m] \u001b[95mis\u001b[0m \u001b[94mNone\u001b[0m \u001b[94melse\u001b[0m \u001b[33m'\u001b[0m\u001b[33mpjit\u001b[0m\u001b[33m'\u001b[0m                        \u001b[31m│\u001b[0m\n",
       "\u001b[31m│\u001b[0m                                                                                                  \u001b[31m│\u001b[0m\n",
       "\u001b[31m│\u001b[0m \u001b[2;33m/home/nmiklaucic/miniconda3/envs/avid/lib/python3.12/site-packages/jax/_src/\u001b[0m\u001b[1;33mcore.py\u001b[0m:\u001b[94m2727\u001b[0m in \u001b[92mbind\u001b[0m \u001b[31m│\u001b[0m\n",
       "\u001b[31m│\u001b[0m                                                                                                  \u001b[31m│\u001b[0m\n",
       "\u001b[31m│\u001b[0m   \u001b[2m2724 \u001b[0m\u001b[2m│   │   │   │   │   \u001b[0mdefault=\u001b[94mNone\u001b[0m, key=\u001b[94mlambda\u001b[0m t: \u001b[96mgetattr\u001b[0m(t, \u001b[33m'\u001b[0m\u001b[33mlevel\u001b[0m\u001b[33m'\u001b[0m, -\u001b[94m1\u001b[0m))                  \u001b[31m│\u001b[0m\n",
       "\u001b[31m│\u001b[0m   \u001b[2m2725 \u001b[0m\u001b[2m│   \u001b[0mtop_trace = (top_trace \u001b[94mif\u001b[0m \u001b[95mnot\u001b[0m axis_main \u001b[95mor\u001b[0m axis_main.level < top_trace.level          \u001b[31m│\u001b[0m\n",
       "\u001b[31m│\u001b[0m   \u001b[2m2726 \u001b[0m\u001b[2m│   │   │   │    \u001b[0m\u001b[94melse\u001b[0m axis_main.with_cur_sublevel())                                      \u001b[31m│\u001b[0m\n",
       "\u001b[31m│\u001b[0m \u001b[31m❱ \u001b[0m2727 \u001b[2m│   \u001b[0m\u001b[94mreturn\u001b[0m \u001b[96mself\u001b[0m.bind_with_trace(top_trace, args, params)                                  \u001b[31m│\u001b[0m\n",
       "\u001b[31m│\u001b[0m   \u001b[2m2728 \u001b[0m                                                                                          \u001b[31m│\u001b[0m\n",
       "\u001b[31m│\u001b[0m   \u001b[2m2729 \u001b[0m                                                                                          \u001b[31m│\u001b[0m\n",
       "\u001b[31m│\u001b[0m   \u001b[2m2730 \u001b[0m\u001b[2m# ------------------- Jaxpr checking -------------------\u001b[0m                                  \u001b[31m│\u001b[0m\n",
       "\u001b[31m│\u001b[0m                                                                                                  \u001b[31m│\u001b[0m\n",
       "\u001b[31m│\u001b[0m \u001b[2;33m/home/nmiklaucic/miniconda3/envs/avid/lib/python3.12/site-packages/jax/_src/\u001b[0m\u001b[1;33mcore.py\u001b[0m:\u001b[94m423\u001b[0m in       \u001b[31m│\u001b[0m\n",
       "\u001b[31m│\u001b[0m \u001b[92mbind_with_trace\u001b[0m                                                                                  \u001b[31m│\u001b[0m\n",
       "\u001b[31m│\u001b[0m                                                                                                  \u001b[31m│\u001b[0m\n",
       "\u001b[31m│\u001b[0m   \u001b[2m 420 \u001b[0m\u001b[2m│   \u001b[0m\u001b[94mreturn\u001b[0m \u001b[96mself\u001b[0m.bind_with_trace(find_top_trace(args), args, params)                       \u001b[31m│\u001b[0m\n",
       "\u001b[31m│\u001b[0m   \u001b[2m 421 \u001b[0m\u001b[2m  \u001b[0m                                                                                        \u001b[31m│\u001b[0m\n",
       "\u001b[31m│\u001b[0m   \u001b[2m 422 \u001b[0m\u001b[2m  \u001b[0m\u001b[94mdef\u001b[0m \u001b[92mbind_with_trace\u001b[0m(\u001b[96mself\u001b[0m, trace, args, params):                                         \u001b[31m│\u001b[0m\n",
       "\u001b[31m│\u001b[0m \u001b[31m❱ \u001b[0m 423 \u001b[2m│   \u001b[0mout = trace.process_primitive(\u001b[96mself\u001b[0m, \u001b[96mmap\u001b[0m(trace.full_raise, args), params)              \u001b[31m│\u001b[0m\n",
       "\u001b[31m│\u001b[0m   \u001b[2m 424 \u001b[0m\u001b[2m│   \u001b[0m\u001b[94mreturn\u001b[0m \u001b[96mmap\u001b[0m(full_lower, out) \u001b[94mif\u001b[0m \u001b[96mself\u001b[0m.multiple_results \u001b[94melse\u001b[0m full_lower(out)             \u001b[31m│\u001b[0m\n",
       "\u001b[31m│\u001b[0m   \u001b[2m 425 \u001b[0m\u001b[2m  \u001b[0m                                                                                        \u001b[31m│\u001b[0m\n",
       "\u001b[31m│\u001b[0m   \u001b[2m 426 \u001b[0m\u001b[2m  \u001b[0m\u001b[94mdef\u001b[0m \u001b[92mdef_impl\u001b[0m(\u001b[96mself\u001b[0m, impl):                                                               \u001b[31m│\u001b[0m\n",
       "\u001b[31m│\u001b[0m                                                                                                  \u001b[31m│\u001b[0m\n",
       "\u001b[31m│\u001b[0m \u001b[2;33m/home/nmiklaucic/miniconda3/envs/avid/lib/python3.12/site-packages/jax/_src/\u001b[0m\u001b[1;33mcore.py\u001b[0m:\u001b[94m913\u001b[0m in       \u001b[31m│\u001b[0m\n",
       "\u001b[31m│\u001b[0m \u001b[92mprocess_primitive\u001b[0m                                                                                \u001b[31m│\u001b[0m\n",
       "\u001b[31m│\u001b[0m                                                                                                  \u001b[31m│\u001b[0m\n",
       "\u001b[31m│\u001b[0m   \u001b[2m 910 \u001b[0m\u001b[2m  \u001b[0mlift = sublift = pure                                                                   \u001b[31m│\u001b[0m\n",
       "\u001b[31m│\u001b[0m   \u001b[2m 911 \u001b[0m\u001b[2m  \u001b[0m                                                                                        \u001b[31m│\u001b[0m\n",
       "\u001b[31m│\u001b[0m   \u001b[2m 912 \u001b[0m\u001b[2m  \u001b[0m\u001b[94mdef\u001b[0m \u001b[92mprocess_primitive\u001b[0m(\u001b[96mself\u001b[0m, primitive, tracers, params):                                \u001b[31m│\u001b[0m\n",
       "\u001b[31m│\u001b[0m \u001b[31m❱ \u001b[0m 913 \u001b[2m│   \u001b[0m\u001b[94mreturn\u001b[0m primitive.impl(*tracers, **params)                                             \u001b[31m│\u001b[0m\n",
       "\u001b[31m│\u001b[0m   \u001b[2m 914 \u001b[0m\u001b[2m  \u001b[0m                                                                                        \u001b[31m│\u001b[0m\n",
       "\u001b[31m│\u001b[0m   \u001b[2m 915 \u001b[0m\u001b[2m  \u001b[0m\u001b[94mdef\u001b[0m \u001b[92mprocess_call\u001b[0m(\u001b[96mself\u001b[0m, primitive, f, tracers, params):                                  \u001b[31m│\u001b[0m\n",
       "\u001b[31m│\u001b[0m   \u001b[2m 916 \u001b[0m\u001b[2m│   \u001b[0m\u001b[94mreturn\u001b[0m primitive.impl(f, *tracers, **params)                                          \u001b[31m│\u001b[0m\n",
       "\u001b[31m│\u001b[0m                                                                                                  \u001b[31m│\u001b[0m\n",
       "\u001b[31m│\u001b[0m \u001b[2;33m/home/nmiklaucic/miniconda3/envs/avid/lib/python3.12/site-packages/jax/_src/\u001b[0m\u001b[1;33mpjit.py\u001b[0m:\u001b[94m1409\u001b[0m in      \u001b[31m│\u001b[0m\n",
       "\u001b[31m│\u001b[0m \u001b[92m_pjit_call_impl\u001b[0m                                                                                  \u001b[31m│\u001b[0m\n",
       "\u001b[31m│\u001b[0m                                                                                                  \u001b[31m│\u001b[0m\n",
       "\u001b[31m│\u001b[0m   \u001b[2m1406 \u001b[0m\u001b[2m  \u001b[0mhas_explicit_sharding = _pjit_explicit_sharding(                                        \u001b[31m│\u001b[0m\n",
       "\u001b[31m│\u001b[0m   \u001b[2m1407 \u001b[0m\u001b[2m│     \u001b[0min_shardings, out_shardings, \u001b[94mNone\u001b[0m, \u001b[94mNone\u001b[0m)                                            \u001b[31m│\u001b[0m\n",
       "\u001b[31m│\u001b[0m   \u001b[2m1408 \u001b[0m\u001b[2m  \u001b[0m\u001b[94mif\u001b[0m xla_extension_version >= \u001b[94m226\u001b[0m:                                                        \u001b[31m│\u001b[0m\n",
       "\u001b[31m│\u001b[0m \u001b[31m❱ \u001b[0m1409 \u001b[2m│   \u001b[0m\u001b[94mreturn\u001b[0m xc._xla.pjit(                                                                  \u001b[31m│\u001b[0m\n",
       "\u001b[31m│\u001b[0m   \u001b[2m1410 \u001b[0m\u001b[2m│   │   \u001b[0mname, f, call_impl_cache_miss, [], [], donated_argnums,                           \u001b[31m│\u001b[0m\n",
       "\u001b[31m│\u001b[0m   \u001b[2m1411 \u001b[0m\u001b[2m│   │   \u001b[0mtree_util.dispatch_registry,                                                      \u001b[31m│\u001b[0m\n",
       "\u001b[31m│\u001b[0m   \u001b[2m1412 \u001b[0m\u001b[2m│   │   \u001b[0mpxla.shard_arg \u001b[94mif\u001b[0m xla_extension_version >= \u001b[94m229\u001b[0m \u001b[94melse\u001b[0m pxla.temp_shard_arg,  \u001b[2m# type\u001b[0m  \u001b[31m│\u001b[0m\n",
       "\u001b[31m│\u001b[0m                                                                                                  \u001b[31m│\u001b[0m\n",
       "\u001b[31m│\u001b[0m \u001b[2;33m/home/nmiklaucic/miniconda3/envs/avid/lib/python3.12/site-packages/jax/_src/\u001b[0m\u001b[1;33mpjit.py\u001b[0m:\u001b[94m1392\u001b[0m in      \u001b[31m│\u001b[0m\n",
       "\u001b[31m│\u001b[0m \u001b[92mcall_impl_cache_miss\u001b[0m                                                                             \u001b[31m│\u001b[0m\n",
       "\u001b[31m│\u001b[0m                                                                                                  \u001b[31m│\u001b[0m\n",
       "\u001b[31m│\u001b[0m   \u001b[2m1389 \u001b[0m\u001b[2m│   │   │   │   │   \u001b[0min_shardings, out_shardings, resource_env,                            \u001b[31m│\u001b[0m\n",
       "\u001b[31m│\u001b[0m   \u001b[2m1390 \u001b[0m\u001b[2m│   │   │   │   │   \u001b[0mdonated_invars, name, keep_unused, inline):                           \u001b[31m│\u001b[0m\n",
       "\u001b[31m│\u001b[0m   \u001b[2m1391 \u001b[0m\u001b[2m  \u001b[0m\u001b[94mdef\u001b[0m \u001b[92mcall_impl_cache_miss\u001b[0m(*args_, **kwargs_):                                            \u001b[31m│\u001b[0m\n",
       "\u001b[31m│\u001b[0m \u001b[31m❱ \u001b[0m1392 \u001b[2m│   \u001b[0mout_flat, compiled = _pjit_call_impl_python(                                          \u001b[31m│\u001b[0m\n",
       "\u001b[31m│\u001b[0m   \u001b[2m1393 \u001b[0m\u001b[2m│   │   \u001b[0m*args, jaxpr=jaxpr, in_shardings=in_shardings,                                    \u001b[31m│\u001b[0m\n",
       "\u001b[31m│\u001b[0m   \u001b[2m1394 \u001b[0m\u001b[2m│   │   \u001b[0mout_shardings=out_shardings, resource_env=resource_env,                           \u001b[31m│\u001b[0m\n",
       "\u001b[31m│\u001b[0m   \u001b[2m1395 \u001b[0m\u001b[2m│   │   \u001b[0mdonated_invars=donated_invars, name=name, keep_unused=keep_unused,                \u001b[31m│\u001b[0m\n",
       "\u001b[31m│\u001b[0m                                                                                                  \u001b[31m│\u001b[0m\n",
       "\u001b[31m│\u001b[0m \u001b[2;33m/home/nmiklaucic/miniconda3/envs/avid/lib/python3.12/site-packages/jax/_src/\u001b[0m\u001b[1;33mpjit.py\u001b[0m:\u001b[94m1348\u001b[0m in      \u001b[31m│\u001b[0m\n",
       "\u001b[31m│\u001b[0m \u001b[92m_pjit_call_impl_python\u001b[0m                                                                           \u001b[31m│\u001b[0m\n",
       "\u001b[31m│\u001b[0m                                                                                                  \u001b[31m│\u001b[0m\n",
       "\u001b[31m│\u001b[0m   \u001b[2m1345 \u001b[0m\u001b[2m│   │   │   │   │   │     \u001b[0m(\u001b[33m\"\u001b[0m\u001b[33mabstract args\u001b[0m\u001b[33m\"\u001b[0m, \u001b[96mmap\u001b[0m(xla.abstractify, args)),                  \u001b[31m│\u001b[0m\n",
       "\u001b[31m│\u001b[0m   \u001b[2m1346 \u001b[0m\u001b[2m│   │   │   │   │   │     \u001b[0m(\u001b[33m\"\u001b[0m\u001b[33mfingerprint\u001b[0m\u001b[33m\"\u001b[0m, fingerprint))                                   \u001b[31m│\u001b[0m\n",
       "\u001b[31m│\u001b[0m   \u001b[2m1347 \u001b[0m\u001b[2m  \u001b[0m\u001b[94mtry\u001b[0m:                                                                                    \u001b[31m│\u001b[0m\n",
       "\u001b[31m│\u001b[0m \u001b[31m❱ \u001b[0m1348 \u001b[2m│   \u001b[0m\u001b[94mreturn\u001b[0m compiled.unsafe_call(*args), compiled                                          \u001b[31m│\u001b[0m\n",
       "\u001b[31m│\u001b[0m   \u001b[2m1349 \u001b[0m\u001b[2m  \u001b[0m\u001b[94mexcept\u001b[0m \u001b[96mFloatingPointError\u001b[0m \u001b[94mas\u001b[0m e:                                                         \u001b[31m│\u001b[0m\n",
       "\u001b[31m│\u001b[0m   \u001b[2m1350 \u001b[0m\u001b[2m│   \u001b[0m\u001b[94massert\u001b[0m config.debug_nans.value \u001b[95mor\u001b[0m config.debug_infs.value  \u001b[2m# compiled_fun can only r\u001b[0m  \u001b[31m│\u001b[0m\n",
       "\u001b[31m│\u001b[0m   \u001b[2m1351 \u001b[0m                                                                                          \u001b[31m│\u001b[0m\n",
       "\u001b[31m│\u001b[0m                                                                                                  \u001b[31m│\u001b[0m\n",
       "\u001b[31m│\u001b[0m \u001b[2;33m/home/nmiklaucic/miniconda3/envs/avid/lib/python3.12/site-packages/jax/_src/\u001b[0m\u001b[1;33mprofiler.py\u001b[0m:\u001b[94m336\u001b[0m in   \u001b[31m│\u001b[0m\n",
       "\u001b[31m│\u001b[0m \u001b[92mwrapper\u001b[0m                                                                                          \u001b[31m│\u001b[0m\n",
       "\u001b[31m│\u001b[0m                                                                                                  \u001b[31m│\u001b[0m\n",
       "\u001b[31m│\u001b[0m   \u001b[2m333 \u001b[0m\u001b[2m  \u001b[0m\u001b[1;95m@wraps\u001b[0m(func)                                                                             \u001b[31m│\u001b[0m\n",
       "\u001b[31m│\u001b[0m   \u001b[2m334 \u001b[0m\u001b[2m  \u001b[0m\u001b[94mdef\u001b[0m \u001b[92mwrapper\u001b[0m(*args, **kwargs):                                                            \u001b[31m│\u001b[0m\n",
       "\u001b[31m│\u001b[0m   \u001b[2m335 \u001b[0m\u001b[2m│   \u001b[0m\u001b[94mwith\u001b[0m TraceAnnotation(name, **decorator_kwargs):                                        \u001b[31m│\u001b[0m\n",
       "\u001b[31m│\u001b[0m \u001b[31m❱ \u001b[0m336 \u001b[2m│     \u001b[0m\u001b[94mreturn\u001b[0m func(*args, **kwargs)                                                         \u001b[31m│\u001b[0m\n",
       "\u001b[31m│\u001b[0m   \u001b[2m337 \u001b[0m\u001b[2m│   \u001b[0m\u001b[94mreturn\u001b[0m wrapper                                                                         \u001b[31m│\u001b[0m\n",
       "\u001b[31m│\u001b[0m   \u001b[2m338 \u001b[0m\u001b[2m  \u001b[0m\u001b[94mreturn\u001b[0m wrapper                                                                           \u001b[31m│\u001b[0m\n",
       "\u001b[31m│\u001b[0m   \u001b[2m339 \u001b[0m                                                                                           \u001b[31m│\u001b[0m\n",
       "\u001b[31m│\u001b[0m                                                                                                  \u001b[31m│\u001b[0m\n",
       "\u001b[31m│\u001b[0m \u001b[2;33m/home/nmiklaucic/miniconda3/envs/avid/lib/python3.12/site-packages/jax/_src/interpreters/\u001b[0m\u001b[1;33mpxla.py\u001b[0m \u001b[31m│\u001b[0m\n",
       "\u001b[31m│\u001b[0m :\u001b[94m1209\u001b[0m in \u001b[92m__call__\u001b[0m                                                                                \u001b[31m│\u001b[0m\n",
       "\u001b[31m│\u001b[0m                                                                                                  \u001b[31m│\u001b[0m\n",
       "\u001b[31m│\u001b[0m   \u001b[2m1206 \u001b[0m\u001b[2m│     \u001b[0msharded_runtime_token = results.consume_token()                                     \u001b[31m│\u001b[0m\n",
       "\u001b[31m│\u001b[0m   \u001b[2m1207 \u001b[0m\u001b[2m│     \u001b[0m\u001b[96mself\u001b[0m._handle_token_bufs(result_token_bufs, sharded_runtime_token)                   \u001b[31m│\u001b[0m\n",
       "\u001b[31m│\u001b[0m   \u001b[2m1208 \u001b[0m\u001b[2m│   \u001b[0m\u001b[94melse\u001b[0m:                                                                                 \u001b[31m│\u001b[0m\n",
       "\u001b[31m│\u001b[0m \u001b[31m❱ \u001b[0m1209 \u001b[2m│     \u001b[0mresults = \u001b[96mself\u001b[0m.xla_executable.execute_sharded(input_bufs)                           \u001b[31m│\u001b[0m\n",
       "\u001b[31m│\u001b[0m   \u001b[2m1210 \u001b[0m\u001b[2m│   \u001b[0m\u001b[94mif\u001b[0m dispatch.needs_check_special():                                                    \u001b[31m│\u001b[0m\n",
       "\u001b[31m│\u001b[0m   \u001b[2m1211 \u001b[0m\u001b[2m│     \u001b[0mout_arrays = results.disassemble_into_single_device_arrays()                        \u001b[31m│\u001b[0m\n",
       "\u001b[31m│\u001b[0m   \u001b[2m1212 \u001b[0m\u001b[2m│     \u001b[0m\u001b[94mfor\u001b[0m arrays \u001b[95min\u001b[0m out_arrays:                                                           \u001b[31m│\u001b[0m\n",
       "\u001b[31m╰──────────────────────────────────────────────────────────────────────────────────────────────────╯\u001b[0m\n",
       "\u001b[1;91mXlaRuntimeError: \u001b[0mINTERNAL: external/xla/xla/service/gpu/nccl_api.\u001b[1;92mcc:395\u001b[0m: NCCL operation \n",
       "\u001b[1;35mncclCommInitRankConfig\u001b[0m\u001b[1m(\u001b[0m&comm_handle, nranks, \u001b[1;35mAsNcclUniqueId\u001b[0m\u001b[1m(\u001b[0mclique_id\u001b[1m)\u001b[0m, ranks\u001b[1m[\u001b[0mi\u001b[1m]\u001b[0m.rank, &comm_config\u001b[1m)\u001b[0m failed: \n",
       "unhandled system error. Last NCCL \u001b[1;35mwarning\u001b[0m\u001b[1m(\u001b[0merror\u001b[1m)\u001b[0m log entry \u001b[1m(\u001b[0mmay be unrelated\u001b[1m)\u001b[0m \u001b[32m'Unable to load NCCL library. \u001b[0m\n",
       "\u001b[32mMulti-GPU collectives will not work.'\u001b[0m.: while running replica \u001b[1;36m0\u001b[0m and partition \u001b[1;36m0\u001b[0m of a replicated computation \u001b[1m(\u001b[0mother \n",
       "replicas may have failed as well\u001b[1m)\u001b[0m.\n"
      ]
     },
     "metadata": {},
     "output_type": "display_data"
    }
   ],
   "source": [
    "from cdv.layers import Context\n",
    "\n",
    "\n",
    "mesh = Mesh(mesh_utils.create_device_mesh((3,)), 'batch')\n",
    "sharding = NamedSharding(mesh, P('batch'))\n",
    "replicated_sharding = NamedSharding(mesh, P())\n",
    "\n",
    "ctx = Context(training=False)\n",
    "\n",
    "cgs = jax.device_put(cgs, sharding)\n",
    "params = jax.device_put(params, replicated_sharding)\n",
    "\n",
    "vae.apply(params, cgs, ctx=ctx)"
   ]
  },
  {
   "cell_type": "code",
   "execution_count": null,
   "metadata": {},
   "outputs": [],
   "source": []
  },
  {
   "cell_type": "code",
   "execution_count": null,
   "metadata": {},
   "outputs": [],
   "source": []
  },
  {
   "cell_type": "code",
   "execution_count": 6,
   "metadata": {},
   "outputs": [
    {
     "data": {
      "text/html": [
       "<pre style=\"white-space:pre;overflow-x:auto;line-height:normal;font-family:Menlo,'DejaVu Sans Mono',consolas,'Courier New',monospace\"></pre>\n"
      ],
      "text/plain": []
     },
     "metadata": {},
     "output_type": "display_data"
    },
    {
     "data": {
      "text/plain": [
       "\n",
       "space_group                                                       \u001b[1;36m2\u001b[0m\n",
       "formula                                                  \u001b[1m(\u001b[0mNb, O, F\u001b[1m)\u001b[0m\n",
       "e_form                                                     \u001b[1;36m-2.97295\u001b[0m\n",
       "bandgap                                                       \u001b[1;36m3.561\u001b[0m\n",
       "atoms             \u001b[1m[\u001b[0m\u001b[1m[\u001b[0m\u001b[1;36m-0.26378997\u001b[0m  \u001b[1;36m1.36032922\u001b[0m  \u001b[1;36m3.78503205\u001b[0m\u001b[1m]\u001b[0m Nb, \u001b[1m[\u001b[0m\u001b[1;36m2\u001b[0m\u001b[33m...\u001b[0m.\n",
       "e_total                                                    \u001b[1;36m-4.95885\u001b[0m\n",
       "ehull                                                        \u001b[1;36m0.0058\u001b[0m\n",
       "dimensionality                                              2D-bulk\n",
       "density                                                       \u001b[1;36m3.612\u001b[0m\n",
       "num_atoms                                                        \u001b[1;36m20\u001b[0m\n",
       "num_spec                                                          \u001b[1;36m3\u001b[0m\n",
       "magmom                                                          \u001b[1;36m0.0\u001b[0m\n",
       "Name: \u001b[1;36m36725\u001b[0m, dtype: object"
      ]
     },
     "execution_count": 6,
     "metadata": {},
     "output_type": "execute_result"
    }
   ],
   "source": [
    "clean = pd.read_pickle('precomputed/jarvis_dft3d_cleaned/dataframe.pkl')\n",
    "clean.iloc[30746]"
   ]
  },
  {
   "cell_type": "code",
   "execution_count": 7,
   "metadata": {},
   "outputs": [
    {
     "data": {
      "text/html": [
       "<pre style=\"white-space:pre;overflow-x:auto;line-height:normal;font-family:Menlo,'DejaVu Sans Mono',consolas,'Courier New',monospace\"></pre>\n"
      ],
      "text/plain": []
     },
     "metadata": {},
     "output_type": "display_data"
    },
    {
     "data": {
      "text/plain": [
       "\n",
       "\u001b[1;35mArray\u001b[0m\u001b[1m(\u001b[0m\u001b[1m[\u001b[0m\u001b[1m[\u001b[0m\u001b[1;36m-0.26379\u001b[0m   ,  \u001b[1;36m1.3603295\u001b[0m ,  \u001b[1;36m3.7850323\u001b[0m \u001b[1m]\u001b[0m,\n",
       "       \u001b[1m[\u001b[0m \u001b[1;36m2.1203477\u001b[0m ,  \u001b[1;36m1.3777361\u001b[0m ,  \u001b[1;36m0.83578944\u001b[0m\u001b[1m]\u001b[0m,\n",
       "       \u001b[1m[\u001b[0m \u001b[1;36m2.674069\u001b[0m  ,  \u001b[1;36m0.9959506\u001b[0m ,  \u001b[1;36m6.254862\u001b[0m  \u001b[1m]\u001b[0m,\n",
       "       \u001b[33m...\u001b[0m,\n",
       "       \u001b[1m[\u001b[0m \u001b[1;36m0\u001b[0m.        ,  \u001b[1;36m0\u001b[0m.        ,  \u001b[1;36m0\u001b[0m.        \u001b[1m]\u001b[0m,\n",
       "       \u001b[1m[\u001b[0m \u001b[1;36m0\u001b[0m.        ,  \u001b[1;36m0\u001b[0m.        ,  \u001b[1;36m0\u001b[0m.        \u001b[1m]\u001b[0m,\n",
       "       \u001b[1m[\u001b[0m \u001b[1;36m0\u001b[0m.        ,  \u001b[1;36m0\u001b[0m.        ,  \u001b[1;36m0\u001b[0m.        \u001b[1m]\u001b[0m\u001b[1m]\u001b[0m, \u001b[33mdtype\u001b[0m=\u001b[35mfloat32\u001b[0m\u001b[1m)\u001b[0m"
      ]
     },
     "execution_count": 7,
     "metadata": {},
     "output_type": "execute_result"
    }
   ],
   "source": [
    "jnp.einsum('bij,bi->bj', batch.globals.lat[batch.nodes.graph_i], batch.nodes.frac)"
   ]
  },
  {
   "cell_type": "code",
   "execution_count": 8,
   "metadata": {},
   "outputs": [],
   "source": [
    "rng = jr.key(123)\n",
    "\n",
    "lat_inv = jax.vmap(jnp.linalg.inv)(batch.globals.lat + jnp.eye(3) * 1e-3)\n",
    "\n",
    "def to_cart(fracs):\n",
    "    return jnp.einsum('bij,bi->bj', batch.globals.lat[batch.nodes.graph_i], fracs)\n",
    "\n",
    "def to_frac(carts):\n",
    "    return jnp.einsum('bij,bi->bj', lat_inv[batch.nodes.graph_i], carts)\n",
    "\n",
    "\n",
    "start_frac = jr.uniform(rng, batch.nodes.frac.shape)\n",
    "start_cart = to_cart(start_frac)\n",
    "start = batch.replace(nodes=batch.nodes.replace(cart=start_cart, frac=None))"
   ]
  },
  {
   "cell_type": "code",
   "execution_count": 67,
   "metadata": {},
   "outputs": [
    {
     "name": "stderr",
     "output_type": "stream",
     "text": [
      "100%|██████████| 35/35 [00:14<00:00,  2.46it/s]\n"
     ]
    }
   ],
   "source": [
    "from tqdm import tqdm, trange\n",
    "\n",
    "from cdv.layers import Context\n",
    "num_steps = 35\n",
    "steps = jnp.linspace(1e-1, 1e-3, num_steps)\n",
    "\n",
    "seq = [start]\n",
    "\n",
    "self = model\n",
    "ctx = Context(training=False)\n",
    "\n",
    "for step_size in tqdm(steps):\n",
    "    cg = seq[-1]\n",
    "    z = self.encoder(cg, ctx)\n",
    "    # debug_stat(z=z, eps=eps, noisy_cg=noisy_cg)\n",
    "    eps_rec = self.decoder(cg, z, ctx)  \n",
    "    new_cart = cg.nodes.cart + eps_rec * step_size\n",
    "    new_cart = to_cart(to_frac(new_cart) % 1)\n",
    "    \n",
    "    new = cg.replace(nodes=cg.nodes.replace(cart=new_cart, frac=None))\n",
    "    seq.append(new)"
   ]
  },
  {
   "cell_type": "code",
   "execution_count": 71,
   "metadata": {},
   "outputs": [],
   "source": [
    "coords = jnp.stack([to_frac(s.nodes.cart) for s in seq])\n",
    "\n",
    "# coords[:, 0]"
   ]
  },
  {
   "cell_type": "code",
   "execution_count": 70,
   "metadata": {},
   "outputs": [],
   "source": [
    "gen = seq[-1]\n",
    "# gen"
   ]
  },
  {
   "cell_type": "code",
   "execution_count": 89,
   "metadata": {},
   "outputs": [
    {
     "data": {
      "application/vnd.plotly.v1+json": {
       "config": {
        "plotlyServerURL": "https://plot.ly"
       },
       "data": [
        {
         "hovertemplate": "atom=Ba<br>frame=actual<br>x=%{x}<br>y=%{y}<br>z=%{z}<extra></extra>",
         "legendgroup": "Ba",
         "marker": {
          "color": "#FECB52",
          "symbol": "circle"
         },
         "mode": "markers",
         "name": "Ba",
         "scene": "scene",
         "showlegend": true,
         "type": "scatter3d",
         "x": [
          0.7499999918966236,
          0.25
         ],
         "y": [
          0.7500000243101296,
          0.25
         ],
         "z": [
          0.7499999521983526,
          0.25
         ]
        },
        {
         "hovertemplate": "atom=Y<br>frame=actual<br>x=%{x}<br>y=%{y}<br>z=%{z}<extra></extra>",
         "legendgroup": "Y",
         "marker": {
          "color": "#636efa",
          "symbol": "circle"
         },
         "mode": "markers",
         "name": "Y",
         "scene": "scene",
         "showlegend": true,
         "type": "scatter3d",
         "x": [
          0
         ],
         "y": [
          0
         ],
         "z": [
          0
         ]
        },
        {
         "hovertemplate": "atom=Sb<br>frame=actual<br>x=%{x}<br>y=%{y}<br>z=%{z}<extra></extra>",
         "legendgroup": "Sb",
         "marker": {
          "color": "#EF553B",
          "symbol": "circle"
         },
         "mode": "markers",
         "name": "Sb",
         "scene": "scene",
         "showlegend": true,
         "type": "scatter3d",
         "x": [
          0.5
         ],
         "y": [
          0.5
         ],
         "z": [
          0.5
         ]
        },
        {
         "hovertemplate": "atom=O<br>frame=actual<br>x=%{x}<br>y=%{y}<br>z=%{z}<extra></extra>",
         "legendgroup": "O",
         "marker": {
          "color": "#00cc96",
          "symbol": "circle"
         },
         "mode": "markers",
         "name": "O",
         "scene": "scene",
         "showlegend": true,
         "type": "scatter3d",
         "x": [
          0.2627827237279484,
          0.2627827237279484,
          0.7372172681686752,
          0.26278273424987814,
          0.7372172681686752,
          0.7372171888873167
         ],
         "y": [
          0.7372172719775483,
          0.7372172719775483,
          0.26278275233258125,
          0.26278275233258125,
          0.26278275233258125,
          0.7372172719775483
         ],
         "z": [
          0.7372171787633505,
          0.26278274613461106,
          0.7372171663654707,
          0.7372172567087703,
          0.26278273373673133,
          0.2627827695675675
         ]
        }
       ],
       "layout": {
        "legend": {
         "title": {
          "text": "atom"
         },
         "tracegroupgap": 0
        },
        "margin": {
         "t": 60
        },
        "scene": {
         "domain": {
          "x": [
           0,
           1
          ],
          "y": [
           0,
           1
          ]
         },
         "xaxis": {
          "range": [
           -0.05,
           1.05
          ],
          "title": {
           "text": "x"
          }
         },
         "yaxis": {
          "range": [
           -0.05,
           1.05
          ],
          "title": {
           "text": "y"
          }
         },
         "zaxis": {
          "range": [
           -0.05,
           1.05
          ],
          "title": {
           "text": "z"
          }
         }
        },
        "template": {
         "data": {
          "bar": [
           {
            "error_x": {
             "color": "#2a3f5f"
            },
            "error_y": {
             "color": "#2a3f5f"
            },
            "marker": {
             "line": {
              "color": "#E5ECF6",
              "width": 0.5
             },
             "pattern": {
              "fillmode": "overlay",
              "size": 10,
              "solidity": 0.2
             }
            },
            "type": "bar"
           }
          ],
          "barpolar": [
           {
            "marker": {
             "line": {
              "color": "#E5ECF6",
              "width": 0.5
             },
             "pattern": {
              "fillmode": "overlay",
              "size": 10,
              "solidity": 0.2
             }
            },
            "type": "barpolar"
           }
          ],
          "carpet": [
           {
            "aaxis": {
             "endlinecolor": "#2a3f5f",
             "gridcolor": "white",
             "linecolor": "white",
             "minorgridcolor": "white",
             "startlinecolor": "#2a3f5f"
            },
            "baxis": {
             "endlinecolor": "#2a3f5f",
             "gridcolor": "white",
             "linecolor": "white",
             "minorgridcolor": "white",
             "startlinecolor": "#2a3f5f"
            },
            "type": "carpet"
           }
          ],
          "choropleth": [
           {
            "colorbar": {
             "outlinewidth": 0,
             "ticks": ""
            },
            "type": "choropleth"
           }
          ],
          "contour": [
           {
            "colorbar": {
             "outlinewidth": 0,
             "ticks": ""
            },
            "colorscale": [
             [
              0,
              "#0d0887"
             ],
             [
              0.1111111111111111,
              "#46039f"
             ],
             [
              0.2222222222222222,
              "#7201a8"
             ],
             [
              0.3333333333333333,
              "#9c179e"
             ],
             [
              0.4444444444444444,
              "#bd3786"
             ],
             [
              0.5555555555555556,
              "#d8576b"
             ],
             [
              0.6666666666666666,
              "#ed7953"
             ],
             [
              0.7777777777777778,
              "#fb9f3a"
             ],
             [
              0.8888888888888888,
              "#fdca26"
             ],
             [
              1,
              "#f0f921"
             ]
            ],
            "type": "contour"
           }
          ],
          "contourcarpet": [
           {
            "colorbar": {
             "outlinewidth": 0,
             "ticks": ""
            },
            "type": "contourcarpet"
           }
          ],
          "heatmap": [
           {
            "colorbar": {
             "outlinewidth": 0,
             "ticks": ""
            },
            "colorscale": [
             [
              0,
              "#0d0887"
             ],
             [
              0.1111111111111111,
              "#46039f"
             ],
             [
              0.2222222222222222,
              "#7201a8"
             ],
             [
              0.3333333333333333,
              "#9c179e"
             ],
             [
              0.4444444444444444,
              "#bd3786"
             ],
             [
              0.5555555555555556,
              "#d8576b"
             ],
             [
              0.6666666666666666,
              "#ed7953"
             ],
             [
              0.7777777777777778,
              "#fb9f3a"
             ],
             [
              0.8888888888888888,
              "#fdca26"
             ],
             [
              1,
              "#f0f921"
             ]
            ],
            "type": "heatmap"
           }
          ],
          "heatmapgl": [
           {
            "colorbar": {
             "outlinewidth": 0,
             "ticks": ""
            },
            "colorscale": [
             [
              0,
              "#0d0887"
             ],
             [
              0.1111111111111111,
              "#46039f"
             ],
             [
              0.2222222222222222,
              "#7201a8"
             ],
             [
              0.3333333333333333,
              "#9c179e"
             ],
             [
              0.4444444444444444,
              "#bd3786"
             ],
             [
              0.5555555555555556,
              "#d8576b"
             ],
             [
              0.6666666666666666,
              "#ed7953"
             ],
             [
              0.7777777777777778,
              "#fb9f3a"
             ],
             [
              0.8888888888888888,
              "#fdca26"
             ],
             [
              1,
              "#f0f921"
             ]
            ],
            "type": "heatmapgl"
           }
          ],
          "histogram": [
           {
            "marker": {
             "pattern": {
              "fillmode": "overlay",
              "size": 10,
              "solidity": 0.2
             }
            },
            "type": "histogram"
           }
          ],
          "histogram2d": [
           {
            "colorbar": {
             "outlinewidth": 0,
             "ticks": ""
            },
            "colorscale": [
             [
              0,
              "#0d0887"
             ],
             [
              0.1111111111111111,
              "#46039f"
             ],
             [
              0.2222222222222222,
              "#7201a8"
             ],
             [
              0.3333333333333333,
              "#9c179e"
             ],
             [
              0.4444444444444444,
              "#bd3786"
             ],
             [
              0.5555555555555556,
              "#d8576b"
             ],
             [
              0.6666666666666666,
              "#ed7953"
             ],
             [
              0.7777777777777778,
              "#fb9f3a"
             ],
             [
              0.8888888888888888,
              "#fdca26"
             ],
             [
              1,
              "#f0f921"
             ]
            ],
            "type": "histogram2d"
           }
          ],
          "histogram2dcontour": [
           {
            "colorbar": {
             "outlinewidth": 0,
             "ticks": ""
            },
            "colorscale": [
             [
              0,
              "#0d0887"
             ],
             [
              0.1111111111111111,
              "#46039f"
             ],
             [
              0.2222222222222222,
              "#7201a8"
             ],
             [
              0.3333333333333333,
              "#9c179e"
             ],
             [
              0.4444444444444444,
              "#bd3786"
             ],
             [
              0.5555555555555556,
              "#d8576b"
             ],
             [
              0.6666666666666666,
              "#ed7953"
             ],
             [
              0.7777777777777778,
              "#fb9f3a"
             ],
             [
              0.8888888888888888,
              "#fdca26"
             ],
             [
              1,
              "#f0f921"
             ]
            ],
            "type": "histogram2dcontour"
           }
          ],
          "mesh3d": [
           {
            "colorbar": {
             "outlinewidth": 0,
             "ticks": ""
            },
            "type": "mesh3d"
           }
          ],
          "parcoords": [
           {
            "line": {
             "colorbar": {
              "outlinewidth": 0,
              "ticks": ""
             }
            },
            "type": "parcoords"
           }
          ],
          "pie": [
           {
            "automargin": true,
            "type": "pie"
           }
          ],
          "scatter": [
           {
            "fillpattern": {
             "fillmode": "overlay",
             "size": 10,
             "solidity": 0.2
            },
            "type": "scatter"
           }
          ],
          "scatter3d": [
           {
            "line": {
             "colorbar": {
              "outlinewidth": 0,
              "ticks": ""
             }
            },
            "marker": {
             "colorbar": {
              "outlinewidth": 0,
              "ticks": ""
             }
            },
            "type": "scatter3d"
           }
          ],
          "scattercarpet": [
           {
            "marker": {
             "colorbar": {
              "outlinewidth": 0,
              "ticks": ""
             }
            },
            "type": "scattercarpet"
           }
          ],
          "scattergeo": [
           {
            "marker": {
             "colorbar": {
              "outlinewidth": 0,
              "ticks": ""
             }
            },
            "type": "scattergeo"
           }
          ],
          "scattergl": [
           {
            "marker": {
             "colorbar": {
              "outlinewidth": 0,
              "ticks": ""
             }
            },
            "type": "scattergl"
           }
          ],
          "scattermapbox": [
           {
            "marker": {
             "colorbar": {
              "outlinewidth": 0,
              "ticks": ""
             }
            },
            "type": "scattermapbox"
           }
          ],
          "scatterpolar": [
           {
            "marker": {
             "colorbar": {
              "outlinewidth": 0,
              "ticks": ""
             }
            },
            "type": "scatterpolar"
           }
          ],
          "scatterpolargl": [
           {
            "marker": {
             "colorbar": {
              "outlinewidth": 0,
              "ticks": ""
             }
            },
            "type": "scatterpolargl"
           }
          ],
          "scatterternary": [
           {
            "marker": {
             "colorbar": {
              "outlinewidth": 0,
              "ticks": ""
             }
            },
            "type": "scatterternary"
           }
          ],
          "surface": [
           {
            "colorbar": {
             "outlinewidth": 0,
             "ticks": ""
            },
            "colorscale": [
             [
              0,
              "#0d0887"
             ],
             [
              0.1111111111111111,
              "#46039f"
             ],
             [
              0.2222222222222222,
              "#7201a8"
             ],
             [
              0.3333333333333333,
              "#9c179e"
             ],
             [
              0.4444444444444444,
              "#bd3786"
             ],
             [
              0.5555555555555556,
              "#d8576b"
             ],
             [
              0.6666666666666666,
              "#ed7953"
             ],
             [
              0.7777777777777778,
              "#fb9f3a"
             ],
             [
              0.8888888888888888,
              "#fdca26"
             ],
             [
              1,
              "#f0f921"
             ]
            ],
            "type": "surface"
           }
          ],
          "table": [
           {
            "cells": {
             "fill": {
              "color": "#EBF0F8"
             },
             "line": {
              "color": "white"
             }
            },
            "header": {
             "fill": {
              "color": "#C8D4E3"
             },
             "line": {
              "color": "white"
             }
            },
            "type": "table"
           }
          ]
         },
         "layout": {
          "annotationdefaults": {
           "arrowcolor": "#2a3f5f",
           "arrowhead": 0,
           "arrowwidth": 1
          },
          "autotypenumbers": "strict",
          "coloraxis": {
           "colorbar": {
            "outlinewidth": 0,
            "ticks": ""
           }
          },
          "colorscale": {
           "diverging": [
            [
             0,
             "#8e0152"
            ],
            [
             0.1,
             "#c51b7d"
            ],
            [
             0.2,
             "#de77ae"
            ],
            [
             0.3,
             "#f1b6da"
            ],
            [
             0.4,
             "#fde0ef"
            ],
            [
             0.5,
             "#f7f7f7"
            ],
            [
             0.6,
             "#e6f5d0"
            ],
            [
             0.7,
             "#b8e186"
            ],
            [
             0.8,
             "#7fbc41"
            ],
            [
             0.9,
             "#4d9221"
            ],
            [
             1,
             "#276419"
            ]
           ],
           "sequential": [
            [
             0,
             "#0d0887"
            ],
            [
             0.1111111111111111,
             "#46039f"
            ],
            [
             0.2222222222222222,
             "#7201a8"
            ],
            [
             0.3333333333333333,
             "#9c179e"
            ],
            [
             0.4444444444444444,
             "#bd3786"
            ],
            [
             0.5555555555555556,
             "#d8576b"
            ],
            [
             0.6666666666666666,
             "#ed7953"
            ],
            [
             0.7777777777777778,
             "#fb9f3a"
            ],
            [
             0.8888888888888888,
             "#fdca26"
            ],
            [
             1,
             "#f0f921"
            ]
           ],
           "sequentialminus": [
            [
             0,
             "#0d0887"
            ],
            [
             0.1111111111111111,
             "#46039f"
            ],
            [
             0.2222222222222222,
             "#7201a8"
            ],
            [
             0.3333333333333333,
             "#9c179e"
            ],
            [
             0.4444444444444444,
             "#bd3786"
            ],
            [
             0.5555555555555556,
             "#d8576b"
            ],
            [
             0.6666666666666666,
             "#ed7953"
            ],
            [
             0.7777777777777778,
             "#fb9f3a"
            ],
            [
             0.8888888888888888,
             "#fdca26"
            ],
            [
             1,
             "#f0f921"
            ]
           ]
          },
          "colorway": [
           "#636efa",
           "#EF553B",
           "#00cc96",
           "#ab63fa",
           "#FFA15A",
           "#19d3f3",
           "#FF6692",
           "#B6E880",
           "#FF97FF",
           "#FECB52"
          ],
          "font": {
           "color": "#2a3f5f"
          },
          "geo": {
           "bgcolor": "white",
           "lakecolor": "white",
           "landcolor": "#E5ECF6",
           "showlakes": true,
           "showland": true,
           "subunitcolor": "white"
          },
          "hoverlabel": {
           "align": "left"
          },
          "hovermode": "closest",
          "mapbox": {
           "style": "light"
          },
          "paper_bgcolor": "white",
          "plot_bgcolor": "#E5ECF6",
          "polar": {
           "angularaxis": {
            "gridcolor": "white",
            "linecolor": "white",
            "ticks": ""
           },
           "bgcolor": "#E5ECF6",
           "radialaxis": {
            "gridcolor": "white",
            "linecolor": "white",
            "ticks": ""
           }
          },
          "scene": {
           "xaxis": {
            "backgroundcolor": "#E5ECF6",
            "gridcolor": "white",
            "gridwidth": 2,
            "linecolor": "white",
            "showbackground": true,
            "ticks": "",
            "zerolinecolor": "white"
           },
           "yaxis": {
            "backgroundcolor": "#E5ECF6",
            "gridcolor": "white",
            "gridwidth": 2,
            "linecolor": "white",
            "showbackground": true,
            "ticks": "",
            "zerolinecolor": "white"
           },
           "zaxis": {
            "backgroundcolor": "#E5ECF6",
            "gridcolor": "white",
            "gridwidth": 2,
            "linecolor": "white",
            "showbackground": true,
            "ticks": "",
            "zerolinecolor": "white"
           }
          },
          "shapedefaults": {
           "line": {
            "color": "#2a3f5f"
           }
          },
          "ternary": {
           "aaxis": {
            "gridcolor": "white",
            "linecolor": "white",
            "ticks": ""
           },
           "baxis": {
            "gridcolor": "white",
            "linecolor": "white",
            "ticks": ""
           },
           "bgcolor": "#E5ECF6",
           "caxis": {
            "gridcolor": "white",
            "linecolor": "white",
            "ticks": ""
           }
          },
          "title": {
           "x": 0.05
          },
          "xaxis": {
           "automargin": true,
           "gridcolor": "white",
           "linecolor": "white",
           "ticks": "",
           "title": {
            "standoff": 15
           },
           "zerolinecolor": "white",
           "zerolinewidth": 2
          },
          "yaxis": {
           "automargin": true,
           "gridcolor": "white",
           "linecolor": "white",
           "ticks": "",
           "title": {
            "standoff": 15
           },
           "zerolinecolor": "white",
           "zerolinewidth": 2
          }
         }
        }
       }
      },
      "text/html": [
       "<div>                            <div id=\"af6a4acc-04d2-4a2d-9824-d3d2fe641626\" class=\"plotly-graph-div\" style=\"height:525px; width:100%;\"></div>            <script type=\"text/javascript\">                require([\"plotly\"], function(Plotly) {                    window.PLOTLYENV=window.PLOTLYENV || {};                                    if (document.getElementById(\"af6a4acc-04d2-4a2d-9824-d3d2fe641626\")) {                    Plotly.newPlot(                        \"af6a4acc-04d2-4a2d-9824-d3d2fe641626\",                        [{\"hovertemplate\":\"atom=Ba\\u003cbr\\u003eframe=actual\\u003cbr\\u003ex=%{x}\\u003cbr\\u003ey=%{y}\\u003cbr\\u003ez=%{z}\\u003cextra\\u003e\\u003c\\u002fextra\\u003e\",\"legendgroup\":\"Ba\",\"marker\":{\"color\":\"#FECB52\",\"symbol\":\"circle\"},\"mode\":\"markers\",\"name\":\"Ba\",\"scene\":\"scene\",\"showlegend\":true,\"x\":[0.7499999918966236,0.25],\"y\":[0.7500000243101296,0.25],\"z\":[0.7499999521983526,0.25],\"type\":\"scatter3d\"},{\"hovertemplate\":\"atom=Y\\u003cbr\\u003eframe=actual\\u003cbr\\u003ex=%{x}\\u003cbr\\u003ey=%{y}\\u003cbr\\u003ez=%{z}\\u003cextra\\u003e\\u003c\\u002fextra\\u003e\",\"legendgroup\":\"Y\",\"marker\":{\"color\":\"#636efa\",\"symbol\":\"circle\"},\"mode\":\"markers\",\"name\":\"Y\",\"scene\":\"scene\",\"showlegend\":true,\"x\":[0.0],\"y\":[0.0],\"z\":[0.0],\"type\":\"scatter3d\"},{\"hovertemplate\":\"atom=Sb\\u003cbr\\u003eframe=actual\\u003cbr\\u003ex=%{x}\\u003cbr\\u003ey=%{y}\\u003cbr\\u003ez=%{z}\\u003cextra\\u003e\\u003c\\u002fextra\\u003e\",\"legendgroup\":\"Sb\",\"marker\":{\"color\":\"#EF553B\",\"symbol\":\"circle\"},\"mode\":\"markers\",\"name\":\"Sb\",\"scene\":\"scene\",\"showlegend\":true,\"x\":[0.5],\"y\":[0.5],\"z\":[0.5],\"type\":\"scatter3d\"},{\"hovertemplate\":\"atom=O\\u003cbr\\u003eframe=actual\\u003cbr\\u003ex=%{x}\\u003cbr\\u003ey=%{y}\\u003cbr\\u003ez=%{z}\\u003cextra\\u003e\\u003c\\u002fextra\\u003e\",\"legendgroup\":\"O\",\"marker\":{\"color\":\"#00cc96\",\"symbol\":\"circle\"},\"mode\":\"markers\",\"name\":\"O\",\"scene\":\"scene\",\"showlegend\":true,\"x\":[0.2627827237279484,0.2627827237279484,0.7372172681686752,0.26278273424987814,0.7372172681686752,0.7372171888873167],\"y\":[0.7372172719775483,0.7372172719775483,0.26278275233258125,0.26278275233258125,0.26278275233258125,0.7372172719775483],\"z\":[0.7372171787633505,0.26278274613461106,0.7372171663654707,0.7372172567087703,0.26278273373673133,0.2627827695675675],\"type\":\"scatter3d\"}],                        {\"template\":{\"data\":{\"histogram2dcontour\":[{\"type\":\"histogram2dcontour\",\"colorbar\":{\"outlinewidth\":0,\"ticks\":\"\"},\"colorscale\":[[0.0,\"#0d0887\"],[0.1111111111111111,\"#46039f\"],[0.2222222222222222,\"#7201a8\"],[0.3333333333333333,\"#9c179e\"],[0.4444444444444444,\"#bd3786\"],[0.5555555555555556,\"#d8576b\"],[0.6666666666666666,\"#ed7953\"],[0.7777777777777778,\"#fb9f3a\"],[0.8888888888888888,\"#fdca26\"],[1.0,\"#f0f921\"]]}],\"choropleth\":[{\"type\":\"choropleth\",\"colorbar\":{\"outlinewidth\":0,\"ticks\":\"\"}}],\"histogram2d\":[{\"type\":\"histogram2d\",\"colorbar\":{\"outlinewidth\":0,\"ticks\":\"\"},\"colorscale\":[[0.0,\"#0d0887\"],[0.1111111111111111,\"#46039f\"],[0.2222222222222222,\"#7201a8\"],[0.3333333333333333,\"#9c179e\"],[0.4444444444444444,\"#bd3786\"],[0.5555555555555556,\"#d8576b\"],[0.6666666666666666,\"#ed7953\"],[0.7777777777777778,\"#fb9f3a\"],[0.8888888888888888,\"#fdca26\"],[1.0,\"#f0f921\"]]}],\"heatmap\":[{\"type\":\"heatmap\",\"colorbar\":{\"outlinewidth\":0,\"ticks\":\"\"},\"colorscale\":[[0.0,\"#0d0887\"],[0.1111111111111111,\"#46039f\"],[0.2222222222222222,\"#7201a8\"],[0.3333333333333333,\"#9c179e\"],[0.4444444444444444,\"#bd3786\"],[0.5555555555555556,\"#d8576b\"],[0.6666666666666666,\"#ed7953\"],[0.7777777777777778,\"#fb9f3a\"],[0.8888888888888888,\"#fdca26\"],[1.0,\"#f0f921\"]]}],\"heatmapgl\":[{\"type\":\"heatmapgl\",\"colorbar\":{\"outlinewidth\":0,\"ticks\":\"\"},\"colorscale\":[[0.0,\"#0d0887\"],[0.1111111111111111,\"#46039f\"],[0.2222222222222222,\"#7201a8\"],[0.3333333333333333,\"#9c179e\"],[0.4444444444444444,\"#bd3786\"],[0.5555555555555556,\"#d8576b\"],[0.6666666666666666,\"#ed7953\"],[0.7777777777777778,\"#fb9f3a\"],[0.8888888888888888,\"#fdca26\"],[1.0,\"#f0f921\"]]}],\"contourcarpet\":[{\"type\":\"contourcarpet\",\"colorbar\":{\"outlinewidth\":0,\"ticks\":\"\"}}],\"contour\":[{\"type\":\"contour\",\"colorbar\":{\"outlinewidth\":0,\"ticks\":\"\"},\"colorscale\":[[0.0,\"#0d0887\"],[0.1111111111111111,\"#46039f\"],[0.2222222222222222,\"#7201a8\"],[0.3333333333333333,\"#9c179e\"],[0.4444444444444444,\"#bd3786\"],[0.5555555555555556,\"#d8576b\"],[0.6666666666666666,\"#ed7953\"],[0.7777777777777778,\"#fb9f3a\"],[0.8888888888888888,\"#fdca26\"],[1.0,\"#f0f921\"]]}],\"surface\":[{\"type\":\"surface\",\"colorbar\":{\"outlinewidth\":0,\"ticks\":\"\"},\"colorscale\":[[0.0,\"#0d0887\"],[0.1111111111111111,\"#46039f\"],[0.2222222222222222,\"#7201a8\"],[0.3333333333333333,\"#9c179e\"],[0.4444444444444444,\"#bd3786\"],[0.5555555555555556,\"#d8576b\"],[0.6666666666666666,\"#ed7953\"],[0.7777777777777778,\"#fb9f3a\"],[0.8888888888888888,\"#fdca26\"],[1.0,\"#f0f921\"]]}],\"mesh3d\":[{\"type\":\"mesh3d\",\"colorbar\":{\"outlinewidth\":0,\"ticks\":\"\"}}],\"scatter\":[{\"fillpattern\":{\"fillmode\":\"overlay\",\"size\":10,\"solidity\":0.2},\"type\":\"scatter\"}],\"parcoords\":[{\"type\":\"parcoords\",\"line\":{\"colorbar\":{\"outlinewidth\":0,\"ticks\":\"\"}}}],\"scatterpolargl\":[{\"type\":\"scatterpolargl\",\"marker\":{\"colorbar\":{\"outlinewidth\":0,\"ticks\":\"\"}}}],\"bar\":[{\"error_x\":{\"color\":\"#2a3f5f\"},\"error_y\":{\"color\":\"#2a3f5f\"},\"marker\":{\"line\":{\"color\":\"#E5ECF6\",\"width\":0.5},\"pattern\":{\"fillmode\":\"overlay\",\"size\":10,\"solidity\":0.2}},\"type\":\"bar\"}],\"scattergeo\":[{\"type\":\"scattergeo\",\"marker\":{\"colorbar\":{\"outlinewidth\":0,\"ticks\":\"\"}}}],\"scatterpolar\":[{\"type\":\"scatterpolar\",\"marker\":{\"colorbar\":{\"outlinewidth\":0,\"ticks\":\"\"}}}],\"histogram\":[{\"marker\":{\"pattern\":{\"fillmode\":\"overlay\",\"size\":10,\"solidity\":0.2}},\"type\":\"histogram\"}],\"scattergl\":[{\"type\":\"scattergl\",\"marker\":{\"colorbar\":{\"outlinewidth\":0,\"ticks\":\"\"}}}],\"scatter3d\":[{\"type\":\"scatter3d\",\"line\":{\"colorbar\":{\"outlinewidth\":0,\"ticks\":\"\"}},\"marker\":{\"colorbar\":{\"outlinewidth\":0,\"ticks\":\"\"}}}],\"scattermapbox\":[{\"type\":\"scattermapbox\",\"marker\":{\"colorbar\":{\"outlinewidth\":0,\"ticks\":\"\"}}}],\"scatterternary\":[{\"type\":\"scatterternary\",\"marker\":{\"colorbar\":{\"outlinewidth\":0,\"ticks\":\"\"}}}],\"scattercarpet\":[{\"type\":\"scattercarpet\",\"marker\":{\"colorbar\":{\"outlinewidth\":0,\"ticks\":\"\"}}}],\"carpet\":[{\"aaxis\":{\"endlinecolor\":\"#2a3f5f\",\"gridcolor\":\"white\",\"linecolor\":\"white\",\"minorgridcolor\":\"white\",\"startlinecolor\":\"#2a3f5f\"},\"baxis\":{\"endlinecolor\":\"#2a3f5f\",\"gridcolor\":\"white\",\"linecolor\":\"white\",\"minorgridcolor\":\"white\",\"startlinecolor\":\"#2a3f5f\"},\"type\":\"carpet\"}],\"table\":[{\"cells\":{\"fill\":{\"color\":\"#EBF0F8\"},\"line\":{\"color\":\"white\"}},\"header\":{\"fill\":{\"color\":\"#C8D4E3\"},\"line\":{\"color\":\"white\"}},\"type\":\"table\"}],\"barpolar\":[{\"marker\":{\"line\":{\"color\":\"#E5ECF6\",\"width\":0.5},\"pattern\":{\"fillmode\":\"overlay\",\"size\":10,\"solidity\":0.2}},\"type\":\"barpolar\"}],\"pie\":[{\"automargin\":true,\"type\":\"pie\"}]},\"layout\":{\"autotypenumbers\":\"strict\",\"colorway\":[\"#636efa\",\"#EF553B\",\"#00cc96\",\"#ab63fa\",\"#FFA15A\",\"#19d3f3\",\"#FF6692\",\"#B6E880\",\"#FF97FF\",\"#FECB52\"],\"font\":{\"color\":\"#2a3f5f\"},\"hovermode\":\"closest\",\"hoverlabel\":{\"align\":\"left\"},\"paper_bgcolor\":\"white\",\"plot_bgcolor\":\"#E5ECF6\",\"polar\":{\"bgcolor\":\"#E5ECF6\",\"angularaxis\":{\"gridcolor\":\"white\",\"linecolor\":\"white\",\"ticks\":\"\"},\"radialaxis\":{\"gridcolor\":\"white\",\"linecolor\":\"white\",\"ticks\":\"\"}},\"ternary\":{\"bgcolor\":\"#E5ECF6\",\"aaxis\":{\"gridcolor\":\"white\",\"linecolor\":\"white\",\"ticks\":\"\"},\"baxis\":{\"gridcolor\":\"white\",\"linecolor\":\"white\",\"ticks\":\"\"},\"caxis\":{\"gridcolor\":\"white\",\"linecolor\":\"white\",\"ticks\":\"\"}},\"coloraxis\":{\"colorbar\":{\"outlinewidth\":0,\"ticks\":\"\"}},\"colorscale\":{\"sequential\":[[0.0,\"#0d0887\"],[0.1111111111111111,\"#46039f\"],[0.2222222222222222,\"#7201a8\"],[0.3333333333333333,\"#9c179e\"],[0.4444444444444444,\"#bd3786\"],[0.5555555555555556,\"#d8576b\"],[0.6666666666666666,\"#ed7953\"],[0.7777777777777778,\"#fb9f3a\"],[0.8888888888888888,\"#fdca26\"],[1.0,\"#f0f921\"]],\"sequentialminus\":[[0.0,\"#0d0887\"],[0.1111111111111111,\"#46039f\"],[0.2222222222222222,\"#7201a8\"],[0.3333333333333333,\"#9c179e\"],[0.4444444444444444,\"#bd3786\"],[0.5555555555555556,\"#d8576b\"],[0.6666666666666666,\"#ed7953\"],[0.7777777777777778,\"#fb9f3a\"],[0.8888888888888888,\"#fdca26\"],[1.0,\"#f0f921\"]],\"diverging\":[[0,\"#8e0152\"],[0.1,\"#c51b7d\"],[0.2,\"#de77ae\"],[0.3,\"#f1b6da\"],[0.4,\"#fde0ef\"],[0.5,\"#f7f7f7\"],[0.6,\"#e6f5d0\"],[0.7,\"#b8e186\"],[0.8,\"#7fbc41\"],[0.9,\"#4d9221\"],[1,\"#276419\"]]},\"xaxis\":{\"gridcolor\":\"white\",\"linecolor\":\"white\",\"ticks\":\"\",\"title\":{\"standoff\":15},\"zerolinecolor\":\"white\",\"automargin\":true,\"zerolinewidth\":2},\"yaxis\":{\"gridcolor\":\"white\",\"linecolor\":\"white\",\"ticks\":\"\",\"title\":{\"standoff\":15},\"zerolinecolor\":\"white\",\"automargin\":true,\"zerolinewidth\":2},\"scene\":{\"xaxis\":{\"backgroundcolor\":\"#E5ECF6\",\"gridcolor\":\"white\",\"linecolor\":\"white\",\"showbackground\":true,\"ticks\":\"\",\"zerolinecolor\":\"white\",\"gridwidth\":2},\"yaxis\":{\"backgroundcolor\":\"#E5ECF6\",\"gridcolor\":\"white\",\"linecolor\":\"white\",\"showbackground\":true,\"ticks\":\"\",\"zerolinecolor\":\"white\",\"gridwidth\":2},\"zaxis\":{\"backgroundcolor\":\"#E5ECF6\",\"gridcolor\":\"white\",\"linecolor\":\"white\",\"showbackground\":true,\"ticks\":\"\",\"zerolinecolor\":\"white\",\"gridwidth\":2}},\"shapedefaults\":{\"line\":{\"color\":\"#2a3f5f\"}},\"annotationdefaults\":{\"arrowcolor\":\"#2a3f5f\",\"arrowhead\":0,\"arrowwidth\":1},\"geo\":{\"bgcolor\":\"white\",\"landcolor\":\"#E5ECF6\",\"subunitcolor\":\"white\",\"showland\":true,\"showlakes\":true,\"lakecolor\":\"white\"},\"title\":{\"x\":0.05},\"mapbox\":{\"style\":\"light\"}}},\"scene\":{\"domain\":{\"x\":[0.0,1.0],\"y\":[0.0,1.0]},\"xaxis\":{\"title\":{\"text\":\"x\"},\"range\":[-0.05,1.05]},\"yaxis\":{\"title\":{\"text\":\"y\"},\"range\":[-0.05,1.05]},\"zaxis\":{\"title\":{\"text\":\"z\"},\"range\":[-0.05,1.05]}},\"legend\":{\"title\":{\"text\":\"atom\"},\"tracegroupgap\":0},\"margin\":{\"t\":60}},                        {\"responsive\": true}                    ).then(function(){\n",
       "                            \n",
       "var gd = document.getElementById('af6a4acc-04d2-4a2d-9824-d3d2fe641626');\n",
       "var x = new MutationObserver(function (mutations, observer) {{\n",
       "        var display = window.getComputedStyle(gd).display;\n",
       "        if (!display || display === 'none') {{\n",
       "            console.log([gd, 'removed!']);\n",
       "            Plotly.purge(gd);\n",
       "            observer.disconnect();\n",
       "        }}\n",
       "}});\n",
       "\n",
       "// Listen for the removal of the full notebook cells\n",
       "var notebookContainer = gd.closest('#notebook-container');\n",
       "if (notebookContainer) {{\n",
       "    x.observe(notebookContainer, {childList: true});\n",
       "}}\n",
       "\n",
       "// Listen for the clearing of the current output cell\n",
       "var outputEl = gd.closest('.output');\n",
       "if (outputEl) {{\n",
       "    x.observe(outputEl, {childList: true});\n",
       "}}\n",
       "\n",
       "                        })                };                });            </script>        </div>"
      ]
     },
     "metadata": {},
     "output_type": "display_data"
    }
   ],
   "source": [
    "from collections.abc import Sequence\n",
    "import plotly.express as px\n",
    "import plotly.graph_objects as go\n",
    "from pymatgen.core import Structure\n",
    "\n",
    "from cdv.databatch import CrystalGraphs\n",
    "elements = config.data.metadata['elements']\n",
    "jmol = pd.read_csv('https://raw.githubusercontent.com/CorySimon/JMolColors/master/jmolcolors.csv').set_index('atom')\n",
    "jmol_map = {\n",
    "    i: '#' + row['Hex']\n",
    "    for i, row in jmol.iterrows()\n",
    "}\n",
    "\n",
    "def cg_to_struct(cg: CrystalGraphs, batch_i: int = 0):\n",
    "    mask = (cg.nodes.graph_i == batch_i) & cg.padding_mask[cg.nodes.graph_i]    \n",
    "    coords = np.array(cg.nodes.cart)[mask]\n",
    "    species_i = np.array(cg.nodes.species)[mask]\n",
    "    species = [elements[i] for i in species_i]\n",
    "    lat = cg.globals.lat[batch_i]\n",
    "    return Structure(lat, species, coords, coords_are_cartesian=True)\n",
    "\n",
    "def plot_struct(structs: Structure | Sequence[Structure], last_frame='actual'):\n",
    "    if isinstance(structs, Structure):\n",
    "        structs = [structs]\n",
    "    \n",
    "    sdfs = []\n",
    "    for i, struct in enumerate(structs):\n",
    "        sdf = pd.DataFrame(struct.frac_coords % 1, columns=['x', 'y', 'z'])\n",
    "        sdf['atom'] = struct.species\n",
    "        sdf['frame'] = i\n",
    "        if last_frame is not None and i == len(structs) - 1:\n",
    "            sdf['frame'] = last_frame\n",
    "        sdfs.append(sdf)\n",
    "\n",
    "    sdf = pd.concat(sdfs)\n",
    "    range_xyz = [-0.05, 1.05]\n",
    "    return px.scatter_3d(sdf, x='x', y='y', z='z', color='atom', color_discrete_map=jmol_map, animation_frame='frame',\n",
    "                         range_x=range_xyz, range_y=range_xyz, range_z=range_xyz)\n",
    "\n",
    "struct = clean.iloc[30746]['atoms']\n",
    "batch_i = 19\n",
    "# plot_struct(struct)\n",
    "plot_struct(cg_to_struct(batch, batch_i))"
   ]
  },
  {
   "cell_type": "code",
   "execution_count": 90,
   "metadata": {},
   "outputs": [
    {
     "data": {
      "application/vnd.plotly.v1+json": {
       "config": {
        "plotlyServerURL": "https://plot.ly"
       },
       "data": [
        {
         "hovertemplate": "atom=Ba<br>frame=0<br>x=%{x}<br>y=%{y}<br>z=%{z}<extra></extra>",
         "legendgroup": "Ba",
         "marker": {
          "color": "#FECB52",
          "symbol": "circle"
         },
         "mode": "markers",
         "name": "Ba",
         "scene": "scene",
         "showlegend": true,
         "type": "scatter3d",
         "x": [
          0.3327616535853569,
          0.03570103498075039
         ],
         "y": [
          0.8820067992515203,
          0.9502240372921277
         ],
         "z": [
          0.3274835350683156,
          0.4488382107785885
         ]
        },
        {
         "hovertemplate": "atom=Y<br>frame=0<br>x=%{x}<br>y=%{y}<br>z=%{z}<extra></extra>",
         "legendgroup": "Y",
         "marker": {
          "color": "#636efa",
          "symbol": "circle"
         },
         "mode": "markers",
         "name": "Y",
         "scene": "scene",
         "showlegend": true,
         "type": "scatter3d",
         "x": [
          0.9020767690065083
         ],
         "y": [
          0.8053093128508498
         ],
         "z": [
          0.5908941673197958
         ]
        },
        {
         "hovertemplate": "atom=Sb<br>frame=0<br>x=%{x}<br>y=%{y}<br>z=%{z}<extra></extra>",
         "legendgroup": "Sb",
         "marker": {
          "color": "#EF553B",
          "symbol": "circle"
         },
         "mode": "markers",
         "name": "Sb",
         "scene": "scene",
         "showlegend": true,
         "type": "scatter3d",
         "x": [
          0.4185530018589415
         ],
         "y": [
          0.1561022946914748
         ],
         "z": [
          0.9300017267699981
         ]
        },
        {
         "hovertemplate": "atom=O<br>frame=0<br>x=%{x}<br>y=%{y}<br>z=%{z}<extra></extra>",
         "legendgroup": "O",
         "marker": {
          "color": "#00cc96",
          "symbol": "circle"
         },
         "mode": "markers",
         "name": "O",
         "scene": "scene",
         "showlegend": true,
         "type": "scatter3d",
         "x": [
          0.7027680561672507,
          0.3575362964452946,
          0.3084503737348781,
          0.6536941107165647,
          0.16634739174569838,
          0.014363186938061323
         ],
         "y": [
          0.09002924046695285,
          0.9330798532329408,
          0.5082375846466557,
          0.9012115098933962,
          0.27278887459561313,
          0.5949767590299246
         ],
         "z": [
          0.795647612554369,
          0.12227863630760882,
          0.5523344864901176,
          0.11137416692496471,
          0.04705811800967308,
          0.2214786825903945
         ]
        }
       ],
       "frames": [
        {
         "data": [
          {
           "hovertemplate": "atom=Ba<br>frame=0<br>x=%{x}<br>y=%{y}<br>z=%{z}<extra></extra>",
           "legendgroup": "Ba",
           "marker": {
            "color": "#FECB52",
            "symbol": "circle"
           },
           "mode": "markers",
           "name": "Ba",
           "scene": "scene",
           "showlegend": true,
           "type": "scatter3d",
           "x": [
            0.3327616535853569,
            0.03570103498075039
           ],
           "y": [
            0.8820067992515203,
            0.9502240372921277
           ],
           "z": [
            0.3274835350683156,
            0.4488382107785885
           ]
          },
          {
           "hovertemplate": "atom=Y<br>frame=0<br>x=%{x}<br>y=%{y}<br>z=%{z}<extra></extra>",
           "legendgroup": "Y",
           "marker": {
            "color": "#636efa",
            "symbol": "circle"
           },
           "mode": "markers",
           "name": "Y",
           "scene": "scene",
           "showlegend": true,
           "type": "scatter3d",
           "x": [
            0.9020767690065083
           ],
           "y": [
            0.8053093128508498
           ],
           "z": [
            0.5908941673197958
           ]
          },
          {
           "hovertemplate": "atom=Sb<br>frame=0<br>x=%{x}<br>y=%{y}<br>z=%{z}<extra></extra>",
           "legendgroup": "Sb",
           "marker": {
            "color": "#EF553B",
            "symbol": "circle"
           },
           "mode": "markers",
           "name": "Sb",
           "scene": "scene",
           "showlegend": true,
           "type": "scatter3d",
           "x": [
            0.4185530018589415
           ],
           "y": [
            0.1561022946914748
           ],
           "z": [
            0.9300017267699981
           ]
          },
          {
           "hovertemplate": "atom=O<br>frame=0<br>x=%{x}<br>y=%{y}<br>z=%{z}<extra></extra>",
           "legendgroup": "O",
           "marker": {
            "color": "#00cc96",
            "symbol": "circle"
           },
           "mode": "markers",
           "name": "O",
           "scene": "scene",
           "showlegend": true,
           "type": "scatter3d",
           "x": [
            0.7027680561672507,
            0.3575362964452946,
            0.3084503737348781,
            0.6536941107165647,
            0.16634739174569838,
            0.014363186938061323
           ],
           "y": [
            0.09002924046695285,
            0.9330798532329408,
            0.5082375846466557,
            0.9012115098933962,
            0.27278887459561313,
            0.5949767590299246
           ],
           "z": [
            0.795647612554369,
            0.12227863630760882,
            0.5523344864901176,
            0.11137416692496471,
            0.04705811800967308,
            0.2214786825903945
           ]
          }
         ],
         "name": "0"
        },
        {
         "data": [
          {
           "hovertemplate": "atom=Ba<br>frame=1<br>x=%{x}<br>y=%{y}<br>z=%{z}<extra></extra>",
           "legendgroup": "Ba",
           "marker": {
            "color": "#FECB52",
            "symbol": "circle"
           },
           "mode": "markers",
           "name": "Ba",
           "scene": "scene",
           "showlegend": true,
           "type": "scatter3d",
           "x": [
            0.6976385188573043,
            0.3894548485041557
           ],
           "y": [
            0.11825179975182275,
            0.11821210131022847
           ],
           "z": [
            0.7482800019835565,
            0.9965148575709081
           ]
          },
          {
           "hovertemplate": "atom=Y<br>frame=1<br>x=%{x}<br>y=%{y}<br>z=%{z}<extra></extra>",
           "legendgroup": "Y",
           "marker": {
            "color": "#636efa",
            "symbol": "circle"
           },
           "mode": "markers",
           "name": "Y",
           "scene": "scene",
           "showlegend": true,
           "type": "scatter3d",
           "x": [
            0.6312224028284611
           ],
           "y": [
            0.41438905873025855
           ],
           "z": [
            0.29573148797724746
           ]
          },
          {
           "hovertemplate": "atom=Sb<br>frame=1<br>x=%{x}<br>y=%{y}<br>z=%{z}<extra></extra>",
           "legendgroup": "Sb",
           "marker": {
            "color": "#EF553B",
            "symbol": "circle"
           },
           "mode": "markers",
           "name": "Sb",
           "scene": "scene",
           "showlegend": true,
           "type": "scatter3d",
           "x": [
            0.9776649669142232
           ],
           "y": [
            0.03688049342075515
           ],
           "z": [
            0.5546455363328787
           ]
          },
          {
           "hovertemplate": "atom=O<br>frame=1<br>x=%{x}<br>y=%{y}<br>z=%{z}<extra></extra>",
           "legendgroup": "O",
           "marker": {
            "color": "#00cc96",
            "symbol": "circle"
           },
           "mode": "markers",
           "name": "O",
           "scene": "scene",
           "showlegend": true,
           "type": "scatter3d",
           "x": [
            0.604087242117095,
            0.3177645652741182,
            0.4242788768330439,
            0.4263635816225828,
            0.1752796170494955,
            0.6928417686335511
           ],
           "y": [
            0.03859219699295366,
            0.9644718152733542,
            0.5391181588013512,
            0.5959805242800336,
            0.2769663272616029,
            0.0033959150467692857
           ],
           "z": [
            0.820955159677675,
            0.06718518740600632,
            0.5293332346859969,
            0.9663798054954558,
            0.22649273500523281,
            0.14647230844661618
           ]
          }
         ],
         "name": "1"
        },
        {
         "data": [
          {
           "hovertemplate": "atom=Ba<br>frame=2<br>x=%{x}<br>y=%{y}<br>z=%{z}<extra></extra>",
           "legendgroup": "Ba",
           "marker": {
            "color": "#FECB52",
            "symbol": "circle"
           },
           "mode": "markers",
           "name": "Ba",
           "scene": "scene",
           "showlegend": true,
           "type": "scatter3d",
           "x": [
            0.5879309986541071,
            0.3942312557571719
           ],
           "y": [
            0.054744545998119946,
            0.11323952508119826
           ],
           "z": [
            0.011569863215494358,
            0.9898377969557803
           ]
          },
          {
           "hovertemplate": "atom=Y<br>frame=2<br>x=%{x}<br>y=%{y}<br>z=%{z}<extra></extra>",
           "legendgroup": "Y",
           "marker": {
            "color": "#636efa",
            "symbol": "circle"
           },
           "mode": "markers",
           "name": "Y",
           "scene": "scene",
           "showlegend": true,
           "type": "scatter3d",
           "x": [
            0.6130101582841154
           ],
           "y": [
            0.45230226164914666
           ],
           "z": [
            0.28232452009568654
           ]
          },
          {
           "hovertemplate": "atom=Sb<br>frame=2<br>x=%{x}<br>y=%{y}<br>z=%{z}<extra></extra>",
           "legendgroup": "Sb",
           "marker": {
            "color": "#EF553B",
            "symbol": "circle"
           },
           "mode": "markers",
           "name": "Sb",
           "scene": "scene",
           "showlegend": true,
           "type": "scatter3d",
           "x": [
            0.0178097470036877
           ],
           "y": [
            0.038040378322988073
           ],
           "z": [
            0.4986691663037441
           ]
          },
          {
           "hovertemplate": "atom=O<br>frame=2<br>x=%{x}<br>y=%{y}<br>z=%{z}<extra></extra>",
           "legendgroup": "O",
           "marker": {
            "color": "#00cc96",
            "symbol": "circle"
           },
           "mode": "markers",
           "name": "O",
           "scene": "scene",
           "showlegend": true,
           "type": "scatter3d",
           "x": [
            0.5857241384149433,
            0.3166013654486881,
            0.43301155623677734,
            0.3640747513903705,
            0.17801846102930108,
            0.6920742595933009
           ],
           "y": [
            0.04706467826661775,
            0.9552746125718959,
            0.5265982962099827,
            0.5816357488818069,
            0.27385587049274396,
            0.029666328763968963
           ],
           "z": [
            0.829074427047719,
            0.07727114219543096,
            0.525907893150202,
            0.9477880254095303,
            0.2250880698740192,
            0.2878055660253332
           ]
          }
         ],
         "name": "2"
        },
        {
         "data": [
          {
           "hovertemplate": "atom=Ba<br>frame=3<br>x=%{x}<br>y=%{y}<br>z=%{z}<extra></extra>",
           "legendgroup": "Ba",
           "marker": {
            "color": "#FECB52",
            "symbol": "circle"
           },
           "mode": "markers",
           "name": "Ba",
           "scene": "scene",
           "showlegend": true,
           "type": "scatter3d",
           "x": [
            0.5808292448128454,
            0.2630771535528546
           ],
           "y": [
            0.5311654402530431,
            0.9556926495600498
           ],
           "z": [
            0.4672700522370625,
            0.7290029214912046
           ]
          },
          {
           "hovertemplate": "atom=Y<br>frame=3<br>x=%{x}<br>y=%{y}<br>z=%{z}<extra></extra>",
           "legendgroup": "Y",
           "marker": {
            "color": "#636efa",
            "symbol": "circle"
           },
           "mode": "markers",
           "name": "Y",
           "scene": "scene",
           "showlegend": true,
           "type": "scatter3d",
           "x": [
            0.17916107567221057
           ],
           "y": [
            0.6045799408952681
           ],
           "z": [
            0.24455454491392858
           ]
          },
          {
           "hovertemplate": "atom=Sb<br>frame=3<br>x=%{x}<br>y=%{y}<br>z=%{z}<extra></extra>",
           "legendgroup": "Sb",
           "marker": {
            "color": "#EF553B",
            "symbol": "circle"
           },
           "mode": "markers",
           "name": "Sb",
           "scene": "scene",
           "showlegend": true,
           "type": "scatter3d",
           "x": [
            0.6002230670518458
           ],
           "y": [
            0.8356352270891858
           ],
           "z": [
            0.31523701155091244
           ]
          },
          {
           "hovertemplate": "atom=O<br>frame=3<br>x=%{x}<br>y=%{y}<br>z=%{z}<extra></extra>",
           "legendgroup": "O",
           "marker": {
            "color": "#00cc96",
            "symbol": "circle"
           },
           "mode": "markers",
           "name": "O",
           "scene": "scene",
           "showlegend": true,
           "type": "scatter3d",
           "x": [
            0.4053471438173806,
            0.2419868613016789,
            0.42063550952119466,
            0.07032172309340151,
            0.2716693384201106,
            0.07353161744420955
           ],
           "y": [
            0.16745713078820537,
            0.8338235389928157,
            0.45583739207153323,
            0.7764210510552589,
            0.2449851363005759,
            0.9003443189512338
           ],
           "z": [
            0.801651803437375,
            0.9627856688614003,
            0.4781820156641946,
            0.42744354300073845,
            0.24762813844849907,
            0.7092752613780935
           ]
          }
         ],
         "name": "3"
        },
        {
         "data": [
          {
           "hovertemplate": "atom=Ba<br>frame=4<br>x=%{x}<br>y=%{y}<br>z=%{z}<extra></extra>",
           "legendgroup": "Ba",
           "marker": {
            "color": "#FECB52",
            "symbol": "circle"
           },
           "mode": "markers",
           "name": "Ba",
           "scene": "scene",
           "showlegend": true,
           "type": "scatter3d",
           "x": [
            0.5811659322902891,
            0.25697311023630337
           ],
           "y": [
            0.5278658263659691,
            0.947217068744865
           ],
           "z": [
            0.47765599640008616,
            0.7188222390984352
           ]
          },
          {
           "hovertemplate": "atom=Y<br>frame=4<br>x=%{x}<br>y=%{y}<br>z=%{z}<extra></extra>",
           "legendgroup": "Y",
           "marker": {
            "color": "#636efa",
            "symbol": "circle"
           },
           "mode": "markers",
           "name": "Y",
           "scene": "scene",
           "showlegend": true,
           "type": "scatter3d",
           "x": [
            0.16876628345346473
           ],
           "y": [
            0.6026844314721271
           ],
           "z": [
            0.2535033067213527
           ]
          },
          {
           "hovertemplate": "atom=Sb<br>frame=4<br>x=%{x}<br>y=%{y}<br>z=%{z}<extra></extra>",
           "legendgroup": "Sb",
           "marker": {
            "color": "#EF553B",
            "symbol": "circle"
           },
           "mode": "markers",
           "name": "Sb",
           "scene": "scene",
           "showlegend": true,
           "type": "scatter3d",
           "x": [
            0.5980155857228462
           ],
           "y": [
            0.8360118396165456
           ],
           "z": [
            0.3205961116043201
           ]
          },
          {
           "hovertemplate": "atom=O<br>frame=4<br>x=%{x}<br>y=%{y}<br>z=%{z}<extra></extra>",
           "legendgroup": "O",
           "marker": {
            "color": "#00cc96",
            "symbol": "circle"
           },
           "mode": "markers",
           "name": "O",
           "scene": "scene",
           "showlegend": true,
           "type": "scatter3d",
           "x": [
            0.39082938378348187,
            0.22494918089012528,
            0.4222854713923807,
            0.06301470334281006,
            0.27888607890600725,
            0.07374469381699167
           ],
           "y": [
            0.17500769901803606,
            0.8301844098361117,
            0.44193049072719276,
            0.7652042600293141,
            0.24813093999783542,
            0.9061457855132826
           ],
           "z": [
            0.8052045537273341,
            0.9815159705297469,
            0.5026694271623762,
            0.4340453466518658,
            0.2623575738301284,
            0.6979894712881796
           ]
          }
         ],
         "name": "4"
        },
        {
         "data": [
          {
           "hovertemplate": "atom=Ba<br>frame=5<br>x=%{x}<br>y=%{y}<br>z=%{z}<extra></extra>",
           "legendgroup": "Ba",
           "marker": {
            "color": "#FECB52",
            "symbol": "circle"
           },
           "mode": "markers",
           "name": "Ba",
           "scene": "scene",
           "showlegend": true,
           "type": "scatter3d",
           "x": [
            0.5818174380816541,
            0.2513083923876428
           ],
           "y": [
            0.5270890204855627,
            0.9392344973574402
           ],
           "z": [
            0.48787775155665636,
            0.7089116333901382
           ]
          },
          {
           "hovertemplate": "atom=Y<br>frame=5<br>x=%{x}<br>y=%{y}<br>z=%{z}<extra></extra>",
           "legendgroup": "Y",
           "marker": {
            "color": "#636efa",
            "symbol": "circle"
           },
           "mode": "markers",
           "name": "Y",
           "scene": "scene",
           "showlegend": true,
           "type": "scatter3d",
           "x": [
            0.15888277493742492
           ],
           "y": [
            0.5994726257730743
           ],
           "z": [
            0.26064361931531504
           ]
          },
          {
           "hovertemplate": "atom=Sb<br>frame=5<br>x=%{x}<br>y=%{y}<br>z=%{z}<extra></extra>",
           "legendgroup": "Sb",
           "marker": {
            "color": "#EF553B",
            "symbol": "circle"
           },
           "mode": "markers",
           "name": "Sb",
           "scene": "scene",
           "showlegend": true,
           "type": "scatter3d",
           "x": [
            0.5949400327358043
           ],
           "y": [
            0.8345829874407064
           ],
           "z": [
            0.32422020703187004
           ]
          },
          {
           "hovertemplate": "atom=O<br>frame=5<br>x=%{x}<br>y=%{y}<br>z=%{z}<extra></extra>",
           "legendgroup": "O",
           "marker": {
            "color": "#00cc96",
            "symbol": "circle"
           },
           "mode": "markers",
           "name": "O",
           "scene": "scene",
           "showlegend": true,
           "type": "scatter3d",
           "x": [
            0.37654310101082644,
            0.2100544617268627,
            0.42226890716337917,
            0.057330056295557985,
            0.28587881184071795,
            0.07529361190211481
           ],
           "y": [
            0.18480178833092387,
            0.826448040161112,
            0.4289154794166619,
            0.7538647514692799,
            0.24990117932328182,
            0.9113638089655562
           ],
           "z": [
            0.8083956280979611,
            0.992967599510006,
            0.526394812354359,
            0.4417689373986935,
            0.27362927471296705,
            0.6871871876518107
           ]
          }
         ],
         "name": "5"
        },
        {
         "data": [
          {
           "hovertemplate": "atom=Ba<br>frame=6<br>x=%{x}<br>y=%{y}<br>z=%{z}<extra></extra>",
           "legendgroup": "Ba",
           "marker": {
            "color": "#FECB52",
            "symbol": "circle"
           },
           "mode": "markers",
           "name": "Ba",
           "scene": "scene",
           "showlegend": true,
           "type": "scatter3d",
           "x": [
            0.5823181248281812,
            0.2452317284234528
           ],
           "y": [
            0.5252633783748173,
            0.9320302390784555
           ],
           "z": [
            0.4985234710106834,
            0.7003645682165834
           ]
          },
          {
           "hovertemplate": "atom=Y<br>frame=6<br>x=%{x}<br>y=%{y}<br>z=%{z}<extra></extra>",
           "legendgroup": "Y",
           "marker": {
            "color": "#636efa",
            "symbol": "circle"
           },
           "mode": "markers",
           "name": "Y",
           "scene": "scene",
           "showlegend": true,
           "type": "scatter3d",
           "x": [
            0.14876688073500421
           ],
           "y": [
            0.5982001849709139
           ],
           "z": [
            0.2697654546227922
           ]
          },
          {
           "hovertemplate": "atom=Sb<br>frame=6<br>x=%{x}<br>y=%{y}<br>z=%{z}<extra></extra>",
           "legendgroup": "Sb",
           "marker": {
            "color": "#EF553B",
            "symbol": "circle"
           },
           "mode": "markers",
           "name": "Sb",
           "scene": "scene",
           "showlegend": true,
           "type": "scatter3d",
           "x": [
            0.5931059302021437
           ],
           "y": [
            0.8332283297803268
           ],
           "z": [
            0.325858811002684
           ]
          },
          {
           "hovertemplate": "atom=O<br>frame=6<br>x=%{x}<br>y=%{y}<br>z=%{z}<extra></extra>",
           "legendgroup": "O",
           "marker": {
            "color": "#00cc96",
            "symbol": "circle"
           },
           "mode": "markers",
           "name": "O",
           "scene": "scene",
           "showlegend": true,
           "type": "scatter3d",
           "x": [
            0.36253593145876983,
            0.19573997385450037,
            0.42067408532615824,
            0.05230353952429034,
            0.2922707269868451,
            0.07517557386785373
           ],
           "y": [
            0.19351705486864312,
            0.8232089584966771,
            0.4158996415617255,
            0.7427983915251387,
            0.25168413284649543,
            0.9165813462152386
           ],
           "z": [
            0.812314782549757,
            0.007647040783478443,
            0.5523171227229575,
            0.44807746485249755,
            0.2867685477552755,
            0.6770453025256363
           ]
          }
         ],
         "name": "6"
        },
        {
         "data": [
          {
           "hovertemplate": "atom=Ba<br>frame=7<br>x=%{x}<br>y=%{y}<br>z=%{z}<extra></extra>",
           "legendgroup": "Ba",
           "marker": {
            "color": "#FECB52",
            "symbol": "circle"
           },
           "mode": "markers",
           "name": "Ba",
           "scene": "scene",
           "showlegend": true,
           "type": "scatter3d",
           "x": [
            0.5839201947911311,
            0.23999139750937043
           ],
           "y": [
            0.5278054886243666,
            0.9230928630418836
           ],
           "z": [
            0.5043946079308261,
            0.6907036096433742
           ]
          },
          {
           "hovertemplate": "atom=Y<br>frame=7<br>x=%{x}<br>y=%{y}<br>z=%{z}<extra></extra>",
           "legendgroup": "Y",
           "marker": {
            "color": "#636efa",
            "symbol": "circle"
           },
           "mode": "markers",
           "name": "Y",
           "scene": "scene",
           "showlegend": true,
           "type": "scatter3d",
           "x": [
            0.13767753761900262
           ],
           "y": [
            0.599032466567008
           ],
           "z": [
            0.2778591683318305
           ]
          },
          {
           "hovertemplate": "atom=Sb<br>frame=7<br>x=%{x}<br>y=%{y}<br>z=%{z}<extra></extra>",
           "legendgroup": "Sb",
           "marker": {
            "color": "#EF553B",
            "symbol": "circle"
           },
           "mode": "markers",
           "name": "Sb",
           "scene": "scene",
           "showlegend": true,
           "type": "scatter3d",
           "x": [
            0.591962800663665
           ],
           "y": [
            0.8389229290127685
           ],
           "z": [
            0.32923253708891187
           ]
          },
          {
           "hovertemplate": "atom=O<br>frame=7<br>x=%{x}<br>y=%{y}<br>z=%{z}<extra></extra>",
           "legendgroup": "O",
           "marker": {
            "color": "#00cc96",
            "symbol": "circle"
           },
           "mode": "markers",
           "name": "O",
           "scene": "scene",
           "showlegend": true,
           "type": "scatter3d",
           "x": [
            0.3509939454719073,
            0.19088248315163203,
            0.42064621427640847,
            0.04873097315208452,
            0.30078004565383476,
            0.08100089097584057
           ],
           "y": [
            0.2067141368946182,
            0.8211179956317614,
            0.41340133816566843,
            0.7341893967188521,
            0.2533595383564738,
            0.9178319565210415
           ],
           "z": [
            0.813250234741316,
            0.013825593178305007,
            0.5535755255498934,
            0.45375093721793747,
            0.28928078644232097,
            0.6661795937845385
           ]
          }
         ],
         "name": "7"
        },
        {
         "data": [
          {
           "hovertemplate": "atom=Ba<br>frame=8<br>x=%{x}<br>y=%{y}<br>z=%{z}<extra></extra>",
           "legendgroup": "Ba",
           "marker": {
            "color": "#FECB52",
            "symbol": "circle"
           },
           "mode": "markers",
           "name": "Ba",
           "scene": "scene",
           "showlegend": true,
           "type": "scatter3d",
           "x": [
            0.5858178487687457,
            0.2347845995819805
           ],
           "y": [
            0.53054023234066,
            0.9146367303303581
           ],
           "z": [
            0.5099386667240625,
            0.681166842694283
           ]
          },
          {
           "hovertemplate": "atom=Y<br>frame=8<br>x=%{x}<br>y=%{y}<br>z=%{z}<extra></extra>",
           "legendgroup": "Y",
           "marker": {
            "color": "#636efa",
            "symbol": "circle"
           },
           "mode": "markers",
           "name": "Y",
           "scene": "scene",
           "showlegend": true,
           "type": "scatter3d",
           "x": [
            0.1292481705459453
           ],
           "y": [
            0.5987108435527445
           ],
           "z": [
            0.2827094546955751
           ]
          },
          {
           "hovertemplate": "atom=Sb<br>frame=8<br>x=%{x}<br>y=%{y}<br>z=%{z}<extra></extra>",
           "legendgroup": "Sb",
           "marker": {
            "color": "#EF553B",
            "symbol": "circle"
           },
           "mode": "markers",
           "name": "Sb",
           "scene": "scene",
           "showlegend": true,
           "type": "scatter3d",
           "x": [
            0.5912481486569962
           ],
           "y": [
            0.8413361469553167
           ],
           "z": [
            0.33015387640010263
           ]
          },
          {
           "hovertemplate": "atom=O<br>frame=8<br>x=%{x}<br>y=%{y}<br>z=%{z}<extra></extra>",
           "legendgroup": "O",
           "marker": {
            "color": "#00cc96",
            "symbol": "circle"
           },
           "mode": "markers",
           "name": "O",
           "scene": "scene",
           "showlegend": true,
           "type": "scatter3d",
           "x": [
            0.3409272046338644,
            0.18616630779524285,
            0.42083763283991643,
            0.04642161332361927,
            0.30821198842073727,
            0.08549221036488208
           ],
           "y": [
            0.21871855180862987,
            0.819372917290424,
            0.41069581522512294,
            0.7257577199976779,
            0.25500326776761734,
            0.9195849113443608
           ],
           "z": [
            0.8138135921673759,
            0.019579362729669314,
            0.5548520298911582,
            0.45913971669737574,
            0.29134782957249966,
            0.6569732996786836
           ]
          }
         ],
         "name": "8"
        },
        {
         "data": [
          {
           "hovertemplate": "atom=Ba<br>frame=9<br>x=%{x}<br>y=%{y}<br>z=%{z}<extra></extra>",
           "legendgroup": "Ba",
           "marker": {
            "color": "#FECB52",
            "symbol": "circle"
           },
           "mode": "markers",
           "name": "Ba",
           "scene": "scene",
           "showlegend": true,
           "type": "scatter3d",
           "x": [
            0.5877640226676244,
            0.23003194844527802
           ],
           "y": [
            0.5332842625264506,
            0.9081796681939586
           ],
           "z": [
            0.5149921314312342,
            0.6735280385690734
           ]
          },
          {
           "hovertemplate": "atom=Y<br>frame=9<br>x=%{x}<br>y=%{y}<br>z=%{z}<extra></extra>",
           "legendgroup": "Y",
           "marker": {
            "color": "#636efa",
            "symbol": "circle"
           },
           "mode": "markers",
           "name": "Y",
           "scene": "scene",
           "showlegend": true,
           "type": "scatter3d",
           "x": [
            0.12340225305380603
           ],
           "y": [
            0.5968404221833238
           ],
           "z": [
            0.2840171690134679
           ]
          },
          {
           "hovertemplate": "atom=Sb<br>frame=9<br>x=%{x}<br>y=%{y}<br>z=%{z}<extra></extra>",
           "legendgroup": "Sb",
           "marker": {
            "color": "#EF553B",
            "symbol": "circle"
           },
           "mode": "markers",
           "name": "Sb",
           "scene": "scene",
           "showlegend": true,
           "type": "scatter3d",
           "x": [
            0.5902072753437637
           ],
           "y": [
            0.841011169143172
           ],
           "z": [
            0.32919384932290763
           ]
          },
          {
           "hovertemplate": "atom=O<br>frame=9<br>x=%{x}<br>y=%{y}<br>z=%{z}<extra></extra>",
           "legendgroup": "O",
           "marker": {
            "color": "#00cc96",
            "symbol": "circle"
           },
           "mode": "markers",
           "name": "O",
           "scene": "scene",
           "showlegend": true,
           "type": "scatter3d",
           "x": [
            0.3321644634318129,
            0.18219812590417556,
            0.4211192101796571,
            0.04501751143086774,
            0.3139117436676435,
            0.09003839749604159
           ],
           "y": [
            0.22948502199434662,
            0.8172376127491654,
            0.40792898213779194,
            0.7174481773674832,
            0.25569399147920235,
            0.9216080975680243
           ],
           "z": [
            0.813821254704786,
            0.02480907218277051,
            0.5558628992593805,
            0.4636916562382597,
            0.29117211997521436,
            0.6484397076215449
           ]
          }
         ],
         "name": "9"
        },
        {
         "data": [
          {
           "hovertemplate": "atom=Ba<br>frame=10<br>x=%{x}<br>y=%{y}<br>z=%{z}<extra></extra>",
           "legendgroup": "Ba",
           "marker": {
            "color": "#FECB52",
            "symbol": "circle"
           },
           "mode": "markers",
           "name": "Ba",
           "scene": "scene",
           "showlegend": true,
           "type": "scatter3d",
           "x": [
            0.5897283428677433,
            0.22561589738650334
           ],
           "y": [
            0.5360109838999846,
            0.9023630321110556
           ],
           "z": [
            0.5198900365511976,
            0.6661471282678024
           ]
          },
          {
           "hovertemplate": "atom=Y<br>frame=10<br>x=%{x}<br>y=%{y}<br>z=%{z}<extra></extra>",
           "legendgroup": "Y",
           "marker": {
            "color": "#636efa",
            "symbol": "circle"
           },
           "mode": "markers",
           "name": "Y",
           "scene": "scene",
           "showlegend": true,
           "type": "scatter3d",
           "x": [
            0.11826608804509423
           ],
           "y": [
            0.5948436367603777
           ],
           "z": [
            0.28404295544682934
           ]
          },
          {
           "hovertemplate": "atom=Sb<br>frame=10<br>x=%{x}<br>y=%{y}<br>z=%{z}<extra></extra>",
           "legendgroup": "Sb",
           "marker": {
            "color": "#EF553B",
            "symbol": "circle"
           },
           "mode": "markers",
           "name": "Sb",
           "scene": "scene",
           "showlegend": true,
           "type": "scatter3d",
           "x": [
            0.5886875312999772
           ],
           "y": [
            0.8420182891911621
           ],
           "z": [
            0.3296747741376148
           ]
          },
          {
           "hovertemplate": "atom=O<br>frame=10<br>x=%{x}<br>y=%{y}<br>z=%{z}<extra></extra>",
           "legendgroup": "O",
           "marker": {
            "color": "#00cc96",
            "symbol": "circle"
           },
           "mode": "markers",
           "name": "O",
           "scene": "scene",
           "showlegend": true,
           "type": "scatter3d",
           "x": [
            0.32393856513980007,
            0.1784463454670917,
            0.4214518387383456,
            0.043906055211459794,
            0.31916480604302716,
            0.09447087686500899
           ],
           "y": [
            0.23955257595481194,
            0.815101092701428,
            0.40527069377900865,
            0.7089351589527546,
            0.2563927861538059,
            0.9231709471780752
           ],
           "z": [
            0.8137593386599695,
            0.029991093352922493,
            0.5565616563724893,
            0.46787396139252724,
            0.29121556253909753,
            0.6404679291835482
           ]
          }
         ],
         "name": "10"
        },
        {
         "data": [
          {
           "hovertemplate": "atom=Ba<br>frame=11<br>x=%{x}<br>y=%{y}<br>z=%{z}<extra></extra>",
           "legendgroup": "Ba",
           "marker": {
            "color": "#FECB52",
            "symbol": "circle"
           },
           "mode": "markers",
           "name": "Ba",
           "scene": "scene",
           "showlegend": true,
           "type": "scatter3d",
           "x": [
            0.5917172818058378,
            0.2216708152572121
           ],
           "y": [
            0.5387327460070855,
            0.8975428196191303
           ],
           "z": [
            0.5241320622745997,
            0.6593424852497909
           ]
          },
          {
           "hovertemplate": "atom=Y<br>frame=11<br>x=%{x}<br>y=%{y}<br>z=%{z}<extra></extra>",
           "legendgroup": "Y",
           "marker": {
            "color": "#636efa",
            "symbol": "circle"
           },
           "mode": "markers",
           "name": "Y",
           "scene": "scene",
           "showlegend": true,
           "type": "scatter3d",
           "x": [
            0.11391094516670458
           ],
           "y": [
            0.592480205963197
           ],
           "z": [
            0.28294142697899377
           ]
          },
          {
           "hovertemplate": "atom=Sb<br>frame=11<br>x=%{x}<br>y=%{y}<br>z=%{z}<extra></extra>",
           "legendgroup": "Sb",
           "marker": {
            "color": "#EF553B",
            "symbol": "circle"
           },
           "mode": "markers",
           "name": "Sb",
           "scene": "scene",
           "showlegend": true,
           "type": "scatter3d",
           "x": [
            0.5875663122894665
           ],
           "y": [
            0.842099096061866
           ],
           "z": [
            0.3289707649291941
           ]
          },
          {
           "hovertemplate": "atom=O<br>frame=11<br>x=%{x}<br>y=%{y}<br>z=%{z}<extra></extra>",
           "legendgroup": "O",
           "marker": {
            "color": "#00cc96",
            "symbol": "circle"
           },
           "mode": "markers",
           "name": "O",
           "scene": "scene",
           "showlegend": true,
           "type": "scatter3d",
           "x": [
            0.3166693439163387,
            0.1750970463420844,
            0.4215022338270746,
            0.04286429767060035,
            0.32333639735596276,
            0.09829998555965747
           ],
           "y": [
            0.24866449872172475,
            0.8131163651027506,
            0.40286282406496676,
            0.7010208990294327,
            0.25671526002260453,
            0.9248411503203248
           ],
           "z": [
            0.8134907862550887,
            0.03527493733661374,
            0.5574023232100758,
            0.4714818634228114,
            0.2904619788998665,
            0.6334247464730932
           ]
          }
         ],
         "name": "11"
        },
        {
         "data": [
          {
           "hovertemplate": "atom=Ba<br>frame=12<br>x=%{x}<br>y=%{y}<br>z=%{z}<extra></extra>",
           "legendgroup": "Ba",
           "marker": {
            "color": "#FECB52",
            "symbol": "circle"
           },
           "mode": "markers",
           "name": "Ba",
           "scene": "scene",
           "showlegend": true,
           "type": "scatter3d",
           "x": [
            0.5934707006295759,
            0.21796578351794782
           ],
           "y": [
            0.5412282780483711,
            0.8933828702464337
           ],
           "z": [
            0.5282487902014824,
            0.6532274228349789
           ]
          },
          {
           "hovertemplate": "atom=Y<br>frame=12<br>x=%{x}<br>y=%{y}<br>z=%{z}<extra></extra>",
           "legendgroup": "Y",
           "marker": {
            "color": "#636efa",
            "symbol": "circle"
           },
           "mode": "markers",
           "name": "Y",
           "scene": "scene",
           "showlegend": true,
           "type": "scatter3d",
           "x": [
            0.11037635732004777
           ],
           "y": [
            0.5901350563834559
           ],
           "z": [
            0.2810300478921717
           ]
          },
          {
           "hovertemplate": "atom=Sb<br>frame=12<br>x=%{x}<br>y=%{y}<br>z=%{z}<extra></extra>",
           "legendgroup": "Sb",
           "marker": {
            "color": "#EF553B",
            "symbol": "circle"
           },
           "mode": "markers",
           "name": "Sb",
           "scene": "scene",
           "showlegend": true,
           "type": "scatter3d",
           "x": [
            0.5862885792166046
           ],
           "y": [
            0.8417993035439598
           ],
           "z": [
            0.3281947012818458
           ]
          },
          {
           "hovertemplate": "atom=O<br>frame=12<br>x=%{x}<br>y=%{y}<br>z=%{z}<extra></extra>",
           "legendgroup": "O",
           "marker": {
            "color": "#00cc96",
            "symbol": "circle"
           },
           "mode": "markers",
           "name": "O",
           "scene": "scene",
           "showlegend": true,
           "type": "scatter3d",
           "x": [
            0.30989437122250385,
            0.17207600047484184,
            0.4217886747311963,
            0.04193463469306832,
            0.32713707636747663,
            0.1024924702514961
           ],
           "y": [
            0.25723389232693544,
            0.8112184246666522,
            0.4004945069317417,
            0.6932412199834321,
            0.2570979014620987,
            0.9261704282054292
           ],
           "z": [
            0.8130673349644413,
            0.04036007412627507,
            0.5580826422316805,
            0.4751313343501315,
            0.28968885704436903,
            0.6265712910399629
           ]
          }
         ],
         "name": "12"
        },
        {
         "data": [
          {
           "hovertemplate": "atom=Ba<br>frame=13<br>x=%{x}<br>y=%{y}<br>z=%{z}<extra></extra>",
           "legendgroup": "Ba",
           "marker": {
            "color": "#FECB52",
            "symbol": "circle"
           },
           "mode": "markers",
           "name": "Ba",
           "scene": "scene",
           "showlegend": true,
           "type": "scatter3d",
           "x": [
            0.5953002942189369,
            0.214040592444324
           ],
           "y": [
            0.5434807087939171,
            0.8891944294018764
           ],
           "z": [
            0.5323175007201696,
            0.6470558998975526
           ]
          },
          {
           "hovertemplate": "atom=Y<br>frame=13<br>x=%{x}<br>y=%{y}<br>z=%{z}<extra></extra>",
           "legendgroup": "Y",
           "marker": {
            "color": "#636efa",
            "symbol": "circle"
           },
           "mode": "markers",
           "name": "Y",
           "scene": "scene",
           "showlegend": true,
           "type": "scatter3d",
           "x": [
            0.10697004205281041
           ],
           "y": [
            0.5883811291549537
           ],
           "z": [
            0.27955217218934514
           ]
          },
          {
           "hovertemplate": "atom=Sb<br>frame=13<br>x=%{x}<br>y=%{y}<br>z=%{z}<extra></extra>",
           "legendgroup": "Sb",
           "marker": {
            "color": "#EF553B",
            "symbol": "circle"
           },
           "mode": "markers",
           "name": "Sb",
           "scene": "scene",
           "showlegend": true,
           "type": "scatter3d",
           "x": [
            0.5856555581507622
           ],
           "y": [
            0.8403841622812003
           ],
           "z": [
            0.32619282144429895
           ]
          },
          {
           "hovertemplate": "atom=O<br>frame=13<br>x=%{x}<br>y=%{y}<br>z=%{z}<extra></extra>",
           "legendgroup": "O",
           "marker": {
            "color": "#00cc96",
            "symbol": "circle"
           },
           "mode": "markers",
           "name": "O",
           "scene": "scene",
           "showlegend": true,
           "type": "scatter3d",
           "x": [
            0.30352926133266733,
            0.16928909610507736,
            0.42199810548436695,
            0.04106553275079827,
            0.3306045892570846,
            0.10596591833120267
           ],
           "y": [
            0.2654015610409364,
            0.8098843333758923,
            0.3977891298519737,
            0.6857228748303518,
            0.25755247657500224,
            0.9275027205466005
           ],
           "z": [
            0.8124763372377921,
            0.04500282538442335,
            0.5590534420674852,
            0.4784705129181969,
            0.28895647452777934,
            0.6205332501622903
           ]
          }
         ],
         "name": "13"
        },
        {
         "data": [
          {
           "hovertemplate": "atom=Ba<br>frame=14<br>x=%{x}<br>y=%{y}<br>z=%{z}<extra></extra>",
           "legendgroup": "Ba",
           "marker": {
            "color": "#FECB52",
            "symbol": "circle"
           },
           "mode": "markers",
           "name": "Ba",
           "scene": "scene",
           "showlegend": true,
           "type": "scatter3d",
           "x": [
            0.5968273743777537,
            0.21040432758970368
           ],
           "y": [
            0.5455537307832072,
            0.8856849218560608
           ],
           "z": [
            0.5365553978584515,
            0.6414408594852647
           ]
          },
          {
           "hovertemplate": "atom=Y<br>frame=14<br>x=%{x}<br>y=%{y}<br>z=%{z}<extra></extra>",
           "legendgroup": "Y",
           "marker": {
            "color": "#636efa",
            "symbol": "circle"
           },
           "mode": "markers",
           "name": "Y",
           "scene": "scene",
           "showlegend": true,
           "type": "scatter3d",
           "x": [
            0.10398528250602893
           ],
           "y": [
            0.5866953675297767
           ],
           "z": [
            0.27777254820241376
           ]
          },
          {
           "hovertemplate": "atom=Sb<br>frame=14<br>x=%{x}<br>y=%{y}<br>z=%{z}<extra></extra>",
           "legendgroup": "Sb",
           "marker": {
            "color": "#EF553B",
            "symbol": "circle"
           },
           "mode": "markers",
           "name": "Sb",
           "scene": "scene",
           "showlegend": true,
           "type": "scatter3d",
           "x": [
            0.5849067290319533
           ],
           "y": [
            0.8389987766170393
           ],
           "z": [
            0.324837302155227
           ]
          },
          {
           "hovertemplate": "atom=O<br>frame=14<br>x=%{x}<br>y=%{y}<br>z=%{z}<extra></extra>",
           "legendgroup": "O",
           "marker": {
            "color": "#00cc96",
            "symbol": "circle"
           },
           "mode": "markers",
           "name": "O",
           "scene": "scene",
           "showlegend": true,
           "type": "scatter3d",
           "x": [
            0.29720933608014977,
            0.166652077042877,
            0.42277919031035394,
            0.039999399532613444,
            0.33380688620158105,
            0.10937006582194947
           ],
           "y": [
            0.27317637806102213,
            0.8083904759135722,
            0.3950434951976311,
            0.6781282444906682,
            0.25797676126645663,
            0.9288008814658502
           ],
           "z": [
            0.8120151873552726,
            0.04939108887417254,
            0.5598760505360628,
            0.4819692953181073,
            0.2882944335661955,
            0.6144481559920345
           ]
          }
         ],
         "name": "14"
        },
        {
         "data": [
          {
           "hovertemplate": "atom=Ba<br>frame=15<br>x=%{x}<br>y=%{y}<br>z=%{z}<extra></extra>",
           "legendgroup": "Ba",
           "marker": {
            "color": "#FECB52",
            "symbol": "circle"
           },
           "mode": "markers",
           "name": "Ba",
           "scene": "scene",
           "showlegend": true,
           "type": "scatter3d",
           "x": [
            0.5981928577775153,
            0.20701875302876893
           ],
           "y": [
            0.5475215871519603,
            0.8821541186367384
           ],
           "z": [
            0.5407809041357475,
            0.6362872230703338
           ]
          },
          {
           "hovertemplate": "atom=Y<br>frame=15<br>x=%{x}<br>y=%{y}<br>z=%{z}<extra></extra>",
           "legendgroup": "Y",
           "marker": {
            "color": "#636efa",
            "symbol": "circle"
           },
           "mode": "markers",
           "name": "Y",
           "scene": "scene",
           "showlegend": true,
           "type": "scatter3d",
           "x": [
            0.10132961991294237
           ],
           "y": [
            0.584562007798884
           ],
           "z": [
            0.27563006307690624
           ]
          },
          {
           "hovertemplate": "atom=Sb<br>frame=15<br>x=%{x}<br>y=%{y}<br>z=%{z}<extra></extra>",
           "legendgroup": "Sb",
           "marker": {
            "color": "#EF553B",
            "symbol": "circle"
           },
           "mode": "markers",
           "name": "Sb",
           "scene": "scene",
           "showlegend": true,
           "type": "scatter3d",
           "x": [
            0.5843596752066471
           ],
           "y": [
            0.8374263974361954
           ],
           "z": [
            0.32329559096556637
           ]
          },
          {
           "hovertemplate": "atom=O<br>frame=15<br>x=%{x}<br>y=%{y}<br>z=%{z}<extra></extra>",
           "legendgroup": "O",
           "marker": {
            "color": "#00cc96",
            "symbol": "circle"
           },
           "mode": "markers",
           "name": "O",
           "scene": "scene",
           "showlegend": true,
           "type": "scatter3d",
           "x": [
            0.2912234777554974,
            0.16409217124304398,
            0.4237874874985349,
            0.039186695697525836,
            0.33671822319397515,
            0.11268229079523606
           ],
           "y": [
            0.2804444747402681,
            0.8070924122348409,
            0.39216437362179796,
            0.670917276615921,
            0.2585593778318262,
            0.9301374523898267
           ],
           "z": [
            0.8116172597855709,
            0.05329295858287153,
            0.560730637050316,
            0.48530117918887744,
            0.2876733791468645,
            0.6086104610678634
           ]
          }
         ],
         "name": "15"
        },
        {
         "data": [
          {
           "hovertemplate": "atom=Ba<br>frame=16<br>x=%{x}<br>y=%{y}<br>z=%{z}<extra></extra>",
           "legendgroup": "Ba",
           "marker": {
            "color": "#FECB52",
            "symbol": "circle"
           },
           "mode": "markers",
           "name": "Ba",
           "scene": "scene",
           "showlegend": true,
           "type": "scatter3d",
           "x": [
            0.5994773525925816,
            0.20371128614566336
           ],
           "y": [
            0.5493085761566833,
            0.8789649213581894
           ],
           "z": [
            0.5449498831521693,
            0.6315770045921977
           ]
          },
          {
           "hovertemplate": "atom=Y<br>frame=16<br>x=%{x}<br>y=%{y}<br>z=%{z}<extra></extra>",
           "legendgroup": "Y",
           "marker": {
            "color": "#636efa",
            "symbol": "circle"
           },
           "mode": "markers",
           "name": "Y",
           "scene": "scene",
           "showlegend": true,
           "type": "scatter3d",
           "x": [
            0.09910287403539672
           ],
           "y": [
            0.5821002668377062
           ],
           "z": [
            0.27321476170204917
           ]
          },
          {
           "hovertemplate": "atom=Sb<br>frame=16<br>x=%{x}<br>y=%{y}<br>z=%{z}<extra></extra>",
           "legendgroup": "Sb",
           "marker": {
            "color": "#EF553B",
            "symbol": "circle"
           },
           "mode": "markers",
           "name": "Sb",
           "scene": "scene",
           "showlegend": true,
           "type": "scatter3d",
           "x": [
            0.5838709957630326
           ],
           "y": [
            0.8355988591353432
           ],
           "z": [
            0.32181543214965946
           ]
          },
          {
           "hovertemplate": "atom=O<br>frame=16<br>x=%{x}<br>y=%{y}<br>z=%{z}<extra></extra>",
           "legendgroup": "O",
           "marker": {
            "color": "#00cc96",
            "symbol": "circle"
           },
           "mode": "markers",
           "name": "O",
           "scene": "scene",
           "showlegend": true,
           "type": "scatter3d",
           "x": [
            0.2854117781106429,
            0.16162369658178666,
            0.4251298202590482,
            0.03824950585008291,
            0.3395880551865176,
            0.11590318210930534
           ],
           "y": [
            0.28727260669448457,
            0.8062522055365056,
            0.3893560674534138,
            0.6640714468873747,
            0.2590741205154253,
            0.9313284542579143
           ],
           "z": [
            0.811408209800468,
            0.05671780244698532,
            0.5615615990868574,
            0.4886410418043059,
            0.2871348823545235,
            0.6030765290298535
           ]
          }
         ],
         "name": "16"
        },
        {
         "data": [
          {
           "hovertemplate": "atom=Ba<br>frame=17<br>x=%{x}<br>y=%{y}<br>z=%{z}<extra></extra>",
           "legendgroup": "Ba",
           "marker": {
            "color": "#FECB52",
            "symbol": "circle"
           },
           "mode": "markers",
           "name": "Ba",
           "scene": "scene",
           "showlegend": true,
           "type": "scatter3d",
           "x": [
            0.6005328580916329,
            0.20058732918600392
           ],
           "y": [
            0.5510982392756593,
            0.8758823969282109
           ],
           "z": [
            0.5491581809855791,
            0.6270756445114871
           ]
          },
          {
           "hovertemplate": "atom=Y<br>frame=17<br>x=%{x}<br>y=%{y}<br>z=%{z}<extra></extra>",
           "legendgroup": "Y",
           "marker": {
            "color": "#636efa",
            "symbol": "circle"
           },
           "mode": "markers",
           "name": "Y",
           "scene": "scene",
           "showlegend": true,
           "type": "scatter3d",
           "x": [
            0.09692319990840262
           ],
           "y": [
            0.5795149817980335
           ],
           "z": [
            0.2709835479384872
           ]
          },
          {
           "hovertemplate": "atom=Sb<br>frame=17<br>x=%{x}<br>y=%{y}<br>z=%{z}<extra></extra>",
           "legendgroup": "Sb",
           "marker": {
            "color": "#EF553B",
            "symbol": "circle"
           },
           "mode": "markers",
           "name": "Sb",
           "scene": "scene",
           "showlegend": true,
           "type": "scatter3d",
           "x": [
            0.5832684902395777
           ],
           "y": [
            0.833515967233446
           ],
           "z": [
            0.32022093519424266
           ]
          },
          {
           "hovertemplate": "atom=O<br>frame=17<br>x=%{x}<br>y=%{y}<br>z=%{z}<extra></extra>",
           "legendgroup": "O",
           "marker": {
            "color": "#00cc96",
            "symbol": "circle"
           },
           "mode": "markers",
           "name": "O",
           "scene": "scene",
           "showlegend": true,
           "type": "scatter3d",
           "x": [
            0.2798638203935905,
            0.15944788381684005,
            0.42655242293503337,
            0.03726626369331071,
            0.34230833831102603,
            0.11892284104158773
           ],
           "y": [
            0.29381640737320397,
            0.8054116584963562,
            0.3865956036200311,
            0.6574936606475109,
            0.25960955111929185,
            0.9324198818352669
           ],
           "z": [
            0.8112123127647181,
            0.05990347248510847,
            0.5624758649797803,
            0.4920479158768185,
            0.28658721544179855,
            0.5978747390123307
           ]
          }
         ],
         "name": "17"
        },
        {
         "data": [
          {
           "hovertemplate": "atom=Ba<br>frame=18<br>x=%{x}<br>y=%{y}<br>z=%{z}<extra></extra>",
           "legendgroup": "Ba",
           "marker": {
            "color": "#FECB52",
            "symbol": "circle"
           },
           "mode": "markers",
           "name": "Ba",
           "scene": "scene",
           "showlegend": true,
           "type": "scatter3d",
           "x": [
            0.6013852282610903,
            0.19786832331657184
           ],
           "y": [
            0.552646891770039,
            0.8729519566688471
           ],
           "z": [
            0.5531236850437276,
            0.6228720269008857
           ]
          },
          {
           "hovertemplate": "atom=Y<br>frame=18<br>x=%{x}<br>y=%{y}<br>z=%{z}<extra></extra>",
           "legendgroup": "Y",
           "marker": {
            "color": "#636efa",
            "symbol": "circle"
           },
           "mode": "markers",
           "name": "Y",
           "scene": "scene",
           "showlegend": true,
           "type": "scatter3d",
           "x": [
            0.09497840026694707
           ],
           "y": [
            0.5766487689010041
           ],
           "z": [
            0.2686937412158433
           ]
          },
          {
           "hovertemplate": "atom=Sb<br>frame=18<br>x=%{x}<br>y=%{y}<br>z=%{z}<extra></extra>",
           "legendgroup": "Sb",
           "marker": {
            "color": "#EF553B",
            "symbol": "circle"
           },
           "mode": "markers",
           "name": "Sb",
           "scene": "scene",
           "showlegend": true,
           "type": "scatter3d",
           "x": [
            0.5826405828879242
           ],
           "y": [
            0.8314446469532261
           ],
           "z": [
            0.31915784689735005
           ]
          },
          {
           "hovertemplate": "atom=O<br>frame=18<br>x=%{x}<br>y=%{y}<br>z=%{z}<extra></extra>",
           "legendgroup": "O",
           "marker": {
            "color": "#00cc96",
            "symbol": "circle"
           },
           "mode": "markers",
           "name": "O",
           "scene": "scene",
           "showlegend": true,
           "type": "scatter3d",
           "x": [
            0.2748147574563951,
            0.15747600714156051,
            0.42777052909614904,
            0.036494243614269894,
            0.34473905831521323,
            0.12163713291231909
           ],
           "y": [
            0.2996537070662448,
            0.8045833637615122,
            0.38402300846799603,
            0.6514159823932427,
            0.2600789554112355,
            0.9334407127963368
           ],
           "z": [
            0.8110336766012953,
            0.06272233469422461,
            0.5633983653929223,
            0.4951924952508481,
            0.2861035283024965,
            0.5932989615549464
           ]
          }
         ],
         "name": "18"
        },
        {
         "data": [
          {
           "hovertemplate": "atom=Ba<br>frame=19<br>x=%{x}<br>y=%{y}<br>z=%{z}<extra></extra>",
           "legendgroup": "Ba",
           "marker": {
            "color": "#FECB52",
            "symbol": "circle"
           },
           "mode": "markers",
           "name": "Ba",
           "scene": "scene",
           "showlegend": true,
           "type": "scatter3d",
           "x": [
            0.6022417199873704,
            0.1952842384746709
           ],
           "y": [
            0.5542678912100308,
            0.8703084731789743
           ],
           "z": [
            0.5566590535202343,
            0.618996414117648
           ]
          },
          {
           "hovertemplate": "atom=Y<br>frame=19<br>x=%{x}<br>y=%{y}<br>z=%{z}<extra></extra>",
           "legendgroup": "Y",
           "marker": {
            "color": "#636efa",
            "symbol": "circle"
           },
           "mode": "markers",
           "name": "Y",
           "scene": "scene",
           "showlegend": true,
           "type": "scatter3d",
           "x": [
            0.09332343013909664
           ],
           "y": [
            0.5739756756733103
           ],
           "z": [
            0.26668238815583795
           ]
          },
          {
           "hovertemplate": "atom=Sb<br>frame=19<br>x=%{x}<br>y=%{y}<br>z=%{z}<extra></extra>",
           "legendgroup": "Sb",
           "marker": {
            "color": "#EF553B",
            "symbol": "circle"
           },
           "mode": "markers",
           "name": "Sb",
           "scene": "scene",
           "showlegend": true,
           "type": "scatter3d",
           "x": [
            0.5821438035069004
           ],
           "y": [
            0.8294392557444107
           ],
           "z": [
            0.3177583580401474
           ]
          },
          {
           "hovertemplate": "atom=O<br>frame=19<br>x=%{x}<br>y=%{y}<br>z=%{z}<extra></extra>",
           "legendgroup": "O",
           "marker": {
            "color": "#00cc96",
            "symbol": "circle"
           },
           "mode": "markers",
           "name": "O",
           "scene": "scene",
           "showlegend": true,
           "type": "scatter3d",
           "x": [
            0.2702790630264458,
            0.15582283912130118,
            0.4288342713461975,
            0.03560641598637315,
            0.34700812857152424,
            0.12431915031576568
           ],
           "y": [
            0.305084881734623,
            0.8037469980636496,
            0.381894802484573,
            0.6457058732981329,
            0.26044156530396073,
            0.9342244713738014
           ],
           "z": [
            0.8107898268014748,
            0.06556904587931894,
            0.5643204342799463,
            0.4983890420734034,
            0.28550459930234295,
            0.589162819640138
           ]
          }
         ],
         "name": "19"
        },
        {
         "data": [
          {
           "hovertemplate": "atom=Ba<br>frame=20<br>x=%{x}<br>y=%{y}<br>z=%{z}<extra></extra>",
           "legendgroup": "Ba",
           "marker": {
            "color": "#FECB52",
            "symbol": "circle"
           },
           "mode": "markers",
           "name": "Ba",
           "scene": "scene",
           "showlegend": true,
           "type": "scatter3d",
           "x": [
            0.6031755396937288,
            0.19311205454331692
           ],
           "y": [
            0.555656631672073,
            0.8678292289245033
           ],
           "z": [
            0.5597566833358063,
            0.615326815941183
           ]
          },
          {
           "hovertemplate": "atom=Y<br>frame=20<br>x=%{x}<br>y=%{y}<br>z=%{z}<extra></extra>",
           "legendgroup": "Y",
           "marker": {
            "color": "#636efa",
            "symbol": "circle"
           },
           "mode": "markers",
           "name": "Y",
           "scene": "scene",
           "showlegend": true,
           "type": "scatter3d",
           "x": [
            0.09182441881447137
           ],
           "y": [
            0.5718790242380744
           ],
           "z": [
            0.2648004280120323
           ]
          },
          {
           "hovertemplate": "atom=Sb<br>frame=20<br>x=%{x}<br>y=%{y}<br>z=%{z}<extra></extra>",
           "legendgroup": "Sb",
           "marker": {
            "color": "#EF553B",
            "symbol": "circle"
           },
           "mode": "markers",
           "name": "Sb",
           "scene": "scene",
           "showlegend": true,
           "type": "scatter3d",
           "x": [
            0.5816998413364467
           ],
           "y": [
            0.8278276886346935
           ],
           "z": [
            0.3165859651098558
           ]
          },
          {
           "hovertemplate": "atom=O<br>frame=20<br>x=%{x}<br>y=%{y}<br>z=%{z}<extra></extra>",
           "legendgroup": "O",
           "marker": {
            "color": "#00cc96",
            "symbol": "circle"
           },
           "mode": "markers",
           "name": "O",
           "scene": "scene",
           "showlegend": true,
           "type": "scatter3d",
           "x": [
            0.26623736557229727,
            0.15433084332969993,
            0.4294329895058113,
            0.03468291743235172,
            0.34911720503529214,
            0.12649697029682028
           ],
           "y": [
            0.30972262239396625,
            0.8026581473600317,
            0.3800469409153969,
            0.6403804963136606,
            0.2611499381696164,
            0.9348202640294
           ],
           "z": [
            0.8105024443354814,
            0.06826443063270604,
            0.5652617187900479,
            0.501403753821855,
            0.284852007603655,
            0.5856646210851894
           ]
          }
         ],
         "name": "20"
        },
        {
         "data": [
          {
           "hovertemplate": "atom=Ba<br>frame=21<br>x=%{x}<br>y=%{y}<br>z=%{z}<extra></extra>",
           "legendgroup": "Ba",
           "marker": {
            "color": "#FECB52",
            "symbol": "circle"
           },
           "mode": "markers",
           "name": "Ba",
           "scene": "scene",
           "showlegend": true,
           "type": "scatter3d",
           "x": [
            0.6038901834012738,
            0.19095680373530133
           ],
           "y": [
            0.557079114593964,
            0.8654444052132976
           ],
           "z": [
            0.56277426304586,
            0.611901501066412
           ]
          },
          {
           "hovertemplate": "atom=Y<br>frame=21<br>x=%{x}<br>y=%{y}<br>z=%{z}<extra></extra>",
           "legendgroup": "Y",
           "marker": {
            "color": "#636efa",
            "symbol": "circle"
           },
           "mode": "markers",
           "name": "Y",
           "scene": "scene",
           "showlegend": true,
           "type": "scatter3d",
           "x": [
            0.09038952601401393
           ],
           "y": [
            0.5698226303774128
           ],
           "z": [
            0.2630248347128702
           ]
          },
          {
           "hovertemplate": "atom=Sb<br>frame=21<br>x=%{x}<br>y=%{y}<br>z=%{z}<extra></extra>",
           "legendgroup": "Sb",
           "marker": {
            "color": "#EF553B",
            "symbol": "circle"
           },
           "mode": "markers",
           "name": "Sb",
           "scene": "scene",
           "showlegend": true,
           "type": "scatter3d",
           "x": [
            0.5814388824960298
           ],
           "y": [
            0.8256448334799882
           ],
           "z": [
            0.3152127961380269
           ]
          },
          {
           "hovertemplate": "atom=O<br>frame=21<br>x=%{x}<br>y=%{y}<br>z=%{z}<extra></extra>",
           "legendgroup": "O",
           "marker": {
            "color": "#00cc96",
            "symbol": "circle"
           },
           "mode": "markers",
           "name": "O",
           "scene": "scene",
           "showlegend": true,
           "type": "scatter3d",
           "x": [
            0.2624757430423392,
            0.15297641757223884,
            0.4300729399950819,
            0.03400779341717422,
            0.3511148226912716,
            0.12877358425562158
           ],
           "y": [
            0.31417307781507164,
            0.8018543572357982,
            0.37814139140874187,
            0.6354650853543236,
            0.2618041966868405,
            0.935287310238775
           ],
           "z": [
            0.8102047130564978,
            0.07056227549049199,
            0.5662762568718113,
            0.5041491602808492,
            0.28431677967703956,
            0.5822388024642152
           ]
          }
         ],
         "name": "21"
        },
        {
         "data": [
          {
           "hovertemplate": "atom=Ba<br>frame=22<br>x=%{x}<br>y=%{y}<br>z=%{z}<extra></extra>",
           "legendgroup": "Ba",
           "marker": {
            "color": "#FECB52",
            "symbol": "circle"
           },
           "mode": "markers",
           "name": "Ba",
           "scene": "scene",
           "showlegend": true,
           "type": "scatter3d",
           "x": [
            0.6045543154088183,
            0.18897529154223625
           ],
           "y": [
            0.5583739693355915,
            0.8631698522498392
           ],
           "z": [
            0.5656731319461024,
            0.6088028592966563
           ]
          },
          {
           "hovertemplate": "atom=Y<br>frame=22<br>x=%{x}<br>y=%{y}<br>z=%{z}<extra></extra>",
           "legendgroup": "Y",
           "marker": {
            "color": "#636efa",
            "symbol": "circle"
           },
           "mode": "markers",
           "name": "Y",
           "scene": "scene",
           "showlegend": true,
           "type": "scatter3d",
           "x": [
            0.08927201032978921
           ],
           "y": [
            0.5675330537538779
           ],
           "z": [
            0.2610604194277448
           ]
          },
          {
           "hovertemplate": "atom=Sb<br>frame=22<br>x=%{x}<br>y=%{y}<br>z=%{z}<extra></extra>",
           "legendgroup": "Sb",
           "marker": {
            "color": "#EF553B",
            "symbol": "circle"
           },
           "mode": "markers",
           "name": "Sb",
           "scene": "scene",
           "showlegend": true,
           "type": "scatter3d",
           "x": [
            0.5811044537942902
           ],
           "y": [
            0.8237651742613293
           ],
           "z": [
            0.31429006750659516
           ]
          },
          {
           "hovertemplate": "atom=O<br>frame=22<br>x=%{x}<br>y=%{y}<br>z=%{z}<extra></extra>",
           "legendgroup": "O",
           "marker": {
            "color": "#00cc96",
            "symbol": "circle"
           },
           "mode": "markers",
           "name": "O",
           "scene": "scene",
           "showlegend": true,
           "type": "scatter3d",
           "x": [
            0.25888709420166667,
            0.1515467416529156,
            0.4309487560815752,
            0.03336641964338824,
            0.3530944053606043,
            0.13090849107577474
           ],
           "y": [
            0.3183258800096735,
            0.8012427629959764,
            0.37634937020719716,
            0.6308483972671913,
            0.26245108923480365,
            0.9358209662031827
           ],
           "z": [
            0.8100761098948714,
            0.07270990478292993,
            0.5672378129010182,
            0.5068675123208559,
            0.28381469683789673,
            0.578992096569114
           ]
          }
         ],
         "name": "22"
        },
        {
         "data": [
          {
           "hovertemplate": "atom=Ba<br>frame=23<br>x=%{x}<br>y=%{y}<br>z=%{z}<extra></extra>",
           "legendgroup": "Ba",
           "marker": {
            "color": "#FECB52",
            "symbol": "circle"
           },
           "mode": "markers",
           "name": "Ba",
           "scene": "scene",
           "showlegend": true,
           "type": "scatter3d",
           "x": [
            0.6051845178524138,
            0.1871397437160079
           ],
           "y": [
            0.5596363943643674,
            0.8612546030014842
           ],
           "z": [
            0.5682528186321475,
            0.606039276688483
           ]
          },
          {
           "hovertemplate": "atom=Y<br>frame=23<br>x=%{x}<br>y=%{y}<br>z=%{z}<extra></extra>",
           "legendgroup": "Y",
           "marker": {
            "color": "#636efa",
            "symbol": "circle"
           },
           "mode": "markers",
           "name": "Y",
           "scene": "scene",
           "showlegend": true,
           "type": "scatter3d",
           "x": [
            0.08823491622533935
           ],
           "y": [
            0.5654396598760048
           ],
           "z": [
            0.25916667367797175
           ]
          },
          {
           "hovertemplate": "atom=Sb<br>frame=23<br>x=%{x}<br>y=%{y}<br>z=%{z}<extra></extra>",
           "legendgroup": "Sb",
           "marker": {
            "color": "#EF553B",
            "symbol": "circle"
           },
           "mode": "markers",
           "name": "Sb",
           "scene": "scene",
           "showlegend": true,
           "type": "scatter3d",
           "x": [
            0.5809208252489066
           ],
           "y": [
            0.8221121826908182
           ],
           "z": [
            0.31349142734768254
           ]
          },
          {
           "hovertemplate": "atom=O<br>frame=23<br>x=%{x}<br>y=%{y}<br>z=%{z}<extra></extra>",
           "legendgroup": "O",
           "marker": {
            "color": "#00cc96",
            "symbol": "circle"
           },
           "mode": "markers",
           "name": "O",
           "scene": "scene",
           "showlegend": true,
           "type": "scatter3d",
           "x": [
            0.2556860404209449,
            0.1503126825820592,
            0.43167766638599336,
            0.0328029665502389,
            0.35477939018150684,
            0.13292201654978336
           ],
           "y": [
            0.32211048098174805,
            0.8005371857952217,
            0.37481530379056177,
            0.626542246775237,
            0.2631822406918702,
            0.9362391004318549
           ],
           "z": [
            0.8099352691251952,
            0.07476463696443625,
            0.5681371751192952,
            0.5093782172073877,
            0.28340714433181335,
            0.5759685662536135
           ]
          }
         ],
         "name": "23"
        },
        {
         "data": [
          {
           "hovertemplate": "atom=Ba<br>frame=24<br>x=%{x}<br>y=%{y}<br>z=%{z}<extra></extra>",
           "legendgroup": "Ba",
           "marker": {
            "color": "#FECB52",
            "symbol": "circle"
           },
           "mode": "markers",
           "name": "Ba",
           "scene": "scene",
           "showlegend": true,
           "type": "scatter3d",
           "x": [
            0.6057464552515224,
            0.18529952090370178
           ],
           "y": [
            0.5607430400828334,
            0.8593008465078839
           ],
           "z": [
            0.5706974454574469,
            0.6035038749977871
           ]
          },
          {
           "hovertemplate": "atom=Y<br>frame=24<br>x=%{x}<br>y=%{y}<br>z=%{z}<extra></extra>",
           "legendgroup": "Y",
           "marker": {
            "color": "#636efa",
            "symbol": "circle"
           },
           "mode": "markers",
           "name": "Y",
           "scene": "scene",
           "showlegend": true,
           "type": "scatter3d",
           "x": [
            0.08728202790613054
           ],
           "y": [
            0.5633583724426594
           ],
           "z": [
            0.25730206434677594
           ]
          },
          {
           "hovertemplate": "atom=Sb<br>frame=24<br>x=%{x}<br>y=%{y}<br>z=%{z}<extra></extra>",
           "legendgroup": "Sb",
           "marker": {
            "color": "#EF553B",
            "symbol": "circle"
           },
           "mode": "markers",
           "name": "Sb",
           "scene": "scene",
           "showlegend": true,
           "type": "scatter3d",
           "x": [
            0.5808208331979112
           ],
           "y": [
            0.8202943684417955
           ],
           "z": [
            0.3124236543711917
           ]
          },
          {
           "hovertemplate": "atom=O<br>frame=24<br>x=%{x}<br>y=%{y}<br>z=%{z}<extra></extra>",
           "legendgroup": "O",
           "marker": {
            "color": "#00cc96",
            "symbol": "circle"
           },
           "mode": "markers",
           "name": "O",
           "scene": "scene",
           "showlegend": true,
           "type": "scatter3d",
           "x": [
            0.25288304910864357,
            0.1492050117330056,
            0.43228011057885185,
            0.0325529145469296,
            0.3562594622635259,
            0.13466432288661534
           ],
           "y": [
            0.3255132184384748,
            0.8000459753170502,
            0.37329057246368286,
            0.6227388783831314,
            0.2638133073454807,
            0.9366845592461681
           ],
           "z": [
            0.8097490919008687,
            0.07660222711061754,
            0.5690453212167526,
            0.5115037760996612,
            0.2831121144380934,
            0.5733472530065057
           ]
          }
         ],
         "name": "24"
        },
        {
         "data": [
          {
           "hovertemplate": "atom=Ba<br>frame=25<br>x=%{x}<br>y=%{y}<br>z=%{z}<extra></extra>",
           "legendgroup": "Ba",
           "marker": {
            "color": "#FECB52",
            "symbol": "circle"
           },
           "mode": "markers",
           "name": "Ba",
           "scene": "scene",
           "showlegend": true,
           "type": "scatter3d",
           "x": [
            0.6062686349003635,
            0.18365481705167852
           ],
           "y": [
            0.5617398526358841,
            0.8575908719936514
           ],
           "z": [
            0.5728290950303381,
            0.6012612481181728
           ]
          },
          {
           "hovertemplate": "atom=Y<br>frame=25<br>x=%{x}<br>y=%{y}<br>z=%{z}<extra></extra>",
           "legendgroup": "Y",
           "marker": {
            "color": "#636efa",
            "symbol": "circle"
           },
           "mode": "markers",
           "name": "Y",
           "scene": "scene",
           "showlegend": true,
           "type": "scatter3d",
           "x": [
            0.08649568199069443
           ],
           "y": [
            0.5615965201119161
           ],
           "z": [
            0.2557352361087296
           ]
          },
          {
           "hovertemplate": "atom=Sb<br>frame=25<br>x=%{x}<br>y=%{y}<br>z=%{z}<extra></extra>",
           "legendgroup": "Sb",
           "marker": {
            "color": "#EF553B",
            "symbol": "circle"
           },
           "mode": "markers",
           "name": "Sb",
           "scene": "scene",
           "showlegend": true,
           "type": "scatter3d",
           "x": [
            0.5807998800434644
           ],
           "y": [
            0.818568932685154
           ],
           "z": [
            0.3113908554438025
           ]
          },
          {
           "hovertemplate": "atom=O<br>frame=25<br>x=%{x}<br>y=%{y}<br>z=%{z}<extra></extra>",
           "legendgroup": "O",
           "marker": {
            "color": "#00cc96",
            "symbol": "circle"
           },
           "mode": "markers",
           "name": "O",
           "scene": "scene",
           "showlegend": true,
           "type": "scatter3d",
           "x": [
            0.25041950714293315,
            0.14820385206759945,
            0.43274200293044374,
            0.03222787635577107,
            0.35760641535475113,
            0.13618195262330096
           ],
           "y": [
            0.32849278946970756,
            0.7995381853305094,
            0.37196581626267927,
            0.6192473117129413,
            0.264487694649992,
            0.9370186776670326
           ],
           "z": [
            0.8095237093467956,
            0.07829786854332665,
            0.569885645331832,
            0.5135170407586217,
            0.28280739859181864,
            0.5710833884049782
           ]
          }
         ],
         "name": "25"
        },
        {
         "data": [
          {
           "hovertemplate": "atom=Ba<br>frame=26<br>x=%{x}<br>y=%{y}<br>z=%{z}<extra></extra>",
           "legendgroup": "Ba",
           "marker": {
            "color": "#FECB52",
            "symbol": "circle"
           },
           "mode": "markers",
           "name": "Ba",
           "scene": "scene",
           "showlegend": true,
           "type": "scatter3d",
           "x": [
            0.6066106536167086,
            0.18225486601138813
           ],
           "y": [
            0.5626346598852425,
            0.8560556386907964
           ],
           "z": [
            0.5747745551759411,
            0.5992137171937439
           ]
          },
          {
           "hovertemplate": "atom=Y<br>frame=26<br>x=%{x}<br>y=%{y}<br>z=%{z}<extra></extra>",
           "legendgroup": "Y",
           "marker": {
            "color": "#636efa",
            "symbol": "circle"
           },
           "mode": "markers",
           "name": "Y",
           "scene": "scene",
           "showlegend": true,
           "type": "scatter3d",
           "x": [
            0.08566981020081685
           ],
           "y": [
            0.5600845759131929
           ],
           "z": [
            0.25436528088524857
           ]
          },
          {
           "hovertemplate": "atom=Sb<br>frame=26<br>x=%{x}<br>y=%{y}<br>z=%{z}<extra></extra>",
           "legendgroup": "Sb",
           "marker": {
            "color": "#EF553B",
            "symbol": "circle"
           },
           "mode": "markers",
           "name": "Sb",
           "scene": "scene",
           "showlegend": true,
           "type": "scatter3d",
           "x": [
            0.5805710128179659
           ],
           "y": [
            0.8171922014271212
           ],
           "z": [
            0.31070766900886315
           ]
          },
          {
           "hovertemplate": "atom=O<br>frame=26<br>x=%{x}<br>y=%{y}<br>z=%{z}<extra></extra>",
           "legendgroup": "O",
           "marker": {
            "color": "#00cc96",
            "symbol": "circle"
           },
           "mode": "markers",
           "name": "O",
           "scene": "scene",
           "showlegend": true,
           "type": "scatter3d",
           "x": [
            0.24811494386527022,
            0.14727454878035406,
            0.4332279629335482,
            0.03201389264743598,
            0.3588050877954594,
            0.13765756887318392
           ],
           "y": [
            0.3312034904678523,
            0.7989625214621978,
            0.3707499694421671,
            0.6158703429935629,
            0.26510181714328945,
            0.9372081994371912
           ],
           "z": [
            0.8093438242767663,
            0.07984566728051701,
            0.5706640859303349,
            0.5153187892992823,
            0.28252013535792886,
            0.5688877395649898
           ]
          }
         ],
         "name": "26"
        },
        {
         "data": [
          {
           "hovertemplate": "atom=Ba<br>frame=27<br>x=%{x}<br>y=%{y}<br>z=%{z}<extra></extra>",
           "legendgroup": "Ba",
           "marker": {
            "color": "#FECB52",
            "symbol": "circle"
           },
           "mode": "markers",
           "name": "Ba",
           "scene": "scene",
           "showlegend": true,
           "type": "scatter3d",
           "x": [
            0.6068413897951009,
            0.18107630815847447
           ],
           "y": [
            0.5635109914361248,
            0.8545555092150463
           ],
           "z": [
            0.57654067067712,
            0.5973710856515515
           ]
          },
          {
           "hovertemplate": "atom=Y<br>frame=27<br>x=%{x}<br>y=%{y}<br>z=%{z}<extra></extra>",
           "legendgroup": "Y",
           "marker": {
            "color": "#636efa",
            "symbol": "circle"
           },
           "mode": "markers",
           "name": "Y",
           "scene": "scene",
           "showlegend": true,
           "type": "scatter3d",
           "x": [
            0.08495036144915591
           ],
           "y": [
            0.5587157697574014
           ],
           "z": [
            0.25318626546974093
           ]
          },
          {
           "hovertemplate": "atom=Sb<br>frame=27<br>x=%{x}<br>y=%{y}<br>z=%{z}<extra></extra>",
           "legendgroup": "Sb",
           "marker": {
            "color": "#EF553B",
            "symbol": "circle"
           },
           "mode": "markers",
           "name": "Sb",
           "scene": "scene",
           "showlegend": true,
           "type": "scatter3d",
           "x": [
            0.5803402128019766
           ],
           "y": [
            0.8159312836263789
           ],
           "z": [
            0.31018802643715826
           ]
          },
          {
           "hovertemplate": "atom=O<br>frame=27<br>x=%{x}<br>y=%{y}<br>z=%{z}<extra></extra>",
           "legendgroup": "O",
           "marker": {
            "color": "#00cc96",
            "symbol": "circle"
           },
           "mode": "markers",
           "name": "O",
           "scene": "scene",
           "showlegend": true,
           "type": "scatter3d",
           "x": [
            0.24602212389941885,
            0.14645057067861522,
            0.4336811874816248,
            0.03183325656627467,
            0.3598658816010296,
            0.13917614167388764
           ],
           "y": [
            0.33371448375154694,
            0.798462948299453,
            0.36970796435823833,
            0.6128472811405223,
            0.2656618739084144,
            0.9372772402051813
           ],
           "z": [
            0.8091845192495658,
            0.08122895898654914,
            0.5713842004555003,
            0.5170118648929345,
            0.2822616748313147,
            0.5668128695783754
           ]
          }
         ],
         "name": "27"
        },
        {
         "data": [
          {
           "hovertemplate": "atom=Ba<br>frame=28<br>x=%{x}<br>y=%{y}<br>z=%{z}<extra></extra>",
           "legendgroup": "Ba",
           "marker": {
            "color": "#FECB52",
            "symbol": "circle"
           },
           "mode": "markers",
           "name": "Ba",
           "scene": "scene",
           "showlegend": true,
           "type": "scatter3d",
           "x": [
            0.607051413472421,
            0.18007731556525436
           ],
           "y": [
            0.5643564977427072,
            0.8533064547575361
           ],
           "z": [
            0.5780816619788336,
            0.5958178577867428
           ]
          },
          {
           "hovertemplate": "atom=Y<br>frame=28<br>x=%{x}<br>y=%{y}<br>z=%{z}<extra></extra>",
           "legendgroup": "Y",
           "marker": {
            "color": "#636efa",
            "symbol": "circle"
           },
           "mode": "markers",
           "name": "Y",
           "scene": "scene",
           "showlegend": true,
           "type": "scatter3d",
           "x": [
            0.08481787390271575
           ],
           "y": [
            0.5573918401008033
           ],
           "z": [
            0.2519629070733219
           ]
          },
          {
           "hovertemplate": "atom=Sb<br>frame=28<br>x=%{x}<br>y=%{y}<br>z=%{z}<extra></extra>",
           "legendgroup": "Sb",
           "marker": {
            "color": "#EF553B",
            "symbol": "circle"
           },
           "mode": "markers",
           "name": "Sb",
           "scene": "scene",
           "showlegend": true,
           "type": "scatter3d",
           "x": [
            0.5803168030930783
           ],
           "y": [
            0.8147619177736122
           ],
           "z": [
            0.3096135534157698
           ]
          },
          {
           "hovertemplate": "atom=O<br>frame=28<br>x=%{x}<br>y=%{y}<br>z=%{z}<extra></extra>",
           "legendgroup": "O",
           "marker": {
            "color": "#00cc96",
            "symbol": "circle"
           },
           "mode": "markers",
           "name": "O",
           "scene": "scene",
           "showlegend": true,
           "type": "scatter3d",
           "x": [
            0.24419901736096436,
            0.14570991846581888,
            0.4340513256997336,
            0.03167696638601769,
            0.3608861236394484,
            0.14048441319332539
           ],
           "y": [
            0.3359501161975573,
            0.7980657207822144,
            0.3688119416024012,
            0.6101798278628897,
            0.2662030417028604,
            0.9373320838575002
           ],
           "z": [
            0.8090287524963855,
            0.0825225907870295,
            0.5721024024951611,
            0.5186026170306,
            0.28197977868886714,
            0.5650418326456417
           ]
          }
         ],
         "name": "28"
        },
        {
         "data": [
          {
           "hovertemplate": "atom=Ba<br>frame=29<br>x=%{x}<br>y=%{y}<br>z=%{z}<extra></extra>",
           "legendgroup": "Ba",
           "marker": {
            "color": "#FECB52",
            "symbol": "circle"
           },
           "mode": "markers",
           "name": "Ba",
           "scene": "scene",
           "showlegend": true,
           "type": "scatter3d",
           "x": [
            0.6072005355608484,
            0.1791533997874422
           ],
           "y": [
            0.5649677516407149,
            0.8521748668461272
           ],
           "z": [
            0.5793969871361843,
            0.5944260794159276
           ]
          },
          {
           "hovertemplate": "atom=Y<br>frame=29<br>x=%{x}<br>y=%{y}<br>z=%{z}<extra></extra>",
           "legendgroup": "Y",
           "marker": {
            "color": "#636efa",
            "symbol": "circle"
           },
           "mode": "markers",
           "name": "Y",
           "scene": "scene",
           "showlegend": true,
           "type": "scatter3d",
           "x": [
            0.08423104725313874
           ],
           "y": [
            0.5562963284216823
           ],
           "z": [
            0.2510523900337649
           ]
          },
          {
           "hovertemplate": "atom=Sb<br>frame=29<br>x=%{x}<br>y=%{y}<br>z=%{z}<extra></extra>",
           "legendgroup": "Sb",
           "marker": {
            "color": "#EF553B",
            "symbol": "circle"
           },
           "mode": "markers",
           "name": "Sb",
           "scene": "scene",
           "showlegend": true,
           "type": "scatter3d",
           "x": [
            0.5801264814725982
           ],
           "y": [
            0.8137637924735645
           ],
           "z": [
            0.3092790755263639
           ]
          },
          {
           "hovertemplate": "atom=O<br>frame=29<br>x=%{x}<br>y=%{y}<br>z=%{z}<extra></extra>",
           "legendgroup": "O",
           "marker": {
            "color": "#00cc96",
            "symbol": "circle"
           },
           "mode": "markers",
           "name": "O",
           "scene": "scene",
           "showlegend": true,
           "type": "scatter3d",
           "x": [
            0.2425939254213112,
            0.14509425215254207,
            0.4343515213393736,
            0.03154580136597471,
            0.36160014721702494,
            0.14165634366126312
           ],
           "y": [
            0.3378330086634495,
            0.7976542475290455,
            0.3680316836835953,
            0.6078960370501932,
            0.2666537515051617,
            0.9373131219564325
           ],
           "z": [
            0.8088782603381601,
            0.08356113050476699,
            0.5726540650613879,
            0.5198773438178913,
            0.28181404535212917,
            0.5634584414188442
           ]
          }
         ],
         "name": "29"
        },
        {
         "data": [
          {
           "hovertemplate": "atom=Ba<br>frame=30<br>x=%{x}<br>y=%{y}<br>z=%{z}<extra></extra>",
           "legendgroup": "Ba",
           "marker": {
            "color": "#FECB52",
            "symbol": "circle"
           },
           "mode": "markers",
           "name": "Ba",
           "scene": "scene",
           "showlegend": true,
           "type": "scatter3d",
           "x": [
            0.6073433110106272,
            0.17839925213044527
           ],
           "y": [
            0.5654935311231406,
            0.8513193447661603
           ],
           "z": [
            0.5804346025161915,
            0.5933802602911246
           ]
          },
          {
           "hovertemplate": "atom=Y<br>frame=30<br>x=%{x}<br>y=%{y}<br>z=%{z}<extra></extra>",
           "legendgroup": "Y",
           "marker": {
            "color": "#636efa",
            "symbol": "circle"
           },
           "mode": "markers",
           "name": "Y",
           "scene": "scene",
           "showlegend": true,
           "type": "scatter3d",
           "x": [
            0.0841890051046722
           ],
           "y": [
            0.5553324804043338
           ],
           "z": [
            0.2501731207201262
           ]
          },
          {
           "hovertemplate": "atom=Sb<br>frame=30<br>x=%{x}<br>y=%{y}<br>z=%{z}<extra></extra>",
           "legendgroup": "Sb",
           "marker": {
            "color": "#EF553B",
            "symbol": "circle"
           },
           "mode": "markers",
           "name": "Sb",
           "scene": "scene",
           "showlegend": true,
           "type": "scatter3d",
           "x": [
            0.580153236670695
           ],
           "y": [
            0.8129117710522561
           ],
           "z": [
            0.30887495641226614
           ]
          },
          {
           "hovertemplate": "atom=O<br>frame=30<br>x=%{x}<br>y=%{y}<br>z=%{z}<extra></extra>",
           "legendgroup": "O",
           "marker": {
            "color": "#00cc96",
            "symbol": "circle"
           },
           "mode": "markers",
           "name": "O",
           "scene": "scene",
           "showlegend": true,
           "type": "scatter3d",
           "x": [
            0.24132804021655269,
            0.1445563761891892,
            0.43453980857642127,
            0.03147044571399496,
            0.36227207304133047,
            0.14254265022906948
           ],
           "y": [
            0.33934633853955826,
            0.7973212959944005,
            0.3673876111106627,
            0.605946899481212,
            0.26706848231569347,
            0.9373220680841158
           ],
           "z": [
            0.8087796273097001,
            0.08451016048280013,
            0.5731965268280216,
            0.5210101143788546,
            0.28163486927376846,
            0.5622469409422481
           ]
          }
         ],
         "name": "30"
        },
        {
         "data": [
          {
           "hovertemplate": "atom=Ba<br>frame=31<br>x=%{x}<br>y=%{y}<br>z=%{z}<extra></extra>",
           "legendgroup": "Ba",
           "marker": {
            "color": "#FECB52",
            "symbol": "circle"
           },
           "mode": "markers",
           "name": "Ba",
           "scene": "scene",
           "showlegend": true,
           "type": "scatter3d",
           "x": [
            0.6074318788587327,
            0.17775436888255025
           ],
           "y": [
            0.5658386863428317,
            0.8504703378009193
           ],
           "z": [
            0.5813178594657525,
            0.5924298661266626
           ]
          },
          {
           "hovertemplate": "atom=Y<br>frame=31<br>x=%{x}<br>y=%{y}<br>z=%{z}<extra></extra>",
           "legendgroup": "Y",
           "marker": {
            "color": "#636efa",
            "symbol": "circle"
           },
           "mode": "markers",
           "name": "Y",
           "scene": "scene",
           "showlegend": true,
           "type": "scatter3d",
           "x": [
            0.08384214614466037
           ],
           "y": [
            0.5544238650013774
           ],
           "z": [
            0.24947370500681643
           ]
          },
          {
           "hovertemplate": "atom=Sb<br>frame=31<br>x=%{x}<br>y=%{y}<br>z=%{z}<extra></extra>",
           "legendgroup": "Sb",
           "marker": {
            "color": "#EF553B",
            "symbol": "circle"
           },
           "mode": "markers",
           "name": "Sb",
           "scene": "scene",
           "showlegend": true,
           "type": "scatter3d",
           "x": [
            0.5800520052242084
           ],
           "y": [
            0.8121480440215605
           ],
           "z": [
            0.30867401004021666
           ]
          },
          {
           "hovertemplate": "atom=O<br>frame=31<br>x=%{x}<br>y=%{y}<br>z=%{z}<extra></extra>",
           "legendgroup": "O",
           "marker": {
            "color": "#00cc96",
            "symbol": "circle"
           },
           "mode": "markers",
           "name": "O",
           "scene": "scene",
           "showlegend": true,
           "type": "scatter3d",
           "x": [
            0.24025663892542087,
            0.14412706406319636,
            0.4347504879138287,
            0.031418036149194556,
            0.3627165756444811,
            0.14331084711430075
           ],
           "y": [
            0.34055620506819523,
            0.7970500435686142,
            0.36681690650878435,
            0.604426398116879,
            0.26732799294889553,
            0.9372747119517056
           ],
           "z": [
            0.8087079333981513,
            0.08521133577526363,
            0.5735639152989525,
            0.5218199124267165,
            0.2815195834450287,
            0.5612180016837123
           ]
          }
         ],
         "name": "31"
        },
        {
         "data": [
          {
           "hovertemplate": "atom=Ba<br>frame=32<br>x=%{x}<br>y=%{y}<br>z=%{z}<extra></extra>",
           "legendgroup": "Ba",
           "marker": {
            "color": "#FECB52",
            "symbol": "circle"
           },
           "mode": "markers",
           "name": "Ba",
           "scene": "scene",
           "showlegend": true,
           "type": "scatter3d",
           "x": [
            0.6074967227902051,
            0.17726962173884359
           ],
           "y": [
            0.5661194197191518,
            0.8498512074209296
           ],
           "z": [
            0.5819658722611926,
            0.5917809321934815
           ]
          },
          {
           "hovertemplate": "atom=Y<br>frame=32<br>x=%{x}<br>y=%{y}<br>z=%{z}<extra></extra>",
           "legendgroup": "Y",
           "marker": {
            "color": "#636efa",
            "symbol": "circle"
           },
           "mode": "markers",
           "name": "Y",
           "scene": "scene",
           "showlegend": true,
           "type": "scatter3d",
           "x": [
            0.08385314444297137
           ],
           "y": [
            0.5537824179224388
           ],
           "z": [
            0.2489203709278892
           ]
          },
          {
           "hovertemplate": "atom=Sb<br>frame=32<br>x=%{x}<br>y=%{y}<br>z=%{z}<extra></extra>",
           "legendgroup": "Sb",
           "marker": {
            "color": "#EF553B",
            "symbol": "circle"
           },
           "mode": "markers",
           "name": "Sb",
           "scene": "scene",
           "showlegend": true,
           "type": "scatter3d",
           "x": [
            0.5800049235307099
           ],
           "y": [
            0.8115904182693929
           ],
           "z": [
            0.30848942477206687
           ]
          },
          {
           "hovertemplate": "atom=O<br>frame=32<br>x=%{x}<br>y=%{y}<br>z=%{z}<extra></extra>",
           "legendgroup": "O",
           "marker": {
            "color": "#00cc96",
            "symbol": "circle"
           },
           "mode": "markers",
           "name": "O",
           "scene": "scene",
           "showlegend": true,
           "type": "scatter3d",
           "x": [
            0.23949830389295387,
            0.1437882464055002,
            0.43482799466289823,
            0.031390010965601706,
            0.36310474924192393,
            0.14385669913894744
           ],
           "y": [
            0.3414287928591231,
            0.7967992602719292,
            0.36639172234253575,
            0.6032041820424184,
            0.26754581170987823,
            0.9372012953603923
           ],
           "z": [
            0.808607059524378,
            0.08582074504941639,
            0.5738977380393095,
            0.5225075975306974,
            0.28140729775926776,
            0.5604956389414812
           ]
          }
         ],
         "name": "32"
        },
        {
         "data": [
          {
           "hovertemplate": "atom=Ba<br>frame=33<br>x=%{x}<br>y=%{y}<br>z=%{z}<extra></extra>",
           "legendgroup": "Ba",
           "marker": {
            "color": "#FECB52",
            "symbol": "circle"
           },
           "mode": "markers",
           "name": "Ba",
           "scene": "scene",
           "showlegend": true,
           "type": "scatter3d",
           "x": [
            0.607520582029051,
            0.1769494578258765
           ],
           "y": [
            0.5662857496256969,
            0.8493673386018894
           ],
           "z": [
            0.5824165495169684,
            0.5913183996156062
           ]
          },
          {
           "hovertemplate": "atom=Y<br>frame=33<br>x=%{x}<br>y=%{y}<br>z=%{z}<extra></extra>",
           "legendgroup": "Y",
           "marker": {
            "color": "#636efa",
            "symbol": "circle"
           },
           "mode": "markers",
           "name": "Y",
           "scene": "scene",
           "showlegend": true,
           "type": "scatter3d",
           "x": [
            0.08387396954345552
           ],
           "y": [
            0.5532911588240081
           ],
           "z": [
            0.24852303567818168
           ]
          },
          {
           "hovertemplate": "atom=Sb<br>frame=33<br>x=%{x}<br>y=%{y}<br>z=%{z}<extra></extra>",
           "legendgroup": "Sb",
           "marker": {
            "color": "#EF553B",
            "symbol": "circle"
           },
           "mode": "markers",
           "name": "Sb",
           "scene": "scene",
           "showlegend": true,
           "type": "scatter3d",
           "x": [
            0.5799630667065212
           ],
           "y": [
            0.8111370343528386
           ],
           "z": [
            0.3083776169976189
           ]
          },
          {
           "hovertemplate": "atom=O<br>frame=33<br>x=%{x}<br>y=%{y}<br>z=%{z}<extra></extra>",
           "legendgroup": "O",
           "marker": {
            "color": "#00cc96",
            "symbol": "circle"
           },
           "mode": "markers",
           "name": "O",
           "scene": "scene",
           "showlegend": true,
           "type": "scatter3d",
           "x": [
            0.23896210223547093,
            0.14355572039622472,
            0.43487022550560683,
            0.031377110102692285,
            0.3633685316300457,
            0.1442510122258684
           ],
           "y": [
            0.34202113347632224,
            0.7965899014360383,
            0.36607566634794464,
            0.6023207519337006,
            0.2676865673601115,
            0.9371066803360905
           ],
           "z": [
            0.8085190456554457,
            0.08626320382367769,
            0.5741264330175948,
            0.5229845045646501,
            0.28132467932861327,
            0.5599886642650648
           ]
          }
         ],
         "name": "33"
        },
        {
         "data": [
          {
           "hovertemplate": "atom=Ba<br>frame=34<br>x=%{x}<br>y=%{y}<br>z=%{z}<extra></extra>",
           "legendgroup": "Ba",
           "marker": {
            "color": "#FECB52",
            "symbol": "circle"
           },
           "mode": "markers",
           "name": "Ba",
           "scene": "scene",
           "showlegend": true,
           "type": "scatter3d",
           "x": [
            0.6074947816970333,
            0.1767624640697607
           ],
           "y": [
            0.566315019021704,
            0.8489897536693466
           ],
           "z": [
            0.5826863511579985,
            0.5910226027389431
           ]
          },
          {
           "hovertemplate": "atom=Y<br>frame=34<br>x=%{x}<br>y=%{y}<br>z=%{z}<extra></extra>",
           "legendgroup": "Y",
           "marker": {
            "color": "#636efa",
            "symbol": "circle"
           },
           "mode": "markers",
           "name": "Y",
           "scene": "scene",
           "showlegend": true,
           "type": "scatter3d",
           "x": [
            0.08378656560332756
           ],
           "y": [
            0.5529406553758107
           ],
           "z": [
            0.24831932188196504
           ]
          },
          {
           "hovertemplate": "atom=Sb<br>frame=34<br>x=%{x}<br>y=%{y}<br>z=%{z}<extra></extra>",
           "legendgroup": "Sb",
           "marker": {
            "color": "#EF553B",
            "symbol": "circle"
           },
           "mode": "markers",
           "name": "Sb",
           "scene": "scene",
           "showlegend": true,
           "type": "scatter3d",
           "x": [
            0.5798996612382493
           ],
           "y": [
            0.8107840512714246
           ],
           "z": [
            0.3083488919916706
           ]
          },
          {
           "hovertemplate": "atom=O<br>frame=34<br>x=%{x}<br>y=%{y}<br>z=%{z}<extra></extra>",
           "legendgroup": "O",
           "marker": {
            "color": "#00cc96",
            "symbol": "circle"
           },
           "mode": "markers",
           "name": "O",
           "scene": "scene",
           "showlegend": true,
           "type": "scatter3d",
           "x": [
            0.2386261540334361,
            0.14344403818646262,
            0.4348863087282884,
            0.0313826993171403,
            0.3634617582713945,
            0.14450555534030113
           ],
           "y": [
            0.34233718947091335,
            0.7963855991070986,
            0.3658579934477394,
            0.6017750867652835,
            0.2677292316375138,
            0.9369506093042256
           ],
           "z": [
            0.8084326043573979,
            0.08652576133860568,
            0.5742194469952584,
            0.5232092071162553,
            0.2812946060196858,
            0.5596731322225161
           ]
          }
         ],
         "name": "34"
        },
        {
         "data": [
          {
           "hovertemplate": "atom=Ba<br>frame=35<br>x=%{x}<br>y=%{y}<br>z=%{z}<extra></extra>",
           "legendgroup": "Ba",
           "marker": {
            "color": "#FECB52",
            "symbol": "circle"
           },
           "mode": "markers",
           "name": "Ba",
           "scene": "scene",
           "showlegend": true,
           "type": "scatter3d",
           "x": [
            0.6074289447603355,
            0.17673769545470824
           ],
           "y": [
            0.56624106760754,
            0.8487685314902236
           ],
           "z": [
            0.5827537840406329,
            0.5909350385071241
           ]
          },
          {
           "hovertemplate": "atom=Y<br>frame=35<br>x=%{x}<br>y=%{y}<br>z=%{z}<extra></extra>",
           "legendgroup": "Y",
           "marker": {
            "color": "#636efa",
            "symbol": "circle"
           },
           "mode": "markers",
           "name": "Y",
           "scene": "scene",
           "showlegend": true,
           "type": "scatter3d",
           "x": [
            0.08380605864929072
           ],
           "y": [
            0.5527717485955309
           ],
           "z": [
            0.24826592242889667
           ]
          },
          {
           "hovertemplate": "atom=Sb<br>frame=35<br>x=%{x}<br>y=%{y}<br>z=%{z}<extra></extra>",
           "legendgroup": "Sb",
           "marker": {
            "color": "#EF553B",
            "symbol": "circle"
           },
           "mode": "markers",
           "name": "Sb",
           "scene": "scene",
           "showlegend": true,
           "type": "scatter3d",
           "x": [
            0.5798456638614933
           ],
           "y": [
            0.8105755676001983
           ],
           "z": [
            0.30838414209660137
           ]
          },
          {
           "hovertemplate": "atom=O<br>frame=35<br>x=%{x}<br>y=%{y}<br>z=%{z}<extra></extra>",
           "legendgroup": "O",
           "marker": {
            "color": "#00cc96",
            "symbol": "circle"
           },
           "mode": "markers",
           "name": "O",
           "scene": "scene",
           "showlegend": true,
           "type": "scatter3d",
           "x": [
            0.2385290914064359,
            0.14343319883070044,
            0.43484344961358856,
            0.031413010228318744,
            0.36345476055355413,
            0.14459674727557026
           ],
           "y": [
            0.34236509749966426,
            0.796216789567337,
            0.3657489382064706,
            0.6015412719390411,
            0.2677019556721318,
            0.9367717839910795
           ],
           "z": [
            0.808346022533705,
            0.0866358716028025,
            0.5742276789230701,
            0.5232400579619418,
            0.2812886384676274,
            0.5595850712554915
           ]
          }
         ],
         "name": "35"
        },
        {
         "data": [
          {
           "hovertemplate": "atom=Ba<br>frame=actual<br>x=%{x}<br>y=%{y}<br>z=%{z}<extra></extra>",
           "legendgroup": "Ba",
           "marker": {
            "color": "#FECB52",
            "symbol": "circle"
           },
           "mode": "markers",
           "name": "Ba",
           "scene": "scene",
           "showlegend": true,
           "type": "scatter3d",
           "x": [
            0.7499999918966236,
            0.25
           ],
           "y": [
            0.7500000243101296,
            0.25
           ],
           "z": [
            0.7499999521983526,
            0.25
           ]
          },
          {
           "hovertemplate": "atom=Y<br>frame=actual<br>x=%{x}<br>y=%{y}<br>z=%{z}<extra></extra>",
           "legendgroup": "Y",
           "marker": {
            "color": "#636efa",
            "symbol": "circle"
           },
           "mode": "markers",
           "name": "Y",
           "scene": "scene",
           "showlegend": true,
           "type": "scatter3d",
           "x": [
            0
           ],
           "y": [
            0
           ],
           "z": [
            0
           ]
          },
          {
           "hovertemplate": "atom=Sb<br>frame=actual<br>x=%{x}<br>y=%{y}<br>z=%{z}<extra></extra>",
           "legendgroup": "Sb",
           "marker": {
            "color": "#EF553B",
            "symbol": "circle"
           },
           "mode": "markers",
           "name": "Sb",
           "scene": "scene",
           "showlegend": true,
           "type": "scatter3d",
           "x": [
            0.5
           ],
           "y": [
            0.5
           ],
           "z": [
            0.5
           ]
          },
          {
           "hovertemplate": "atom=O<br>frame=actual<br>x=%{x}<br>y=%{y}<br>z=%{z}<extra></extra>",
           "legendgroup": "O",
           "marker": {
            "color": "#00cc96",
            "symbol": "circle"
           },
           "mode": "markers",
           "name": "O",
           "scene": "scene",
           "showlegend": true,
           "type": "scatter3d",
           "x": [
            0.2627827237279484,
            0.2627827237279484,
            0.7372172681686752,
            0.26278273424987814,
            0.7372172681686752,
            0.7372171888873167
           ],
           "y": [
            0.7372172719775483,
            0.7372172719775483,
            0.26278275233258125,
            0.26278275233258125,
            0.26278275233258125,
            0.7372172719775483
           ],
           "z": [
            0.7372171787633505,
            0.26278274613461106,
            0.7372171663654707,
            0.7372172567087703,
            0.26278273373673133,
            0.2627827695675675
           ]
          }
         ],
         "name": "actual"
        }
       ],
       "layout": {
        "legend": {
         "title": {
          "text": "atom"
         },
         "tracegroupgap": 0
        },
        "margin": {
         "t": 60
        },
        "scene": {
         "domain": {
          "x": [
           0,
           1
          ],
          "y": [
           0,
           1
          ]
         },
         "xaxis": {
          "range": [
           -0.05,
           1.05
          ],
          "title": {
           "text": "x"
          }
         },
         "yaxis": {
          "range": [
           -0.05,
           1.05
          ],
          "title": {
           "text": "y"
          }
         },
         "zaxis": {
          "range": [
           -0.05,
           1.05
          ],
          "title": {
           "text": "z"
          }
         }
        },
        "sliders": [
         {
          "active": 0,
          "currentvalue": {
           "prefix": "frame="
          },
          "len": 0.9,
          "pad": {
           "b": 10,
           "t": 60
          },
          "steps": [
           {
            "args": [
             [
              "0"
             ],
             {
              "frame": {
               "duration": 0,
               "redraw": true
              },
              "fromcurrent": true,
              "mode": "immediate",
              "transition": {
               "duration": 0,
               "easing": "linear"
              }
             }
            ],
            "label": "0",
            "method": "animate"
           },
           {
            "args": [
             [
              "1"
             ],
             {
              "frame": {
               "duration": 0,
               "redraw": true
              },
              "fromcurrent": true,
              "mode": "immediate",
              "transition": {
               "duration": 0,
               "easing": "linear"
              }
             }
            ],
            "label": "1",
            "method": "animate"
           },
           {
            "args": [
             [
              "2"
             ],
             {
              "frame": {
               "duration": 0,
               "redraw": true
              },
              "fromcurrent": true,
              "mode": "immediate",
              "transition": {
               "duration": 0,
               "easing": "linear"
              }
             }
            ],
            "label": "2",
            "method": "animate"
           },
           {
            "args": [
             [
              "3"
             ],
             {
              "frame": {
               "duration": 0,
               "redraw": true
              },
              "fromcurrent": true,
              "mode": "immediate",
              "transition": {
               "duration": 0,
               "easing": "linear"
              }
             }
            ],
            "label": "3",
            "method": "animate"
           },
           {
            "args": [
             [
              "4"
             ],
             {
              "frame": {
               "duration": 0,
               "redraw": true
              },
              "fromcurrent": true,
              "mode": "immediate",
              "transition": {
               "duration": 0,
               "easing": "linear"
              }
             }
            ],
            "label": "4",
            "method": "animate"
           },
           {
            "args": [
             [
              "5"
             ],
             {
              "frame": {
               "duration": 0,
               "redraw": true
              },
              "fromcurrent": true,
              "mode": "immediate",
              "transition": {
               "duration": 0,
               "easing": "linear"
              }
             }
            ],
            "label": "5",
            "method": "animate"
           },
           {
            "args": [
             [
              "6"
             ],
             {
              "frame": {
               "duration": 0,
               "redraw": true
              },
              "fromcurrent": true,
              "mode": "immediate",
              "transition": {
               "duration": 0,
               "easing": "linear"
              }
             }
            ],
            "label": "6",
            "method": "animate"
           },
           {
            "args": [
             [
              "7"
             ],
             {
              "frame": {
               "duration": 0,
               "redraw": true
              },
              "fromcurrent": true,
              "mode": "immediate",
              "transition": {
               "duration": 0,
               "easing": "linear"
              }
             }
            ],
            "label": "7",
            "method": "animate"
           },
           {
            "args": [
             [
              "8"
             ],
             {
              "frame": {
               "duration": 0,
               "redraw": true
              },
              "fromcurrent": true,
              "mode": "immediate",
              "transition": {
               "duration": 0,
               "easing": "linear"
              }
             }
            ],
            "label": "8",
            "method": "animate"
           },
           {
            "args": [
             [
              "9"
             ],
             {
              "frame": {
               "duration": 0,
               "redraw": true
              },
              "fromcurrent": true,
              "mode": "immediate",
              "transition": {
               "duration": 0,
               "easing": "linear"
              }
             }
            ],
            "label": "9",
            "method": "animate"
           },
           {
            "args": [
             [
              "10"
             ],
             {
              "frame": {
               "duration": 0,
               "redraw": true
              },
              "fromcurrent": true,
              "mode": "immediate",
              "transition": {
               "duration": 0,
               "easing": "linear"
              }
             }
            ],
            "label": "10",
            "method": "animate"
           },
           {
            "args": [
             [
              "11"
             ],
             {
              "frame": {
               "duration": 0,
               "redraw": true
              },
              "fromcurrent": true,
              "mode": "immediate",
              "transition": {
               "duration": 0,
               "easing": "linear"
              }
             }
            ],
            "label": "11",
            "method": "animate"
           },
           {
            "args": [
             [
              "12"
             ],
             {
              "frame": {
               "duration": 0,
               "redraw": true
              },
              "fromcurrent": true,
              "mode": "immediate",
              "transition": {
               "duration": 0,
               "easing": "linear"
              }
             }
            ],
            "label": "12",
            "method": "animate"
           },
           {
            "args": [
             [
              "13"
             ],
             {
              "frame": {
               "duration": 0,
               "redraw": true
              },
              "fromcurrent": true,
              "mode": "immediate",
              "transition": {
               "duration": 0,
               "easing": "linear"
              }
             }
            ],
            "label": "13",
            "method": "animate"
           },
           {
            "args": [
             [
              "14"
             ],
             {
              "frame": {
               "duration": 0,
               "redraw": true
              },
              "fromcurrent": true,
              "mode": "immediate",
              "transition": {
               "duration": 0,
               "easing": "linear"
              }
             }
            ],
            "label": "14",
            "method": "animate"
           },
           {
            "args": [
             [
              "15"
             ],
             {
              "frame": {
               "duration": 0,
               "redraw": true
              },
              "fromcurrent": true,
              "mode": "immediate",
              "transition": {
               "duration": 0,
               "easing": "linear"
              }
             }
            ],
            "label": "15",
            "method": "animate"
           },
           {
            "args": [
             [
              "16"
             ],
             {
              "frame": {
               "duration": 0,
               "redraw": true
              },
              "fromcurrent": true,
              "mode": "immediate",
              "transition": {
               "duration": 0,
               "easing": "linear"
              }
             }
            ],
            "label": "16",
            "method": "animate"
           },
           {
            "args": [
             [
              "17"
             ],
             {
              "frame": {
               "duration": 0,
               "redraw": true
              },
              "fromcurrent": true,
              "mode": "immediate",
              "transition": {
               "duration": 0,
               "easing": "linear"
              }
             }
            ],
            "label": "17",
            "method": "animate"
           },
           {
            "args": [
             [
              "18"
             ],
             {
              "frame": {
               "duration": 0,
               "redraw": true
              },
              "fromcurrent": true,
              "mode": "immediate",
              "transition": {
               "duration": 0,
               "easing": "linear"
              }
             }
            ],
            "label": "18",
            "method": "animate"
           },
           {
            "args": [
             [
              "19"
             ],
             {
              "frame": {
               "duration": 0,
               "redraw": true
              },
              "fromcurrent": true,
              "mode": "immediate",
              "transition": {
               "duration": 0,
               "easing": "linear"
              }
             }
            ],
            "label": "19",
            "method": "animate"
           },
           {
            "args": [
             [
              "20"
             ],
             {
              "frame": {
               "duration": 0,
               "redraw": true
              },
              "fromcurrent": true,
              "mode": "immediate",
              "transition": {
               "duration": 0,
               "easing": "linear"
              }
             }
            ],
            "label": "20",
            "method": "animate"
           },
           {
            "args": [
             [
              "21"
             ],
             {
              "frame": {
               "duration": 0,
               "redraw": true
              },
              "fromcurrent": true,
              "mode": "immediate",
              "transition": {
               "duration": 0,
               "easing": "linear"
              }
             }
            ],
            "label": "21",
            "method": "animate"
           },
           {
            "args": [
             [
              "22"
             ],
             {
              "frame": {
               "duration": 0,
               "redraw": true
              },
              "fromcurrent": true,
              "mode": "immediate",
              "transition": {
               "duration": 0,
               "easing": "linear"
              }
             }
            ],
            "label": "22",
            "method": "animate"
           },
           {
            "args": [
             [
              "23"
             ],
             {
              "frame": {
               "duration": 0,
               "redraw": true
              },
              "fromcurrent": true,
              "mode": "immediate",
              "transition": {
               "duration": 0,
               "easing": "linear"
              }
             }
            ],
            "label": "23",
            "method": "animate"
           },
           {
            "args": [
             [
              "24"
             ],
             {
              "frame": {
               "duration": 0,
               "redraw": true
              },
              "fromcurrent": true,
              "mode": "immediate",
              "transition": {
               "duration": 0,
               "easing": "linear"
              }
             }
            ],
            "label": "24",
            "method": "animate"
           },
           {
            "args": [
             [
              "25"
             ],
             {
              "frame": {
               "duration": 0,
               "redraw": true
              },
              "fromcurrent": true,
              "mode": "immediate",
              "transition": {
               "duration": 0,
               "easing": "linear"
              }
             }
            ],
            "label": "25",
            "method": "animate"
           },
           {
            "args": [
             [
              "26"
             ],
             {
              "frame": {
               "duration": 0,
               "redraw": true
              },
              "fromcurrent": true,
              "mode": "immediate",
              "transition": {
               "duration": 0,
               "easing": "linear"
              }
             }
            ],
            "label": "26",
            "method": "animate"
           },
           {
            "args": [
             [
              "27"
             ],
             {
              "frame": {
               "duration": 0,
               "redraw": true
              },
              "fromcurrent": true,
              "mode": "immediate",
              "transition": {
               "duration": 0,
               "easing": "linear"
              }
             }
            ],
            "label": "27",
            "method": "animate"
           },
           {
            "args": [
             [
              "28"
             ],
             {
              "frame": {
               "duration": 0,
               "redraw": true
              },
              "fromcurrent": true,
              "mode": "immediate",
              "transition": {
               "duration": 0,
               "easing": "linear"
              }
             }
            ],
            "label": "28",
            "method": "animate"
           },
           {
            "args": [
             [
              "29"
             ],
             {
              "frame": {
               "duration": 0,
               "redraw": true
              },
              "fromcurrent": true,
              "mode": "immediate",
              "transition": {
               "duration": 0,
               "easing": "linear"
              }
             }
            ],
            "label": "29",
            "method": "animate"
           },
           {
            "args": [
             [
              "30"
             ],
             {
              "frame": {
               "duration": 0,
               "redraw": true
              },
              "fromcurrent": true,
              "mode": "immediate",
              "transition": {
               "duration": 0,
               "easing": "linear"
              }
             }
            ],
            "label": "30",
            "method": "animate"
           },
           {
            "args": [
             [
              "31"
             ],
             {
              "frame": {
               "duration": 0,
               "redraw": true
              },
              "fromcurrent": true,
              "mode": "immediate",
              "transition": {
               "duration": 0,
               "easing": "linear"
              }
             }
            ],
            "label": "31",
            "method": "animate"
           },
           {
            "args": [
             [
              "32"
             ],
             {
              "frame": {
               "duration": 0,
               "redraw": true
              },
              "fromcurrent": true,
              "mode": "immediate",
              "transition": {
               "duration": 0,
               "easing": "linear"
              }
             }
            ],
            "label": "32",
            "method": "animate"
           },
           {
            "args": [
             [
              "33"
             ],
             {
              "frame": {
               "duration": 0,
               "redraw": true
              },
              "fromcurrent": true,
              "mode": "immediate",
              "transition": {
               "duration": 0,
               "easing": "linear"
              }
             }
            ],
            "label": "33",
            "method": "animate"
           },
           {
            "args": [
             [
              "34"
             ],
             {
              "frame": {
               "duration": 0,
               "redraw": true
              },
              "fromcurrent": true,
              "mode": "immediate",
              "transition": {
               "duration": 0,
               "easing": "linear"
              }
             }
            ],
            "label": "34",
            "method": "animate"
           },
           {
            "args": [
             [
              "35"
             ],
             {
              "frame": {
               "duration": 0,
               "redraw": true
              },
              "fromcurrent": true,
              "mode": "immediate",
              "transition": {
               "duration": 0,
               "easing": "linear"
              }
             }
            ],
            "label": "35",
            "method": "animate"
           },
           {
            "args": [
             [
              "actual"
             ],
             {
              "frame": {
               "duration": 0,
               "redraw": true
              },
              "fromcurrent": true,
              "mode": "immediate",
              "transition": {
               "duration": 0,
               "easing": "linear"
              }
             }
            ],
            "label": "actual",
            "method": "animate"
           }
          ],
          "x": 0.1,
          "xanchor": "left",
          "y": 0,
          "yanchor": "top"
         }
        ],
        "template": {
         "data": {
          "bar": [
           {
            "error_x": {
             "color": "#2a3f5f"
            },
            "error_y": {
             "color": "#2a3f5f"
            },
            "marker": {
             "line": {
              "color": "#E5ECF6",
              "width": 0.5
             },
             "pattern": {
              "fillmode": "overlay",
              "size": 10,
              "solidity": 0.2
             }
            },
            "type": "bar"
           }
          ],
          "barpolar": [
           {
            "marker": {
             "line": {
              "color": "#E5ECF6",
              "width": 0.5
             },
             "pattern": {
              "fillmode": "overlay",
              "size": 10,
              "solidity": 0.2
             }
            },
            "type": "barpolar"
           }
          ],
          "carpet": [
           {
            "aaxis": {
             "endlinecolor": "#2a3f5f",
             "gridcolor": "white",
             "linecolor": "white",
             "minorgridcolor": "white",
             "startlinecolor": "#2a3f5f"
            },
            "baxis": {
             "endlinecolor": "#2a3f5f",
             "gridcolor": "white",
             "linecolor": "white",
             "minorgridcolor": "white",
             "startlinecolor": "#2a3f5f"
            },
            "type": "carpet"
           }
          ],
          "choropleth": [
           {
            "colorbar": {
             "outlinewidth": 0,
             "ticks": ""
            },
            "type": "choropleth"
           }
          ],
          "contour": [
           {
            "colorbar": {
             "outlinewidth": 0,
             "ticks": ""
            },
            "colorscale": [
             [
              0,
              "#0d0887"
             ],
             [
              0.1111111111111111,
              "#46039f"
             ],
             [
              0.2222222222222222,
              "#7201a8"
             ],
             [
              0.3333333333333333,
              "#9c179e"
             ],
             [
              0.4444444444444444,
              "#bd3786"
             ],
             [
              0.5555555555555556,
              "#d8576b"
             ],
             [
              0.6666666666666666,
              "#ed7953"
             ],
             [
              0.7777777777777778,
              "#fb9f3a"
             ],
             [
              0.8888888888888888,
              "#fdca26"
             ],
             [
              1,
              "#f0f921"
             ]
            ],
            "type": "contour"
           }
          ],
          "contourcarpet": [
           {
            "colorbar": {
             "outlinewidth": 0,
             "ticks": ""
            },
            "type": "contourcarpet"
           }
          ],
          "heatmap": [
           {
            "colorbar": {
             "outlinewidth": 0,
             "ticks": ""
            },
            "colorscale": [
             [
              0,
              "#0d0887"
             ],
             [
              0.1111111111111111,
              "#46039f"
             ],
             [
              0.2222222222222222,
              "#7201a8"
             ],
             [
              0.3333333333333333,
              "#9c179e"
             ],
             [
              0.4444444444444444,
              "#bd3786"
             ],
             [
              0.5555555555555556,
              "#d8576b"
             ],
             [
              0.6666666666666666,
              "#ed7953"
             ],
             [
              0.7777777777777778,
              "#fb9f3a"
             ],
             [
              0.8888888888888888,
              "#fdca26"
             ],
             [
              1,
              "#f0f921"
             ]
            ],
            "type": "heatmap"
           }
          ],
          "heatmapgl": [
           {
            "colorbar": {
             "outlinewidth": 0,
             "ticks": ""
            },
            "colorscale": [
             [
              0,
              "#0d0887"
             ],
             [
              0.1111111111111111,
              "#46039f"
             ],
             [
              0.2222222222222222,
              "#7201a8"
             ],
             [
              0.3333333333333333,
              "#9c179e"
             ],
             [
              0.4444444444444444,
              "#bd3786"
             ],
             [
              0.5555555555555556,
              "#d8576b"
             ],
             [
              0.6666666666666666,
              "#ed7953"
             ],
             [
              0.7777777777777778,
              "#fb9f3a"
             ],
             [
              0.8888888888888888,
              "#fdca26"
             ],
             [
              1,
              "#f0f921"
             ]
            ],
            "type": "heatmapgl"
           }
          ],
          "histogram": [
           {
            "marker": {
             "pattern": {
              "fillmode": "overlay",
              "size": 10,
              "solidity": 0.2
             }
            },
            "type": "histogram"
           }
          ],
          "histogram2d": [
           {
            "colorbar": {
             "outlinewidth": 0,
             "ticks": ""
            },
            "colorscale": [
             [
              0,
              "#0d0887"
             ],
             [
              0.1111111111111111,
              "#46039f"
             ],
             [
              0.2222222222222222,
              "#7201a8"
             ],
             [
              0.3333333333333333,
              "#9c179e"
             ],
             [
              0.4444444444444444,
              "#bd3786"
             ],
             [
              0.5555555555555556,
              "#d8576b"
             ],
             [
              0.6666666666666666,
              "#ed7953"
             ],
             [
              0.7777777777777778,
              "#fb9f3a"
             ],
             [
              0.8888888888888888,
              "#fdca26"
             ],
             [
              1,
              "#f0f921"
             ]
            ],
            "type": "histogram2d"
           }
          ],
          "histogram2dcontour": [
           {
            "colorbar": {
             "outlinewidth": 0,
             "ticks": ""
            },
            "colorscale": [
             [
              0,
              "#0d0887"
             ],
             [
              0.1111111111111111,
              "#46039f"
             ],
             [
              0.2222222222222222,
              "#7201a8"
             ],
             [
              0.3333333333333333,
              "#9c179e"
             ],
             [
              0.4444444444444444,
              "#bd3786"
             ],
             [
              0.5555555555555556,
              "#d8576b"
             ],
             [
              0.6666666666666666,
              "#ed7953"
             ],
             [
              0.7777777777777778,
              "#fb9f3a"
             ],
             [
              0.8888888888888888,
              "#fdca26"
             ],
             [
              1,
              "#f0f921"
             ]
            ],
            "type": "histogram2dcontour"
           }
          ],
          "mesh3d": [
           {
            "colorbar": {
             "outlinewidth": 0,
             "ticks": ""
            },
            "type": "mesh3d"
           }
          ],
          "parcoords": [
           {
            "line": {
             "colorbar": {
              "outlinewidth": 0,
              "ticks": ""
             }
            },
            "type": "parcoords"
           }
          ],
          "pie": [
           {
            "automargin": true,
            "type": "pie"
           }
          ],
          "scatter": [
           {
            "fillpattern": {
             "fillmode": "overlay",
             "size": 10,
             "solidity": 0.2
            },
            "type": "scatter"
           }
          ],
          "scatter3d": [
           {
            "line": {
             "colorbar": {
              "outlinewidth": 0,
              "ticks": ""
             }
            },
            "marker": {
             "colorbar": {
              "outlinewidth": 0,
              "ticks": ""
             }
            },
            "type": "scatter3d"
           }
          ],
          "scattercarpet": [
           {
            "marker": {
             "colorbar": {
              "outlinewidth": 0,
              "ticks": ""
             }
            },
            "type": "scattercarpet"
           }
          ],
          "scattergeo": [
           {
            "marker": {
             "colorbar": {
              "outlinewidth": 0,
              "ticks": ""
             }
            },
            "type": "scattergeo"
           }
          ],
          "scattergl": [
           {
            "marker": {
             "colorbar": {
              "outlinewidth": 0,
              "ticks": ""
             }
            },
            "type": "scattergl"
           }
          ],
          "scattermapbox": [
           {
            "marker": {
             "colorbar": {
              "outlinewidth": 0,
              "ticks": ""
             }
            },
            "type": "scattermapbox"
           }
          ],
          "scatterpolar": [
           {
            "marker": {
             "colorbar": {
              "outlinewidth": 0,
              "ticks": ""
             }
            },
            "type": "scatterpolar"
           }
          ],
          "scatterpolargl": [
           {
            "marker": {
             "colorbar": {
              "outlinewidth": 0,
              "ticks": ""
             }
            },
            "type": "scatterpolargl"
           }
          ],
          "scatterternary": [
           {
            "marker": {
             "colorbar": {
              "outlinewidth": 0,
              "ticks": ""
             }
            },
            "type": "scatterternary"
           }
          ],
          "surface": [
           {
            "colorbar": {
             "outlinewidth": 0,
             "ticks": ""
            },
            "colorscale": [
             [
              0,
              "#0d0887"
             ],
             [
              0.1111111111111111,
              "#46039f"
             ],
             [
              0.2222222222222222,
              "#7201a8"
             ],
             [
              0.3333333333333333,
              "#9c179e"
             ],
             [
              0.4444444444444444,
              "#bd3786"
             ],
             [
              0.5555555555555556,
              "#d8576b"
             ],
             [
              0.6666666666666666,
              "#ed7953"
             ],
             [
              0.7777777777777778,
              "#fb9f3a"
             ],
             [
              0.8888888888888888,
              "#fdca26"
             ],
             [
              1,
              "#f0f921"
             ]
            ],
            "type": "surface"
           }
          ],
          "table": [
           {
            "cells": {
             "fill": {
              "color": "#EBF0F8"
             },
             "line": {
              "color": "white"
             }
            },
            "header": {
             "fill": {
              "color": "#C8D4E3"
             },
             "line": {
              "color": "white"
             }
            },
            "type": "table"
           }
          ]
         },
         "layout": {
          "annotationdefaults": {
           "arrowcolor": "#2a3f5f",
           "arrowhead": 0,
           "arrowwidth": 1
          },
          "autotypenumbers": "strict",
          "coloraxis": {
           "colorbar": {
            "outlinewidth": 0,
            "ticks": ""
           }
          },
          "colorscale": {
           "diverging": [
            [
             0,
             "#8e0152"
            ],
            [
             0.1,
             "#c51b7d"
            ],
            [
             0.2,
             "#de77ae"
            ],
            [
             0.3,
             "#f1b6da"
            ],
            [
             0.4,
             "#fde0ef"
            ],
            [
             0.5,
             "#f7f7f7"
            ],
            [
             0.6,
             "#e6f5d0"
            ],
            [
             0.7,
             "#b8e186"
            ],
            [
             0.8,
             "#7fbc41"
            ],
            [
             0.9,
             "#4d9221"
            ],
            [
             1,
             "#276419"
            ]
           ],
           "sequential": [
            [
             0,
             "#0d0887"
            ],
            [
             0.1111111111111111,
             "#46039f"
            ],
            [
             0.2222222222222222,
             "#7201a8"
            ],
            [
             0.3333333333333333,
             "#9c179e"
            ],
            [
             0.4444444444444444,
             "#bd3786"
            ],
            [
             0.5555555555555556,
             "#d8576b"
            ],
            [
             0.6666666666666666,
             "#ed7953"
            ],
            [
             0.7777777777777778,
             "#fb9f3a"
            ],
            [
             0.8888888888888888,
             "#fdca26"
            ],
            [
             1,
             "#f0f921"
            ]
           ],
           "sequentialminus": [
            [
             0,
             "#0d0887"
            ],
            [
             0.1111111111111111,
             "#46039f"
            ],
            [
             0.2222222222222222,
             "#7201a8"
            ],
            [
             0.3333333333333333,
             "#9c179e"
            ],
            [
             0.4444444444444444,
             "#bd3786"
            ],
            [
             0.5555555555555556,
             "#d8576b"
            ],
            [
             0.6666666666666666,
             "#ed7953"
            ],
            [
             0.7777777777777778,
             "#fb9f3a"
            ],
            [
             0.8888888888888888,
             "#fdca26"
            ],
            [
             1,
             "#f0f921"
            ]
           ]
          },
          "colorway": [
           "#636efa",
           "#EF553B",
           "#00cc96",
           "#ab63fa",
           "#FFA15A",
           "#19d3f3",
           "#FF6692",
           "#B6E880",
           "#FF97FF",
           "#FECB52"
          ],
          "font": {
           "color": "#2a3f5f"
          },
          "geo": {
           "bgcolor": "white",
           "lakecolor": "white",
           "landcolor": "#E5ECF6",
           "showlakes": true,
           "showland": true,
           "subunitcolor": "white"
          },
          "hoverlabel": {
           "align": "left"
          },
          "hovermode": "closest",
          "mapbox": {
           "style": "light"
          },
          "paper_bgcolor": "white",
          "plot_bgcolor": "#E5ECF6",
          "polar": {
           "angularaxis": {
            "gridcolor": "white",
            "linecolor": "white",
            "ticks": ""
           },
           "bgcolor": "#E5ECF6",
           "radialaxis": {
            "gridcolor": "white",
            "linecolor": "white",
            "ticks": ""
           }
          },
          "scene": {
           "xaxis": {
            "backgroundcolor": "#E5ECF6",
            "gridcolor": "white",
            "gridwidth": 2,
            "linecolor": "white",
            "showbackground": true,
            "ticks": "",
            "zerolinecolor": "white"
           },
           "yaxis": {
            "backgroundcolor": "#E5ECF6",
            "gridcolor": "white",
            "gridwidth": 2,
            "linecolor": "white",
            "showbackground": true,
            "ticks": "",
            "zerolinecolor": "white"
           },
           "zaxis": {
            "backgroundcolor": "#E5ECF6",
            "gridcolor": "white",
            "gridwidth": 2,
            "linecolor": "white",
            "showbackground": true,
            "ticks": "",
            "zerolinecolor": "white"
           }
          },
          "shapedefaults": {
           "line": {
            "color": "#2a3f5f"
           }
          },
          "ternary": {
           "aaxis": {
            "gridcolor": "white",
            "linecolor": "white",
            "ticks": ""
           },
           "baxis": {
            "gridcolor": "white",
            "linecolor": "white",
            "ticks": ""
           },
           "bgcolor": "#E5ECF6",
           "caxis": {
            "gridcolor": "white",
            "linecolor": "white",
            "ticks": ""
           }
          },
          "title": {
           "x": 0.05
          },
          "xaxis": {
           "automargin": true,
           "gridcolor": "white",
           "linecolor": "white",
           "ticks": "",
           "title": {
            "standoff": 15
           },
           "zerolinecolor": "white",
           "zerolinewidth": 2
          },
          "yaxis": {
           "automargin": true,
           "gridcolor": "white",
           "linecolor": "white",
           "ticks": "",
           "title": {
            "standoff": 15
           },
           "zerolinecolor": "white",
           "zerolinewidth": 2
          }
         }
        },
        "updatemenus": [
         {
          "buttons": [
           {
            "args": [
             null,
             {
              "frame": {
               "duration": 500,
               "redraw": true
              },
              "fromcurrent": true,
              "mode": "immediate",
              "transition": {
               "duration": 500,
               "easing": "linear"
              }
             }
            ],
            "label": "&#9654;",
            "method": "animate"
           },
           {
            "args": [
             [
              null
             ],
             {
              "frame": {
               "duration": 0,
               "redraw": true
              },
              "fromcurrent": true,
              "mode": "immediate",
              "transition": {
               "duration": 0,
               "easing": "linear"
              }
             }
            ],
            "label": "&#9724;",
            "method": "animate"
           }
          ],
          "direction": "left",
          "pad": {
           "r": 10,
           "t": 70
          },
          "showactive": false,
          "type": "buttons",
          "x": 0.1,
          "xanchor": "right",
          "y": 0,
          "yanchor": "top"
         }
        ]
       }
      },
      "text/html": [
       "<div>                            <div id=\"706489ee-6f12-4c44-9900-c30b9cda21ed\" class=\"plotly-graph-div\" style=\"height:525px; width:100%;\"></div>            <script type=\"text/javascript\">                require([\"plotly\"], function(Plotly) {                    window.PLOTLYENV=window.PLOTLYENV || {};                                    if (document.getElementById(\"706489ee-6f12-4c44-9900-c30b9cda21ed\")) {                    Plotly.newPlot(                        \"706489ee-6f12-4c44-9900-c30b9cda21ed\",                        [{\"hovertemplate\":\"atom=Ba\\u003cbr\\u003eframe=0\\u003cbr\\u003ex=%{x}\\u003cbr\\u003ey=%{y}\\u003cbr\\u003ez=%{z}\\u003cextra\\u003e\\u003c\\u002fextra\\u003e\",\"legendgroup\":\"Ba\",\"marker\":{\"color\":\"#FECB52\",\"symbol\":\"circle\"},\"mode\":\"markers\",\"name\":\"Ba\",\"scene\":\"scene\",\"showlegend\":true,\"x\":[0.3327616535853569,0.03570103498075039],\"y\":[0.8820067992515203,0.9502240372921277],\"z\":[0.3274835350683156,0.4488382107785885],\"type\":\"scatter3d\"},{\"hovertemplate\":\"atom=Y\\u003cbr\\u003eframe=0\\u003cbr\\u003ex=%{x}\\u003cbr\\u003ey=%{y}\\u003cbr\\u003ez=%{z}\\u003cextra\\u003e\\u003c\\u002fextra\\u003e\",\"legendgroup\":\"Y\",\"marker\":{\"color\":\"#636efa\",\"symbol\":\"circle\"},\"mode\":\"markers\",\"name\":\"Y\",\"scene\":\"scene\",\"showlegend\":true,\"x\":[0.9020767690065083],\"y\":[0.8053093128508498],\"z\":[0.5908941673197958],\"type\":\"scatter3d\"},{\"hovertemplate\":\"atom=Sb\\u003cbr\\u003eframe=0\\u003cbr\\u003ex=%{x}\\u003cbr\\u003ey=%{y}\\u003cbr\\u003ez=%{z}\\u003cextra\\u003e\\u003c\\u002fextra\\u003e\",\"legendgroup\":\"Sb\",\"marker\":{\"color\":\"#EF553B\",\"symbol\":\"circle\"},\"mode\":\"markers\",\"name\":\"Sb\",\"scene\":\"scene\",\"showlegend\":true,\"x\":[0.4185530018589415],\"y\":[0.1561022946914748],\"z\":[0.9300017267699981],\"type\":\"scatter3d\"},{\"hovertemplate\":\"atom=O\\u003cbr\\u003eframe=0\\u003cbr\\u003ex=%{x}\\u003cbr\\u003ey=%{y}\\u003cbr\\u003ez=%{z}\\u003cextra\\u003e\\u003c\\u002fextra\\u003e\",\"legendgroup\":\"O\",\"marker\":{\"color\":\"#00cc96\",\"symbol\":\"circle\"},\"mode\":\"markers\",\"name\":\"O\",\"scene\":\"scene\",\"showlegend\":true,\"x\":[0.7027680561672507,0.3575362964452946,0.3084503737348781,0.6536941107165647,0.16634739174569838,0.014363186938061323],\"y\":[0.09002924046695285,0.9330798532329408,0.5082375846466557,0.9012115098933962,0.27278887459561313,0.5949767590299246],\"z\":[0.795647612554369,0.12227863630760882,0.5523344864901176,0.11137416692496471,0.04705811800967308,0.2214786825903945],\"type\":\"scatter3d\"}],                        {\"template\":{\"data\":{\"histogram2dcontour\":[{\"type\":\"histogram2dcontour\",\"colorbar\":{\"outlinewidth\":0,\"ticks\":\"\"},\"colorscale\":[[0.0,\"#0d0887\"],[0.1111111111111111,\"#46039f\"],[0.2222222222222222,\"#7201a8\"],[0.3333333333333333,\"#9c179e\"],[0.4444444444444444,\"#bd3786\"],[0.5555555555555556,\"#d8576b\"],[0.6666666666666666,\"#ed7953\"],[0.7777777777777778,\"#fb9f3a\"],[0.8888888888888888,\"#fdca26\"],[1.0,\"#f0f921\"]]}],\"choropleth\":[{\"type\":\"choropleth\",\"colorbar\":{\"outlinewidth\":0,\"ticks\":\"\"}}],\"histogram2d\":[{\"type\":\"histogram2d\",\"colorbar\":{\"outlinewidth\":0,\"ticks\":\"\"},\"colorscale\":[[0.0,\"#0d0887\"],[0.1111111111111111,\"#46039f\"],[0.2222222222222222,\"#7201a8\"],[0.3333333333333333,\"#9c179e\"],[0.4444444444444444,\"#bd3786\"],[0.5555555555555556,\"#d8576b\"],[0.6666666666666666,\"#ed7953\"],[0.7777777777777778,\"#fb9f3a\"],[0.8888888888888888,\"#fdca26\"],[1.0,\"#f0f921\"]]}],\"heatmap\":[{\"type\":\"heatmap\",\"colorbar\":{\"outlinewidth\":0,\"ticks\":\"\"},\"colorscale\":[[0.0,\"#0d0887\"],[0.1111111111111111,\"#46039f\"],[0.2222222222222222,\"#7201a8\"],[0.3333333333333333,\"#9c179e\"],[0.4444444444444444,\"#bd3786\"],[0.5555555555555556,\"#d8576b\"],[0.6666666666666666,\"#ed7953\"],[0.7777777777777778,\"#fb9f3a\"],[0.8888888888888888,\"#fdca26\"],[1.0,\"#f0f921\"]]}],\"heatmapgl\":[{\"type\":\"heatmapgl\",\"colorbar\":{\"outlinewidth\":0,\"ticks\":\"\"},\"colorscale\":[[0.0,\"#0d0887\"],[0.1111111111111111,\"#46039f\"],[0.2222222222222222,\"#7201a8\"],[0.3333333333333333,\"#9c179e\"],[0.4444444444444444,\"#bd3786\"],[0.5555555555555556,\"#d8576b\"],[0.6666666666666666,\"#ed7953\"],[0.7777777777777778,\"#fb9f3a\"],[0.8888888888888888,\"#fdca26\"],[1.0,\"#f0f921\"]]}],\"contourcarpet\":[{\"type\":\"contourcarpet\",\"colorbar\":{\"outlinewidth\":0,\"ticks\":\"\"}}],\"contour\":[{\"type\":\"contour\",\"colorbar\":{\"outlinewidth\":0,\"ticks\":\"\"},\"colorscale\":[[0.0,\"#0d0887\"],[0.1111111111111111,\"#46039f\"],[0.2222222222222222,\"#7201a8\"],[0.3333333333333333,\"#9c179e\"],[0.4444444444444444,\"#bd3786\"],[0.5555555555555556,\"#d8576b\"],[0.6666666666666666,\"#ed7953\"],[0.7777777777777778,\"#fb9f3a\"],[0.8888888888888888,\"#fdca26\"],[1.0,\"#f0f921\"]]}],\"surface\":[{\"type\":\"surface\",\"colorbar\":{\"outlinewidth\":0,\"ticks\":\"\"},\"colorscale\":[[0.0,\"#0d0887\"],[0.1111111111111111,\"#46039f\"],[0.2222222222222222,\"#7201a8\"],[0.3333333333333333,\"#9c179e\"],[0.4444444444444444,\"#bd3786\"],[0.5555555555555556,\"#d8576b\"],[0.6666666666666666,\"#ed7953\"],[0.7777777777777778,\"#fb9f3a\"],[0.8888888888888888,\"#fdca26\"],[1.0,\"#f0f921\"]]}],\"mesh3d\":[{\"type\":\"mesh3d\",\"colorbar\":{\"outlinewidth\":0,\"ticks\":\"\"}}],\"scatter\":[{\"fillpattern\":{\"fillmode\":\"overlay\",\"size\":10,\"solidity\":0.2},\"type\":\"scatter\"}],\"parcoords\":[{\"type\":\"parcoords\",\"line\":{\"colorbar\":{\"outlinewidth\":0,\"ticks\":\"\"}}}],\"scatterpolargl\":[{\"type\":\"scatterpolargl\",\"marker\":{\"colorbar\":{\"outlinewidth\":0,\"ticks\":\"\"}}}],\"bar\":[{\"error_x\":{\"color\":\"#2a3f5f\"},\"error_y\":{\"color\":\"#2a3f5f\"},\"marker\":{\"line\":{\"color\":\"#E5ECF6\",\"width\":0.5},\"pattern\":{\"fillmode\":\"overlay\",\"size\":10,\"solidity\":0.2}},\"type\":\"bar\"}],\"scattergeo\":[{\"type\":\"scattergeo\",\"marker\":{\"colorbar\":{\"outlinewidth\":0,\"ticks\":\"\"}}}],\"scatterpolar\":[{\"type\":\"scatterpolar\",\"marker\":{\"colorbar\":{\"outlinewidth\":0,\"ticks\":\"\"}}}],\"histogram\":[{\"marker\":{\"pattern\":{\"fillmode\":\"overlay\",\"size\":10,\"solidity\":0.2}},\"type\":\"histogram\"}],\"scattergl\":[{\"type\":\"scattergl\",\"marker\":{\"colorbar\":{\"outlinewidth\":0,\"ticks\":\"\"}}}],\"scatter3d\":[{\"type\":\"scatter3d\",\"line\":{\"colorbar\":{\"outlinewidth\":0,\"ticks\":\"\"}},\"marker\":{\"colorbar\":{\"outlinewidth\":0,\"ticks\":\"\"}}}],\"scattermapbox\":[{\"type\":\"scattermapbox\",\"marker\":{\"colorbar\":{\"outlinewidth\":0,\"ticks\":\"\"}}}],\"scatterternary\":[{\"type\":\"scatterternary\",\"marker\":{\"colorbar\":{\"outlinewidth\":0,\"ticks\":\"\"}}}],\"scattercarpet\":[{\"type\":\"scattercarpet\",\"marker\":{\"colorbar\":{\"outlinewidth\":0,\"ticks\":\"\"}}}],\"carpet\":[{\"aaxis\":{\"endlinecolor\":\"#2a3f5f\",\"gridcolor\":\"white\",\"linecolor\":\"white\",\"minorgridcolor\":\"white\",\"startlinecolor\":\"#2a3f5f\"},\"baxis\":{\"endlinecolor\":\"#2a3f5f\",\"gridcolor\":\"white\",\"linecolor\":\"white\",\"minorgridcolor\":\"white\",\"startlinecolor\":\"#2a3f5f\"},\"type\":\"carpet\"}],\"table\":[{\"cells\":{\"fill\":{\"color\":\"#EBF0F8\"},\"line\":{\"color\":\"white\"}},\"header\":{\"fill\":{\"color\":\"#C8D4E3\"},\"line\":{\"color\":\"white\"}},\"type\":\"table\"}],\"barpolar\":[{\"marker\":{\"line\":{\"color\":\"#E5ECF6\",\"width\":0.5},\"pattern\":{\"fillmode\":\"overlay\",\"size\":10,\"solidity\":0.2}},\"type\":\"barpolar\"}],\"pie\":[{\"automargin\":true,\"type\":\"pie\"}]},\"layout\":{\"autotypenumbers\":\"strict\",\"colorway\":[\"#636efa\",\"#EF553B\",\"#00cc96\",\"#ab63fa\",\"#FFA15A\",\"#19d3f3\",\"#FF6692\",\"#B6E880\",\"#FF97FF\",\"#FECB52\"],\"font\":{\"color\":\"#2a3f5f\"},\"hovermode\":\"closest\",\"hoverlabel\":{\"align\":\"left\"},\"paper_bgcolor\":\"white\",\"plot_bgcolor\":\"#E5ECF6\",\"polar\":{\"bgcolor\":\"#E5ECF6\",\"angularaxis\":{\"gridcolor\":\"white\",\"linecolor\":\"white\",\"ticks\":\"\"},\"radialaxis\":{\"gridcolor\":\"white\",\"linecolor\":\"white\",\"ticks\":\"\"}},\"ternary\":{\"bgcolor\":\"#E5ECF6\",\"aaxis\":{\"gridcolor\":\"white\",\"linecolor\":\"white\",\"ticks\":\"\"},\"baxis\":{\"gridcolor\":\"white\",\"linecolor\":\"white\",\"ticks\":\"\"},\"caxis\":{\"gridcolor\":\"white\",\"linecolor\":\"white\",\"ticks\":\"\"}},\"coloraxis\":{\"colorbar\":{\"outlinewidth\":0,\"ticks\":\"\"}},\"colorscale\":{\"sequential\":[[0.0,\"#0d0887\"],[0.1111111111111111,\"#46039f\"],[0.2222222222222222,\"#7201a8\"],[0.3333333333333333,\"#9c179e\"],[0.4444444444444444,\"#bd3786\"],[0.5555555555555556,\"#d8576b\"],[0.6666666666666666,\"#ed7953\"],[0.7777777777777778,\"#fb9f3a\"],[0.8888888888888888,\"#fdca26\"],[1.0,\"#f0f921\"]],\"sequentialminus\":[[0.0,\"#0d0887\"],[0.1111111111111111,\"#46039f\"],[0.2222222222222222,\"#7201a8\"],[0.3333333333333333,\"#9c179e\"],[0.4444444444444444,\"#bd3786\"],[0.5555555555555556,\"#d8576b\"],[0.6666666666666666,\"#ed7953\"],[0.7777777777777778,\"#fb9f3a\"],[0.8888888888888888,\"#fdca26\"],[1.0,\"#f0f921\"]],\"diverging\":[[0,\"#8e0152\"],[0.1,\"#c51b7d\"],[0.2,\"#de77ae\"],[0.3,\"#f1b6da\"],[0.4,\"#fde0ef\"],[0.5,\"#f7f7f7\"],[0.6,\"#e6f5d0\"],[0.7,\"#b8e186\"],[0.8,\"#7fbc41\"],[0.9,\"#4d9221\"],[1,\"#276419\"]]},\"xaxis\":{\"gridcolor\":\"white\",\"linecolor\":\"white\",\"ticks\":\"\",\"title\":{\"standoff\":15},\"zerolinecolor\":\"white\",\"automargin\":true,\"zerolinewidth\":2},\"yaxis\":{\"gridcolor\":\"white\",\"linecolor\":\"white\",\"ticks\":\"\",\"title\":{\"standoff\":15},\"zerolinecolor\":\"white\",\"automargin\":true,\"zerolinewidth\":2},\"scene\":{\"xaxis\":{\"backgroundcolor\":\"#E5ECF6\",\"gridcolor\":\"white\",\"linecolor\":\"white\",\"showbackground\":true,\"ticks\":\"\",\"zerolinecolor\":\"white\",\"gridwidth\":2},\"yaxis\":{\"backgroundcolor\":\"#E5ECF6\",\"gridcolor\":\"white\",\"linecolor\":\"white\",\"showbackground\":true,\"ticks\":\"\",\"zerolinecolor\":\"white\",\"gridwidth\":2},\"zaxis\":{\"backgroundcolor\":\"#E5ECF6\",\"gridcolor\":\"white\",\"linecolor\":\"white\",\"showbackground\":true,\"ticks\":\"\",\"zerolinecolor\":\"white\",\"gridwidth\":2}},\"shapedefaults\":{\"line\":{\"color\":\"#2a3f5f\"}},\"annotationdefaults\":{\"arrowcolor\":\"#2a3f5f\",\"arrowhead\":0,\"arrowwidth\":1},\"geo\":{\"bgcolor\":\"white\",\"landcolor\":\"#E5ECF6\",\"subunitcolor\":\"white\",\"showland\":true,\"showlakes\":true,\"lakecolor\":\"white\"},\"title\":{\"x\":0.05},\"mapbox\":{\"style\":\"light\"}}},\"scene\":{\"domain\":{\"x\":[0.0,1.0],\"y\":[0.0,1.0]},\"xaxis\":{\"title\":{\"text\":\"x\"},\"range\":[-0.05,1.05]},\"yaxis\":{\"title\":{\"text\":\"y\"},\"range\":[-0.05,1.05]},\"zaxis\":{\"title\":{\"text\":\"z\"},\"range\":[-0.05,1.05]}},\"legend\":{\"title\":{\"text\":\"atom\"},\"tracegroupgap\":0},\"margin\":{\"t\":60},\"updatemenus\":[{\"buttons\":[{\"args\":[null,{\"frame\":{\"duration\":500,\"redraw\":true},\"mode\":\"immediate\",\"fromcurrent\":true,\"transition\":{\"duration\":500,\"easing\":\"linear\"}}],\"label\":\"&#9654;\",\"method\":\"animate\"},{\"args\":[[null],{\"frame\":{\"duration\":0,\"redraw\":true},\"mode\":\"immediate\",\"fromcurrent\":true,\"transition\":{\"duration\":0,\"easing\":\"linear\"}}],\"label\":\"&#9724;\",\"method\":\"animate\"}],\"direction\":\"left\",\"pad\":{\"r\":10,\"t\":70},\"showactive\":false,\"type\":\"buttons\",\"x\":0.1,\"xanchor\":\"right\",\"y\":0,\"yanchor\":\"top\"}],\"sliders\":[{\"active\":0,\"currentvalue\":{\"prefix\":\"frame=\"},\"len\":0.9,\"pad\":{\"b\":10,\"t\":60},\"steps\":[{\"args\":[[\"0\"],{\"frame\":{\"duration\":0,\"redraw\":true},\"mode\":\"immediate\",\"fromcurrent\":true,\"transition\":{\"duration\":0,\"easing\":\"linear\"}}],\"label\":\"0\",\"method\":\"animate\"},{\"args\":[[\"1\"],{\"frame\":{\"duration\":0,\"redraw\":true},\"mode\":\"immediate\",\"fromcurrent\":true,\"transition\":{\"duration\":0,\"easing\":\"linear\"}}],\"label\":\"1\",\"method\":\"animate\"},{\"args\":[[\"2\"],{\"frame\":{\"duration\":0,\"redraw\":true},\"mode\":\"immediate\",\"fromcurrent\":true,\"transition\":{\"duration\":0,\"easing\":\"linear\"}}],\"label\":\"2\",\"method\":\"animate\"},{\"args\":[[\"3\"],{\"frame\":{\"duration\":0,\"redraw\":true},\"mode\":\"immediate\",\"fromcurrent\":true,\"transition\":{\"duration\":0,\"easing\":\"linear\"}}],\"label\":\"3\",\"method\":\"animate\"},{\"args\":[[\"4\"],{\"frame\":{\"duration\":0,\"redraw\":true},\"mode\":\"immediate\",\"fromcurrent\":true,\"transition\":{\"duration\":0,\"easing\":\"linear\"}}],\"label\":\"4\",\"method\":\"animate\"},{\"args\":[[\"5\"],{\"frame\":{\"duration\":0,\"redraw\":true},\"mode\":\"immediate\",\"fromcurrent\":true,\"transition\":{\"duration\":0,\"easing\":\"linear\"}}],\"label\":\"5\",\"method\":\"animate\"},{\"args\":[[\"6\"],{\"frame\":{\"duration\":0,\"redraw\":true},\"mode\":\"immediate\",\"fromcurrent\":true,\"transition\":{\"duration\":0,\"easing\":\"linear\"}}],\"label\":\"6\",\"method\":\"animate\"},{\"args\":[[\"7\"],{\"frame\":{\"duration\":0,\"redraw\":true},\"mode\":\"immediate\",\"fromcurrent\":true,\"transition\":{\"duration\":0,\"easing\":\"linear\"}}],\"label\":\"7\",\"method\":\"animate\"},{\"args\":[[\"8\"],{\"frame\":{\"duration\":0,\"redraw\":true},\"mode\":\"immediate\",\"fromcurrent\":true,\"transition\":{\"duration\":0,\"easing\":\"linear\"}}],\"label\":\"8\",\"method\":\"animate\"},{\"args\":[[\"9\"],{\"frame\":{\"duration\":0,\"redraw\":true},\"mode\":\"immediate\",\"fromcurrent\":true,\"transition\":{\"duration\":0,\"easing\":\"linear\"}}],\"label\":\"9\",\"method\":\"animate\"},{\"args\":[[\"10\"],{\"frame\":{\"duration\":0,\"redraw\":true},\"mode\":\"immediate\",\"fromcurrent\":true,\"transition\":{\"duration\":0,\"easing\":\"linear\"}}],\"label\":\"10\",\"method\":\"animate\"},{\"args\":[[\"11\"],{\"frame\":{\"duration\":0,\"redraw\":true},\"mode\":\"immediate\",\"fromcurrent\":true,\"transition\":{\"duration\":0,\"easing\":\"linear\"}}],\"label\":\"11\",\"method\":\"animate\"},{\"args\":[[\"12\"],{\"frame\":{\"duration\":0,\"redraw\":true},\"mode\":\"immediate\",\"fromcurrent\":true,\"transition\":{\"duration\":0,\"easing\":\"linear\"}}],\"label\":\"12\",\"method\":\"animate\"},{\"args\":[[\"13\"],{\"frame\":{\"duration\":0,\"redraw\":true},\"mode\":\"immediate\",\"fromcurrent\":true,\"transition\":{\"duration\":0,\"easing\":\"linear\"}}],\"label\":\"13\",\"method\":\"animate\"},{\"args\":[[\"14\"],{\"frame\":{\"duration\":0,\"redraw\":true},\"mode\":\"immediate\",\"fromcurrent\":true,\"transition\":{\"duration\":0,\"easing\":\"linear\"}}],\"label\":\"14\",\"method\":\"animate\"},{\"args\":[[\"15\"],{\"frame\":{\"duration\":0,\"redraw\":true},\"mode\":\"immediate\",\"fromcurrent\":true,\"transition\":{\"duration\":0,\"easing\":\"linear\"}}],\"label\":\"15\",\"method\":\"animate\"},{\"args\":[[\"16\"],{\"frame\":{\"duration\":0,\"redraw\":true},\"mode\":\"immediate\",\"fromcurrent\":true,\"transition\":{\"duration\":0,\"easing\":\"linear\"}}],\"label\":\"16\",\"method\":\"animate\"},{\"args\":[[\"17\"],{\"frame\":{\"duration\":0,\"redraw\":true},\"mode\":\"immediate\",\"fromcurrent\":true,\"transition\":{\"duration\":0,\"easing\":\"linear\"}}],\"label\":\"17\",\"method\":\"animate\"},{\"args\":[[\"18\"],{\"frame\":{\"duration\":0,\"redraw\":true},\"mode\":\"immediate\",\"fromcurrent\":true,\"transition\":{\"duration\":0,\"easing\":\"linear\"}}],\"label\":\"18\",\"method\":\"animate\"},{\"args\":[[\"19\"],{\"frame\":{\"duration\":0,\"redraw\":true},\"mode\":\"immediate\",\"fromcurrent\":true,\"transition\":{\"duration\":0,\"easing\":\"linear\"}}],\"label\":\"19\",\"method\":\"animate\"},{\"args\":[[\"20\"],{\"frame\":{\"duration\":0,\"redraw\":true},\"mode\":\"immediate\",\"fromcurrent\":true,\"transition\":{\"duration\":0,\"easing\":\"linear\"}}],\"label\":\"20\",\"method\":\"animate\"},{\"args\":[[\"21\"],{\"frame\":{\"duration\":0,\"redraw\":true},\"mode\":\"immediate\",\"fromcurrent\":true,\"transition\":{\"duration\":0,\"easing\":\"linear\"}}],\"label\":\"21\",\"method\":\"animate\"},{\"args\":[[\"22\"],{\"frame\":{\"duration\":0,\"redraw\":true},\"mode\":\"immediate\",\"fromcurrent\":true,\"transition\":{\"duration\":0,\"easing\":\"linear\"}}],\"label\":\"22\",\"method\":\"animate\"},{\"args\":[[\"23\"],{\"frame\":{\"duration\":0,\"redraw\":true},\"mode\":\"immediate\",\"fromcurrent\":true,\"transition\":{\"duration\":0,\"easing\":\"linear\"}}],\"label\":\"23\",\"method\":\"animate\"},{\"args\":[[\"24\"],{\"frame\":{\"duration\":0,\"redraw\":true},\"mode\":\"immediate\",\"fromcurrent\":true,\"transition\":{\"duration\":0,\"easing\":\"linear\"}}],\"label\":\"24\",\"method\":\"animate\"},{\"args\":[[\"25\"],{\"frame\":{\"duration\":0,\"redraw\":true},\"mode\":\"immediate\",\"fromcurrent\":true,\"transition\":{\"duration\":0,\"easing\":\"linear\"}}],\"label\":\"25\",\"method\":\"animate\"},{\"args\":[[\"26\"],{\"frame\":{\"duration\":0,\"redraw\":true},\"mode\":\"immediate\",\"fromcurrent\":true,\"transition\":{\"duration\":0,\"easing\":\"linear\"}}],\"label\":\"26\",\"method\":\"animate\"},{\"args\":[[\"27\"],{\"frame\":{\"duration\":0,\"redraw\":true},\"mode\":\"immediate\",\"fromcurrent\":true,\"transition\":{\"duration\":0,\"easing\":\"linear\"}}],\"label\":\"27\",\"method\":\"animate\"},{\"args\":[[\"28\"],{\"frame\":{\"duration\":0,\"redraw\":true},\"mode\":\"immediate\",\"fromcurrent\":true,\"transition\":{\"duration\":0,\"easing\":\"linear\"}}],\"label\":\"28\",\"method\":\"animate\"},{\"args\":[[\"29\"],{\"frame\":{\"duration\":0,\"redraw\":true},\"mode\":\"immediate\",\"fromcurrent\":true,\"transition\":{\"duration\":0,\"easing\":\"linear\"}}],\"label\":\"29\",\"method\":\"animate\"},{\"args\":[[\"30\"],{\"frame\":{\"duration\":0,\"redraw\":true},\"mode\":\"immediate\",\"fromcurrent\":true,\"transition\":{\"duration\":0,\"easing\":\"linear\"}}],\"label\":\"30\",\"method\":\"animate\"},{\"args\":[[\"31\"],{\"frame\":{\"duration\":0,\"redraw\":true},\"mode\":\"immediate\",\"fromcurrent\":true,\"transition\":{\"duration\":0,\"easing\":\"linear\"}}],\"label\":\"31\",\"method\":\"animate\"},{\"args\":[[\"32\"],{\"frame\":{\"duration\":0,\"redraw\":true},\"mode\":\"immediate\",\"fromcurrent\":true,\"transition\":{\"duration\":0,\"easing\":\"linear\"}}],\"label\":\"32\",\"method\":\"animate\"},{\"args\":[[\"33\"],{\"frame\":{\"duration\":0,\"redraw\":true},\"mode\":\"immediate\",\"fromcurrent\":true,\"transition\":{\"duration\":0,\"easing\":\"linear\"}}],\"label\":\"33\",\"method\":\"animate\"},{\"args\":[[\"34\"],{\"frame\":{\"duration\":0,\"redraw\":true},\"mode\":\"immediate\",\"fromcurrent\":true,\"transition\":{\"duration\":0,\"easing\":\"linear\"}}],\"label\":\"34\",\"method\":\"animate\"},{\"args\":[[\"35\"],{\"frame\":{\"duration\":0,\"redraw\":true},\"mode\":\"immediate\",\"fromcurrent\":true,\"transition\":{\"duration\":0,\"easing\":\"linear\"}}],\"label\":\"35\",\"method\":\"animate\"},{\"args\":[[\"actual\"],{\"frame\":{\"duration\":0,\"redraw\":true},\"mode\":\"immediate\",\"fromcurrent\":true,\"transition\":{\"duration\":0,\"easing\":\"linear\"}}],\"label\":\"actual\",\"method\":\"animate\"}],\"x\":0.1,\"xanchor\":\"left\",\"y\":0,\"yanchor\":\"top\"}]},                        {\"responsive\": true}                    ).then(function(){\n",
       "                            Plotly.addFrames('706489ee-6f12-4c44-9900-c30b9cda21ed', [{\"data\":[{\"hovertemplate\":\"atom=Ba\\u003cbr\\u003eframe=0\\u003cbr\\u003ex=%{x}\\u003cbr\\u003ey=%{y}\\u003cbr\\u003ez=%{z}\\u003cextra\\u003e\\u003c\\u002fextra\\u003e\",\"legendgroup\":\"Ba\",\"marker\":{\"color\":\"#FECB52\",\"symbol\":\"circle\"},\"mode\":\"markers\",\"name\":\"Ba\",\"scene\":\"scene\",\"showlegend\":true,\"x\":[0.3327616535853569,0.03570103498075039],\"y\":[0.8820067992515203,0.9502240372921277],\"z\":[0.3274835350683156,0.4488382107785885],\"type\":\"scatter3d\"},{\"hovertemplate\":\"atom=Y\\u003cbr\\u003eframe=0\\u003cbr\\u003ex=%{x}\\u003cbr\\u003ey=%{y}\\u003cbr\\u003ez=%{z}\\u003cextra\\u003e\\u003c\\u002fextra\\u003e\",\"legendgroup\":\"Y\",\"marker\":{\"color\":\"#636efa\",\"symbol\":\"circle\"},\"mode\":\"markers\",\"name\":\"Y\",\"scene\":\"scene\",\"showlegend\":true,\"x\":[0.9020767690065083],\"y\":[0.8053093128508498],\"z\":[0.5908941673197958],\"type\":\"scatter3d\"},{\"hovertemplate\":\"atom=Sb\\u003cbr\\u003eframe=0\\u003cbr\\u003ex=%{x}\\u003cbr\\u003ey=%{y}\\u003cbr\\u003ez=%{z}\\u003cextra\\u003e\\u003c\\u002fextra\\u003e\",\"legendgroup\":\"Sb\",\"marker\":{\"color\":\"#EF553B\",\"symbol\":\"circle\"},\"mode\":\"markers\",\"name\":\"Sb\",\"scene\":\"scene\",\"showlegend\":true,\"x\":[0.4185530018589415],\"y\":[0.1561022946914748],\"z\":[0.9300017267699981],\"type\":\"scatter3d\"},{\"hovertemplate\":\"atom=O\\u003cbr\\u003eframe=0\\u003cbr\\u003ex=%{x}\\u003cbr\\u003ey=%{y}\\u003cbr\\u003ez=%{z}\\u003cextra\\u003e\\u003c\\u002fextra\\u003e\",\"legendgroup\":\"O\",\"marker\":{\"color\":\"#00cc96\",\"symbol\":\"circle\"},\"mode\":\"markers\",\"name\":\"O\",\"scene\":\"scene\",\"showlegend\":true,\"x\":[0.7027680561672507,0.3575362964452946,0.3084503737348781,0.6536941107165647,0.16634739174569838,0.014363186938061323],\"y\":[0.09002924046695285,0.9330798532329408,0.5082375846466557,0.9012115098933962,0.27278887459561313,0.5949767590299246],\"z\":[0.795647612554369,0.12227863630760882,0.5523344864901176,0.11137416692496471,0.04705811800967308,0.2214786825903945],\"type\":\"scatter3d\"}],\"name\":\"0\"},{\"data\":[{\"hovertemplate\":\"atom=Ba\\u003cbr\\u003eframe=1\\u003cbr\\u003ex=%{x}\\u003cbr\\u003ey=%{y}\\u003cbr\\u003ez=%{z}\\u003cextra\\u003e\\u003c\\u002fextra\\u003e\",\"legendgroup\":\"Ba\",\"marker\":{\"color\":\"#FECB52\",\"symbol\":\"circle\"},\"mode\":\"markers\",\"name\":\"Ba\",\"scene\":\"scene\",\"showlegend\":true,\"x\":[0.6976385188573043,0.3894548485041557],\"y\":[0.11825179975182275,0.11821210131022847],\"z\":[0.7482800019835565,0.9965148575709081],\"type\":\"scatter3d\"},{\"hovertemplate\":\"atom=Y\\u003cbr\\u003eframe=1\\u003cbr\\u003ex=%{x}\\u003cbr\\u003ey=%{y}\\u003cbr\\u003ez=%{z}\\u003cextra\\u003e\\u003c\\u002fextra\\u003e\",\"legendgroup\":\"Y\",\"marker\":{\"color\":\"#636efa\",\"symbol\":\"circle\"},\"mode\":\"markers\",\"name\":\"Y\",\"scene\":\"scene\",\"showlegend\":true,\"x\":[0.6312224028284611],\"y\":[0.41438905873025855],\"z\":[0.29573148797724746],\"type\":\"scatter3d\"},{\"hovertemplate\":\"atom=Sb\\u003cbr\\u003eframe=1\\u003cbr\\u003ex=%{x}\\u003cbr\\u003ey=%{y}\\u003cbr\\u003ez=%{z}\\u003cextra\\u003e\\u003c\\u002fextra\\u003e\",\"legendgroup\":\"Sb\",\"marker\":{\"color\":\"#EF553B\",\"symbol\":\"circle\"},\"mode\":\"markers\",\"name\":\"Sb\",\"scene\":\"scene\",\"showlegend\":true,\"x\":[0.9776649669142232],\"y\":[0.03688049342075515],\"z\":[0.5546455363328787],\"type\":\"scatter3d\"},{\"hovertemplate\":\"atom=O\\u003cbr\\u003eframe=1\\u003cbr\\u003ex=%{x}\\u003cbr\\u003ey=%{y}\\u003cbr\\u003ez=%{z}\\u003cextra\\u003e\\u003c\\u002fextra\\u003e\",\"legendgroup\":\"O\",\"marker\":{\"color\":\"#00cc96\",\"symbol\":\"circle\"},\"mode\":\"markers\",\"name\":\"O\",\"scene\":\"scene\",\"showlegend\":true,\"x\":[0.604087242117095,0.3177645652741182,0.4242788768330439,0.4263635816225828,0.1752796170494955,0.6928417686335511],\"y\":[0.03859219699295366,0.9644718152733542,0.5391181588013512,0.5959805242800336,0.2769663272616029,0.0033959150467692857],\"z\":[0.820955159677675,0.06718518740600632,0.5293332346859969,0.9663798054954558,0.22649273500523281,0.14647230844661618],\"type\":\"scatter3d\"}],\"name\":\"1\"},{\"data\":[{\"hovertemplate\":\"atom=Ba\\u003cbr\\u003eframe=2\\u003cbr\\u003ex=%{x}\\u003cbr\\u003ey=%{y}\\u003cbr\\u003ez=%{z}\\u003cextra\\u003e\\u003c\\u002fextra\\u003e\",\"legendgroup\":\"Ba\",\"marker\":{\"color\":\"#FECB52\",\"symbol\":\"circle\"},\"mode\":\"markers\",\"name\":\"Ba\",\"scene\":\"scene\",\"showlegend\":true,\"x\":[0.5879309986541071,0.3942312557571719],\"y\":[0.054744545998119946,0.11323952508119826],\"z\":[0.011569863215494358,0.9898377969557803],\"type\":\"scatter3d\"},{\"hovertemplate\":\"atom=Y\\u003cbr\\u003eframe=2\\u003cbr\\u003ex=%{x}\\u003cbr\\u003ey=%{y}\\u003cbr\\u003ez=%{z}\\u003cextra\\u003e\\u003c\\u002fextra\\u003e\",\"legendgroup\":\"Y\",\"marker\":{\"color\":\"#636efa\",\"symbol\":\"circle\"},\"mode\":\"markers\",\"name\":\"Y\",\"scene\":\"scene\",\"showlegend\":true,\"x\":[0.6130101582841154],\"y\":[0.45230226164914666],\"z\":[0.28232452009568654],\"type\":\"scatter3d\"},{\"hovertemplate\":\"atom=Sb\\u003cbr\\u003eframe=2\\u003cbr\\u003ex=%{x}\\u003cbr\\u003ey=%{y}\\u003cbr\\u003ez=%{z}\\u003cextra\\u003e\\u003c\\u002fextra\\u003e\",\"legendgroup\":\"Sb\",\"marker\":{\"color\":\"#EF553B\",\"symbol\":\"circle\"},\"mode\":\"markers\",\"name\":\"Sb\",\"scene\":\"scene\",\"showlegend\":true,\"x\":[0.0178097470036877],\"y\":[0.038040378322988073],\"z\":[0.4986691663037441],\"type\":\"scatter3d\"},{\"hovertemplate\":\"atom=O\\u003cbr\\u003eframe=2\\u003cbr\\u003ex=%{x}\\u003cbr\\u003ey=%{y}\\u003cbr\\u003ez=%{z}\\u003cextra\\u003e\\u003c\\u002fextra\\u003e\",\"legendgroup\":\"O\",\"marker\":{\"color\":\"#00cc96\",\"symbol\":\"circle\"},\"mode\":\"markers\",\"name\":\"O\",\"scene\":\"scene\",\"showlegend\":true,\"x\":[0.5857241384149433,0.3166013654486881,0.43301155623677734,0.3640747513903705,0.17801846102930108,0.6920742595933009],\"y\":[0.04706467826661775,0.9552746125718959,0.5265982962099827,0.5816357488818069,0.27385587049274396,0.029666328763968963],\"z\":[0.829074427047719,0.07727114219543096,0.525907893150202,0.9477880254095303,0.2250880698740192,0.2878055660253332],\"type\":\"scatter3d\"}],\"name\":\"2\"},{\"data\":[{\"hovertemplate\":\"atom=Ba\\u003cbr\\u003eframe=3\\u003cbr\\u003ex=%{x}\\u003cbr\\u003ey=%{y}\\u003cbr\\u003ez=%{z}\\u003cextra\\u003e\\u003c\\u002fextra\\u003e\",\"legendgroup\":\"Ba\",\"marker\":{\"color\":\"#FECB52\",\"symbol\":\"circle\"},\"mode\":\"markers\",\"name\":\"Ba\",\"scene\":\"scene\",\"showlegend\":true,\"x\":[0.5808292448128454,0.2630771535528546],\"y\":[0.5311654402530431,0.9556926495600498],\"z\":[0.4672700522370625,0.7290029214912046],\"type\":\"scatter3d\"},{\"hovertemplate\":\"atom=Y\\u003cbr\\u003eframe=3\\u003cbr\\u003ex=%{x}\\u003cbr\\u003ey=%{y}\\u003cbr\\u003ez=%{z}\\u003cextra\\u003e\\u003c\\u002fextra\\u003e\",\"legendgroup\":\"Y\",\"marker\":{\"color\":\"#636efa\",\"symbol\":\"circle\"},\"mode\":\"markers\",\"name\":\"Y\",\"scene\":\"scene\",\"showlegend\":true,\"x\":[0.17916107567221057],\"y\":[0.6045799408952681],\"z\":[0.24455454491392858],\"type\":\"scatter3d\"},{\"hovertemplate\":\"atom=Sb\\u003cbr\\u003eframe=3\\u003cbr\\u003ex=%{x}\\u003cbr\\u003ey=%{y}\\u003cbr\\u003ez=%{z}\\u003cextra\\u003e\\u003c\\u002fextra\\u003e\",\"legendgroup\":\"Sb\",\"marker\":{\"color\":\"#EF553B\",\"symbol\":\"circle\"},\"mode\":\"markers\",\"name\":\"Sb\",\"scene\":\"scene\",\"showlegend\":true,\"x\":[0.6002230670518458],\"y\":[0.8356352270891858],\"z\":[0.31523701155091244],\"type\":\"scatter3d\"},{\"hovertemplate\":\"atom=O\\u003cbr\\u003eframe=3\\u003cbr\\u003ex=%{x}\\u003cbr\\u003ey=%{y}\\u003cbr\\u003ez=%{z}\\u003cextra\\u003e\\u003c\\u002fextra\\u003e\",\"legendgroup\":\"O\",\"marker\":{\"color\":\"#00cc96\",\"symbol\":\"circle\"},\"mode\":\"markers\",\"name\":\"O\",\"scene\":\"scene\",\"showlegend\":true,\"x\":[0.4053471438173806,0.2419868613016789,0.42063550952119466,0.07032172309340151,0.2716693384201106,0.07353161744420955],\"y\":[0.16745713078820537,0.8338235389928157,0.45583739207153323,0.7764210510552589,0.2449851363005759,0.9003443189512338],\"z\":[0.801651803437375,0.9627856688614003,0.4781820156641946,0.42744354300073845,0.24762813844849907,0.7092752613780935],\"type\":\"scatter3d\"}],\"name\":\"3\"},{\"data\":[{\"hovertemplate\":\"atom=Ba\\u003cbr\\u003eframe=4\\u003cbr\\u003ex=%{x}\\u003cbr\\u003ey=%{y}\\u003cbr\\u003ez=%{z}\\u003cextra\\u003e\\u003c\\u002fextra\\u003e\",\"legendgroup\":\"Ba\",\"marker\":{\"color\":\"#FECB52\",\"symbol\":\"circle\"},\"mode\":\"markers\",\"name\":\"Ba\",\"scene\":\"scene\",\"showlegend\":true,\"x\":[0.5811659322902891,0.25697311023630337],\"y\":[0.5278658263659691,0.947217068744865],\"z\":[0.47765599640008616,0.7188222390984352],\"type\":\"scatter3d\"},{\"hovertemplate\":\"atom=Y\\u003cbr\\u003eframe=4\\u003cbr\\u003ex=%{x}\\u003cbr\\u003ey=%{y}\\u003cbr\\u003ez=%{z}\\u003cextra\\u003e\\u003c\\u002fextra\\u003e\",\"legendgroup\":\"Y\",\"marker\":{\"color\":\"#636efa\",\"symbol\":\"circle\"},\"mode\":\"markers\",\"name\":\"Y\",\"scene\":\"scene\",\"showlegend\":true,\"x\":[0.16876628345346473],\"y\":[0.6026844314721271],\"z\":[0.2535033067213527],\"type\":\"scatter3d\"},{\"hovertemplate\":\"atom=Sb\\u003cbr\\u003eframe=4\\u003cbr\\u003ex=%{x}\\u003cbr\\u003ey=%{y}\\u003cbr\\u003ez=%{z}\\u003cextra\\u003e\\u003c\\u002fextra\\u003e\",\"legendgroup\":\"Sb\",\"marker\":{\"color\":\"#EF553B\",\"symbol\":\"circle\"},\"mode\":\"markers\",\"name\":\"Sb\",\"scene\":\"scene\",\"showlegend\":true,\"x\":[0.5980155857228462],\"y\":[0.8360118396165456],\"z\":[0.3205961116043201],\"type\":\"scatter3d\"},{\"hovertemplate\":\"atom=O\\u003cbr\\u003eframe=4\\u003cbr\\u003ex=%{x}\\u003cbr\\u003ey=%{y}\\u003cbr\\u003ez=%{z}\\u003cextra\\u003e\\u003c\\u002fextra\\u003e\",\"legendgroup\":\"O\",\"marker\":{\"color\":\"#00cc96\",\"symbol\":\"circle\"},\"mode\":\"markers\",\"name\":\"O\",\"scene\":\"scene\",\"showlegend\":true,\"x\":[0.39082938378348187,0.22494918089012528,0.4222854713923807,0.06301470334281006,0.27888607890600725,0.07374469381699167],\"y\":[0.17500769901803606,0.8301844098361117,0.44193049072719276,0.7652042600293141,0.24813093999783542,0.9061457855132826],\"z\":[0.8052045537273341,0.9815159705297469,0.5026694271623762,0.4340453466518658,0.2623575738301284,0.6979894712881796],\"type\":\"scatter3d\"}],\"name\":\"4\"},{\"data\":[{\"hovertemplate\":\"atom=Ba\\u003cbr\\u003eframe=5\\u003cbr\\u003ex=%{x}\\u003cbr\\u003ey=%{y}\\u003cbr\\u003ez=%{z}\\u003cextra\\u003e\\u003c\\u002fextra\\u003e\",\"legendgroup\":\"Ba\",\"marker\":{\"color\":\"#FECB52\",\"symbol\":\"circle\"},\"mode\":\"markers\",\"name\":\"Ba\",\"scene\":\"scene\",\"showlegend\":true,\"x\":[0.5818174380816541,0.2513083923876428],\"y\":[0.5270890204855627,0.9392344973574402],\"z\":[0.48787775155665636,0.7089116333901382],\"type\":\"scatter3d\"},{\"hovertemplate\":\"atom=Y\\u003cbr\\u003eframe=5\\u003cbr\\u003ex=%{x}\\u003cbr\\u003ey=%{y}\\u003cbr\\u003ez=%{z}\\u003cextra\\u003e\\u003c\\u002fextra\\u003e\",\"legendgroup\":\"Y\",\"marker\":{\"color\":\"#636efa\",\"symbol\":\"circle\"},\"mode\":\"markers\",\"name\":\"Y\",\"scene\":\"scene\",\"showlegend\":true,\"x\":[0.15888277493742492],\"y\":[0.5994726257730743],\"z\":[0.26064361931531504],\"type\":\"scatter3d\"},{\"hovertemplate\":\"atom=Sb\\u003cbr\\u003eframe=5\\u003cbr\\u003ex=%{x}\\u003cbr\\u003ey=%{y}\\u003cbr\\u003ez=%{z}\\u003cextra\\u003e\\u003c\\u002fextra\\u003e\",\"legendgroup\":\"Sb\",\"marker\":{\"color\":\"#EF553B\",\"symbol\":\"circle\"},\"mode\":\"markers\",\"name\":\"Sb\",\"scene\":\"scene\",\"showlegend\":true,\"x\":[0.5949400327358043],\"y\":[0.8345829874407064],\"z\":[0.32422020703187004],\"type\":\"scatter3d\"},{\"hovertemplate\":\"atom=O\\u003cbr\\u003eframe=5\\u003cbr\\u003ex=%{x}\\u003cbr\\u003ey=%{y}\\u003cbr\\u003ez=%{z}\\u003cextra\\u003e\\u003c\\u002fextra\\u003e\",\"legendgroup\":\"O\",\"marker\":{\"color\":\"#00cc96\",\"symbol\":\"circle\"},\"mode\":\"markers\",\"name\":\"O\",\"scene\":\"scene\",\"showlegend\":true,\"x\":[0.37654310101082644,0.2100544617268627,0.42226890716337917,0.057330056295557985,0.28587881184071795,0.07529361190211481],\"y\":[0.18480178833092387,0.826448040161112,0.4289154794166619,0.7538647514692799,0.24990117932328182,0.9113638089655562],\"z\":[0.8083956280979611,0.992967599510006,0.526394812354359,0.4417689373986935,0.27362927471296705,0.6871871876518107],\"type\":\"scatter3d\"}],\"name\":\"5\"},{\"data\":[{\"hovertemplate\":\"atom=Ba\\u003cbr\\u003eframe=6\\u003cbr\\u003ex=%{x}\\u003cbr\\u003ey=%{y}\\u003cbr\\u003ez=%{z}\\u003cextra\\u003e\\u003c\\u002fextra\\u003e\",\"legendgroup\":\"Ba\",\"marker\":{\"color\":\"#FECB52\",\"symbol\":\"circle\"},\"mode\":\"markers\",\"name\":\"Ba\",\"scene\":\"scene\",\"showlegend\":true,\"x\":[0.5823181248281812,0.2452317284234528],\"y\":[0.5252633783748173,0.9320302390784555],\"z\":[0.4985234710106834,0.7003645682165834],\"type\":\"scatter3d\"},{\"hovertemplate\":\"atom=Y\\u003cbr\\u003eframe=6\\u003cbr\\u003ex=%{x}\\u003cbr\\u003ey=%{y}\\u003cbr\\u003ez=%{z}\\u003cextra\\u003e\\u003c\\u002fextra\\u003e\",\"legendgroup\":\"Y\",\"marker\":{\"color\":\"#636efa\",\"symbol\":\"circle\"},\"mode\":\"markers\",\"name\":\"Y\",\"scene\":\"scene\",\"showlegend\":true,\"x\":[0.14876688073500421],\"y\":[0.5982001849709139],\"z\":[0.2697654546227922],\"type\":\"scatter3d\"},{\"hovertemplate\":\"atom=Sb\\u003cbr\\u003eframe=6\\u003cbr\\u003ex=%{x}\\u003cbr\\u003ey=%{y}\\u003cbr\\u003ez=%{z}\\u003cextra\\u003e\\u003c\\u002fextra\\u003e\",\"legendgroup\":\"Sb\",\"marker\":{\"color\":\"#EF553B\",\"symbol\":\"circle\"},\"mode\":\"markers\",\"name\":\"Sb\",\"scene\":\"scene\",\"showlegend\":true,\"x\":[0.5931059302021437],\"y\":[0.8332283297803268],\"z\":[0.325858811002684],\"type\":\"scatter3d\"},{\"hovertemplate\":\"atom=O\\u003cbr\\u003eframe=6\\u003cbr\\u003ex=%{x}\\u003cbr\\u003ey=%{y}\\u003cbr\\u003ez=%{z}\\u003cextra\\u003e\\u003c\\u002fextra\\u003e\",\"legendgroup\":\"O\",\"marker\":{\"color\":\"#00cc96\",\"symbol\":\"circle\"},\"mode\":\"markers\",\"name\":\"O\",\"scene\":\"scene\",\"showlegend\":true,\"x\":[0.36253593145876983,0.19573997385450037,0.42067408532615824,0.05230353952429034,0.2922707269868451,0.07517557386785373],\"y\":[0.19351705486864312,0.8232089584966771,0.4158996415617255,0.7427983915251387,0.25168413284649543,0.9165813462152386],\"z\":[0.812314782549757,0.007647040783478443,0.5523171227229575,0.44807746485249755,0.2867685477552755,0.6770453025256363],\"type\":\"scatter3d\"}],\"name\":\"6\"},{\"data\":[{\"hovertemplate\":\"atom=Ba\\u003cbr\\u003eframe=7\\u003cbr\\u003ex=%{x}\\u003cbr\\u003ey=%{y}\\u003cbr\\u003ez=%{z}\\u003cextra\\u003e\\u003c\\u002fextra\\u003e\",\"legendgroup\":\"Ba\",\"marker\":{\"color\":\"#FECB52\",\"symbol\":\"circle\"},\"mode\":\"markers\",\"name\":\"Ba\",\"scene\":\"scene\",\"showlegend\":true,\"x\":[0.5839201947911311,0.23999139750937043],\"y\":[0.5278054886243666,0.9230928630418836],\"z\":[0.5043946079308261,0.6907036096433742],\"type\":\"scatter3d\"},{\"hovertemplate\":\"atom=Y\\u003cbr\\u003eframe=7\\u003cbr\\u003ex=%{x}\\u003cbr\\u003ey=%{y}\\u003cbr\\u003ez=%{z}\\u003cextra\\u003e\\u003c\\u002fextra\\u003e\",\"legendgroup\":\"Y\",\"marker\":{\"color\":\"#636efa\",\"symbol\":\"circle\"},\"mode\":\"markers\",\"name\":\"Y\",\"scene\":\"scene\",\"showlegend\":true,\"x\":[0.13767753761900262],\"y\":[0.599032466567008],\"z\":[0.2778591683318305],\"type\":\"scatter3d\"},{\"hovertemplate\":\"atom=Sb\\u003cbr\\u003eframe=7\\u003cbr\\u003ex=%{x}\\u003cbr\\u003ey=%{y}\\u003cbr\\u003ez=%{z}\\u003cextra\\u003e\\u003c\\u002fextra\\u003e\",\"legendgroup\":\"Sb\",\"marker\":{\"color\":\"#EF553B\",\"symbol\":\"circle\"},\"mode\":\"markers\",\"name\":\"Sb\",\"scene\":\"scene\",\"showlegend\":true,\"x\":[0.591962800663665],\"y\":[0.8389229290127685],\"z\":[0.32923253708891187],\"type\":\"scatter3d\"},{\"hovertemplate\":\"atom=O\\u003cbr\\u003eframe=7\\u003cbr\\u003ex=%{x}\\u003cbr\\u003ey=%{y}\\u003cbr\\u003ez=%{z}\\u003cextra\\u003e\\u003c\\u002fextra\\u003e\",\"legendgroup\":\"O\",\"marker\":{\"color\":\"#00cc96\",\"symbol\":\"circle\"},\"mode\":\"markers\",\"name\":\"O\",\"scene\":\"scene\",\"showlegend\":true,\"x\":[0.3509939454719073,0.19088248315163203,0.42064621427640847,0.04873097315208452,0.30078004565383476,0.08100089097584057],\"y\":[0.2067141368946182,0.8211179956317614,0.41340133816566843,0.7341893967188521,0.2533595383564738,0.9178319565210415],\"z\":[0.813250234741316,0.013825593178305007,0.5535755255498934,0.45375093721793747,0.28928078644232097,0.6661795937845385],\"type\":\"scatter3d\"}],\"name\":\"7\"},{\"data\":[{\"hovertemplate\":\"atom=Ba\\u003cbr\\u003eframe=8\\u003cbr\\u003ex=%{x}\\u003cbr\\u003ey=%{y}\\u003cbr\\u003ez=%{z}\\u003cextra\\u003e\\u003c\\u002fextra\\u003e\",\"legendgroup\":\"Ba\",\"marker\":{\"color\":\"#FECB52\",\"symbol\":\"circle\"},\"mode\":\"markers\",\"name\":\"Ba\",\"scene\":\"scene\",\"showlegend\":true,\"x\":[0.5858178487687457,0.2347845995819805],\"y\":[0.53054023234066,0.9146367303303581],\"z\":[0.5099386667240625,0.681166842694283],\"type\":\"scatter3d\"},{\"hovertemplate\":\"atom=Y\\u003cbr\\u003eframe=8\\u003cbr\\u003ex=%{x}\\u003cbr\\u003ey=%{y}\\u003cbr\\u003ez=%{z}\\u003cextra\\u003e\\u003c\\u002fextra\\u003e\",\"legendgroup\":\"Y\",\"marker\":{\"color\":\"#636efa\",\"symbol\":\"circle\"},\"mode\":\"markers\",\"name\":\"Y\",\"scene\":\"scene\",\"showlegend\":true,\"x\":[0.1292481705459453],\"y\":[0.5987108435527445],\"z\":[0.2827094546955751],\"type\":\"scatter3d\"},{\"hovertemplate\":\"atom=Sb\\u003cbr\\u003eframe=8\\u003cbr\\u003ex=%{x}\\u003cbr\\u003ey=%{y}\\u003cbr\\u003ez=%{z}\\u003cextra\\u003e\\u003c\\u002fextra\\u003e\",\"legendgroup\":\"Sb\",\"marker\":{\"color\":\"#EF553B\",\"symbol\":\"circle\"},\"mode\":\"markers\",\"name\":\"Sb\",\"scene\":\"scene\",\"showlegend\":true,\"x\":[0.5912481486569962],\"y\":[0.8413361469553167],\"z\":[0.33015387640010263],\"type\":\"scatter3d\"},{\"hovertemplate\":\"atom=O\\u003cbr\\u003eframe=8\\u003cbr\\u003ex=%{x}\\u003cbr\\u003ey=%{y}\\u003cbr\\u003ez=%{z}\\u003cextra\\u003e\\u003c\\u002fextra\\u003e\",\"legendgroup\":\"O\",\"marker\":{\"color\":\"#00cc96\",\"symbol\":\"circle\"},\"mode\":\"markers\",\"name\":\"O\",\"scene\":\"scene\",\"showlegend\":true,\"x\":[0.3409272046338644,0.18616630779524285,0.42083763283991643,0.04642161332361927,0.30821198842073727,0.08549221036488208],\"y\":[0.21871855180862987,0.819372917290424,0.41069581522512294,0.7257577199976779,0.25500326776761734,0.9195849113443608],\"z\":[0.8138135921673759,0.019579362729669314,0.5548520298911582,0.45913971669737574,0.29134782957249966,0.6569732996786836],\"type\":\"scatter3d\"}],\"name\":\"8\"},{\"data\":[{\"hovertemplate\":\"atom=Ba\\u003cbr\\u003eframe=9\\u003cbr\\u003ex=%{x}\\u003cbr\\u003ey=%{y}\\u003cbr\\u003ez=%{z}\\u003cextra\\u003e\\u003c\\u002fextra\\u003e\",\"legendgroup\":\"Ba\",\"marker\":{\"color\":\"#FECB52\",\"symbol\":\"circle\"},\"mode\":\"markers\",\"name\":\"Ba\",\"scene\":\"scene\",\"showlegend\":true,\"x\":[0.5877640226676244,0.23003194844527802],\"y\":[0.5332842625264506,0.9081796681939586],\"z\":[0.5149921314312342,0.6735280385690734],\"type\":\"scatter3d\"},{\"hovertemplate\":\"atom=Y\\u003cbr\\u003eframe=9\\u003cbr\\u003ex=%{x}\\u003cbr\\u003ey=%{y}\\u003cbr\\u003ez=%{z}\\u003cextra\\u003e\\u003c\\u002fextra\\u003e\",\"legendgroup\":\"Y\",\"marker\":{\"color\":\"#636efa\",\"symbol\":\"circle\"},\"mode\":\"markers\",\"name\":\"Y\",\"scene\":\"scene\",\"showlegend\":true,\"x\":[0.12340225305380603],\"y\":[0.5968404221833238],\"z\":[0.2840171690134679],\"type\":\"scatter3d\"},{\"hovertemplate\":\"atom=Sb\\u003cbr\\u003eframe=9\\u003cbr\\u003ex=%{x}\\u003cbr\\u003ey=%{y}\\u003cbr\\u003ez=%{z}\\u003cextra\\u003e\\u003c\\u002fextra\\u003e\",\"legendgroup\":\"Sb\",\"marker\":{\"color\":\"#EF553B\",\"symbol\":\"circle\"},\"mode\":\"markers\",\"name\":\"Sb\",\"scene\":\"scene\",\"showlegend\":true,\"x\":[0.5902072753437637],\"y\":[0.841011169143172],\"z\":[0.32919384932290763],\"type\":\"scatter3d\"},{\"hovertemplate\":\"atom=O\\u003cbr\\u003eframe=9\\u003cbr\\u003ex=%{x}\\u003cbr\\u003ey=%{y}\\u003cbr\\u003ez=%{z}\\u003cextra\\u003e\\u003c\\u002fextra\\u003e\",\"legendgroup\":\"O\",\"marker\":{\"color\":\"#00cc96\",\"symbol\":\"circle\"},\"mode\":\"markers\",\"name\":\"O\",\"scene\":\"scene\",\"showlegend\":true,\"x\":[0.3321644634318129,0.18219812590417556,0.4211192101796571,0.04501751143086774,0.3139117436676435,0.09003839749604159],\"y\":[0.22948502199434662,0.8172376127491654,0.40792898213779194,0.7174481773674832,0.25569399147920235,0.9216080975680243],\"z\":[0.813821254704786,0.02480907218277051,0.5558628992593805,0.4636916562382597,0.29117211997521436,0.6484397076215449],\"type\":\"scatter3d\"}],\"name\":\"9\"},{\"data\":[{\"hovertemplate\":\"atom=Ba\\u003cbr\\u003eframe=10\\u003cbr\\u003ex=%{x}\\u003cbr\\u003ey=%{y}\\u003cbr\\u003ez=%{z}\\u003cextra\\u003e\\u003c\\u002fextra\\u003e\",\"legendgroup\":\"Ba\",\"marker\":{\"color\":\"#FECB52\",\"symbol\":\"circle\"},\"mode\":\"markers\",\"name\":\"Ba\",\"scene\":\"scene\",\"showlegend\":true,\"x\":[0.5897283428677433,0.22561589738650334],\"y\":[0.5360109838999846,0.9023630321110556],\"z\":[0.5198900365511976,0.6661471282678024],\"type\":\"scatter3d\"},{\"hovertemplate\":\"atom=Y\\u003cbr\\u003eframe=10\\u003cbr\\u003ex=%{x}\\u003cbr\\u003ey=%{y}\\u003cbr\\u003ez=%{z}\\u003cextra\\u003e\\u003c\\u002fextra\\u003e\",\"legendgroup\":\"Y\",\"marker\":{\"color\":\"#636efa\",\"symbol\":\"circle\"},\"mode\":\"markers\",\"name\":\"Y\",\"scene\":\"scene\",\"showlegend\":true,\"x\":[0.11826608804509423],\"y\":[0.5948436367603777],\"z\":[0.28404295544682934],\"type\":\"scatter3d\"},{\"hovertemplate\":\"atom=Sb\\u003cbr\\u003eframe=10\\u003cbr\\u003ex=%{x}\\u003cbr\\u003ey=%{y}\\u003cbr\\u003ez=%{z}\\u003cextra\\u003e\\u003c\\u002fextra\\u003e\",\"legendgroup\":\"Sb\",\"marker\":{\"color\":\"#EF553B\",\"symbol\":\"circle\"},\"mode\":\"markers\",\"name\":\"Sb\",\"scene\":\"scene\",\"showlegend\":true,\"x\":[0.5886875312999772],\"y\":[0.8420182891911621],\"z\":[0.3296747741376148],\"type\":\"scatter3d\"},{\"hovertemplate\":\"atom=O\\u003cbr\\u003eframe=10\\u003cbr\\u003ex=%{x}\\u003cbr\\u003ey=%{y}\\u003cbr\\u003ez=%{z}\\u003cextra\\u003e\\u003c\\u002fextra\\u003e\",\"legendgroup\":\"O\",\"marker\":{\"color\":\"#00cc96\",\"symbol\":\"circle\"},\"mode\":\"markers\",\"name\":\"O\",\"scene\":\"scene\",\"showlegend\":true,\"x\":[0.32393856513980007,0.1784463454670917,0.4214518387383456,0.043906055211459794,0.31916480604302716,0.09447087686500899],\"y\":[0.23955257595481194,0.815101092701428,0.40527069377900865,0.7089351589527546,0.2563927861538059,0.9231709471780752],\"z\":[0.8137593386599695,0.029991093352922493,0.5565616563724893,0.46787396139252724,0.29121556253909753,0.6404679291835482],\"type\":\"scatter3d\"}],\"name\":\"10\"},{\"data\":[{\"hovertemplate\":\"atom=Ba\\u003cbr\\u003eframe=11\\u003cbr\\u003ex=%{x}\\u003cbr\\u003ey=%{y}\\u003cbr\\u003ez=%{z}\\u003cextra\\u003e\\u003c\\u002fextra\\u003e\",\"legendgroup\":\"Ba\",\"marker\":{\"color\":\"#FECB52\",\"symbol\":\"circle\"},\"mode\":\"markers\",\"name\":\"Ba\",\"scene\":\"scene\",\"showlegend\":true,\"x\":[0.5917172818058378,0.2216708152572121],\"y\":[0.5387327460070855,0.8975428196191303],\"z\":[0.5241320622745997,0.6593424852497909],\"type\":\"scatter3d\"},{\"hovertemplate\":\"atom=Y\\u003cbr\\u003eframe=11\\u003cbr\\u003ex=%{x}\\u003cbr\\u003ey=%{y}\\u003cbr\\u003ez=%{z}\\u003cextra\\u003e\\u003c\\u002fextra\\u003e\",\"legendgroup\":\"Y\",\"marker\":{\"color\":\"#636efa\",\"symbol\":\"circle\"},\"mode\":\"markers\",\"name\":\"Y\",\"scene\":\"scene\",\"showlegend\":true,\"x\":[0.11391094516670458],\"y\":[0.592480205963197],\"z\":[0.28294142697899377],\"type\":\"scatter3d\"},{\"hovertemplate\":\"atom=Sb\\u003cbr\\u003eframe=11\\u003cbr\\u003ex=%{x}\\u003cbr\\u003ey=%{y}\\u003cbr\\u003ez=%{z}\\u003cextra\\u003e\\u003c\\u002fextra\\u003e\",\"legendgroup\":\"Sb\",\"marker\":{\"color\":\"#EF553B\",\"symbol\":\"circle\"},\"mode\":\"markers\",\"name\":\"Sb\",\"scene\":\"scene\",\"showlegend\":true,\"x\":[0.5875663122894665],\"y\":[0.842099096061866],\"z\":[0.3289707649291941],\"type\":\"scatter3d\"},{\"hovertemplate\":\"atom=O\\u003cbr\\u003eframe=11\\u003cbr\\u003ex=%{x}\\u003cbr\\u003ey=%{y}\\u003cbr\\u003ez=%{z}\\u003cextra\\u003e\\u003c\\u002fextra\\u003e\",\"legendgroup\":\"O\",\"marker\":{\"color\":\"#00cc96\",\"symbol\":\"circle\"},\"mode\":\"markers\",\"name\":\"O\",\"scene\":\"scene\",\"showlegend\":true,\"x\":[0.3166693439163387,0.1750970463420844,0.4215022338270746,0.04286429767060035,0.32333639735596276,0.09829998555965747],\"y\":[0.24866449872172475,0.8131163651027506,0.40286282406496676,0.7010208990294327,0.25671526002260453,0.9248411503203248],\"z\":[0.8134907862550887,0.03527493733661374,0.5574023232100758,0.4714818634228114,0.2904619788998665,0.6334247464730932],\"type\":\"scatter3d\"}],\"name\":\"11\"},{\"data\":[{\"hovertemplate\":\"atom=Ba\\u003cbr\\u003eframe=12\\u003cbr\\u003ex=%{x}\\u003cbr\\u003ey=%{y}\\u003cbr\\u003ez=%{z}\\u003cextra\\u003e\\u003c\\u002fextra\\u003e\",\"legendgroup\":\"Ba\",\"marker\":{\"color\":\"#FECB52\",\"symbol\":\"circle\"},\"mode\":\"markers\",\"name\":\"Ba\",\"scene\":\"scene\",\"showlegend\":true,\"x\":[0.5934707006295759,0.21796578351794782],\"y\":[0.5412282780483711,0.8933828702464337],\"z\":[0.5282487902014824,0.6532274228349789],\"type\":\"scatter3d\"},{\"hovertemplate\":\"atom=Y\\u003cbr\\u003eframe=12\\u003cbr\\u003ex=%{x}\\u003cbr\\u003ey=%{y}\\u003cbr\\u003ez=%{z}\\u003cextra\\u003e\\u003c\\u002fextra\\u003e\",\"legendgroup\":\"Y\",\"marker\":{\"color\":\"#636efa\",\"symbol\":\"circle\"},\"mode\":\"markers\",\"name\":\"Y\",\"scene\":\"scene\",\"showlegend\":true,\"x\":[0.11037635732004777],\"y\":[0.5901350563834559],\"z\":[0.2810300478921717],\"type\":\"scatter3d\"},{\"hovertemplate\":\"atom=Sb\\u003cbr\\u003eframe=12\\u003cbr\\u003ex=%{x}\\u003cbr\\u003ey=%{y}\\u003cbr\\u003ez=%{z}\\u003cextra\\u003e\\u003c\\u002fextra\\u003e\",\"legendgroup\":\"Sb\",\"marker\":{\"color\":\"#EF553B\",\"symbol\":\"circle\"},\"mode\":\"markers\",\"name\":\"Sb\",\"scene\":\"scene\",\"showlegend\":true,\"x\":[0.5862885792166046],\"y\":[0.8417993035439598],\"z\":[0.3281947012818458],\"type\":\"scatter3d\"},{\"hovertemplate\":\"atom=O\\u003cbr\\u003eframe=12\\u003cbr\\u003ex=%{x}\\u003cbr\\u003ey=%{y}\\u003cbr\\u003ez=%{z}\\u003cextra\\u003e\\u003c\\u002fextra\\u003e\",\"legendgroup\":\"O\",\"marker\":{\"color\":\"#00cc96\",\"symbol\":\"circle\"},\"mode\":\"markers\",\"name\":\"O\",\"scene\":\"scene\",\"showlegend\":true,\"x\":[0.30989437122250385,0.17207600047484184,0.4217886747311963,0.04193463469306832,0.32713707636747663,0.1024924702514961],\"y\":[0.25723389232693544,0.8112184246666522,0.4004945069317417,0.6932412199834321,0.2570979014620987,0.9261704282054292],\"z\":[0.8130673349644413,0.04036007412627507,0.5580826422316805,0.4751313343501315,0.28968885704436903,0.6265712910399629],\"type\":\"scatter3d\"}],\"name\":\"12\"},{\"data\":[{\"hovertemplate\":\"atom=Ba\\u003cbr\\u003eframe=13\\u003cbr\\u003ex=%{x}\\u003cbr\\u003ey=%{y}\\u003cbr\\u003ez=%{z}\\u003cextra\\u003e\\u003c\\u002fextra\\u003e\",\"legendgroup\":\"Ba\",\"marker\":{\"color\":\"#FECB52\",\"symbol\":\"circle\"},\"mode\":\"markers\",\"name\":\"Ba\",\"scene\":\"scene\",\"showlegend\":true,\"x\":[0.5953002942189369,0.214040592444324],\"y\":[0.5434807087939171,0.8891944294018764],\"z\":[0.5323175007201696,0.6470558998975526],\"type\":\"scatter3d\"},{\"hovertemplate\":\"atom=Y\\u003cbr\\u003eframe=13\\u003cbr\\u003ex=%{x}\\u003cbr\\u003ey=%{y}\\u003cbr\\u003ez=%{z}\\u003cextra\\u003e\\u003c\\u002fextra\\u003e\",\"legendgroup\":\"Y\",\"marker\":{\"color\":\"#636efa\",\"symbol\":\"circle\"},\"mode\":\"markers\",\"name\":\"Y\",\"scene\":\"scene\",\"showlegend\":true,\"x\":[0.10697004205281041],\"y\":[0.5883811291549537],\"z\":[0.27955217218934514],\"type\":\"scatter3d\"},{\"hovertemplate\":\"atom=Sb\\u003cbr\\u003eframe=13\\u003cbr\\u003ex=%{x}\\u003cbr\\u003ey=%{y}\\u003cbr\\u003ez=%{z}\\u003cextra\\u003e\\u003c\\u002fextra\\u003e\",\"legendgroup\":\"Sb\",\"marker\":{\"color\":\"#EF553B\",\"symbol\":\"circle\"},\"mode\":\"markers\",\"name\":\"Sb\",\"scene\":\"scene\",\"showlegend\":true,\"x\":[0.5856555581507622],\"y\":[0.8403841622812003],\"z\":[0.32619282144429895],\"type\":\"scatter3d\"},{\"hovertemplate\":\"atom=O\\u003cbr\\u003eframe=13\\u003cbr\\u003ex=%{x}\\u003cbr\\u003ey=%{y}\\u003cbr\\u003ez=%{z}\\u003cextra\\u003e\\u003c\\u002fextra\\u003e\",\"legendgroup\":\"O\",\"marker\":{\"color\":\"#00cc96\",\"symbol\":\"circle\"},\"mode\":\"markers\",\"name\":\"O\",\"scene\":\"scene\",\"showlegend\":true,\"x\":[0.30352926133266733,0.16928909610507736,0.42199810548436695,0.04106553275079827,0.3306045892570846,0.10596591833120267],\"y\":[0.2654015610409364,0.8098843333758923,0.3977891298519737,0.6857228748303518,0.25755247657500224,0.9275027205466005],\"z\":[0.8124763372377921,0.04500282538442335,0.5590534420674852,0.4784705129181969,0.28895647452777934,0.6205332501622903],\"type\":\"scatter3d\"}],\"name\":\"13\"},{\"data\":[{\"hovertemplate\":\"atom=Ba\\u003cbr\\u003eframe=14\\u003cbr\\u003ex=%{x}\\u003cbr\\u003ey=%{y}\\u003cbr\\u003ez=%{z}\\u003cextra\\u003e\\u003c\\u002fextra\\u003e\",\"legendgroup\":\"Ba\",\"marker\":{\"color\":\"#FECB52\",\"symbol\":\"circle\"},\"mode\":\"markers\",\"name\":\"Ba\",\"scene\":\"scene\",\"showlegend\":true,\"x\":[0.5968273743777537,0.21040432758970368],\"y\":[0.5455537307832072,0.8856849218560608],\"z\":[0.5365553978584515,0.6414408594852647],\"type\":\"scatter3d\"},{\"hovertemplate\":\"atom=Y\\u003cbr\\u003eframe=14\\u003cbr\\u003ex=%{x}\\u003cbr\\u003ey=%{y}\\u003cbr\\u003ez=%{z}\\u003cextra\\u003e\\u003c\\u002fextra\\u003e\",\"legendgroup\":\"Y\",\"marker\":{\"color\":\"#636efa\",\"symbol\":\"circle\"},\"mode\":\"markers\",\"name\":\"Y\",\"scene\":\"scene\",\"showlegend\":true,\"x\":[0.10398528250602893],\"y\":[0.5866953675297767],\"z\":[0.27777254820241376],\"type\":\"scatter3d\"},{\"hovertemplate\":\"atom=Sb\\u003cbr\\u003eframe=14\\u003cbr\\u003ex=%{x}\\u003cbr\\u003ey=%{y}\\u003cbr\\u003ez=%{z}\\u003cextra\\u003e\\u003c\\u002fextra\\u003e\",\"legendgroup\":\"Sb\",\"marker\":{\"color\":\"#EF553B\",\"symbol\":\"circle\"},\"mode\":\"markers\",\"name\":\"Sb\",\"scene\":\"scene\",\"showlegend\":true,\"x\":[0.5849067290319533],\"y\":[0.8389987766170393],\"z\":[0.324837302155227],\"type\":\"scatter3d\"},{\"hovertemplate\":\"atom=O\\u003cbr\\u003eframe=14\\u003cbr\\u003ex=%{x}\\u003cbr\\u003ey=%{y}\\u003cbr\\u003ez=%{z}\\u003cextra\\u003e\\u003c\\u002fextra\\u003e\",\"legendgroup\":\"O\",\"marker\":{\"color\":\"#00cc96\",\"symbol\":\"circle\"},\"mode\":\"markers\",\"name\":\"O\",\"scene\":\"scene\",\"showlegend\":true,\"x\":[0.29720933608014977,0.166652077042877,0.42277919031035394,0.039999399532613444,0.33380688620158105,0.10937006582194947],\"y\":[0.27317637806102213,0.8083904759135722,0.3950434951976311,0.6781282444906682,0.25797676126645663,0.9288008814658502],\"z\":[0.8120151873552726,0.04939108887417254,0.5598760505360628,0.4819692953181073,0.2882944335661955,0.6144481559920345],\"type\":\"scatter3d\"}],\"name\":\"14\"},{\"data\":[{\"hovertemplate\":\"atom=Ba\\u003cbr\\u003eframe=15\\u003cbr\\u003ex=%{x}\\u003cbr\\u003ey=%{y}\\u003cbr\\u003ez=%{z}\\u003cextra\\u003e\\u003c\\u002fextra\\u003e\",\"legendgroup\":\"Ba\",\"marker\":{\"color\":\"#FECB52\",\"symbol\":\"circle\"},\"mode\":\"markers\",\"name\":\"Ba\",\"scene\":\"scene\",\"showlegend\":true,\"x\":[0.5981928577775153,0.20701875302876893],\"y\":[0.5475215871519603,0.8821541186367384],\"z\":[0.5407809041357475,0.6362872230703338],\"type\":\"scatter3d\"},{\"hovertemplate\":\"atom=Y\\u003cbr\\u003eframe=15\\u003cbr\\u003ex=%{x}\\u003cbr\\u003ey=%{y}\\u003cbr\\u003ez=%{z}\\u003cextra\\u003e\\u003c\\u002fextra\\u003e\",\"legendgroup\":\"Y\",\"marker\":{\"color\":\"#636efa\",\"symbol\":\"circle\"},\"mode\":\"markers\",\"name\":\"Y\",\"scene\":\"scene\",\"showlegend\":true,\"x\":[0.10132961991294237],\"y\":[0.584562007798884],\"z\":[0.27563006307690624],\"type\":\"scatter3d\"},{\"hovertemplate\":\"atom=Sb\\u003cbr\\u003eframe=15\\u003cbr\\u003ex=%{x}\\u003cbr\\u003ey=%{y}\\u003cbr\\u003ez=%{z}\\u003cextra\\u003e\\u003c\\u002fextra\\u003e\",\"legendgroup\":\"Sb\",\"marker\":{\"color\":\"#EF553B\",\"symbol\":\"circle\"},\"mode\":\"markers\",\"name\":\"Sb\",\"scene\":\"scene\",\"showlegend\":true,\"x\":[0.5843596752066471],\"y\":[0.8374263974361954],\"z\":[0.32329559096556637],\"type\":\"scatter3d\"},{\"hovertemplate\":\"atom=O\\u003cbr\\u003eframe=15\\u003cbr\\u003ex=%{x}\\u003cbr\\u003ey=%{y}\\u003cbr\\u003ez=%{z}\\u003cextra\\u003e\\u003c\\u002fextra\\u003e\",\"legendgroup\":\"O\",\"marker\":{\"color\":\"#00cc96\",\"symbol\":\"circle\"},\"mode\":\"markers\",\"name\":\"O\",\"scene\":\"scene\",\"showlegend\":true,\"x\":[0.2912234777554974,0.16409217124304398,0.4237874874985349,0.039186695697525836,0.33671822319397515,0.11268229079523606],\"y\":[0.2804444747402681,0.8070924122348409,0.39216437362179796,0.670917276615921,0.2585593778318262,0.9301374523898267],\"z\":[0.8116172597855709,0.05329295858287153,0.560730637050316,0.48530117918887744,0.2876733791468645,0.6086104610678634],\"type\":\"scatter3d\"}],\"name\":\"15\"},{\"data\":[{\"hovertemplate\":\"atom=Ba\\u003cbr\\u003eframe=16\\u003cbr\\u003ex=%{x}\\u003cbr\\u003ey=%{y}\\u003cbr\\u003ez=%{z}\\u003cextra\\u003e\\u003c\\u002fextra\\u003e\",\"legendgroup\":\"Ba\",\"marker\":{\"color\":\"#FECB52\",\"symbol\":\"circle\"},\"mode\":\"markers\",\"name\":\"Ba\",\"scene\":\"scene\",\"showlegend\":true,\"x\":[0.5994773525925816,0.20371128614566336],\"y\":[0.5493085761566833,0.8789649213581894],\"z\":[0.5449498831521693,0.6315770045921977],\"type\":\"scatter3d\"},{\"hovertemplate\":\"atom=Y\\u003cbr\\u003eframe=16\\u003cbr\\u003ex=%{x}\\u003cbr\\u003ey=%{y}\\u003cbr\\u003ez=%{z}\\u003cextra\\u003e\\u003c\\u002fextra\\u003e\",\"legendgroup\":\"Y\",\"marker\":{\"color\":\"#636efa\",\"symbol\":\"circle\"},\"mode\":\"markers\",\"name\":\"Y\",\"scene\":\"scene\",\"showlegend\":true,\"x\":[0.09910287403539672],\"y\":[0.5821002668377062],\"z\":[0.27321476170204917],\"type\":\"scatter3d\"},{\"hovertemplate\":\"atom=Sb\\u003cbr\\u003eframe=16\\u003cbr\\u003ex=%{x}\\u003cbr\\u003ey=%{y}\\u003cbr\\u003ez=%{z}\\u003cextra\\u003e\\u003c\\u002fextra\\u003e\",\"legendgroup\":\"Sb\",\"marker\":{\"color\":\"#EF553B\",\"symbol\":\"circle\"},\"mode\":\"markers\",\"name\":\"Sb\",\"scene\":\"scene\",\"showlegend\":true,\"x\":[0.5838709957630326],\"y\":[0.8355988591353432],\"z\":[0.32181543214965946],\"type\":\"scatter3d\"},{\"hovertemplate\":\"atom=O\\u003cbr\\u003eframe=16\\u003cbr\\u003ex=%{x}\\u003cbr\\u003ey=%{y}\\u003cbr\\u003ez=%{z}\\u003cextra\\u003e\\u003c\\u002fextra\\u003e\",\"legendgroup\":\"O\",\"marker\":{\"color\":\"#00cc96\",\"symbol\":\"circle\"},\"mode\":\"markers\",\"name\":\"O\",\"scene\":\"scene\",\"showlegend\":true,\"x\":[0.2854117781106429,0.16162369658178666,0.4251298202590482,0.03824950585008291,0.3395880551865176,0.11590318210930534],\"y\":[0.28727260669448457,0.8062522055365056,0.3893560674534138,0.6640714468873747,0.2590741205154253,0.9313284542579143],\"z\":[0.811408209800468,0.05671780244698532,0.5615615990868574,0.4886410418043059,0.2871348823545235,0.6030765290298535],\"type\":\"scatter3d\"}],\"name\":\"16\"},{\"data\":[{\"hovertemplate\":\"atom=Ba\\u003cbr\\u003eframe=17\\u003cbr\\u003ex=%{x}\\u003cbr\\u003ey=%{y}\\u003cbr\\u003ez=%{z}\\u003cextra\\u003e\\u003c\\u002fextra\\u003e\",\"legendgroup\":\"Ba\",\"marker\":{\"color\":\"#FECB52\",\"symbol\":\"circle\"},\"mode\":\"markers\",\"name\":\"Ba\",\"scene\":\"scene\",\"showlegend\":true,\"x\":[0.6005328580916329,0.20058732918600392],\"y\":[0.5510982392756593,0.8758823969282109],\"z\":[0.5491581809855791,0.6270756445114871],\"type\":\"scatter3d\"},{\"hovertemplate\":\"atom=Y\\u003cbr\\u003eframe=17\\u003cbr\\u003ex=%{x}\\u003cbr\\u003ey=%{y}\\u003cbr\\u003ez=%{z}\\u003cextra\\u003e\\u003c\\u002fextra\\u003e\",\"legendgroup\":\"Y\",\"marker\":{\"color\":\"#636efa\",\"symbol\":\"circle\"},\"mode\":\"markers\",\"name\":\"Y\",\"scene\":\"scene\",\"showlegend\":true,\"x\":[0.09692319990840262],\"y\":[0.5795149817980335],\"z\":[0.2709835479384872],\"type\":\"scatter3d\"},{\"hovertemplate\":\"atom=Sb\\u003cbr\\u003eframe=17\\u003cbr\\u003ex=%{x}\\u003cbr\\u003ey=%{y}\\u003cbr\\u003ez=%{z}\\u003cextra\\u003e\\u003c\\u002fextra\\u003e\",\"legendgroup\":\"Sb\",\"marker\":{\"color\":\"#EF553B\",\"symbol\":\"circle\"},\"mode\":\"markers\",\"name\":\"Sb\",\"scene\":\"scene\",\"showlegend\":true,\"x\":[0.5832684902395777],\"y\":[0.833515967233446],\"z\":[0.32022093519424266],\"type\":\"scatter3d\"},{\"hovertemplate\":\"atom=O\\u003cbr\\u003eframe=17\\u003cbr\\u003ex=%{x}\\u003cbr\\u003ey=%{y}\\u003cbr\\u003ez=%{z}\\u003cextra\\u003e\\u003c\\u002fextra\\u003e\",\"legendgroup\":\"O\",\"marker\":{\"color\":\"#00cc96\",\"symbol\":\"circle\"},\"mode\":\"markers\",\"name\":\"O\",\"scene\":\"scene\",\"showlegend\":true,\"x\":[0.2798638203935905,0.15944788381684005,0.42655242293503337,0.03726626369331071,0.34230833831102603,0.11892284104158773],\"y\":[0.29381640737320397,0.8054116584963562,0.3865956036200311,0.6574936606475109,0.25960955111929185,0.9324198818352669],\"z\":[0.8112123127647181,0.05990347248510847,0.5624758649797803,0.4920479158768185,0.28658721544179855,0.5978747390123307],\"type\":\"scatter3d\"}],\"name\":\"17\"},{\"data\":[{\"hovertemplate\":\"atom=Ba\\u003cbr\\u003eframe=18\\u003cbr\\u003ex=%{x}\\u003cbr\\u003ey=%{y}\\u003cbr\\u003ez=%{z}\\u003cextra\\u003e\\u003c\\u002fextra\\u003e\",\"legendgroup\":\"Ba\",\"marker\":{\"color\":\"#FECB52\",\"symbol\":\"circle\"},\"mode\":\"markers\",\"name\":\"Ba\",\"scene\":\"scene\",\"showlegend\":true,\"x\":[0.6013852282610903,0.19786832331657184],\"y\":[0.552646891770039,0.8729519566688471],\"z\":[0.5531236850437276,0.6228720269008857],\"type\":\"scatter3d\"},{\"hovertemplate\":\"atom=Y\\u003cbr\\u003eframe=18\\u003cbr\\u003ex=%{x}\\u003cbr\\u003ey=%{y}\\u003cbr\\u003ez=%{z}\\u003cextra\\u003e\\u003c\\u002fextra\\u003e\",\"legendgroup\":\"Y\",\"marker\":{\"color\":\"#636efa\",\"symbol\":\"circle\"},\"mode\":\"markers\",\"name\":\"Y\",\"scene\":\"scene\",\"showlegend\":true,\"x\":[0.09497840026694707],\"y\":[0.5766487689010041],\"z\":[0.2686937412158433],\"type\":\"scatter3d\"},{\"hovertemplate\":\"atom=Sb\\u003cbr\\u003eframe=18\\u003cbr\\u003ex=%{x}\\u003cbr\\u003ey=%{y}\\u003cbr\\u003ez=%{z}\\u003cextra\\u003e\\u003c\\u002fextra\\u003e\",\"legendgroup\":\"Sb\",\"marker\":{\"color\":\"#EF553B\",\"symbol\":\"circle\"},\"mode\":\"markers\",\"name\":\"Sb\",\"scene\":\"scene\",\"showlegend\":true,\"x\":[0.5826405828879242],\"y\":[0.8314446469532261],\"z\":[0.31915784689735005],\"type\":\"scatter3d\"},{\"hovertemplate\":\"atom=O\\u003cbr\\u003eframe=18\\u003cbr\\u003ex=%{x}\\u003cbr\\u003ey=%{y}\\u003cbr\\u003ez=%{z}\\u003cextra\\u003e\\u003c\\u002fextra\\u003e\",\"legendgroup\":\"O\",\"marker\":{\"color\":\"#00cc96\",\"symbol\":\"circle\"},\"mode\":\"markers\",\"name\":\"O\",\"scene\":\"scene\",\"showlegend\":true,\"x\":[0.2748147574563951,0.15747600714156051,0.42777052909614904,0.036494243614269894,0.34473905831521323,0.12163713291231909],\"y\":[0.2996537070662448,0.8045833637615122,0.38402300846799603,0.6514159823932427,0.2600789554112355,0.9334407127963368],\"z\":[0.8110336766012953,0.06272233469422461,0.5633983653929223,0.4951924952508481,0.2861035283024965,0.5932989615549464],\"type\":\"scatter3d\"}],\"name\":\"18\"},{\"data\":[{\"hovertemplate\":\"atom=Ba\\u003cbr\\u003eframe=19\\u003cbr\\u003ex=%{x}\\u003cbr\\u003ey=%{y}\\u003cbr\\u003ez=%{z}\\u003cextra\\u003e\\u003c\\u002fextra\\u003e\",\"legendgroup\":\"Ba\",\"marker\":{\"color\":\"#FECB52\",\"symbol\":\"circle\"},\"mode\":\"markers\",\"name\":\"Ba\",\"scene\":\"scene\",\"showlegend\":true,\"x\":[0.6022417199873704,0.1952842384746709],\"y\":[0.5542678912100308,0.8703084731789743],\"z\":[0.5566590535202343,0.618996414117648],\"type\":\"scatter3d\"},{\"hovertemplate\":\"atom=Y\\u003cbr\\u003eframe=19\\u003cbr\\u003ex=%{x}\\u003cbr\\u003ey=%{y}\\u003cbr\\u003ez=%{z}\\u003cextra\\u003e\\u003c\\u002fextra\\u003e\",\"legendgroup\":\"Y\",\"marker\":{\"color\":\"#636efa\",\"symbol\":\"circle\"},\"mode\":\"markers\",\"name\":\"Y\",\"scene\":\"scene\",\"showlegend\":true,\"x\":[0.09332343013909664],\"y\":[0.5739756756733103],\"z\":[0.26668238815583795],\"type\":\"scatter3d\"},{\"hovertemplate\":\"atom=Sb\\u003cbr\\u003eframe=19\\u003cbr\\u003ex=%{x}\\u003cbr\\u003ey=%{y}\\u003cbr\\u003ez=%{z}\\u003cextra\\u003e\\u003c\\u002fextra\\u003e\",\"legendgroup\":\"Sb\",\"marker\":{\"color\":\"#EF553B\",\"symbol\":\"circle\"},\"mode\":\"markers\",\"name\":\"Sb\",\"scene\":\"scene\",\"showlegend\":true,\"x\":[0.5821438035069004],\"y\":[0.8294392557444107],\"z\":[0.3177583580401474],\"type\":\"scatter3d\"},{\"hovertemplate\":\"atom=O\\u003cbr\\u003eframe=19\\u003cbr\\u003ex=%{x}\\u003cbr\\u003ey=%{y}\\u003cbr\\u003ez=%{z}\\u003cextra\\u003e\\u003c\\u002fextra\\u003e\",\"legendgroup\":\"O\",\"marker\":{\"color\":\"#00cc96\",\"symbol\":\"circle\"},\"mode\":\"markers\",\"name\":\"O\",\"scene\":\"scene\",\"showlegend\":true,\"x\":[0.2702790630264458,0.15582283912130118,0.4288342713461975,0.03560641598637315,0.34700812857152424,0.12431915031576568],\"y\":[0.305084881734623,0.8037469980636496,0.381894802484573,0.6457058732981329,0.26044156530396073,0.9342244713738014],\"z\":[0.8107898268014748,0.06556904587931894,0.5643204342799463,0.4983890420734034,0.28550459930234295,0.589162819640138],\"type\":\"scatter3d\"}],\"name\":\"19\"},{\"data\":[{\"hovertemplate\":\"atom=Ba\\u003cbr\\u003eframe=20\\u003cbr\\u003ex=%{x}\\u003cbr\\u003ey=%{y}\\u003cbr\\u003ez=%{z}\\u003cextra\\u003e\\u003c\\u002fextra\\u003e\",\"legendgroup\":\"Ba\",\"marker\":{\"color\":\"#FECB52\",\"symbol\":\"circle\"},\"mode\":\"markers\",\"name\":\"Ba\",\"scene\":\"scene\",\"showlegend\":true,\"x\":[0.6031755396937288,0.19311205454331692],\"y\":[0.555656631672073,0.8678292289245033],\"z\":[0.5597566833358063,0.615326815941183],\"type\":\"scatter3d\"},{\"hovertemplate\":\"atom=Y\\u003cbr\\u003eframe=20\\u003cbr\\u003ex=%{x}\\u003cbr\\u003ey=%{y}\\u003cbr\\u003ez=%{z}\\u003cextra\\u003e\\u003c\\u002fextra\\u003e\",\"legendgroup\":\"Y\",\"marker\":{\"color\":\"#636efa\",\"symbol\":\"circle\"},\"mode\":\"markers\",\"name\":\"Y\",\"scene\":\"scene\",\"showlegend\":true,\"x\":[0.09182441881447137],\"y\":[0.5718790242380744],\"z\":[0.2648004280120323],\"type\":\"scatter3d\"},{\"hovertemplate\":\"atom=Sb\\u003cbr\\u003eframe=20\\u003cbr\\u003ex=%{x}\\u003cbr\\u003ey=%{y}\\u003cbr\\u003ez=%{z}\\u003cextra\\u003e\\u003c\\u002fextra\\u003e\",\"legendgroup\":\"Sb\",\"marker\":{\"color\":\"#EF553B\",\"symbol\":\"circle\"},\"mode\":\"markers\",\"name\":\"Sb\",\"scene\":\"scene\",\"showlegend\":true,\"x\":[0.5816998413364467],\"y\":[0.8278276886346935],\"z\":[0.3165859651098558],\"type\":\"scatter3d\"},{\"hovertemplate\":\"atom=O\\u003cbr\\u003eframe=20\\u003cbr\\u003ex=%{x}\\u003cbr\\u003ey=%{y}\\u003cbr\\u003ez=%{z}\\u003cextra\\u003e\\u003c\\u002fextra\\u003e\",\"legendgroup\":\"O\",\"marker\":{\"color\":\"#00cc96\",\"symbol\":\"circle\"},\"mode\":\"markers\",\"name\":\"O\",\"scene\":\"scene\",\"showlegend\":true,\"x\":[0.26623736557229727,0.15433084332969993,0.4294329895058113,0.03468291743235172,0.34911720503529214,0.12649697029682028],\"y\":[0.30972262239396625,0.8026581473600317,0.3800469409153969,0.6403804963136606,0.2611499381696164,0.9348202640294],\"z\":[0.8105024443354814,0.06826443063270604,0.5652617187900479,0.501403753821855,0.284852007603655,0.5856646210851894],\"type\":\"scatter3d\"}],\"name\":\"20\"},{\"data\":[{\"hovertemplate\":\"atom=Ba\\u003cbr\\u003eframe=21\\u003cbr\\u003ex=%{x}\\u003cbr\\u003ey=%{y}\\u003cbr\\u003ez=%{z}\\u003cextra\\u003e\\u003c\\u002fextra\\u003e\",\"legendgroup\":\"Ba\",\"marker\":{\"color\":\"#FECB52\",\"symbol\":\"circle\"},\"mode\":\"markers\",\"name\":\"Ba\",\"scene\":\"scene\",\"showlegend\":true,\"x\":[0.6038901834012738,0.19095680373530133],\"y\":[0.557079114593964,0.8654444052132976],\"z\":[0.56277426304586,0.611901501066412],\"type\":\"scatter3d\"},{\"hovertemplate\":\"atom=Y\\u003cbr\\u003eframe=21\\u003cbr\\u003ex=%{x}\\u003cbr\\u003ey=%{y}\\u003cbr\\u003ez=%{z}\\u003cextra\\u003e\\u003c\\u002fextra\\u003e\",\"legendgroup\":\"Y\",\"marker\":{\"color\":\"#636efa\",\"symbol\":\"circle\"},\"mode\":\"markers\",\"name\":\"Y\",\"scene\":\"scene\",\"showlegend\":true,\"x\":[0.09038952601401393],\"y\":[0.5698226303774128],\"z\":[0.2630248347128702],\"type\":\"scatter3d\"},{\"hovertemplate\":\"atom=Sb\\u003cbr\\u003eframe=21\\u003cbr\\u003ex=%{x}\\u003cbr\\u003ey=%{y}\\u003cbr\\u003ez=%{z}\\u003cextra\\u003e\\u003c\\u002fextra\\u003e\",\"legendgroup\":\"Sb\",\"marker\":{\"color\":\"#EF553B\",\"symbol\":\"circle\"},\"mode\":\"markers\",\"name\":\"Sb\",\"scene\":\"scene\",\"showlegend\":true,\"x\":[0.5814388824960298],\"y\":[0.8256448334799882],\"z\":[0.3152127961380269],\"type\":\"scatter3d\"},{\"hovertemplate\":\"atom=O\\u003cbr\\u003eframe=21\\u003cbr\\u003ex=%{x}\\u003cbr\\u003ey=%{y}\\u003cbr\\u003ez=%{z}\\u003cextra\\u003e\\u003c\\u002fextra\\u003e\",\"legendgroup\":\"O\",\"marker\":{\"color\":\"#00cc96\",\"symbol\":\"circle\"},\"mode\":\"markers\",\"name\":\"O\",\"scene\":\"scene\",\"showlegend\":true,\"x\":[0.2624757430423392,0.15297641757223884,0.4300729399950819,0.03400779341717422,0.3511148226912716,0.12877358425562158],\"y\":[0.31417307781507164,0.8018543572357982,0.37814139140874187,0.6354650853543236,0.2618041966868405,0.935287310238775],\"z\":[0.8102047130564978,0.07056227549049199,0.5662762568718113,0.5041491602808492,0.28431677967703956,0.5822388024642152],\"type\":\"scatter3d\"}],\"name\":\"21\"},{\"data\":[{\"hovertemplate\":\"atom=Ba\\u003cbr\\u003eframe=22\\u003cbr\\u003ex=%{x}\\u003cbr\\u003ey=%{y}\\u003cbr\\u003ez=%{z}\\u003cextra\\u003e\\u003c\\u002fextra\\u003e\",\"legendgroup\":\"Ba\",\"marker\":{\"color\":\"#FECB52\",\"symbol\":\"circle\"},\"mode\":\"markers\",\"name\":\"Ba\",\"scene\":\"scene\",\"showlegend\":true,\"x\":[0.6045543154088183,0.18897529154223625],\"y\":[0.5583739693355915,0.8631698522498392],\"z\":[0.5656731319461024,0.6088028592966563],\"type\":\"scatter3d\"},{\"hovertemplate\":\"atom=Y\\u003cbr\\u003eframe=22\\u003cbr\\u003ex=%{x}\\u003cbr\\u003ey=%{y}\\u003cbr\\u003ez=%{z}\\u003cextra\\u003e\\u003c\\u002fextra\\u003e\",\"legendgroup\":\"Y\",\"marker\":{\"color\":\"#636efa\",\"symbol\":\"circle\"},\"mode\":\"markers\",\"name\":\"Y\",\"scene\":\"scene\",\"showlegend\":true,\"x\":[0.08927201032978921],\"y\":[0.5675330537538779],\"z\":[0.2610604194277448],\"type\":\"scatter3d\"},{\"hovertemplate\":\"atom=Sb\\u003cbr\\u003eframe=22\\u003cbr\\u003ex=%{x}\\u003cbr\\u003ey=%{y}\\u003cbr\\u003ez=%{z}\\u003cextra\\u003e\\u003c\\u002fextra\\u003e\",\"legendgroup\":\"Sb\",\"marker\":{\"color\":\"#EF553B\",\"symbol\":\"circle\"},\"mode\":\"markers\",\"name\":\"Sb\",\"scene\":\"scene\",\"showlegend\":true,\"x\":[0.5811044537942902],\"y\":[0.8237651742613293],\"z\":[0.31429006750659516],\"type\":\"scatter3d\"},{\"hovertemplate\":\"atom=O\\u003cbr\\u003eframe=22\\u003cbr\\u003ex=%{x}\\u003cbr\\u003ey=%{y}\\u003cbr\\u003ez=%{z}\\u003cextra\\u003e\\u003c\\u002fextra\\u003e\",\"legendgroup\":\"O\",\"marker\":{\"color\":\"#00cc96\",\"symbol\":\"circle\"},\"mode\":\"markers\",\"name\":\"O\",\"scene\":\"scene\",\"showlegend\":true,\"x\":[0.25888709420166667,0.1515467416529156,0.4309487560815752,0.03336641964338824,0.3530944053606043,0.13090849107577474],\"y\":[0.3183258800096735,0.8012427629959764,0.37634937020719716,0.6308483972671913,0.26245108923480365,0.9358209662031827],\"z\":[0.8100761098948714,0.07270990478292993,0.5672378129010182,0.5068675123208559,0.28381469683789673,0.578992096569114],\"type\":\"scatter3d\"}],\"name\":\"22\"},{\"data\":[{\"hovertemplate\":\"atom=Ba\\u003cbr\\u003eframe=23\\u003cbr\\u003ex=%{x}\\u003cbr\\u003ey=%{y}\\u003cbr\\u003ez=%{z}\\u003cextra\\u003e\\u003c\\u002fextra\\u003e\",\"legendgroup\":\"Ba\",\"marker\":{\"color\":\"#FECB52\",\"symbol\":\"circle\"},\"mode\":\"markers\",\"name\":\"Ba\",\"scene\":\"scene\",\"showlegend\":true,\"x\":[0.6051845178524138,0.1871397437160079],\"y\":[0.5596363943643674,0.8612546030014842],\"z\":[0.5682528186321475,0.606039276688483],\"type\":\"scatter3d\"},{\"hovertemplate\":\"atom=Y\\u003cbr\\u003eframe=23\\u003cbr\\u003ex=%{x}\\u003cbr\\u003ey=%{y}\\u003cbr\\u003ez=%{z}\\u003cextra\\u003e\\u003c\\u002fextra\\u003e\",\"legendgroup\":\"Y\",\"marker\":{\"color\":\"#636efa\",\"symbol\":\"circle\"},\"mode\":\"markers\",\"name\":\"Y\",\"scene\":\"scene\",\"showlegend\":true,\"x\":[0.08823491622533935],\"y\":[0.5654396598760048],\"z\":[0.25916667367797175],\"type\":\"scatter3d\"},{\"hovertemplate\":\"atom=Sb\\u003cbr\\u003eframe=23\\u003cbr\\u003ex=%{x}\\u003cbr\\u003ey=%{y}\\u003cbr\\u003ez=%{z}\\u003cextra\\u003e\\u003c\\u002fextra\\u003e\",\"legendgroup\":\"Sb\",\"marker\":{\"color\":\"#EF553B\",\"symbol\":\"circle\"},\"mode\":\"markers\",\"name\":\"Sb\",\"scene\":\"scene\",\"showlegend\":true,\"x\":[0.5809208252489066],\"y\":[0.8221121826908182],\"z\":[0.31349142734768254],\"type\":\"scatter3d\"},{\"hovertemplate\":\"atom=O\\u003cbr\\u003eframe=23\\u003cbr\\u003ex=%{x}\\u003cbr\\u003ey=%{y}\\u003cbr\\u003ez=%{z}\\u003cextra\\u003e\\u003c\\u002fextra\\u003e\",\"legendgroup\":\"O\",\"marker\":{\"color\":\"#00cc96\",\"symbol\":\"circle\"},\"mode\":\"markers\",\"name\":\"O\",\"scene\":\"scene\",\"showlegend\":true,\"x\":[0.2556860404209449,0.1503126825820592,0.43167766638599336,0.0328029665502389,0.35477939018150684,0.13292201654978336],\"y\":[0.32211048098174805,0.8005371857952217,0.37481530379056177,0.626542246775237,0.2631822406918702,0.9362391004318549],\"z\":[0.8099352691251952,0.07476463696443625,0.5681371751192952,0.5093782172073877,0.28340714433181335,0.5759685662536135],\"type\":\"scatter3d\"}],\"name\":\"23\"},{\"data\":[{\"hovertemplate\":\"atom=Ba\\u003cbr\\u003eframe=24\\u003cbr\\u003ex=%{x}\\u003cbr\\u003ey=%{y}\\u003cbr\\u003ez=%{z}\\u003cextra\\u003e\\u003c\\u002fextra\\u003e\",\"legendgroup\":\"Ba\",\"marker\":{\"color\":\"#FECB52\",\"symbol\":\"circle\"},\"mode\":\"markers\",\"name\":\"Ba\",\"scene\":\"scene\",\"showlegend\":true,\"x\":[0.6057464552515224,0.18529952090370178],\"y\":[0.5607430400828334,0.8593008465078839],\"z\":[0.5706974454574469,0.6035038749977871],\"type\":\"scatter3d\"},{\"hovertemplate\":\"atom=Y\\u003cbr\\u003eframe=24\\u003cbr\\u003ex=%{x}\\u003cbr\\u003ey=%{y}\\u003cbr\\u003ez=%{z}\\u003cextra\\u003e\\u003c\\u002fextra\\u003e\",\"legendgroup\":\"Y\",\"marker\":{\"color\":\"#636efa\",\"symbol\":\"circle\"},\"mode\":\"markers\",\"name\":\"Y\",\"scene\":\"scene\",\"showlegend\":true,\"x\":[0.08728202790613054],\"y\":[0.5633583724426594],\"z\":[0.25730206434677594],\"type\":\"scatter3d\"},{\"hovertemplate\":\"atom=Sb\\u003cbr\\u003eframe=24\\u003cbr\\u003ex=%{x}\\u003cbr\\u003ey=%{y}\\u003cbr\\u003ez=%{z}\\u003cextra\\u003e\\u003c\\u002fextra\\u003e\",\"legendgroup\":\"Sb\",\"marker\":{\"color\":\"#EF553B\",\"symbol\":\"circle\"},\"mode\":\"markers\",\"name\":\"Sb\",\"scene\":\"scene\",\"showlegend\":true,\"x\":[0.5808208331979112],\"y\":[0.8202943684417955],\"z\":[0.3124236543711917],\"type\":\"scatter3d\"},{\"hovertemplate\":\"atom=O\\u003cbr\\u003eframe=24\\u003cbr\\u003ex=%{x}\\u003cbr\\u003ey=%{y}\\u003cbr\\u003ez=%{z}\\u003cextra\\u003e\\u003c\\u002fextra\\u003e\",\"legendgroup\":\"O\",\"marker\":{\"color\":\"#00cc96\",\"symbol\":\"circle\"},\"mode\":\"markers\",\"name\":\"O\",\"scene\":\"scene\",\"showlegend\":true,\"x\":[0.25288304910864357,0.1492050117330056,0.43228011057885185,0.0325529145469296,0.3562594622635259,0.13466432288661534],\"y\":[0.3255132184384748,0.8000459753170502,0.37329057246368286,0.6227388783831314,0.2638133073454807,0.9366845592461681],\"z\":[0.8097490919008687,0.07660222711061754,0.5690453212167526,0.5115037760996612,0.2831121144380934,0.5733472530065057],\"type\":\"scatter3d\"}],\"name\":\"24\"},{\"data\":[{\"hovertemplate\":\"atom=Ba\\u003cbr\\u003eframe=25\\u003cbr\\u003ex=%{x}\\u003cbr\\u003ey=%{y}\\u003cbr\\u003ez=%{z}\\u003cextra\\u003e\\u003c\\u002fextra\\u003e\",\"legendgroup\":\"Ba\",\"marker\":{\"color\":\"#FECB52\",\"symbol\":\"circle\"},\"mode\":\"markers\",\"name\":\"Ba\",\"scene\":\"scene\",\"showlegend\":true,\"x\":[0.6062686349003635,0.18365481705167852],\"y\":[0.5617398526358841,0.8575908719936514],\"z\":[0.5728290950303381,0.6012612481181728],\"type\":\"scatter3d\"},{\"hovertemplate\":\"atom=Y\\u003cbr\\u003eframe=25\\u003cbr\\u003ex=%{x}\\u003cbr\\u003ey=%{y}\\u003cbr\\u003ez=%{z}\\u003cextra\\u003e\\u003c\\u002fextra\\u003e\",\"legendgroup\":\"Y\",\"marker\":{\"color\":\"#636efa\",\"symbol\":\"circle\"},\"mode\":\"markers\",\"name\":\"Y\",\"scene\":\"scene\",\"showlegend\":true,\"x\":[0.08649568199069443],\"y\":[0.5615965201119161],\"z\":[0.2557352361087296],\"type\":\"scatter3d\"},{\"hovertemplate\":\"atom=Sb\\u003cbr\\u003eframe=25\\u003cbr\\u003ex=%{x}\\u003cbr\\u003ey=%{y}\\u003cbr\\u003ez=%{z}\\u003cextra\\u003e\\u003c\\u002fextra\\u003e\",\"legendgroup\":\"Sb\",\"marker\":{\"color\":\"#EF553B\",\"symbol\":\"circle\"},\"mode\":\"markers\",\"name\":\"Sb\",\"scene\":\"scene\",\"showlegend\":true,\"x\":[0.5807998800434644],\"y\":[0.818568932685154],\"z\":[0.3113908554438025],\"type\":\"scatter3d\"},{\"hovertemplate\":\"atom=O\\u003cbr\\u003eframe=25\\u003cbr\\u003ex=%{x}\\u003cbr\\u003ey=%{y}\\u003cbr\\u003ez=%{z}\\u003cextra\\u003e\\u003c\\u002fextra\\u003e\",\"legendgroup\":\"O\",\"marker\":{\"color\":\"#00cc96\",\"symbol\":\"circle\"},\"mode\":\"markers\",\"name\":\"O\",\"scene\":\"scene\",\"showlegend\":true,\"x\":[0.25041950714293315,0.14820385206759945,0.43274200293044374,0.03222787635577107,0.35760641535475113,0.13618195262330096],\"y\":[0.32849278946970756,0.7995381853305094,0.37196581626267927,0.6192473117129413,0.264487694649992,0.9370186776670326],\"z\":[0.8095237093467956,0.07829786854332665,0.569885645331832,0.5135170407586217,0.28280739859181864,0.5710833884049782],\"type\":\"scatter3d\"}],\"name\":\"25\"},{\"data\":[{\"hovertemplate\":\"atom=Ba\\u003cbr\\u003eframe=26\\u003cbr\\u003ex=%{x}\\u003cbr\\u003ey=%{y}\\u003cbr\\u003ez=%{z}\\u003cextra\\u003e\\u003c\\u002fextra\\u003e\",\"legendgroup\":\"Ba\",\"marker\":{\"color\":\"#FECB52\",\"symbol\":\"circle\"},\"mode\":\"markers\",\"name\":\"Ba\",\"scene\":\"scene\",\"showlegend\":true,\"x\":[0.6066106536167086,0.18225486601138813],\"y\":[0.5626346598852425,0.8560556386907964],\"z\":[0.5747745551759411,0.5992137171937439],\"type\":\"scatter3d\"},{\"hovertemplate\":\"atom=Y\\u003cbr\\u003eframe=26\\u003cbr\\u003ex=%{x}\\u003cbr\\u003ey=%{y}\\u003cbr\\u003ez=%{z}\\u003cextra\\u003e\\u003c\\u002fextra\\u003e\",\"legendgroup\":\"Y\",\"marker\":{\"color\":\"#636efa\",\"symbol\":\"circle\"},\"mode\":\"markers\",\"name\":\"Y\",\"scene\":\"scene\",\"showlegend\":true,\"x\":[0.08566981020081685],\"y\":[0.5600845759131929],\"z\":[0.25436528088524857],\"type\":\"scatter3d\"},{\"hovertemplate\":\"atom=Sb\\u003cbr\\u003eframe=26\\u003cbr\\u003ex=%{x}\\u003cbr\\u003ey=%{y}\\u003cbr\\u003ez=%{z}\\u003cextra\\u003e\\u003c\\u002fextra\\u003e\",\"legendgroup\":\"Sb\",\"marker\":{\"color\":\"#EF553B\",\"symbol\":\"circle\"},\"mode\":\"markers\",\"name\":\"Sb\",\"scene\":\"scene\",\"showlegend\":true,\"x\":[0.5805710128179659],\"y\":[0.8171922014271212],\"z\":[0.31070766900886315],\"type\":\"scatter3d\"},{\"hovertemplate\":\"atom=O\\u003cbr\\u003eframe=26\\u003cbr\\u003ex=%{x}\\u003cbr\\u003ey=%{y}\\u003cbr\\u003ez=%{z}\\u003cextra\\u003e\\u003c\\u002fextra\\u003e\",\"legendgroup\":\"O\",\"marker\":{\"color\":\"#00cc96\",\"symbol\":\"circle\"},\"mode\":\"markers\",\"name\":\"O\",\"scene\":\"scene\",\"showlegend\":true,\"x\":[0.24811494386527022,0.14727454878035406,0.4332279629335482,0.03201389264743598,0.3588050877954594,0.13765756887318392],\"y\":[0.3312034904678523,0.7989625214621978,0.3707499694421671,0.6158703429935629,0.26510181714328945,0.9372081994371912],\"z\":[0.8093438242767663,0.07984566728051701,0.5706640859303349,0.5153187892992823,0.28252013535792886,0.5688877395649898],\"type\":\"scatter3d\"}],\"name\":\"26\"},{\"data\":[{\"hovertemplate\":\"atom=Ba\\u003cbr\\u003eframe=27\\u003cbr\\u003ex=%{x}\\u003cbr\\u003ey=%{y}\\u003cbr\\u003ez=%{z}\\u003cextra\\u003e\\u003c\\u002fextra\\u003e\",\"legendgroup\":\"Ba\",\"marker\":{\"color\":\"#FECB52\",\"symbol\":\"circle\"},\"mode\":\"markers\",\"name\":\"Ba\",\"scene\":\"scene\",\"showlegend\":true,\"x\":[0.6068413897951009,0.18107630815847447],\"y\":[0.5635109914361248,0.8545555092150463],\"z\":[0.57654067067712,0.5973710856515515],\"type\":\"scatter3d\"},{\"hovertemplate\":\"atom=Y\\u003cbr\\u003eframe=27\\u003cbr\\u003ex=%{x}\\u003cbr\\u003ey=%{y}\\u003cbr\\u003ez=%{z}\\u003cextra\\u003e\\u003c\\u002fextra\\u003e\",\"legendgroup\":\"Y\",\"marker\":{\"color\":\"#636efa\",\"symbol\":\"circle\"},\"mode\":\"markers\",\"name\":\"Y\",\"scene\":\"scene\",\"showlegend\":true,\"x\":[0.08495036144915591],\"y\":[0.5587157697574014],\"z\":[0.25318626546974093],\"type\":\"scatter3d\"},{\"hovertemplate\":\"atom=Sb\\u003cbr\\u003eframe=27\\u003cbr\\u003ex=%{x}\\u003cbr\\u003ey=%{y}\\u003cbr\\u003ez=%{z}\\u003cextra\\u003e\\u003c\\u002fextra\\u003e\",\"legendgroup\":\"Sb\",\"marker\":{\"color\":\"#EF553B\",\"symbol\":\"circle\"},\"mode\":\"markers\",\"name\":\"Sb\",\"scene\":\"scene\",\"showlegend\":true,\"x\":[0.5803402128019766],\"y\":[0.8159312836263789],\"z\":[0.31018802643715826],\"type\":\"scatter3d\"},{\"hovertemplate\":\"atom=O\\u003cbr\\u003eframe=27\\u003cbr\\u003ex=%{x}\\u003cbr\\u003ey=%{y}\\u003cbr\\u003ez=%{z}\\u003cextra\\u003e\\u003c\\u002fextra\\u003e\",\"legendgroup\":\"O\",\"marker\":{\"color\":\"#00cc96\",\"symbol\":\"circle\"},\"mode\":\"markers\",\"name\":\"O\",\"scene\":\"scene\",\"showlegend\":true,\"x\":[0.24602212389941885,0.14645057067861522,0.4336811874816248,0.03183325656627467,0.3598658816010296,0.13917614167388764],\"y\":[0.33371448375154694,0.798462948299453,0.36970796435823833,0.6128472811405223,0.2656618739084144,0.9372772402051813],\"z\":[0.8091845192495658,0.08122895898654914,0.5713842004555003,0.5170118648929345,0.2822616748313147,0.5668128695783754],\"type\":\"scatter3d\"}],\"name\":\"27\"},{\"data\":[{\"hovertemplate\":\"atom=Ba\\u003cbr\\u003eframe=28\\u003cbr\\u003ex=%{x}\\u003cbr\\u003ey=%{y}\\u003cbr\\u003ez=%{z}\\u003cextra\\u003e\\u003c\\u002fextra\\u003e\",\"legendgroup\":\"Ba\",\"marker\":{\"color\":\"#FECB52\",\"symbol\":\"circle\"},\"mode\":\"markers\",\"name\":\"Ba\",\"scene\":\"scene\",\"showlegend\":true,\"x\":[0.607051413472421,0.18007731556525436],\"y\":[0.5643564977427072,0.8533064547575361],\"z\":[0.5780816619788336,0.5958178577867428],\"type\":\"scatter3d\"},{\"hovertemplate\":\"atom=Y\\u003cbr\\u003eframe=28\\u003cbr\\u003ex=%{x}\\u003cbr\\u003ey=%{y}\\u003cbr\\u003ez=%{z}\\u003cextra\\u003e\\u003c\\u002fextra\\u003e\",\"legendgroup\":\"Y\",\"marker\":{\"color\":\"#636efa\",\"symbol\":\"circle\"},\"mode\":\"markers\",\"name\":\"Y\",\"scene\":\"scene\",\"showlegend\":true,\"x\":[0.08481787390271575],\"y\":[0.5573918401008033],\"z\":[0.2519629070733219],\"type\":\"scatter3d\"},{\"hovertemplate\":\"atom=Sb\\u003cbr\\u003eframe=28\\u003cbr\\u003ex=%{x}\\u003cbr\\u003ey=%{y}\\u003cbr\\u003ez=%{z}\\u003cextra\\u003e\\u003c\\u002fextra\\u003e\",\"legendgroup\":\"Sb\",\"marker\":{\"color\":\"#EF553B\",\"symbol\":\"circle\"},\"mode\":\"markers\",\"name\":\"Sb\",\"scene\":\"scene\",\"showlegend\":true,\"x\":[0.5803168030930783],\"y\":[0.8147619177736122],\"z\":[0.3096135534157698],\"type\":\"scatter3d\"},{\"hovertemplate\":\"atom=O\\u003cbr\\u003eframe=28\\u003cbr\\u003ex=%{x}\\u003cbr\\u003ey=%{y}\\u003cbr\\u003ez=%{z}\\u003cextra\\u003e\\u003c\\u002fextra\\u003e\",\"legendgroup\":\"O\",\"marker\":{\"color\":\"#00cc96\",\"symbol\":\"circle\"},\"mode\":\"markers\",\"name\":\"O\",\"scene\":\"scene\",\"showlegend\":true,\"x\":[0.24419901736096436,0.14570991846581888,0.4340513256997336,0.03167696638601769,0.3608861236394484,0.14048441319332539],\"y\":[0.3359501161975573,0.7980657207822144,0.3688119416024012,0.6101798278628897,0.2662030417028604,0.9373320838575002],\"z\":[0.8090287524963855,0.0825225907870295,0.5721024024951611,0.5186026170306,0.28197977868886714,0.5650418326456417],\"type\":\"scatter3d\"}],\"name\":\"28\"},{\"data\":[{\"hovertemplate\":\"atom=Ba\\u003cbr\\u003eframe=29\\u003cbr\\u003ex=%{x}\\u003cbr\\u003ey=%{y}\\u003cbr\\u003ez=%{z}\\u003cextra\\u003e\\u003c\\u002fextra\\u003e\",\"legendgroup\":\"Ba\",\"marker\":{\"color\":\"#FECB52\",\"symbol\":\"circle\"},\"mode\":\"markers\",\"name\":\"Ba\",\"scene\":\"scene\",\"showlegend\":true,\"x\":[0.6072005355608484,0.1791533997874422],\"y\":[0.5649677516407149,0.8521748668461272],\"z\":[0.5793969871361843,0.5944260794159276],\"type\":\"scatter3d\"},{\"hovertemplate\":\"atom=Y\\u003cbr\\u003eframe=29\\u003cbr\\u003ex=%{x}\\u003cbr\\u003ey=%{y}\\u003cbr\\u003ez=%{z}\\u003cextra\\u003e\\u003c\\u002fextra\\u003e\",\"legendgroup\":\"Y\",\"marker\":{\"color\":\"#636efa\",\"symbol\":\"circle\"},\"mode\":\"markers\",\"name\":\"Y\",\"scene\":\"scene\",\"showlegend\":true,\"x\":[0.08423104725313874],\"y\":[0.5562963284216823],\"z\":[0.2510523900337649],\"type\":\"scatter3d\"},{\"hovertemplate\":\"atom=Sb\\u003cbr\\u003eframe=29\\u003cbr\\u003ex=%{x}\\u003cbr\\u003ey=%{y}\\u003cbr\\u003ez=%{z}\\u003cextra\\u003e\\u003c\\u002fextra\\u003e\",\"legendgroup\":\"Sb\",\"marker\":{\"color\":\"#EF553B\",\"symbol\":\"circle\"},\"mode\":\"markers\",\"name\":\"Sb\",\"scene\":\"scene\",\"showlegend\":true,\"x\":[0.5801264814725982],\"y\":[0.8137637924735645],\"z\":[0.3092790755263639],\"type\":\"scatter3d\"},{\"hovertemplate\":\"atom=O\\u003cbr\\u003eframe=29\\u003cbr\\u003ex=%{x}\\u003cbr\\u003ey=%{y}\\u003cbr\\u003ez=%{z}\\u003cextra\\u003e\\u003c\\u002fextra\\u003e\",\"legendgroup\":\"O\",\"marker\":{\"color\":\"#00cc96\",\"symbol\":\"circle\"},\"mode\":\"markers\",\"name\":\"O\",\"scene\":\"scene\",\"showlegend\":true,\"x\":[0.2425939254213112,0.14509425215254207,0.4343515213393736,0.03154580136597471,0.36160014721702494,0.14165634366126312],\"y\":[0.3378330086634495,0.7976542475290455,0.3680316836835953,0.6078960370501932,0.2666537515051617,0.9373131219564325],\"z\":[0.8088782603381601,0.08356113050476699,0.5726540650613879,0.5198773438178913,0.28181404535212917,0.5634584414188442],\"type\":\"scatter3d\"}],\"name\":\"29\"},{\"data\":[{\"hovertemplate\":\"atom=Ba\\u003cbr\\u003eframe=30\\u003cbr\\u003ex=%{x}\\u003cbr\\u003ey=%{y}\\u003cbr\\u003ez=%{z}\\u003cextra\\u003e\\u003c\\u002fextra\\u003e\",\"legendgroup\":\"Ba\",\"marker\":{\"color\":\"#FECB52\",\"symbol\":\"circle\"},\"mode\":\"markers\",\"name\":\"Ba\",\"scene\":\"scene\",\"showlegend\":true,\"x\":[0.6073433110106272,0.17839925213044527],\"y\":[0.5654935311231406,0.8513193447661603],\"z\":[0.5804346025161915,0.5933802602911246],\"type\":\"scatter3d\"},{\"hovertemplate\":\"atom=Y\\u003cbr\\u003eframe=30\\u003cbr\\u003ex=%{x}\\u003cbr\\u003ey=%{y}\\u003cbr\\u003ez=%{z}\\u003cextra\\u003e\\u003c\\u002fextra\\u003e\",\"legendgroup\":\"Y\",\"marker\":{\"color\":\"#636efa\",\"symbol\":\"circle\"},\"mode\":\"markers\",\"name\":\"Y\",\"scene\":\"scene\",\"showlegend\":true,\"x\":[0.0841890051046722],\"y\":[0.5553324804043338],\"z\":[0.2501731207201262],\"type\":\"scatter3d\"},{\"hovertemplate\":\"atom=Sb\\u003cbr\\u003eframe=30\\u003cbr\\u003ex=%{x}\\u003cbr\\u003ey=%{y}\\u003cbr\\u003ez=%{z}\\u003cextra\\u003e\\u003c\\u002fextra\\u003e\",\"legendgroup\":\"Sb\",\"marker\":{\"color\":\"#EF553B\",\"symbol\":\"circle\"},\"mode\":\"markers\",\"name\":\"Sb\",\"scene\":\"scene\",\"showlegend\":true,\"x\":[0.580153236670695],\"y\":[0.8129117710522561],\"z\":[0.30887495641226614],\"type\":\"scatter3d\"},{\"hovertemplate\":\"atom=O\\u003cbr\\u003eframe=30\\u003cbr\\u003ex=%{x}\\u003cbr\\u003ey=%{y}\\u003cbr\\u003ez=%{z}\\u003cextra\\u003e\\u003c\\u002fextra\\u003e\",\"legendgroup\":\"O\",\"marker\":{\"color\":\"#00cc96\",\"symbol\":\"circle\"},\"mode\":\"markers\",\"name\":\"O\",\"scene\":\"scene\",\"showlegend\":true,\"x\":[0.24132804021655269,0.1445563761891892,0.43453980857642127,0.03147044571399496,0.36227207304133047,0.14254265022906948],\"y\":[0.33934633853955826,0.7973212959944005,0.3673876111106627,0.605946899481212,0.26706848231569347,0.9373220680841158],\"z\":[0.8087796273097001,0.08451016048280013,0.5731965268280216,0.5210101143788546,0.28163486927376846,0.5622469409422481],\"type\":\"scatter3d\"}],\"name\":\"30\"},{\"data\":[{\"hovertemplate\":\"atom=Ba\\u003cbr\\u003eframe=31\\u003cbr\\u003ex=%{x}\\u003cbr\\u003ey=%{y}\\u003cbr\\u003ez=%{z}\\u003cextra\\u003e\\u003c\\u002fextra\\u003e\",\"legendgroup\":\"Ba\",\"marker\":{\"color\":\"#FECB52\",\"symbol\":\"circle\"},\"mode\":\"markers\",\"name\":\"Ba\",\"scene\":\"scene\",\"showlegend\":true,\"x\":[0.6074318788587327,0.17775436888255025],\"y\":[0.5658386863428317,0.8504703378009193],\"z\":[0.5813178594657525,0.5924298661266626],\"type\":\"scatter3d\"},{\"hovertemplate\":\"atom=Y\\u003cbr\\u003eframe=31\\u003cbr\\u003ex=%{x}\\u003cbr\\u003ey=%{y}\\u003cbr\\u003ez=%{z}\\u003cextra\\u003e\\u003c\\u002fextra\\u003e\",\"legendgroup\":\"Y\",\"marker\":{\"color\":\"#636efa\",\"symbol\":\"circle\"},\"mode\":\"markers\",\"name\":\"Y\",\"scene\":\"scene\",\"showlegend\":true,\"x\":[0.08384214614466037],\"y\":[0.5544238650013774],\"z\":[0.24947370500681643],\"type\":\"scatter3d\"},{\"hovertemplate\":\"atom=Sb\\u003cbr\\u003eframe=31\\u003cbr\\u003ex=%{x}\\u003cbr\\u003ey=%{y}\\u003cbr\\u003ez=%{z}\\u003cextra\\u003e\\u003c\\u002fextra\\u003e\",\"legendgroup\":\"Sb\",\"marker\":{\"color\":\"#EF553B\",\"symbol\":\"circle\"},\"mode\":\"markers\",\"name\":\"Sb\",\"scene\":\"scene\",\"showlegend\":true,\"x\":[0.5800520052242084],\"y\":[0.8121480440215605],\"z\":[0.30867401004021666],\"type\":\"scatter3d\"},{\"hovertemplate\":\"atom=O\\u003cbr\\u003eframe=31\\u003cbr\\u003ex=%{x}\\u003cbr\\u003ey=%{y}\\u003cbr\\u003ez=%{z}\\u003cextra\\u003e\\u003c\\u002fextra\\u003e\",\"legendgroup\":\"O\",\"marker\":{\"color\":\"#00cc96\",\"symbol\":\"circle\"},\"mode\":\"markers\",\"name\":\"O\",\"scene\":\"scene\",\"showlegend\":true,\"x\":[0.24025663892542087,0.14412706406319636,0.4347504879138287,0.031418036149194556,0.3627165756444811,0.14331084711430075],\"y\":[0.34055620506819523,0.7970500435686142,0.36681690650878435,0.604426398116879,0.26732799294889553,0.9372747119517056],\"z\":[0.8087079333981513,0.08521133577526363,0.5735639152989525,0.5218199124267165,0.2815195834450287,0.5612180016837123],\"type\":\"scatter3d\"}],\"name\":\"31\"},{\"data\":[{\"hovertemplate\":\"atom=Ba\\u003cbr\\u003eframe=32\\u003cbr\\u003ex=%{x}\\u003cbr\\u003ey=%{y}\\u003cbr\\u003ez=%{z}\\u003cextra\\u003e\\u003c\\u002fextra\\u003e\",\"legendgroup\":\"Ba\",\"marker\":{\"color\":\"#FECB52\",\"symbol\":\"circle\"},\"mode\":\"markers\",\"name\":\"Ba\",\"scene\":\"scene\",\"showlegend\":true,\"x\":[0.6074967227902051,0.17726962173884359],\"y\":[0.5661194197191518,0.8498512074209296],\"z\":[0.5819658722611926,0.5917809321934815],\"type\":\"scatter3d\"},{\"hovertemplate\":\"atom=Y\\u003cbr\\u003eframe=32\\u003cbr\\u003ex=%{x}\\u003cbr\\u003ey=%{y}\\u003cbr\\u003ez=%{z}\\u003cextra\\u003e\\u003c\\u002fextra\\u003e\",\"legendgroup\":\"Y\",\"marker\":{\"color\":\"#636efa\",\"symbol\":\"circle\"},\"mode\":\"markers\",\"name\":\"Y\",\"scene\":\"scene\",\"showlegend\":true,\"x\":[0.08385314444297137],\"y\":[0.5537824179224388],\"z\":[0.2489203709278892],\"type\":\"scatter3d\"},{\"hovertemplate\":\"atom=Sb\\u003cbr\\u003eframe=32\\u003cbr\\u003ex=%{x}\\u003cbr\\u003ey=%{y}\\u003cbr\\u003ez=%{z}\\u003cextra\\u003e\\u003c\\u002fextra\\u003e\",\"legendgroup\":\"Sb\",\"marker\":{\"color\":\"#EF553B\",\"symbol\":\"circle\"},\"mode\":\"markers\",\"name\":\"Sb\",\"scene\":\"scene\",\"showlegend\":true,\"x\":[0.5800049235307099],\"y\":[0.8115904182693929],\"z\":[0.30848942477206687],\"type\":\"scatter3d\"},{\"hovertemplate\":\"atom=O\\u003cbr\\u003eframe=32\\u003cbr\\u003ex=%{x}\\u003cbr\\u003ey=%{y}\\u003cbr\\u003ez=%{z}\\u003cextra\\u003e\\u003c\\u002fextra\\u003e\",\"legendgroup\":\"O\",\"marker\":{\"color\":\"#00cc96\",\"symbol\":\"circle\"},\"mode\":\"markers\",\"name\":\"O\",\"scene\":\"scene\",\"showlegend\":true,\"x\":[0.23949830389295387,0.1437882464055002,0.43482799466289823,0.031390010965601706,0.36310474924192393,0.14385669913894744],\"y\":[0.3414287928591231,0.7967992602719292,0.36639172234253575,0.6032041820424184,0.26754581170987823,0.9372012953603923],\"z\":[0.808607059524378,0.08582074504941639,0.5738977380393095,0.5225075975306974,0.28140729775926776,0.5604956389414812],\"type\":\"scatter3d\"}],\"name\":\"32\"},{\"data\":[{\"hovertemplate\":\"atom=Ba\\u003cbr\\u003eframe=33\\u003cbr\\u003ex=%{x}\\u003cbr\\u003ey=%{y}\\u003cbr\\u003ez=%{z}\\u003cextra\\u003e\\u003c\\u002fextra\\u003e\",\"legendgroup\":\"Ba\",\"marker\":{\"color\":\"#FECB52\",\"symbol\":\"circle\"},\"mode\":\"markers\",\"name\":\"Ba\",\"scene\":\"scene\",\"showlegend\":true,\"x\":[0.607520582029051,0.1769494578258765],\"y\":[0.5662857496256969,0.8493673386018894],\"z\":[0.5824165495169684,0.5913183996156062],\"type\":\"scatter3d\"},{\"hovertemplate\":\"atom=Y\\u003cbr\\u003eframe=33\\u003cbr\\u003ex=%{x}\\u003cbr\\u003ey=%{y}\\u003cbr\\u003ez=%{z}\\u003cextra\\u003e\\u003c\\u002fextra\\u003e\",\"legendgroup\":\"Y\",\"marker\":{\"color\":\"#636efa\",\"symbol\":\"circle\"},\"mode\":\"markers\",\"name\":\"Y\",\"scene\":\"scene\",\"showlegend\":true,\"x\":[0.08387396954345552],\"y\":[0.5532911588240081],\"z\":[0.24852303567818168],\"type\":\"scatter3d\"},{\"hovertemplate\":\"atom=Sb\\u003cbr\\u003eframe=33\\u003cbr\\u003ex=%{x}\\u003cbr\\u003ey=%{y}\\u003cbr\\u003ez=%{z}\\u003cextra\\u003e\\u003c\\u002fextra\\u003e\",\"legendgroup\":\"Sb\",\"marker\":{\"color\":\"#EF553B\",\"symbol\":\"circle\"},\"mode\":\"markers\",\"name\":\"Sb\",\"scene\":\"scene\",\"showlegend\":true,\"x\":[0.5799630667065212],\"y\":[0.8111370343528386],\"z\":[0.3083776169976189],\"type\":\"scatter3d\"},{\"hovertemplate\":\"atom=O\\u003cbr\\u003eframe=33\\u003cbr\\u003ex=%{x}\\u003cbr\\u003ey=%{y}\\u003cbr\\u003ez=%{z}\\u003cextra\\u003e\\u003c\\u002fextra\\u003e\",\"legendgroup\":\"O\",\"marker\":{\"color\":\"#00cc96\",\"symbol\":\"circle\"},\"mode\":\"markers\",\"name\":\"O\",\"scene\":\"scene\",\"showlegend\":true,\"x\":[0.23896210223547093,0.14355572039622472,0.43487022550560683,0.031377110102692285,0.3633685316300457,0.1442510122258684],\"y\":[0.34202113347632224,0.7965899014360383,0.36607566634794464,0.6023207519337006,0.2676865673601115,0.9371066803360905],\"z\":[0.8085190456554457,0.08626320382367769,0.5741264330175948,0.5229845045646501,0.28132467932861327,0.5599886642650648],\"type\":\"scatter3d\"}],\"name\":\"33\"},{\"data\":[{\"hovertemplate\":\"atom=Ba\\u003cbr\\u003eframe=34\\u003cbr\\u003ex=%{x}\\u003cbr\\u003ey=%{y}\\u003cbr\\u003ez=%{z}\\u003cextra\\u003e\\u003c\\u002fextra\\u003e\",\"legendgroup\":\"Ba\",\"marker\":{\"color\":\"#FECB52\",\"symbol\":\"circle\"},\"mode\":\"markers\",\"name\":\"Ba\",\"scene\":\"scene\",\"showlegend\":true,\"x\":[0.6074947816970333,0.1767624640697607],\"y\":[0.566315019021704,0.8489897536693466],\"z\":[0.5826863511579985,0.5910226027389431],\"type\":\"scatter3d\"},{\"hovertemplate\":\"atom=Y\\u003cbr\\u003eframe=34\\u003cbr\\u003ex=%{x}\\u003cbr\\u003ey=%{y}\\u003cbr\\u003ez=%{z}\\u003cextra\\u003e\\u003c\\u002fextra\\u003e\",\"legendgroup\":\"Y\",\"marker\":{\"color\":\"#636efa\",\"symbol\":\"circle\"},\"mode\":\"markers\",\"name\":\"Y\",\"scene\":\"scene\",\"showlegend\":true,\"x\":[0.08378656560332756],\"y\":[0.5529406553758107],\"z\":[0.24831932188196504],\"type\":\"scatter3d\"},{\"hovertemplate\":\"atom=Sb\\u003cbr\\u003eframe=34\\u003cbr\\u003ex=%{x}\\u003cbr\\u003ey=%{y}\\u003cbr\\u003ez=%{z}\\u003cextra\\u003e\\u003c\\u002fextra\\u003e\",\"legendgroup\":\"Sb\",\"marker\":{\"color\":\"#EF553B\",\"symbol\":\"circle\"},\"mode\":\"markers\",\"name\":\"Sb\",\"scene\":\"scene\",\"showlegend\":true,\"x\":[0.5798996612382493],\"y\":[0.8107840512714246],\"z\":[0.3083488919916706],\"type\":\"scatter3d\"},{\"hovertemplate\":\"atom=O\\u003cbr\\u003eframe=34\\u003cbr\\u003ex=%{x}\\u003cbr\\u003ey=%{y}\\u003cbr\\u003ez=%{z}\\u003cextra\\u003e\\u003c\\u002fextra\\u003e\",\"legendgroup\":\"O\",\"marker\":{\"color\":\"#00cc96\",\"symbol\":\"circle\"},\"mode\":\"markers\",\"name\":\"O\",\"scene\":\"scene\",\"showlegend\":true,\"x\":[0.2386261540334361,0.14344403818646262,0.4348863087282884,0.0313826993171403,0.3634617582713945,0.14450555534030113],\"y\":[0.34233718947091335,0.7963855991070986,0.3658579934477394,0.6017750867652835,0.2677292316375138,0.9369506093042256],\"z\":[0.8084326043573979,0.08652576133860568,0.5742194469952584,0.5232092071162553,0.2812946060196858,0.5596731322225161],\"type\":\"scatter3d\"}],\"name\":\"34\"},{\"data\":[{\"hovertemplate\":\"atom=Ba\\u003cbr\\u003eframe=35\\u003cbr\\u003ex=%{x}\\u003cbr\\u003ey=%{y}\\u003cbr\\u003ez=%{z}\\u003cextra\\u003e\\u003c\\u002fextra\\u003e\",\"legendgroup\":\"Ba\",\"marker\":{\"color\":\"#FECB52\",\"symbol\":\"circle\"},\"mode\":\"markers\",\"name\":\"Ba\",\"scene\":\"scene\",\"showlegend\":true,\"x\":[0.6074289447603355,0.17673769545470824],\"y\":[0.56624106760754,0.8487685314902236],\"z\":[0.5827537840406329,0.5909350385071241],\"type\":\"scatter3d\"},{\"hovertemplate\":\"atom=Y\\u003cbr\\u003eframe=35\\u003cbr\\u003ex=%{x}\\u003cbr\\u003ey=%{y}\\u003cbr\\u003ez=%{z}\\u003cextra\\u003e\\u003c\\u002fextra\\u003e\",\"legendgroup\":\"Y\",\"marker\":{\"color\":\"#636efa\",\"symbol\":\"circle\"},\"mode\":\"markers\",\"name\":\"Y\",\"scene\":\"scene\",\"showlegend\":true,\"x\":[0.08380605864929072],\"y\":[0.5527717485955309],\"z\":[0.24826592242889667],\"type\":\"scatter3d\"},{\"hovertemplate\":\"atom=Sb\\u003cbr\\u003eframe=35\\u003cbr\\u003ex=%{x}\\u003cbr\\u003ey=%{y}\\u003cbr\\u003ez=%{z}\\u003cextra\\u003e\\u003c\\u002fextra\\u003e\",\"legendgroup\":\"Sb\",\"marker\":{\"color\":\"#EF553B\",\"symbol\":\"circle\"},\"mode\":\"markers\",\"name\":\"Sb\",\"scene\":\"scene\",\"showlegend\":true,\"x\":[0.5798456638614933],\"y\":[0.8105755676001983],\"z\":[0.30838414209660137],\"type\":\"scatter3d\"},{\"hovertemplate\":\"atom=O\\u003cbr\\u003eframe=35\\u003cbr\\u003ex=%{x}\\u003cbr\\u003ey=%{y}\\u003cbr\\u003ez=%{z}\\u003cextra\\u003e\\u003c\\u002fextra\\u003e\",\"legendgroup\":\"O\",\"marker\":{\"color\":\"#00cc96\",\"symbol\":\"circle\"},\"mode\":\"markers\",\"name\":\"O\",\"scene\":\"scene\",\"showlegend\":true,\"x\":[0.2385290914064359,0.14343319883070044,0.43484344961358856,0.031413010228318744,0.36345476055355413,0.14459674727557026],\"y\":[0.34236509749966426,0.796216789567337,0.3657489382064706,0.6015412719390411,0.2677019556721318,0.9367717839910795],\"z\":[0.808346022533705,0.0866358716028025,0.5742276789230701,0.5232400579619418,0.2812886384676274,0.5595850712554915],\"type\":\"scatter3d\"}],\"name\":\"35\"},{\"data\":[{\"hovertemplate\":\"atom=Ba\\u003cbr\\u003eframe=actual\\u003cbr\\u003ex=%{x}\\u003cbr\\u003ey=%{y}\\u003cbr\\u003ez=%{z}\\u003cextra\\u003e\\u003c\\u002fextra\\u003e\",\"legendgroup\":\"Ba\",\"marker\":{\"color\":\"#FECB52\",\"symbol\":\"circle\"},\"mode\":\"markers\",\"name\":\"Ba\",\"scene\":\"scene\",\"showlegend\":true,\"x\":[0.7499999918966236,0.25],\"y\":[0.7500000243101296,0.25],\"z\":[0.7499999521983526,0.25],\"type\":\"scatter3d\"},{\"hovertemplate\":\"atom=Y\\u003cbr\\u003eframe=actual\\u003cbr\\u003ex=%{x}\\u003cbr\\u003ey=%{y}\\u003cbr\\u003ez=%{z}\\u003cextra\\u003e\\u003c\\u002fextra\\u003e\",\"legendgroup\":\"Y\",\"marker\":{\"color\":\"#636efa\",\"symbol\":\"circle\"},\"mode\":\"markers\",\"name\":\"Y\",\"scene\":\"scene\",\"showlegend\":true,\"x\":[0.0],\"y\":[0.0],\"z\":[0.0],\"type\":\"scatter3d\"},{\"hovertemplate\":\"atom=Sb\\u003cbr\\u003eframe=actual\\u003cbr\\u003ex=%{x}\\u003cbr\\u003ey=%{y}\\u003cbr\\u003ez=%{z}\\u003cextra\\u003e\\u003c\\u002fextra\\u003e\",\"legendgroup\":\"Sb\",\"marker\":{\"color\":\"#EF553B\",\"symbol\":\"circle\"},\"mode\":\"markers\",\"name\":\"Sb\",\"scene\":\"scene\",\"showlegend\":true,\"x\":[0.5],\"y\":[0.5],\"z\":[0.5],\"type\":\"scatter3d\"},{\"hovertemplate\":\"atom=O\\u003cbr\\u003eframe=actual\\u003cbr\\u003ex=%{x}\\u003cbr\\u003ey=%{y}\\u003cbr\\u003ez=%{z}\\u003cextra\\u003e\\u003c\\u002fextra\\u003e\",\"legendgroup\":\"O\",\"marker\":{\"color\":\"#00cc96\",\"symbol\":\"circle\"},\"mode\":\"markers\",\"name\":\"O\",\"scene\":\"scene\",\"showlegend\":true,\"x\":[0.2627827237279484,0.2627827237279484,0.7372172681686752,0.26278273424987814,0.7372172681686752,0.7372171888873167],\"y\":[0.7372172719775483,0.7372172719775483,0.26278275233258125,0.26278275233258125,0.26278275233258125,0.7372172719775483],\"z\":[0.7372171787633505,0.26278274613461106,0.7372171663654707,0.7372172567087703,0.26278273373673133,0.2627827695675675],\"type\":\"scatter3d\"}],\"name\":\"actual\"}]);\n",
       "                        }).then(function(){\n",
       "                            \n",
       "var gd = document.getElementById('706489ee-6f12-4c44-9900-c30b9cda21ed');\n",
       "var x = new MutationObserver(function (mutations, observer) {{\n",
       "        var display = window.getComputedStyle(gd).display;\n",
       "        if (!display || display === 'none') {{\n",
       "            console.log([gd, 'removed!']);\n",
       "            Plotly.purge(gd);\n",
       "            observer.disconnect();\n",
       "        }}\n",
       "}});\n",
       "\n",
       "// Listen for the removal of the full notebook cells\n",
       "var notebookContainer = gd.closest('#notebook-container');\n",
       "if (notebookContainer) {{\n",
       "    x.observe(notebookContainer, {childList: true});\n",
       "}}\n",
       "\n",
       "// Listen for the clearing of the current output cell\n",
       "var outputEl = gd.closest('.output');\n",
       "if (outputEl) {{\n",
       "    x.observe(outputEl, {childList: true});\n",
       "}}\n",
       "\n",
       "                        })                };                });            </script>        </div>"
      ]
     },
     "metadata": {},
     "output_type": "display_data"
    }
   ],
   "source": [
    "plot_struct([cg_to_struct(s, batch_i) for s in seq] + [cg_to_struct(batch, batch_i)])"
   ]
  },
  {
   "cell_type": "code",
   "execution_count": 88,
   "metadata": {},
   "outputs": [
    {
     "data": {
      "text/html": [
       "<pre style=\"white-space:pre;overflow-x:auto;line-height:normal;font-family:Menlo,'DejaVu Sans Mono',consolas,'Courier New',monospace\"></pre>\n"
      ],
      "text/plain": []
     },
     "metadata": {},
     "output_type": "display_data"
    },
    {
     "data": {
      "text/plain": [
       "\n",
       "\u001b[1;36m36725\u001b[0m      \u001b[1;36m2\u001b[0m\n",
       "\u001b[1;36m70987\u001b[0m      \u001b[1;36m2\u001b[0m\n",
       "\u001b[1;36m25537\u001b[0m     \u001b[1;36m31\u001b[0m\n",
       "\u001b[1;36m5538\u001b[0m      \u001b[1;36m38\u001b[0m\n",
       "\u001b[1;36m1119\u001b[0m       \u001b[1;36m1\u001b[0m\n",
       "\u001b[1;36m23748\u001b[0m     \u001b[1;36m62\u001b[0m\n",
       "\u001b[1;36m21512\u001b[0m    \u001b[1;36m227\u001b[0m\n",
       "\u001b[1;36m70005\u001b[0m     \u001b[1;36m62\u001b[0m\n",
       "\u001b[1;36m38655\u001b[0m     \u001b[1;36m74\u001b[0m\n",
       "\u001b[1;36m25547\u001b[0m     \u001b[1;36m63\u001b[0m\n",
       "\u001b[1;36m62938\u001b[0m    \u001b[1;36m166\u001b[0m\n",
       "\u001b[1;36m47019\u001b[0m    \u001b[1;36m123\u001b[0m\n",
       "\u001b[1;36m40228\u001b[0m     \u001b[1;36m63\u001b[0m\n",
       "\u001b[1;36m25437\u001b[0m     \u001b[1;36m11\u001b[0m\n",
       "\u001b[1;36m68117\u001b[0m     \u001b[1;36m62\u001b[0m\n",
       "\u001b[1;36m49374\u001b[0m     \u001b[1;36m12\u001b[0m\n",
       "\u001b[1;36m74554\u001b[0m    \u001b[1;36m189\u001b[0m\n",
       "\u001b[1;36m23776\u001b[0m    \u001b[1;36m146\u001b[0m\n",
       "\u001b[1;36m45225\u001b[0m      \u001b[1;36m5\u001b[0m\n",
       "\u001b[1;36m29215\u001b[0m    \u001b[1;36m225\u001b[0m\n",
       "Name: space_group, dtype: int64"
      ]
     },
     "execution_count": 88,
     "metadata": {},
     "output_type": "execute_result"
    }
   ],
   "source": [
    "clean.iloc[batch.globals.dataset_i]['space_group'].head(20)"
   ]
  },
  {
   "cell_type": "code",
   "execution_count": null,
   "metadata": {},
   "outputs": [],
   "source": []
  }
 ],
 "metadata": {
  "kernelspec": {
   "display_name": "avid",
   "language": "python",
   "name": "python3"
  },
  "language_info": {
   "codemirror_mode": {
    "name": "ipython",
    "version": 3
   },
   "file_extension": ".py",
   "mimetype": "text/x-python",
   "name": "python",
   "nbconvert_exporter": "python",
   "pygments_lexer": "ipython3",
   "version": "3.12.0"
  }
 },
 "nbformat": 4,
 "nbformat_minor": 2
}
