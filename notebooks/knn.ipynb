{
 "cells": [
  {
   "cell_type": "code",
   "execution_count": 1,
   "metadata": {},
   "outputs": [],
   "source": [
    "import numpy as np\n",
    "import pandas as pd\n",
    "import plotly.express as px\n",
    "import matplotlib.pyplot as plt\n",
    "import seaborn as sns\n",
    "import rho_plus as rp\n",
    "\n",
    "is_dark = False\n",
    "theme, cs = rp.mpl_setup(is_dark)"
   ]
  },
  {
   "cell_type": "code",
   "execution_count": 2,
   "metadata": {},
   "outputs": [
    {
     "data": {
      "text/html": [
       "<div>\n",
       "<style scoped>\n",
       "    .dataframe tbody tr th:only-of-type {\n",
       "        vertical-align: middle;\n",
       "    }\n",
       "\n",
       "    .dataframe tbody tr th {\n",
       "        vertical-align: top;\n",
       "    }\n",
       "\n",
       "    .dataframe thead th {\n",
       "        text-align: right;\n",
       "    }\n",
       "</style>\n",
       "<table border=\"1\" class=\"dataframe\">\n",
       "  <thead>\n",
       "    <tr style=\"text-align: right;\">\n",
       "      <th></th>\n",
       "      <th>structure</th>\n",
       "      <th>uncorrected_total_energy</th>\n",
       "      <th>corrected_total_energy</th>\n",
       "      <th>energy_per_atom</th>\n",
       "      <th>ef_per_atom</th>\n",
       "      <th>e_per_atom_relaxed</th>\n",
       "      <th>ef_per_atom_relaxed</th>\n",
       "      <th>force</th>\n",
       "      <th>stress</th>\n",
       "      <th>magmom</th>\n",
       "      <th>bandgap</th>\n",
       "      <th>mp_id</th>\n",
       "      <th>calc</th>\n",
       "      <th>step</th>\n",
       "    </tr>\n",
       "  </thead>\n",
       "  <tbody>\n",
       "    <tr>\n",
       "      <th>0</th>\n",
       "      <td>[[-0.82086724  2.36636286  1.57933414] Li, [-2...</td>\n",
       "      <td>-200.957286</td>\n",
       "      <td>-221.957286</td>\n",
       "      <td>-6.936165</td>\n",
       "      <td>-2.147829</td>\n",
       "      <td>-6.938357</td>\n",
       "      <td>-6.938357</td>\n",
       "      <td>[[3.656e-05, 0.00123128, -0.0006509], [-6.883e...</td>\n",
       "      <td>[[5.39395745, 0.16978013, 0.16669083], [0.1688...</td>\n",
       "      <td>[0.006, 0.0, -0.003, 0.007, 0.007, -0.001, -0....</td>\n",
       "      <td>0.4372</td>\n",
       "      <td>mp-1290794</td>\n",
       "      <td>0</td>\n",
       "      <td>0</td>\n",
       "    </tr>\n",
       "    <tr>\n",
       "      <th>1</th>\n",
       "      <td>[[-0.8209851   2.36693801  1.57963684] Li, [-2...</td>\n",
       "      <td>-200.956055</td>\n",
       "      <td>-221.956055</td>\n",
       "      <td>-6.936127</td>\n",
       "      <td>-2.147791</td>\n",
       "      <td>-6.938357</td>\n",
       "      <td>-6.938357</td>\n",
       "      <td>[[0.00268167, 0.00160534, -0.00136527], [0.002...</td>\n",
       "      <td>[[0.22357583, 0.14629669, 0.21247205], [0.1453...</td>\n",
       "      <td>None</td>\n",
       "      <td>NaN</td>\n",
       "      <td>mp-1290794</td>\n",
       "      <td>1</td>\n",
       "      <td>60</td>\n",
       "    </tr>\n",
       "    <tr>\n",
       "      <th>2</th>\n",
       "      <td>[[-0.82097617  2.36710947  1.57967763] Li, [-2...</td>\n",
       "      <td>-200.953908</td>\n",
       "      <td>-221.953908</td>\n",
       "      <td>-6.936060</td>\n",
       "      <td>-2.147724</td>\n",
       "      <td>-6.938357</td>\n",
       "      <td>-6.938357</td>\n",
       "      <td>[[-0.00018764, 0.00363509, -0.0039542], [0.001...</td>\n",
       "      <td>[[2.27939972, -0.74664765, -0.01904857], [-0.7...</td>\n",
       "      <td>None</td>\n",
       "      <td>NaN</td>\n",
       "      <td>mp-1290794</td>\n",
       "      <td>1</td>\n",
       "      <td>57</td>\n",
       "    </tr>\n",
       "    <tr>\n",
       "      <th>3</th>\n",
       "      <td>[[-0.81565696  2.36922679  1.58542791] Li, [-2...</td>\n",
       "      <td>-200.944425</td>\n",
       "      <td>-221.944425</td>\n",
       "      <td>-6.935763</td>\n",
       "      <td>-2.147427</td>\n",
       "      <td>-6.938357</td>\n",
       "      <td>-6.938357</td>\n",
       "      <td>[[0.00135505, 0.01206887, -0.00843028], [0.006...</td>\n",
       "      <td>[[4.6597294, -2.18239327, -0.88434682], [-2.18...</td>\n",
       "      <td>None</td>\n",
       "      <td>NaN</td>\n",
       "      <td>mp-1290794</td>\n",
       "      <td>1</td>\n",
       "      <td>47</td>\n",
       "    </tr>\n",
       "    <tr>\n",
       "      <th>4</th>\n",
       "      <td>[[-0.82425815  2.36574523  1.57600746] Li, [-2...</td>\n",
       "      <td>-200.953887</td>\n",
       "      <td>-221.953887</td>\n",
       "      <td>-6.936059</td>\n",
       "      <td>-2.147723</td>\n",
       "      <td>-6.938357</td>\n",
       "      <td>-6.938357</td>\n",
       "      <td>[[-0.00452961, 0.00255935, -0.00467121], [-0.0...</td>\n",
       "      <td>[[-3.32381681, 2.68401131, 3.19927815], [2.683...</td>\n",
       "      <td>None</td>\n",
       "      <td>NaN</td>\n",
       "      <td>mp-1290794</td>\n",
       "      <td>1</td>\n",
       "      <td>45</td>\n",
       "    </tr>\n",
       "    <tr>\n",
       "      <th>...</th>\n",
       "      <td>...</td>\n",
       "      <td>...</td>\n",
       "      <td>...</td>\n",
       "      <td>...</td>\n",
       "      <td>...</td>\n",
       "      <td>...</td>\n",
       "      <td>...</td>\n",
       "      <td>...</td>\n",
       "      <td>...</td>\n",
       "      <td>...</td>\n",
       "      <td>...</td>\n",
       "      <td>...</td>\n",
       "      <td>...</td>\n",
       "      <td>...</td>\n",
       "    </tr>\n",
       "    <tr>\n",
       "      <th>28071</th>\n",
       "      <td>[[-1.81414077 -2.71323503 -3.00281063] Hf, [-4...</td>\n",
       "      <td>-54.138093</td>\n",
       "      <td>-57.156093</td>\n",
       "      <td>-7.144512</td>\n",
       "      <td>-1.552878</td>\n",
       "      <td>-7.165131</td>\n",
       "      <td>-7.165131</td>\n",
       "      <td>[[-0.10479382, -0.0, -0.27046508], [0.10479382...</td>\n",
       "      <td>[[3.33718743, 0.0, 5.63143029], [0.0, -3.88497...</td>\n",
       "      <td>None</td>\n",
       "      <td>NaN</td>\n",
       "      <td>mp-9922</td>\n",
       "      <td>1</td>\n",
       "      <td>9</td>\n",
       "    </tr>\n",
       "    <tr>\n",
       "      <th>28072</th>\n",
       "      <td>[[-1.82863848 -2.69991116 -2.94116506] Hf, [-4...</td>\n",
       "      <td>-54.086891</td>\n",
       "      <td>-57.104891</td>\n",
       "      <td>-7.138111</td>\n",
       "      <td>-1.546478</td>\n",
       "      <td>-7.165131</td>\n",
       "      <td>-7.165131</td>\n",
       "      <td>[[-0.04764615, -0.0, -0.40686534], [0.04764615...</td>\n",
       "      <td>[[10.28647244, 0.0, 4.65821681], [0.0, 15.9395...</td>\n",
       "      <td>None</td>\n",
       "      <td>NaN</td>\n",
       "      <td>mp-9922</td>\n",
       "      <td>1</td>\n",
       "      <td>8</td>\n",
       "    </tr>\n",
       "    <tr>\n",
       "      <th>28073</th>\n",
       "      <td>[[-1.66175428 -2.81756387 -3.06998331] Hf, [-3...</td>\n",
       "      <td>-52.535076</td>\n",
       "      <td>-55.553076</td>\n",
       "      <td>-6.944135</td>\n",
       "      <td>-1.352501</td>\n",
       "      <td>-7.165131</td>\n",
       "      <td>-7.165131</td>\n",
       "      <td>[[0.26426779, -0.0, 1.39902493], [-0.26426779,...</td>\n",
       "      <td>[[17.34590664, 0.0, 42.02240376], [0.0, -78.09...</td>\n",
       "      <td>None</td>\n",
       "      <td>NaN</td>\n",
       "      <td>mp-9922</td>\n",
       "      <td>1</td>\n",
       "      <td>2</td>\n",
       "    </tr>\n",
       "    <tr>\n",
       "      <th>28074</th>\n",
       "      <td>[[-1.40908815 -2.6491275  -2.8568699 ] Hf, [-3...</td>\n",
       "      <td>-50.725894</td>\n",
       "      <td>-53.743894</td>\n",
       "      <td>-6.717987</td>\n",
       "      <td>-1.126353</td>\n",
       "      <td>-7.165131</td>\n",
       "      <td>-7.165131</td>\n",
       "      <td>[[-0.7082542, -0.0, -0.33111347], [0.7082542, ...</td>\n",
       "      <td>[[35.44224199, 0.0, 125.71124928], [0.0, 118.5...</td>\n",
       "      <td>None</td>\n",
       "      <td>NaN</td>\n",
       "      <td>mp-9922</td>\n",
       "      <td>1</td>\n",
       "      <td>0</td>\n",
       "    </tr>\n",
       "    <tr>\n",
       "      <th>28075</th>\n",
       "      <td>[[0.90289175 4.45109495 6.19741596] Hf, [2.708...</td>\n",
       "      <td>-54.303045</td>\n",
       "      <td>-57.321045</td>\n",
       "      <td>-7.165131</td>\n",
       "      <td>-1.573497</td>\n",
       "      <td>-7.165131</td>\n",
       "      <td>-7.165131</td>\n",
       "      <td>[[0.0, 0.00504544, -0.00504821], [-0.0, -0.005...</td>\n",
       "      <td>[[0.1322507, 0.0, 0.0], [0.0, 0.09000351, -0.0...</td>\n",
       "      <td>[0.0, 0.0, 0.0, 0.0, -0.0, -0.0, -0.0, -0.0]</td>\n",
       "      <td>1.1315</td>\n",
       "      <td>mp-9922</td>\n",
       "      <td>0</td>\n",
       "      <td>0</td>\n",
       "    </tr>\n",
       "  </tbody>\n",
       "</table>\n",
       "<p>28076 rows × 14 columns</p>\n",
       "</div>"
      ],
      "text/plain": [
       "                                               structure  \\\n",
       "0      [[-0.82086724  2.36636286  1.57933414] Li, [-2...   \n",
       "1      [[-0.8209851   2.36693801  1.57963684] Li, [-2...   \n",
       "2      [[-0.82097617  2.36710947  1.57967763] Li, [-2...   \n",
       "3      [[-0.81565696  2.36922679  1.58542791] Li, [-2...   \n",
       "4      [[-0.82425815  2.36574523  1.57600746] Li, [-2...   \n",
       "...                                                  ...   \n",
       "28071  [[-1.81414077 -2.71323503 -3.00281063] Hf, [-4...   \n",
       "28072  [[-1.82863848 -2.69991116 -2.94116506] Hf, [-4...   \n",
       "28073  [[-1.66175428 -2.81756387 -3.06998331] Hf, [-3...   \n",
       "28074  [[-1.40908815 -2.6491275  -2.8568699 ] Hf, [-3...   \n",
       "28075  [[0.90289175 4.45109495 6.19741596] Hf, [2.708...   \n",
       "\n",
       "       uncorrected_total_energy  corrected_total_energy  energy_per_atom  \\\n",
       "0                   -200.957286             -221.957286        -6.936165   \n",
       "1                   -200.956055             -221.956055        -6.936127   \n",
       "2                   -200.953908             -221.953908        -6.936060   \n",
       "3                   -200.944425             -221.944425        -6.935763   \n",
       "4                   -200.953887             -221.953887        -6.936059   \n",
       "...                         ...                     ...              ...   \n",
       "28071                -54.138093              -57.156093        -7.144512   \n",
       "28072                -54.086891              -57.104891        -7.138111   \n",
       "28073                -52.535076              -55.553076        -6.944135   \n",
       "28074                -50.725894              -53.743894        -6.717987   \n",
       "28075                -54.303045              -57.321045        -7.165131   \n",
       "\n",
       "       ef_per_atom  e_per_atom_relaxed  ef_per_atom_relaxed  \\\n",
       "0        -2.147829           -6.938357            -6.938357   \n",
       "1        -2.147791           -6.938357            -6.938357   \n",
       "2        -2.147724           -6.938357            -6.938357   \n",
       "3        -2.147427           -6.938357            -6.938357   \n",
       "4        -2.147723           -6.938357            -6.938357   \n",
       "...            ...                 ...                  ...   \n",
       "28071    -1.552878           -7.165131            -7.165131   \n",
       "28072    -1.546478           -7.165131            -7.165131   \n",
       "28073    -1.352501           -7.165131            -7.165131   \n",
       "28074    -1.126353           -7.165131            -7.165131   \n",
       "28075    -1.573497           -7.165131            -7.165131   \n",
       "\n",
       "                                                   force  \\\n",
       "0      [[3.656e-05, 0.00123128, -0.0006509], [-6.883e...   \n",
       "1      [[0.00268167, 0.00160534, -0.00136527], [0.002...   \n",
       "2      [[-0.00018764, 0.00363509, -0.0039542], [0.001...   \n",
       "3      [[0.00135505, 0.01206887, -0.00843028], [0.006...   \n",
       "4      [[-0.00452961, 0.00255935, -0.00467121], [-0.0...   \n",
       "...                                                  ...   \n",
       "28071  [[-0.10479382, -0.0, -0.27046508], [0.10479382...   \n",
       "28072  [[-0.04764615, -0.0, -0.40686534], [0.04764615...   \n",
       "28073  [[0.26426779, -0.0, 1.39902493], [-0.26426779,...   \n",
       "28074  [[-0.7082542, -0.0, -0.33111347], [0.7082542, ...   \n",
       "28075  [[0.0, 0.00504544, -0.00504821], [-0.0, -0.005...   \n",
       "\n",
       "                                                  stress  \\\n",
       "0      [[5.39395745, 0.16978013, 0.16669083], [0.1688...   \n",
       "1      [[0.22357583, 0.14629669, 0.21247205], [0.1453...   \n",
       "2      [[2.27939972, -0.74664765, -0.01904857], [-0.7...   \n",
       "3      [[4.6597294, -2.18239327, -0.88434682], [-2.18...   \n",
       "4      [[-3.32381681, 2.68401131, 3.19927815], [2.683...   \n",
       "...                                                  ...   \n",
       "28071  [[3.33718743, 0.0, 5.63143029], [0.0, -3.88497...   \n",
       "28072  [[10.28647244, 0.0, 4.65821681], [0.0, 15.9395...   \n",
       "28073  [[17.34590664, 0.0, 42.02240376], [0.0, -78.09...   \n",
       "28074  [[35.44224199, 0.0, 125.71124928], [0.0, 118.5...   \n",
       "28075  [[0.1322507, 0.0, 0.0], [0.0, 0.09000351, -0.0...   \n",
       "\n",
       "                                                  magmom  bandgap       mp_id  \\\n",
       "0      [0.006, 0.0, -0.003, 0.007, 0.007, -0.001, -0....   0.4372  mp-1290794   \n",
       "1                                                   None      NaN  mp-1290794   \n",
       "2                                                   None      NaN  mp-1290794   \n",
       "3                                                   None      NaN  mp-1290794   \n",
       "4                                                   None      NaN  mp-1290794   \n",
       "...                                                  ...      ...         ...   \n",
       "28071                                               None      NaN     mp-9922   \n",
       "28072                                               None      NaN     mp-9922   \n",
       "28073                                               None      NaN     mp-9922   \n",
       "28074                                               None      NaN     mp-9922   \n",
       "28075       [0.0, 0.0, 0.0, 0.0, -0.0, -0.0, -0.0, -0.0]   1.1315     mp-9922   \n",
       "\n",
       "       calc  step  \n",
       "0         0     0  \n",
       "1         1    60  \n",
       "2         1    57  \n",
       "3         1    47  \n",
       "4         1    45  \n",
       "...     ...   ...  \n",
       "28071     1     9  \n",
       "28072     1     8  \n",
       "28073     1     2  \n",
       "28074     1     0  \n",
       "28075     0     0  \n",
       "\n",
       "[28076 rows x 14 columns]"
      ]
     },
     "execution_count": 2,
     "metadata": {},
     "output_type": "execute_result"
    }
   ],
   "source": [
    "df = pd.read_pickle('~/cdv/precomputed/mptrj/raw/batch_0000.pkl')\n",
    "df"
   ]
  },
  {
   "cell_type": "code",
   "execution_count": 3,
   "metadata": {},
   "outputs": [
    {
     "name": "stderr",
     "output_type": "stream",
     "text": [
      "100%|██████████| 28076/28076 [05:09<00:00, 90.73it/s] \n"
     ]
    }
   ],
   "source": [
    "from crystallographic_graph import make_graph\n",
    "import pickle\n",
    "from tqdm import tqdm\n",
    "import torch\n",
    "\n",
    "device = torch.device('cuda')\n",
    "\n",
    "b_inds = df.index[:1]\n",
    "\n",
    "structs = df.loc[b_inds, 'structure']\n",
    "struct = structs[0]\n",
    "\n",
    "def knn_fast(struct, k=16):\n",
    "    structs = [struct]\n",
    "    num_atoms = torch.tensor([struct.num_sites for struct in structs], dtype=torch.long, device=device)\n",
    "    pos = torch.cat([torch.tensor(struct.frac_coords, dtype=torch.float32, device=device) for struct in structs])\n",
    "    cell = torch.stack([torch.tensor(struct.lattice.matrix, dtype=torch.float32, device=device) for struct in structs])\n",
    "    edges = make_graph(cell, pos, num_atoms, knn=k)\n",
    "    # ties are included: remove them\n",
    "    x = torch.diff(edges.src, prepend=torch.tensor([-1], device=device))\n",
    "    inds = (torch.nonzero(x) + torch.arange(k, device=device)).flatten()\n",
    "    return {\n",
    "        'ims': np.array(edges.cell[inds].reshape(struct.num_sites, k, 3).tolist(), dtype=np.int8),\n",
    "        'ijs': np.array(edges.dst[inds].reshape(struct.num_sites, k).tolist(), dtype=np.uint16)\n",
    "    }\n",
    "\n",
    "knns = []\n",
    "for struct in tqdm(df.structure):\n",
    "    knns.append(knn_fast(struct))\n",
    "\n",
    "with open('knns/batch_0000.pkl', 'wb') as out:\n",
    "    pickle.dump(knns, out)"
   ]
  },
  {
   "cell_type": "code",
   "execution_count": 4,
   "metadata": {},
   "outputs": [
    {
     "data": {
      "text/plain": [
       "'batch_0000.pkl'"
      ]
     },
     "execution_count": 4,
     "metadata": {},
     "output_type": "execute_result"
    }
   ],
   "source": [
    "from pathlib import Path\n",
    "Path('~/cdv/precomputed/mptrj/raw/batch_0000.pkl').name"
   ]
  },
  {
   "cell_type": "code",
   "execution_count": 5,
   "metadata": {},
   "outputs": [
    {
     "name": "stderr",
     "output_type": "stream",
     "text": [
      "100%|██████████| 44972/44972 [04:55<00:00, 152.27it/s]\n",
      "100%|██████████| 44001/44001 [04:46<00:00, 153.79it/s]\n",
      "100%|██████████| 45378/45378 [04:56<00:00, 153.09it/s]\n",
      "100%|██████████| 44217/44217 [04:44<00:00, 155.54it/s]\n",
      "100%|██████████| 43436/43436 [04:43<00:00, 153.36it/s]\n",
      "100%|██████████| 44328/44328 [04:50<00:00, 152.60it/s]\n"
     ]
    }
   ],
   "source": [
    "from pathlib import Path\n",
    "for path in sorted(Path('/home/nmiklaucic/cdv/precomputed/mptrj/raw').glob('batch_*.pkl'))[1:]:\n",
    "    out_fn = Path('knns') / path.name\n",
    "    if out_fn.exists():\n",
    "        continue\n",
    "    df = pd.read_pickle(path)\n",
    "    knns = []\n",
    "    for struct in tqdm(df.structure):\n",
    "        knns.append(knn_fast(struct))\n",
    "\n",
    "    with open(out_fn, 'wb') as out:\n",
    "        pickle.dump(knns, out)"
   ]
  },
  {
   "cell_type": "code",
   "execution_count": 59,
   "metadata": {},
   "outputs": [],
   "source": [
    "structs = [struct]\n",
    "num_atoms = torch.tensor([struct.num_sites for struct in structs], dtype=torch.long, device=device)\n",
    "pos = torch.cat([torch.tensor(struct.frac_coords, dtype=torch.float32, device=device) for struct in structs])\n",
    "cell = torch.stack([torch.tensor(struct.lattice.matrix, dtype=torch.float32, device=device) for struct in structs])\n",
    "edges = make_graph(cell, pos, num_atoms, knn=16)    "
   ]
  },
  {
   "cell_type": "code",
   "execution_count": 78,
   "metadata": {},
   "outputs": [
    {
     "data": {
      "text/plain": [
       "tensor([  0,   1,   2,   3,   4,   5,   6,   7,   8,   9,  10,  11,  12,  13,\n",
       "         14,  15,  16,  17,  18,  19,  20,  21,  22,  23,  24,  25,  26,  27,\n",
       "         28,  29,  30,  31,  32,  33,  34,  35,  36,  37,  38,  39,  40,  41,\n",
       "         42,  43,  44,  45,  46,  47,  48,  49,  50,  51,  52,  53,  54,  55,\n",
       "         56,  57,  58,  59,  60,  61,  62,  63,  64,  65,  66,  67,  68,  69,\n",
       "         70,  71,  72,  73,  74,  75,  76,  77,  78,  79,  80,  81,  82,  83,\n",
       "         84,  85,  86,  87,  88,  89,  90,  91,  92,  93,  94,  95,  96,  97,\n",
       "         98,  99, 100, 101, 102, 103, 104, 105, 106, 107, 108, 109, 110, 111,\n",
       "        112, 113, 114, 115, 116, 117, 118, 119, 120, 121, 122, 123, 124, 125,\n",
       "        126, 127, 128, 129, 130, 131, 132, 133, 134, 135, 136, 137, 138, 139,\n",
       "        140, 141, 142, 143, 144, 145, 146, 147, 148, 149, 150, 151, 152, 153,\n",
       "        154, 155, 156, 157, 158, 159, 160, 161, 162, 163, 164, 165, 166, 167,\n",
       "        168, 169, 170, 171, 172, 173, 174, 175, 176, 177, 178, 179, 180, 181,\n",
       "        182, 183, 184, 185, 186, 187, 188, 189, 190, 191, 192, 193, 194, 195,\n",
       "        196, 197, 198, 199, 200, 201, 202, 203, 204, 205, 206, 207, 208, 209,\n",
       "        210, 211, 212, 213, 214, 215, 216, 217, 218, 219, 220, 221, 222, 223,\n",
       "        224, 225, 226, 227, 228, 229, 230, 231, 232, 233, 234, 235, 236, 237,\n",
       "        238, 239, 240, 241, 242, 243, 244, 245, 246, 247, 248, 249, 250, 251,\n",
       "        252, 253, 254, 255, 256, 257, 258, 259, 260, 261, 262, 263, 264, 265,\n",
       "        266, 267, 268, 269, 270, 271, 273, 274, 275, 276, 277, 278, 279, 280,\n",
       "        281, 282, 283, 284, 285, 286, 287, 288, 290, 291, 292, 293, 294, 295,\n",
       "        296, 297, 298, 299, 300, 301, 302, 303, 304, 305, 307, 308, 309, 310,\n",
       "        311, 312, 313, 314, 315, 316, 317, 318, 319, 320, 321, 322, 323, 324,\n",
       "        325, 326, 327, 328, 329, 330, 331, 332, 333, 334, 335, 336, 337, 338,\n",
       "        339, 340, 341, 342, 343, 344, 345, 346, 347, 348, 349, 350, 351, 352,\n",
       "        353, 354, 356, 357, 358, 359, 360, 361, 362, 363, 364, 365, 366, 367,\n",
       "        368, 369, 370, 371, 372, 373, 374, 375, 376, 377, 378, 379, 380, 381,\n",
       "        382, 383, 384, 385, 386, 387, 388, 389, 390, 391, 392, 393, 394, 395,\n",
       "        396, 397, 398, 399, 400, 401, 402, 403, 404, 405, 406, 407, 408, 409,\n",
       "        410, 411, 412, 413, 414, 415, 416, 417, 418, 419, 420, 421, 422, 423,\n",
       "        424, 425, 426, 427, 428, 429, 430, 431, 432, 433, 434, 435, 436, 437,\n",
       "        438, 439, 440, 441, 442, 443, 444, 445, 446, 447, 448, 449, 450, 451,\n",
       "        452, 453, 454, 455, 456, 457, 458, 459, 460, 461, 462, 463, 464, 465,\n",
       "        466, 467, 468, 469, 470, 471, 472, 473, 474, 475, 476, 477, 478, 479,\n",
       "        480, 481, 482, 483, 484, 485, 486, 487, 488, 489, 490, 491, 492, 493,\n",
       "        494, 495, 496, 497, 498, 499, 500, 501, 502, 503, 504, 505, 506, 507,\n",
       "        508, 509, 510, 511, 512, 513, 514, 515, 516, 517, 518, 519, 520, 521,\n",
       "        522, 523, 524, 525, 526, 527, 528, 529, 530, 531, 532, 533, 534, 535,\n",
       "        536, 537, 538, 539, 540, 541, 542, 543, 544, 545, 546, 547, 548, 549,\n",
       "        550, 551, 552, 553, 554, 555, 556, 557, 558, 559, 560, 561, 562, 563,\n",
       "        564, 565, 566, 567, 568, 569, 570, 571, 572, 573, 574, 575, 576, 577,\n",
       "        578, 579, 580, 581, 582, 583, 584, 585, 586, 587, 588, 589, 590, 591,\n",
       "        592, 593, 594, 595, 596, 597, 598, 599, 600, 601, 602, 603, 604, 605,\n",
       "        606, 607, 608, 609, 610, 611, 612, 613, 614, 615, 616, 617, 618, 619,\n",
       "        620, 621, 622, 623, 624, 625, 626, 627, 628, 629, 630, 631, 632, 633,\n",
       "        634, 635, 636, 637, 638, 639, 640, 641, 642, 643], device='cuda:0')"
      ]
     },
     "execution_count": 78,
     "metadata": {},
     "output_type": "execute_result"
    }
   ],
   "source": [
    "x = torch.diff(edges.src, prepend=torch.tensor([-1], device=device))\n",
    "(torch.nonzero(x) + torch.arange(16, device=device)).flatten()"
   ]
  },
  {
   "cell_type": "code",
   "execution_count": 57,
   "metadata": {},
   "outputs": [
    {
     "data": {
      "text/plain": [
       "640"
      ]
     },
     "execution_count": 57,
     "metadata": {},
     "output_type": "execute_result"
    }
   ],
   "source": [
    "40 * 16"
   ]
  },
  {
   "cell_type": "code",
   "execution_count": 50,
   "metadata": {},
   "outputs": [
    {
     "data": {
      "text/plain": [
       "644.0"
      ]
     },
     "execution_count": 50,
     "metadata": {},
     "output_type": "execute_result"
    }
   ],
   "source": [
    "1932 / 3"
   ]
  },
  {
   "cell_type": "code",
   "execution_count": 39,
   "metadata": {},
   "outputs": [
    {
     "name": "stdout",
     "output_type": "stream",
     "text": [
      "2.9465403708936604\n"
     ]
    }
   ],
   "source": [
    "def knn_graph(struct, r_start=8, k=16):\n",
    "    \"\"\"returns (ijs, ims)\n",
    "    ijs: nodes k\n",
    "    ims: nodes k 3\"\"\"\n",
    "    if r_start > 100:\n",
    "        raise ValueError()\n",
    "    graph_ijs = []\n",
    "    graph_ims = []\n",
    "    r = r_start\n",
    "    for i, nbs in enumerate(struct.get_all_neighbors(r)):\n",
    "        sites, dists, idxs, ims = zip(*nbs)\n",
    "        if len(dists) < k:\n",
    "            # print('Not enough neighbors, using r =', 2 * r_start)\n",
    "            return knn_graph(struct, r_start=r * 2, k=k)\n",
    "        \n",
    "        chosen = np.argsort(dists)[:k]\n",
    "        if i == 0:\n",
    "            print(dists[chosen[-1]])\n",
    "\n",
    "        graph_ijs.append(np.array(idxs)[chosen])\n",
    "        graph_ims.append(np.array(ims)[chosen])\n",
    "\n",
    "    graph_ijs = np.stack(graph_ijs).astype(np.uint16)\n",
    "    graph_ims = np.stack(graph_ims).astype(np.int8)\n",
    "\n",
    "    return {'ims': np.array(graph_ims), 'ijs': np.array(graph_ijs)}\n",
    "\n",
    "edges2 = knn_graph(struct)"
   ]
  },
  {
   "cell_type": "code",
   "execution_count": 36,
   "metadata": {},
   "outputs": [
    {
     "name": "stdout",
     "output_type": "stream",
     "text": [
      "tensor([[ 0,  0,  0],\n",
      "        [ 0,  0,  0],\n",
      "        [ 0,  0, -1],\n",
      "        [-1,  0,  0],\n",
      "        [-1,  0,  0],\n",
      "        [ 0,  0,  0],\n",
      "        [ 0,  0,  0],\n",
      "        [-1,  0, -1],\n",
      "        [-1, -1,  0],\n",
      "        [ 0,  0,  0],\n",
      "        [ 0,  0, -1],\n",
      "        [ 0,  0,  0],\n",
      "        [-1,  0,  0],\n",
      "        [ 0,  0,  0],\n",
      "        [ 0,  0,  0],\n",
      "        [ 0, -1,  0]], device='cuda:0') tensor([19, 16, 30, 27, 14, 12, 28, 25, 13, 15,  2,  2,  9,  6,  7,  8],\n",
      "       device='cuda:0')\n"
     ]
    }
   ],
   "source": [
    "print(edges.cell[:16], edges.dst[:16])"
   ]
  },
  {
   "cell_type": "code",
   "execution_count": 33,
   "metadata": {},
   "outputs": [
    {
     "name": "stdout",
     "output_type": "stream",
     "text": [
      "[[ 0  0  0]\n",
      " [ 0  0  0]\n",
      " [-1  0  0]\n",
      " [ 0  0 -1]\n",
      " [ 0  0  0]\n",
      " [-1  0 -1]\n",
      " [ 0  0  0]\n",
      " [ 0 -1  0]\n",
      " [-1  0  0]\n",
      " [ 0  0  0]\n",
      " [-1  0  0]\n",
      " [ 0  0  0]\n",
      " [-1  0  0]\n",
      " [ 0  0  0]\n",
      " [ 0  0  0]\n",
      " [-1 -1  0]] [19 16 27 30 28 25  7  8  9  6 14 12  5  5 15 13]\n"
     ]
    }
   ],
   "source": [
    "print(edges2['ims'][0], edges2['ijs'][0])"
   ]
  },
  {
   "cell_type": "code",
   "execution_count": 41,
   "metadata": {},
   "outputs": [
    {
     "data": {
      "text/plain": [
       "2.9465403708936604"
      ]
     },
     "execution_count": 41,
     "metadata": {},
     "output_type": "execute_result"
    }
   ],
   "source": [
    "struct.get_distance(0, 13, (-1, -1, 0))"
   ]
  },
  {
   "cell_type": "code",
   "execution_count": 42,
   "metadata": {},
   "outputs": [
    {
     "data": {
      "text/plain": [
       "2.8550128626141515"
      ]
     },
     "execution_count": 42,
     "metadata": {},
     "output_type": "execute_result"
    }
   ],
   "source": [
    "struct.get_distance(0, 8, (0, -1, 0))"
   ]
  },
  {
   "cell_type": "code",
   "execution_count": null,
   "metadata": {},
   "outputs": [],
   "source": []
  }
 ],
 "metadata": {
  "kernelspec": {
   "display_name": "baysic",
   "language": "python",
   "name": "python3"
  },
  "language_info": {
   "codemirror_mode": {
    "name": "ipython",
    "version": 3
   },
   "file_extension": ".py",
   "mimetype": "text/x-python",
   "name": "python",
   "nbconvert_exporter": "python",
   "pygments_lexer": "ipython3",
   "version": "3.10.13"
  }
 },
 "nbformat": 4,
 "nbformat_minor": 2
}
