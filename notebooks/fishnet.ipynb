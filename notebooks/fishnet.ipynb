{
 "cells": [
  {
   "cell_type": "code",
   "execution_count": 1,
   "metadata": {},
   "outputs": [],
   "source": [
    "import numpy as np\n",
    "import jax.numpy as jnp\n",
    "import jax\n",
    "import pandas as pd\n",
    "import plotly.express as px\n",
    "import matplotlib.pyplot as plt\n",
    "import seaborn as sns\n",
    "import rho_plus as rp\n",
    "\n",
    "is_dark = False\n",
    "theme, cs = rp.mpl_setup(is_dark)\n",
    "rp.plotly_setup(is_dark)"
   ]
  },
  {
   "cell_type": "code",
   "execution_count": 3,
   "metadata": {},
   "outputs": [
    {
     "name": "stdout",
     "output_type": "stream",
     "text": [
      "/home/nmiklaucic/cdv\n"
     ]
    },
    {
     "name": "stderr",
     "output_type": "stream",
     "text": [
      "/home/nmiklaucic/miniconda3/envs/avid/lib/python3.12/site-packages/IPython/core/magics/osm.py:393: UserWarning: This is now an optional IPython functionality, using bookmarks requires you to install the `pickleshare` library.\n",
      "  bkms = self.shell.db.get('bookmarks', {})\n",
      "/home/nmiklaucic/miniconda3/envs/avid/lib/python3.12/site-packages/IPython/core/magics/osm.py:417: UserWarning: This is now an optional IPython functionality, setting dhist requires you to install the `pickleshare` library.\n",
      "  self.shell.db['dhist'] = compress_dhist(dhist)[-100:]\n"
     ]
    }
   ],
   "source": [
    "%cd ~/cdv"
   ]
  },
  {
   "cell_type": "code",
   "execution_count": 7,
   "metadata": {},
   "outputs": [],
   "source": [
    "from cdv.databatch import CrystalGraphs\n",
    "from cdv.dataset import load_file\n",
    "from cdv.config import MainConfig\n",
    "import pyrallis\n",
    "\n",
    "with open('configs/vae.toml', 'r') as cfgfile:\n",
    "    conf = pyrallis.cfgparsing.load(MainConfig, cfgfile)\n",
    "\n",
    "cg1 = load_file(conf, 0)\n",
    "cg2 = load_file(conf, 1)"
   ]
  },
  {
   "cell_type": "code",
   "execution_count": 11,
   "metadata": {},
   "outputs": [
    {
     "data": {
      "text/html": [
       "<pre style=\"white-space:pre;overflow-x:auto;line-height:normal;font-family:Menlo,'DejaVu Sans Mono',consolas,'Courier New',monospace\"><span style=\"color: #00a0ec; text-decoration-color: #00a0ec; font-weight: bold\">arg0 &gt;&gt;&gt; CrystalGraphs</span>\n",
       "├── <span style=\"color: #00a0ec; text-decoration-color: #00a0ec; font-weight: bold\">nodes</span>\n",
       "│   ├── <span style=\"color: #00bc70; text-decoration-color: #00bc70; font-weight: bold\">species</span>\n",
       "│   │   └── <span style=\"color: #ff7300; text-decoration-color: #ff7300; font-weight: bold\">i16[2, 512]</span>\n",
       "│   ├── <span style=\"color: #00bc70; text-decoration-color: #00bc70; font-weight: bold\">frac</span>\n",
       "│   │   └── <span style=\"color: #ff7300; text-decoration-color: #ff7300; font-weight: bold\">f32[2, 512, 3]</span>\n",
       "│   ├── <span style=\"color: #00bc70; text-decoration-color: #00bc70; font-weight: bold\">cart</span>\n",
       "│   │   └── <span style=\"color: #ff7300; text-decoration-color: #ff7300; font-weight: bold\">f32[2, 512, 3]</span>\n",
       "│   ├── <span style=\"color: #00bc70; text-decoration-color: #00bc70; font-weight: bold\">incoming</span>\n",
       "│   │   └── <span style=\"color: #ff7300; text-decoration-color: #ff7300; font-weight: bold\">i32[2, 512, 32]</span>\n",
       "│   ├── <span style=\"color: #00bc70; text-decoration-color: #00bc70; font-weight: bold\">incoming_pad</span>\n",
       "│   │   └── <span style=\"color: #ff7300; text-decoration-color: #ff7300; font-weight: bold\">bool[2, 512, 32]</span>\n",
       "│   ├── <span style=\"color: #00bc70; text-decoration-color: #00bc70; font-weight: bold\">outgoing</span>\n",
       "│   │   └── <span style=\"color: #ff7300; text-decoration-color: #ff7300; font-weight: bold\">i32[2, 512, 20]</span>\n",
       "│   ├── <span style=\"color: #00bc70; text-decoration-color: #00bc70; font-weight: bold\">outgoing_pad</span>\n",
       "│   │   └── <span style=\"color: #ff7300; text-decoration-color: #ff7300; font-weight: bold\">bool[2, 512, 20]</span>\n",
       "│   └── <span style=\"color: #00bc70; text-decoration-color: #00bc70; font-weight: bold\">graph_i</span>\n",
       "│       └── <span style=\"color: #ff7300; text-decoration-color: #ff7300; font-weight: bold\">i32[2, 512]</span>\n",
       "├── <span style=\"color: #00a0ec; text-decoration-color: #00a0ec; font-weight: bold\">edges</span>\n",
       "│   ├── <span style=\"color: #00bc70; text-decoration-color: #00bc70; font-weight: bold\">to_jimage</span>\n",
       "│   │   └── <span style=\"color: #ff7300; text-decoration-color: #ff7300; font-weight: bold\">i8[2, 9872, 3]</span>\n",
       "│   ├── <span style=\"color: #00bc70; text-decoration-color: #00bc70; font-weight: bold\">graph_i</span>\n",
       "│   │   └── <span style=\"color: #ff7300; text-decoration-color: #ff7300; font-weight: bold\">i32[2, 9872]</span>\n",
       "│   ├── <span style=\"color: #00bc70; text-decoration-color: #00bc70; font-weight: bold\">sender</span>\n",
       "│   │   └── <span style=\"color: #ff7300; text-decoration-color: #ff7300; font-weight: bold\">i32[2, 9872]</span>\n",
       "│   └── <span style=\"color: #00bc70; text-decoration-color: #00bc70; font-weight: bold\">receiver</span>\n",
       "│       └── <span style=\"color: #ff7300; text-decoration-color: #ff7300; font-weight: bold\">i32[2, 9872]</span>\n",
       "├── <span style=\"color: #00a0ec; text-decoration-color: #00a0ec; font-weight: bold\">n_node</span>\n",
       "│   └── <span style=\"color: #00bc70; text-decoration-color: #00bc70; font-weight: bold\">i32[2, 64]</span>\n",
       "├── <span style=\"color: #00a0ec; text-decoration-color: #00a0ec; font-weight: bold\">n_edge</span>\n",
       "│   └── <span style=\"color: #00bc70; text-decoration-color: #00bc70; font-weight: bold\">i32[2, 64]</span>\n",
       "├── <span style=\"color: #00a0ec; text-decoration-color: #00a0ec; font-weight: bold\">padding_mask</span>\n",
       "│   └── <span style=\"color: #00bc70; text-decoration-color: #00bc70; font-weight: bold\">bool[2, 64]</span>\n",
       "└── <span style=\"color: #00a0ec; text-decoration-color: #00a0ec; font-weight: bold\">graph_data</span>\n",
       "    ├── <span style=\"color: #00bc70; text-decoration-color: #00bc70; font-weight: bold\">dataset_i</span>\n",
       "    │   └── <span style=\"color: #ff7300; text-decoration-color: #ff7300; font-weight: bold\">i32[2, 64]</span>\n",
       "    ├── <span style=\"color: #00bc70; text-decoration-color: #00bc70; font-weight: bold\">abc</span>\n",
       "    │   └── <span style=\"color: #ff7300; text-decoration-color: #ff7300; font-weight: bold\">f32[2, 64, 3]</span>\n",
       "    ├── <span style=\"color: #00bc70; text-decoration-color: #00bc70; font-weight: bold\">angles_rad</span>\n",
       "    │   └── <span style=\"color: #ff7300; text-decoration-color: #ff7300; font-weight: bold\">f32[2, 64, 3]</span>\n",
       "    ├── <span style=\"color: #00bc70; text-decoration-color: #00bc70; font-weight: bold\">lat</span>\n",
       "    │   └── <span style=\"color: #ff7300; text-decoration-color: #ff7300; font-weight: bold\">f32[2, 64, 3, 3]</span>\n",
       "    ├── <span style=\"color: #00bc70; text-decoration-color: #00bc70; font-weight: bold\">e_form</span>\n",
       "    │   └── <span style=\"color: #ff7300; text-decoration-color: #ff7300; font-weight: bold\">f32[2, 64]</span>\n",
       "    ├── <span style=\"color: #00bc70; text-decoration-color: #00bc70; font-weight: bold\">bandgap</span>\n",
       "    │   └── <span style=\"color: #ff7300; text-decoration-color: #ff7300; font-weight: bold\">f32[2, 64]</span>\n",
       "    ├── <span style=\"color: #00bc70; text-decoration-color: #00bc70; font-weight: bold\">e_total</span>\n",
       "    │   └── <span style=\"color: #ff7300; text-decoration-color: #ff7300; font-weight: bold\">f32[2, 64]</span>\n",
       "    ├── <span style=\"color: #00bc70; text-decoration-color: #00bc70; font-weight: bold\">ehull</span>\n",
       "    │   └── <span style=\"color: #ff7300; text-decoration-color: #ff7300; font-weight: bold\">f32[2, 64]</span>\n",
       "    ├── <span style=\"color: #00bc70; text-decoration-color: #00bc70; font-weight: bold\">dimensionality</span>\n",
       "    │   └── <span style=\"color: #ff7300; text-decoration-color: #ff7300; font-weight: bold\">f32[2, 64]</span>\n",
       "    ├── <span style=\"color: #00bc70; text-decoration-color: #00bc70; font-weight: bold\">density</span>\n",
       "    │   └── <span style=\"color: #ff7300; text-decoration-color: #ff7300; font-weight: bold\">f32[2, 64]</span>\n",
       "    ├── <span style=\"color: #00bc70; text-decoration-color: #00bc70; font-weight: bold\">space_group</span>\n",
       "    │   └── <span style=\"color: #ff7300; text-decoration-color: #ff7300; font-weight: bold\">f32[2, 64]</span>\n",
       "    ├── <span style=\"color: #00bc70; text-decoration-color: #00bc70; font-weight: bold\">magmom</span>\n",
       "    │   └── <span style=\"color: #ff7300; text-decoration-color: #ff7300; font-weight: bold\">f32[2, 64]</span>\n",
       "    └── <span style=\"color: #00bc70; text-decoration-color: #00bc70; font-weight: bold\">num_spec</span>\n",
       "        └── <span style=\"color: #ff7300; text-decoration-color: #ff7300; font-weight: bold\">f32[2, 64]</span>\n",
       "</pre>\n"
      ],
      "text/plain": [
       "\u001b[1;38;2;0;160;236marg0 >>> CrystalGraphs\u001b[0m\n",
       "├── \u001b[1;38;2;0;160;236mnodes\u001b[0m\n",
       "│   ├── \u001b[1;38;2;0;188;112mspecies\u001b[0m\n",
       "│   │   └── \u001b[1;38;2;255;115;0mi16[2, 512]\u001b[0m\n",
       "│   ├── \u001b[1;38;2;0;188;112mfrac\u001b[0m\n",
       "│   │   └── \u001b[1;38;2;255;115;0mf32[2, 512, 3]\u001b[0m\n",
       "│   ├── \u001b[1;38;2;0;188;112mcart\u001b[0m\n",
       "│   │   └── \u001b[1;38;2;255;115;0mf32[2, 512, 3]\u001b[0m\n",
       "│   ├── \u001b[1;38;2;0;188;112mincoming\u001b[0m\n",
       "│   │   └── \u001b[1;38;2;255;115;0mi32[2, 512, 32]\u001b[0m\n",
       "│   ├── \u001b[1;38;2;0;188;112mincoming_pad\u001b[0m\n",
       "│   │   └── \u001b[1;38;2;255;115;0mbool[2, 512, 32]\u001b[0m\n",
       "│   ├── \u001b[1;38;2;0;188;112moutgoing\u001b[0m\n",
       "│   │   └── \u001b[1;38;2;255;115;0mi32[2, 512, 20]\u001b[0m\n",
       "│   ├── \u001b[1;38;2;0;188;112moutgoing_pad\u001b[0m\n",
       "│   │   └── \u001b[1;38;2;255;115;0mbool[2, 512, 20]\u001b[0m\n",
       "│   └── \u001b[1;38;2;0;188;112mgraph_i\u001b[0m\n",
       "│       └── \u001b[1;38;2;255;115;0mi32[2, 512]\u001b[0m\n",
       "├── \u001b[1;38;2;0;160;236medges\u001b[0m\n",
       "│   ├── \u001b[1;38;2;0;188;112mto_jimage\u001b[0m\n",
       "│   │   └── \u001b[1;38;2;255;115;0mi8[2, 9872, 3]\u001b[0m\n",
       "│   ├── \u001b[1;38;2;0;188;112mgraph_i\u001b[0m\n",
       "│   │   └── \u001b[1;38;2;255;115;0mi32[2, 9872]\u001b[0m\n",
       "│   ├── \u001b[1;38;2;0;188;112msender\u001b[0m\n",
       "│   │   └── \u001b[1;38;2;255;115;0mi32[2, 9872]\u001b[0m\n",
       "│   └── \u001b[1;38;2;0;188;112mreceiver\u001b[0m\n",
       "│       └── \u001b[1;38;2;255;115;0mi32[2, 9872]\u001b[0m\n",
       "├── \u001b[1;38;2;0;160;236mn_node\u001b[0m\n",
       "│   └── \u001b[1;38;2;0;188;112mi32[2, 64]\u001b[0m\n",
       "├── \u001b[1;38;2;0;160;236mn_edge\u001b[0m\n",
       "│   └── \u001b[1;38;2;0;188;112mi32[2, 64]\u001b[0m\n",
       "├── \u001b[1;38;2;0;160;236mpadding_mask\u001b[0m\n",
       "│   └── \u001b[1;38;2;0;188;112mbool[2, 64]\u001b[0m\n",
       "└── \u001b[1;38;2;0;160;236mgraph_data\u001b[0m\n",
       "    ├── \u001b[1;38;2;0;188;112mdataset_i\u001b[0m\n",
       "    │   └── \u001b[1;38;2;255;115;0mi32[2, 64]\u001b[0m\n",
       "    ├── \u001b[1;38;2;0;188;112mabc\u001b[0m\n",
       "    │   └── \u001b[1;38;2;255;115;0mf32[2, 64, 3]\u001b[0m\n",
       "    ├── \u001b[1;38;2;0;188;112mangles_rad\u001b[0m\n",
       "    │   └── \u001b[1;38;2;255;115;0mf32[2, 64, 3]\u001b[0m\n",
       "    ├── \u001b[1;38;2;0;188;112mlat\u001b[0m\n",
       "    │   └── \u001b[1;38;2;255;115;0mf32[2, 64, 3, 3]\u001b[0m\n",
       "    ├── \u001b[1;38;2;0;188;112me_form\u001b[0m\n",
       "    │   └── \u001b[1;38;2;255;115;0mf32[2, 64]\u001b[0m\n",
       "    ├── \u001b[1;38;2;0;188;112mbandgap\u001b[0m\n",
       "    │   └── \u001b[1;38;2;255;115;0mf32[2, 64]\u001b[0m\n",
       "    ├── \u001b[1;38;2;0;188;112me_total\u001b[0m\n",
       "    │   └── \u001b[1;38;2;255;115;0mf32[2, 64]\u001b[0m\n",
       "    ├── \u001b[1;38;2;0;188;112mehull\u001b[0m\n",
       "    │   └── \u001b[1;38;2;255;115;0mf32[2, 64]\u001b[0m\n",
       "    ├── \u001b[1;38;2;0;188;112mdimensionality\u001b[0m\n",
       "    │   └── \u001b[1;38;2;255;115;0mf32[2, 64]\u001b[0m\n",
       "    ├── \u001b[1;38;2;0;188;112mdensity\u001b[0m\n",
       "    │   └── \u001b[1;38;2;255;115;0mf32[2, 64]\u001b[0m\n",
       "    ├── \u001b[1;38;2;0;188;112mspace_group\u001b[0m\n",
       "    │   └── \u001b[1;38;2;255;115;0mf32[2, 64]\u001b[0m\n",
       "    ├── \u001b[1;38;2;0;188;112mmagmom\u001b[0m\n",
       "    │   └── \u001b[1;38;2;255;115;0mf32[2, 64]\u001b[0m\n",
       "    └── \u001b[1;38;2;0;188;112mnum_spec\u001b[0m\n",
       "        └── \u001b[1;38;2;255;115;0mf32[2, 64]\u001b[0m\n"
      ]
     },
     "metadata": {},
     "output_type": "display_data"
    }
   ],
   "source": [
    "from cdv.utils import debug_structure\n",
    "\n",
    "\n",
    "cg3 = jax.tree_map(lambda x, y: jnp.stack([x, y]), cg1, cg2)\n",
    "debug_structure(cg3);"
   ]
  },
  {
   "cell_type": "code",
   "execution_count": 15,
   "metadata": {},
   "outputs": [
    {
     "data": {
      "text/html": [
       "<pre style=\"white-space:pre;overflow-x:auto;line-height:normal;font-family:Menlo,'DejaVu Sans Mono',consolas,'Courier New',monospace\"></pre>\n"
      ],
      "text/plain": []
     },
     "metadata": {},
     "output_type": "display_data"
    },
    {
     "data": {
      "text/plain": [
       "\n",
       "\u001b[1;35mArray\u001b[0m\u001b[1m(\u001b[0m\u001b[1m[\u001b[0m\u001b[1m[\u001b[0m\u001b[1m[\u001b[0m\u001b[1m[\u001b[0m \u001b[1;36m7.86034088e+01\u001b[0m, \u001b[1;36m-2.26704407e+01\u001b[0m, \u001b[1;36m-1.72500801e+01\u001b[0m\u001b[1m]\u001b[0m,\n",
       "         \u001b[1m[\u001b[0m\u001b[1;36m-2.26704407e+01\u001b[0m,  \u001b[1;36m2.79377518e+01\u001b[0m, \u001b[1;36m-6.56807232e+00\u001b[0m\u001b[1m]\u001b[0m,\n",
       "         \u001b[1m[\u001b[0m\u001b[1;36m-1.72500801e+01\u001b[0m, \u001b[1;36m-6.56807232e+00\u001b[0m,  \u001b[1;36m6.53341827e+01\u001b[0m\u001b[1m]\u001b[0m\u001b[1m]\u001b[0m,\n",
       "\n",
       "        \u001b[1m[\u001b[0m\u001b[1m[\u001b[0m \u001b[1;36m2.46663475e+01\u001b[0m, \u001b[1;36m-2.89594221e+00\u001b[0m,  \u001b[1;36m2.19443768e-01\u001b[0m\u001b[1m]\u001b[0m,\n",
       "         \u001b[1m[\u001b[0m\u001b[1;36m-2.89594221e+00\u001b[0m,  \u001b[1;36m3.51425209e+01\u001b[0m, \u001b[1;36m-1.23047485e+01\u001b[0m\u001b[1m]\u001b[0m,\n",
       "         \u001b[1m[\u001b[0m \u001b[1;36m2.19443768e-01\u001b[0m, \u001b[1;36m-1.23047485e+01\u001b[0m,  \u001b[1;36m4.68524704e+01\u001b[0m\u001b[1m]\u001b[0m\u001b[1m]\u001b[0m,\n",
       "\n",
       "        \u001b[1m[\u001b[0m\u001b[1m[\u001b[0m \u001b[1;36m2.92615108e+01\u001b[0m,  \u001b[1;36m0.00000000e+00\u001b[0m,  \u001b[1;36m0.00000000e+00\u001b[0m\u001b[1m]\u001b[0m,\n",
       "         \u001b[1m[\u001b[0m \u001b[1;36m0.00000000e+00\u001b[0m,  \u001b[1;36m2.95320511e+01\u001b[0m,  \u001b[1;36m0.00000000e+00\u001b[0m\u001b[1m]\u001b[0m,\n",
       "         \u001b[1m[\u001b[0m \u001b[1;36m0.00000000e+00\u001b[0m,  \u001b[1;36m0.00000000e+00\u001b[0m,  \u001b[1;36m5.83140259e+01\u001b[0m\u001b[1m]\u001b[0m\u001b[1m]\u001b[0m,\n",
       "\n",
       "        \u001b[33m...\u001b[0m,\n",
       "\n",
       "        \u001b[1m[\u001b[0m\u001b[1m[\u001b[0m \u001b[1;36m2.80028553e+01\u001b[0m,  \u001b[1;36m0.00000000e+00\u001b[0m,  \u001b[1;36m0.00000000e+00\u001b[0m\u001b[1m]\u001b[0m,\n",
       "         \u001b[1m[\u001b[0m \u001b[1;36m0.00000000e+00\u001b[0m,  \u001b[1;36m2.80028553e+01\u001b[0m,  \u001b[1;36m0.00000000e+00\u001b[0m\u001b[1m]\u001b[0m,\n",
       "         \u001b[1m[\u001b[0m \u001b[1;36m0.00000000e+00\u001b[0m,  \u001b[1;36m0.00000000e+00\u001b[0m,  \u001b[1;36m5.48856010e+01\u001b[0m\u001b[1m]\u001b[0m\u001b[1m]\u001b[0m,\n",
       "\n",
       "        \u001b[1m[\u001b[0m\u001b[1m[\u001b[0m \u001b[1;36m0.00000000e+00\u001b[0m,  \u001b[1;36m0.00000000e+00\u001b[0m,  \u001b[1;36m0.00000000e+00\u001b[0m\u001b[1m]\u001b[0m,\n",
       "         \u001b[1m[\u001b[0m \u001b[1;36m0.00000000e+00\u001b[0m,  \u001b[1;36m0.00000000e+00\u001b[0m,  \u001b[1;36m0.00000000e+00\u001b[0m\u001b[1m]\u001b[0m,\n",
       "         \u001b[1m[\u001b[0m \u001b[1;36m0.00000000e+00\u001b[0m,  \u001b[1;36m0.00000000e+00\u001b[0m,  \u001b[1;36m0.00000000e+00\u001b[0m\u001b[1m]\u001b[0m\u001b[1m]\u001b[0m,\n",
       "\n",
       "        \u001b[1m[\u001b[0m\u001b[1m[\u001b[0m \u001b[1;36m0.00000000e+00\u001b[0m,  \u001b[1;36m0.00000000e+00\u001b[0m,  \u001b[1;36m0.00000000e+00\u001b[0m\u001b[1m]\u001b[0m,\n",
       "         \u001b[1m[\u001b[0m \u001b[1;36m0.00000000e+00\u001b[0m,  \u001b[1;36m0.00000000e+00\u001b[0m,  \u001b[1;36m0.00000000e+00\u001b[0m\u001b[1m]\u001b[0m,\n",
       "         \u001b[1m[\u001b[0m \u001b[1;36m0.00000000e+00\u001b[0m,  \u001b[1;36m0.00000000e+00\u001b[0m,  \u001b[1;36m0.00000000e+00\u001b[0m\u001b[1m]\u001b[0m\u001b[1m]\u001b[0m\u001b[1m]\u001b[0m,\n",
       "\n",
       "\n",
       "       \u001b[1m[\u001b[0m\u001b[1m[\u001b[0m\u001b[1m[\u001b[0m \u001b[1;36m1.42176142e+01\u001b[0m, \u001b[1;36m-9.43826261e-16\u001b[0m,  \u001b[1;36m1.91793776e-15\u001b[0m\u001b[1m]\u001b[0m,\n",
       "         \u001b[1m[\u001b[0m\u001b[1;36m-9.43826261e-16\u001b[0m,  \u001b[1;36m9.09830017e+01\u001b[0m,  \u001b[1;36m4.50847130e+01\u001b[0m\u001b[1m]\u001b[0m,\n",
       "         \u001b[1m[\u001b[0m \u001b[1;36m1.91793776e-15\u001b[0m,  \u001b[1;36m4.50847130e+01\u001b[0m,  \u001b[1;36m9.19621658e+01\u001b[0m\u001b[1m]\u001b[0m\u001b[1m]\u001b[0m,\n",
       "\n",
       "        \u001b[1m[\u001b[0m\u001b[1m[\u001b[0m \u001b[1;36m2.99860935e+01\u001b[0m,  \u001b[1;36m4.92836041e-15\u001b[0m,  \u001b[1;36m2.32003912e-15\u001b[0m\u001b[1m]\u001b[0m,\n",
       "         \u001b[1m[\u001b[0m \u001b[1;36m4.92836041e-15\u001b[0m,  \u001b[1;36m2.99860935e+01\u001b[0m,  \u001b[1;36m2.32003912e-15\u001b[0m\u001b[1m]\u001b[0m,\n",
       "         \u001b[1m[\u001b[0m \u001b[1;36m2.32003912e-15\u001b[0m,  \u001b[1;36m2.32003912e-15\u001b[0m,  \u001b[1;36m5.98064537e+01\u001b[0m\u001b[1m]\u001b[0m\u001b[1m]\u001b[0m,\n",
       "\n",
       "        \u001b[1m[\u001b[0m\u001b[1m[\u001b[0m \u001b[1;36m2.03720188e+01\u001b[0m,  \u001b[1;36m0.00000000e+00\u001b[0m, \u001b[1;36m-1.00623827e+01\u001b[0m\u001b[1m]\u001b[0m,\n",
       "         \u001b[1m[\u001b[0m \u001b[1;36m0.00000000e+00\u001b[0m,  \u001b[1;36m6.95211029e+01\u001b[0m,  \u001b[1;36m0.00000000e+00\u001b[0m\u001b[1m]\u001b[0m,\n",
       "         \u001b[1m[\u001b[0m\u001b[1;36m-1.00623827e+01\u001b[0m,  \u001b[1;36m0.00000000e+00\u001b[0m,  \u001b[1;36m1.10014816e+02\u001b[0m\u001b[1m]\u001b[0m\u001b[1m]\u001b[0m,\n",
       "\n",
       "        \u001b[33m...\u001b[0m,\n",
       "\n",
       "        \u001b[1m[\u001b[0m\u001b[1m[\u001b[0m \u001b[1;36m2.45042648e+01\u001b[0m,  \u001b[1;36m1.23195868e+01\u001b[0m, \u001b[1;36m-1.22959795e+01\u001b[0m\u001b[1m]\u001b[0m,\n",
       "         \u001b[1m[\u001b[0m \u001b[1;36m1.23195868e+01\u001b[0m,  \u001b[1;36m2.46144924e+01\u001b[0m, \u001b[1;36m-2.45848465e+01\u001b[0m\u001b[1m]\u001b[0m,\n",
       "         \u001b[1m[\u001b[0m\u001b[1;36m-1.22959795e+01\u001b[0m, \u001b[1;36m-2.45848465e+01\u001b[0m,  \u001b[1;36m8.96140137e+01\u001b[0m\u001b[1m]\u001b[0m\u001b[1m]\u001b[0m,\n",
       "\n",
       "        \u001b[1m[\u001b[0m\u001b[1m[\u001b[0m \u001b[1;36m0.00000000e+00\u001b[0m,  \u001b[1;36m0.00000000e+00\u001b[0m,  \u001b[1;36m0.00000000e+00\u001b[0m\u001b[1m]\u001b[0m,\n",
       "         \u001b[1m[\u001b[0m \u001b[1;36m0.00000000e+00\u001b[0m,  \u001b[1;36m0.00000000e+00\u001b[0m,  \u001b[1;36m0.00000000e+00\u001b[0m\u001b[1m]\u001b[0m,\n",
       "         \u001b[1m[\u001b[0m \u001b[1;36m0.00000000e+00\u001b[0m,  \u001b[1;36m0.00000000e+00\u001b[0m,  \u001b[1;36m0.00000000e+00\u001b[0m\u001b[1m]\u001b[0m\u001b[1m]\u001b[0m,\n",
       "\n",
       "        \u001b[1m[\u001b[0m\u001b[1m[\u001b[0m \u001b[1;36m0.00000000e+00\u001b[0m,  \u001b[1;36m0.00000000e+00\u001b[0m,  \u001b[1;36m0.00000000e+00\u001b[0m\u001b[1m]\u001b[0m,\n",
       "         \u001b[1m[\u001b[0m \u001b[1;36m0.00000000e+00\u001b[0m,  \u001b[1;36m0.00000000e+00\u001b[0m,  \u001b[1;36m0.00000000e+00\u001b[0m\u001b[1m]\u001b[0m,\n",
       "         \u001b[1m[\u001b[0m \u001b[1;36m0.00000000e+00\u001b[0m,  \u001b[1;36m0.00000000e+00\u001b[0m,  \u001b[1;36m0.00000000e+00\u001b[0m\u001b[1m]\u001b[0m\u001b[1m]\u001b[0m\u001b[1m]\u001b[0m\u001b[1m]\u001b[0m,      \u001b[33mdtype\u001b[0m=\u001b[35mfloat32\u001b[0m\u001b[1m)\u001b[0m"
      ]
     },
     "execution_count": 15,
     "metadata": {},
     "output_type": "execute_result"
    }
   ],
   "source": [
    "def f(cg):\n",
    "    return cg.metric_tensor\n",
    "\n",
    "jax.pmap(f)(cg3)"
   ]
  },
  {
   "cell_type": "code",
   "execution_count": null,
   "metadata": {},
   "outputs": [],
   "source": []
  }
 ],
 "metadata": {
  "kernelspec": {
   "display_name": "avid",
   "language": "python",
   "name": "python3"
  },
  "language_info": {
   "codemirror_mode": {
    "name": "ipython",
    "version": 3
   },
   "file_extension": ".py",
   "mimetype": "text/x-python",
   "name": "python",
   "nbconvert_exporter": "python",
   "pygments_lexer": "ipython3",
   "version": "3.12.0"
  }
 },
 "nbformat": 4,
 "nbformat_minor": 2
}
