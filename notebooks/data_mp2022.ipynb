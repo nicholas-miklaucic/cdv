{
 "cells": [
  {
   "cell_type": "code",
   "execution_count": 1,
   "metadata": {},
   "outputs": [],
   "source": [
    "import numpy as np\n",
    "import jax.numpy as jnp\n",
    "import jax\n",
    "import pandas as pd\n",
    "import plotly.express as px\n",
    "import matplotlib.pyplot as plt\n",
    "import seaborn as sns\n",
    "import rho_plus as rp\n",
    "\n",
    "is_dark = False\n",
    "theme, cs = rp.mpl_setup(is_dark)"
   ]
  },
  {
   "cell_type": "code",
   "execution_count": 2,
   "metadata": {},
   "outputs": [
    {
     "name": "stdout",
     "output_type": "stream",
     "text": [
      "/home/nmiklaucic/cdv\n"
     ]
    },
    {
     "name": "stderr",
     "output_type": "stream",
     "text": [
      "/home/nmiklaucic/miniconda3/envs/avid/lib/python3.12/site-packages/IPython/core/magics/osm.py:393: UserWarning: This is now an optional IPython functionality, using bookmarks requires you to install the `pickleshare` library.\n",
      "  bkms = self.shell.db.get('bookmarks', {})\n",
      "/home/nmiklaucic/miniconda3/envs/avid/lib/python3.12/site-packages/IPython/core/magics/osm.py:417: UserWarning: This is now an optional IPython functionality, setting dhist requires you to install the `pickleshare` library.\n",
      "  self.shell.db['dhist'] = compress_dhist(dhist)[-100:]\n"
     ]
    }
   ],
   "source": [
    "%cd ~/cdv"
   ]
  },
  {
   "cell_type": "code",
   "execution_count": 9,
   "metadata": {},
   "outputs": [],
   "source": [
    "import json\n",
    "import gc\n",
    "from tqdm import tqdm\n",
    "from pymatgen.core import Structure\n",
    "\n",
    "with open('data/2023-02-07-mp-computed-structure-entries.json', 'r') as f:\n",
    "    data = json.load(f)"
   ]
  },
  {
   "cell_type": "code",
   "execution_count": 12,
   "metadata": {},
   "outputs": [
    {
     "data": {
      "text/plain": [
       "154718"
      ]
     },
     "execution_count": 12,
     "metadata": {},
     "output_type": "execute_result"
    }
   ],
   "source": [
    "len(data['material_id'])"
   ]
  },
  {
   "cell_type": "code",
   "execution_count": 16,
   "metadata": {},
   "outputs": [
    {
     "data": {
      "text/plain": [
       "{'@module': 'pymatgen.entries.computed_entries',\n",
       " '@class': 'ComputedStructureEntry',\n",
       " 'energy': -0.06880822,\n",
       " 'composition': {'Ar': 1.0},\n",
       " 'entry_id': 'mp-23155-GGA',\n",
       " 'correction': 0.0,\n",
       " 'energy_adjustments': [],\n",
       " 'parameters': {'potcar_spec': [{'titel': 'PAW_PBE Ar 07Sep2000',\n",
       "    'hash': 'e782fc6292623b396091bf8b871c272f'}],\n",
       "  'is_hubbard': False,\n",
       "  'hubbards': {},\n",
       "  'run_type': 'GGA'},\n",
       " 'data': {'oxide_type': 'None',\n",
       "  'aspherical': True,\n",
       "  'last_updated': {'@module': 'datetime',\n",
       "   '@class': 'datetime',\n",
       "   'string': '2020-05-05 03:24:57.857000'},\n",
       "  'task_id': 'mp-1476242',\n",
       "  'material_id': 'mp-23155',\n",
       "  'oxidation_states': {},\n",
       "  'run_type': 'GGA'},\n",
       " 'structure': {'@module': 'pymatgen.core.structure',\n",
       "  '@class': 'Structure',\n",
       "  'charge': 0,\n",
       "  'lattice': {'matrix': [[0.0, 2.820386, 2.820386],\n",
       "    [2.820386, 0.0, 2.820386],\n",
       "    [2.820386, 2.820386, 0.0]],\n",
       "   'pbc': [True, True, True],\n",
       "   'a': 3.9886281323,\n",
       "   'b': 3.9886281323,\n",
       "   'c': 3.9886281323,\n",
       "   'alpha': 60.0,\n",
       "   'beta': 60.0,\n",
       "   'gamma': 60.0,\n",
       "   'volume': 44.8699562795},\n",
       "  'sites': [{'species': [{'element': 'Ar', 'occu': 1}],\n",
       "    'abc': [0.0, 0.0, 0.0],\n",
       "    'xyz': [0.0, 0.0, 0.0],\n",
       "    'label': 'Ar',\n",
       "    'properties': {'magmom': 0.0}}]}}"
      ]
     },
     "execution_count": 16,
     "metadata": {},
     "output_type": "execute_result"
    }
   ],
   "source": [
    "k = next(iter(data['entry']))\n",
    "data['entry'][k]"
   ]
  },
  {
   "cell_type": "code",
   "execution_count": 25,
   "metadata": {},
   "outputs": [],
   "source": [
    "s = data['entry'][k]['structure']"
   ]
  },
  {
   "cell_type": "code",
   "execution_count": 28,
   "metadata": {},
   "outputs": [
    {
     "data": {
      "text/html": [
       "<div>\n",
       "<style scoped>\n",
       "    .dataframe tbody tr th:only-of-type {\n",
       "        vertical-align: middle;\n",
       "    }\n",
       "\n",
       "    .dataframe tbody tr th {\n",
       "        vertical-align: top;\n",
       "    }\n",
       "\n",
       "    .dataframe thead th {\n",
       "        text-align: right;\n",
       "    }\n",
       "</style>\n",
       "<table border=\"1\" class=\"dataframe\">\n",
       "  <thead>\n",
       "    <tr style=\"text-align: right;\">\n",
       "      <th></th>\n",
       "      <th>energy</th>\n",
       "      <th>dataset-id</th>\n",
       "      <th>structure</th>\n",
       "    </tr>\n",
       "  </thead>\n",
       "  <tbody>\n",
       "    <tr>\n",
       "      <th>0</th>\n",
       "      <td>-0.068808</td>\n",
       "      <td>mp-23155-GGA</td>\n",
       "      <td>[[0. 0. 0.] Ar]</td>\n",
       "    </tr>\n",
       "    <tr>\n",
       "      <th>1</th>\n",
       "      <td>-5.370226</td>\n",
       "      <td>mp-1246134-GGA</td>\n",
       "      <td>[[0. 0. 0.] Ni]</td>\n",
       "    </tr>\n",
       "    <tr>\n",
       "      <th>2</th>\n",
       "      <td>-15.327756</td>\n",
       "      <td>mp-1182070-GGA</td>\n",
       "      <td>[[1.1527025  4.05144414 4.93659732] Bi, [1.152...</td>\n",
       "    </tr>\n",
       "    <tr>\n",
       "      <th>3</th>\n",
       "      <td>-6.581273</td>\n",
       "      <td>mp-569358-GGA</td>\n",
       "      <td>[[0.38891127 0.         4.475856  ] Bi, [2.841...</td>\n",
       "    </tr>\n",
       "    <tr>\n",
       "      <th>4</th>\n",
       "      <td>-30.313476</td>\n",
       "      <td>mp-1078637-GGA</td>\n",
       "      <td>[[ 3.4040553  -2.26030098  3.4519655 ] Bi, [3....</td>\n",
       "    </tr>\n",
       "  </tbody>\n",
       "</table>\n",
       "</div>"
      ],
      "text/plain": [
       "      energy      dataset-id  \\\n",
       "0  -0.068808    mp-23155-GGA   \n",
       "1  -5.370226  mp-1246134-GGA   \n",
       "2 -15.327756  mp-1182070-GGA   \n",
       "3  -6.581273   mp-569358-GGA   \n",
       "4 -30.313476  mp-1078637-GGA   \n",
       "\n",
       "                                           structure  \n",
       "0                                    [[0. 0. 0.] Ar]  \n",
       "1                                    [[0. 0. 0.] Ni]  \n",
       "2  [[1.1527025  4.05144414 4.93659732] Bi, [1.152...  \n",
       "3  [[0.38891127 0.         4.475856  ] Bi, [2.841...  \n",
       "4  [[ 3.4040553  -2.26030098  3.4519655 ] Bi, [3....  "
      ]
     },
     "execution_count": 28,
     "metadata": {},
     "output_type": "execute_result"
    }
   ],
   "source": [
    "from pymatgen.core import Structure\n",
    "df = pd.DataFrame([{'energy': row['energy'], 'dataset-id': row['entry_id'], 'structure': Structure.from_dict(row['structure'])} for row in data['entry'].values()])\n",
    "df.head()"
   ]
  },
  {
   "cell_type": "code",
   "execution_count": 41,
   "metadata": {},
   "outputs": [
    {
     "name": "stdout",
     "output_type": "stream",
     "text": [
      "...................................."
     ]
    }
   ],
   "source": [
    "for i, inds in enumerate(np.array_split(df.index, 36)):\n",
    "    df.loc[inds].to_pickle(f'precomputed/mp2022/raw/batch_{i:04}.pkl')\n",
    "    print('.', end='')"
   ]
  },
  {
   "cell_type": "code",
   "execution_count": 36,
   "metadata": {},
   "outputs": [],
   "source": [
    "df.to_pickle('precomputed/mp2022/dataframe.pkl')"
   ]
  },
  {
   "cell_type": "code",
   "execution_count": 31,
   "metadata": {},
   "outputs": [
    {
     "name": "stderr",
     "output_type": "stream",
     "text": [
      "/tmp/ipykernel_895045/3651471573.py:1: FutureWarning: pandas.value_counts is deprecated and will be removed in a future version. Use pd.Series(obj).value_counts() instead.\n",
      "  pd.value_counts([str(s.pbc) for s in df['structure']])\n",
      "/tmp/ipykernel_895045/3651471573.py:1: FutureWarning: value_counts with argument that is not not a Series, Index, ExtensionArray, or np.ndarray is deprecated and will raise in a future version.\n",
      "  pd.value_counts([str(s.pbc) for s in df['structure']])\n"
     ]
    },
    {
     "data": {
      "text/plain": [
       "(True, True, True)    154718\n",
       "Name: count, dtype: int64"
      ]
     },
     "execution_count": 31,
     "metadata": {},
     "output_type": "execute_result"
    }
   ],
   "source": [
    "pd.value_counts([str(s.pbc) for s in df['structure']])"
   ]
  },
  {
   "cell_type": "code",
   "execution_count": 19,
   "metadata": {},
   "outputs": [
    {
     "ename": "KeyboardInterrupt",
     "evalue": "",
     "output_type": "error",
     "traceback": [
      "\u001b[0;31m---------------------------------------------------------------------------\u001b[0m",
      "\u001b[0;31mKeyboardInterrupt\u001b[0m                         Traceback (most recent call last)",
      "Cell \u001b[0;32mIn[19], line 61\u001b[0m\n\u001b[1;32m     58\u001b[0m     \u001b[38;5;28;01mreturn\u001b[39;00m CrystalGraphs(nodes, edges, n_node\u001b[38;5;241m=\u001b[39mjnp\u001b[38;5;241m.\u001b[39marray([struct\u001b[38;5;241m.\u001b[39mnum_sites], dtype\u001b[38;5;241m=\u001b[39mjnp\u001b[38;5;241m.\u001b[39muint16), padding_mask\u001b[38;5;241m=\u001b[39mjnp\u001b[38;5;241m.\u001b[39mones((\u001b[38;5;241m1\u001b[39m,), dtype\u001b[38;5;241m=\u001b[39mjnp\u001b[38;5;241m.\u001b[39mbool), graph_data\u001b[38;5;241m=\u001b[39mdata, target_data\u001b[38;5;241m=\u001b[39mtarget)\n\u001b[1;32m     60\u001b[0m \u001b[38;5;28;01mfor\u001b[39;00m i \u001b[38;5;129;01min\u001b[39;00m \u001b[38;5;28mrange\u001b[39m(\u001b[38;5;28mlen\u001b[39m(df\u001b[38;5;241m.\u001b[39mindex)):\n\u001b[0;32m---> 61\u001b[0m     \u001b[38;5;28;01mfor\u001b[39;00m nbs \u001b[38;5;129;01min\u001b[39;00m \u001b[43mdf\u001b[49m\u001b[43m[\u001b[49m\u001b[38;5;124;43m'\u001b[39;49m\u001b[38;5;124;43mstructure\u001b[39;49m\u001b[38;5;124;43m'\u001b[39;49m\u001b[43m]\u001b[49m\u001b[38;5;241;43m.\u001b[39;49m\u001b[43miloc\u001b[49m\u001b[43m[\u001b[49m\u001b[43mi\u001b[49m\u001b[43m]\u001b[49m\u001b[38;5;241;43m.\u001b[39;49m\u001b[43mget_all_neighbors\u001b[49m\u001b[43m(\u001b[49m\u001b[38;5;241;43m8\u001b[39;49m\u001b[43m)\u001b[49m:\n\u001b[1;32m     62\u001b[0m         \u001b[38;5;28;01mif\u001b[39;00m \u001b[38;5;28mlen\u001b[39m(nbs) \u001b[38;5;241m==\u001b[39m \u001b[38;5;241m0\u001b[39m:\n\u001b[1;32m     63\u001b[0m             \u001b[38;5;28mprint\u001b[39m(i)\n",
      "File \u001b[0;32m~/miniconda3/envs/avid/lib/python3.12/site-packages/pymatgen/core/structure.py:1899\u001b[0m, in \u001b[0;36mIStructure.get_all_neighbors\u001b[0;34m(self, r, include_index, include_image, sites, numerical_tol)\u001b[0m\n\u001b[1;32m   1880\u001b[0m     csite \u001b[38;5;241m=\u001b[39m sites[cindex]\n\u001b[1;32m   1881\u001b[0m     \u001b[38;5;28;01mif\u001b[39;00m (\n\u001b[1;32m   1882\u001b[0m         d \u001b[38;5;241m>\u001b[39m numerical_tol\n\u001b[1;32m   1883\u001b[0m         \u001b[38;5;129;01mor\u001b[39;00m\n\u001b[0;32m   (...)\u001b[0m\n\u001b[1;32m   1889\u001b[0m         \u001b[38;5;129;01mor\u001b[39;00m (psite\u001b[38;5;241m.\u001b[39mproperties \u001b[38;5;241m!=\u001b[39m csite\u001b[38;5;241m.\u001b[39mproperties)\n\u001b[1;32m   1890\u001b[0m     ):\n\u001b[1;32m   1891\u001b[0m         neighbor_dict[cindex]\u001b[38;5;241m.\u001b[39mappend(\n\u001b[1;32m   1892\u001b[0m             PeriodicNeighbor(\n\u001b[1;32m   1893\u001b[0m                 species\u001b[38;5;241m=\u001b[39mpsite\u001b[38;5;241m.\u001b[39mspecies,\n\u001b[1;32m   1894\u001b[0m                 coords\u001b[38;5;241m=\u001b[39mf_coord,\n\u001b[1;32m   1895\u001b[0m                 lattice\u001b[38;5;241m=\u001b[39mlattice,\n\u001b[1;32m   1896\u001b[0m                 properties\u001b[38;5;241m=\u001b[39mpsite\u001b[38;5;241m.\u001b[39mproperties,\n\u001b[1;32m   1897\u001b[0m                 nn_distance\u001b[38;5;241m=\u001b[39md,\n\u001b[1;32m   1898\u001b[0m                 index\u001b[38;5;241m=\u001b[39mpindex,\n\u001b[0;32m-> 1899\u001b[0m                 image\u001b[38;5;241m=\u001b[39m\u001b[38;5;28;43mtuple\u001b[39;49m\u001b[43m(\u001b[49m\u001b[43mimage\u001b[49m\u001b[43m)\u001b[49m,\n\u001b[1;32m   1900\u001b[0m                 label\u001b[38;5;241m=\u001b[39mpsite\u001b[38;5;241m.\u001b[39mlabel,\n\u001b[1;32m   1901\u001b[0m             )\n\u001b[1;32m   1902\u001b[0m         )\n\u001b[1;32m   1904\u001b[0m neighbors: \u001b[38;5;28mlist\u001b[39m[\u001b[38;5;28mlist\u001b[39m[PeriodicNeighbor]] \u001b[38;5;241m=\u001b[39m []\n\u001b[1;32m   1906\u001b[0m \u001b[38;5;28;01mfor\u001b[39;00m i \u001b[38;5;129;01min\u001b[39;00m \u001b[38;5;28mrange\u001b[39m(\u001b[38;5;28mlen\u001b[39m(sites)):\n",
      "\u001b[0;31mKeyboardInterrupt\u001b[0m: "
     ]
    }
   ],
   "source": [
    "from cdv.databatch import CrystalGraphs, CrystalData, EdgeData, NodeData, MPTrjTarget\n",
    "from pymatgen.core import Structure\n",
    "batch_i = 1\n",
    "i = 0\n",
    "row = df.iloc[i]\n",
    "struct: Structure = row['structure']\n",
    "\n",
    "def knn_graph(struct: Structure, r_start=8, k=16):\n",
    "    \"\"\"returns (ijs, ims)\n",
    "    ijs: nodes k\n",
    "    ims: nodes k 3\"\"\"\n",
    "    if r_start > 100:\n",
    "        raise ValueError()\n",
    "    graph_ijs = []\n",
    "    graph_ims = []\n",
    "    r = r_start\n",
    "    for i, nbs in enumerate(struct.get_all_neighbors(r)):\n",
    "        sites, dists, idxs, ims = zip(*nbs)\n",
    "        if len(dists) < k:\n",
    "            # print('Not enough neighbors, using r =', 2 * r_start)\n",
    "            return knn_graph(struct, r_start=r * 2, k=k)\n",
    "        \n",
    "        chosen = np.argsort(dists)[:k]\n",
    "\n",
    "        graph_ijs.append(np.array(idxs)[chosen])\n",
    "        graph_ims.append(np.array(ims)[chosen])\n",
    "\n",
    "    graph_ijs = np.stack(graph_ijs).astype(np.uint16)\n",
    "    graph_ims = np.stack(graph_ims).astype(np.int8)\n",
    "\n",
    "    return EdgeData(np.array(graph_ims), np.array(graph_ijs))\n",
    "\n",
    "\n",
    "def create_graph(row, data_id):\n",
    "    struct: Structure = row['structure']\n",
    "    nodes = NodeData(\n",
    "        species=jnp.array(struct.atomic_numbers, dtype=jnp.uint8),\n",
    "        cart=jnp.array(struct.cart_coords, dtype=jnp.float32),\n",
    "        graph_i=jnp.zeros((struct.num_sites,), dtype=jnp.uint16)\n",
    "    )\n",
    "\n",
    "    data = CrystalData(\n",
    "        dataset_id=jnp.array([data_id], dtype=jnp.uint32),\n",
    "        abc=jnp.array([struct.lattice.abc]),\n",
    "        angles_rad=jnp.deg2rad(jnp.array([struct.lattice.angles])),\n",
    "        lat=jnp.array([struct.lattice.matrix])\n",
    "    )\n",
    "    target = MPTrjTarget(\n",
    "        e_form=jnp.array([row['energy_per_atom']]),    \n",
    "        force=jnp.array(row['force']),\n",
    "        stress=jnp.array([row['stress']]),\n",
    "    )\n",
    "    try:\n",
    "        edges = knn_graph(struct)\n",
    "    except ValueError as e:\n",
    "        raise ValueError(f'{data_id}') from e\n",
    "\n",
    "    return CrystalGraphs(nodes, edges, n_node=jnp.array([struct.num_sites], dtype=jnp.uint16), padding_mask=jnp.ones((1,), dtype=jnp.bool), graph_data=data, target_data=target)\n",
    "\n",
    "for i in range(len(df.index)):\n",
    "    for nbs in df['structure'].iloc[i].get_all_neighbors(8):\n",
    "        if len(nbs) == 0:\n",
    "            print(i)\n",
    "            break"
   ]
  },
  {
   "cell_type": "code",
   "execution_count": 17,
   "metadata": {},
   "outputs": [
    {
     "name": "stdout",
     "output_type": "stream",
     "text": [
      "1910\n",
      "1917\n",
      "1914\n",
      "1916\n",
      "1908\n",
      "1908\n",
      "1902\n",
      "1910\n",
      "1910\n",
      "1902\n",
      "1912\n",
      "1922\n",
      "1911\n",
      "1905\n",
      "1911\n",
      "1905\n",
      "1916\n",
      "1912\n",
      "1912\n",
      "1916\n",
      "1913\n",
      "1916\n",
      "1916\n",
      "1913\n",
      "1916\n",
      "1919\n",
      "1909\n",
      "1909\n",
      "1919\n",
      "1916\n",
      "1910\n",
      "1909\n"
     ]
    }
   ],
   "source": [
    "# s = Structure(np.eye(3), ['C'], [[0.5, 0.5, 0.5]])\n",
    "for nbs in struct.get_all_neighbors(r=16):\n",
    "    dists = list(zip(*nbs))[1]\n",
    "    print(len(dists))"
   ]
  },
  {
   "cell_type": "code",
   "execution_count": 6,
   "metadata": {},
   "outputs": [
    {
     "data": {
      "text/plain": [
       "<seaborn.axisgrid.FacetGrid at 0x7fdc2db84980>"
      ]
     },
     "execution_count": 6,
     "metadata": {},
     "output_type": "execute_result"
    },
    {
     "data": {
      "image/png": "[encoded data removed]",
      "text/plain": [
       "<Figure size 500x500 with 1 Axes>"
      ]
     },
     "metadata": {},
     "output_type": "display_data"
    }
   ],
   "source": [
    "sns.displot(df.groupby('mp_id').count()['structure'], discrete=True)"
   ]
  },
  {
   "cell_type": "code",
   "execution_count": 32,
   "metadata": {},
   "outputs": [
    {
     "data": {
      "image/png": "[encoded data removed]",
      "text/plain": [
       "<Figure size 800x600 with 1 Axes>"
      ]
     },
     "metadata": {},
     "output_type": "display_data"
    }
   ],
   "source": [
    "df['num_atoms'] = [s.num_sites for s in df['structure']]\n",
    "sns.histplot(df['num_atoms'], discrete=True)\n",
    "print(df['num_atoms'].describe())\n",
    "rp.smart_ticks()"
   ]
  },
  {
   "cell_type": "code",
   "execution_count": 34,
   "metadata": {},
   "outputs": [
    {
     "data": {
      "text/plain": [
       "array([979, 979, 978, ..., 974, 974, 974])"
      ]
     },
     "execution_count": 34,
     "metadata": {},
     "output_type": "execute_result"
    }
   ],
   "source": [
    "from pathlib import Path\n",
    "from tqdm import tqdm\n",
    "import numpy as np\n",
    "\n",
    "num_batch = 31\n",
    "num_atoms = 32\n",
    "target_batch_size = (num_batch + 1) * num_atoms - 1\n",
    "\n",
    "def get_parts(numbers, batch, chunk_size):\n",
    "    \"\"\"Splits the numbers into batches of length batch with as equal a split as possible.\"\"\"\n",
    "    # assert len(numbers) % (batch * chunk_size) == 0\n",
    "    n_batches = len(numbers) // batch\n",
    "    parts = np.zeros((batch, n_batches), dtype=jnp.int32)\n",
    "    part_sizes = np.array([0 for _ in range(n_batches)])\n",
    "    \n",
    "    chunk_i = 0\n",
    "    for sample_is in np.argsort(-numbers).reshape(batch // chunk_size, chunk_size * n_batches):\n",
    "        sample_sizes = numbers[sample_is]\n",
    "        n_filled = np.zeros((n_batches,), dtype=jnp.int32)\n",
    "        for sample_i, sample_size in zip(sample_is, sample_sizes):\n",
    "            next_i = np.argmin(part_sizes + 10000 * (n_filled == chunk_size))\n",
    "            parts[chunk_i * chunk_size + n_filled[next_i], next_i] += sample_i\n",
    "            n_filled[next_i] += 1\n",
    "            part_sizes[next_i] += sample_size\n",
    "        chunk_i += 1\n",
    "\n",
    "    return parts, part_sizes\n",
    "\n",
    "def padded_parts(sizes, extra=0):\n",
    "    data_pad = -len(sizes) % num_batch + num_batch * extra\n",
    "    pad_sizes = np.array(list(sizes) + [0] * data_pad)\n",
    "    parts, part_sizes = get_parts(pad_sizes, num_batch, num_batch)\n",
    "    if max(part_sizes) > target_batch_size:\n",
    "        return padded_parts(sizes, extra + 4)\n",
    "    else:\n",
    "        return parts, part_sizes \n",
    "\n",
    "max_sizes = []\n",
    "# for batch_fn in tqdm(list(Path('precomputed/mptrj/raw').glob('batch_*.pkl'))[15:16]):\n",
    "#     df = pd.read_pickle(batch_fn)\n",
    "sizes = [s.num_sites for s in df['structure']]\n",
    "\n",
    "orig_size = len(sizes)\n",
    "parts, part_sizes = padded_parts(sizes)\n",
    "part_sizes"
   ]
  },
  {
   "cell_type": "code",
   "execution_count": 49,
   "metadata": {},
   "outputs": [
    {
     "data": {
      "text/plain": [
       "0        15182600003\n",
       "1        15182600002\n",
       "2        15188260002\n",
       "3        15193570002\n",
       "4        15193570000\n",
       "            ...     \n",
       "44757    11109860005\n",
       "44758    11109860004\n",
       "44759    11109860003\n",
       "44760    11109860002\n",
       "44761    11109860000\n",
       "Name: mp_id, Length: 44762, dtype: int64"
      ]
     },
     "execution_count": 49,
     "metadata": {},
     "output_type": "execute_result"
    }
   ],
   "source": [
    "mp_id = df['mp_id'].str.removeprefix('mp-').astype(int) * 10_000\n",
    "mp_id += df['calc'] * 1_000\n",
    "mp_id += df['step']\n",
    "mp_id"
   ]
  },
  {
   "cell_type": "code",
   "execution_count": 10,
   "metadata": {},
   "outputs": [],
   "source": [
    "cgs = [create_graph(df.iloc[i], i) for i in parts[:, 0] if i < orig_size]"
   ]
  },
  {
   "cell_type": "code",
   "execution_count": 11,
   "metadata": {},
   "outputs": [
    {
     "data": {
      "text/html": [
       "<pre style=\"white-space:pre;overflow-x:auto;line-height:normal;font-family:Menlo,'DejaVu Sans Mono',consolas,'Courier New',monospace\"><span style=\"color: #00a0ec; text-decoration-color: #00a0ec; font-weight: bold\">arg0 &gt;&gt;&gt; CrystalGraphs</span>\n",
       "├── <span style=\"color: #00a0ec; text-decoration-color: #00a0ec; font-weight: bold\">nodes</span>\n",
       "│   ├── <span style=\"color: #00bc70; text-decoration-color: #00bc70; font-weight: bold\">species</span>\n",
       "│   │   └── <span style=\"color: #ff7300; text-decoration-color: #ff7300; font-weight: bold\">u8[952]</span>\n",
       "│   ├── <span style=\"color: #00bc70; text-decoration-color: #00bc70; font-weight: bold\">cart</span>\n",
       "│   │   └── <span style=\"color: #ff7300; text-decoration-color: #ff7300; font-weight: bold\">f32[952, 3]</span>\n",
       "│   └── <span style=\"color: #00bc70; text-decoration-color: #00bc70; font-weight: bold\">graph_i</span>\n",
       "│       └── <span style=\"color: #ff7300; text-decoration-color: #ff7300; font-weight: bold\">u16[952]</span>\n",
       "├── <span style=\"color: #00a0ec; text-decoration-color: #00a0ec; font-weight: bold\">edges</span>\n",
       "│   ├── <span style=\"color: #00bc70; text-decoration-color: #00bc70; font-weight: bold\">to_jimage</span>\n",
       "│   │   └── <span style=\"color: #ff7300; text-decoration-color: #ff7300; font-weight: bold\">i8[952, 16, 3]</span>\n",
       "│   └── <span style=\"color: #00bc70; text-decoration-color: #00bc70; font-weight: bold\">receiver</span>\n",
       "│       └── <span style=\"color: #ff7300; text-decoration-color: #ff7300; font-weight: bold\">u16[952, 16]</span>\n",
       "├── <span style=\"color: #00a0ec; text-decoration-color: #00a0ec; font-weight: bold\">n_node</span>\n",
       "│   └── <span style=\"color: #00bc70; text-decoration-color: #00bc70; font-weight: bold\">u16[31]</span>\n",
       "├── <span style=\"color: #00a0ec; text-decoration-color: #00a0ec; font-weight: bold\">padding_mask</span>\n",
       "│   └── <span style=\"color: #00bc70; text-decoration-color: #00bc70; font-weight: bold\">bool[31]</span>\n",
       "├── <span style=\"color: #00a0ec; text-decoration-color: #00a0ec; font-weight: bold\">graph_data</span>\n",
       "│   ├── <span style=\"color: #00bc70; text-decoration-color: #00bc70; font-weight: bold\">dataset_id</span>\n",
       "│   │   └── <span style=\"color: #ff7300; text-decoration-color: #ff7300; font-weight: bold\">u32[31]</span>\n",
       "│   ├── <span style=\"color: #00bc70; text-decoration-color: #00bc70; font-weight: bold\">abc</span>\n",
       "│   │   └── <span style=\"color: #ff7300; text-decoration-color: #ff7300; font-weight: bold\">f32[31, 3]</span>\n",
       "│   ├── <span style=\"color: #00bc70; text-decoration-color: #00bc70; font-weight: bold\">angles_rad</span>\n",
       "│   │   └── <span style=\"color: #ff7300; text-decoration-color: #ff7300; font-weight: bold\">f32[31, 3]</span>\n",
       "│   └── <span style=\"color: #00bc70; text-decoration-color: #00bc70; font-weight: bold\">lat</span>\n",
       "│       └── <span style=\"color: #ff7300; text-decoration-color: #ff7300; font-weight: bold\">f32[31, 3, 3]</span>\n",
       "└── <span style=\"color: #00a0ec; text-decoration-color: #00a0ec; font-weight: bold\">target_data</span>\n",
       "    ├── <span style=\"color: #00bc70; text-decoration-color: #00bc70; font-weight: bold\">e_form</span>\n",
       "    │   └── <span style=\"color: #ff7300; text-decoration-color: #ff7300; font-weight: bold\">f32[31]</span>\n",
       "    ├── <span style=\"color: #00bc70; text-decoration-color: #00bc70; font-weight: bold\">force</span>\n",
       "    │   └── <span style=\"color: #ff7300; text-decoration-color: #ff7300; font-weight: bold\">f32[952, 3]</span>\n",
       "    └── <span style=\"color: #00bc70; text-decoration-color: #00bc70; font-weight: bold\">stress</span>\n",
       "        └── <span style=\"color: #ff7300; text-decoration-color: #ff7300; font-weight: bold\">f32[31, 3, 3]</span>\n",
       "</pre>\n"
      ],
      "text/plain": [
       "\u001b[1;38;2;0;160;236marg0 >>> CrystalGraphs\u001b[0m\n",
       "├── \u001b[1;38;2;0;160;236mnodes\u001b[0m\n",
       "│   ├── \u001b[1;38;2;0;188;112mspecies\u001b[0m\n",
       "│   │   └── \u001b[1;38;2;255;115;0mu8[952]\u001b[0m\n",
       "│   ├── \u001b[1;38;2;0;188;112mcart\u001b[0m\n",
       "│   │   └── \u001b[1;38;2;255;115;0mf32[952, 3]\u001b[0m\n",
       "│   └── \u001b[1;38;2;0;188;112mgraph_i\u001b[0m\n",
       "│       └── \u001b[1;38;2;255;115;0mu16[952]\u001b[0m\n",
       "├── \u001b[1;38;2;0;160;236medges\u001b[0m\n",
       "│   ├── \u001b[1;38;2;0;188;112mto_jimage\u001b[0m\n",
       "│   │   └── \u001b[1;38;2;255;115;0mi8[952, 16, 3]\u001b[0m\n",
       "│   └── \u001b[1;38;2;0;188;112mreceiver\u001b[0m\n",
       "│       └── \u001b[1;38;2;255;115;0mu16[952, 16]\u001b[0m\n",
       "├── \u001b[1;38;2;0;160;236mn_node\u001b[0m\n",
       "│   └── \u001b[1;38;2;0;188;112mu16[31]\u001b[0m\n",
       "├── \u001b[1;38;2;0;160;236mpadding_mask\u001b[0m\n",
       "│   └── \u001b[1;38;2;0;188;112mbool[31]\u001b[0m\n",
       "├── \u001b[1;38;2;0;160;236mgraph_data\u001b[0m\n",
       "│   ├── \u001b[1;38;2;0;188;112mdataset_id\u001b[0m\n",
       "│   │   └── \u001b[1;38;2;255;115;0mu32[31]\u001b[0m\n",
       "│   ├── \u001b[1;38;2;0;188;112mabc\u001b[0m\n",
       "│   │   └── \u001b[1;38;2;255;115;0mf32[31, 3]\u001b[0m\n",
       "│   ├── \u001b[1;38;2;0;188;112mangles_rad\u001b[0m\n",
       "│   │   └── \u001b[1;38;2;255;115;0mf32[31, 3]\u001b[0m\n",
       "│   └── \u001b[1;38;2;0;188;112mlat\u001b[0m\n",
       "│       └── \u001b[1;38;2;255;115;0mf32[31, 3, 3]\u001b[0m\n",
       "└── \u001b[1;38;2;0;160;236mtarget_data\u001b[0m\n",
       "    ├── \u001b[1;38;2;0;188;112me_form\u001b[0m\n",
       "    │   └── \u001b[1;38;2;255;115;0mf32[31]\u001b[0m\n",
       "    ├── \u001b[1;38;2;0;188;112mforce\u001b[0m\n",
       "    │   └── \u001b[1;38;2;255;115;0mf32[952, 3]\u001b[0m\n",
       "    └── \u001b[1;38;2;0;188;112mstress\u001b[0m\n",
       "        └── \u001b[1;38;2;255;115;0mf32[31, 3, 3]\u001b[0m\n"
      ]
     },
     "metadata": {},
     "output_type": "display_data"
    }
   ],
   "source": [
    "from cdv.utils import debug_stat, debug_structure\n",
    "\n",
    "debug_structure(sum(cgs[1:], start=cgs[0]));"
   ]
  },
  {
   "cell_type": "code",
   "execution_count": null,
   "metadata": {},
   "outputs": [],
   "source": []
  }
 ],
 "metadata": {
  "kernelspec": {
   "display_name": "avid",
   "language": "python",
   "name": "python3"
  },
  "language_info": {
   "codemirror_mode": {
    "name": "ipython",
    "version": 3
   },
   "file_extension": ".py",
   "mimetype": "text/x-python",
   "name": "python",
   "nbconvert_exporter": "python",
   "pygments_lexer": "ipython3",
   "version": "3.12.0"
  }
 },
 "nbformat": 4,
 "nbformat_minor": 2
}
