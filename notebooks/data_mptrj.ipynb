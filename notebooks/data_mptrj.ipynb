{
 "cells": [
  {
   "cell_type": "code",
   "execution_count": 1,
   "metadata": {},
   "outputs": [],
   "source": [
    "import numpy as np\n",
    "import jax.numpy as jnp\n",
    "import jax\n",
    "import pandas as pd\n",
    "import plotly.express as px\n",
    "import matplotlib.pyplot as plt\n",
    "import seaborn as sns\n",
    "import rho_plus as rp\n",
    "\n",
    "is_dark = True\n",
    "theme, cs = rp.mpl_setup(is_dark)"
   ]
  },
  {
   "cell_type": "code",
   "execution_count": 4,
   "metadata": {},
   "outputs": [
    {
     "name": "stdout",
     "output_type": "stream",
     "text": [
      "/home/nmiklaucic/cdv\n"
     ]
    },
    {
     "name": "stderr",
     "output_type": "stream",
     "text": [
      "/home/nmiklaucic/miniconda3/envs/avid/lib/python3.12/site-packages/IPython/core/magics/osm.py:393: UserWarning: This is now an optional IPython functionality, using bookmarks requires you to install the `pickleshare` library.\n",
      "  bkms = self.shell.db.get('bookmarks', {})\n",
      "/home/nmiklaucic/miniconda3/envs/avid/lib/python3.12/site-packages/IPython/core/magics/osm.py:417: UserWarning: This is now an optional IPython functionality, setting dhist requires you to install the `pickleshare` library.\n",
      "  self.shell.db['dhist'] = compress_dhist(dhist)[-100:]\n"
     ]
    }
   ],
   "source": [
    "%cd ~/cdv"
   ]
  },
  {
   "cell_type": "code",
   "execution_count": 6,
   "metadata": {},
   "outputs": [
    {
     "name": "stderr",
     "output_type": "stream",
     "text": [
      "  9%|▉         | 145923/1590395 [21:47<3:35:41, 111.61it/s]\n"
     ]
    },
    {
     "name": "stdout",
     "output_type": "stream",
     "text": [
      "145923\n"
     ]
    }
   ],
   "source": [
    "# import ijson\n",
    "# import gc\n",
    "# from tqdm import tqdm\n",
    "# from pymatgen.core import Structure\n",
    "\n",
    "# with open('data/MPtrj_2022.9_full.json', 'r') as f:\n",
    "#     objs = ijson.kvitems(f, '', use_float=True)\n",
    "\n",
    "#     data = []\n",
    "#     i = 0\n",
    "#     for _key, vals in tqdm(objs, total=1_590_395):\n",
    "#         for frame_id, val in vals.items():\n",
    "#             task, calc, step = frame_id.rsplit('-', maxsplit=2)\n",
    "#             val['structure'] = Structure.from_dict(val['structure'])\n",
    "#             val['calc'] = int(calc)\n",
    "#             val['step'] = int(step)\n",
    "#             data.append(val)\n",
    "#         i += 1\n",
    "#         if i % 4096 == 0:\n",
    "#             df = pd.DataFrame(data)\n",
    "#             df.to_pickle(f'precomputed/mptrj/raw/batch_{i // 4096:04}.pkl')\n",
    "#             data = []\n",
    "#             del df\n",
    "#             gc.collect()\n",
    "\n",
    "\n",
    "# df = pd.DataFrame(data)\n",
    "# df.to_pickle('precomputed/mptrj/raw/batch_last.pkl')\n",
    "# df.head()\n",
    "\n",
    "# print(i)"
   ]
  },
  {
   "cell_type": "code",
   "execution_count": 6,
   "metadata": {},
   "outputs": [
    {
     "data": {
      "text/html": [
       "<div>\n",
       "<style scoped>\n",
       "    .dataframe tbody tr th:only-of-type {\n",
       "        vertical-align: middle;\n",
       "    }\n",
       "\n",
       "    .dataframe tbody tr th {\n",
       "        vertical-align: top;\n",
       "    }\n",
       "\n",
       "    .dataframe thead th {\n",
       "        text-align: right;\n",
       "    }\n",
       "</style>\n",
       "<table border=\"1\" class=\"dataframe\">\n",
       "  <thead>\n",
       "    <tr style=\"text-align: right;\">\n",
       "      <th></th>\n",
       "      <th>structure</th>\n",
       "      <th>uncorrected_total_energy</th>\n",
       "      <th>corrected_total_energy</th>\n",
       "      <th>energy_per_atom</th>\n",
       "      <th>ef_per_atom</th>\n",
       "      <th>e_per_atom_relaxed</th>\n",
       "      <th>ef_per_atom_relaxed</th>\n",
       "      <th>force</th>\n",
       "      <th>stress</th>\n",
       "      <th>magmom</th>\n",
       "      <th>bandgap</th>\n",
       "      <th>mp_id</th>\n",
       "      <th>calc</th>\n",
       "      <th>step</th>\n",
       "    </tr>\n",
       "  </thead>\n",
       "  <tbody>\n",
       "    <tr>\n",
       "      <th>0</th>\n",
       "      <td>[[ 2.993532    3.00460347 33.66932291] Sm, [ 0...</td>\n",
       "      <td>-170.605659</td>\n",
       "      <td>-173.353659</td>\n",
       "      <td>-6.191202</td>\n",
       "      <td>-1.554338</td>\n",
       "      <td>-6.193978</td>\n",
       "      <td>-6.193978</td>\n",
       "      <td>[[0.0, -0.00843286, -0.10743651], [0.0, -0.008...</td>\n",
       "      <td>[[2.42363853, 0.0, 0.0], [0.0, 1.37077983, 0.0...</td>\n",
       "      <td>[0.0, 0.0, 0.0, 0.0, -0.0, -0.0, -0.0, -0.0, 0...</td>\n",
       "      <td>0.0000</td>\n",
       "      <td>mp-1005792</td>\n",
       "      <td>0</td>\n",
       "      <td>0</td>\n",
       "    </tr>\n",
       "    <tr>\n",
       "      <th>1</th>\n",
       "      <td>[[16.23624819  2.99449969  1.00516514] Sm, [1....</td>\n",
       "      <td>-170.639578</td>\n",
       "      <td>-173.387578</td>\n",
       "      <td>-6.192414</td>\n",
       "      <td>-1.555549</td>\n",
       "      <td>-6.193978</td>\n",
       "      <td>-6.193978</td>\n",
       "      <td>[[-0.00645421, 0.0, 0.0034], [-0.00693082, 0.0...</td>\n",
       "      <td>[[1.59962644, 0.0, -0.04357102], [0.0, 0.19720...</td>\n",
       "      <td>None</td>\n",
       "      <td>NaN</td>\n",
       "      <td>mp-1005792</td>\n",
       "      <td>0</td>\n",
       "      <td>1</td>\n",
       "    </tr>\n",
       "    <tr>\n",
       "      <th>2</th>\n",
       "      <td>[[16.22148601  2.99515985  1.00498208] Sm, [1....</td>\n",
       "      <td>-170.637204</td>\n",
       "      <td>-173.385204</td>\n",
       "      <td>-6.192329</td>\n",
       "      <td>-1.555464</td>\n",
       "      <td>-6.193978</td>\n",
       "      <td>-6.193978</td>\n",
       "      <td>[[0.05533164, 0.0, 0.00675507], [-0.04169318, ...</td>\n",
       "      <td>[[1.24970328, 0.0, -0.01879017], [0.0, -0.3692...</td>\n",
       "      <td>None</td>\n",
       "      <td>NaN</td>\n",
       "      <td>mp-1005792</td>\n",
       "      <td>0</td>\n",
       "      <td>0</td>\n",
       "    </tr>\n",
       "    <tr>\n",
       "      <th>3</th>\n",
       "      <td>[[16.2528242   3.00097355  1.00707699] Sm, [1....</td>\n",
       "      <td>-170.622971</td>\n",
       "      <td>-173.370971</td>\n",
       "      <td>-6.191820</td>\n",
       "      <td>-1.554956</td>\n",
       "      <td>-6.193978</td>\n",
       "      <td>-6.193978</td>\n",
       "      <td>[[0.14672701, 0.0, 0.00872373], [-0.14455934, ...</td>\n",
       "      <td>[[-2.11134699, 0.0, -0.04283535], [0.0, -5.017...</td>\n",
       "      <td>None</td>\n",
       "      <td>NaN</td>\n",
       "      <td>mp-1005792</td>\n",
       "      <td>1</td>\n",
       "      <td>1</td>\n",
       "    </tr>\n",
       "    <tr>\n",
       "      <th>4</th>\n",
       "      <td>[[16.14505453  2.98804997  1.00160178] Sm, [1....</td>\n",
       "      <td>-170.607644</td>\n",
       "      <td>-173.355644</td>\n",
       "      <td>-6.191273</td>\n",
       "      <td>-1.554409</td>\n",
       "      <td>-6.193978</td>\n",
       "      <td>-6.193978</td>\n",
       "      <td>[[0.0275199, 0.0, 0.01024312], [0.00798949, 0....</td>\n",
       "      <td>[[11.14696563, 0.0, 0.0416178], [0.0, 7.315004...</td>\n",
       "      <td>None</td>\n",
       "      <td>NaN</td>\n",
       "      <td>mp-1005792</td>\n",
       "      <td>1</td>\n",
       "      <td>0</td>\n",
       "    </tr>\n",
       "    <tr>\n",
       "      <th>...</th>\n",
       "      <td>...</td>\n",
       "      <td>...</td>\n",
       "      <td>...</td>\n",
       "      <td>...</td>\n",
       "      <td>...</td>\n",
       "      <td>...</td>\n",
       "      <td>...</td>\n",
       "      <td>...</td>\n",
       "      <td>...</td>\n",
       "      <td>...</td>\n",
       "      <td>...</td>\n",
       "      <td>...</td>\n",
       "      <td>...</td>\n",
       "      <td>...</td>\n",
       "    </tr>\n",
       "    <tr>\n",
       "      <th>44157</th>\n",
       "      <td>[[-7.58037053 -1.63555485 -9.89154246] In, [-3...</td>\n",
       "      <td>-192.015545</td>\n",
       "      <td>-205.755545</td>\n",
       "      <td>-6.429861</td>\n",
       "      <td>-2.115880</td>\n",
       "      <td>-6.435917</td>\n",
       "      <td>-6.435917</td>\n",
       "      <td>[[-0.21686489, -0.0, -0.10622298], [0.21686489...</td>\n",
       "      <td>[[-10.20949589, 0.0, 1.72239781], [0.0, -14.06...</td>\n",
       "      <td>None</td>\n",
       "      <td>NaN</td>\n",
       "      <td>mp-1212081</td>\n",
       "      <td>1</td>\n",
       "      <td>4</td>\n",
       "    </tr>\n",
       "    <tr>\n",
       "      <th>44158</th>\n",
       "      <td>[[-7.57563483 -1.6358857  -9.89310223] In, [-3...</td>\n",
       "      <td>-192.013440</td>\n",
       "      <td>-205.753440</td>\n",
       "      <td>-6.429795</td>\n",
       "      <td>-2.115814</td>\n",
       "      <td>-6.435917</td>\n",
       "      <td>-6.435917</td>\n",
       "      <td>[[-0.22202529, 0.0, -0.09715492], [0.22202529,...</td>\n",
       "      <td>[[-11.11014908, 0.0, 1.55767313], [0.0, -14.95...</td>\n",
       "      <td>None</td>\n",
       "      <td>NaN</td>\n",
       "      <td>mp-1212081</td>\n",
       "      <td>1</td>\n",
       "      <td>3</td>\n",
       "    </tr>\n",
       "    <tr>\n",
       "      <th>44159</th>\n",
       "      <td>[[-7.52456584 -1.6394541  -9.90992375] In, [-3...</td>\n",
       "      <td>-191.831504</td>\n",
       "      <td>-205.571504</td>\n",
       "      <td>-6.424109</td>\n",
       "      <td>-2.110129</td>\n",
       "      <td>-6.435917</td>\n",
       "      <td>-6.435917</td>\n",
       "      <td>[[-0.35686702, 0.0, 0.05516663], [0.35686702, ...</td>\n",
       "      <td>[[13.25409348, 0.0, -2.93383367], [0.0, -15.55...</td>\n",
       "      <td>None</td>\n",
       "      <td>NaN</td>\n",
       "      <td>mp-1212081</td>\n",
       "      <td>1</td>\n",
       "      <td>2</td>\n",
       "    </tr>\n",
       "    <tr>\n",
       "      <th>44160</th>\n",
       "      <td>[[-7.46388181 -1.605383   -9.77162238] In, [-3...</td>\n",
       "      <td>-190.215766</td>\n",
       "      <td>-203.955766</td>\n",
       "      <td>-6.373618</td>\n",
       "      <td>-2.059637</td>\n",
       "      <td>-6.435917</td>\n",
       "      <td>-6.435917</td>\n",
       "      <td>[[0.8222984, -0.0, 1.11178145], [-0.8222984, -...</td>\n",
       "      <td>[[62.04488377, 0.0, -2.20745964], [0.0, 117.05...</td>\n",
       "      <td>None</td>\n",
       "      <td>NaN</td>\n",
       "      <td>mp-1212081</td>\n",
       "      <td>1</td>\n",
       "      <td>0</td>\n",
       "    </tr>\n",
       "    <tr>\n",
       "      <th>44161</th>\n",
       "      <td>[[1.6301095  7.84587748 0.91224879] In, [ 1.63...</td>\n",
       "      <td>-192.209353</td>\n",
       "      <td>-205.949353</td>\n",
       "      <td>-6.435917</td>\n",
       "      <td>-2.121937</td>\n",
       "      <td>-6.435917</td>\n",
       "      <td>-6.435917</td>\n",
       "      <td>[[-0.0, 0.02504415, -0.04072713], [0.0, -0.025...</td>\n",
       "      <td>[[0.29178599, 0.0, 0.0], [0.0, 0.12219339, 0.0...</td>\n",
       "      <td>[0.0, 0.0, 0.0, 0.0, -0.0, -0.0, -0.0, -0.0, -...</td>\n",
       "      <td>1.9103</td>\n",
       "      <td>mp-1212081</td>\n",
       "      <td>0</td>\n",
       "      <td>0</td>\n",
       "    </tr>\n",
       "  </tbody>\n",
       "</table>\n",
       "<p>44162 rows × 14 columns</p>\n",
       "</div>"
      ],
      "text/plain": [
       "                                               structure  \\\n",
       "0      [[ 2.993532    3.00460347 33.66932291] Sm, [ 0...   \n",
       "1      [[16.23624819  2.99449969  1.00516514] Sm, [1....   \n",
       "2      [[16.22148601  2.99515985  1.00498208] Sm, [1....   \n",
       "3      [[16.2528242   3.00097355  1.00707699] Sm, [1....   \n",
       "4      [[16.14505453  2.98804997  1.00160178] Sm, [1....   \n",
       "...                                                  ...   \n",
       "44157  [[-7.58037053 -1.63555485 -9.89154246] In, [-3...   \n",
       "44158  [[-7.57563483 -1.6358857  -9.89310223] In, [-3...   \n",
       "44159  [[-7.52456584 -1.6394541  -9.90992375] In, [-3...   \n",
       "44160  [[-7.46388181 -1.605383   -9.77162238] In, [-3...   \n",
       "44161  [[1.6301095  7.84587748 0.91224879] In, [ 1.63...   \n",
       "\n",
       "       uncorrected_total_energy  corrected_total_energy  energy_per_atom  \\\n",
       "0                   -170.605659             -173.353659        -6.191202   \n",
       "1                   -170.639578             -173.387578        -6.192414   \n",
       "2                   -170.637204             -173.385204        -6.192329   \n",
       "3                   -170.622971             -173.370971        -6.191820   \n",
       "4                   -170.607644             -173.355644        -6.191273   \n",
       "...                         ...                     ...              ...   \n",
       "44157               -192.015545             -205.755545        -6.429861   \n",
       "44158               -192.013440             -205.753440        -6.429795   \n",
       "44159               -191.831504             -205.571504        -6.424109   \n",
       "44160               -190.215766             -203.955766        -6.373618   \n",
       "44161               -192.209353             -205.949353        -6.435917   \n",
       "\n",
       "       ef_per_atom  e_per_atom_relaxed  ef_per_atom_relaxed  \\\n",
       "0        -1.554338           -6.193978            -6.193978   \n",
       "1        -1.555549           -6.193978            -6.193978   \n",
       "2        -1.555464           -6.193978            -6.193978   \n",
       "3        -1.554956           -6.193978            -6.193978   \n",
       "4        -1.554409           -6.193978            -6.193978   \n",
       "...            ...                 ...                  ...   \n",
       "44157    -2.115880           -6.435917            -6.435917   \n",
       "44158    -2.115814           -6.435917            -6.435917   \n",
       "44159    -2.110129           -6.435917            -6.435917   \n",
       "44160    -2.059637           -6.435917            -6.435917   \n",
       "44161    -2.121937           -6.435917            -6.435917   \n",
       "\n",
       "                                                   force  \\\n",
       "0      [[0.0, -0.00843286, -0.10743651], [0.0, -0.008...   \n",
       "1      [[-0.00645421, 0.0, 0.0034], [-0.00693082, 0.0...   \n",
       "2      [[0.05533164, 0.0, 0.00675507], [-0.04169318, ...   \n",
       "3      [[0.14672701, 0.0, 0.00872373], [-0.14455934, ...   \n",
       "4      [[0.0275199, 0.0, 0.01024312], [0.00798949, 0....   \n",
       "...                                                  ...   \n",
       "44157  [[-0.21686489, -0.0, -0.10622298], [0.21686489...   \n",
       "44158  [[-0.22202529, 0.0, -0.09715492], [0.22202529,...   \n",
       "44159  [[-0.35686702, 0.0, 0.05516663], [0.35686702, ...   \n",
       "44160  [[0.8222984, -0.0, 1.11178145], [-0.8222984, -...   \n",
       "44161  [[-0.0, 0.02504415, -0.04072713], [0.0, -0.025...   \n",
       "\n",
       "                                                  stress  \\\n",
       "0      [[2.42363853, 0.0, 0.0], [0.0, 1.37077983, 0.0...   \n",
       "1      [[1.59962644, 0.0, -0.04357102], [0.0, 0.19720...   \n",
       "2      [[1.24970328, 0.0, -0.01879017], [0.0, -0.3692...   \n",
       "3      [[-2.11134699, 0.0, -0.04283535], [0.0, -5.017...   \n",
       "4      [[11.14696563, 0.0, 0.0416178], [0.0, 7.315004...   \n",
       "...                                                  ...   \n",
       "44157  [[-10.20949589, 0.0, 1.72239781], [0.0, -14.06...   \n",
       "44158  [[-11.11014908, 0.0, 1.55767313], [0.0, -14.95...   \n",
       "44159  [[13.25409348, 0.0, -2.93383367], [0.0, -15.55...   \n",
       "44160  [[62.04488377, 0.0, -2.20745964], [0.0, 117.05...   \n",
       "44161  [[0.29178599, 0.0, 0.0], [0.0, 0.12219339, 0.0...   \n",
       "\n",
       "                                                  magmom  bandgap       mp_id  \\\n",
       "0      [0.0, 0.0, 0.0, 0.0, -0.0, -0.0, -0.0, -0.0, 0...   0.0000  mp-1005792   \n",
       "1                                                   None      NaN  mp-1005792   \n",
       "2                                                   None      NaN  mp-1005792   \n",
       "3                                                   None      NaN  mp-1005792   \n",
       "4                                                   None      NaN  mp-1005792   \n",
       "...                                                  ...      ...         ...   \n",
       "44157                                               None      NaN  mp-1212081   \n",
       "44158                                               None      NaN  mp-1212081   \n",
       "44159                                               None      NaN  mp-1212081   \n",
       "44160                                               None      NaN  mp-1212081   \n",
       "44161  [0.0, 0.0, 0.0, 0.0, -0.0, -0.0, -0.0, -0.0, -...   1.9103  mp-1212081   \n",
       "\n",
       "       calc  step  \n",
       "0         0     0  \n",
       "1         0     1  \n",
       "2         0     0  \n",
       "3         1     1  \n",
       "4         1     0  \n",
       "...     ...   ...  \n",
       "44157     1     4  \n",
       "44158     1     3  \n",
       "44159     1     2  \n",
       "44160     1     0  \n",
       "44161     0     0  \n",
       "\n",
       "[44162 rows x 14 columns]"
      ]
     },
     "execution_count": 6,
     "metadata": {},
     "output_type": "execute_result"
    }
   ],
   "source": [
    "df = pd.read_pickle('precomputed/mptrj/raw/batch_0001.pkl')\n",
    "df"
   ]
  },
  {
   "cell_type": "code",
   "execution_count": 19,
   "metadata": {},
   "outputs": [
    {
     "data": {
      "text/plain": [
       "CrystalData(dataset_i=Array([0], dtype=int32), abc=Array([ 3.991376,  3.999568, 34.82254 ], dtype=float32), angles_rad=Array([1.5707964, 1.5707964, 1.5707964], dtype=float32), lat=Array([[ 3.991376,  0.      ,  0.      ],\n",
       "       [ 0.      ,  3.999568,  0.      ],\n",
       "       [ 0.      ,  0.      , 34.82254 ]], dtype=float32), e_form=Array([-6.191202], dtype=float32), bandgap=Array([0.], dtype=float32), e_total=Array([-173.35365], dtype=float32), ehull=Array([], shape=(0,), dtype=float32), dimensionality=Array([], shape=(0,), dtype=float32), density=Array([], shape=(0,), dtype=float32), space_group=Array([], shape=(0,), dtype=float32), magmom=Array([], shape=(0,), dtype=float32), num_spec=Array([4], dtype=int32))"
      ]
     },
     "execution_count": 19,
     "metadata": {},
     "output_type": "execute_result"
    }
   ],
   "source": [
    "from cdv.databatch import CrystalGraphs, CrystalData, EdgeData, NodeData\n",
    "from pymatgen.core import Structure\n",
    "batch_i = 1\n",
    "i = 0\n",
    "row = df.iloc[i]\n",
    "struct: Structure = row['structure']\n",
    "\n",
    "data = CrystalData(\n",
    "    dataset_i=jnp.array([(batch_i - 1) * 4096 + i]),\n",
    "    abc=jnp.array(struct.lattice.abc),\n",
    "    angles_rad=jnp.deg2rad(jnp.array(struct.lattice.angles)),\n",
    "    lat=jnp.array(struct.lattice.matrix),\n",
    "    e_form=jnp.array([row['energy_per_atom']]),\n",
    "    bandgap=jnp.array([row['bandgap']]),\n",
    "    e_total=jnp.array([row['corrected_total_energy']]),\n",
    "    ehull=jnp.array([]),\n",
    "    dimensionality=jnp.array([]),\n",
    "    density=jnp.array([]),\n",
    "    space_group=jnp.array([]),\n",
    "    magmom=jnp.array([]),\n",
    "    num_spec=jnp.array([len(struct.composition.get_el_amt_dict())])\n",
    ")\n",
    "\n",
    "data"
   ]
  },
  {
   "cell_type": "code",
   "execution_count": 67,
   "metadata": {},
   "outputs": [
    {
     "data": {
      "text/plain": [
       "[[2.42363853, 0.0, 0.0], [0.0, 1.37077983, 0.0], [0.0, 0.0, -2.01769061]]"
      ]
     },
     "execution_count": 67,
     "metadata": {},
     "output_type": "execute_result"
    }
   ],
   "source": [
    "row['stress']"
   ]
  },
  {
   "cell_type": "code",
   "execution_count": 15,
   "metadata": {},
   "outputs": [
    {
     "data": {
      "text/plain": [
       "{'Sm': 8.0, 'Cu': 4.0, 'As': 12.0, 'O': 4.0}"
      ]
     },
     "execution_count": 15,
     "metadata": {},
     "output_type": "execute_result"
    }
   ],
   "source": [
    "row['structure'].composition.get_el_amt_dict()"
   ]
  },
  {
   "cell_type": "code",
   "execution_count": 53,
   "metadata": {},
   "outputs": [
    {
     "data": {
      "text/plain": [
       "(28, 16, 3)"
      ]
     },
     "execution_count": 53,
     "metadata": {},
     "output_type": "execute_result"
    }
   ],
   "source": [
    "def knn_graph(struct: Structure, r_start=8, k=16):\n",
    "    \"\"\"returns (ijs, ims)\n",
    "    ijs: nodes k\n",
    "    ims: nodes k 3\"\"\"\n",
    "    graph_ijs = []\n",
    "    graph_ims = []\n",
    "    r = r_start\n",
    "    for i, nbs in enumerate(struct.get_all_neighbors(r)):\n",
    "        sites, dists, idxs, ims = zip(*nbs)\n",
    "        if len(dists) < k:\n",
    "            print('Not enough neighbors, using r =', 2 * r_start)\n",
    "            return knn_graph(struct, r_start=r * 2, k=k)\n",
    "        \n",
    "        chosen = np.argsort(dists)[:k]\n",
    "\n",
    "        graph_ijs.append(np.array(idxs)[chosen])\n",
    "        graph_ims.append(np.array(ims)[chosen])\n",
    "\n",
    "    graph_ijs = np.stack(graph_ijs).astype(np.uint16)\n",
    "    graph_ims = np.stack(graph_ims).astype(np.int8)\n",
    "\n",
    "    return graph_ijs, graph_ims\n",
    "\n",
    "ijs, ims = knn_graph(struct)\n",
    "ims.shape"
   ]
  },
  {
   "cell_type": "code",
   "execution_count": 59,
   "metadata": {},
   "outputs": [
    {
     "data": {
      "text/plain": [
       "<seaborn.axisgrid.FacetGrid at 0x7f5022c03fe0>"
      ]
     },
     "execution_count": 59,
     "metadata": {},
     "output_type": "execute_result"
    },
    {
     "data": {
      "image/png": "[encoded data removed]",
      "text/plain": [
       "<Figure size 500x500 with 1 Axes>"
      ]
     },
     "metadata": {},
     "output_type": "display_data"
    }
   ],
   "source": [
    "sns.displot(df.groupby('mp_id').count()['structure'], discrete=True)"
   ]
  },
  {
   "cell_type": "code",
   "execution_count": 66,
   "metadata": {},
   "outputs": [
    {
     "data": {
      "image/png": "[encoded data removed]",
      "text/plain": [
       "<Figure size 800x600 with 1 Axes>"
      ]
     },
     "metadata": {},
     "output_type": "display_data"
    }
   ],
   "source": [
    "df['num_atoms'] = [s.num_sites for s in df['structure']]\n",
    "sns.histplot(df['num_atoms'], discrete=True)\n",
    "rp.smart_ticks()"
   ]
  },
  {
   "cell_type": "code",
   "execution_count": null,
   "metadata": {},
   "outputs": [],
   "source": [
    "\n"
   ]
  }
 ],
 "metadata": {
  "kernelspec": {
   "display_name": "avid",
   "language": "python",
   "name": "python3"
  },
  "language_info": {
   "codemirror_mode": {
    "name": "ipython",
    "version": 3
   },
   "file_extension": ".py",
   "mimetype": "text/x-python",
   "name": "python",
   "nbconvert_exporter": "python",
   "pygments_lexer": "ipython3",
   "version": "3.12.0"
  }
 },
 "nbformat": 4,
 "nbformat_minor": 2
}
