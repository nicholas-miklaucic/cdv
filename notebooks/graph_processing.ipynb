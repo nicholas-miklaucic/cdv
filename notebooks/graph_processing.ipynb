{
 "cells": [
  {
   "cell_type": "code",
   "execution_count": 1,
   "metadata": {},
   "outputs": [],
   "source": [
    "import numpy as np\n",
    "import jax.numpy as jnp\n",
    "\n",
    "import jax\n",
    "import pandas as pd\n",
    "import plotly.express as px\n",
    "import matplotlib.pyplot as plt\n",
    "import seaborn as sns\n",
    "import rho_plus as rp\n",
    "\n",
    "is_dark = True\n",
    "theme, cs = rp.mpl_setup(is_dark)\n",
    "rp.plotly_setup(is_dark)"
   ]
  },
  {
   "cell_type": "code",
   "execution_count": 2,
   "metadata": {},
   "outputs": [
    {
     "name": "stdout",
     "output_type": "stream",
     "text": [
      "/home/nmiklaucic/cdv\n"
     ]
    }
   ],
   "source": [
    "%cd ~/cdv"
   ]
  },
  {
   "cell_type": "code",
   "execution_count": 3,
   "metadata": {},
   "outputs": [
    {
     "data": {
      "text/html": [
       "<div>\n",
       "<style scoped>\n",
       "    .dataframe tbody tr th:only-of-type {\n",
       "        vertical-align: middle;\n",
       "    }\n",
       "\n",
       "    .dataframe tbody tr th {\n",
       "        vertical-align: top;\n",
       "    }\n",
       "\n",
       "    .dataframe thead th {\n",
       "        text-align: right;\n",
       "    }\n",
       "</style>\n",
       "<table border=\"1\" class=\"dataframe\">\n",
       "  <thead>\n",
       "    <tr style=\"text-align: right;\">\n",
       "      <th></th>\n",
       "      <th>space_group</th>\n",
       "      <th>formula</th>\n",
       "      <th>e_form</th>\n",
       "      <th>bandgap</th>\n",
       "      <th>atoms</th>\n",
       "      <th>e_total</th>\n",
       "      <th>ehull</th>\n",
       "      <th>dimensionality</th>\n",
       "      <th>density</th>\n",
       "      <th>num_atoms</th>\n",
       "      <th>num_spec</th>\n",
       "      <th>magmom</th>\n",
       "    </tr>\n",
       "  </thead>\n",
       "  <tbody>\n",
       "    <tr>\n",
       "      <th>0</th>\n",
       "      <td>129</td>\n",
       "      <td>(Ti, Cu, Si, As)</td>\n",
       "      <td>-0.42762</td>\n",
       "      <td>0.0</td>\n",
       "      <td>[[2.67519992 2.67519992 7.37609819] Ti, [0.891...</td>\n",
       "      <td>-3.37474</td>\n",
       "      <td>0.0423</td>\n",
       "      <td>3D-bulk</td>\n",
       "      <td>5.956</td>\n",
       "      <td>8</td>\n",
       "      <td>4</td>\n",
       "      <td>0.000</td>\n",
       "    </tr>\n",
       "    <tr>\n",
       "      <th>1</th>\n",
       "      <td>221</td>\n",
       "      <td>(Dy, B)</td>\n",
       "      <td>-0.41596</td>\n",
       "      <td>0.0</td>\n",
       "      <td>[[0. 0. 0.] Dy, [0.81214866 2.04453946 2.04453...</td>\n",
       "      <td>-5.79186</td>\n",
       "      <td>0.0456</td>\n",
       "      <td>3D-bulk</td>\n",
       "      <td>5.522</td>\n",
       "      <td>7</td>\n",
       "      <td>2</td>\n",
       "      <td>0.000</td>\n",
       "    </tr>\n",
       "    <tr>\n",
       "      <th>2</th>\n",
       "      <td>119</td>\n",
       "      <td>(Be, Os, Ru)</td>\n",
       "      <td>0.04847</td>\n",
       "      <td>0.0</td>\n",
       "      <td>[[0. 0. 0.] Be, [1.83359072 0.         1.74248...</td>\n",
       "      <td>-4.65924</td>\n",
       "      <td>0.3183</td>\n",
       "      <td>intercalated ion</td>\n",
       "      <td>10.960</td>\n",
       "      <td>4</td>\n",
       "      <td>3</td>\n",
       "      <td>0.000</td>\n",
       "    </tr>\n",
       "    <tr>\n",
       "      <th>4</th>\n",
       "      <td>164</td>\n",
       "      <td>(V, Se)</td>\n",
       "      <td>-0.71026</td>\n",
       "      <td>0.0</td>\n",
       "      <td>[[0. 0. 0.] V, [ 1.67774838 -0.96865035  4.652...</td>\n",
       "      <td>-3.87823</td>\n",
       "      <td>0.0156</td>\n",
       "      <td>2D-bulk</td>\n",
       "      <td>5.718</td>\n",
       "      <td>3</td>\n",
       "      <td>2</td>\n",
       "      <td>0.000</td>\n",
       "    </tr>\n",
       "    <tr>\n",
       "      <th>5</th>\n",
       "      <td>62</td>\n",
       "      <td>(Tb, Mn, Si)</td>\n",
       "      <td>-0.45468</td>\n",
       "      <td>0.0</td>\n",
       "      <td>[[1.03935903 3.52971335 1.38135171] Tb, [3.118...</td>\n",
       "      <td>-4.35889</td>\n",
       "      <td>0.0817</td>\n",
       "      <td>3D-bulk</td>\n",
       "      <td>7.410</td>\n",
       "      <td>12</td>\n",
       "      <td>3</td>\n",
       "      <td>8.916</td>\n",
       "    </tr>\n",
       "    <tr>\n",
       "      <th>...</th>\n",
       "      <td>...</td>\n",
       "      <td>...</td>\n",
       "      <td>...</td>\n",
       "      <td>...</td>\n",
       "      <td>...</td>\n",
       "      <td>...</td>\n",
       "      <td>...</td>\n",
       "      <td>...</td>\n",
       "      <td>...</td>\n",
       "      <td>...</td>\n",
       "      <td>...</td>\n",
       "      <td>...</td>\n",
       "    </tr>\n",
       "    <tr>\n",
       "      <th>75980</th>\n",
       "      <td>164</td>\n",
       "      <td>(Nd, Mg, Sb)</td>\n",
       "      <td>-0.69038</td>\n",
       "      <td>0.0</td>\n",
       "      <td>[[0. 0. 0.] Nd, [2.3394364  1.35070495 2.69383...</td>\n",
       "      <td>-1.53096</td>\n",
       "      <td>0.0000</td>\n",
       "      <td>3D-bulk</td>\n",
       "      <td>5.116</td>\n",
       "      <td>5</td>\n",
       "      <td>3</td>\n",
       "      <td>0.000</td>\n",
       "    </tr>\n",
       "    <tr>\n",
       "      <th>75983</th>\n",
       "      <td>216</td>\n",
       "      <td>(Yb, Pr, Pd)</td>\n",
       "      <td>-0.56635</td>\n",
       "      <td>0.0</td>\n",
       "      <td>[[5.25036997 5.25036997 5.25036997] Yb, [1.750...</td>\n",
       "      <td>-1.70796</td>\n",
       "      <td>0.0000</td>\n",
       "      <td>3D-bulk</td>\n",
       "      <td>8.139</td>\n",
       "      <td>3</td>\n",
       "      <td>3</td>\n",
       "      <td>0.000</td>\n",
       "    </tr>\n",
       "    <tr>\n",
       "      <th>75984</th>\n",
       "      <td>216</td>\n",
       "      <td>(Tb, Tl, Zn)</td>\n",
       "      <td>-0.29921</td>\n",
       "      <td>0.0</td>\n",
       "      <td>[[1.66349368 1.66349368 1.66349368] Tb, [4.990...</td>\n",
       "      <td>0.05135</td>\n",
       "      <td>0.0000</td>\n",
       "      <td>3D-bulk</td>\n",
       "      <td>9.666</td>\n",
       "      <td>3</td>\n",
       "      <td>3</td>\n",
       "      <td>0.000</td>\n",
       "    </tr>\n",
       "    <tr>\n",
       "      <th>75989</th>\n",
       "      <td>216</td>\n",
       "      <td>(Pr, Tl, Zn)</td>\n",
       "      <td>-0.34112</td>\n",
       "      <td>0.0</td>\n",
       "      <td>[[1.71052992 1.71052992 1.71052992] Pr, [5.131...</td>\n",
       "      <td>-0.10696</td>\n",
       "      <td>0.0000</td>\n",
       "      <td>3D-bulk</td>\n",
       "      <td>8.517</td>\n",
       "      <td>3</td>\n",
       "      <td>3</td>\n",
       "      <td>0.000</td>\n",
       "    </tr>\n",
       "    <tr>\n",
       "      <th>75990</th>\n",
       "      <td>139</td>\n",
       "      <td>(Ba, In, Bi)</td>\n",
       "      <td>-0.39352</td>\n",
       "      <td>0.0</td>\n",
       "      <td>[[0. 0. 0.] Ba, [4.08371684e+00 4.44089210e-16...</td>\n",
       "      <td>-0.54683</td>\n",
       "      <td>0.0000</td>\n",
       "      <td>intercalated ion</td>\n",
       "      <td>7.460</td>\n",
       "      <td>5</td>\n",
       "      <td>3</td>\n",
       "      <td>0.000</td>\n",
       "    </tr>\n",
       "  </tbody>\n",
       "</table>\n",
       "<p>61786 rows × 12 columns</p>\n",
       "</div>"
      ],
      "text/plain": [
       "       space_group           formula   e_form  bandgap  \\\n",
       "0              129  (Ti, Cu, Si, As) -0.42762      0.0   \n",
       "1              221           (Dy, B) -0.41596      0.0   \n",
       "2              119      (Be, Os, Ru)  0.04847      0.0   \n",
       "4              164           (V, Se) -0.71026      0.0   \n",
       "5               62      (Tb, Mn, Si) -0.45468      0.0   \n",
       "...            ...               ...      ...      ...   \n",
       "75980          164      (Nd, Mg, Sb) -0.69038      0.0   \n",
       "75983          216      (Yb, Pr, Pd) -0.56635      0.0   \n",
       "75984          216      (Tb, Tl, Zn) -0.29921      0.0   \n",
       "75989          216      (Pr, Tl, Zn) -0.34112      0.0   \n",
       "75990          139      (Ba, In, Bi) -0.39352      0.0   \n",
       "\n",
       "                                                   atoms  e_total   ehull  \\\n",
       "0      [[2.67519992 2.67519992 7.37609819] Ti, [0.891... -3.37474  0.0423   \n",
       "1      [[0. 0. 0.] Dy, [0.81214866 2.04453946 2.04453... -5.79186  0.0456   \n",
       "2      [[0. 0. 0.] Be, [1.83359072 0.         1.74248... -4.65924  0.3183   \n",
       "4      [[0. 0. 0.] V, [ 1.67774838 -0.96865035  4.652... -3.87823  0.0156   \n",
       "5      [[1.03935903 3.52971335 1.38135171] Tb, [3.118... -4.35889  0.0817   \n",
       "...                                                  ...      ...     ...   \n",
       "75980  [[0. 0. 0.] Nd, [2.3394364  1.35070495 2.69383... -1.53096  0.0000   \n",
       "75983  [[5.25036997 5.25036997 5.25036997] Yb, [1.750... -1.70796  0.0000   \n",
       "75984  [[1.66349368 1.66349368 1.66349368] Tb, [4.990...  0.05135  0.0000   \n",
       "75989  [[1.71052992 1.71052992 1.71052992] Pr, [5.131... -0.10696  0.0000   \n",
       "75990  [[0. 0. 0.] Ba, [4.08371684e+00 4.44089210e-16... -0.54683  0.0000   \n",
       "\n",
       "         dimensionality  density  num_atoms  num_spec  magmom  \n",
       "0               3D-bulk    5.956          8         4   0.000  \n",
       "1               3D-bulk    5.522          7         2   0.000  \n",
       "2      intercalated ion   10.960          4         3   0.000  \n",
       "4               2D-bulk    5.718          3         2   0.000  \n",
       "5               3D-bulk    7.410         12         3   8.916  \n",
       "...                 ...      ...        ...       ...     ...  \n",
       "75980           3D-bulk    5.116          5         3   0.000  \n",
       "75983           3D-bulk    8.139          3         3   0.000  \n",
       "75984           3D-bulk    9.666          3         3   0.000  \n",
       "75989           3D-bulk    8.517          3         3   0.000  \n",
       "75990  intercalated ion    7.460          5         3   0.000  \n",
       "\n",
       "[61786 rows x 12 columns]"
      ]
     },
     "execution_count": 3,
     "metadata": {},
     "output_type": "execute_result"
    }
   ],
   "source": [
    "clean = pd.read_pickle('precomputed/jarvis_dft3d_cleaned/dataframe.pkl')\n",
    "clean"
   ]
  },
  {
   "cell_type": "code",
   "execution_count": 4,
   "metadata": {},
   "outputs": [
    {
     "name": "stdout",
     "output_type": "stream",
     "text": [
      "K Rb Ba Na Sr Li Ca La Tb Yb Ce Pr Nd Sm Dy Y Ho Er Tm Hf Mg Zr Sc U Ta Ti Mn Be Nb Al Tl V Zn Cr Cd In Ga Fe Co Cu Si Ni Ag Sn Hg Ge Bi B Sb Te Mo As P H Ir Os Pd Ru Pt Rh Pb W Au C Se S I Br N Cl O F\n"
     ]
    }
   ],
   "source": [
    "elements = set()\n",
    "for struct in clean['atoms']:\n",
    "    elements.update(set(struct.elements))\n",
    "\n",
    "print(' '.join([e.symbol for e in sorted(elements)]))\n",
    "# print(elements)\n",
    "# print({e.symbol: (e.average_ionic_radius, e.atomic_radius) for e in elements})"
   ]
  },
  {
   "cell_type": "code",
   "execution_count": 5,
   "metadata": {},
   "outputs": [],
   "source": [
    "cutoff = 7.0\n",
    "max_num_neighbors = 20\n",
    "\n",
    "graphs = []\n",
    "\n",
    "def radius_graph(struct):\n",
    "    graph_ijs = []\n",
    "    graph_ims = []\n",
    "\n",
    "    for i, nbs in enumerate(struct.get_all_neighbors(cutoff)):\n",
    "        if nbs:\n",
    "            sites, dists, idxs, ims = zip(*nbs)\n",
    "            # select the first max_num_neighbors\n",
    "            chosen = np.argsort(dists)[:max_num_neighbors]\n",
    "\n",
    "            graph_ijs.append(np.vstack([np.ones_like(chosen) * i, np.array(idxs)[chosen]]))\n",
    "            graph_ims.append(np.array(ims)[chosen])\n",
    "\n",
    "    if graph_ijs:\n",
    "        graph_ijs = np.concatenate(graph_ijs, axis=1).T.astype(np.uint16)\n",
    "        graph_ims = np.concatenate(graph_ims).astype(np.int8)\n",
    "\n",
    "        return graph_ijs, graph_ims\n",
    "    else:\n",
    "        # no atoms: return the empty list, filter it out later\n",
    "        return np.array([]).astype(np.uint16), np.array([]).astype(np.int8)"
   ]
  },
  {
   "cell_type": "code",
   "execution_count": 6,
   "metadata": {},
   "outputs": [
    {
     "name": "stderr",
     "output_type": "stream",
     "text": [
      "/home/nmiklaucic/miniconda3/envs/avid/lib/python3.12/multiprocessing/popen_fork.py:66: RuntimeWarning: os.fork() was called. os.fork() is incompatible with multithreaded code, and JAX is multithreaded, so this will likely lead to a deadlock.\n",
      "  self.pid = os.fork()\n"
     ]
    }
   ],
   "source": [
    "from multiprocessing import Pool\n",
    "import warnings\n",
    "\n",
    "warnings.simplefilter('ignore', category=UserWarning)\n",
    "\n",
    "with Pool(processes=32) as P:\n",
    "    graphs = P.map(radius_graph, clean['atoms'])"
   ]
  },
  {
   "cell_type": "code",
   "execution_count": null,
   "metadata": {},
   "outputs": [],
   "source": [
    "# from pymatgen.core import Structure\n",
    "# from pymatgen.analysis.graphs import StructureGraph\n",
    "# from pymatgen.analysis.local_env import CrystalNN\n",
    "# from tqdm import tqdm\n",
    "# import warnings\n",
    "# nn = CrystalNN()\n",
    "\n",
    "# from multiprocessing import Pool\n",
    "\n",
    "# warnings.simplefilter('ignore', category=UserWarning)\n",
    "\n",
    "# with Pool(processes=48) as P:\n",
    "#     graphs = P.map(nn.get_bonded_structure, clean['atoms'])"
   ]
  },
  {
   "cell_type": "code",
   "execution_count": 7,
   "metadata": {},
   "outputs": [
    {
     "name": "stdout",
     "output_type": "stream",
     "text": [
      "Saving...\n"
     ]
    }
   ],
   "source": [
    "import pickle\n",
    "\n",
    "if 'graphs' in globals() or 'graphs' in locals():\n",
    "    print('Saving...')\n",
    "    with open('precomputed/jarvis_dft3d_cleaned/graphs.pkl', 'wb') as out:\n",
    "        pickle.dump(graphs, out)\n",
    "else:\n",
    "    print('Loading...')\n",
    "    with open('precomputed/jarvis_dft3d_cleaned/graphs.pkl', 'rb') as out:\n",
    "        graphs = pickle.load(out)"
   ]
  },
  {
   "cell_type": "markdown",
   "metadata": {},
   "source": [
    "We want to split the samples into batches. Because Jax needs fixed shapes, we're going to pad\n",
    "batches to the same number of nodes and edges. This means that we want to sort into batches such\n",
    "that the max number of edges in a batch is minimized, ideally just below a power of 2. That's what\n",
    "the below code does.\n",
    "\n",
    "It's also nice if the number of batches splits cleanly."
   ]
  },
  {
   "cell_type": "code",
   "execution_count": 9,
   "metadata": {},
   "outputs": [
    {
     "name": "stdout",
     "output_type": "stream",
     "text": [
      "   1\t   0\t2^1\t30893^1\n",
      "   3\t   1\t3^2\t5^1\t1373^1\n",
      "   7\t   4\t2^1\t3^1\t7^1\t1471^1\n",
      "  15\t   1\t3^2\t5^1\t1373^1\n",
      "  31\t   3\t31^1\t1993^1\n",
      "  63\t  46\t2^2\t3^2\t5^1\t7^3\n",
      " 127\t  64\t2^1\t3^5\t127^1\n",
      " 255\t  76\t2^1\t3^1\t5^1\t11^2\t17^1\n",
      " 511\t 466\t2^3\t3^1\t5^1\t7^1\t73^1\n",
      "1023\t 406\t2^2\t3^2\t5^1\t11^1\t31^1\n"
     ]
    }
   ],
   "source": [
    "from sympy import factorint\n",
    "n_data = len(clean.index)\n",
    "for power in range(1, 11):\n",
    "    bs = 2 ** power - 1\n",
    "    rem = n_data % bs\n",
    "    factorstr = '\\t'.join((f'{k}^{v}' for k, v in factorint(n_data - rem).items()))\n",
    "    print(f'{bs:>4}\\t{rem:>4}\\t{factorstr}')"
   ]
  },
  {
   "cell_type": "code",
   "execution_count": 46,
   "metadata": {},
   "outputs": [],
   "source": [
    "batch_size = 62"
   ]
  },
  {
   "cell_type": "code",
   "execution_count": 59,
   "metadata": {},
   "outputs": [
    {
     "name": "stderr",
     "output_type": "stream",
     "text": [
      "100%|██████████| 1/1 [00:00<00:00,  1.51it/s]"
     ]
    },
    {
     "name": "stdout",
     "output_type": "stream",
     "text": [
      "[504 504 504 503 503 503 503 503 503 503 503 503 503 503 503 503 503 503\n",
      " 503 503 503 503 503 503 503 503 503 503 503 503 503 503 503 503 503 503\n",
      " 502 502 502 502 502 502 502 502 502 502 502 502 502 502 502 502 502 502\n",
      " 502 502 502 502 502 502 502 502 502 502 502 502 502 502 502 502 502 502\n",
      " 502 502 502 502 502 502 502 502 502 502 502 502 502 502 502 502 502 502\n",
      " 502 502 502 502 502 502 502 502 502 502 502 502 502 502 502 502 502 502\n",
      " 502 502 502 502 502 502 502 502 502 502 502 502 502 502 502 502 502 502\n",
      " 502 502 502 502 502 502 502 502 502 502 502 502 502 502 502 502 502 502\n",
      " 502 502 502 502 502 502 502 502 502 502 502 502 502 502 502 502 502 502\n",
      " 502 502 502 502 502 502 502 502 502 502 502 502 502 502 502 501 501 501\n",
      " 501 501 501 501 501 501 501 501 501 501 501 501 501 501 501 501 501 501\n",
      " 501 501 501 501 501 501 501 501 501 501 501 501 501 501 501 501 501 501\n",
      " 501 501 501 501 501 501 501 501 501 501 501 501 501 501 501 501 501 501\n",
      " 501 501 501 501 501 501 501 501 501 501 501 501 501 501 501 501 501 501\n",
      " 501 501 501 501 501 501 501 501 501 501 501 501 501 501 501 501 501 501\n",
      " 501 501 501 501 501 501 501 501 501 501 501 501 501 501 501 501 501 501\n",
      " 501 501 501 501 501 501 501 501 501 501 501 501 501 501 501 501 501 501\n",
      " 501 501 501 501 501 501 501 501 501 501 501 501 501 501 501 501 501 501\n",
      " 501 501 501 501 501 501 501 501 501 501 501 501 501 501 501 501 501 501\n",
      " 501 501 501 501 501 501 501 501 501 501 501 501 501 501 501 501 501 501\n",
      " 501 501 501 501 501 501 501 501 501 501 501 501 501 501 501 501 501 501\n",
      " 501 501 501 501 501 501 501 501 501 501 501 501 501 501 501 501 501 501\n",
      " 501 501 501 501 501 501 501 501 501 501 501 501 501 501 501 501 501 501\n",
      " 501 501 501 501 501 501 501 501 501 501 501 501 501 501 501 501 501 501\n",
      " 501 501 501 501 501 501 501 501 501 501 501 501 501 501 501 501 501 501\n",
      " 501 501 501 501 501 501 501 501 501 501 501 501 501 501 501 501 501 501\n",
      " 501 501 501 501 501 501 501 501 501 501 501 501 501 501 501 501 501 501\n",
      " 501 501 501 501 501 501 501 501 501 501 501 501 501 501 501 501 501 501\n",
      " 501 501 501 501 501 501 501 501 501 501 501 501 501 501 501 501 501 501\n",
      " 501 501 501 501 501 501 501 501 501 501 501 501 501 501 501 501 501 501\n",
      " 501 501 501 501 501 501 501 501 501 501 501 501 501 501 501 501 501 501\n",
      " 501 501 501 501 501 501 501 501 501 501 501 501 501 501 501 501 501 501\n",
      " 501 501 501 501 501 501 501 501 501 501 501 501 501 501 501 501 501 501\n",
      " 501 501 501 501 501 501 501 501 501 501 501 501 501 501 501 501 501 501\n",
      " 501 501 501 501 501 501 501 501 501 501 501 501 501 501 501 501 501 501\n",
      " 501 501 501 501 501 501 501 501 501 501 501 501 501 501 501 501 501 501\n",
      " 501 501 501 501 501 501 501 501 501 501 501 501 501 501 501 501 501 501\n",
      " 501 501 501 501 501 501 501 501 501 501 501 501 501 501 501 501 501 501\n",
      " 501 501 501 501 501 501 501 501 501 501 501 501 501 501 501 501 501 501\n",
      " 501 501 501 501 501 501 501 501 501 501 501 501 501 501 501 501 501 501\n",
      " 501 501 501 501 501 501 501 501 501 501 501 501 501 501 501 501 501 501\n",
      " 501 501 501 501 501 501 501 501 501 501 501 501 501 501 501 501 501 501\n",
      " 501 501 501 501 501 501 501 501 501 501 501 501 501 501 501 501 501 501\n",
      " 501 501 501 501 501 501 501 501 501 501 501 501 501 501 501 501 501 501\n",
      " 501 501 501 501 501 501 501 501 501 501 501 501 501 501 501 501 501 501\n",
      " 501 501 501 501 501 501 501 501 501 501 501 501 501 501 501 501 501 501\n",
      " 501 501 501 501 501 501 501 501 501 501 501 501 501 501 501 501 501 501\n",
      " 501 501 501 501 501 501 501 501 501 501 501 501 501 501 501 501 501 501\n",
      " 501 501 501 501 501 501 501 501 501 501 501 501 501 501 501 501 501 501\n",
      " 501 501 501 501 501 501 501 501 501 501 501 501 501 501 501 501 501 501\n",
      " 501 501 501 501 501 501 501 501 501 501 501 501 501 501 501 501 501 501\n",
      " 501 501 501 501 501 501 501 501 501 501 501 501 501 501 501 501 501 501\n",
      " 501 501 501 501 501 501 501 501 501 501 501 501 501 501 501 501 501 501\n",
      " 501 501 501 501 501 501 501 501 501 501 501 501 501 501 501 501 501 501\n",
      " 501 501 501 501 501 501 501 501 501 501 501 501 501 501 501 501 501 501\n",
      " 501 501 501 501 501 501]\n"
     ]
    },
    {
     "name": "stderr",
     "output_type": "stream",
     "text": [
      "\n"
     ]
    }
   ],
   "source": [
    "from tqdm import tqdm\n",
    "import functools as ft\n",
    "\n",
    "graph_inds = np.array([i for i in range(len(graphs)) if len(graphs[i][0]) > 0])\n",
    "\n",
    "if hasattr(graphs[0], 'graph'):\n",
    "    # using networkx\n",
    "    # each edge is split into 2 directed edges\n",
    "    sizes = np.array([(len(g.graph.nodes), 2 * len(g.graph.edges)) for g in graphs[:-3]])\n",
    "else:\n",
    "    # using custom arrays\n",
    "    sizes = np.array([(np.max(ijs) + 1, ijs.shape[0]) for ijs, ims in graphs if len(ijs) > 0])\n",
    "\n",
    "def get_parts(numbers, batch, chunk_size):    \n",
    "    # assert len(numbers) % (batch * chunk_size) == 0\n",
    "    n_batches = len(numbers) // batch\n",
    "    parts = np.zeros((batch, n_batches), dtype=jnp.int32)\n",
    "    part_sizes = np.array([0 for _ in range(n_batches)])\n",
    "    \n",
    "    chunk_i = 0\n",
    "    for sample_is in tqdm(np.argsort(-numbers).reshape(batch // chunk_size, chunk_size * n_batches)):\n",
    "        sample_sizes = numbers[sample_is]\n",
    "        n_filled = np.zeros((n_batches,), dtype=jnp.int32)\n",
    "        for sample_i, sample_size in zip(sample_is, sample_sizes):\n",
    "            next_i = np.argmin(part_sizes + 10000 * (n_filled == chunk_size))\n",
    "            parts[chunk_i * chunk_size + n_filled[next_i], next_i] += sample_i\n",
    "            n_filled[next_i] += 1\n",
    "            part_sizes[next_i] += sample_size\n",
    "        chunk_i += 1\n",
    "\n",
    "    return parts, part_sizes\n",
    "\n",
    "# TODO in the future we should probably pad instead of cutting, but at this point it's fine\n",
    "num_remove = sizes.shape[0] % batch_size\n",
    "\n",
    "parts, part_sizes = get_parts(sizes[:-num_remove, 0], batch_size, batch_size)\n",
    "parts_orig_i = graph_inds[parts]\n",
    "print(part_sizes)"
   ]
  },
  {
   "cell_type": "code",
   "execution_count": 60,
   "metadata": {},
   "outputs": [
    {
     "name": "stdout",
     "output_type": "stream",
     "text": [
      "62\n",
      "504 \t 512\n",
      "10080 \t 10096\n"
     ]
    }
   ],
   "source": [
    "print(batch_size)\n",
    "for ax in (0, 1):\n",
    "    max_size = max(jnp.take(sizes[:, ax], parts).sum(axis=0))\n",
    "\n",
    "    # pad to multiple of 64 for tensor cores\n",
    "    pad_size = max_size + 16 - (max_size % 16)\n",
    "    print(max_size, '\\t', pad_size)"
   ]
  },
  {
   "cell_type": "code",
   "execution_count": 61,
   "metadata": {},
   "outputs": [],
   "source": [
    "jnp.save('precomputed/jarvis_dft3d_cleaned/batches.npy', parts_orig_i)"
   ]
  },
  {
   "cell_type": "code",
   "execution_count": null,
   "metadata": {},
   "outputs": [],
   "source": [
    "recv = jnp.array([4, 1, 1, 2, 2, 3])\n",
    "edge = jnp.array([0, 2, 3, 1, 1, 4])\n",
    "nodes = jnp.array([4, 3, 2, 1, 0])"
   ]
  },
  {
   "cell_type": "code",
   "execution_count": null,
   "metadata": {},
   "outputs": [],
   "source": [
    "jax.ops.segment_sum(recv, edge)"
   ]
  },
  {
   "cell_type": "code",
   "execution_count": null,
   "metadata": {},
   "outputs": [],
   "source": [
    "'{:.4g}'.format(3.14159)"
   ]
  },
  {
   "cell_type": "code",
   "execution_count": null,
   "metadata": {},
   "outputs": [],
   "source": [
    "np.array([0]).dtype.kind"
   ]
  },
  {
   "cell_type": "code",
   "execution_count": null,
   "metadata": {},
   "outputs": [],
   "source": []
  }
 ],
 "metadata": {
  "kernelspec": {
   "display_name": "avid",
   "language": "python",
   "name": "python3"
  },
  "language_info": {
   "codemirror_mode": {
    "name": "ipython",
    "version": 3
   },
   "file_extension": ".py",
   "mimetype": "text/x-python",
   "name": "python",
   "nbconvert_exporter": "python",
   "pygments_lexer": "ipython3",
   "version": "3.12.0"
  }
 },
 "nbformat": 4,
 "nbformat_minor": 2
}
