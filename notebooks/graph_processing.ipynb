{
 "cells": [
  {
   "cell_type": "code",
   "execution_count": 1,
   "metadata": {},
   "outputs": [],
   "source": [
    "import numpy as np\n",
    "import jax.numpy as jnp\n",
    "\n",
    "import jax\n",
    "import pandas as pd\n",
    "import plotly.express as px\n",
    "import matplotlib.pyplot as plt\n",
    "import seaborn as sns\n",
    "import rho_plus as rp\n",
    "\n",
    "is_dark = False\n",
    "theme, cs = rp.mpl_setup(is_dark)\n",
    "rp.plotly_setup(is_dark)"
   ]
  },
  {
   "cell_type": "code",
   "execution_count": 2,
   "metadata": {},
   "outputs": [
    {
     "name": "stdout",
     "output_type": "stream",
     "text": [
      "/home/nmiklaucic/cdv\n"
     ]
    },
    {
     "name": "stderr",
     "output_type": "stream",
     "text": [
      "/home/nmiklaucic/miniconda3/envs/avid/lib/python3.12/site-packages/IPython/core/magics/osm.py:393: UserWarning: This is now an optional IPython functionality, using bookmarks requires you to install the `pickleshare` library.\n",
      "  bkms = self.shell.db.get('bookmarks', {})\n",
      "/home/nmiklaucic/miniconda3/envs/avid/lib/python3.12/site-packages/IPython/core/magics/osm.py:417: UserWarning: This is now an optional IPython functionality, setting dhist requires you to install the `pickleshare` library.\n",
      "  self.shell.db['dhist'] = compress_dhist(dhist)[-100:]\n"
     ]
    }
   ],
   "source": [
    "%cd ~/cdv"
   ]
  },
  {
   "cell_type": "code",
   "execution_count": 3,
   "metadata": {},
   "outputs": [
    {
     "data": {
      "text/html": [
       "<div>\n",
       "<style scoped>\n",
       "    .dataframe tbody tr th:only-of-type {\n",
       "        vertical-align: middle;\n",
       "    }\n",
       "\n",
       "    .dataframe tbody tr th {\n",
       "        vertical-align: top;\n",
       "    }\n",
       "\n",
       "    .dataframe thead th {\n",
       "        text-align: right;\n",
       "    }\n",
       "</style>\n",
       "<table border=\"1\" class=\"dataframe\">\n",
       "  <thead>\n",
       "    <tr style=\"text-align: right;\">\n",
       "      <th></th>\n",
       "      <th>space_group</th>\n",
       "      <th>formula</th>\n",
       "      <th>e_form</th>\n",
       "      <th>bandgap</th>\n",
       "      <th>atoms</th>\n",
       "      <th>e_total</th>\n",
       "      <th>ehull</th>\n",
       "      <th>dimensionality</th>\n",
       "      <th>density</th>\n",
       "      <th>num_atoms</th>\n",
       "      <th>num_spec</th>\n",
       "      <th>magmom</th>\n",
       "    </tr>\n",
       "  </thead>\n",
       "  <tbody>\n",
       "    <tr>\n",
       "      <th>0</th>\n",
       "      <td>129</td>\n",
       "      <td>(Ti, Cu, Si, As)</td>\n",
       "      <td>-0.42762</td>\n",
       "      <td>0.0</td>\n",
       "      <td>[[2.67519992 2.67519992 7.37609819] Ti, [0.891...</td>\n",
       "      <td>-3.37474</td>\n",
       "      <td>0.0423</td>\n",
       "      <td>3D-bulk</td>\n",
       "      <td>5.956</td>\n",
       "      <td>8</td>\n",
       "      <td>4</td>\n",
       "      <td>0.000</td>\n",
       "    </tr>\n",
       "    <tr>\n",
       "      <th>1</th>\n",
       "      <td>221</td>\n",
       "      <td>(Dy, B)</td>\n",
       "      <td>-0.41596</td>\n",
       "      <td>0.0</td>\n",
       "      <td>[[0. 0. 0.] Dy, [0.81214866 2.04453946 2.04453...</td>\n",
       "      <td>-5.79186</td>\n",
       "      <td>0.0456</td>\n",
       "      <td>3D-bulk</td>\n",
       "      <td>5.522</td>\n",
       "      <td>7</td>\n",
       "      <td>2</td>\n",
       "      <td>0.000</td>\n",
       "    </tr>\n",
       "    <tr>\n",
       "      <th>2</th>\n",
       "      <td>119</td>\n",
       "      <td>(Be, Os, Ru)</td>\n",
       "      <td>0.04847</td>\n",
       "      <td>0.0</td>\n",
       "      <td>[[0. 0. 0.] Be, [1.83359072 0.         1.74248...</td>\n",
       "      <td>-4.65924</td>\n",
       "      <td>0.3183</td>\n",
       "      <td>intercalated ion</td>\n",
       "      <td>10.960</td>\n",
       "      <td>4</td>\n",
       "      <td>3</td>\n",
       "      <td>0.000</td>\n",
       "    </tr>\n",
       "    <tr>\n",
       "      <th>4</th>\n",
       "      <td>164</td>\n",
       "      <td>(V, Se)</td>\n",
       "      <td>-0.71026</td>\n",
       "      <td>0.0</td>\n",
       "      <td>[[0. 0. 0.] V, [ 1.67774838 -0.96865035  4.652...</td>\n",
       "      <td>-3.87823</td>\n",
       "      <td>0.0156</td>\n",
       "      <td>2D-bulk</td>\n",
       "      <td>5.718</td>\n",
       "      <td>3</td>\n",
       "      <td>2</td>\n",
       "      <td>0.000</td>\n",
       "    </tr>\n",
       "    <tr>\n",
       "      <th>5</th>\n",
       "      <td>62</td>\n",
       "      <td>(Tb, Mn, Si)</td>\n",
       "      <td>-0.45468</td>\n",
       "      <td>0.0</td>\n",
       "      <td>[[1.03935903 3.52971335 1.38135171] Tb, [3.118...</td>\n",
       "      <td>-4.35889</td>\n",
       "      <td>0.0817</td>\n",
       "      <td>3D-bulk</td>\n",
       "      <td>7.410</td>\n",
       "      <td>12</td>\n",
       "      <td>3</td>\n",
       "      <td>8.916</td>\n",
       "    </tr>\n",
       "    <tr>\n",
       "      <th>...</th>\n",
       "      <td>...</td>\n",
       "      <td>...</td>\n",
       "      <td>...</td>\n",
       "      <td>...</td>\n",
       "      <td>...</td>\n",
       "      <td>...</td>\n",
       "      <td>...</td>\n",
       "      <td>...</td>\n",
       "      <td>...</td>\n",
       "      <td>...</td>\n",
       "      <td>...</td>\n",
       "      <td>...</td>\n",
       "    </tr>\n",
       "    <tr>\n",
       "      <th>75980</th>\n",
       "      <td>164</td>\n",
       "      <td>(Nd, Mg, Sb)</td>\n",
       "      <td>-0.69038</td>\n",
       "      <td>0.0</td>\n",
       "      <td>[[0. 0. 0.] Nd, [2.3394364  1.35070495 2.69383...</td>\n",
       "      <td>-1.53096</td>\n",
       "      <td>0.0000</td>\n",
       "      <td>3D-bulk</td>\n",
       "      <td>5.116</td>\n",
       "      <td>5</td>\n",
       "      <td>3</td>\n",
       "      <td>0.000</td>\n",
       "    </tr>\n",
       "    <tr>\n",
       "      <th>75983</th>\n",
       "      <td>216</td>\n",
       "      <td>(Yb, Pr, Pd)</td>\n",
       "      <td>-0.56635</td>\n",
       "      <td>0.0</td>\n",
       "      <td>[[5.25036997 5.25036997 5.25036997] Yb, [1.750...</td>\n",
       "      <td>-1.70796</td>\n",
       "      <td>0.0000</td>\n",
       "      <td>3D-bulk</td>\n",
       "      <td>8.139</td>\n",
       "      <td>3</td>\n",
       "      <td>3</td>\n",
       "      <td>0.000</td>\n",
       "    </tr>\n",
       "    <tr>\n",
       "      <th>75984</th>\n",
       "      <td>216</td>\n",
       "      <td>(Tb, Tl, Zn)</td>\n",
       "      <td>-0.29921</td>\n",
       "      <td>0.0</td>\n",
       "      <td>[[1.66349368 1.66349368 1.66349368] Tb, [4.990...</td>\n",
       "      <td>0.05135</td>\n",
       "      <td>0.0000</td>\n",
       "      <td>3D-bulk</td>\n",
       "      <td>9.666</td>\n",
       "      <td>3</td>\n",
       "      <td>3</td>\n",
       "      <td>0.000</td>\n",
       "    </tr>\n",
       "    <tr>\n",
       "      <th>75989</th>\n",
       "      <td>216</td>\n",
       "      <td>(Pr, Tl, Zn)</td>\n",
       "      <td>-0.34112</td>\n",
       "      <td>0.0</td>\n",
       "      <td>[[1.71052992 1.71052992 1.71052992] Pr, [5.131...</td>\n",
       "      <td>-0.10696</td>\n",
       "      <td>0.0000</td>\n",
       "      <td>3D-bulk</td>\n",
       "      <td>8.517</td>\n",
       "      <td>3</td>\n",
       "      <td>3</td>\n",
       "      <td>0.000</td>\n",
       "    </tr>\n",
       "    <tr>\n",
       "      <th>75990</th>\n",
       "      <td>139</td>\n",
       "      <td>(Ba, In, Bi)</td>\n",
       "      <td>-0.39352</td>\n",
       "      <td>0.0</td>\n",
       "      <td>[[0. 0. 0.] Ba, [4.08371684e+00 4.44089210e-16...</td>\n",
       "      <td>-0.54683</td>\n",
       "      <td>0.0000</td>\n",
       "      <td>intercalated ion</td>\n",
       "      <td>7.460</td>\n",
       "      <td>5</td>\n",
       "      <td>3</td>\n",
       "      <td>0.000</td>\n",
       "    </tr>\n",
       "  </tbody>\n",
       "</table>\n",
       "<p>61786 rows × 12 columns</p>\n",
       "</div>"
      ],
      "text/plain": [
       "       space_group           formula   e_form  bandgap  \\\n",
       "0              129  (Ti, Cu, Si, As) -0.42762      0.0   \n",
       "1              221           (Dy, B) -0.41596      0.0   \n",
       "2              119      (Be, Os, Ru)  0.04847      0.0   \n",
       "4              164           (V, Se) -0.71026      0.0   \n",
       "5               62      (Tb, Mn, Si) -0.45468      0.0   \n",
       "...            ...               ...      ...      ...   \n",
       "75980          164      (Nd, Mg, Sb) -0.69038      0.0   \n",
       "75983          216      (Yb, Pr, Pd) -0.56635      0.0   \n",
       "75984          216      (Tb, Tl, Zn) -0.29921      0.0   \n",
       "75989          216      (Pr, Tl, Zn) -0.34112      0.0   \n",
       "75990          139      (Ba, In, Bi) -0.39352      0.0   \n",
       "\n",
       "                                                   atoms  e_total   ehull  \\\n",
       "0      [[2.67519992 2.67519992 7.37609819] Ti, [0.891... -3.37474  0.0423   \n",
       "1      [[0. 0. 0.] Dy, [0.81214866 2.04453946 2.04453... -5.79186  0.0456   \n",
       "2      [[0. 0. 0.] Be, [1.83359072 0.         1.74248... -4.65924  0.3183   \n",
       "4      [[0. 0. 0.] V, [ 1.67774838 -0.96865035  4.652... -3.87823  0.0156   \n",
       "5      [[1.03935903 3.52971335 1.38135171] Tb, [3.118... -4.35889  0.0817   \n",
       "...                                                  ...      ...     ...   \n",
       "75980  [[0. 0. 0.] Nd, [2.3394364  1.35070495 2.69383... -1.53096  0.0000   \n",
       "75983  [[5.25036997 5.25036997 5.25036997] Yb, [1.750... -1.70796  0.0000   \n",
       "75984  [[1.66349368 1.66349368 1.66349368] Tb, [4.990...  0.05135  0.0000   \n",
       "75989  [[1.71052992 1.71052992 1.71052992] Pr, [5.131... -0.10696  0.0000   \n",
       "75990  [[0. 0. 0.] Ba, [4.08371684e+00 4.44089210e-16... -0.54683  0.0000   \n",
       "\n",
       "         dimensionality  density  num_atoms  num_spec  magmom  \n",
       "0               3D-bulk    5.956          8         4   0.000  \n",
       "1               3D-bulk    5.522          7         2   0.000  \n",
       "2      intercalated ion   10.960          4         3   0.000  \n",
       "4               2D-bulk    5.718          3         2   0.000  \n",
       "5               3D-bulk    7.410         12         3   8.916  \n",
       "...                 ...      ...        ...       ...     ...  \n",
       "75980           3D-bulk    5.116          5         3   0.000  \n",
       "75983           3D-bulk    8.139          3         3   0.000  \n",
       "75984           3D-bulk    9.666          3         3   0.000  \n",
       "75989           3D-bulk    8.517          3         3   0.000  \n",
       "75990  intercalated ion    7.460          5         3   0.000  \n",
       "\n",
       "[61786 rows x 12 columns]"
      ]
     },
     "execution_count": 3,
     "metadata": {},
     "output_type": "execute_result"
    }
   ],
   "source": [
    "clean = pd.read_pickle('precomputed/jarvis_dft3d_cleaned/dataframe.pkl')\n",
    "clean"
   ]
  },
  {
   "cell_type": "code",
   "execution_count": 11,
   "metadata": {},
   "outputs": [],
   "source": [
    "import gemmi\n",
    "\n",
    "crystal_systems = {\n",
    "    num: gemmi.find_spacegroup_by_number(num).crystal_system_str()\n",
    "    for num in range(1, 231)\n",
    "}\n",
    "\n",
    "clean['system'] = [crystal_systems[i] for i in clean.space_group]"
   ]
  },
  {
   "cell_type": "code",
   "execution_count": 15,
   "metadata": {},
   "outputs": [],
   "source": [
    "sgs = jnp.array(clean['space_group'])"
   ]
  },
  {
   "cell_type": "code",
   "execution_count": 16,
   "metadata": {},
   "outputs": [
    {
     "data": {
      "text/plain": [
       "{'orthorhombic': 16,\n",
       " 'monoclinic': 3,\n",
       " 'hexagonal': 168,\n",
       " 'trigonal': 143,\n",
       " 'cubic': 195,\n",
       " 'triclinic': 1,\n",
       " 'tetragonal': 75}"
      ]
     },
     "execution_count": 16,
     "metadata": {},
     "output_type": "execute_result"
    }
   ],
   "source": [
    "{v1: min(k for k, v in crystal_systems.items() if v == v1)\n",
    " for v1 in set(crystal_systems.values())}"
   ]
  },
  {
   "cell_type": "code",
   "execution_count": 18,
   "metadata": {},
   "outputs": [
    {
     "data": {
      "text/plain": [
       "Array([3, 0, 3, ..., 0, 0, 3], dtype=int32)"
      ]
     },
     "execution_count": 18,
     "metadata": {},
     "output_type": "execute_result"
    }
   ],
   "source": [
    "thresholds = jnp.array([3, 16, 75, 143, 168, 195])\n",
    "\n",
    "(sgs[None, :] < thresholds[:, None]).sum(axis=0)"
   ]
  },
  {
   "cell_type": "code",
   "execution_count": 12,
   "metadata": {},
   "outputs": [
    {
     "data": {
      "text/plain": [
       "system\n",
       "cubic           15344\n",
       "tetragonal      13586\n",
       "orthorhombic     9642\n",
       "monoclinic       7256\n",
       "hexagonal        7181\n",
       "trigonal         6615\n",
       "triclinic        2162\n",
       "Name: count, dtype: int64"
      ]
     },
     "execution_count": 12,
     "metadata": {},
     "output_type": "execute_result"
    }
   ],
   "source": [
    "clean['system'].value_counts()"
   ]
  },
  {
   "cell_type": "code",
   "execution_count": 8,
   "metadata": {},
   "outputs": [
    {
     "data": {
      "text/plain": [
       "<seaborn.axisgrid.FacetGrid at 0x7f1916ea80b0>"
      ]
     },
     "execution_count": 8,
     "metadata": {},
     "output_type": "execute_result"
    },
    {
     "data": {
      "image/png": "[encoded data removed]",
      "text/plain": [
       "<Figure size 500x500 with 1 Axes>"
      ]
     },
     "metadata": {},
     "output_type": "display_data"
    }
   ],
   "source": [
    "sns.displot(clean, x='num_atoms', discrete=True)"
   ]
  },
  {
   "cell_type": "code",
   "execution_count": null,
   "metadata": {},
   "outputs": [],
   "source": [
    "elements = set()\n",
    "for struct in clean['atoms']:\n",
    "    elements.update(set(struct.elements))\n",
    "\n",
    "print(' '.join([e.symbol for e in sorted(elements)]))\n",
    "# print(elements)\n",
    "# print({e.symbol: (e.average_ionic_radius, e.atomic_radius) for e in elements})"
   ]
  },
  {
   "cell_type": "code",
   "execution_count": null,
   "metadata": {},
   "outputs": [],
   "source": [
    "cutoff = 7.0\n",
    "max_num_neighbors = 20\n",
    "\n",
    "graphs = []\n",
    "\n",
    "def radius_graph(struct):\n",
    "    graph_ijs = []\n",
    "    graph_ims = []\n",
    "\n",
    "    for i, nbs in enumerate(struct.get_all_neighbors(cutoff)):\n",
    "        if nbs:\n",
    "            sites, dists, idxs, ims = zip(*nbs)\n",
    "            # select the first max_num_neighbors\n",
    "            chosen = np.argsort(dists)[:max_num_neighbors]\n",
    "\n",
    "            graph_ijs.append(np.vstack([np.ones_like(chosen) * i, np.array(idxs)[chosen]]))\n",
    "            graph_ims.append(np.array(ims)[chosen])\n",
    "\n",
    "    if graph_ijs:\n",
    "        graph_ijs = np.concatenate(graph_ijs, axis=1).T.astype(np.uint16)\n",
    "        graph_ims = np.concatenate(graph_ims).astype(np.int8)\n",
    "\n",
    "        return graph_ijs, graph_ims\n",
    "    else:\n",
    "        # no atoms: return the empty list, filter it out later\n",
    "        return np.array([]).astype(np.uint16), np.array([]).astype(np.int8)"
   ]
  },
  {
   "cell_type": "code",
   "execution_count": null,
   "metadata": {},
   "outputs": [],
   "source": [
    "from multiprocessing import Pool\n",
    "import warnings\n",
    "\n",
    "warnings.simplefilter('ignore', category=UserWarning)\n",
    "\n",
    "with Pool(processes=32) as P:\n",
    "    graphs = P.map(radius_graph, clean['atoms'])"
   ]
  },
  {
   "cell_type": "code",
   "execution_count": null,
   "metadata": {},
   "outputs": [],
   "source": [
    "# from pymatgen.core import Structure\n",
    "# from pymatgen.analysis.graphs import StructureGraph\n",
    "# from pymatgen.analysis.local_env import CrystalNN\n",
    "# from tqdm import tqdm\n",
    "# import warnings\n",
    "# nn = CrystalNN()\n",
    "\n",
    "# from multiprocessing import Pool\n",
    "\n",
    "# warnings.simplefilter('ignore', category=UserWarning)\n",
    "\n",
    "# with Pool(processes=48) as P:\n",
    "#     graphs = P.map(nn.get_bonded_structure, clean['atoms'])"
   ]
  },
  {
   "cell_type": "code",
   "execution_count": null,
   "metadata": {},
   "outputs": [],
   "source": [
    "import pickle\n",
    "\n",
    "if 'graphs' in globals() or 'graphs' in locals():\n",
    "    print('Saving...')\n",
    "    with open('precomputed/jarvis_dft3d_cleaned/graphs.pkl', 'wb') as out:\n",
    "        pickle.dump(graphs, out)\n",
    "else:\n",
    "    print('Loading...')\n",
    "    with open('precomputed/jarvis_dft3d_cleaned/graphs.pkl', 'rb') as out:\n",
    "        graphs = pickle.load(out)"
   ]
  },
  {
   "cell_type": "markdown",
   "metadata": {},
   "source": [
    "We want to split the samples into batches. Because Jax needs fixed shapes, we're going to pad\n",
    "batches to the same number of nodes and edges. This means that we want to sort into batches such\n",
    "that the max number of edges in a batch is minimized, ideally just below a power of 2. That's what\n",
    "the below code does.\n",
    "\n",
    "It's also nice if the number of batches splits cleanly."
   ]
  },
  {
   "cell_type": "code",
   "execution_count": null,
   "metadata": {},
   "outputs": [],
   "source": [
    "from sympy import factorint\n",
    "n_data = len(clean.index)\n",
    "for power in range(1, 11):\n",
    "    bs = 2 ** power - 1\n",
    "    rem = n_data % bs\n",
    "    factorstr = '\\t'.join((f'{k}^{v}' for k, v in factorint(n_data - rem).items()))\n",
    "    print(f'{bs:>4}\\t{rem:>4}\\t{factorstr}')"
   ]
  },
  {
   "cell_type": "code",
   "execution_count": null,
   "metadata": {},
   "outputs": [],
   "source": [
    "batch_size = 62\n",
    "max_in = 32\n",
    "max_out = 20\n",
    "max_nodes = 20"
   ]
  },
  {
   "cell_type": "code",
   "execution_count": null,
   "metadata": {},
   "outputs": [],
   "source": [
    "from tqdm import tqdm\n",
    "import functools as ft\n",
    "\n",
    "graph_inds = []\n",
    "graph_subs = []\n",
    "for i, g in enumerate(graphs):\n",
    "    if len(g[0]) == 0:\n",
    "        continue\n",
    "\n",
    "    node_in = max(np.unique(g[0][:, 1], return_counts=True)[1])\n",
    "    node_out = max(np.unique(g[0][:, 0], return_counts=True)[1])\n",
    "    if node_in <= max_in and node_out <= max_out:\n",
    "        if np.max(g[0]) + 1 <= max_nodes:\n",
    "            graph_inds.append(i)\n",
    "            graph_subs.append(g)\n",
    "\n",
    "        \n",
    "if hasattr(graphs[0], 'graph'):\n",
    "    # using networkx\n",
    "    # each edge is split into 2 directed edges\n",
    "    sizes = np.array([(len(g.graph.nodes), 2 * len(g.graph.edges)) for g in graphs[:-3]])\n",
    "else:\n",
    "    # using custom arrays\n",
    "    sizes = np.array([(np.max(ijs) + 1, ijs.shape[0]) for ijs, ims in graph_subs])\n",
    "\n",
    "def get_parts(numbers, batch, chunk_size):    \n",
    "    # assert len(numbers) % (batch * chunk_size) == 0\n",
    "    n_batches = len(numbers) // batch\n",
    "    parts = np.zeros((batch, n_batches), dtype=jnp.int32)\n",
    "    part_sizes = np.array([0 for _ in range(n_batches)])\n",
    "    \n",
    "    chunk_i = 0\n",
    "    for sample_is in tqdm(np.argsort(-numbers).reshape(batch // chunk_size, chunk_size * n_batches)):\n",
    "        sample_sizes = numbers[sample_is]\n",
    "        n_filled = np.zeros((n_batches,), dtype=jnp.int32)\n",
    "        for sample_i, sample_size in zip(sample_is, sample_sizes):\n",
    "            next_i = np.argmin(part_sizes + 10000 * (n_filled == chunk_size))\n",
    "            parts[chunk_i * chunk_size + n_filled[next_i], next_i] += sample_i\n",
    "            n_filled[next_i] += 1\n",
    "            part_sizes[next_i] += sample_size\n",
    "        chunk_i += 1\n",
    "\n",
    "    return parts, part_sizes\n",
    "\n",
    "# TODO in the future we should probably pad instead of cutting, but at this point it's fine\n",
    "num_remove = sizes.shape[0] % batch_size\n",
    "\n",
    "parts, part_sizes = get_parts(sizes[:-num_remove, 1], batch_size, batch_size)\n",
    "parts_orig_i = np.array(graph_inds)[parts]\n",
    "print(part_sizes)"
   ]
  },
  {
   "cell_type": "code",
   "execution_count": null,
   "metadata": {},
   "outputs": [],
   "source": [
    "len(sizes)"
   ]
  },
  {
   "cell_type": "code",
   "execution_count": null,
   "metadata": {},
   "outputs": [],
   "source": [
    "np.unique(sizes[:, 0], return_counts=True)"
   ]
  },
  {
   "cell_type": "code",
   "execution_count": null,
   "metadata": {},
   "outputs": [],
   "source": [
    "print(batch_size)\n",
    "for ax in (0, 1):\n",
    "    max_size = max(jnp.take(sizes[:, ax], parts).sum(axis=0))\n",
    "\n",
    "    # pad to multiple of 64 for tensor cores\n",
    "    pad_size = max_size + 16 - (max_size % 16)\n",
    "    print(max_size, '\\t', pad_size)"
   ]
  },
  {
   "cell_type": "code",
   "execution_count": null,
   "metadata": {},
   "outputs": [],
   "source": [
    "jnp.save('precomputed/jarvis_dft3d_cleaned/batches.npy', parts_orig_i)"
   ]
  },
  {
   "cell_type": "code",
   "execution_count": null,
   "metadata": {},
   "outputs": [],
   "source": [
    "recv = jnp.array([4, 1, 1, 2, 2, 3])\n",
    "edge = jnp.array([0, 2, 3, 1, 1, 4])\n",
    "nodes = jnp.array([4, 3, 2, 1, 0])"
   ]
  },
  {
   "cell_type": "code",
   "execution_count": null,
   "metadata": {},
   "outputs": [],
   "source": [
    "jax.ops.segment_sum(recv, edge)"
   ]
  },
  {
   "cell_type": "code",
   "execution_count": null,
   "metadata": {},
   "outputs": [],
   "source": [
    "'{:.4g}'.format(3.14159)"
   ]
  },
  {
   "cell_type": "code",
   "execution_count": null,
   "metadata": {},
   "outputs": [],
   "source": [
    "np.array([0]).dtype.kind"
   ]
  },
  {
   "cell_type": "code",
   "execution_count": 2,
   "metadata": {},
   "outputs": [
    {
     "ename": "NameError",
     "evalue": "name 'jnp' is not defined",
     "output_type": "error",
     "traceback": [
      "\u001b[0;31m---------------------------------------------------------------------------\u001b[0m",
      "\u001b[0;31mNameError\u001b[0m                                 Traceback (most recent call last)",
      "Cell \u001b[0;32mIn[2], line 33\u001b[0m\n\u001b[1;32m     30\u001b[0m         \u001b[38;5;28;01mreturn\u001b[39;00m env \u001b[38;5;241m*\u001b[39m e_d\n\u001b[1;32m     32\u001b[0m env \u001b[38;5;241m=\u001b[39m Bessel1DBasis(\u001b[38;5;241m6\u001b[39m)\n\u001b[0;32m---> 33\u001b[0m \u001b[43menv\u001b[49m\u001b[38;5;241;43m.\u001b[39;49m\u001b[43msetup\u001b[49m\u001b[43m(\u001b[49m\u001b[43m)\u001b[49m\n",
      "Cell \u001b[0;32mIn[2], line 15\u001b[0m, in \u001b[0;36mBessel1DBasis.setup\u001b[0;34m(self)\u001b[0m\n\u001b[1;32m     13\u001b[0m \u001b[38;5;28;01mdef\u001b[39;00m \u001b[38;5;21mfreq_init\u001b[39m(rng):\n\u001b[1;32m     14\u001b[0m     \u001b[38;5;28;01mreturn\u001b[39;00m jnp\u001b[38;5;241m.\u001b[39marange(\u001b[38;5;28mself\u001b[39m\u001b[38;5;241m.\u001b[39mnum_basis, dtype\u001b[38;5;241m=\u001b[39mjnp\u001b[38;5;241m.\u001b[39mfloat32) \u001b[38;5;241m+\u001b[39m \u001b[38;5;241m1\u001b[39m\n\u001b[0;32m---> 15\u001b[0m \u001b[38;5;28mself\u001b[39m\u001b[38;5;241m.\u001b[39mfreq \u001b[38;5;241m=\u001b[39m \u001b[43mfreq_init\u001b[49m\u001b[43m(\u001b[49m\u001b[38;5;28;43;01mNone\u001b[39;49;00m\u001b[43m)\u001b[49m\n",
      "Cell \u001b[0;32mIn[2], line 14\u001b[0m, in \u001b[0;36mBessel1DBasis.setup.<locals>.freq_init\u001b[0;34m(rng)\u001b[0m\n\u001b[1;32m     13\u001b[0m \u001b[38;5;28;01mdef\u001b[39;00m \u001b[38;5;21mfreq_init\u001b[39m(rng):\n\u001b[0;32m---> 14\u001b[0m     \u001b[38;5;28;01mreturn\u001b[39;00m \u001b[43mjnp\u001b[49m\u001b[38;5;241m.\u001b[39marange(\u001b[38;5;28mself\u001b[39m\u001b[38;5;241m.\u001b[39mnum_basis, dtype\u001b[38;5;241m=\u001b[39mjnp\u001b[38;5;241m.\u001b[39mfloat32) \u001b[38;5;241m+\u001b[39m \u001b[38;5;241m1\u001b[39m\n",
      "\u001b[0;31mNameError\u001b[0m: name 'jnp' is not defined"
     ]
    }
   ],
   "source": [
    "from dataclasses import dataclass\n",
    "\n",
    "\n",
    "@dataclass\n",
    "class Bessel1DBasis:\n",
    "    \"\"\"Uses spherical Bessel functions with a cutoff, as in DimeNet++.\"\"\"\n",
    "    num_basis: int = 7\n",
    "    cutoff: float = 7\n",
    "    # Controls how fast the envelope goes to 0 at the cutoff.\n",
    "    envelope_exp: int = 5\n",
    "\n",
    "    def setup(self):\n",
    "        def freq_init(rng):\n",
    "            return jnp.arange(self.num_basis, dtype=jnp.float32) + 1\n",
    "        self.freq = freq_init(None) \n",
    "\n",
    "    def __call__(self, x):\n",
    "        dist = x[..., None] / self.cutoff\n",
    "        env = 1\n",
    "\n",
    "        # e(d) = sqrt(2/c) * sin(fπd/c)/d\n",
    "        # we use sinc so it's defined at 0\n",
    "        # jnp.sinc is sin(πx)/(πx)\n",
    "        # e(d) = sqrt(2/c) * sin(πfd/c)/(fd/c) * f/c\n",
    "        # e(d) = sqrt(2/c) * sinc(πfd/c)/(πfd/c) * πf/c\n",
    "\n",
    "        e_d = jnp.sqrt(2 / self.cutoff) * jnp.sinc(self.freq * dist) * jnp.pi * self.freq / self.cutoff\n",
    "\n",
    "        # debug_stat(dist=dist, env=env, freqs=freqs)\n",
    "        return env * e_d\n",
    "    \n",
    "env = Bessel1DBasis(6)\n",
    "env.setup()"
   ]
  },
  {
   "cell_type": "code",
   "execution_count": 1,
   "metadata": {},
   "outputs": [
    {
     "ename": "NameError",
     "evalue": "name 'jnp' is not defined",
     "output_type": "error",
     "traceback": [
      "\u001b[0;31m---------------------------------------------------------------------------\u001b[0m",
      "\u001b[0;31mNameError\u001b[0m                                 Traceback (most recent call last)",
      "Cell \u001b[0;32mIn[1], line 1\u001b[0m\n\u001b[0;32m----> 1\u001b[0m xx \u001b[38;5;241m=\u001b[39m \u001b[43mjnp\u001b[49m\u001b[38;5;241m.\u001b[39mlinspace(\u001b[38;5;241m0\u001b[39m, env\u001b[38;5;241m.\u001b[39mcutoff, \u001b[38;5;241m1000\u001b[39m)\n\u001b[1;32m      2\u001b[0m plt\u001b[38;5;241m.\u001b[39mplot(xx, env(xx))\n",
      "\u001b[0;31mNameError\u001b[0m: name 'jnp' is not defined"
     ]
    }
   ],
   "source": [
    "xx = jnp.linspace(0, env.cutoff, 1000)\n",
    "plt.plot(xx, env(xx))"
   ]
  },
  {
   "cell_type": "code",
   "execution_count": null,
   "metadata": {},
   "outputs": [],
   "source": [
    "from pymatgen.core import Lattice"
   ]
  },
  {
   "cell_type": "code",
   "execution_count": null,
   "metadata": {},
   "outputs": [],
   "source": [
    "from pymatgen.core import Lattice\n",
    "lat = clean['atoms'].iloc[52338].lattice\n",
    "lat"
   ]
  },
  {
   "cell_type": "code",
   "execution_count": null,
   "metadata": {},
   "outputs": [],
   "source": [
    "Lattice.from_parameters(*[*lat.abc, *lat.angles])"
   ]
  },
  {
   "cell_type": "code",
   "execution_count": null,
   "metadata": {},
   "outputs": [],
   "source": [
    "from scipy.interpolate import CloughTocher2DInterpolator as Interpolator\n",
    "c = 1\n",
    "\n",
    "da = jnp.mgrid[0.02:c:20j, 0:2*jnp.pi:40j]\n",
    "\n",
    "fig, axs = plt.subplots(4, 4, figsize=(16, 16), sharex=True, sharey=True)\n",
    "\n",
    "env = Bessel1DBasis(6, cutoff=c)\n",
    "env.setup()\n",
    "\n",
    "for row, l in enumerate(range(4)):\n",
    "    for col, n in enumerate(range(1, 5)):\n",
    "\n",
    "\n",
    "        dd, aa = da.reshape(2, -1)\n",
    "        xx = dd * jnp.sin(aa)\n",
    "        yy = dd * jnp.cos(aa)\n",
    "\n",
    "        z_ln = jn_zeros(l, n)[-1]\n",
    "\n",
    "        zz = env(dd)[:, n - 1] / env(dd * 0)[:, n - 1] * jnp.cos(aa * l)\n",
    "\n",
    "        interp = Interpolator(list(zip(xx, yy)), zz)\n",
    "\n",
    "        grid_xx, grid_yy = np.mgrid[-1:1:30j, -1:1:30j]\n",
    "        grid_zz = interp(grid_xx, grid_yy)\n",
    "\n",
    "        abs_max = np.nanmax(np.abs(grid_zz))\n",
    "\n",
    "        axs[row][col].pcolormesh(grid_xx, grid_yy, grid_zz, shading='auto', cmap='rho_diverging', vmin=-1, vmax=1)\n",
    "        axs[row][col].set_title(f'l = {l}, n = {n}, max {abs_max:.1f}')"
   ]
  },
  {
   "cell_type": "code",
   "execution_count": null,
   "metadata": {},
   "outputs": [],
   "source": [
    "edge_ij = jnp.vstack((np.random.randint(0, 10, 15), np.random.randint(0, 10, 15)))\n",
    "edge_ij"
   ]
  },
  {
   "cell_type": "code",
   "execution_count": null,
   "metadata": {},
   "outputs": [],
   "source": [
    "np.where(edge_ij[1][:, None] == edge_ij[0][None, :])"
   ]
  },
  {
   "cell_type": "code",
   "execution_count": null,
   "metadata": {},
   "outputs": [],
   "source": []
  },
  {
   "cell_type": "code",
   "execution_count": 5,
   "metadata": {},
   "outputs": [
    {
     "data": {
      "text/html": [
       "<pre style=\"white-space:pre;overflow-x:auto;line-height:normal;font-family:Menlo,'DejaVu Sans Mono',consolas,'Courier New',monospace\"><span style=\"color: #00a0ec; text-decoration-color: #00a0ec; font-weight: bold\">arg0 &gt;&gt;&gt; CrystalGraphs</span>\n",
       "├── <span style=\"color: #00a0ec; text-decoration-color: #00a0ec; font-weight: bold\">nodes</span>\n",
       "│   ├── <span style=\"color: #00bc70; text-decoration-color: #00bc70; font-weight: bold\">species</span>\n",
       "│   │   └── <span style=\"color: #ff7300; text-decoration-color: #ff7300; font-weight: bold\">i16[512]</span>\n",
       "│   ├── <span style=\"color: #00bc70; text-decoration-color: #00bc70; font-weight: bold\">frac</span>\n",
       "│   │   └── <span style=\"color: #ff7300; text-decoration-color: #ff7300; font-weight: bold\">f32[512, 3]</span>\n",
       "│   ├── <span style=\"color: #00bc70; text-decoration-color: #00bc70; font-weight: bold\">cart</span>\n",
       "│   │   └── <span style=\"color: #ff7300; text-decoration-color: #ff7300; font-weight: bold\">f32[512, 3]</span>\n",
       "│   ├── <span style=\"color: #00bc70; text-decoration-color: #00bc70; font-weight: bold\">incoming</span>\n",
       "│   │   └── <span style=\"color: #ff7300; text-decoration-color: #ff7300; font-weight: bold\">i32[512, 32]</span>\n",
       "│   ├── <span style=\"color: #00bc70; text-decoration-color: #00bc70; font-weight: bold\">incoming_pad</span>\n",
       "│   │   └── <span style=\"color: #ff7300; text-decoration-color: #ff7300; font-weight: bold\">bool[512, 32]</span>\n",
       "│   ├── <span style=\"color: #00bc70; text-decoration-color: #00bc70; font-weight: bold\">outgoing</span>\n",
       "│   │   └── <span style=\"color: #ff7300; text-decoration-color: #ff7300; font-weight: bold\">i32[512, 20]</span>\n",
       "│   ├── <span style=\"color: #00bc70; text-decoration-color: #00bc70; font-weight: bold\">outgoing_pad</span>\n",
       "│   │   └── <span style=\"color: #ff7300; text-decoration-color: #ff7300; font-weight: bold\">bool[512, 20]</span>\n",
       "│   └── <span style=\"color: #00bc70; text-decoration-color: #00bc70; font-weight: bold\">graph_i</span>\n",
       "│       └── <span style=\"color: #ff7300; text-decoration-color: #ff7300; font-weight: bold\">i32[512]</span>\n",
       "├── <span style=\"color: #00a0ec; text-decoration-color: #00a0ec; font-weight: bold\">edges</span>\n",
       "│   ├── <span style=\"color: #00bc70; text-decoration-color: #00bc70; font-weight: bold\">to_jimage</span>\n",
       "│   │   └── <span style=\"color: #ff7300; text-decoration-color: #ff7300; font-weight: bold\">i8[9872, 3]</span>\n",
       "│   ├── <span style=\"color: #00bc70; text-decoration-color: #00bc70; font-weight: bold\">graph_i</span>\n",
       "│   │   └── <span style=\"color: #ff7300; text-decoration-color: #ff7300; font-weight: bold\">i32[9872]</span>\n",
       "│   ├── <span style=\"color: #00bc70; text-decoration-color: #00bc70; font-weight: bold\">sender</span>\n",
       "│   │   └── <span style=\"color: #ff7300; text-decoration-color: #ff7300; font-weight: bold\">i32[9872]</span>\n",
       "│   └── <span style=\"color: #00bc70; text-decoration-color: #00bc70; font-weight: bold\">receiver</span>\n",
       "│       └── <span style=\"color: #ff7300; text-decoration-color: #ff7300; font-weight: bold\">i32[9872]</span>\n",
       "├── <span style=\"color: #00a0ec; text-decoration-color: #00a0ec; font-weight: bold\">n_node</span>\n",
       "│   └── <span style=\"color: #00bc70; text-decoration-color: #00bc70; font-weight: bold\">i32[64]</span>\n",
       "├── <span style=\"color: #00a0ec; text-decoration-color: #00a0ec; font-weight: bold\">n_edge</span>\n",
       "│   └── <span style=\"color: #00bc70; text-decoration-color: #00bc70; font-weight: bold\">i32[64]</span>\n",
       "├── <span style=\"color: #00a0ec; text-decoration-color: #00a0ec; font-weight: bold\">padding_mask</span>\n",
       "│   └── <span style=\"color: #00bc70; text-decoration-color: #00bc70; font-weight: bold\">bool[64]</span>\n",
       "└── <span style=\"color: #00a0ec; text-decoration-color: #00a0ec; font-weight: bold\">graph_data</span>\n",
       "    ├── <span style=\"color: #00bc70; text-decoration-color: #00bc70; font-weight: bold\">dataset_i</span>\n",
       "    │   └── <span style=\"color: #ff7300; text-decoration-color: #ff7300; font-weight: bold\">i32[64]</span>\n",
       "    ├── <span style=\"color: #00bc70; text-decoration-color: #00bc70; font-weight: bold\">abc</span>\n",
       "    │   └── <span style=\"color: #ff7300; text-decoration-color: #ff7300; font-weight: bold\">f32[64, 3]</span>\n",
       "    ├── <span style=\"color: #00bc70; text-decoration-color: #00bc70; font-weight: bold\">angles_rad</span>\n",
       "    │   └── <span style=\"color: #ff7300; text-decoration-color: #ff7300; font-weight: bold\">f32[64, 3]</span>\n",
       "    ├── <span style=\"color: #00bc70; text-decoration-color: #00bc70; font-weight: bold\">lat</span>\n",
       "    │   └── <span style=\"color: #ff7300; text-decoration-color: #ff7300; font-weight: bold\">f32[64, 3, 3]</span>\n",
       "    ├── <span style=\"color: #00bc70; text-decoration-color: #00bc70; font-weight: bold\">e_form</span>\n",
       "    │   └── <span style=\"color: #ff7300; text-decoration-color: #ff7300; font-weight: bold\">f32[64]</span>\n",
       "    ├── <span style=\"color: #00bc70; text-decoration-color: #00bc70; font-weight: bold\">bandgap</span>\n",
       "    │   └── <span style=\"color: #ff7300; text-decoration-color: #ff7300; font-weight: bold\">f32[64]</span>\n",
       "    ├── <span style=\"color: #00bc70; text-decoration-color: #00bc70; font-weight: bold\">e_total</span>\n",
       "    │   └── <span style=\"color: #ff7300; text-decoration-color: #ff7300; font-weight: bold\">f32[64]</span>\n",
       "    ├── <span style=\"color: #00bc70; text-decoration-color: #00bc70; font-weight: bold\">ehull</span>\n",
       "    │   └── <span style=\"color: #ff7300; text-decoration-color: #ff7300; font-weight: bold\">f32[64]</span>\n",
       "    ├── <span style=\"color: #00bc70; text-decoration-color: #00bc70; font-weight: bold\">dimensionality</span>\n",
       "    │   └── <span style=\"color: #ff7300; text-decoration-color: #ff7300; font-weight: bold\">f32[64]</span>\n",
       "    ├── <span style=\"color: #00bc70; text-decoration-color: #00bc70; font-weight: bold\">density</span>\n",
       "    │   └── <span style=\"color: #ff7300; text-decoration-color: #ff7300; font-weight: bold\">f32[64]</span>\n",
       "    ├── <span style=\"color: #00bc70; text-decoration-color: #00bc70; font-weight: bold\">space_group</span>\n",
       "    │   └── <span style=\"color: #ff7300; text-decoration-color: #ff7300; font-weight: bold\">f32[64]</span>\n",
       "    ├── <span style=\"color: #00bc70; text-decoration-color: #00bc70; font-weight: bold\">magmom</span>\n",
       "    │   └── <span style=\"color: #ff7300; text-decoration-color: #ff7300; font-weight: bold\">f32[64]</span>\n",
       "    └── <span style=\"color: #00bc70; text-decoration-color: #00bc70; font-weight: bold\">num_spec</span>\n",
       "        └── <span style=\"color: #ff7300; text-decoration-color: #ff7300; font-weight: bold\">f32[64]</span>\n",
       "</pre>\n"
      ],
      "text/plain": [
       "\u001b[1;38;2;0;160;236marg0 >>> CrystalGraphs\u001b[0m\n",
       "├── \u001b[1;38;2;0;160;236mnodes\u001b[0m\n",
       "│   ├── \u001b[1;38;2;0;188;112mspecies\u001b[0m\n",
       "│   │   └── \u001b[1;38;2;255;115;0mi16[512]\u001b[0m\n",
       "│   ├── \u001b[1;38;2;0;188;112mfrac\u001b[0m\n",
       "│   │   └── \u001b[1;38;2;255;115;0mf32[512, 3]\u001b[0m\n",
       "│   ├── \u001b[1;38;2;0;188;112mcart\u001b[0m\n",
       "│   │   └── \u001b[1;38;2;255;115;0mf32[512, 3]\u001b[0m\n",
       "│   ├── \u001b[1;38;2;0;188;112mincoming\u001b[0m\n",
       "│   │   └── \u001b[1;38;2;255;115;0mi32[512, 32]\u001b[0m\n",
       "│   ├── \u001b[1;38;2;0;188;112mincoming_pad\u001b[0m\n",
       "│   │   └── \u001b[1;38;2;255;115;0mbool[512, 32]\u001b[0m\n",
       "│   ├── \u001b[1;38;2;0;188;112moutgoing\u001b[0m\n",
       "│   │   └── \u001b[1;38;2;255;115;0mi32[512, 20]\u001b[0m\n",
       "│   ├── \u001b[1;38;2;0;188;112moutgoing_pad\u001b[0m\n",
       "│   │   └── \u001b[1;38;2;255;115;0mbool[512, 20]\u001b[0m\n",
       "│   └── \u001b[1;38;2;0;188;112mgraph_i\u001b[0m\n",
       "│       └── \u001b[1;38;2;255;115;0mi32[512]\u001b[0m\n",
       "├── \u001b[1;38;2;0;160;236medges\u001b[0m\n",
       "│   ├── \u001b[1;38;2;0;188;112mto_jimage\u001b[0m\n",
       "│   │   └── \u001b[1;38;2;255;115;0mi8[9872, 3]\u001b[0m\n",
       "│   ├── \u001b[1;38;2;0;188;112mgraph_i\u001b[0m\n",
       "│   │   └── \u001b[1;38;2;255;115;0mi32[9872]\u001b[0m\n",
       "│   ├── \u001b[1;38;2;0;188;112msender\u001b[0m\n",
       "│   │   └── \u001b[1;38;2;255;115;0mi32[9872]\u001b[0m\n",
       "│   └── \u001b[1;38;2;0;188;112mreceiver\u001b[0m\n",
       "│       └── \u001b[1;38;2;255;115;0mi32[9872]\u001b[0m\n",
       "├── \u001b[1;38;2;0;160;236mn_node\u001b[0m\n",
       "│   └── \u001b[1;38;2;0;188;112mi32[64]\u001b[0m\n",
       "├── \u001b[1;38;2;0;160;236mn_edge\u001b[0m\n",
       "│   └── \u001b[1;38;2;0;188;112mi32[64]\u001b[0m\n",
       "├── \u001b[1;38;2;0;160;236mpadding_mask\u001b[0m\n",
       "│   └── \u001b[1;38;2;0;188;112mbool[64]\u001b[0m\n",
       "└── \u001b[1;38;2;0;160;236mgraph_data\u001b[0m\n",
       "    ├── \u001b[1;38;2;0;188;112mdataset_i\u001b[0m\n",
       "    │   └── \u001b[1;38;2;255;115;0mi32[64]\u001b[0m\n",
       "    ├── \u001b[1;38;2;0;188;112mabc\u001b[0m\n",
       "    │   └── \u001b[1;38;2;255;115;0mf32[64, 3]\u001b[0m\n",
       "    ├── \u001b[1;38;2;0;188;112mangles_rad\u001b[0m\n",
       "    │   └── \u001b[1;38;2;255;115;0mf32[64, 3]\u001b[0m\n",
       "    ├── \u001b[1;38;2;0;188;112mlat\u001b[0m\n",
       "    │   └── \u001b[1;38;2;255;115;0mf32[64, 3, 3]\u001b[0m\n",
       "    ├── \u001b[1;38;2;0;188;112me_form\u001b[0m\n",
       "    │   └── \u001b[1;38;2;255;115;0mf32[64]\u001b[0m\n",
       "    ├── \u001b[1;38;2;0;188;112mbandgap\u001b[0m\n",
       "    │   └── \u001b[1;38;2;255;115;0mf32[64]\u001b[0m\n",
       "    ├── \u001b[1;38;2;0;188;112me_total\u001b[0m\n",
       "    │   └── \u001b[1;38;2;255;115;0mf32[64]\u001b[0m\n",
       "    ├── \u001b[1;38;2;0;188;112mehull\u001b[0m\n",
       "    │   └── \u001b[1;38;2;255;115;0mf32[64]\u001b[0m\n",
       "    ├── \u001b[1;38;2;0;188;112mdimensionality\u001b[0m\n",
       "    │   └── \u001b[1;38;2;255;115;0mf32[64]\u001b[0m\n",
       "    ├── \u001b[1;38;2;0;188;112mdensity\u001b[0m\n",
       "    │   └── \u001b[1;38;2;255;115;0mf32[64]\u001b[0m\n",
       "    ├── \u001b[1;38;2;0;188;112mspace_group\u001b[0m\n",
       "    │   └── \u001b[1;38;2;255;115;0mf32[64]\u001b[0m\n",
       "    ├── \u001b[1;38;2;0;188;112mmagmom\u001b[0m\n",
       "    │   └── \u001b[1;38;2;255;115;0mf32[64]\u001b[0m\n",
       "    └── \u001b[1;38;2;0;188;112mnum_spec\u001b[0m\n",
       "        └── \u001b[1;38;2;255;115;0mf32[64]\u001b[0m\n"
      ]
     },
     "metadata": {},
     "output_type": "display_data"
    }
   ],
   "source": [
    "from cdv.dataset import load_file\n",
    "from cdv.config import MainConfig\n",
    "from cdv.utils import debug_stat, debug_structure\n",
    "\n",
    "conf = MainConfig()\n",
    "\n",
    "batch = load_file(conf, 0)\n",
    "debug_structure(batch);"
   ]
  },
  {
   "cell_type": "code",
   "execution_count": 8,
   "metadata": {},
   "outputs": [],
   "source": [
    "from cdv.gnn import InputEncoder, Bessel1DBasis, LearnedSpecEmb\n",
    "from cdv.layers import Context\n",
    "from flax import linen as nn\n",
    "\n",
    "node_emb = 128\n",
    "\n",
    "input_enc = InputEncoder(\n",
    "    Bessel1DBasis(num_basis=7),\n",
    "    nn.Dense(node_emb),\n",
    "    LearnedSpecEmb(conf.data.num_species, node_emb)\n",
    ")\n",
    "ctx = Context(training=False)\n",
    "\n",
    "g, params = input_enc.init_with_output(jax.random.key(0), cg=batch, ctx=ctx)"
   ]
  },
  {
   "cell_type": "code",
   "execution_count": 9,
   "metadata": {},
   "outputs": [
    {
     "data": {
      "text/html": [
       "<pre style=\"white-space:pre;overflow-x:auto;line-height:normal;font-family:Menlo,'DejaVu Sans Mono',consolas,'Courier New',monospace\"><span style=\"color: #00a0ec; text-decoration-color: #00a0ec; font-weight: bold\">arg0 &gt;&gt;&gt; Graphs</span>\n",
       "├── <span style=\"color: #00a0ec; text-decoration-color: #00a0ec; font-weight: bold\">node_emb</span>\n",
       "│   └── <span style=\"color: #00bc70; text-decoration-color: #00bc70; font-weight: bold\">f32[512, 128]</span>\n",
       "├── <span style=\"color: #00a0ec; text-decoration-color: #00a0ec; font-weight: bold\">incoming</span>\n",
       "│   └── <span style=\"color: #00bc70; text-decoration-color: #00bc70; font-weight: bold\">i32[512, 32]</span>\n",
       "├── <span style=\"color: #00a0ec; text-decoration-color: #00a0ec; font-weight: bold\">incoming_pad</span>\n",
       "│   └── <span style=\"color: #00bc70; text-decoration-color: #00bc70; font-weight: bold\">bool[512, 32]</span>\n",
       "├── <span style=\"color: #00a0ec; text-decoration-color: #00a0ec; font-weight: bold\">outgoing</span>\n",
       "│   └── <span style=\"color: #00bc70; text-decoration-color: #00bc70; font-weight: bold\">i32[512, 20]</span>\n",
       "├── <span style=\"color: #00a0ec; text-decoration-color: #00a0ec; font-weight: bold\">outgoing_pad</span>\n",
       "│   └── <span style=\"color: #00bc70; text-decoration-color: #00bc70; font-weight: bold\">bool[512, 20]</span>\n",
       "├── <span style=\"color: #00a0ec; text-decoration-color: #00a0ec; font-weight: bold\">carts</span>\n",
       "│   └── <span style=\"color: #00bc70; text-decoration-color: #00bc70; font-weight: bold\">f32[512, 3]</span>\n",
       "├── <span style=\"color: #00a0ec; text-decoration-color: #00a0ec; font-weight: bold\">dists</span>\n",
       "│   └── <span style=\"color: #00bc70; text-decoration-color: #00bc70; font-weight: bold\">f32[9872]</span>\n",
       "├── <span style=\"color: #00a0ec; text-decoration-color: #00a0ec; font-weight: bold\">vecs</span>\n",
       "│   └── <span style=\"color: #00bc70; text-decoration-color: #00bc70; font-weight: bold\">f32[9872, 3]</span>\n",
       "├── <span style=\"color: #00a0ec; text-decoration-color: #00a0ec; font-weight: bold\">senders</span>\n",
       "│   └── <span style=\"color: #00bc70; text-decoration-color: #00bc70; font-weight: bold\">i32[9872]</span>\n",
       "├── <span style=\"color: #00a0ec; text-decoration-color: #00a0ec; font-weight: bold\">receivers</span>\n",
       "│   └── <span style=\"color: #00bc70; text-decoration-color: #00bc70; font-weight: bold\">i32[9872]</span>\n",
       "├── <span style=\"color: #00a0ec; text-decoration-color: #00a0ec; font-weight: bold\">edge_emb</span>\n",
       "│   └── <span style=\"color: #00bc70; text-decoration-color: #00bc70; font-weight: bold\">f32[9872, 128]</span>\n",
       "├── <span style=\"color: #00a0ec; text-decoration-color: #00a0ec; font-weight: bold\">graph_emb</span>\n",
       "│   └── <span style=\"color: #00bc70; text-decoration-color: #00bc70; font-weight: bold\">f32[64, 0]</span>\n",
       "├── <span style=\"color: #00a0ec; text-decoration-color: #00a0ec; font-weight: bold\">n_nodes</span>\n",
       "│   └── <span style=\"color: #00bc70; text-decoration-color: #00bc70; font-weight: bold\">i32[64]</span>\n",
       "├── <span style=\"color: #00a0ec; text-decoration-color: #00a0ec; font-weight: bold\">n_edges</span>\n",
       "│   └── <span style=\"color: #00bc70; text-decoration-color: #00bc70; font-weight: bold\">i32[64]</span>\n",
       "├── <span style=\"color: #00a0ec; text-decoration-color: #00a0ec; font-weight: bold\">node_graph_i</span>\n",
       "│   └── <span style=\"color: #00bc70; text-decoration-color: #00bc70; font-weight: bold\">i32[512]</span>\n",
       "├── <span style=\"color: #00a0ec; text-decoration-color: #00a0ec; font-weight: bold\">edge_graph_i</span>\n",
       "│   └── <span style=\"color: #00bc70; text-decoration-color: #00bc70; font-weight: bold\">i32[9872]</span>\n",
       "└── <span style=\"color: #00a0ec; text-decoration-color: #00a0ec; font-weight: bold\">padding_mask</span>\n",
       "    └── <span style=\"color: #00bc70; text-decoration-color: #00bc70; font-weight: bold\">bool[64]</span>\n",
       "</pre>\n"
      ],
      "text/plain": [
       "\u001b[1;38;2;0;160;236marg0 >>> Graphs\u001b[0m\n",
       "├── \u001b[1;38;2;0;160;236mnode_emb\u001b[0m\n",
       "│   └── \u001b[1;38;2;0;188;112mf32[512, 128]\u001b[0m\n",
       "├── \u001b[1;38;2;0;160;236mincoming\u001b[0m\n",
       "│   └── \u001b[1;38;2;0;188;112mi32[512, 32]\u001b[0m\n",
       "├── \u001b[1;38;2;0;160;236mincoming_pad\u001b[0m\n",
       "│   └── \u001b[1;38;2;0;188;112mbool[512, 32]\u001b[0m\n",
       "├── \u001b[1;38;2;0;160;236moutgoing\u001b[0m\n",
       "│   └── \u001b[1;38;2;0;188;112mi32[512, 20]\u001b[0m\n",
       "├── \u001b[1;38;2;0;160;236moutgoing_pad\u001b[0m\n",
       "│   └── \u001b[1;38;2;0;188;112mbool[512, 20]\u001b[0m\n",
       "├── \u001b[1;38;2;0;160;236mcarts\u001b[0m\n",
       "│   └── \u001b[1;38;2;0;188;112mf32[512, 3]\u001b[0m\n",
       "├── \u001b[1;38;2;0;160;236mdists\u001b[0m\n",
       "│   └── \u001b[1;38;2;0;188;112mf32[9872]\u001b[0m\n",
       "├── \u001b[1;38;2;0;160;236mvecs\u001b[0m\n",
       "│   └── \u001b[1;38;2;0;188;112mf32[9872, 3]\u001b[0m\n",
       "├── \u001b[1;38;2;0;160;236msenders\u001b[0m\n",
       "│   └── \u001b[1;38;2;0;188;112mi32[9872]\u001b[0m\n",
       "├── \u001b[1;38;2;0;160;236mreceivers\u001b[0m\n",
       "│   └── \u001b[1;38;2;0;188;112mi32[9872]\u001b[0m\n",
       "├── \u001b[1;38;2;0;160;236medge_emb\u001b[0m\n",
       "│   └── \u001b[1;38;2;0;188;112mf32[9872, 128]\u001b[0m\n",
       "├── \u001b[1;38;2;0;160;236mgraph_emb\u001b[0m\n",
       "│   └── \u001b[1;38;2;0;188;112mf32[64, 0]\u001b[0m\n",
       "├── \u001b[1;38;2;0;160;236mn_nodes\u001b[0m\n",
       "│   └── \u001b[1;38;2;0;188;112mi32[64]\u001b[0m\n",
       "├── \u001b[1;38;2;0;160;236mn_edges\u001b[0m\n",
       "│   └── \u001b[1;38;2;0;188;112mi32[64]\u001b[0m\n",
       "├── \u001b[1;38;2;0;160;236mnode_graph_i\u001b[0m\n",
       "│   └── \u001b[1;38;2;0;188;112mi32[512]\u001b[0m\n",
       "├── \u001b[1;38;2;0;160;236medge_graph_i\u001b[0m\n",
       "│   └── \u001b[1;38;2;0;188;112mi32[9872]\u001b[0m\n",
       "└── \u001b[1;38;2;0;160;236mpadding_mask\u001b[0m\n",
       "    └── \u001b[1;38;2;0;188;112mbool[64]\u001b[0m\n"
      ]
     },
     "metadata": {},
     "output_type": "display_data"
    }
   ],
   "source": [
    "debug_structure(g);"
   ]
  },
  {
   "cell_type": "code",
   "execution_count": 14,
   "metadata": {},
   "outputs": [
    {
     "data": {
      "text/html": [
       "<pre style=\"white-space:pre;overflow-x:auto;line-height:normal;font-family:Menlo,'DejaVu Sans Mono',consolas,'Courier New',monospace\"></pre>\n"
      ],
      "text/plain": []
     },
     "metadata": {},
     "output_type": "display_data"
    },
    {
     "data": {
      "text/plain": [
       "\n",
       "\u001b[1m[\u001b[0m\n",
       "    \u001b[1;35mArray\u001b[0m\u001b[1m(\u001b[0m\u001b[1m[\u001b[0m\u001b[1;36m0\u001b[0m, \u001b[1;36m0\u001b[0m, \u001b[1;36m0\u001b[0m, \u001b[1;36m0\u001b[0m, \u001b[1;36m0\u001b[0m, \u001b[1;36m0\u001b[0m, \u001b[1;36m0\u001b[0m, \u001b[1;36m0\u001b[0m, \u001b[1;36m0\u001b[0m, \u001b[1;36m0\u001b[0m, \u001b[1;36m0\u001b[0m, \u001b[1;36m0\u001b[0m, \u001b[1;36m0\u001b[0m, \u001b[1;36m0\u001b[0m, \u001b[1;36m0\u001b[0m, \u001b[1;36m0\u001b[0m, \u001b[1;36m0\u001b[0m, \u001b[1;36m0\u001b[0m, \u001b[1;36m0\u001b[0m, \u001b[1;36m0\u001b[0m\u001b[1m]\u001b[0m, \u001b[33mdtype\u001b[0m=\u001b[35mint32\u001b[0m\u001b[1m)\u001b[0m,\n",
       "    \u001b[1;35mArray\u001b[0m\u001b[1m(\u001b[0m\u001b[1m[\u001b[0m\u001b[1;36m1\u001b[0m, \u001b[1;36m1\u001b[0m, \u001b[1;36m1\u001b[0m, \u001b[1;36m1\u001b[0m, \u001b[1;36m1\u001b[0m, \u001b[1;36m1\u001b[0m, \u001b[1;36m1\u001b[0m, \u001b[1;36m1\u001b[0m, \u001b[1;36m1\u001b[0m, \u001b[1;36m1\u001b[0m, \u001b[1;36m1\u001b[0m, \u001b[1;36m1\u001b[0m, \u001b[1;36m1\u001b[0m, \u001b[1;36m1\u001b[0m, \u001b[1;36m1\u001b[0m, \u001b[1;36m1\u001b[0m, \u001b[1;36m1\u001b[0m, \u001b[1;36m1\u001b[0m, \u001b[1;36m1\u001b[0m, \u001b[1;36m1\u001b[0m\u001b[1m]\u001b[0m, \u001b[33mdtype\u001b[0m=\u001b[35mint32\u001b[0m\u001b[1m)\u001b[0m,\n",
       "    \u001b[1;35mArray\u001b[0m\u001b[1m(\u001b[0m\u001b[1m[\u001b[0m\u001b[1;36m2\u001b[0m, \u001b[1;36m2\u001b[0m, \u001b[1;36m2\u001b[0m, \u001b[1;36m2\u001b[0m, \u001b[1;36m2\u001b[0m, \u001b[1;36m2\u001b[0m, \u001b[1;36m2\u001b[0m, \u001b[1;36m2\u001b[0m, \u001b[1;36m2\u001b[0m, \u001b[1;36m2\u001b[0m, \u001b[1;36m2\u001b[0m, \u001b[1;36m2\u001b[0m, \u001b[1;36m2\u001b[0m, \u001b[1;36m2\u001b[0m, \u001b[1;36m2\u001b[0m, \u001b[1;36m2\u001b[0m, \u001b[1;36m2\u001b[0m, \u001b[1;36m2\u001b[0m, \u001b[1;36m2\u001b[0m, \u001b[1;36m2\u001b[0m\u001b[1m]\u001b[0m, \u001b[33mdtype\u001b[0m=\u001b[35mint32\u001b[0m\u001b[1m)\u001b[0m,\n",
       "    \u001b[1;35mArray\u001b[0m\u001b[1m(\u001b[0m\u001b[1m[\u001b[0m\u001b[1;36m3\u001b[0m, \u001b[1;36m3\u001b[0m, \u001b[1;36m3\u001b[0m, \u001b[1;36m3\u001b[0m, \u001b[1;36m3\u001b[0m, \u001b[1;36m3\u001b[0m, \u001b[1;36m3\u001b[0m, \u001b[1;36m3\u001b[0m, \u001b[1;36m3\u001b[0m, \u001b[1;36m3\u001b[0m, \u001b[1;36m3\u001b[0m, \u001b[1;36m3\u001b[0m, \u001b[1;36m3\u001b[0m, \u001b[1;36m3\u001b[0m, \u001b[1;36m3\u001b[0m, \u001b[1;36m3\u001b[0m, \u001b[1;36m3\u001b[0m, \u001b[1;36m3\u001b[0m\u001b[1m]\u001b[0m, \u001b[33mdtype\u001b[0m=\u001b[35mint32\u001b[0m\u001b[1m)\u001b[0m,\n",
       "    \u001b[1;35mArray\u001b[0m\u001b[1m(\u001b[0m\u001b[1m[\u001b[0m\u001b[1;36m4\u001b[0m, \u001b[1;36m4\u001b[0m, \u001b[1;36m4\u001b[0m, \u001b[1;36m4\u001b[0m, \u001b[1;36m4\u001b[0m, \u001b[1;36m4\u001b[0m, \u001b[1;36m4\u001b[0m, \u001b[1;36m4\u001b[0m, \u001b[1;36m4\u001b[0m, \u001b[1;36m4\u001b[0m, \u001b[1;36m4\u001b[0m, \u001b[1;36m4\u001b[0m, \u001b[1;36m4\u001b[0m, \u001b[1;36m4\u001b[0m, \u001b[1;36m4\u001b[0m, \u001b[1;36m4\u001b[0m, \u001b[1;36m4\u001b[0m, \u001b[1;36m4\u001b[0m\u001b[1m]\u001b[0m, \u001b[33mdtype\u001b[0m=\u001b[35mint32\u001b[0m\u001b[1m)\u001b[0m,\n",
       "    \u001b[1;35mArray\u001b[0m\u001b[1m(\u001b[0m\u001b[1m[\u001b[0m\u001b[1;36m5\u001b[0m, \u001b[1;36m5\u001b[0m, \u001b[1;36m5\u001b[0m, \u001b[1;36m5\u001b[0m, \u001b[1;36m5\u001b[0m, \u001b[1;36m5\u001b[0m, \u001b[1;36m5\u001b[0m, \u001b[1;36m5\u001b[0m, \u001b[1;36m5\u001b[0m, \u001b[1;36m5\u001b[0m, \u001b[1;36m5\u001b[0m, \u001b[1;36m5\u001b[0m, \u001b[1;36m5\u001b[0m, \u001b[1;36m5\u001b[0m, \u001b[1;36m5\u001b[0m, \u001b[1;36m5\u001b[0m\u001b[1m]\u001b[0m, \u001b[33mdtype\u001b[0m=\u001b[35mint32\u001b[0m\u001b[1m)\u001b[0m,\n",
       "    \u001b[1;35mArray\u001b[0m\u001b[1m(\u001b[0m\u001b[1m[\u001b[0m\u001b[1;36m6\u001b[0m, \u001b[1;36m6\u001b[0m, \u001b[1;36m6\u001b[0m, \u001b[1;36m6\u001b[0m, \u001b[1;36m6\u001b[0m, \u001b[1;36m6\u001b[0m, \u001b[1;36m6\u001b[0m, \u001b[1;36m6\u001b[0m, \u001b[1;36m6\u001b[0m, \u001b[1;36m6\u001b[0m, \u001b[1;36m6\u001b[0m, \u001b[1;36m6\u001b[0m, \u001b[1;36m6\u001b[0m, \u001b[1;36m6\u001b[0m, \u001b[1;36m6\u001b[0m, \u001b[1;36m6\u001b[0m\u001b[1m]\u001b[0m, \u001b[33mdtype\u001b[0m=\u001b[35mint32\u001b[0m\u001b[1m)\u001b[0m,\n",
       "    \u001b[1;35mArray\u001b[0m\u001b[1m(\u001b[0m\u001b[1m[\u001b[0m\u001b[1;36m7\u001b[0m, \u001b[1;36m7\u001b[0m, \u001b[1;36m7\u001b[0m, \u001b[1;36m7\u001b[0m, \u001b[1;36m7\u001b[0m, \u001b[1;36m7\u001b[0m, \u001b[1;36m7\u001b[0m, \u001b[1;36m7\u001b[0m, \u001b[1;36m7\u001b[0m, \u001b[1;36m7\u001b[0m, \u001b[1;36m7\u001b[0m, \u001b[1;36m7\u001b[0m, \u001b[1;36m7\u001b[0m, \u001b[1;36m7\u001b[0m, \u001b[1;36m7\u001b[0m, \u001b[1;36m7\u001b[0m\u001b[1m]\u001b[0m, \u001b[33mdtype\u001b[0m=\u001b[35mint32\u001b[0m\u001b[1m)\u001b[0m,\n",
       "    \u001b[1;35mArray\u001b[0m\u001b[1m(\u001b[0m\u001b[1m[\u001b[0m\u001b[1;36m8\u001b[0m, \u001b[1;36m8\u001b[0m, \u001b[1;36m8\u001b[0m, \u001b[1;36m8\u001b[0m, \u001b[1;36m8\u001b[0m, \u001b[1;36m8\u001b[0m, \u001b[1;36m8\u001b[0m, \u001b[1;36m8\u001b[0m, \u001b[1;36m8\u001b[0m, \u001b[1;36m8\u001b[0m, \u001b[1;36m8\u001b[0m, \u001b[1;36m8\u001b[0m, \u001b[1;36m8\u001b[0m, \u001b[1;36m8\u001b[0m\u001b[1m]\u001b[0m, \u001b[33mdtype\u001b[0m=\u001b[35mint32\u001b[0m\u001b[1m)\u001b[0m,\n",
       "    \u001b[1;35mArray\u001b[0m\u001b[1m(\u001b[0m\u001b[1m[\u001b[0m\u001b[1;36m9\u001b[0m, \u001b[1;36m9\u001b[0m, \u001b[1;36m9\u001b[0m, \u001b[1;36m9\u001b[0m, \u001b[1;36m9\u001b[0m, \u001b[1;36m9\u001b[0m, \u001b[1;36m9\u001b[0m, \u001b[1;36m9\u001b[0m, \u001b[1;36m9\u001b[0m, \u001b[1;36m9\u001b[0m, \u001b[1;36m9\u001b[0m, \u001b[1;36m9\u001b[0m, \u001b[1;36m9\u001b[0m, \u001b[1;36m9\u001b[0m\u001b[1m]\u001b[0m, \u001b[33mdtype\u001b[0m=\u001b[35mint32\u001b[0m\u001b[1m)\u001b[0m,\n",
       "    \u001b[33m...\u001b[0m +\u001b[1;36m55\u001b[0m\n",
       "\u001b[1m]\u001b[0m"
      ]
     },
     "execution_count": 14,
     "metadata": {},
     "output_type": "execute_result"
    }
   ],
   "source": [
    "jnp.split(g.node_graph_i, jnp.cumsum(g.n_nodes))"
   ]
  },
  {
   "cell_type": "code",
   "execution_count": 16,
   "metadata": {},
   "outputs": [
    {
     "data": {
      "text/html": [
       "<pre style=\"white-space:pre;overflow-x:auto;line-height:normal;font-family:Menlo,'DejaVu Sans Mono',consolas,'Courier New',monospace\"></pre>\n"
      ],
      "text/plain": []
     },
     "metadata": {},
     "output_type": "display_data"
    },
    {
     "data": {
      "text/plain": [
       "\n",
       "\u001b[1;35mArray\u001b[0m\u001b[1m(\u001b[0m\u001b[1m[\u001b[0m\u001b[1m[\u001b[0m\u001b[1;36m-0.26378998\u001b[0m,  \u001b[1;36m1.3603293\u001b[0m ,  \u001b[1;36m3.785032\u001b[0m  \u001b[1m]\u001b[0m,\n",
       "       \u001b[1m[\u001b[0m \u001b[1;36m2.1203477\u001b[0m ,  \u001b[1;36m1.377736\u001b[0m  ,  \u001b[1;36m0.8357895\u001b[0m \u001b[1m]\u001b[0m,\n",
       "       \u001b[1m[\u001b[0m \u001b[1;36m2.674069\u001b[0m  ,  \u001b[1;36m0.9959503\u001b[0m ,  \u001b[1;36m6.254862\u001b[0m  \u001b[1m]\u001b[0m,\n",
       "       \u001b[1m[\u001b[0m \u001b[1;36m5.0582066\u001b[0m ,  \u001b[1;36m1.013357\u001b[0m  ,  \u001b[1;36m3.3056192\u001b[0m \u001b[1m]\u001b[0m,\n",
       "       \u001b[1m[\u001b[0m \u001b[1;36m0.9661557\u001b[0m ,  \u001b[1;36m1.0847164\u001b[0m ,  \u001b[1;36m5.1100893\u001b[0m \u001b[1m]\u001b[0m,\n",
       "       \u001b[1m[\u001b[0m \u001b[1;36m1.0272698\u001b[0m ,  \u001b[1;36m1.736202\u001b[0m  ,  \u001b[1;36m2.2607112\u001b[0m \u001b[1m]\u001b[0m,\n",
       "       \u001b[1m[\u001b[0m \u001b[1;36m3.7671468\u001b[0m ,  \u001b[1;36m0.63748425\u001b[0m,  \u001b[1;36m4.82994\u001b[0m   \u001b[1m]\u001b[0m,\n",
       "       \u001b[1m[\u001b[0m \u001b[1;36m3.828261\u001b[0m  ,  \u001b[1;36m1.2889699\u001b[0m ,  \u001b[1;36m1.9805619\u001b[0m \u001b[1m]\u001b[0m,\n",
       "       \u001b[1m[\u001b[0m \u001b[1;36m5.24418\u001b[0m   ,  \u001b[1;36m2.6651103\u001b[0m ,  \u001b[1;36m4.2230144\u001b[0m \u001b[1m]\u001b[0m,\n",
       "       \u001b[1m[\u001b[0m \u001b[1;36m5.2983813\u001b[0m , \u001b[1;36m-0.8842216\u001b[0m ,  \u001b[1;36m3.252501\u001b[0m  \u001b[1m]\u001b[0m,\n",
       "       \u001b[1m[\u001b[0m\u001b[1;36m-0.32267967\u001b[0m,  \u001b[1;36m4.1740274\u001b[0m ,  \u001b[1;36m0.6696388\u001b[0m \u001b[1m]\u001b[0m,\n",
       "       \u001b[1m[\u001b[0m \u001b[1;36m1.989725\u001b[0m  , \u001b[1;36m-0.8681227\u001b[0m ,  \u001b[1;36m6.7803454\u001b[0m \u001b[1m]\u001b[0m,\n",
       "       \u001b[1m[\u001b[0m \u001b[1;36m2.8046918\u001b[0m ,  \u001b[1;36m3.241809\u001b[0m  ,  \u001b[1;36m0.31030566\u001b[0m\u001b[1m]\u001b[0m,\n",
       "       \u001b[1m[\u001b[0m\u001b[1;36m-0.7672417\u001b[0m , \u001b[1;36m-0.50225055\u001b[0m,  \u001b[1;36m7.098766\u001b[0m  \u001b[1m]\u001b[0m,\n",
       "       \u001b[1m[\u001b[0m\u001b[1;36m-0.5039649\u001b[0m ,  \u001b[1;36m3.2579079\u001b[0m ,  \u001b[1;36m3.8381503\u001b[0m \u001b[1m]\u001b[0m,\n",
       "       \u001b[1m[\u001b[0m\u001b[1;36m-0.44976336\u001b[0m, \u001b[1;36m-0.29142416\u001b[0m,  \u001b[1;36m2.867637\u001b[0m  \u001b[1m]\u001b[0m,\n",
       "       \u001b[1m[\u001b[0m \u001b[1;36m5.5616584\u001b[0m ,  \u001b[1;36m2.8759367\u001b[0m , \u001b[1;36m-0.00811461\u001b[0m\u001b[1m]\u001b[0m,\n",
       "       \u001b[1m[\u001b[0m\u001b[1;36m-1.8607508\u001b[0m ,  \u001b[1;36m1.007663\u001b[0m  ,  \u001b[1;36m4.960875\u001b[0m  \u001b[1m]\u001b[0m,\n",
       "       \u001b[1m[\u001b[0m \u001b[1;36m5.1170964\u001b[0m , \u001b[1;36m-1.8003411\u001b[0m ,  \u001b[1;36m6.4210124\u001b[0m \u001b[1m]\u001b[0m,\n",
       "       \u001b[1m[\u001b[0m \u001b[1;36m6.6551676\u001b[0m ,  \u001b[1;36m1.3660233\u001b[0m ,  \u001b[1;36m2.129776\u001b[0m  \u001b[1m]\u001b[0m\u001b[1m]\u001b[0m, \u001b[33mdtype\u001b[0m=\u001b[35mfloat32\u001b[0m\u001b[1m)\u001b[0m"
      ]
     },
     "execution_count": 16,
     "metadata": {},
     "output_type": "execute_result"
    }
   ],
   "source": [
    "carts0 = jnp.split(g.carts, jnp.cumsum(g.n_nodes))[0]\n",
    "carts0"
   ]
  },
  {
   "cell_type": "code",
   "execution_count": 21,
   "metadata": {},
   "outputs": [
    {
     "data": {
      "text/html": [
       "<pre style=\"white-space:pre;overflow-x:auto;line-height:normal;font-family:Menlo,'DejaVu Sans Mono',consolas,'Courier New',monospace\"></pre>\n"
      ],
      "text/plain": []
     },
     "metadata": {},
     "output_type": "display_data"
    },
    {
     "data": {
      "text/plain": [
       "\n",
       "\u001b[1;35mArray\u001b[0m\u001b[1m(\u001b[0m\u001b[1m[\u001b[0m\u001b[1m[\u001b[0m\u001b[1;36m-1\u001b[0m, \u001b[1;36m-1\u001b[0m, \u001b[1;36m-1\u001b[0m\u001b[1m]\u001b[0m,\n",
       "       \u001b[1m[\u001b[0m\u001b[1;36m-1\u001b[0m, \u001b[1;36m-1\u001b[0m,  \u001b[1;36m0\u001b[0m\u001b[1m]\u001b[0m,\n",
       "       \u001b[1m[\u001b[0m\u001b[1;36m-1\u001b[0m, \u001b[1;36m-1\u001b[0m,  \u001b[1;36m1\u001b[0m\u001b[1m]\u001b[0m,\n",
       "       \u001b[1m[\u001b[0m\u001b[1;36m-1\u001b[0m,  \u001b[1;36m0\u001b[0m, \u001b[1;36m-1\u001b[0m\u001b[1m]\u001b[0m,\n",
       "       \u001b[1m[\u001b[0m\u001b[1;36m-1\u001b[0m,  \u001b[1;36m0\u001b[0m,  \u001b[1;36m0\u001b[0m\u001b[1m]\u001b[0m,\n",
       "       \u001b[1m[\u001b[0m\u001b[1;36m-1\u001b[0m,  \u001b[1;36m0\u001b[0m,  \u001b[1;36m1\u001b[0m\u001b[1m]\u001b[0m,\n",
       "       \u001b[1m[\u001b[0m\u001b[1;36m-1\u001b[0m,  \u001b[1;36m1\u001b[0m, \u001b[1;36m-1\u001b[0m\u001b[1m]\u001b[0m,\n",
       "       \u001b[1m[\u001b[0m\u001b[1;36m-1\u001b[0m,  \u001b[1;36m1\u001b[0m,  \u001b[1;36m0\u001b[0m\u001b[1m]\u001b[0m,\n",
       "       \u001b[1m[\u001b[0m\u001b[1;36m-1\u001b[0m,  \u001b[1;36m1\u001b[0m,  \u001b[1;36m1\u001b[0m\u001b[1m]\u001b[0m,\n",
       "       \u001b[1m[\u001b[0m \u001b[1;36m0\u001b[0m, \u001b[1;36m-1\u001b[0m, \u001b[1;36m-1\u001b[0m\u001b[1m]\u001b[0m,\n",
       "       \u001b[1m[\u001b[0m \u001b[1;36m0\u001b[0m, \u001b[1;36m-1\u001b[0m,  \u001b[1;36m0\u001b[0m\u001b[1m]\u001b[0m,\n",
       "       \u001b[1m[\u001b[0m \u001b[1;36m0\u001b[0m, \u001b[1;36m-1\u001b[0m,  \u001b[1;36m1\u001b[0m\u001b[1m]\u001b[0m,\n",
       "       \u001b[1m[\u001b[0m \u001b[1;36m0\u001b[0m,  \u001b[1;36m0\u001b[0m, \u001b[1;36m-1\u001b[0m\u001b[1m]\u001b[0m,\n",
       "       \u001b[1m[\u001b[0m \u001b[1;36m0\u001b[0m,  \u001b[1;36m0\u001b[0m,  \u001b[1;36m0\u001b[0m\u001b[1m]\u001b[0m,\n",
       "       \u001b[1m[\u001b[0m \u001b[1;36m0\u001b[0m,  \u001b[1;36m0\u001b[0m,  \u001b[1;36m1\u001b[0m\u001b[1m]\u001b[0m,\n",
       "       \u001b[1m[\u001b[0m \u001b[1;36m0\u001b[0m,  \u001b[1;36m1\u001b[0m, \u001b[1;36m-1\u001b[0m\u001b[1m]\u001b[0m,\n",
       "       \u001b[1m[\u001b[0m \u001b[1;36m0\u001b[0m,  \u001b[1;36m1\u001b[0m,  \u001b[1;36m0\u001b[0m\u001b[1m]\u001b[0m,\n",
       "       \u001b[1m[\u001b[0m \u001b[1;36m0\u001b[0m,  \u001b[1;36m1\u001b[0m,  \u001b[1;36m1\u001b[0m\u001b[1m]\u001b[0m,\n",
       "       \u001b[1m[\u001b[0m \u001b[1;36m1\u001b[0m, \u001b[1;36m-1\u001b[0m, \u001b[1;36m-1\u001b[0m\u001b[1m]\u001b[0m,\n",
       "       \u001b[1m[\u001b[0m \u001b[1;36m1\u001b[0m, \u001b[1;36m-1\u001b[0m,  \u001b[1;36m0\u001b[0m\u001b[1m]\u001b[0m,\n",
       "       \u001b[1m[\u001b[0m \u001b[1;36m1\u001b[0m, \u001b[1;36m-1\u001b[0m,  \u001b[1;36m1\u001b[0m\u001b[1m]\u001b[0m,\n",
       "       \u001b[1m[\u001b[0m \u001b[1;36m1\u001b[0m,  \u001b[1;36m0\u001b[0m, \u001b[1;36m-1\u001b[0m\u001b[1m]\u001b[0m,\n",
       "       \u001b[1m[\u001b[0m \u001b[1;36m1\u001b[0m,  \u001b[1;36m0\u001b[0m,  \u001b[1;36m0\u001b[0m\u001b[1m]\u001b[0m,\n",
       "       \u001b[1m[\u001b[0m \u001b[1;36m1\u001b[0m,  \u001b[1;36m0\u001b[0m,  \u001b[1;36m1\u001b[0m\u001b[1m]\u001b[0m,\n",
       "       \u001b[1m[\u001b[0m \u001b[1;36m1\u001b[0m,  \u001b[1;36m1\u001b[0m, \u001b[1;36m-1\u001b[0m\u001b[1m]\u001b[0m,\n",
       "       \u001b[1m[\u001b[0m \u001b[1;36m1\u001b[0m,  \u001b[1;36m1\u001b[0m,  \u001b[1;36m0\u001b[0m\u001b[1m]\u001b[0m,\n",
       "       \u001b[1m[\u001b[0m \u001b[1;36m1\u001b[0m,  \u001b[1;36m1\u001b[0m,  \u001b[1;36m1\u001b[0m\u001b[1m]\u001b[0m\u001b[1m]\u001b[0m, \u001b[33mdtype\u001b[0m=\u001b[35mint32\u001b[0m\u001b[1m)\u001b[0m"
      ]
     },
     "execution_count": 21,
     "metadata": {},
     "output_type": "execute_result"
    }
   ],
   "source": [
    "offsets = jnp.mgrid[-1:2, -1:2, -1:2].reshape(3, -1).T\n",
    "offsets"
   ]
  },
  {
   "cell_type": "code",
   "execution_count": 29,
   "metadata": {},
   "outputs": [
    {
     "data": {
      "text/html": [
       "<pre style=\"white-space:pre;overflow-x:auto;line-height:normal;font-family:Menlo,'DejaVu Sans Mono',consolas,'Courier New',monospace\"></pre>\n"
      ],
      "text/plain": []
     },
     "metadata": {},
     "output_type": "display_data"
    },
    {
     "data": {
      "text/plain": [
       "\u001b[1m(\u001b[0m\u001b[1;36m20\u001b[0m, \u001b[1;36m27\u001b[0m, \u001b[1;36m20\u001b[0m\u001b[1m)\u001b[0m"
      ]
     },
     "execution_count": 29,
     "metadata": {},
     "output_type": "execute_result"
    }
   ],
   "source": [
    "from eins import EinsOp, Reductions as R\n",
    "lat0 = batch.graph_data.lat[0]\n",
    "offset_carts = carts0[None, :, :] + offsets[:, None, :] @ lat0.T\n",
    "vecs = carts0[:, None, None, :] - offset_carts[None, :, :, :]\n",
    "dists = R.l2_norm(vecs, axis=-1)\n",
    "dists.shape"
   ]
  },
  {
   "cell_type": "code",
   "execution_count": 71,
   "metadata": {},
   "outputs": [
    {
     "data": {
      "text/html": [
       "<pre style=\"white-space:pre;overflow-x:auto;line-height:normal;font-family:Menlo,'DejaVu Sans Mono',consolas,'Courier New',monospace\"></pre>\n"
      ],
      "text/plain": []
     },
     "metadata": {},
     "output_type": "display_data"
    },
    {
     "data": {
      "text/plain": [
       "\n",
       "\u001b[1;35mArray\u001b[0m\u001b[1m(\u001b[0m\u001b[1m[\u001b[0m\u001b[1m[\u001b[0m \u001b[1;36m4\u001b[0m, \u001b[1;36m15\u001b[0m, \u001b[1;36m14\u001b[0m, \u001b[1;36m17\u001b[0m,  \u001b[1;36m5\u001b[0m, \u001b[1;36m10\u001b[0m, \u001b[1;36m16\u001b[0m, \u001b[1;36m19\u001b[0m, \u001b[1;36m13\u001b[0m, \u001b[1;36m11\u001b[0m\u001b[1m]\u001b[0m,\n",
       "       \u001b[1m[\u001b[0m \u001b[1;36m5\u001b[0m, \u001b[1;36m12\u001b[0m,  \u001b[1;36m7\u001b[0m,  \u001b[1;36m2\u001b[0m, \u001b[1;36m11\u001b[0m, \u001b[1;36m13\u001b[0m, \u001b[1;36m12\u001b[0m,  \u001b[1;36m4\u001b[0m, \u001b[1;36m10\u001b[0m, \u001b[1;36m15\u001b[0m\u001b[1m]\u001b[0m,\n",
       "       \u001b[1m[\u001b[0m \u001b[1;36m6\u001b[0m, \u001b[1;36m11\u001b[0m,  \u001b[1;36m4\u001b[0m,  \u001b[1;36m1\u001b[0m, \u001b[1;36m12\u001b[0m, \u001b[1;36m16\u001b[0m, \u001b[1;36m11\u001b[0m,  \u001b[1;36m7\u001b[0m, \u001b[1;36m18\u001b[0m,  \u001b[1;36m8\u001b[0m\u001b[1m]\u001b[0m,\n",
       "       \u001b[1m[\u001b[0m \u001b[1;36m7\u001b[0m,  \u001b[1;36m8\u001b[0m,  \u001b[1;36m9\u001b[0m, \u001b[1;36m19\u001b[0m,  \u001b[1;36m6\u001b[0m, \u001b[1;36m18\u001b[0m, \u001b[1;36m13\u001b[0m, \u001b[1;36m17\u001b[0m, \u001b[1;36m16\u001b[0m, \u001b[1;36m12\u001b[0m\u001b[1m]\u001b[0m,\n",
       "       \u001b[1m[\u001b[0m \u001b[1;36m0\u001b[0m,  \u001b[1;36m2\u001b[0m, \u001b[1;36m11\u001b[0m, \u001b[1;36m17\u001b[0m,  \u001b[1;36m6\u001b[0m, \u001b[1;36m11\u001b[0m, \u001b[1;36m14\u001b[0m, \u001b[1;36m14\u001b[0m,  \u001b[1;36m5\u001b[0m, \u001b[1;36m15\u001b[0m\u001b[1m]\u001b[0m,\n",
       "       \u001b[1m[\u001b[0m \u001b[1;36m1\u001b[0m,  \u001b[1;36m0\u001b[0m, \u001b[1;36m10\u001b[0m, \u001b[1;36m15\u001b[0m, \u001b[1;36m14\u001b[0m,  \u001b[1;36m7\u001b[0m,  \u001b[1;36m4\u001b[0m, \u001b[1;36m12\u001b[0m, \u001b[1;36m10\u001b[0m, \u001b[1;36m11\u001b[0m\u001b[1m]\u001b[0m,\n",
       "       \u001b[1m[\u001b[0m \u001b[1;36m2\u001b[0m,  \u001b[1;36m3\u001b[0m, \u001b[1;36m18\u001b[0m,  \u001b[1;36m8\u001b[0m,  \u001b[1;36m9\u001b[0m,  \u001b[1;36m4\u001b[0m,  \u001b[1;36m7\u001b[0m, \u001b[1;36m11\u001b[0m, \u001b[1;36m18\u001b[0m, \u001b[1;36m12\u001b[0m\u001b[1m]\u001b[0m,\n",
       "       \u001b[1m[\u001b[0m \u001b[1;36m3\u001b[0m,  \u001b[1;36m1\u001b[0m, \u001b[1;36m12\u001b[0m, \u001b[1;36m19\u001b[0m,  \u001b[1;36m5\u001b[0m, \u001b[1;36m12\u001b[0m,  \u001b[1;36m9\u001b[0m,  \u001b[1;36m9\u001b[0m,  \u001b[1;36m6\u001b[0m,  \u001b[1;36m8\u001b[0m\u001b[1m]\u001b[0m,\n",
       "       \u001b[1m[\u001b[0m\u001b[1;36m18\u001b[0m,  \u001b[1;36m3\u001b[0m,  \u001b[1;36m6\u001b[0m, \u001b[1;36m19\u001b[0m, \u001b[1;36m13\u001b[0m,  \u001b[1;36m7\u001b[0m,  \u001b[1;36m9\u001b[0m, \u001b[1;36m17\u001b[0m, \u001b[1;36m16\u001b[0m,  \u001b[1;36m6\u001b[0m\u001b[1m]\u001b[0m,\n",
       "       \u001b[1m[\u001b[0m\u001b[1;36m16\u001b[0m, \u001b[1;36m17\u001b[0m,  \u001b[1;36m3\u001b[0m, \u001b[1;36m12\u001b[0m,  \u001b[1;36m6\u001b[0m, \u001b[1;36m19\u001b[0m,  \u001b[1;36m7\u001b[0m,  \u001b[1;36m7\u001b[0m, \u001b[1;36m19\u001b[0m,  \u001b[1;36m8\u001b[0m\u001b[1m]\u001b[0m,\n",
       "       \u001b[1m[\u001b[0m\u001b[1;36m15\u001b[0m,  \u001b[1;36m0\u001b[0m,  \u001b[1;36m5\u001b[0m,  \u001b[1;36m4\u001b[0m,  \u001b[1;36m5\u001b[0m, \u001b[1;36m17\u001b[0m, \u001b[1;36m12\u001b[0m, \u001b[1;36m14\u001b[0m, \u001b[1;36m13\u001b[0m, \u001b[1;36m16\u001b[0m\u001b[1m]\u001b[0m,\n",
       "       \u001b[1m[\u001b[0m \u001b[1;36m2\u001b[0m, \u001b[1;36m14\u001b[0m,  \u001b[1;36m1\u001b[0m,  \u001b[1;36m4\u001b[0m, \u001b[1;36m13\u001b[0m,  \u001b[1;36m4\u001b[0m,  \u001b[1;36m6\u001b[0m, \u001b[1;36m18\u001b[0m,  \u001b[1;36m5\u001b[0m,  \u001b[1;36m0\u001b[0m\u001b[1m]\u001b[0m,\n",
       "       \u001b[1m[\u001b[0m \u001b[1;36m1\u001b[0m,  \u001b[1;36m9\u001b[0m,  \u001b[1;36m2\u001b[0m,  \u001b[1;36m7\u001b[0m, \u001b[1;36m16\u001b[0m,  \u001b[1;36m7\u001b[0m,  \u001b[1;36m5\u001b[0m, \u001b[1;36m10\u001b[0m,  \u001b[1;36m6\u001b[0m,  \u001b[1;36m3\u001b[0m\u001b[1m]\u001b[0m,\n",
       "       \u001b[1m[\u001b[0m\u001b[1;36m14\u001b[0m, \u001b[1;36m19\u001b[0m, \u001b[1;36m11\u001b[0m, \u001b[1;36m17\u001b[0m,  \u001b[1;36m8\u001b[0m,  \u001b[1;36m3\u001b[0m,  \u001b[1;36m4\u001b[0m,  \u001b[1;36m0\u001b[0m, \u001b[1;36m17\u001b[0m, \u001b[1;36m10\u001b[0m\u001b[1m]\u001b[0m,\n",
       "       \u001b[1m[\u001b[0m\u001b[1;36m13\u001b[0m, \u001b[1;36m19\u001b[0m,  \u001b[1;36m0\u001b[0m, \u001b[1;36m11\u001b[0m,  \u001b[1;36m5\u001b[0m, \u001b[1;36m17\u001b[0m,  \u001b[1;36m4\u001b[0m,  \u001b[1;36m4\u001b[0m, \u001b[1;36m17\u001b[0m, \u001b[1;36m15\u001b[0m\u001b[1m]\u001b[0m,\n",
       "       \u001b[1m[\u001b[0m\u001b[1;36m10\u001b[0m,  \u001b[1;36m0\u001b[0m,  \u001b[1;36m5\u001b[0m, \u001b[1;36m17\u001b[0m, \u001b[1;36m16\u001b[0m,  \u001b[1;36m4\u001b[0m, \u001b[1;36m14\u001b[0m, \u001b[1;36m19\u001b[0m, \u001b[1;36m13\u001b[0m,  \u001b[1;36m5\u001b[0m\u001b[1m]\u001b[0m,\n",
       "       \u001b[1m[\u001b[0m \u001b[1;36m9\u001b[0m, \u001b[1;36m17\u001b[0m, \u001b[1;36m12\u001b[0m, \u001b[1;36m19\u001b[0m, \u001b[1;36m15\u001b[0m,  \u001b[1;36m0\u001b[0m,  \u001b[1;36m7\u001b[0m,  \u001b[1;36m3\u001b[0m, \u001b[1;36m19\u001b[0m, \u001b[1;36m18\u001b[0m\u001b[1m]\u001b[0m,\n",
       "       \u001b[1m[\u001b[0m \u001b[1;36m9\u001b[0m, \u001b[1;36m16\u001b[0m,  \u001b[1;36m0\u001b[0m, \u001b[1;36m19\u001b[0m,  \u001b[1;36m4\u001b[0m, \u001b[1;36m13\u001b[0m, \u001b[1;36m15\u001b[0m, \u001b[1;36m14\u001b[0m, \u001b[1;36m14\u001b[0m, \u001b[1;36m19\u001b[0m\u001b[1m]\u001b[0m,\n",
       "       \u001b[1m[\u001b[0m \u001b[1;36m8\u001b[0m,  \u001b[1;36m3\u001b[0m,  \u001b[1;36m6\u001b[0m,  \u001b[1;36m7\u001b[0m,  \u001b[1;36m6\u001b[0m, \u001b[1;36m19\u001b[0m, \u001b[1;36m11\u001b[0m,  \u001b[1;36m9\u001b[0m, \u001b[1;36m16\u001b[0m, \u001b[1;36m13\u001b[0m\u001b[1m]\u001b[0m,\n",
       "       \u001b[1m[\u001b[0m\u001b[1;36m14\u001b[0m, \u001b[1;36m13\u001b[0m,  \u001b[1;36m3\u001b[0m, \u001b[1;36m17\u001b[0m,  \u001b[1;36m7\u001b[0m, \u001b[1;36m16\u001b[0m,  \u001b[1;36m8\u001b[0m,  \u001b[1;36m9\u001b[0m,  \u001b[1;36m9\u001b[0m, \u001b[1;36m17\u001b[0m\u001b[1m]\u001b[0m\u001b[1m]\u001b[0m, \u001b[33mdtype\u001b[0m=\u001b[35mint32\u001b[0m\u001b[1m)\u001b[0m"
      ]
     },
     "execution_count": 71,
     "metadata": {},
     "output_type": "execute_result"
    }
   ],
   "source": [
    "k = 10\n",
    "dists_flat = dists.reshape(dists.shape[0], -1)\n",
    "vals, inds = jax.lax.approx_min_k(dists_flat, k=k+1, reduction_dimension=-1)\n",
    "vals = vals[..., 1:]\n",
    "inds = inds[..., 1:]\n",
    "ind_offsets = offsets[inds // dists.shape[-1]]\n",
    "out_node_i = inds % dists.shape[-1]\n",
    "\n",
    "out_node_i"
   ]
  },
  {
   "cell_type": "code",
   "execution_count": 78,
   "metadata": {},
   "outputs": [],
   "source": [
    "graph_i = 0\n",
    "\n",
    "to_jimage = ind_offsets.reshape(-1, 3)\n",
    "edge_graph_i = jnp.zeros(to_jimage.shape[0]) + graph_i\n",
    "sender = jnp.repeat(jnp.arange(dists.shape[-1]), k)\n",
    "receiver = out_node_i.reshape(-1)"
   ]
  },
  {
   "cell_type": "code",
   "execution_count": 75,
   "metadata": {},
   "outputs": [
    {
     "data": {
      "text/html": [
       "<pre style=\"white-space:pre;overflow-x:auto;line-height:normal;font-family:Menlo,'DejaVu Sans Mono',consolas,'Courier New',monospace\"><span style=\"color: #00a0ec; text-decoration-color: #00a0ec; font-weight: bold\">arg0 &gt;&gt;&gt; CrystalGraphs</span>\n",
       "├── <span style=\"color: #00a0ec; text-decoration-color: #00a0ec; font-weight: bold\">nodes</span>\n",
       "│   ├── <span style=\"color: #00bc70; text-decoration-color: #00bc70; font-weight: bold\">species</span>\n",
       "│   │   └── <span style=\"color: #ff7300; text-decoration-color: #ff7300; font-weight: bold\">i16[512]</span>\n",
       "│   ├── <span style=\"color: #00bc70; text-decoration-color: #00bc70; font-weight: bold\">frac</span>\n",
       "│   │   └── <span style=\"color: #ff7300; text-decoration-color: #ff7300; font-weight: bold\">f32[512, 3]</span>\n",
       "│   ├── <span style=\"color: #00bc70; text-decoration-color: #00bc70; font-weight: bold\">cart</span>\n",
       "│   │   └── <span style=\"color: #ff7300; text-decoration-color: #ff7300; font-weight: bold\">f32[512, 3]</span>\n",
       "│   ├── <span style=\"color: #00bc70; text-decoration-color: #00bc70; font-weight: bold\">incoming</span>\n",
       "│   │   └── <span style=\"color: #ff7300; text-decoration-color: #ff7300; font-weight: bold\">i32[512, 32]</span>\n",
       "│   ├── <span style=\"color: #00bc70; text-decoration-color: #00bc70; font-weight: bold\">incoming_pad</span>\n",
       "│   │   └── <span style=\"color: #ff7300; text-decoration-color: #ff7300; font-weight: bold\">bool[512, 32]</span>\n",
       "│   ├── <span style=\"color: #00bc70; text-decoration-color: #00bc70; font-weight: bold\">outgoing</span>\n",
       "│   │   └── <span style=\"color: #ff7300; text-decoration-color: #ff7300; font-weight: bold\">i32[512, 20]</span>\n",
       "│   ├── <span style=\"color: #00bc70; text-decoration-color: #00bc70; font-weight: bold\">outgoing_pad</span>\n",
       "│   │   └── <span style=\"color: #ff7300; text-decoration-color: #ff7300; font-weight: bold\">bool[512, 20]</span>\n",
       "│   └── <span style=\"color: #00bc70; text-decoration-color: #00bc70; font-weight: bold\">graph_i</span>\n",
       "│       └── <span style=\"color: #ff7300; text-decoration-color: #ff7300; font-weight: bold\">i32[512]</span>\n",
       "├── <span style=\"color: #00a0ec; text-decoration-color: #00a0ec; font-weight: bold\">edges</span>\n",
       "│   ├── <span style=\"color: #00bc70; text-decoration-color: #00bc70; font-weight: bold\">to_jimage</span>\n",
       "│   │   └── <span style=\"color: #ff7300; text-decoration-color: #ff7300; font-weight: bold\">i8[9872, 3]</span>\n",
       "│   ├── <span style=\"color: #00bc70; text-decoration-color: #00bc70; font-weight: bold\">graph_i</span>\n",
       "│   │   └── <span style=\"color: #ff7300; text-decoration-color: #ff7300; font-weight: bold\">i32[9872]</span>\n",
       "│   ├── <span style=\"color: #00bc70; text-decoration-color: #00bc70; font-weight: bold\">sender</span>\n",
       "│   │   └── <span style=\"color: #ff7300; text-decoration-color: #ff7300; font-weight: bold\">i32[9872]</span>\n",
       "│   └── <span style=\"color: #00bc70; text-decoration-color: #00bc70; font-weight: bold\">receiver</span>\n",
       "│       └── <span style=\"color: #ff7300; text-decoration-color: #ff7300; font-weight: bold\">i32[9872]</span>\n",
       "├── <span style=\"color: #00a0ec; text-decoration-color: #00a0ec; font-weight: bold\">n_node</span>\n",
       "│   └── <span style=\"color: #00bc70; text-decoration-color: #00bc70; font-weight: bold\">i32[64]</span>\n",
       "├── <span style=\"color: #00a0ec; text-decoration-color: #00a0ec; font-weight: bold\">n_edge</span>\n",
       "│   └── <span style=\"color: #00bc70; text-decoration-color: #00bc70; font-weight: bold\">i32[64]</span>\n",
       "├── <span style=\"color: #00a0ec; text-decoration-color: #00a0ec; font-weight: bold\">padding_mask</span>\n",
       "│   └── <span style=\"color: #00bc70; text-decoration-color: #00bc70; font-weight: bold\">bool[64]</span>\n",
       "└── <span style=\"color: #00a0ec; text-decoration-color: #00a0ec; font-weight: bold\">graph_data</span>\n",
       "    ├── <span style=\"color: #00bc70; text-decoration-color: #00bc70; font-weight: bold\">dataset_i</span>\n",
       "    │   └── <span style=\"color: #ff7300; text-decoration-color: #ff7300; font-weight: bold\">i32[64]</span>\n",
       "    ├── <span style=\"color: #00bc70; text-decoration-color: #00bc70; font-weight: bold\">abc</span>\n",
       "    │   └── <span style=\"color: #ff7300; text-decoration-color: #ff7300; font-weight: bold\">f32[64, 3]</span>\n",
       "    ├── <span style=\"color: #00bc70; text-decoration-color: #00bc70; font-weight: bold\">angles_rad</span>\n",
       "    │   └── <span style=\"color: #ff7300; text-decoration-color: #ff7300; font-weight: bold\">f32[64, 3]</span>\n",
       "    ├── <span style=\"color: #00bc70; text-decoration-color: #00bc70; font-weight: bold\">lat</span>\n",
       "    │   └── <span style=\"color: #ff7300; text-decoration-color: #ff7300; font-weight: bold\">f32[64, 3, 3]</span>\n",
       "    ├── <span style=\"color: #00bc70; text-decoration-color: #00bc70; font-weight: bold\">e_form</span>\n",
       "    │   └── <span style=\"color: #ff7300; text-decoration-color: #ff7300; font-weight: bold\">f32[64]</span>\n",
       "    ├── <span style=\"color: #00bc70; text-decoration-color: #00bc70; font-weight: bold\">bandgap</span>\n",
       "    │   └── <span style=\"color: #ff7300; text-decoration-color: #ff7300; font-weight: bold\">f32[64]</span>\n",
       "    ├── <span style=\"color: #00bc70; text-decoration-color: #00bc70; font-weight: bold\">e_total</span>\n",
       "    │   └── <span style=\"color: #ff7300; text-decoration-color: #ff7300; font-weight: bold\">f32[64]</span>\n",
       "    ├── <span style=\"color: #00bc70; text-decoration-color: #00bc70; font-weight: bold\">ehull</span>\n",
       "    │   └── <span style=\"color: #ff7300; text-decoration-color: #ff7300; font-weight: bold\">f32[64]</span>\n",
       "    ├── <span style=\"color: #00bc70; text-decoration-color: #00bc70; font-weight: bold\">dimensionality</span>\n",
       "    │   └── <span style=\"color: #ff7300; text-decoration-color: #ff7300; font-weight: bold\">f32[64]</span>\n",
       "    ├── <span style=\"color: #00bc70; text-decoration-color: #00bc70; font-weight: bold\">density</span>\n",
       "    │   └── <span style=\"color: #ff7300; text-decoration-color: #ff7300; font-weight: bold\">f32[64]</span>\n",
       "    ├── <span style=\"color: #00bc70; text-decoration-color: #00bc70; font-weight: bold\">space_group</span>\n",
       "    │   └── <span style=\"color: #ff7300; text-decoration-color: #ff7300; font-weight: bold\">f32[64]</span>\n",
       "    ├── <span style=\"color: #00bc70; text-decoration-color: #00bc70; font-weight: bold\">magmom</span>\n",
       "    │   └── <span style=\"color: #ff7300; text-decoration-color: #ff7300; font-weight: bold\">f32[64]</span>\n",
       "    └── <span style=\"color: #00bc70; text-decoration-color: #00bc70; font-weight: bold\">num_spec</span>\n",
       "        └── <span style=\"color: #ff7300; text-decoration-color: #ff7300; font-weight: bold\">f32[64]</span>\n",
       "</pre>\n"
      ],
      "text/plain": [
       "\u001b[1;38;2;0;160;236marg0 >>> CrystalGraphs\u001b[0m\n",
       "├── \u001b[1;38;2;0;160;236mnodes\u001b[0m\n",
       "│   ├── \u001b[1;38;2;0;188;112mspecies\u001b[0m\n",
       "│   │   └── \u001b[1;38;2;255;115;0mi16[512]\u001b[0m\n",
       "│   ├── \u001b[1;38;2;0;188;112mfrac\u001b[0m\n",
       "│   │   └── \u001b[1;38;2;255;115;0mf32[512, 3]\u001b[0m\n",
       "│   ├── \u001b[1;38;2;0;188;112mcart\u001b[0m\n",
       "│   │   └── \u001b[1;38;2;255;115;0mf32[512, 3]\u001b[0m\n",
       "│   ├── \u001b[1;38;2;0;188;112mincoming\u001b[0m\n",
       "│   │   └── \u001b[1;38;2;255;115;0mi32[512, 32]\u001b[0m\n",
       "│   ├── \u001b[1;38;2;0;188;112mincoming_pad\u001b[0m\n",
       "│   │   └── \u001b[1;38;2;255;115;0mbool[512, 32]\u001b[0m\n",
       "│   ├── \u001b[1;38;2;0;188;112moutgoing\u001b[0m\n",
       "│   │   └── \u001b[1;38;2;255;115;0mi32[512, 20]\u001b[0m\n",
       "│   ├── \u001b[1;38;2;0;188;112moutgoing_pad\u001b[0m\n",
       "│   │   └── \u001b[1;38;2;255;115;0mbool[512, 20]\u001b[0m\n",
       "│   └── \u001b[1;38;2;0;188;112mgraph_i\u001b[0m\n",
       "│       └── \u001b[1;38;2;255;115;0mi32[512]\u001b[0m\n",
       "├── \u001b[1;38;2;0;160;236medges\u001b[0m\n",
       "│   ├── \u001b[1;38;2;0;188;112mto_jimage\u001b[0m\n",
       "│   │   └── \u001b[1;38;2;255;115;0mi8[9872, 3]\u001b[0m\n",
       "│   ├── \u001b[1;38;2;0;188;112mgraph_i\u001b[0m\n",
       "│   │   └── \u001b[1;38;2;255;115;0mi32[9872]\u001b[0m\n",
       "│   ├── \u001b[1;38;2;0;188;112msender\u001b[0m\n",
       "│   │   └── \u001b[1;38;2;255;115;0mi32[9872]\u001b[0m\n",
       "│   └── \u001b[1;38;2;0;188;112mreceiver\u001b[0m\n",
       "│       └── \u001b[1;38;2;255;115;0mi32[9872]\u001b[0m\n",
       "├── \u001b[1;38;2;0;160;236mn_node\u001b[0m\n",
       "│   └── \u001b[1;38;2;0;188;112mi32[64]\u001b[0m\n",
       "├── \u001b[1;38;2;0;160;236mn_edge\u001b[0m\n",
       "│   └── \u001b[1;38;2;0;188;112mi32[64]\u001b[0m\n",
       "├── \u001b[1;38;2;0;160;236mpadding_mask\u001b[0m\n",
       "│   └── \u001b[1;38;2;0;188;112mbool[64]\u001b[0m\n",
       "└── \u001b[1;38;2;0;160;236mgraph_data\u001b[0m\n",
       "    ├── \u001b[1;38;2;0;188;112mdataset_i\u001b[0m\n",
       "    │   └── \u001b[1;38;2;255;115;0mi32[64]\u001b[0m\n",
       "    ├── \u001b[1;38;2;0;188;112mabc\u001b[0m\n",
       "    │   └── \u001b[1;38;2;255;115;0mf32[64, 3]\u001b[0m\n",
       "    ├── \u001b[1;38;2;0;188;112mangles_rad\u001b[0m\n",
       "    │   └── \u001b[1;38;2;255;115;0mf32[64, 3]\u001b[0m\n",
       "    ├── \u001b[1;38;2;0;188;112mlat\u001b[0m\n",
       "    │   └── \u001b[1;38;2;255;115;0mf32[64, 3, 3]\u001b[0m\n",
       "    ├── \u001b[1;38;2;0;188;112me_form\u001b[0m\n",
       "    │   └── \u001b[1;38;2;255;115;0mf32[64]\u001b[0m\n",
       "    ├── \u001b[1;38;2;0;188;112mbandgap\u001b[0m\n",
       "    │   └── \u001b[1;38;2;255;115;0mf32[64]\u001b[0m\n",
       "    ├── \u001b[1;38;2;0;188;112me_total\u001b[0m\n",
       "    │   └── \u001b[1;38;2;255;115;0mf32[64]\u001b[0m\n",
       "    ├── \u001b[1;38;2;0;188;112mehull\u001b[0m\n",
       "    │   └── \u001b[1;38;2;255;115;0mf32[64]\u001b[0m\n",
       "    ├── \u001b[1;38;2;0;188;112mdimensionality\u001b[0m\n",
       "    │   └── \u001b[1;38;2;255;115;0mf32[64]\u001b[0m\n",
       "    ├── \u001b[1;38;2;0;188;112mdensity\u001b[0m\n",
       "    │   └── \u001b[1;38;2;255;115;0mf32[64]\u001b[0m\n",
       "    ├── \u001b[1;38;2;0;188;112mspace_group\u001b[0m\n",
       "    │   └── \u001b[1;38;2;255;115;0mf32[64]\u001b[0m\n",
       "    ├── \u001b[1;38;2;0;188;112mmagmom\u001b[0m\n",
       "    │   └── \u001b[1;38;2;255;115;0mf32[64]\u001b[0m\n",
       "    └── \u001b[1;38;2;0;188;112mnum_spec\u001b[0m\n",
       "        └── \u001b[1;38;2;255;115;0mf32[64]\u001b[0m\n"
      ]
     },
     "metadata": {},
     "output_type": "display_data"
    }
   ],
   "source": [
    "debug_structure(batch);"
   ]
  },
  {
   "cell_type": "code",
   "execution_count": 63,
   "metadata": {},
   "outputs": [
    {
     "data": {
      "text/html": [
       "<pre style=\"white-space:pre;overflow-x:auto;line-height:normal;font-family:Menlo,'DejaVu Sans Mono',consolas,'Courier New',monospace\"></pre>\n"
      ],
      "text/plain": []
     },
     "metadata": {},
     "output_type": "display_data"
    },
    {
     "data": {
      "text/plain": [
       "\n",
       "\u001b[1;35mArray\u001b[0m\u001b[1m(\u001b[0m\u001b[1m[\u001b[0m\u001b[1m[\u001b[0m\u001b[1;36m1.8287989\u001b[0m , \u001b[1;36m1.8985492\u001b[0m , \u001b[1;36m1.913455\u001b[0m  , \u001b[1;36m2.014265\u001b[0m  , \u001b[1;36m2.032651\u001b[0m  ,\n",
       "        \u001b[1;36m2.1443985\u001b[0m , \u001b[1;36m2.8907363\u001b[0m , \u001b[1;36m3.121193\u001b[0m  , \u001b[1;36m3.1654005\u001b[0m , \u001b[1;36m3.3116136\u001b[0m ,\n",
       "        \u001b[1;36m3.467528\u001b[0m  , \u001b[1;36m3.4713855\u001b[0m , \u001b[1;36m3.5114207\u001b[0m , \u001b[1;36m3.7924194\u001b[0m , \u001b[1;36m3.8345141\u001b[0m ,\n",
       "        \u001b[1;36m3.8553658\u001b[0m , \u001b[1;36m4.198338\u001b[0m  , \u001b[1;36m4.2264395\u001b[0m , \u001b[1;36m4.259158\u001b[0m  , \u001b[1;36m4.2861705\u001b[0m \u001b[1m]\u001b[0m,\n",
       "       \u001b[1m[\u001b[0m\u001b[1;36m1.8313162\u001b[0m , \u001b[1;36m2.054076\u001b[0m  , \u001b[1;36m2.0579967\u001b[0m , \u001b[1;36m2.4565287\u001b[0m , \u001b[1;36m2.7560284\u001b[0m ,\n",
       "        \u001b[1;36m3.3171554\u001b[0m , \u001b[1;36m3.3490388\u001b[0m , \u001b[1;36m3.4454691\u001b[0m , \u001b[1;36m3.4842832\u001b[0m , \u001b[1;36m3.6769512\u001b[0m ,\n",
       "        \u001b[1;36m3.7168849\u001b[0m , \u001b[1;36m3.7924194\u001b[0m , \u001b[1;36m3.8313618\u001b[0m , \u001b[1;36m3.8469987\u001b[0m , \u001b[1;36m3.8553658\u001b[0m ,\n",
       "        \u001b[1;36m4.115112\u001b[0m  , \u001b[1;36m4.19968\u001b[0m   , \u001b[1;36m4.2575245\u001b[0m , \u001b[1;36m4.3832817\u001b[0m , \u001b[1;36m4.408654\u001b[0m  \u001b[1m]\u001b[0m,\n",
       "       \u001b[1m[\u001b[0m\u001b[1;36m1.8313165\u001b[0m , \u001b[1;36m2.054076\u001b[0m  , \u001b[1;36m2.057997\u001b[0m  , \u001b[1;36m2.4565284\u001b[0m , \u001b[1;36m2.7560282\u001b[0m ,\n",
       "        \u001b[1;36m3.3171551\u001b[0m , \u001b[1;36m3.3490388\u001b[0m , \u001b[1;36m3.445469\u001b[0m  , \u001b[1;36m3.4842834\u001b[0m , \u001b[1;36m3.6769514\u001b[0m ,\n",
       "        \u001b[1;36m3.7168849\u001b[0m , \u001b[1;36m3.7924194\u001b[0m , \u001b[1;36m3.831362\u001b[0m  , \u001b[1;36m3.8469987\u001b[0m , \u001b[1;36m3.8553658\u001b[0m ,\n",
       "        \u001b[1;36m4.115112\u001b[0m  , \u001b[1;36m4.1996794\u001b[0m , \u001b[1;36m4.2575245\u001b[0m , \u001b[1;36m4.3832817\u001b[0m , \u001b[1;36m4.408654\u001b[0m  \u001b[1m]\u001b[0m,\n",
       "       \u001b[1m[\u001b[0m\u001b[1;36m1.828799\u001b[0m  , \u001b[1;36m1.8985491\u001b[0m , \u001b[1;36m1.9134551\u001b[0m , \u001b[1;36m2.0142653\u001b[0m , \u001b[1;36m2.0326507\u001b[0m ,\n",
       "        \u001b[1;36m2.1443985\u001b[0m , \u001b[1;36m2.8907366\u001b[0m , \u001b[1;36m3.121193\u001b[0m  , \u001b[1;36m3.1654005\u001b[0m , \u001b[1;36m3.3116136\u001b[0m ,\n",
       "        \u001b[1;36m3.4675274\u001b[0m , \u001b[1;36m3.4713857\u001b[0m , \u001b[1;36m3.511421\u001b[0m  , \u001b[1;36m3.7924194\u001b[0m , \u001b[1;36m3.8345141\u001b[0m ,\n",
       "        \u001b[1;36m3.8553658\u001b[0m , \u001b[1;36m4.198338\u001b[0m  , \u001b[1;36m4.2264395\u001b[0m , \u001b[1;36m4.2591577\u001b[0m , \u001b[1;36m4.2861705\u001b[0m \u001b[1m]\u001b[0m,\n",
       "       \u001b[1m[\u001b[0m\u001b[1;36m1.8287989\u001b[0m , \u001b[1;36m2.057997\u001b[0m  , \u001b[1;36m2.7660496\u001b[0m , \u001b[1;36m2.83189\u001b[0m   , \u001b[1;36m2.8502722\u001b[0m ,\n",
       "        \u001b[1;36m2.8750634\u001b[0m , \u001b[1;36m2.9157925\u001b[0m , \u001b[1;36m2.91654\u001b[0m   , \u001b[1;36m2.9235466\u001b[0m , \u001b[1;36m2.987839\u001b[0m  ,\n",
       "        \u001b[1;36m3.03818\u001b[0m   , \u001b[1;36m3.0786307\u001b[0m , \u001b[1;36m3.4454691\u001b[0m , \u001b[1;36m3.5985842\u001b[0m , \u001b[1;36m3.6686008\u001b[0m ,\n",
       "        \u001b[1;36m3.7730577\u001b[0m , \u001b[1;36m4.116142\u001b[0m  , \u001b[1;36m4.2458577\u001b[0m , \u001b[1;36m4.248649\u001b[0m  , \u001b[1;36m4.2945914\u001b[0m \u001b[1m]\u001b[0m,\n",
       "       \u001b[1m[\u001b[0m\u001b[1;36m1.8313162\u001b[0m , \u001b[1;36m2.032651\u001b[0m  , \u001b[1;36m2.55883\u001b[0m   , \u001b[1;36m2.5809402\u001b[0m , \u001b[1;36m2.6736832\u001b[0m ,\n",
       "        \u001b[1;36m2.8502722\u001b[0m , \u001b[1;36m2.9235466\u001b[0m , \u001b[1;36m3.0381184\u001b[0m , \u001b[1;36m3.2088733\u001b[0m , \u001b[1;36m3.2875729\u001b[0m ,\n",
       "        \u001b[1;36m3.485639\u001b[0m  , \u001b[1;36m3.762013\u001b[0m  , \u001b[1;36m3.7737744\u001b[0m , \u001b[1;36m3.9134438\u001b[0m , \u001b[1;36m4.0202384\u001b[0m ,\n",
       "        \u001b[1;36m4.1095796\u001b[0m , \u001b[1;36m4.1161413\u001b[0m , \u001b[1;36m4.2042403\u001b[0m , \u001b[1;36m4.2264395\u001b[0m , \u001b[1;36m4.2462287\u001b[0m \u001b[1m]\u001b[0m,\n",
       "       \u001b[1m[\u001b[0m\u001b[1;36m1.8313165\u001b[0m , \u001b[1;36m2.0326507\u001b[0m , \u001b[1;36m2.55883\u001b[0m   , \u001b[1;36m2.5809405\u001b[0m , \u001b[1;36m2.673683\u001b[0m  ,\n",
       "        \u001b[1;36m2.8502722\u001b[0m , \u001b[1;36m2.9235466\u001b[0m , \u001b[1;36m3.0381184\u001b[0m , \u001b[1;36m3.2088733\u001b[0m , \u001b[1;36m3.2875729\u001b[0m ,\n",
       "        \u001b[1;36m3.4856396\u001b[0m , \u001b[1;36m3.762013\u001b[0m  , \u001b[1;36m3.7737744\u001b[0m , \u001b[1;36m3.9134438\u001b[0m , \u001b[1;36m4.0202384\u001b[0m ,\n",
       "        \u001b[1;36m4.10958\u001b[0m   , \u001b[1;36m4.1161413\u001b[0m , \u001b[1;36m4.2042403\u001b[0m , \u001b[1;36m4.2264395\u001b[0m , \u001b[1;36m4.246228\u001b[0m  \u001b[1m]\u001b[0m,\n",
       "       \u001b[1m[\u001b[0m\u001b[1;36m1.828799\u001b[0m  , \u001b[1;36m2.0579967\u001b[0m , \u001b[1;36m2.7660494\u001b[0m , \u001b[1;36m2.8318903\u001b[0m , \u001b[1;36m2.8502722\u001b[0m ,\n",
       "        \u001b[1;36m2.8750632\u001b[0m , \u001b[1;36m2.9157925\u001b[0m , \u001b[1;36m2.9165401\u001b[0m , \u001b[1;36m2.9235466\u001b[0m , \u001b[1;36m2.9878392\u001b[0m ,\n",
       "        \u001b[1;36m3.0381804\u001b[0m , \u001b[1;36m3.0786302\u001b[0m , \u001b[1;36m3.4454691\u001b[0m , \u001b[1;36m3.5985847\u001b[0m , \u001b[1;36m3.6686008\u001b[0m ,\n",
       "        \u001b[1;36m3.7730577\u001b[0m , \u001b[1;36m4.1161413\u001b[0m , \u001b[1;36m4.2458577\u001b[0m , \u001b[1;36m4.248649\u001b[0m  , \u001b[1;36m4.294592\u001b[0m  \u001b[1m]\u001b[0m,\n",
       "       \u001b[1m[\u001b[0m\u001b[1;36m0.43420416\u001b[0m, \u001b[1;36m1.8985491\u001b[0m , \u001b[1;36m2.5809405\u001b[0m , \u001b[1;36m2.839042\u001b[0m  , \u001b[1;36m2.888891\u001b[0m  ,\n",
       "        \u001b[1;36m2.9878392\u001b[0m , \u001b[1;36m3.2618835\u001b[0m , \u001b[1;36m3.3735962\u001b[0m , \u001b[1;36m3.4153965\u001b[0m , \u001b[1;36m3.4856396\u001b[0m ,\n",
       "        \u001b[1;36m3.6760595\u001b[0m , \u001b[1;36m3.6769514\u001b[0m , \u001b[1;36m3.6800258\u001b[0m , \u001b[1;36m3.6997194\u001b[0m , \u001b[1;36m3.9017327\u001b[0m ,\n",
       "        \u001b[1;36m4.115112\u001b[0m  , \u001b[1;36m4.1288576\u001b[0m , \u001b[1;36m4.2482576\u001b[0m , \u001b[1;36m4.2861705\u001b[0m , \u001b[1;36m4.4836006\u001b[0m \u001b[1m]\u001b[0m,\n",
       "       \u001b[1m[\u001b[0m\u001b[1;36m1.5768664\u001b[0m , \u001b[1;36m1.7829084\u001b[0m , \u001b[1;36m1.9134551\u001b[0m , \u001b[1;36m2.4860022\u001b[0m , \u001b[1;36m2.673683\u001b[0m  ,\n",
       "        \u001b[1;36m2.857443\u001b[0m  , \u001b[1;36m2.9157925\u001b[0m , \u001b[1;36m2.91654\u001b[0m   , \u001b[1;36m3.0601118\u001b[0m , \u001b[1;36m3.2618835\u001b[0m ,\n",
       "        \u001b[1;36m3.3032715\u001b[0m , \u001b[1;36m3.467528\u001b[0m  , \u001b[1;36m3.511421\u001b[0m  , \u001b[1;36m3.6372643\u001b[0m , \u001b[1;36m3.6652756\u001b[0m ,\n",
       "        \u001b[1;36m3.6800258\u001b[0m , \u001b[1;36m3.8313615\u001b[0m , \u001b[1;36m3.9437902\u001b[0m , \u001b[1;36m4.12415\u001b[0m   , \u001b[1;36m4.128858\u001b[0m  \u001b[1m]\u001b[0m,\n",
       "       \u001b[1m[\u001b[0m\u001b[1;36m0.43420416\u001b[0m, \u001b[1;36m2.1443982\u001b[0m , \u001b[1;36m2.5588298\u001b[0m , \u001b[1;36m3.0381799\u001b[0m , \u001b[1;36m3.2088733\u001b[0m ,\n",
       "        \u001b[1;36m3.2107904\u001b[0m , \u001b[1;36m3.2830784\u001b[0m , \u001b[1;36m3.3032715\u001b[0m , \u001b[1;36m3.304272\u001b[0m  , \u001b[1;36m3.3152754\u001b[0m ,\n",
       "        \u001b[1;36m3.4842834\u001b[0m , \u001b[1;36m3.6165056\u001b[0m , \u001b[1;36m3.7168849\u001b[0m , \u001b[1;36m3.9017327\u001b[0m , \u001b[1;36m3.9437902\u001b[0m ,\n",
       "        \u001b[1;36m4.1606116\u001b[0m , \u001b[1;36m4.198338\u001b[0m  , \u001b[1;36m4.3835497\u001b[0m , \u001b[1;36m4.398785\u001b[0m  , \u001b[1;36m4.4221854\u001b[0m \u001b[1m]\u001b[0m,\n",
       "       \u001b[1m[\u001b[0m\u001b[1;36m2.054076\u001b[0m  , \u001b[1;36m2.4860027\u001b[0m , \u001b[1;36m2.7560282\u001b[0m , \u001b[1;36m2.7660496\u001b[0m , \u001b[1;36m2.7993069\u001b[0m ,\n",
       "        \u001b[1;36m2.8750634\u001b[0m , \u001b[1;36m3.0381184\u001b[0m , \u001b[1;36m3.2830782\u001b[0m , \u001b[1;36m3.2875726\u001b[0m , \u001b[1;36m3.3116136\u001b[0m ,\n",
       "        \u001b[1;36m3.3490388\u001b[0m , \u001b[1;36m3.3754394\u001b[0m , \u001b[1;36m3.6997192\u001b[0m , \u001b[1;36m3.762013\u001b[0m  , \u001b[1;36m3.7730577\u001b[0m ,\n",
       "        \u001b[1;36m4.070692\u001b[0m  , \u001b[1;36m4.194676\u001b[0m  , \u001b[1;36m4.2462287\u001b[0m , \u001b[1;36m4.248649\u001b[0m  , \u001b[1;36m4.36076\u001b[0m   \u001b[1m]\u001b[0m,\n",
       "       \u001b[1m[\u001b[0m\u001b[1;36m2.054076\u001b[0m  , \u001b[1;36m2.4860024\u001b[0m , \u001b[1;36m2.7560282\u001b[0m , \u001b[1;36m2.7660494\u001b[0m , \u001b[1;36m2.7993069\u001b[0m ,\n",
       "        \u001b[1;36m2.8750632\u001b[0m , \u001b[1;36m3.0381184\u001b[0m , \u001b[1;36m3.2830784\u001b[0m , \u001b[1;36m3.2875726\u001b[0m , \u001b[1;36m3.3116138\u001b[0m ,\n",
       "        \u001b[1;36m3.3490388\u001b[0m , \u001b[1;36m3.3754396\u001b[0m , \u001b[1;36m3.6997192\u001b[0m , \u001b[1;36m3.7620127\u001b[0m , \u001b[1;36m3.7730577\u001b[0m ,\n",
       "        \u001b[1;36m4.070692\u001b[0m  , \u001b[1;36m4.194676\u001b[0m  , \u001b[1;36m4.246228\u001b[0m  , \u001b[1;36m4.248649\u001b[0m  , \u001b[1;36m4.36076\u001b[0m   \u001b[1m]\u001b[0m,\n",
       "       \u001b[1m[\u001b[0m\u001b[1;36m1.5768665\u001b[0m , \u001b[1;36m1.7896639\u001b[0m , \u001b[1;36m2.7993069\u001b[0m , \u001b[1;36m2.8365786\u001b[0m , \u001b[1;36m2.8888907\u001b[0m ,\n",
       "        \u001b[1;36m2.8907363\u001b[0m , \u001b[1;36m3.0786307\u001b[0m , \u001b[1;36m3.1654005\u001b[0m , \u001b[1;36m3.2911859\u001b[0m , \u001b[1;36m3.3042717\u001b[0m ,\n",
       "        \u001b[1;36m3.3152757\u001b[0m , \u001b[1;36m3.3171551\u001b[0m , \u001b[1;36m3.4153967\u001b[0m , \u001b[1;36m3.6652753\u001b[0m , \u001b[1;36m3.6686008\u001b[0m ,\n",
       "        \u001b[1;36m3.7737744\u001b[0m , \u001b[1;36m3.8345141\u001b[0m , \u001b[1;36m3.8469987\u001b[0m , \u001b[1;36m4.12415\u001b[0m   , \u001b[1;36m4.2042403\u001b[0m \u001b[1m]\u001b[0m,\n",
       "       \u001b[1m[\u001b[0m\u001b[1;36m1.5768663\u001b[0m , \u001b[1;36m1.782908\u001b[0m  , \u001b[1;36m1.913455\u001b[0m  , \u001b[1;36m2.4860027\u001b[0m , \u001b[1;36m2.6736832\u001b[0m ,\n",
       "        \u001b[1;36m2.857443\u001b[0m  , \u001b[1;36m2.9157925\u001b[0m , \u001b[1;36m2.9165401\u001b[0m , \u001b[1;36m3.060112\u001b[0m  , \u001b[1;36m3.2618835\u001b[0m ,\n",
       "        \u001b[1;36m3.3032715\u001b[0m , \u001b[1;36m3.4675279\u001b[0m , \u001b[1;36m3.511421\u001b[0m  , \u001b[1;36m3.6372647\u001b[0m , \u001b[1;36m3.6652753\u001b[0m ,\n",
       "        \u001b[1;36m3.6800263\u001b[0m , \u001b[1;36m3.8313618\u001b[0m , \u001b[1;36m3.9437904\u001b[0m , \u001b[1;36m4.1241493\u001b[0m , \u001b[1;36m4.128858\u001b[0m  \u001b[1m]\u001b[0m,\n",
       "       \u001b[1m[\u001b[0m\u001b[1;36m0.43420416\u001b[0m, \u001b[1;36m1.8985492\u001b[0m , \u001b[1;36m2.5809402\u001b[0m , \u001b[1;36m2.8390417\u001b[0m , \u001b[1;36m2.888891\u001b[0m  ,\n",
       "        \u001b[1;36m2.987839\u001b[0m  , \u001b[1;36m3.2618835\u001b[0m , \u001b[1;36m3.3735962\u001b[0m , \u001b[1;36m3.4153965\u001b[0m , \u001b[1;36m3.4856393\u001b[0m ,\n",
       "        \u001b[1;36m3.6760597\u001b[0m , \u001b[1;36m3.6769512\u001b[0m , \u001b[1;36m3.6800263\u001b[0m , \u001b[1;36m3.6997194\u001b[0m , \u001b[1;36m3.9017332\u001b[0m ,\n",
       "        \u001b[1;36m4.115112\u001b[0m  , \u001b[1;36m4.128858\u001b[0m  , \u001b[1;36m4.248257\u001b[0m  , \u001b[1;36m4.2861705\u001b[0m , \u001b[1;36m4.4836006\u001b[0m \u001b[1m]\u001b[0m,\n",
       "       \u001b[1m[\u001b[0m\u001b[1;36m1.5768665\u001b[0m , \u001b[1;36m1.7896639\u001b[0m , \u001b[1;36m2.7993069\u001b[0m , \u001b[1;36m2.8365784\u001b[0m , \u001b[1;36m2.888891\u001b[0m  ,\n",
       "        \u001b[1;36m2.890736\u001b[0m  , \u001b[1;36m3.0786302\u001b[0m , \u001b[1;36m3.1654007\u001b[0m , \u001b[1;36m3.291186\u001b[0m  , \u001b[1;36m3.304272\u001b[0m  ,\n",
       "        \u001b[1;36m3.315276\u001b[0m  , \u001b[1;36m3.3171554\u001b[0m , \u001b[1;36m3.4153965\u001b[0m , \u001b[1;36m3.6652746\u001b[0m , \u001b[1;36m3.668601\u001b[0m  ,\n",
       "        \u001b[1;36m3.7737746\u001b[0m , \u001b[1;36m3.8345141\u001b[0m , \u001b[1;36m3.8469987\u001b[0m , \u001b[1;36m4.124149\u001b[0m  , \u001b[1;36m4.2042403\u001b[0m \u001b[1m]\u001b[0m,\n",
       "       \u001b[1m[\u001b[0m\u001b[1;36m1.7829083\u001b[0m , \u001b[1;36m1.7896638\u001b[0m , \u001b[1;36m2.014265\u001b[0m  , \u001b[1;36m2.0729213\u001b[0m , \u001b[1;36m2.83189\u001b[0m   ,\n",
       "        \u001b[1;36m2.8365786\u001b[0m , \u001b[1;36m2.8390417\u001b[0m , \u001b[1;36m2.857443\u001b[0m  , \u001b[1;36m3.0601118\u001b[0m , \u001b[1;36m3.0753524\u001b[0m ,\n",
       "        \u001b[1;36m3.121193\u001b[0m  , \u001b[1;36m3.2107904\u001b[0m , \u001b[1;36m3.2911856\u001b[0m , \u001b[1;36m3.3735962\u001b[0m , \u001b[1;36m3.4713855\u001b[0m ,\n",
       "        \u001b[1;36m3.5985844\u001b[0m , \u001b[1;36m3.6165059\u001b[0m , \u001b[1;36m4.0202384\u001b[0m , \u001b[1;36m4.070692\u001b[0m  , \u001b[1;36m4.1095796\u001b[0m \u001b[1m]\u001b[0m,\n",
       "       \u001b[1m[\u001b[0m\u001b[1;36m0.43420416\u001b[0m, \u001b[1;36m2.1443982\u001b[0m , \u001b[1;36m2.55883\u001b[0m   , \u001b[1;36m3.0381804\u001b[0m , \u001b[1;36m3.2088733\u001b[0m ,\n",
       "        \u001b[1;36m3.2107904\u001b[0m , \u001b[1;36m3.2830782\u001b[0m , \u001b[1;36m3.3032715\u001b[0m , \u001b[1;36m3.3042717\u001b[0m , \u001b[1;36m3.315276\u001b[0m  ,\n",
       "        \u001b[1;36m3.4842834\u001b[0m , \u001b[1;36m3.6165059\u001b[0m , \u001b[1;36m3.7168849\u001b[0m , \u001b[1;36m3.9017327\u001b[0m , \u001b[1;36m3.9437902\u001b[0m ,\n",
       "        \u001b[1;36m4.1606116\u001b[0m , \u001b[1;36m4.198338\u001b[0m  , \u001b[1;36m4.3835497\u001b[0m , \u001b[1;36m4.3987846\u001b[0m , \u001b[1;36m4.4221854\u001b[0m \u001b[1m]\u001b[0m,\n",
       "       \u001b[1m[\u001b[0m\u001b[1;36m1.7829076\u001b[0m , \u001b[1;36m1.789664\u001b[0m  , \u001b[1;36m2.0142653\u001b[0m , \u001b[1;36m2.0729213\u001b[0m , \u001b[1;36m2.8318903\u001b[0m ,\n",
       "        \u001b[1;36m2.8365784\u001b[0m , \u001b[1;36m2.839042\u001b[0m  , \u001b[1;36m2.857443\u001b[0m  , \u001b[1;36m3.0601118\u001b[0m , \u001b[1;36m3.0753524\u001b[0m ,\n",
       "        \u001b[1;36m3.1211927\u001b[0m , \u001b[1;36m3.2107904\u001b[0m , \u001b[1;36m3.291186\u001b[0m  , \u001b[1;36m3.3735962\u001b[0m , \u001b[1;36m3.4713855\u001b[0m ,\n",
       "        \u001b[1;36m3.5985847\u001b[0m , \u001b[1;36m3.6165059\u001b[0m , \u001b[1;36m4.0202384\u001b[0m , \u001b[1;36m4.070692\u001b[0m  , \u001b[1;36m4.1095796\u001b[0m \u001b[1m]\u001b[0m\u001b[1m]\u001b[0m,      \u001b[33mdtype\u001b[0m=\u001b[35mfloat32\u001b[0m\u001b[1m)\u001b[0m"
      ]
     },
     "execution_count": 63,
     "metadata": {},
     "output_type": "execute_result"
    }
   ],
   "source": [
    "vals"
   ]
  },
  {
   "cell_type": "code",
   "execution_count": null,
   "metadata": {},
   "outputs": [],
   "source": []
  }
 ],
 "metadata": {
  "kernelspec": {
   "display_name": "avid",
   "language": "python",
   "name": "python3"
  },
  "language_info": {
   "codemirror_mode": {
    "name": "ipython",
    "version": 3
   },
   "file_extension": ".py",
   "mimetype": "text/x-python",
   "name": "python",
   "nbconvert_exporter": "python",
   "pygments_lexer": "ipython3",
   "version": "3.12.0"
  }
 },
 "nbformat": 4,
 "nbformat_minor": 2
}
