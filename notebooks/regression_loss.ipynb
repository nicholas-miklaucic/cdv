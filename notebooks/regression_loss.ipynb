{
 "cells": [
  {
   "cell_type": "code",
   "execution_count": 1,
   "metadata": {},
   "outputs": [],
   "source": [
    "import os\n",
    "\n",
    "os.environ['CUDA_VISIBLE_DEVICES'] = '1'\n",
    "\n",
    "import numpy as np\n",
    "import jax.numpy as jnp\n",
    "import jax\n",
    "import jax.random as jr\n",
    "import pandas as pd\n",
    "import plotly.express as px\n",
    "import matplotlib.pyplot as plt\n",
    "import seaborn as sns\n",
    "import rho_plus as rp\n",
    "\n",
    "is_dark = False\n",
    "theme, cs = rp.mpl_setup(is_dark)\n",
    "rp.plotly_setup(is_dark)"
   ]
  },
  {
   "cell_type": "code",
   "execution_count": 2,
   "metadata": {},
   "outputs": [
    {
     "name": "stdout",
     "output_type": "stream",
     "text": [
      "/home/nmiklaucic/cdv\n"
     ]
    },
    {
     "name": "stderr",
     "output_type": "stream",
     "text": [
      "/home/nmiklaucic/miniconda3/envs/avid/lib/python3.12/site-packages/IPython/core/magics/osm.py:393: UserWarning: This is now an optional IPython functionality, using bookmarks requires you to install the `pickleshare` library.\n",
      "  bkms = self.shell.db.get('bookmarks', {})\n",
      "/home/nmiklaucic/miniconda3/envs/avid/lib/python3.12/site-packages/IPython/core/magics/osm.py:417: UserWarning: This is now an optional IPython functionality, setting dhist requires you to install the `pickleshare` library.\n",
      "  self.shell.db['dhist'] = compress_dhist(dhist)[-100:]\n"
     ]
    }
   ],
   "source": [
    "%cd ~/cdv/"
   ]
  },
  {
   "cell_type": "code",
   "execution_count": 36,
   "metadata": {},
   "outputs": [
    {
     "data": {
      "text/html": [
       "<pre style=\"white-space:pre;overflow-x:auto;line-height:normal;font-family:Menlo,'DejaVu Sans Mono',consolas,'Courier New',monospace\">Configured `CheckpointManager` using deprecated legacy API. Please follow the instructions at                      \n",
       "<span style=\"color: #0000ff; text-decoration-color: #0000ff; text-decoration: underline\">https://orbax.readthedocs.io/en/latest/api_refactor.html</span> to migrate by May 1st, <span style=\"color: #008080; text-decoration-color: #008080; font-weight: bold\">2024</span>.                              \n",
       "</pre>\n"
      ],
      "text/plain": [
       "Configured `CheckpointManager` using deprecated legacy API. Please follow the instructions at                      \n",
       "\u001b[4;94mhttps://orbax.readthedocs.io/en/latest/api_refactor.html\u001b[0m to migrate by May 1st, \u001b[1;36m2024\u001b[0m.                              \n"
      ]
     },
     "metadata": {},
     "output_type": "display_data"
    },
    {
     "data": {
      "text/html": [
       "<pre style=\"white-space:pre;overflow-x:auto;line-height:normal;font-family:Menlo,'DejaVu Sans Mono',consolas,'Courier New',monospace\">Given directory is read <span style=\"color: #808000; text-decoration-color: #808000\">only</span>=<span style=\"color: #800080; text-decoration-color: #800080\">/home/nmiklaucic/cdv/logs/en57/final_ckpt/</span><span style=\"color: #ff00ff; text-decoration-color: #ff00ff\">ckpts</span>                                       \n",
       "</pre>\n"
      ],
      "text/plain": [
       "Given directory is read \u001b[33monly\u001b[0m=\u001b[35m/home/nmiklaucic/cdv/logs/en57/final_ckpt/\u001b[0m\u001b[95mckpts\u001b[0m                                       \n"
      ]
     },
     "metadata": {},
     "output_type": "display_data"
    },
    {
     "data": {
      "text/html": [
       "<pre style=\"white-space:pre;overflow-x:auto;line-height:normal;font-family:Menlo,'DejaVu Sans Mono',consolas,'Courier New',monospace\">Restoring item from <span style=\"color: #800080; text-decoration-color: #800080\">/home/nmiklaucic/cdv/logs/en57/final_ckpt/ckpts/</span><span style=\"color: #ff00ff; text-decoration-color: #ff00ff\">171911.</span>                                        \n",
       "</pre>\n"
      ],
      "text/plain": [
       "Restoring item from \u001b[35m/home/nmiklaucic/cdv/logs/en57/final_ckpt/ckpts/\u001b[0m\u001b[95m171911.\u001b[0m                                        \n"
      ]
     },
     "metadata": {},
     "output_type": "display_data"
    },
    {
     "data": {
      "text/html": [
       "<pre style=\"white-space:pre;overflow-x:auto;line-height:normal;font-family:Menlo,'DejaVu Sans Mono',consolas,'Courier New',monospace\">Finished restoring checkpoint from <span style=\"color: #800080; text-decoration-color: #800080\">/home/nmiklaucic/cdv/logs/en57/final_ckpt/ckpts/</span><span style=\"color: #ff00ff; text-decoration-color: #ff00ff\">171911.</span>                         \n",
       "</pre>\n"
      ],
      "text/plain": [
       "Finished restoring checkpoint from \u001b[35m/home/nmiklaucic/cdv/logs/en57/final_ckpt/ckpts/\u001b[0m\u001b[95m171911.\u001b[0m                         \n"
      ]
     },
     "metadata": {},
     "output_type": "display_data"
    }
   ],
   "source": [
    "from pathlib import Path\n",
    "import pyrallis\n",
    "from cdv.config import MainConfig\n",
    "import orbax.checkpoint as ocp\n",
    "\n",
    "from cdv.training_state import TrainingRun\n",
    "from cdv.checkpointing import best_ckpt\n",
    "\n",
    "# run_dir = Path('logs') / '06-30-19_406'\n",
    "run_dir = Path('logs') / 'en57'\n",
    "\n",
    "with open(run_dir / 'config.toml') as conf_file:\n",
    "    config = pyrallis.cfgparsing.load(MainConfig, conf_file)\n",
    "\n",
    "if config.task == 'e_form':\n",
    "    model = config.build_regressor()\n",
    "elif config.task == 'vae':\n",
    "    model = config.build_vae()\n",
    "\n",
    "\n",
    "ckpt = best_ckpt(run_dir)\n",
    "ckpt = jax.tree.map(lambda x: x if isinstance(x, (float, int)) else x.astype(jnp.float32), ckpt)\n",
    "# model = model.bind(ckpt['state']['params'])"
   ]
  },
  {
   "cell_type": "code",
   "execution_count": 37,
   "metadata": {},
   "outputs": [
    {
     "data": {
      "text/html": [
       "<pre style=\"white-space:pre;overflow-x:auto;line-height:normal;font-family:Menlo,'DejaVu Sans Mono',consolas,'Courier New',monospace\"></pre>\n"
      ],
      "text/plain": []
     },
     "metadata": {},
     "output_type": "display_data"
    },
    {
     "data": {
      "text/plain": [
       "\u001b[1;35mCrystalGraphs\u001b[0m\u001b[1m(\u001b[0m\u001b[33mnodes\u001b[0m=\u001b[1m(\u001b[0m\u001b[1;36m1024\u001b[0m, \u001b[1;36m3\u001b[0m\u001b[1m)\u001b[0m, \u001b[33medges\u001b[0m=\u001b[1m(\u001b[0m\u001b[1;36m1024\u001b[0m, \u001b[1;36m16\u001b[0m\u001b[1m)\u001b[0m, \u001b[33mgraphs\u001b[0m=\u001b[1m(\u001b[0m\u001b[1;36m32\u001b[0m,\u001b[1m)\u001b[0m\u001b[1m)\u001b[0m"
      ]
     },
     "execution_count": 37,
     "metadata": {},
     "output_type": "execute_result"
    }
   ],
   "source": [
    "from cdv.dataset import load_file\n",
    "cg = load_file(config, group_num=4)\n",
    "cg"
   ]
  },
  {
   "cell_type": "code",
   "execution_count": 38,
   "metadata": {},
   "outputs": [
    {
     "data": {
      "text/html": [
       "<pre style=\"white-space:pre;overflow-x:auto;line-height:normal;font-family:Menlo,'DejaVu Sans Mono',consolas,'Courier New',monospace\"></pre>\n"
      ],
      "text/plain": []
     },
     "metadata": {},
     "output_type": "display_data"
    },
    {
     "data": {
      "text/plain": [
       "\n",
       "\u001b[1;35mEFSOutput\u001b[0m\u001b[1m(\u001b[0m\n",
       "    \u001b[33menergy\u001b[0m=\u001b[1;35mArray\u001b[0m\u001b[1m(\u001b[0m\u001b[1m[\u001b[0m\u001b[1m[\u001b[0m\u001b[1;36m-5.5644727\u001b[0m \u001b[1m]\u001b[0m,\n",
       "       \u001b[1m[\u001b[0m\u001b[1;36m-6.4757924\u001b[0m \u001b[1m]\u001b[0m,\n",
       "       \u001b[1m[\u001b[0m\u001b[1;36m-6.995356\u001b[0m  \u001b[1m]\u001b[0m,\n",
       "       \u001b[1m[\u001b[0m\u001b[1;36m-6.9711514\u001b[0m \u001b[1m]\u001b[0m,\n",
       "       \u001b[1m[\u001b[0m\u001b[1;36m-7.2769265\u001b[0m \u001b[1m]\u001b[0m,\n",
       "       \u001b[1m[\u001b[0m\u001b[1;36m-7.150165\u001b[0m  \u001b[1m]\u001b[0m,\n",
       "       \u001b[1m[\u001b[0m\u001b[1;36m-7.2297254\u001b[0m \u001b[1m]\u001b[0m,\n",
       "       \u001b[1m[\u001b[0m\u001b[1;36m-6.319366\u001b[0m  \u001b[1m]\u001b[0m,\n",
       "       \u001b[1m[\u001b[0m\u001b[1;36m-6.323022\u001b[0m  \u001b[1m]\u001b[0m,\n",
       "       \u001b[1m[\u001b[0m\u001b[1;36m-7.9396224\u001b[0m \u001b[1m]\u001b[0m,\n",
       "       \u001b[1m[\u001b[0m\u001b[1;36m-5.00183\u001b[0m   \u001b[1m]\u001b[0m,\n",
       "       \u001b[1m[\u001b[0m\u001b[1;36m-7.5379763\u001b[0m \u001b[1m]\u001b[0m,\n",
       "       \u001b[1m[\u001b[0m\u001b[1;36m-5.7598004\u001b[0m \u001b[1m]\u001b[0m,\n",
       "       \u001b[1m[\u001b[0m\u001b[1;36m-6.3316092\u001b[0m \u001b[1m]\u001b[0m,\n",
       "       \u001b[1m[\u001b[0m\u001b[1;36m-7.9171343\u001b[0m \u001b[1m]\u001b[0m,\n",
       "       \u001b[1m[\u001b[0m\u001b[1;36m-9.525996\u001b[0m  \u001b[1m]\u001b[0m,\n",
       "       \u001b[1m[\u001b[0m\u001b[1;36m-2.9745443\u001b[0m \u001b[1m]\u001b[0m,\n",
       "       \u001b[1m[\u001b[0m\u001b[1;36m-4.57867\u001b[0m   \u001b[1m]\u001b[0m,\n",
       "       \u001b[1m[\u001b[0m\u001b[1;36m-6.4716105\u001b[0m \u001b[1m]\u001b[0m,\n",
       "       \u001b[1m[\u001b[0m\u001b[1;36m-5.5265822\u001b[0m \u001b[1m]\u001b[0m,\n",
       "       \u001b[1m[\u001b[0m\u001b[1;36m-5.1240907\u001b[0m \u001b[1m]\u001b[0m,\n",
       "       \u001b[1m[\u001b[0m\u001b[1;36m-5.418081\u001b[0m  \u001b[1m]\u001b[0m,\n",
       "       \u001b[1m[\u001b[0m\u001b[1;36m-6.309064\u001b[0m  \u001b[1m]\u001b[0m,\n",
       "       \u001b[1m[\u001b[0m\u001b[1;36m-4.984337\u001b[0m  \u001b[1m]\u001b[0m,\n",
       "       \u001b[1m[\u001b[0m\u001b[1;36m-1.1319625\u001b[0m \u001b[1m]\u001b[0m,\n",
       "       \u001b[1m[\u001b[0m\u001b[1;36m-9.501203\u001b[0m  \u001b[1m]\u001b[0m,\n",
       "       \u001b[1m[\u001b[0m\u001b[1;36m-5.538417\u001b[0m  \u001b[1m]\u001b[0m,\n",
       "       \u001b[1m[\u001b[0m\u001b[1;36m-3.322387\u001b[0m  \u001b[1m]\u001b[0m,\n",
       "       \u001b[1m[\u001b[0m\u001b[1;36m-4.5047765\u001b[0m \u001b[1m]\u001b[0m,\n",
       "       \u001b[1m[\u001b[0m\u001b[1;36m-4.0420256\u001b[0m \u001b[1m]\u001b[0m,\n",
       "       \u001b[1m[\u001b[0m\u001b[1;36m-0.6164206\u001b[0m \u001b[1m]\u001b[0m,\n",
       "       \u001b[1m[\u001b[0m \u001b[1;36m0.03299006\u001b[0m\u001b[1m]\u001b[0m\u001b[1m]\u001b[0m, \u001b[33mdtype\u001b[0m=\u001b[35mfloat32\u001b[0m\u001b[1m)\u001b[0m,\n",
       "    \u001b[33mforce\u001b[0m=\u001b[1;35mArray\u001b[0m\u001b[1m(\u001b[0m\u001b[1m[\u001b[0m\u001b[1m[\u001b[0m\u001b[1;36m-1.7554514e-02\u001b[0m,  \u001b[1;36m1.1926952e-01\u001b[0m,  \u001b[1;36m1.3318843e-01\u001b[0m\u001b[1m]\u001b[0m,\n",
       "       \u001b[1m[\u001b[0m \u001b[1;36m1.7422222e-02\u001b[0m, \u001b[1;36m-1.1932880e-01\u001b[0m,  \u001b[1;36m1.3329852e-01\u001b[0m\u001b[1m]\u001b[0m,\n",
       "       \u001b[1m[\u001b[0m\u001b[1;36m-1.4994366e-02\u001b[0m,  \u001b[1;36m1.4800310e-01\u001b[0m, \u001b[1;36m-1.2922443e-01\u001b[0m\u001b[1m]\u001b[0m,\n",
       "       \u001b[33m...\u001b[0m,\n",
       "       \u001b[1m[\u001b[0m\u001b[1;36m-6.8610983e-14\u001b[0m,  \u001b[1;36m1.9400185e-13\u001b[0m, \u001b[1;36m-5.8793243e-13\u001b[0m\u001b[1m]\u001b[0m,\n",
       "       \u001b[1m[\u001b[0m\u001b[1;36m-6.8610983e-14\u001b[0m,  \u001b[1;36m1.9400185e-13\u001b[0m, \u001b[1;36m-5.8793243e-13\u001b[0m\u001b[1m]\u001b[0m,\n",
       "       \u001b[1m[\u001b[0m\u001b[1;36m-6.8610983e-14\u001b[0m,  \u001b[1;36m1.9400185e-13\u001b[0m, \u001b[1;36m-5.8793243e-13\u001b[0m\u001b[1m]\u001b[0m\u001b[1m]\u001b[0m, \u001b[33mdtype\u001b[0m=\u001b[35mfloat32\u001b[0m\u001b[1m)\u001b[0m,\n",
       "    \u001b[33mstress\u001b[0m=\u001b[1;35mArray\u001b[0m\u001b[1m(\u001b[0m\u001b[1m[\u001b[0m\u001b[1m[\u001b[0m\u001b[1m[\u001b[0m \u001b[1;36m9.35027856e-05\u001b[0m,  \u001b[1;36m8.91862437e-05\u001b[0m, \u001b[1;36m-9.21615210e-05\u001b[0m\u001b[1m]\u001b[0m,\n",
       "        \u001b[1m[\u001b[0m \u001b[1;36m8.91160380e-05\u001b[0m, \u001b[1;36m-9.25479835e-05\u001b[0m,  \u001b[1;36m8.93219840e-05\u001b[0m\u001b[1m]\u001b[0m,\n",
       "        \u001b[1m[\u001b[0m\u001b[1;36m-8.91468881e-05\u001b[0m,  \u001b[1;36m9.25727945e-05\u001b[0m,  \u001b[1;36m8.94093173e-05\u001b[0m\u001b[1m]\u001b[0m\u001b[1m]\u001b[0m,\n",
       "\n",
       "       \u001b[1m[\u001b[0m\u001b[1m[\u001b[0m \u001b[1;36m1.70164555e-03\u001b[0m, \u001b[1;36m-1.27687876e-04\u001b[0m,  \u001b[1;36m6.16055564e-04\u001b[0m\u001b[1m]\u001b[0m,\n",
       "        \u001b[1m[\u001b[0m \u001b[1;36m1.76152491e-04\u001b[0m, \u001b[1;36m-2.92714429e-03\u001b[0m,  \u001b[1;36m9.24921595e-04\u001b[0m\u001b[1m]\u001b[0m,\n",
       "        \u001b[1m[\u001b[0m\u001b[1;36m-3.73899617e-04\u001b[0m,  \u001b[1;36m1.45656668e-04\u001b[0m, \u001b[1;36m-2.20633624e-03\u001b[0m\u001b[1m]\u001b[0m\u001b[1m]\u001b[0m,\n",
       "\n",
       "       \u001b[1m[\u001b[0m\u001b[1m[\u001b[0m \u001b[1;36m3.10710951e-04\u001b[0m,  \u001b[1;36m4.32020199e-04\u001b[0m, \u001b[1;36m-7.93224201e-04\u001b[0m\u001b[1m]\u001b[0m,\n",
       "        \u001b[1m[\u001b[0m\u001b[1;36m-1.43142417e-03\u001b[0m,  \u001b[1;36m1.92586670e-03\u001b[0m, \u001b[1;36m-7.92431238e-04\u001b[0m\u001b[1m]\u001b[0m,\n",
       "        \u001b[1m[\u001b[0m\u001b[1;36m-3.01953318e-04\u001b[0m, \u001b[1;36m-2.01241404e-04\u001b[0m,  \u001b[1;36m8.66116490e-04\u001b[0m\u001b[1m]\u001b[0m\u001b[1m]\u001b[0m,\n",
       "\n",
       "       \u001b[1m[\u001b[0m\u001b[1m[\u001b[0m\u001b[1;36m-2.19618808e-02\u001b[0m,  \u001b[1;36m3.91157635e-04\u001b[0m,  \u001b[1;36m9.88852233e-03\u001b[0m\u001b[1m]\u001b[0m,\n",
       "        \u001b[1m[\u001b[0m\u001b[1;36m-9.87486681e-04\u001b[0m, \u001b[1;36m-2.32942542e-03\u001b[0m, \u001b[1;36m-1.03746392e-02\u001b[0m\u001b[1m]\u001b[0m,\n",
       "        \u001b[1m[\u001b[0m\u001b[1;36m-3.59578594e-03\u001b[0m,  \u001b[1;36m7.49008730e-03\u001b[0m,  \u001b[1;36m2.58824043e-03\u001b[0m\u001b[1m]\u001b[0m\u001b[1m]\u001b[0m,\n",
       "\n",
       "       \u001b[1m[\u001b[0m\u001b[1m[\u001b[0m\u001b[1;36m-1.47639867e-03\u001b[0m, \u001b[1;36m-2.49985518e-04\u001b[0m,  \u001b[1;36m8.86056921e-04\u001b[0m\u001b[1m]\u001b[0m,\n",
       "        \u001b[1m[\u001b[0m \u001b[1;36m9.84295271e-04\u001b[0m,  \u001b[1;36m1.02791388e-03\u001b[0m, \u001b[1;36m-7.88984820e-04\u001b[0m\u001b[1m]\u001b[0m,\n",
       "        \u001b[1m[\u001b[0m\u001b[1;36m-2.27409764e-04\u001b[0m, \u001b[1;36m-3.58686608e-04\u001b[0m, \u001b[1;36m-5.60156535e-04\u001b[0m\u001b[1m]\u001b[0m\u001b[1m]\u001b[0m,\n",
       "\n",
       "       \u001b[1m[\u001b[0m\u001b[1m[\u001b[0m\u001b[1;36m-2.55355984e-03\u001b[0m,  \u001b[1;36m1.90935985e-04\u001b[0m,  \u001b[1;36m6.30554976e-04\u001b[0m\u001b[1m]\u001b[0m,\n",
       "        \u001b[1m[\u001b[0m \u001b[1;36m1.09710800e-03\u001b[0m, \u001b[1;36m-2.66435818e-04\u001b[0m,  \u001b[1;36m4.36063012e-04\u001b[0m\u001b[1m]\u001b[0m,\n",
       "        \u001b[1m[\u001b[0m\u001b[1;36m-1.82397620e-04\u001b[0m, \u001b[1;36m-4.77949012e-04\u001b[0m, \u001b[1;36m-1.95322931e-03\u001b[0m\u001b[1m]\u001b[0m\u001b[1m]\u001b[0m,\n",
       "\n",
       "       \u001b[1m[\u001b[0m\u001b[1m[\u001b[0m \u001b[1;36m1.35808438e-03\u001b[0m,  \u001b[1;36m1.37303420e-03\u001b[0m,  \u001b[1;36m3.12803517e-04\u001b[0m\u001b[1m]\u001b[0m,\n",
       "        \u001b[1m[\u001b[0m\u001b[1;36m-1.47590268e-04\u001b[0m, \u001b[1;36m-1.64314010e-03\u001b[0m, \u001b[1;36m-7.42649985e-03\u001b[0m\u001b[1m]\u001b[0m,\n",
       "        \u001b[1m[\u001b[0m\u001b[1;36m-3.17903832e-05\u001b[0m, \u001b[1;36m-1.39823661e-03\u001b[0m, \u001b[1;36m-4.34350641e-03\u001b[0m\u001b[1m]\u001b[0m\u001b[1m]\u001b[0m,\n",
       "\n",
       "       \u001b[1m[\u001b[0m\u001b[1m[\u001b[0m\u001b[1;36m-7.45843936e-05\u001b[0m, \u001b[1;36m-1.46664577e-04\u001b[0m,  \u001b[1;36m2.12837083e-04\u001b[0m\u001b[1m]\u001b[0m,\n",
       "        \u001b[1m[\u001b[0m\u001b[1;36m-5.20597852e-04\u001b[0m,  \u001b[1;36m5.50338719e-03\u001b[0m,  \u001b[1;36m8.46416457e-04\u001b[0m\u001b[1m]\u001b[0m,\n",
       "        \u001b[1m[\u001b[0m\u001b[1;36m-6.78332988e-04\u001b[0m,  \u001b[1;36m5.46334159e-05\u001b[0m, \u001b[1;36m-5.65173756e-03\u001b[0m\u001b[1m]\u001b[0m\u001b[1m]\u001b[0m,\n",
       "\n",
       "       \u001b[1m[\u001b[0m\u001b[1m[\u001b[0m\u001b[1;36m-2.10054778e-02\u001b[0m,  \u001b[1;36m2.93792598e-03\u001b[0m,  \u001b[1;36m3.22128460e-03\u001b[0m\u001b[1m]\u001b[0m,\n",
       "        \u001b[1m[\u001b[0m\u001b[1;36m-2.54598074e-03\u001b[0m, \u001b[1;36m-1.13132375e-03\u001b[0m,  \u001b[1;36m2.98867421e-03\u001b[0m\u001b[1m]\u001b[0m,\n",
       "        \u001b[1m[\u001b[0m \u001b[1;36m4.53873910e-03\u001b[0m,  \u001b[1;36m3.67647107e-03\u001b[0m, \u001b[1;36m-6.37037074e-03\u001b[0m\u001b[1m]\u001b[0m\u001b[1m]\u001b[0m,\n",
       "\n",
       "       \u001b[1m[\u001b[0m\u001b[1m[\u001b[0m \u001b[1;36m2.75750412e-03\u001b[0m, \u001b[1;36m-4.60875075e-04\u001b[0m,  \u001b[1;36m1.16572766e-04\u001b[0m\u001b[1m]\u001b[0m,\n",
       "        \u001b[1m[\u001b[0m \u001b[1;36m1.38296967e-03\u001b[0m,  \u001b[1;36m1.00867823e-03\u001b[0m, \u001b[1;36m-3.16522829e-03\u001b[0m\u001b[1m]\u001b[0m,\n",
       "        \u001b[1m[\u001b[0m \u001b[1;36m7.66207115e-04\u001b[0m, \u001b[1;36m-1.44054694e-03\u001b[0m,  \u001b[1;36m6.29400136e-04\u001b[0m\u001b[1m]\u001b[0m\u001b[1m]\u001b[0m,\n",
       "\n",
       "       \u001b[1m[\u001b[0m\u001b[1m[\u001b[0m \u001b[1;36m2.68867495e-03\u001b[0m, \u001b[1;36m-2.34682858e-03\u001b[0m, \u001b[1;36m-8.94370372e-04\u001b[0m\u001b[1m]\u001b[0m,\n",
       "        \u001b[1m[\u001b[0m \u001b[1;36m8.41744884e-04\u001b[0m, \u001b[1;36m-4.76899417e-03\u001b[0m, \u001b[1;36m-1.72419706e-03\u001b[0m\u001b[1m]\u001b[0m,\n",
       "        \u001b[1m[\u001b[0m\u001b[1;36m-8.29250057e-05\u001b[0m, \u001b[1;36m-5.62411617e-04\u001b[0m,  \u001b[1;36m3.21657863e-03\u001b[0m\u001b[1m]\u001b[0m\u001b[1m]\u001b[0m,\n",
       "\n",
       "       \u001b[1m[\u001b[0m\u001b[1m[\u001b[0m \u001b[1;36m3.77743132e-03\u001b[0m, \u001b[1;36m-4.65555786e-06\u001b[0m,  \u001b[1;36m4.49752016e-03\u001b[0m\u001b[1m]\u001b[0m,\n",
       "        \u001b[1m[\u001b[0m\u001b[1;36m-1.48977689e-03\u001b[0m,  \u001b[1;36m1.15405330e-02\u001b[0m,  \u001b[1;36m1.26562954e-03\u001b[0m\u001b[1m]\u001b[0m,\n",
       "        \u001b[1m[\u001b[0m\u001b[1;36m-1.55871210e-03\u001b[0m, \u001b[1;36m-3.97480209e-04\u001b[0m,  \u001b[1;36m1.02680770e-03\u001b[0m\u001b[1m]\u001b[0m\u001b[1m]\u001b[0m,\n",
       "\n",
       "       \u001b[1m[\u001b[0m\u001b[1m[\u001b[0m \u001b[1;36m3.58922333e-02\u001b[0m, \u001b[1;36m-8.59447941e-03\u001b[0m,  \u001b[1;36m1.43157700e-02\u001b[0m\u001b[1m]\u001b[0m,\n",
       "        \u001b[1m[\u001b[0m \u001b[1;36m2.04186030e-02\u001b[0m,  \u001b[1;36m8.97330344e-02\u001b[0m,  \u001b[1;36m1.64929125e-02\u001b[0m\u001b[1m]\u001b[0m,\n",
       "        \u001b[1m[\u001b[0m \u001b[1;36m4.83398821e-04\u001b[0m,  \u001b[1;36m1.51574996e-03\u001b[0m,  \u001b[1;36m2.85772458e-02\u001b[0m\u001b[1m]\u001b[0m\u001b[1m]\u001b[0m,\n",
       "\n",
       "       \u001b[1m[\u001b[0m\u001b[1m[\u001b[0m\u001b[1;36m-4.50503809e-04\u001b[0m, \u001b[1;36m-2.15622899e-03\u001b[0m,  \u001b[1;36m3.50063946e-03\u001b[0m\u001b[1m]\u001b[0m,\n",
       "        \u001b[1m[\u001b[0m \u001b[1;36m1.23516470e-03\u001b[0m, \u001b[1;36m-7.57242180e-03\u001b[0m, \u001b[1;36m-1.93424558e-03\u001b[0m\u001b[1m]\u001b[0m,\n",
       "        \u001b[1m[\u001b[0m \u001b[1;36m2.19032890e-03\u001b[0m, \u001b[1;36m-6.77655544e-03\u001b[0m, \u001b[1;36m-4.29482386e-03\u001b[0m\u001b[1m]\u001b[0m\u001b[1m]\u001b[0m,\n",
       "\n",
       "       \u001b[1m[\u001b[0m\u001b[1m[\u001b[0m \u001b[1;36m3.54643725e-03\u001b[0m, \u001b[1;36m-6.36256905e-03\u001b[0m, \u001b[1;36m-3.60810570e-03\u001b[0m\u001b[1m]\u001b[0m,\n",
       "        \u001b[1m[\u001b[0m \u001b[1;36m5.62558277e-03\u001b[0m, \u001b[1;36m-6.49695110e-04\u001b[0m,  \u001b[1;36m6.22451771e-04\u001b[0m\u001b[1m]\u001b[0m,\n",
       "        \u001b[1m[\u001b[0m \u001b[1;36m1.76648714e-03\u001b[0m,  \u001b[1;36m1.61030644e-03\u001b[0m,  \u001b[1;36m4.34877817e-03\u001b[0m\u001b[1m]\u001b[0m\u001b[1m]\u001b[0m,\n",
       "\n",
       "       \u001b[1m[\u001b[0m\u001b[1m[\u001b[0m \u001b[1;36m2.11080842e-04\u001b[0m,  \u001b[1;36m8.45440570e-03\u001b[0m,  \u001b[1;36m1.71335624e-03\u001b[0m\u001b[1m]\u001b[0m,\n",
       "        \u001b[1m[\u001b[0m \u001b[1;36m1.56846305e-03\u001b[0m,  \u001b[1;36m7.27909245e-03\u001b[0m, \u001b[1;36m-4.73622838e-03\u001b[0m\u001b[1m]\u001b[0m,\n",
       "        \u001b[1m[\u001b[0m\u001b[1;36m-9.73805599e-03\u001b[0m, \u001b[1;36m-7.94856157e-03\u001b[0m,  \u001b[1;36m1.29311504e-02\u001b[0m\u001b[1m]\u001b[0m\u001b[1m]\u001b[0m,\n",
       "\n",
       "       \u001b[1m[\u001b[0m\u001b[1m[\u001b[0m\u001b[1;36m-1.98315865e-06\u001b[0m,  \u001b[1;36m5.62115893e-05\u001b[0m, \u001b[1;36m-9.98400035e-04\u001b[0m\u001b[1m]\u001b[0m,\n",
       "        \u001b[1m[\u001b[0m\u001b[1;36m-1.48005456e-05\u001b[0m, \u001b[1;36m-1.31186540e-03\u001b[0m, \u001b[1;36m-8.13437917e-04\u001b[0m\u001b[1m]\u001b[0m,\n",
       "        \u001b[1m[\u001b[0m\u001b[1;36m-3.31941061e-04\u001b[0m, \u001b[1;36m-3.34138190e-03\u001b[0m,  \u001b[1;36m1.61012038e-04\u001b[0m\u001b[1m]\u001b[0m\u001b[1m]\u001b[0m,\n",
       "\n",
       "       \u001b[1m[\u001b[0m\u001b[1m[\u001b[0m\u001b[1;36m-2.34951265e-03\u001b[0m,  \u001b[1;36m6.46677974e-04\u001b[0m,  \u001b[1;36m2.40427535e-03\u001b[0m\u001b[1m]\u001b[0m,\n",
       "        \u001b[1m[\u001b[0m \u001b[1;36m2.24428810e-03\u001b[0m, \u001b[1;36m-2.30568717e-03\u001b[0m, \u001b[1;36m-3.11624072e-03\u001b[0m\u001b[1m]\u001b[0m,\n",
       "        \u001b[1m[\u001b[0m\u001b[1;36m-8.20936635e-04\u001b[0m, \u001b[1;36m-5.54242753e-04\u001b[0m,  \u001b[1;36m9.42950428e-04\u001b[0m\u001b[1m]\u001b[0m\u001b[1m]\u001b[0m,\n",
       "\n",
       "       \u001b[1m[\u001b[0m\u001b[1m[\u001b[0m \u001b[1;36m2.75923721e-02\u001b[0m, \u001b[1;36m-2.94887484e-03\u001b[0m,  \u001b[1;36m2.37041386e-03\u001b[0m\u001b[1m]\u001b[0m,\n",
       "        \u001b[1m[\u001b[0m\u001b[1;36m-2.49419338e-03\u001b[0m,  \u001b[1;36m4.46806028e-02\u001b[0m,  \u001b[1;36m1.93066883e-03\u001b[0m\u001b[1m]\u001b[0m,\n",
       "        \u001b[1m[\u001b[0m\u001b[1;36m-2.91530937e-02\u001b[0m,  \u001b[1;36m4.38732241e-04\u001b[0m, \u001b[1;36m-3.87287289e-02\u001b[0m\u001b[1m]\u001b[0m\u001b[1m]\u001b[0m,\n",
       "\n",
       "       \u001b[1m[\u001b[0m\u001b[1m[\u001b[0m \u001b[1;36m1.99161842e-02\u001b[0m, \u001b[1;36m-1.98275782e-02\u001b[0m, \u001b[1;36m-2.59816982e-02\u001b[0m\u001b[1m]\u001b[0m,\n",
       "        \u001b[1m[\u001b[0m\u001b[1;36m-1.30477361e-02\u001b[0m,  \u001b[1;36m4.42897379e-02\u001b[0m,  \u001b[1;36m1.32180098e-02\u001b[0m\u001b[1m]\u001b[0m,\n",
       "        \u001b[1m[\u001b[0m \u001b[1;36m1.37418909e-02\u001b[0m,  \u001b[1;36m2.59013847e-02\u001b[0m,  \u001b[1;36m4.50380296e-02\u001b[0m\u001b[1m]\u001b[0m\u001b[1m]\u001b[0m,\n",
       "\n",
       "       \u001b[1m[\u001b[0m\u001b[1m[\u001b[0m\u001b[1;36m-6.44334126e-03\u001b[0m, \u001b[1;36m-5.74811036e-03\u001b[0m,  \u001b[1;36m3.06375796e-06\u001b[0m\u001b[1m]\u001b[0m,\n",
       "        \u001b[1m[\u001b[0m \u001b[1;36m8.33744925e-05\u001b[0m, \u001b[1;36m-3.38927191e-03\u001b[0m,  \u001b[1;36m1.84823605e-07\u001b[0m\u001b[1m]\u001b[0m,\n",
       "        \u001b[1m[\u001b[0m \u001b[1;36m4.39011725e-04\u001b[0m, \u001b[1;36m-6.83649443e-04\u001b[0m, \u001b[1;36m-1.10536173e-03\u001b[0m\u001b[1m]\u001b[0m\u001b[1m]\u001b[0m,\n",
       "\n",
       "       \u001b[1m[\u001b[0m\u001b[1m[\u001b[0m\u001b[1;36m-3.28591117e-03\u001b[0m,  \u001b[1;36m5.52456221e-03\u001b[0m,  \u001b[1;36m4.90474282e-03\u001b[0m\u001b[1m]\u001b[0m,\n",
       "        \u001b[1m[\u001b[0m \u001b[1;36m1.43801013e-03\u001b[0m, \u001b[1;36m-3.57841840e-03\u001b[0m, \u001b[1;36m-2.08629979e-04\u001b[0m\u001b[1m]\u001b[0m,\n",
       "        \u001b[1m[\u001b[0m\u001b[1;36m-4.17119372e-05\u001b[0m, \u001b[1;36m-2.63349083e-03\u001b[0m, \u001b[1;36m-6.09400042e-04\u001b[0m\u001b[1m]\u001b[0m\u001b[1m]\u001b[0m,\n",
       "\n",
       "       \u001b[1m[\u001b[0m\u001b[1m[\u001b[0m\u001b[1;36m-1.22143338e-02\u001b[0m,  \u001b[1;36m5.70157950e-04\u001b[0m,  \u001b[1;36m6.69001602e-03\u001b[0m\u001b[1m]\u001b[0m,\n",
       "        \u001b[1m[\u001b[0m\u001b[1;36m-7.26509048e-03\u001b[0m, \u001b[1;36m-9.25263204e-03\u001b[0m,  \u001b[1;36m1.02236383e-02\u001b[0m\u001b[1m]\u001b[0m,\n",
       "        \u001b[1m[\u001b[0m\u001b[1;36m-4.26813588e-03\u001b[0m,  \u001b[1;36m2.38879258e-03\u001b[0m,  \u001b[1;36m3.85578908e-03\u001b[0m\u001b[1m]\u001b[0m\u001b[1m]\u001b[0m,\n",
       "\n",
       "       \u001b[1m[\u001b[0m\u001b[1m[\u001b[0m \u001b[1;36m2.98477337e-03\u001b[0m,  \u001b[1;36m1.58464089e-02\u001b[0m, \u001b[1;36m-1.35360528e-02\u001b[0m\u001b[1m]\u001b[0m,\n",
       "        \u001b[1m[\u001b[0m \u001b[1;36m1.96489203e-03\u001b[0m,  \u001b[1;36m4.81372001e-03\u001b[0m,  \u001b[1;36m5.25118550e-03\u001b[0m\u001b[1m]\u001b[0m,\n",
       "        \u001b[1m[\u001b[0m \u001b[1;36m5.37065032e-04\u001b[0m, \u001b[1;36m-2.29990296e-03\u001b[0m, \u001b[1;36m-1.40759470e-02\u001b[0m\u001b[1m]\u001b[0m\u001b[1m]\u001b[0m,\n",
       "\n",
       "       \u001b[1m[\u001b[0m\u001b[1m[\u001b[0m \u001b[1;36m1.26473308e-02\u001b[0m,  \u001b[1;36m7.43116019e-03\u001b[0m, \u001b[1;36m-4.39921168e-05\u001b[0m\u001b[1m]\u001b[0m,\n",
       "        \u001b[1m[\u001b[0m \u001b[1;36m3.57116130e-03\u001b[0m, \u001b[1;36m-1.76913466e-03\u001b[0m, \u001b[1;36m-9.97678959e-04\u001b[0m\u001b[1m]\u001b[0m,\n",
       "        \u001b[1m[\u001b[0m \u001b[1;36m2.03641248e-03\u001b[0m,  \u001b[1;36m3.12342402e-03\u001b[0m, \u001b[1;36m-1.64330515e-04\u001b[0m\u001b[1m]\u001b[0m\u001b[1m]\u001b[0m,\n",
       "\n",
       "       \u001b[1m[\u001b[0m\u001b[1m[\u001b[0m \u001b[1;36m1.34355808e-03\u001b[0m, \u001b[1;36m-2.08174461e-03\u001b[0m, \u001b[1;36m-2.30224367e-04\u001b[0m\u001b[1m]\u001b[0m,\n",
       "        \u001b[1m[\u001b[0m\u001b[1;36m-2.22695898e-03\u001b[0m, \u001b[1;36m-2.56249141e-02\u001b[0m, \u001b[1;36m-2.28275792e-04\u001b[0m\u001b[1m]\u001b[0m,\n",
       "        \u001b[1m[\u001b[0m \u001b[1;36m3.69489044e-07\u001b[0m,  \u001b[1;36m1.54812733e-06\u001b[0m, \u001b[1;36m-1.97792542e-03\u001b[0m\u001b[1m]\u001b[0m\u001b[1m]\u001b[0m,\n",
       "\n",
       "       \u001b[1m[\u001b[0m\u001b[1m[\u001b[0m\u001b[1;36m-1.28170371e-01\u001b[0m,  \u001b[1;36m6.98776171e-02\u001b[0m, \u001b[1;36m-1.34601533e-01\u001b[0m\u001b[1m]\u001b[0m,\n",
       "        \u001b[1m[\u001b[0m\u001b[1;36m-6.92415312e-02\u001b[0m,  \u001b[1;36m4.52586748e-02\u001b[0m, \u001b[1;36m-1.67570546e-01\u001b[0m\u001b[1m]\u001b[0m,\n",
       "        \u001b[1m[\u001b[0m\u001b[1;36m-3.23462337e-02\u001b[0m,  \u001b[1;36m6.83760792e-02\u001b[0m, \u001b[1;36m-5.11897147e-01\u001b[0m\u001b[1m]\u001b[0m\u001b[1m]\u001b[0m,\n",
       "\n",
       "       \u001b[1m[\u001b[0m\u001b[1m[\u001b[0m \u001b[1;36m6.73921965e-03\u001b[0m, \u001b[1;36m-9.67269807e-06\u001b[0m,  \u001b[1;36m4.03689966e-03\u001b[0m\u001b[1m]\u001b[0m,\n",
       "        \u001b[1m[\u001b[0m\u001b[1;36m-0.00000000e+00\u001b[0m, \u001b[1;36m-0.00000000e+00\u001b[0m, \u001b[1;36m-0.00000000e+00\u001b[0m\u001b[1m]\u001b[0m,\n",
       "        \u001b[1m[\u001b[0m\u001b[1;36m-0.00000000e+00\u001b[0m, \u001b[1;36m-0.00000000e+00\u001b[0m, \u001b[1;36m-0.00000000e+00\u001b[0m\u001b[1m]\u001b[0m\u001b[1m]\u001b[0m,\n",
       "\n",
       "       \u001b[1m[\u001b[0m\u001b[1m[\u001b[0m \u001b[1;36m5.46965674e-02\u001b[0m,  \u001b[1;36m3.05382274e-02\u001b[0m,  \u001b[1;36m2.05595121e-02\u001b[0m\u001b[1m]\u001b[0m,\n",
       "        \u001b[1m[\u001b[0m \u001b[1;36m2.85487995e-02\u001b[0m,  \u001b[1;36m4.23281714e-02\u001b[0m, \u001b[1;36m-8.47535580e-02\u001b[0m\u001b[1m]\u001b[0m,\n",
       "        \u001b[1m[\u001b[0m \u001b[1;36m1.20511763e-02\u001b[0m, \u001b[1;36m-5.19120544e-02\u001b[0m,  \u001b[1;36m9.21863317e-02\u001b[0m\u001b[1m]\u001b[0m\u001b[1m]\u001b[0m,\n",
       "\n",
       "       \u001b[1m[\u001b[0m\u001b[1m[\u001b[0m\u001b[1;36m-0.00000000e+00\u001b[0m, \u001b[1;36m-0.00000000e+00\u001b[0m, \u001b[1;36m-0.00000000e+00\u001b[0m\u001b[1m]\u001b[0m,\n",
       "        \u001b[1m[\u001b[0m\u001b[1;36m-7.99148232e-02\u001b[0m,  \u001b[1;36m7.37418085e-02\u001b[0m,  \u001b[1;36m7.53400847e-02\u001b[0m\u001b[1m]\u001b[0m,\n",
       "        \u001b[1m[\u001b[0m\u001b[1;36m-0.00000000e+00\u001b[0m, \u001b[1;36m-0.00000000e+00\u001b[0m, \u001b[1;36m-0.00000000e+00\u001b[0m\u001b[1m]\u001b[0m\u001b[1m]\u001b[0m,\n",
       "\n",
       "       \u001b[1m[\u001b[0m\u001b[1m[\u001b[0m \u001b[1;36m1.89545155e-01\u001b[0m, \u001b[1;36m-1.59176867e-04\u001b[0m, \u001b[1;36m-2.65652779e-05\u001b[0m\u001b[1m]\u001b[0m,\n",
       "        \u001b[1m[\u001b[0m\u001b[1;36m-1.50683598e-04\u001b[0m,  \u001b[1;36m1.58232749e-01\u001b[0m,  \u001b[1;36m1.21410657e-02\u001b[0m\u001b[1m]\u001b[0m,\n",
       "        \u001b[1m[\u001b[0m \u001b[1;36m2.83932859e-05\u001b[0m,  \u001b[1;36m1.17856134e-02\u001b[0m,  \u001b[1;36m2.31113374e-01\u001b[0m\u001b[1m]\u001b[0m\u001b[1m]\u001b[0m,\n",
       "\n",
       "       \u001b[1m[\u001b[0m\u001b[1m[\u001b[0m\u001b[1;36m-0.00000000e+00\u001b[0m, \u001b[1;36m-0.00000000e+00\u001b[0m, \u001b[1;36m-0.00000000e+00\u001b[0m\u001b[1m]\u001b[0m,\n",
       "        \u001b[1m[\u001b[0m\u001b[1;36m-0.00000000e+00\u001b[0m, \u001b[1;36m-0.00000000e+00\u001b[0m, \u001b[1;36m-0.00000000e+00\u001b[0m\u001b[1m]\u001b[0m,\n",
       "        \u001b[1m[\u001b[0m\u001b[1;36m-0.00000000e+00\u001b[0m, \u001b[1;36m-0.00000000e+00\u001b[0m, \u001b[1;36m-0.00000000e+00\u001b[0m\u001b[1m]\u001b[0m\u001b[1m]\u001b[0m\u001b[1m]\u001b[0m,      \u001b[33mdtype\u001b[0m=\u001b[35mfloat32\u001b[0m\u001b[1m)\u001b[0m\n",
       "\u001b[1m)\u001b[0m"
      ]
     },
     "execution_count": 38,
     "metadata": {},
     "output_type": "execute_result"
    }
   ],
   "source": [
    "from cdv.layers import Context\n",
    "from cdv.regression import EFSWrapper\n",
    "ctx = Context(training=False)\n",
    "\n",
    "out = EFSWrapper()(model.apply, ckpt['state']['params'], cg=cg, ctx=ctx)\n",
    "out"
   ]
  },
  {
   "cell_type": "code",
   "execution_count": 67,
   "metadata": {},
   "outputs": [
    {
     "name": "stdout",
     "output_type": "stream",
     "text": [
      "0.5667035\n",
      "0.13389722\n",
      "2.5368757\n"
     ]
    }
   ],
   "source": [
    "node_pad = cg.padding_mask[cg.nodes.graph_i]\n",
    "f = cg.target_data.force[node_pad].reshape(-1, 3)\n",
    "fhat = out.force[node_pad].reshape(-1, 3)\n",
    "e = cg.target_data.e_form[cg.padding_mask].reshape(-1)\n",
    "ehat = out.energy[cg.padding_mask].reshape(-1)\n",
    "s = cg.target_data.stress[cg.padding_mask].reshape(-1, 3, 3)\n",
    "shat = out.stress[cg.padding_mask].reshape(-1, 3, 3)\n",
    "\n",
    "def l1_loss(x, y=0):\n",
    "    return jnp.mean(jnp.abs(x - y))\n",
    "\n",
    "print(l1_loss(fhat, f))\n",
    "print(l1_loss(ehat, e))\n",
    "print(l1_loss(shat, s))"
   ]
  },
  {
   "cell_type": "code",
   "execution_count": 85,
   "metadata": {},
   "outputs": [
    {
     "data": {
      "text/html": [
       "<pre style=\"white-space:pre;overflow-x:auto;line-height:normal;font-family:Menlo,'DejaVu Sans Mono',consolas,'Courier New',monospace\"></pre>\n"
      ],
      "text/plain": []
     },
     "metadata": {},
     "output_type": "display_data"
    },
    {
     "data": {
      "text/plain": [
       "\n",
       "\u001b[1;35mArray\u001b[0m\u001b[1m(\u001b[0m\u001b[1m[\u001b[0m\u001b[1m[\u001b[0m\u001b[1;36m1.0462394\u001b[0m, \u001b[1;36m0\u001b[0m.       , \u001b[1;36m0\u001b[0m.       \u001b[1m]\u001b[0m,\n",
       "       \u001b[1m[\u001b[0m\u001b[1;36m0\u001b[0m.       , \u001b[1;36m2.8096368\u001b[0m, \u001b[1;36m0\u001b[0m.       \u001b[1m]\u001b[0m,\n",
       "       \u001b[1m[\u001b[0m\u001b[1;36m0\u001b[0m.       , \u001b[1;36m0\u001b[0m.       , \u001b[1;36m2.8096368\u001b[0m\u001b[1m]\u001b[0m\u001b[1m]\u001b[0m, \u001b[33mdtype\u001b[0m=\u001b[35mfloat32\u001b[0m\u001b[1m)\u001b[0m"
      ]
     },
     "execution_count": 85,
     "metadata": {},
     "output_type": "execute_result"
    }
   ],
   "source": [
    "s[1]"
   ]
  },
  {
   "cell_type": "code",
   "execution_count": 87,
   "metadata": {},
   "outputs": [
    {
     "data": {
      "text/html": [
       "<pre style=\"white-space:pre;overflow-x:auto;line-height:normal;font-family:Menlo,'DejaVu Sans Mono',consolas,'Courier New',monospace\"></pre>\n"
      ],
      "text/plain": []
     },
     "metadata": {},
     "output_type": "display_data"
    },
    {
     "data": {
      "text/plain": [
       "\n",
       "\u001b[1;35mArray\u001b[0m\u001b[1m(\u001b[0m\u001b[1m[\u001b[0m\u001b[1m[\u001b[0m\u001b[1;36m-0.10890532\u001b[0m,  \u001b[1;36m0.00817202\u001b[0m, \u001b[1;36m-0.03942756\u001b[0m\u001b[1m]\u001b[0m,\n",
       "       \u001b[1m[\u001b[0m\u001b[1;36m-0.01127376\u001b[0m,  \u001b[1;36m0.18733723\u001b[0m, \u001b[1;36m-0.05919498\u001b[0m\u001b[1m]\u001b[0m,\n",
       "       \u001b[1m[\u001b[0m \u001b[1;36m0.02392958\u001b[0m, \u001b[1;36m-0.00932203\u001b[0m,  \u001b[1;36m0.14120552\u001b[0m\u001b[1m]\u001b[0m\u001b[1m]\u001b[0m, \u001b[33mdtype\u001b[0m=\u001b[35mfloat32\u001b[0m\u001b[1m)\u001b[0m"
      ]
     },
     "execution_count": 87,
     "metadata": {},
     "output_type": "execute_result"
    }
   ],
   "source": [
    "vol = jnp.linalg.det(cg.graph_data.lat[1])\n",
    "(-shat[1]) * cg.n_node[1]"
   ]
  },
  {
   "cell_type": "code",
   "execution_count": 92,
   "metadata": {},
   "outputs": [
    {
     "data": {
      "text/html": [
       "<pre style=\"white-space:pre;overflow-x:auto;line-height:normal;font-family:Menlo,'DejaVu Sans Mono',consolas,'Courier New',monospace\"></pre>\n"
      ],
      "text/plain": []
     },
     "metadata": {},
     "output_type": "display_data"
    },
    {
     "data": {
      "text/plain": [
       "\n",
       "\u001b[1;35mArray\u001b[0m\u001b[1m(\u001b[0m\u001b[1m[\u001b[0m\u001b[1m[\u001b[0m\u001b[1;36m-0.60424715\u001b[0m,  \u001b[1;36m0\u001b[0m.        ,  \u001b[1;36m0\u001b[0m.        \u001b[1m]\u001b[0m,\n",
       "       \u001b[1m[\u001b[0m\u001b[1;36m-0\u001b[0m.        , \u001b[1;36m-0.60424715\u001b[0m, \u001b[1;36m-0\u001b[0m.        \u001b[1m]\u001b[0m,\n",
       "       \u001b[1m[\u001b[0m \u001b[1;36m0\u001b[0m.        , \u001b[1;36m-0\u001b[0m.        , \u001b[1;36m-0.60424715\u001b[0m\u001b[1m]\u001b[0m\u001b[1m]\u001b[0m, \u001b[33mdtype\u001b[0m=\u001b[35mfloat32\u001b[0m\u001b[1m)\u001b[0m"
      ]
     },
     "execution_count": 92,
     "metadata": {},
     "output_type": "execute_result"
    }
   ],
   "source": [
    "s[0]"
   ]
  },
  {
   "cell_type": "code",
   "execution_count": 115,
   "metadata": {},
   "outputs": [
    {
     "data": {
      "text/html": [
       "<pre style=\"white-space:pre;overflow-x:auto;line-height:normal;font-family:Menlo,'DejaVu Sans Mono',consolas,'Courier New',monospace\"></pre>\n"
      ],
      "text/plain": []
     },
     "metadata": {},
     "output_type": "display_data"
    },
    {
     "data": {
      "text/plain": [
       "\u001b[1;35mArray\u001b[0m\u001b[1m(\u001b[0m\u001b[1;36m2.8824584\u001b[0m, \u001b[33mdtype\u001b[0m=\u001b[35mfloat32\u001b[0m\u001b[1m)\u001b[0m"
      ]
     },
     "execution_count": 115,
     "metadata": {},
     "output_type": "execute_result"
    }
   ],
   "source": [
    "import e3nn_jax as e3nn\n",
    "s_forces = e3nn.scatter_sum(\n",
    "    jnp.einsum(\"iu,iv->iuv\", -out.force, cg.nodes.cart),\n",
    "    nel=cg.n_node,\n",
    ")\n",
    "\n",
    "vols = jnp.linalg.det(cg.graph_data.lat[cg.padding_mask])[:, None, None]\n",
    "\n",
    "shat2 = (-0.1 * (s_forces[cg.padding_mask] - shat))\n",
    "\n",
    "l1_loss(shat2, s)"
   ]
  },
  {
   "cell_type": "code",
   "execution_count": 111,
   "metadata": {},
   "outputs": [
    {
     "data": {
      "text/html": [
       "<pre style=\"white-space:pre;overflow-x:auto;line-height:normal;font-family:Menlo,'DejaVu Sans Mono',consolas,'Courier New',monospace\"></pre>\n"
      ],
      "text/plain": []
     },
     "metadata": {},
     "output_type": "display_data"
    },
    {
     "data": {
      "text/plain": [
       "\n",
       "\u001b[1;35mArray\u001b[0m\u001b[1m(\u001b[0m\u001b[1m[\u001b[0m\u001b[1m[\u001b[0m\u001b[1m[\u001b[0m\u001b[1;36m-6.82180226e-01\u001b[0m,  \u001b[1;36m5.21102250e-02\u001b[0m, \u001b[1;36m-1.55381334e-04\u001b[0m\u001b[1m]\u001b[0m,\n",
       "        \u001b[1m[\u001b[0m \u001b[1;36m7.86673103e-04\u001b[0m, \u001b[1;36m-6.93698823e-01\u001b[0m,  \u001b[1;36m1.54064153e-04\u001b[0m\u001b[1m]\u001b[0m,\n",
       "        \u001b[1m[\u001b[0m\u001b[1;36m-2.03943625e-02\u001b[0m, \u001b[1;36m-1.98779013e-02\u001b[0m, \u001b[1;36m-7.25386918e-01\u001b[0m\u001b[1m]\u001b[0m\u001b[1m]\u001b[0m,\n",
       "\n",
       "       \u001b[1m[\u001b[0m\u001b[1m[\u001b[0m\u001b[1;36m-3.64974514e-02\u001b[0m, \u001b[1;36m-1.59305617e-01\u001b[0m,  \u001b[1;36m1.03405789e-02\u001b[0m\u001b[1m]\u001b[0m,\n",
       "        \u001b[1m[\u001b[0m \u001b[1;36m4.09099227e-03\u001b[0m,  \u001b[1;36m1.42291594e+00\u001b[0m, \u001b[1;36m-2.72516429e-01\u001b[0m\u001b[1m]\u001b[0m,\n",
       "        \u001b[1m[\u001b[0m\u001b[1;36m-5.24951458e-01\u001b[0m, \u001b[1;36m-6.91891611e-01\u001b[0m,  \u001b[1;36m9.62256253e-01\u001b[0m\u001b[1m]\u001b[0m\u001b[1m]\u001b[0m,\n",
       "\n",
       "       \u001b[1m[\u001b[0m\u001b[1m[\u001b[0m\u001b[1;36m-5.04558861e-01\u001b[0m,  \u001b[1;36m7.28574872e-01\u001b[0m,  \u001b[1;36m1.82530209e-01\u001b[0m\u001b[1m]\u001b[0m,\n",
       "        \u001b[1m[\u001b[0m \u001b[1;36m2.07458183e-01\u001b[0m, \u001b[1;36m-1.00633371e+00\u001b[0m,  \u001b[1;36m1.20740972e-01\u001b[0m\u001b[1m]\u001b[0m,\n",
       "        \u001b[1m[\u001b[0m \u001b[1;36m2.94208616e-01\u001b[0m,  \u001b[1;36m5.05794048e-01\u001b[0m,  \u001b[1;36m4.97382075e-01\u001b[0m\u001b[1m]\u001b[0m\u001b[1m]\u001b[0m,\n",
       "\n",
       "       \u001b[1m[\u001b[0m\u001b[1m[\u001b[0m \u001b[1;36m9.91178080e-02\u001b[0m,  \u001b[1;36m2.25008893e+00\u001b[0m,  \u001b[1;36m6.83501911e+00\u001b[0m\u001b[1m]\u001b[0m,\n",
       "        \u001b[1m[\u001b[0m \u001b[1;36m8.62053990e-01\u001b[0m, \u001b[1;36m-2.38283277e+00\u001b[0m,  \u001b[1;36m4.54934269e-01\u001b[0m\u001b[1m]\u001b[0m,\n",
       "        \u001b[1m[\u001b[0m \u001b[1;36m3.83615422e+00\u001b[0m, \u001b[1;36m-7.51134753e-01\u001b[0m, \u001b[1;36m-3.47551084e+00\u001b[0m\u001b[1m]\u001b[0m\u001b[1m]\u001b[0m,\n",
       "\n",
       "       \u001b[1m[\u001b[0m\u001b[1m[\u001b[0m \u001b[1;36m1.84880006e+00\u001b[0m, \u001b[1;36m-1.23305130e+00\u001b[0m,  \u001b[1;36m1.97775289e-01\u001b[0m\u001b[1m]\u001b[0m,\n",
       "        \u001b[1m[\u001b[0m\u001b[1;36m-2.26320490e-01\u001b[0m, \u001b[1;36m-2.26188108e-01\u001b[0m,  \u001b[1;36m3.11821371e-01\u001b[0m\u001b[1m]\u001b[0m,\n",
       "        \u001b[1m[\u001b[0m\u001b[1;36m-6.85291469e-01\u001b[0m,  \u001b[1;36m5.40968895e-01\u001b[0m, \u001b[1;36m-2.96678126e-01\u001b[0m\u001b[1m]\u001b[0m\u001b[1m]\u001b[0m,\n",
       "\n",
       "       \u001b[1m[\u001b[0m\u001b[1m[\u001b[0m \u001b[1;36m6.13155305e-01\u001b[0m, \u001b[1;36m-3.21964383e-01\u001b[0m,  \u001b[1;36m7.14292079e-02\u001b[0m\u001b[1m]\u001b[0m,\n",
       "        \u001b[1m[\u001b[0m \u001b[1;36m5.63803315e-02\u001b[0m,  \u001b[1;36m3.96890640e-01\u001b[0m,  \u001b[1;36m1.34976745e-01\u001b[0m\u001b[1m]\u001b[0m,\n",
       "        \u001b[1m[\u001b[0m\u001b[1;36m-2.70603955e-01\u001b[0m, \u001b[1;36m-2.55498201e-01\u001b[0m,  \u001b[1;36m4.56192940e-01\u001b[0m\u001b[1m]\u001b[0m\u001b[1m]\u001b[0m,\n",
       "\n",
       "       \u001b[1m[\u001b[0m\u001b[1m[\u001b[0m\u001b[1;36m-1.46720797e-01\u001b[0m,  \u001b[1;36m3.23558822e-02\u001b[0m,  \u001b[1;36m2.65811514e-02\u001b[0m\u001b[1m]\u001b[0m,\n",
       "        \u001b[1m[\u001b[0m\u001b[1;36m-3.49668354e-01\u001b[0m,  \u001b[1;36m1.95440516e-01\u001b[0m,  \u001b[1;36m5.14607072e-01\u001b[0m\u001b[1m]\u001b[0m,\n",
       "        \u001b[1m[\u001b[0m\u001b[1;36m-4.91154604e-02\u001b[0m,  \u001b[1;36m2.65554500e+00\u001b[0m,  \u001b[1;36m2.99823833e+00\u001b[0m\u001b[1m]\u001b[0m\u001b[1m]\u001b[0m,\n",
       "\n",
       "       \u001b[1m[\u001b[0m\u001b[1m[\u001b[0m \u001b[1;36m1.49705321e-01\u001b[0m,  \u001b[1;36m2.64181256e-01\u001b[0m,  \u001b[1;36m7.06814900e-02\u001b[0m\u001b[1m]\u001b[0m,\n",
       "        \u001b[1m[\u001b[0m \u001b[1;36m1.77976459e-01\u001b[0m,  \u001b[1;36m9.41742241e-01\u001b[0m, \u001b[1;36m-1.21787263e-04\u001b[0m\u001b[1m]\u001b[0m,\n",
       "        \u001b[1m[\u001b[0m\u001b[1;36m-1.03786647e-01\u001b[0m, \u001b[1;36m-2.13919789e-01\u001b[0m, \u001b[1;36m-1.65982489e-02\u001b[0m\u001b[1m]\u001b[0m\u001b[1m]\u001b[0m,\n",
       "\n",
       "       \u001b[1m[\u001b[0m\u001b[1m[\u001b[0m \u001b[1;36m5.00809813e+00\u001b[0m,  \u001b[1;36m5.70301414e-01\u001b[0m, \u001b[1;36m-1.89613149e-01\u001b[0m\u001b[1m]\u001b[0m,\n",
       "        \u001b[1m[\u001b[0m\u001b[1;36m-8.26297581e-01\u001b[0m,  \u001b[1;36m1.73594463e+00\u001b[0m, \u001b[1;36m-1.74634665e-01\u001b[0m\u001b[1m]\u001b[0m,\n",
       "        \u001b[1m[\u001b[0m\u001b[1;36m-4.24465477e-01\u001b[0m, \u001b[1;36m-4.67707694e-01\u001b[0m,  \u001b[1;36m1.02769375e+00\u001b[0m\u001b[1m]\u001b[0m\u001b[1m]\u001b[0m,\n",
       "\n",
       "       \u001b[1m[\u001b[0m\u001b[1m[\u001b[0m\u001b[1;36m-5.64725518e-01\u001b[0m, \u001b[1;36m-4.95614737e-01\u001b[0m,  \u001b[1;36m3.35904896e-01\u001b[0m\u001b[1m]\u001b[0m,\n",
       "        \u001b[1m[\u001b[0m\u001b[1;36m-4.13069010e-01\u001b[0m, \u001b[1;36m-5.51425032e-02\u001b[0m, \u001b[1;36m-6.21160030e-01\u001b[0m\u001b[1m]\u001b[0m,\n",
       "        \u001b[1m[\u001b[0m \u001b[1;36m3.15740079e-01\u001b[0m, \u001b[1;36m-4.96982306e-01\u001b[0m, \u001b[1;36m-9.10896480e-01\u001b[0m\u001b[1m]\u001b[0m\u001b[1m]\u001b[0m,\n",
       "\n",
       "       \u001b[1m[\u001b[0m\u001b[1m[\u001b[0m\u001b[1;36m-7.28239641e-02\u001b[0m, \u001b[1;36m-2.18933091e-01\u001b[0m, \u001b[1;36m-1.25988498e-01\u001b[0m\u001b[1m]\u001b[0m,\n",
       "        \u001b[1m[\u001b[0m \u001b[1;36m3.38216156e-01\u001b[0m,  \u001b[1;36m1.91319311e+00\u001b[0m,  \u001b[1;36m2.37405300e-01\u001b[0m\u001b[1m]\u001b[0m,\n",
       "        \u001b[1m[\u001b[0m\u001b[1;36m-4.87835966e-02\u001b[0m,  \u001b[1;36m5.89803457e-01\u001b[0m, \u001b[1;36m-5.79392672e-01\u001b[0m\u001b[1m]\u001b[0m\u001b[1m]\u001b[0m,\n",
       "\n",
       "       \u001b[1m[\u001b[0m\u001b[1m[\u001b[0m \u001b[1;36m1.70645714e+00\u001b[0m,  \u001b[1;36m3.36856127e-01\u001b[0m, \u001b[1;36m-1.00084567e+00\u001b[0m\u001b[1m]\u001b[0m,\n",
       "        \u001b[1m[\u001b[0m\u001b[1;36m-1.14831105e-01\u001b[0m, \u001b[1;36m-1.92794725e-01\u001b[0m, \u001b[1;36m-8.93643964e-03\u001b[0m\u001b[1m]\u001b[0m,\n",
       "        \u001b[1m[\u001b[0m \u001b[1;36m2.73653455e-02\u001b[0m, \u001b[1;36m-2.83125103e-01\u001b[0m, \u001b[1;36m-1.32478559e+00\u001b[0m\u001b[1m]\u001b[0m\u001b[1m]\u001b[0m,\n",
       "\n",
       "       \u001b[1m[\u001b[0m\u001b[1m[\u001b[0m \u001b[1;36m4.51621860e-01\u001b[0m, \u001b[1;36m-3.05344272e+00\u001b[0m,  \u001b[1;36m3.12971413e-01\u001b[0m\u001b[1m]\u001b[0m,\n",
       "        \u001b[1m[\u001b[0m \u001b[1;36m1.28387094e+00\u001b[0m, \u001b[1;36m-6.55619526e+00\u001b[0m,  \u001b[1;36m5.21772563e-01\u001b[0m\u001b[1m]\u001b[0m,\n",
       "        \u001b[1m[\u001b[0m \u001b[1;36m3.79742324e-01\u001b[0m,  \u001b[1;36m4.27857697e-01\u001b[0m, \u001b[1;36m-1.44337404e+00\u001b[0m\u001b[1m]\u001b[0m\u001b[1m]\u001b[0m,\n",
       "\n",
       "       \u001b[1m[\u001b[0m\u001b[1m[\u001b[0m \u001b[1;36m5.36743879e-01\u001b[0m, \u001b[1;36m-2.15314418e-01\u001b[0m, \u001b[1;36m-2.48952612e-01\u001b[0m\u001b[1m]\u001b[0m,\n",
       "        \u001b[1m[\u001b[0m\u001b[1;36m-3.43001366e-01\u001b[0m,  \u001b[1;36m1.15696526e+00\u001b[0m,  \u001b[1;36m2.33619571e-01\u001b[0m\u001b[1m]\u001b[0m,\n",
       "        \u001b[1m[\u001b[0m\u001b[1;36m-1.07709312e+00\u001b[0m, \u001b[1;36m-8.26493930e-03\u001b[0m, \u001b[1;36m-3.67904633e-01\u001b[0m\u001b[1m]\u001b[0m\u001b[1m]\u001b[0m,\n",
       "\n",
       "       \u001b[1m[\u001b[0m\u001b[1m[\u001b[0m\u001b[1;36m-7.35892951e-01\u001b[0m, \u001b[1;36m-8.03366363e-01\u001b[0m,  \u001b[1;36m3.55112940e-01\u001b[0m\u001b[1m]\u001b[0m,\n",
       "        \u001b[1m[\u001b[0m \u001b[1;36m5.49502790e-01\u001b[0m, \u001b[1;36m-4.91564661e-01\u001b[0m, \u001b[1;36m-7.56490111e-01\u001b[0m\u001b[1m]\u001b[0m,\n",
       "        \u001b[1m[\u001b[0m \u001b[1;36m2.82000273e-01\u001b[0m, \u001b[1;36m-8.21453556e-02\u001b[0m, \u001b[1;36m-3.66659403e-01\u001b[0m\u001b[1m]\u001b[0m\u001b[1m]\u001b[0m,\n",
       "\n",
       "       \u001b[1m[\u001b[0m\u001b[1m[\u001b[0m \u001b[1;36m9.79478002e-01\u001b[0m, \u001b[1;36m-3.60521495e-01\u001b[0m,  \u001b[1;36m1.55658376e+00\u001b[0m\u001b[1m]\u001b[0m,\n",
       "        \u001b[1m[\u001b[0m\u001b[1;36m-1.38201857e+00\u001b[0m, \u001b[1;36m-1.12128772e-01\u001b[0m,  \u001b[1;36m1.27114415e+00\u001b[0m\u001b[1m]\u001b[0m,\n",
       "        \u001b[1m[\u001b[0m\u001b[1;36m-2.79386967e-01\u001b[0m,  \u001b[1;36m1.06432641e+00\u001b[0m, \u001b[1;36m-3.92922133e-01\u001b[0m\u001b[1m]\u001b[0m\u001b[1m]\u001b[0m,\n",
       "\n",
       "       \u001b[1m[\u001b[0m\u001b[1m[\u001b[0m\u001b[1;36m-1.34110379e+00\u001b[0m, \u001b[1;36m-2.16486216e-01\u001b[0m,  \u001b[1;36m6.47850931e-01\u001b[0m\u001b[1m]\u001b[0m,\n",
       "        \u001b[1m[\u001b[0m \u001b[1;36m3.35980386e-01\u001b[0m, \u001b[1;36m-1.41216135e+00\u001b[0m, \u001b[1;36m-1.25168204e+00\u001b[0m\u001b[1m]\u001b[0m,\n",
       "        \u001b[1m[\u001b[0m\u001b[1;36m-6.83914870e-02\u001b[0m, \u001b[1;36m-8.54990780e-02\u001b[0m, \u001b[1;36m-3.74508560e-01\u001b[0m\u001b[1m]\u001b[0m\u001b[1m]\u001b[0m,\n",
       "\n",
       "       \u001b[1m[\u001b[0m\u001b[1m[\u001b[0m \u001b[1;36m7.88063288e-01\u001b[0m, \u001b[1;36m-4.05754000e-01\u001b[0m,  \u001b[1;36m1.58483878e-01\u001b[0m\u001b[1m]\u001b[0m,\n",
       "        \u001b[1m[\u001b[0m\u001b[1;36m-1.06418394e-01\u001b[0m,  \u001b[1;36m6.37190580e-01\u001b[0m,  \u001b[1;36m3.00386082e-02\u001b[0m\u001b[1m]\u001b[0m,\n",
       "        \u001b[1m[\u001b[0m\u001b[1;36m-4.50405806e-01\u001b[0m,  \u001b[1;36m5.14118791e-01\u001b[0m, \u001b[1;36m-1.07533090e-01\u001b[0m\u001b[1m]\u001b[0m\u001b[1m]\u001b[0m,\n",
       "\n",
       "       \u001b[1m[\u001b[0m\u001b[1m[\u001b[0m\u001b[1;36m-4.38492107e+00\u001b[0m,  \u001b[1;36m1.28044114e-01\u001b[0m,  \u001b[1;36m6.45427084e+00\u001b[0m\u001b[1m]\u001b[0m,\n",
       "        \u001b[1m[\u001b[0m \u001b[1;36m6.93778455e-01\u001b[0m,  \u001b[1;36m3.02407681e-03\u001b[0m, \u001b[1;36m-3.52280468e-01\u001b[0m\u001b[1m]\u001b[0m,\n",
       "        \u001b[1m[\u001b[0m\u001b[1;36m-7.09222198e-01\u001b[0m, \u001b[1;36m-1.08229063e-01\u001b[0m,  \u001b[1;36m1.79039991e+00\u001b[0m\u001b[1m]\u001b[0m\u001b[1m]\u001b[0m,\n",
       "\n",
       "       \u001b[1m[\u001b[0m\u001b[1m[\u001b[0m \u001b[1;36m6.12362206e-01\u001b[0m,  \u001b[1;36m1.83643806e+00\u001b[0m, \u001b[1;36m-2.89377284e+00\u001b[0m\u001b[1m]\u001b[0m,\n",
       "        \u001b[1m[\u001b[0m \u001b[1;36m3.29824638e+00\u001b[0m, \u001b[1;36m-2.57684612e+00\u001b[0m, \u001b[1;36m-2.13834882e+00\u001b[0m\u001b[1m]\u001b[0m,\n",
       "        \u001b[1m[\u001b[0m \u001b[1;36m2.32902479e+00\u001b[0m, \u001b[1;36m-1.96326220e+00\u001b[0m, \u001b[1;36m-3.49979568e+00\u001b[0m\u001b[1m]\u001b[0m\u001b[1m]\u001b[0m,\n",
       "\n",
       "       \u001b[1m[\u001b[0m\u001b[1m[\u001b[0m \u001b[1;36m3.46694589e-01\u001b[0m,  \u001b[1;36m7.17425197e-02\u001b[0m, \u001b[1;36m-2.68005282e-01\u001b[0m\u001b[1m]\u001b[0m,\n",
       "        \u001b[1m[\u001b[0m \u001b[1;36m8.23974788e-01\u001b[0m, \u001b[1;36m-6.44432783e-01\u001b[0m,  \u001b[1;36m4.18017596e-01\u001b[0m\u001b[1m]\u001b[0m,\n",
       "        \u001b[1m[\u001b[0m\u001b[1;36m-3.00047512e-04\u001b[0m,  \u001b[1;36m3.05066904e-04\u001b[0m, \u001b[1;36m-3.24905723e-01\u001b[0m\u001b[1m]\u001b[0m\u001b[1m]\u001b[0m,\n",
       "\n",
       "       \u001b[1m[\u001b[0m\u001b[1m[\u001b[0m \u001b[1;36m8.84707391e-01\u001b[0m, \u001b[1;36m-1.57103285e-01\u001b[0m, \u001b[1;36m-6.61411509e-02\u001b[0m\u001b[1m]\u001b[0m,\n",
       "        \u001b[1m[\u001b[0m\u001b[1;36m-5.08630335e-01\u001b[0m,  \u001b[1;36m3.31742793e-01\u001b[0m,  \u001b[1;36m2.87529439e-01\u001b[0m\u001b[1m]\u001b[0m,\n",
       "        \u001b[1m[\u001b[0m\u001b[1;36m-1.40327585e+00\u001b[0m, \u001b[1;36m-2.43711472e-01\u001b[0m, \u001b[1;36m-6.60613239e-01\u001b[0m\u001b[1m]\u001b[0m\u001b[1m]\u001b[0m,\n",
       "\n",
       "       \u001b[1m[\u001b[0m\u001b[1m[\u001b[0m\u001b[1;36m-1.79955706e-01\u001b[0m,  \u001b[1;36m1.28871888e-01\u001b[0m, \u001b[1;36m-2.26851940e-01\u001b[0m\u001b[1m]\u001b[0m,\n",
       "        \u001b[1m[\u001b[0m\u001b[1;36m-7.49353170e-01\u001b[0m,  \u001b[1;36m3.14458430e-01\u001b[0m,  \u001b[1;36m6.26685247e-02\u001b[0m\u001b[1m]\u001b[0m,\n",
       "        \u001b[1m[\u001b[0m\u001b[1;36m-1.59069281e-02\u001b[0m, \u001b[1;36m-1.15634277e-01\u001b[0m,  \u001b[1;36m1.04598859e-02\u001b[0m\u001b[1m]\u001b[0m\u001b[1m]\u001b[0m,\n",
       "\n",
       "       \u001b[1m[\u001b[0m\u001b[1m[\u001b[0m \u001b[1;36m2.33016089e-01\u001b[0m, \u001b[1;36m-6.89696446e-02\u001b[0m,  \u001b[1;36m2.67660350e-01\u001b[0m\u001b[1m]\u001b[0m,\n",
       "        \u001b[1m[\u001b[0m\u001b[1;36m-2.33238220e-01\u001b[0m,  \u001b[1;36m3.31049524e-02\u001b[0m, \u001b[1;36m-6.50051951e-01\u001b[0m\u001b[1m]\u001b[0m,\n",
       "        \u001b[1m[\u001b[0m\u001b[1;36m-2.55396992e-01\u001b[0m,  \u001b[1;36m3.15699816e-01\u001b[0m, \u001b[1;36m-1.43693974e-02\u001b[0m\u001b[1m]\u001b[0m\u001b[1m]\u001b[0m,\n",
       "\n",
       "       \u001b[1m[\u001b[0m\u001b[1m[\u001b[0m\u001b[1;36m-1.08997023e+00\u001b[0m,  \u001b[1;36m1.01577356e-01\u001b[0m, \u001b[1;36m-3.28556418e-01\u001b[0m\u001b[1m]\u001b[0m,\n",
       "        \u001b[1m[\u001b[0m\u001b[1;36m-6.40890181e-01\u001b[0m,  \u001b[1;36m6.67233467e-02\u001b[0m, \u001b[1;36m-2.04131529e-01\u001b[0m\u001b[1m]\u001b[0m,\n",
       "        \u001b[1m[\u001b[0m\u001b[1;36m-1.55695945e-01\u001b[0m,  \u001b[1;36m2.86955953e-01\u001b[0m,  \u001b[1;36m5.19359997e-03\u001b[0m\u001b[1m]\u001b[0m\u001b[1m]\u001b[0m,\n",
       "\n",
       "       \u001b[1m[\u001b[0m\u001b[1m[\u001b[0m\u001b[1;36m-1.33387875e-04\u001b[0m,  \u001b[1;36m2.09142410e-04\u001b[0m, \u001b[1;36m-3.14188910e-05\u001b[0m\u001b[1m]\u001b[0m,\n",
       "        \u001b[1m[\u001b[0m \u001b[1;36m1.80453542e-04\u001b[0m,  \u001b[1;36m2.52024899e-03\u001b[0m, \u001b[1;36m-9.34202108e-05\u001b[0m\u001b[1m]\u001b[0m,\n",
       "        \u001b[1m[\u001b[0m \u001b[1;36m9.23983939e-03\u001b[0m,  \u001b[1;36m9.23972111e-03\u001b[0m, \u001b[1;36m-1.18071854e+00\u001b[0m\u001b[1m]\u001b[0m\u001b[1m]\u001b[0m,\n",
       "\n",
       "       \u001b[1m[\u001b[0m\u001b[1m[\u001b[0m \u001b[1;36m3.04907012e+00\u001b[0m,  \u001b[1;36m1.42023909e+00\u001b[0m,  \u001b[1;36m1.27149940e+00\u001b[0m\u001b[1m]\u001b[0m,\n",
       "        \u001b[1m[\u001b[0m\u001b[1;36m-1.71429157e+00\u001b[0m, \u001b[1;36m-1.73776519e+00\u001b[0m, \u001b[1;36m-1.79909647e+00\u001b[0m\u001b[1m]\u001b[0m,\n",
       "        \u001b[1m[\u001b[0m \u001b[1;36m3.55898333e+00\u001b[0m,  \u001b[1;36m3.49555445e+00\u001b[0m,  \u001b[1;36m7.28729391e+00\u001b[0m\u001b[1m]\u001b[0m\u001b[1m]\u001b[0m,\n",
       "\n",
       "       \u001b[1m[\u001b[0m\u001b[1m[\u001b[0m \u001b[1;36m2.19707656e+00\u001b[0m,  \u001b[1;36m9.67269784e-07\u001b[0m,  \u001b[1;36m1.26846814e+00\u001b[0m\u001b[1m]\u001b[0m,\n",
       "        \u001b[1m[\u001b[0m\u001b[1;36m-1.10988310e-02\u001b[0m, \u001b[1;36m-0.00000000e+00\u001b[0m, \u001b[1;36m-6.40791235e-03\u001b[0m\u001b[1m]\u001b[0m,\n",
       "        \u001b[1m[\u001b[0m \u001b[1;36m1.40496469e+00\u001b[0m, \u001b[1;36m-0.00000000e+00\u001b[0m,  \u001b[1;36m8.11156690e-01\u001b[0m\u001b[1m]\u001b[0m\u001b[1m]\u001b[0m,\n",
       "\n",
       "       \u001b[1m[\u001b[0m\u001b[1m[\u001b[0m\u001b[1;36m-4.71719074e+00\u001b[0m, \u001b[1;36m-3.05382279e-03\u001b[0m, \u001b[1;36m-7.28608549e-01\u001b[0m\u001b[1m]\u001b[0m,\n",
       "        \u001b[1m[\u001b[0m\u001b[1;36m-2.62538195e+00\u001b[0m, \u001b[1;36m-4.23281733e-03\u001b[0m, \u001b[1;36m-3.95921201e-01\u001b[0m\u001b[1m]\u001b[0m,\n",
       "        \u001b[1m[\u001b[0m\u001b[1;36m-2.12567115e+00\u001b[0m,  \u001b[1;36m5.19120554e-03\u001b[0m, \u001b[1;36m-3.36813658e-01\u001b[0m\u001b[1m]\u001b[0m\u001b[1m]\u001b[0m,\n",
       "\n",
       "       \u001b[1m[\u001b[0m\u001b[1m[\u001b[0m\u001b[1;36m-9.19376373e-01\u001b[0m,  \u001b[1;36m3.42196965e+00\u001b[0m,  \u001b[1;36m5.25750446e+00\u001b[0m\u001b[1m]\u001b[0m,\n",
       "        \u001b[1m[\u001b[0m \u001b[1;36m6.26973450e-01\u001b[0m, \u001b[1;36m-2.31126070e+00\u001b[0m, \u001b[1;36m-3.54721832e+00\u001b[0m\u001b[1m]\u001b[0m,\n",
       "        \u001b[1m[\u001b[0m \u001b[1;36m4.70350653e-01\u001b[0m, \u001b[1;36m-1.75067103e+00\u001b[0m, \u001b[1;36m-2.68972635e+00\u001b[0m\u001b[1m]\u001b[0m\u001b[1m]\u001b[0m,\n",
       "\n",
       "       \u001b[1m[\u001b[0m\u001b[1m[\u001b[0m\u001b[1;36m-1.89545155e-02\u001b[0m,  \u001b[1;36m1.59176871e-05\u001b[0m,  \u001b[1;36m2.65652784e-06\u001b[0m\u001b[1m]\u001b[0m,\n",
       "        \u001b[1m[\u001b[0m \u001b[1;36m1.50683600e-05\u001b[0m, \u001b[1;36m-1.58232749e-02\u001b[0m, \u001b[1;36m-1.21410657e-03\u001b[0m\u001b[1m]\u001b[0m,\n",
       "        \u001b[1m[\u001b[0m\u001b[1;36m-2.83932854e-06\u001b[0m, \u001b[1;36m-1.17856136e-03\u001b[0m, \u001b[1;36m-2.31113378e-02\u001b[0m\u001b[1m]\u001b[0m\u001b[1m]\u001b[0m\u001b[1m]\u001b[0m,      \u001b[33mdtype\u001b[0m=\u001b[35mfloat32\u001b[0m\u001b[1m)\u001b[0m"
      ]
     },
     "execution_count": 111,
     "metadata": {},
     "output_type": "execute_result"
    }
   ],
   "source": [
    "shat2"
   ]
  },
  {
   "cell_type": "code",
   "execution_count": 109,
   "metadata": {},
   "outputs": [
    {
     "data": {
      "text/html": [
       "<pre style=\"white-space:pre;overflow-x:auto;line-height:normal;font-family:Menlo,'DejaVu Sans Mono',consolas,'Courier New',monospace\"></pre>\n"
      ],
      "text/plain": []
     },
     "metadata": {},
     "output_type": "display_data"
    },
    {
     "data": {
      "text/plain": [
       "\n",
       "\u001b[1;35mArray\u001b[0m\u001b[1m(\u001b[0m\u001b[1m[\u001b[0m\u001b[1m[\u001b[0m\u001b[1m[\u001b[0m\u001b[1;36m-6.0424715e-01\u001b[0m,  \u001b[1;36m0.0000000e+00\u001b[0m,  \u001b[1;36m0.0000000e+00\u001b[0m\u001b[1m]\u001b[0m,\n",
       "        \u001b[1m[\u001b[0m\u001b[1;36m-0.0000000e+00\u001b[0m, \u001b[1;36m-6.0424715e-01\u001b[0m, \u001b[1;36m-0.0000000e+00\u001b[0m\u001b[1m]\u001b[0m,\n",
       "        \u001b[1m[\u001b[0m \u001b[1;36m0.0000000e+00\u001b[0m, \u001b[1;36m-0.0000000e+00\u001b[0m, \u001b[1;36m-6.0424715e-01\u001b[0m\u001b[1m]\u001b[0m\u001b[1m]\u001b[0m,\n",
       "\n",
       "       \u001b[1m[\u001b[0m\u001b[1m[\u001b[0m \u001b[1;36m1.0462394e+00\u001b[0m,  \u001b[1;36m0.0000000e+00\u001b[0m,  \u001b[1;36m0.0000000e+00\u001b[0m\u001b[1m]\u001b[0m,\n",
       "        \u001b[1m[\u001b[0m \u001b[1;36m0.0000000e+00\u001b[0m,  \u001b[1;36m2.8096368e+00\u001b[0m,  \u001b[1;36m0.0000000e+00\u001b[0m\u001b[1m]\u001b[0m,\n",
       "        \u001b[1m[\u001b[0m \u001b[1;36m0.0000000e+00\u001b[0m,  \u001b[1;36m0.0000000e+00\u001b[0m,  \u001b[1;36m2.8096368e+00\u001b[0m\u001b[1m]\u001b[0m\u001b[1m]\u001b[0m,\n",
       "\n",
       "       \u001b[1m[\u001b[0m\u001b[1m[\u001b[0m \u001b[1;36m3.3103592e+00\u001b[0m,  \u001b[1;36m8.9109997e-04\u001b[0m,  \u001b[1;36m8.7364800e-03\u001b[0m\u001b[1m]\u001b[0m,\n",
       "        \u001b[1m[\u001b[0m \u001b[1;36m8.9109997e-04\u001b[0m,  \u001b[1;36m3.3401010e+00\u001b[0m,  \u001b[1;36m3.8545862e-02\u001b[0m\u001b[1m]\u001b[0m,\n",
       "        \u001b[1m[\u001b[0m \u001b[1;36m8.7365601e-03\u001b[0m,  \u001b[1;36m3.8545821e-02\u001b[0m,  \u001b[1;36m2.1181519e+00\u001b[0m\u001b[1m]\u001b[0m\u001b[1m]\u001b[0m,\n",
       "\n",
       "       \u001b[1m[\u001b[0m\u001b[1m[\u001b[0m\u001b[1;36m-6.9081502e+00\u001b[0m,  \u001b[1;36m0.0000000e+00\u001b[0m,  \u001b[1;36m1.7676691e+00\u001b[0m\u001b[1m]\u001b[0m,\n",
       "        \u001b[1m[\u001b[0m \u001b[1;36m0.0000000e+00\u001b[0m, \u001b[1;36m-3.1795950e+00\u001b[0m,  \u001b[1;36m0.0000000e+00\u001b[0m\u001b[1m]\u001b[0m,\n",
       "        \u001b[1m[\u001b[0m \u001b[1;36m1.7676692e+00\u001b[0m,  \u001b[1;36m0.0000000e+00\u001b[0m, \u001b[1;36m-4.2425270e+00\u001b[0m\u001b[1m]\u001b[0m\u001b[1m]\u001b[0m,\n",
       "\n",
       "       \u001b[1m[\u001b[0m\u001b[1m[\u001b[0m\u001b[1;36m-1.0880770e-01\u001b[0m, \u001b[1;36m-1.2903541e-01\u001b[0m,  \u001b[1;36m0.0000000e+00\u001b[0m\u001b[1m]\u001b[0m,\n",
       "        \u001b[1m[\u001b[0m\u001b[1;36m-1.2902828e-01\u001b[0m,  \u001b[1;36m6.1132740e-02\u001b[0m,  \u001b[1;36m0.0000000e+00\u001b[0m\u001b[1m]\u001b[0m,\n",
       "        \u001b[1m[\u001b[0m \u001b[1;36m0.0000000e+00\u001b[0m,  \u001b[1;36m0.0000000e+00\u001b[0m, \u001b[1;36m-5.8678418e-02\u001b[0m\u001b[1m]\u001b[0m\u001b[1m]\u001b[0m,\n",
       "\n",
       "       \u001b[1m[\u001b[0m\u001b[1m[\u001b[0m\u001b[1;36m-3.7215585e-01\u001b[0m, \u001b[1;36m-0.0000000e+00\u001b[0m,  \u001b[1;36m0.0000000e+00\u001b[0m\u001b[1m]\u001b[0m,\n",
       "        \u001b[1m[\u001b[0m\u001b[1;36m-0.0000000e+00\u001b[0m, \u001b[1;36m-3.7215585e-01\u001b[0m,  \u001b[1;36m0.0000000e+00\u001b[0m\u001b[1m]\u001b[0m,\n",
       "        \u001b[1m[\u001b[0m\u001b[1;36m-0.0000000e+00\u001b[0m, \u001b[1;36m-0.0000000e+00\u001b[0m, \u001b[1;36m-3.7215585e-01\u001b[0m\u001b[1m]\u001b[0m\u001b[1m]\u001b[0m,\n",
       "\n",
       "       \u001b[1m[\u001b[0m\u001b[1m[\u001b[0m \u001b[1;36m2.4973841e+00\u001b[0m,  \u001b[1;36m0.0000000e+00\u001b[0m,  \u001b[1;36m0.0000000e+00\u001b[0m\u001b[1m]\u001b[0m,\n",
       "        \u001b[1m[\u001b[0m \u001b[1;36m0.0000000e+00\u001b[0m,  \u001b[1;36m2.1608264e+00\u001b[0m,  \u001b[1;36m0.0000000e+00\u001b[0m\u001b[1m]\u001b[0m,\n",
       "        \u001b[1m[\u001b[0m \u001b[1;36m0.0000000e+00\u001b[0m,  \u001b[1;36m0.0000000e+00\u001b[0m, \u001b[1;36m-3.3969688e-01\u001b[0m\u001b[1m]\u001b[0m\u001b[1m]\u001b[0m,\n",
       "\n",
       "       \u001b[1m[\u001b[0m\u001b[1m[\u001b[0m\u001b[1;36m-2.2157550e+00\u001b[0m,  \u001b[1;36m0.0000000e+00\u001b[0m,  \u001b[1;36m0.0000000e+00\u001b[0m\u001b[1m]\u001b[0m,\n",
       "        \u001b[1m[\u001b[0m \u001b[1;36m0.0000000e+00\u001b[0m, \u001b[1;36m-3.4384408e+00\u001b[0m,  \u001b[1;36m0.0000000e+00\u001b[0m\u001b[1m]\u001b[0m,\n",
       "        \u001b[1m[\u001b[0m \u001b[1;36m0.0000000e+00\u001b[0m,  \u001b[1;36m0.0000000e+00\u001b[0m, \u001b[1;36m-6.7039180e+00\u001b[0m\u001b[1m]\u001b[0m\u001b[1m]\u001b[0m,\n",
       "\n",
       "       \u001b[1m[\u001b[0m\u001b[1m[\u001b[0m \u001b[1;36m1.2299723e+01\u001b[0m,  \u001b[1;36m0.0000000e+00\u001b[0m,  \u001b[1;36m0.0000000e+00\u001b[0m\u001b[1m]\u001b[0m,\n",
       "        \u001b[1m[\u001b[0m\u001b[1;36m-0.0000000e+00\u001b[0m,  \u001b[1;36m6.3333338e-01\u001b[0m,  \u001b[1;36m0.0000000e+00\u001b[0m\u001b[1m]\u001b[0m,\n",
       "        \u001b[1m[\u001b[0m \u001b[1;36m0.0000000e+00\u001b[0m,  \u001b[1;36m0.0000000e+00\u001b[0m,  \u001b[1;36m8.2211437e+00\u001b[0m\u001b[1m]\u001b[0m\u001b[1m]\u001b[0m,\n",
       "\n",
       "       \u001b[1m[\u001b[0m\u001b[1m[\u001b[0m \u001b[1;36m3.3723621e+00\u001b[0m,  \u001b[1;36m0.0000000e+00\u001b[0m, \u001b[1;36m-3.1104579e+00\u001b[0m\u001b[1m]\u001b[0m,\n",
       "        \u001b[1m[\u001b[0m \u001b[1;36m0.0000000e+00\u001b[0m, \u001b[1;36m-1.2385024e+00\u001b[0m,  \u001b[1;36m0.0000000e+00\u001b[0m\u001b[1m]\u001b[0m,\n",
       "        \u001b[1m[\u001b[0m\u001b[1;36m-3.1104579e+00\u001b[0m,  \u001b[1;36m0.0000000e+00\u001b[0m, \u001b[1;36m-4.4822021e+00\u001b[0m\u001b[1m]\u001b[0m\u001b[1m]\u001b[0m,\n",
       "\n",
       "       \u001b[1m[\u001b[0m\u001b[1m[\u001b[0m\u001b[1;36m-4.6044044e+00\u001b[0m,  \u001b[1;36m6.5629999e-04\u001b[0m, \u001b[1;36m-8.7808003e-04\u001b[0m\u001b[1m]\u001b[0m,\n",
       "        \u001b[1m[\u001b[0m \u001b[1;36m6.3919998e-04\u001b[0m,  \u001b[1;36m2.3784784e+01\u001b[0m,  \u001b[1;36m8.4267193e-01\u001b[0m\u001b[1m]\u001b[0m,\n",
       "        \u001b[1m[\u001b[0m\u001b[1;36m-8.6534000e-04\u001b[0m,  \u001b[1;36m8.4268302e-01\u001b[0m,  \u001b[1;36m2.0621521e+00\u001b[0m\u001b[1m]\u001b[0m\u001b[1m]\u001b[0m,\n",
       "\n",
       "       \u001b[1m[\u001b[0m\u001b[1m[\u001b[0m\u001b[1;36m-5.0976853e+00\u001b[0m, \u001b[1;36m-1.2504701e-03\u001b[0m, \u001b[1;36m-3.2684672e+00\u001b[0m\u001b[1m]\u001b[0m,\n",
       "        \u001b[1m[\u001b[0m\u001b[1;36m-1.2942500e-03\u001b[0m, \u001b[1;36m-4.9710541e+00\u001b[0m,  \u001b[1;36m6.7846901e-03\u001b[0m\u001b[1m]\u001b[0m,\n",
       "        \u001b[1m[\u001b[0m\u001b[1;36m-3.2684679e+00\u001b[0m,  \u001b[1;36m6.8013500e-03\u001b[0m, \u001b[1;36m-7.8330064e+00\u001b[0m\u001b[1m]\u001b[0m\u001b[1m]\u001b[0m,\n",
       "\n",
       "       \u001b[1m[\u001b[0m\u001b[1m[\u001b[0m \u001b[1;36m2.9339699e+01\u001b[0m, \u001b[1;36m-2.9999999e-08\u001b[0m, \u001b[1;36m-0.0000000e+00\u001b[0m\u001b[1m]\u001b[0m,\n",
       "        \u001b[1m[\u001b[0m \u001b[1;36m2.9999999e-08\u001b[0m,  \u001b[1;36m2.9339699e+01\u001b[0m, \u001b[1;36m-0.0000000e+00\u001b[0m\u001b[1m]\u001b[0m,\n",
       "        \u001b[1m[\u001b[0m\u001b[1;36m-0.0000000e+00\u001b[0m, \u001b[1;36m-0.0000000e+00\u001b[0m,  \u001b[1;36m2.5953777e+01\u001b[0m\u001b[1m]\u001b[0m\u001b[1m]\u001b[0m,\n",
       "\n",
       "       \u001b[1m[\u001b[0m\u001b[1m[\u001b[0m\u001b[1;36m-1.8196327e+01\u001b[0m, \u001b[1;36m-7.2399002e-01\u001b[0m,  \u001b[1;36m0.0000000e+00\u001b[0m\u001b[1m]\u001b[0m,\n",
       "        \u001b[1m[\u001b[0m\u001b[1;36m-7.2420812e-01\u001b[0m, \u001b[1;36m-1.7395250e+01\u001b[0m,  \u001b[1;36m0.0000000e+00\u001b[0m\u001b[1m]\u001b[0m,\n",
       "        \u001b[1m[\u001b[0m \u001b[1;36m0.0000000e+00\u001b[0m,  \u001b[1;36m0.0000000e+00\u001b[0m, \u001b[1;36m-1.4662378e+01\u001b[0m\u001b[1m]\u001b[0m\u001b[1m]\u001b[0m,\n",
       "\n",
       "       \u001b[1m[\u001b[0m\u001b[1m[\u001b[0m\u001b[1;36m-4.5098605e+00\u001b[0m,  \u001b[1;36m0.0000000e+00\u001b[0m, \u001b[1;36m-4.8083976e-01\u001b[0m\u001b[1m]\u001b[0m,\n",
       "        \u001b[1m[\u001b[0m \u001b[1;36m0.0000000e+00\u001b[0m, \u001b[1;36m-2.2578833e-01\u001b[0m,  \u001b[1;36m0.0000000e+00\u001b[0m\u001b[1m]\u001b[0m,\n",
       "        \u001b[1m[\u001b[0m\u001b[1;36m-4.8083973e-01\u001b[0m,  \u001b[1;36m0.0000000e+00\u001b[0m, \u001b[1;36m-1.6770862e+00\u001b[0m\u001b[1m]\u001b[0m\u001b[1m]\u001b[0m,\n",
       "\n",
       "       \u001b[1m[\u001b[0m\u001b[1m[\u001b[0m \u001b[1;36m1.2276725e+00\u001b[0m,  \u001b[1;36m2.9375421e-02\u001b[0m, \u001b[1;36m-5.3250999e-04\u001b[0m\u001b[1m]\u001b[0m,\n",
       "        \u001b[1m[\u001b[0m \u001b[1;36m2.9376660e-02\u001b[0m,  \u001b[1;36m1.1007864e+01\u001b[0m, \u001b[1;36m-3.1383001e-04\u001b[0m\u001b[1m]\u001b[0m,\n",
       "        \u001b[1m[\u001b[0m\u001b[1;36m-5.3070998e-04\u001b[0m, \u001b[1;36m-3.3904999e-04\u001b[0m, \u001b[1;36m-7.1899018e+00\u001b[0m\u001b[1m]\u001b[0m\u001b[1m]\u001b[0m,\n",
       "\n",
       "       \u001b[1m[\u001b[0m\u001b[1m[\u001b[0m\u001b[1;36m-3.0673430e+00\u001b[0m,  \u001b[1;36m0.0000000e+00\u001b[0m,  \u001b[1;36m8.5036725e-01\u001b[0m\u001b[1m]\u001b[0m,\n",
       "        \u001b[1m[\u001b[0m \u001b[1;36m0.0000000e+00\u001b[0m, \u001b[1;36m-2.4366271e+00\u001b[0m,  \u001b[1;36m0.0000000e+00\u001b[0m\u001b[1m]\u001b[0m,\n",
       "        \u001b[1m[\u001b[0m \u001b[1;36m8.5036725e-01\u001b[0m,  \u001b[1;36m0.0000000e+00\u001b[0m, \u001b[1;36m-3.4111745e+00\u001b[0m\u001b[1m]\u001b[0m\u001b[1m]\u001b[0m,\n",
       "\n",
       "       \u001b[1m[\u001b[0m\u001b[1m[\u001b[0m \u001b[1;36m4.4771199e+00\u001b[0m,  \u001b[1;36m0.0000000e+00\u001b[0m,  \u001b[1;36m0.0000000e+00\u001b[0m\u001b[1m]\u001b[0m,\n",
       "        \u001b[1m[\u001b[0m \u001b[1;36m0.0000000e+00\u001b[0m,  \u001b[1;36m4.4771199e+00\u001b[0m,  \u001b[1;36m0.0000000e+00\u001b[0m\u001b[1m]\u001b[0m,\n",
       "        \u001b[1m[\u001b[0m \u001b[1;36m0.0000000e+00\u001b[0m,  \u001b[1;36m0.0000000e+00\u001b[0m,  \u001b[1;36m6.7946835e+00\u001b[0m\u001b[1m]\u001b[0m\u001b[1m]\u001b[0m,\n",
       "\n",
       "       \u001b[1m[\u001b[0m\u001b[1m[\u001b[0m\u001b[1;36m-1.4408293e+01\u001b[0m,  \u001b[1;36m0.0000000e+00\u001b[0m,  \u001b[1;36m9.6332109e-01\u001b[0m\u001b[1m]\u001b[0m,\n",
       "        \u001b[1m[\u001b[0m \u001b[1;36m0.0000000e+00\u001b[0m, \u001b[1;36m-3.8979099e+01\u001b[0m,  \u001b[1;36m0.0000000e+00\u001b[0m\u001b[1m]\u001b[0m,\n",
       "        \u001b[1m[\u001b[0m \u001b[1;36m9.6332115e-01\u001b[0m,  \u001b[1;36m0.0000000e+00\u001b[0m, \u001b[1;36m-4.0220314e+01\u001b[0m\u001b[1m]\u001b[0m\u001b[1m]\u001b[0m,\n",
       "\n",
       "       \u001b[1m[\u001b[0m\u001b[1m[\u001b[0m\u001b[1;36m-2.5966685e+00\u001b[0m,  \u001b[1;36m2.3822494e+00\u001b[0m,  \u001b[1;36m3.9657459e+00\u001b[0m\u001b[1m]\u001b[0m,\n",
       "        \u001b[1m[\u001b[0m \u001b[1;36m2.3822489e+00\u001b[0m, \u001b[1;36m-3.4785817e+00\u001b[0m,  \u001b[1;36m3.3181304e-01\u001b[0m\u001b[1m]\u001b[0m,\n",
       "        \u001b[1m[\u001b[0m \u001b[1;36m3.9657450e+00\u001b[0m,  \u001b[1;36m3.3181289e-01\u001b[0m, \u001b[1;36m-4.6808443e+00\u001b[0m\u001b[1m]\u001b[0m\u001b[1m]\u001b[0m,\n",
       "\n",
       "       \u001b[1m[\u001b[0m\u001b[1m[\u001b[0m \u001b[1;36m7.1421243e-02\u001b[0m,  \u001b[1;36m0.0000000e+00\u001b[0m,  \u001b[1;36m0.0000000e+00\u001b[0m\u001b[1m]\u001b[0m,\n",
       "        \u001b[1m[\u001b[0m \u001b[1;36m0.0000000e+00\u001b[0m,  \u001b[1;36m3.5481194e-01\u001b[0m,  \u001b[1;36m0.0000000e+00\u001b[0m\u001b[1m]\u001b[0m,\n",
       "        \u001b[1m[\u001b[0m \u001b[1;36m0.0000000e+00\u001b[0m,  \u001b[1;36m0.0000000e+00\u001b[0m,  \u001b[1;36m7.9565719e-02\u001b[0m\u001b[1m]\u001b[0m\u001b[1m]\u001b[0m,\n",
       "\n",
       "       \u001b[1m[\u001b[0m\u001b[1m[\u001b[0m \u001b[1;36m1.4527394e+00\u001b[0m,  \u001b[1;36m9.0000000e-08\u001b[0m,  \u001b[1;36m5.9999998e-08\u001b[0m\u001b[1m]\u001b[0m,\n",
       "        \u001b[1m[\u001b[0m \u001b[1;36m9.0000000e-08\u001b[0m,  \u001b[1;36m1.4527395e+00\u001b[0m, \u001b[1;36m-0.0000000e+00\u001b[0m\u001b[1m]\u001b[0m,\n",
       "        \u001b[1m[\u001b[0m \u001b[1;36m5.9999998e-08\u001b[0m, \u001b[1;36m-0.0000000e+00\u001b[0m,  \u001b[1;36m1.4527395e+00\u001b[0m\u001b[1m]\u001b[0m\u001b[1m]\u001b[0m,\n",
       "\n",
       "       \u001b[1m[\u001b[0m\u001b[1m[\u001b[0m\u001b[1;36m-7.1705642e+00\u001b[0m, \u001b[1;36m-1.0241430e-01\u001b[0m, \u001b[1;36m-7.4646515e-01\u001b[0m\u001b[1m]\u001b[0m,\n",
       "        \u001b[1m[\u001b[0m\u001b[1;36m-1.0241443e-01\u001b[0m, \u001b[1;36m-7.0832601e+00\u001b[0m, \u001b[1;36m-9.4417948e-01\u001b[0m\u001b[1m]\u001b[0m,\n",
       "        \u001b[1m[\u001b[0m\u001b[1;36m-7.4646527e-01\u001b[0m, \u001b[1;36m-9.4417942e-01\u001b[0m, \u001b[1;36m-7.3630915e+00\u001b[0m\u001b[1m]\u001b[0m\u001b[1m]\u001b[0m,\n",
       "\n",
       "       \u001b[1m[\u001b[0m\u001b[1m[\u001b[0m \u001b[1;36m2.7893213e+01\u001b[0m,  \u001b[1;36m0.0000000e+00\u001b[0m,  \u001b[1;36m0.0000000e+00\u001b[0m\u001b[1m]\u001b[0m,\n",
       "        \u001b[1m[\u001b[0m \u001b[1;36m0.0000000e+00\u001b[0m,  \u001b[1;36m2.8347898e+01\u001b[0m,  \u001b[1;36m0.0000000e+00\u001b[0m\u001b[1m]\u001b[0m,\n",
       "        \u001b[1m[\u001b[0m \u001b[1;36m0.0000000e+00\u001b[0m,  \u001b[1;36m0.0000000e+00\u001b[0m,  \u001b[1;36m2.8307650e+01\u001b[0m\u001b[1m]\u001b[0m\u001b[1m]\u001b[0m,\n",
       "\n",
       "       \u001b[1m[\u001b[0m\u001b[1m[\u001b[0m\u001b[1;36m-1.0889322e+00\u001b[0m, \u001b[1;36m-1.1429285e+00\u001b[0m,  \u001b[1;36m0.0000000e+00\u001b[0m\u001b[1m]\u001b[0m,\n",
       "        \u001b[1m[\u001b[0m\u001b[1;36m-1.1429285e+00\u001b[0m,  \u001b[1;36m2.3080800e-01\u001b[0m,  \u001b[1;36m0.0000000e+00\u001b[0m\u001b[1m]\u001b[0m,\n",
       "        \u001b[1m[\u001b[0m \u001b[1;36m0.0000000e+00\u001b[0m,  \u001b[1;36m0.0000000e+00\u001b[0m,  \u001b[1;36m7.9184639e-01\u001b[0m\u001b[1m]\u001b[0m\u001b[1m]\u001b[0m,\n",
       "\n",
       "       \u001b[1m[\u001b[0m\u001b[1m[\u001b[0m\u001b[1;36m-8.1794996e+00\u001b[0m,  \u001b[1;36m0.0000000e+00\u001b[0m,  \u001b[1;36m0.0000000e+00\u001b[0m\u001b[1m]\u001b[0m,\n",
       "        \u001b[1m[\u001b[0m \u001b[1;36m0.0000000e+00\u001b[0m, \u001b[1;36m-8.1794996e+00\u001b[0m,  \u001b[1;36m0.0000000e+00\u001b[0m\u001b[1m]\u001b[0m,\n",
       "        \u001b[1m[\u001b[0m \u001b[1;36m0.0000000e+00\u001b[0m,  \u001b[1;36m0.0000000e+00\u001b[0m,  \u001b[1;36m4.6309304e+00\u001b[0m\u001b[1m]\u001b[0m\u001b[1m]\u001b[0m,\n",
       "\n",
       "       \u001b[1m[\u001b[0m\u001b[1m[\u001b[0m\u001b[1;36m-3.1208273e+01\u001b[0m,  \u001b[1;36m0.0000000e+00\u001b[0m, \u001b[1;36m-0.0000000e+00\u001b[0m\u001b[1m]\u001b[0m,\n",
       "        \u001b[1m[\u001b[0m\u001b[1;36m-0.0000000e+00\u001b[0m, \u001b[1;36m-3.1208273e+01\u001b[0m, \u001b[1;36m-0.0000000e+00\u001b[0m\u001b[1m]\u001b[0m,\n",
       "        \u001b[1m[\u001b[0m \u001b[1;36m0.0000000e+00\u001b[0m,  \u001b[1;36m0.0000000e+00\u001b[0m, \u001b[1;36m-3.1208273e+01\u001b[0m\u001b[1m]\u001b[0m\u001b[1m]\u001b[0m,\n",
       "\n",
       "       \u001b[1m[\u001b[0m\u001b[1m[\u001b[0m\u001b[1;36m-3.9366820e-01\u001b[0m, \u001b[1;36m-3.2880459e-02\u001b[0m, \u001b[1;36m-2.5102872e-01\u001b[0m\u001b[1m]\u001b[0m,\n",
       "        \u001b[1m[\u001b[0m\u001b[1;36m-3.2880459e-02\u001b[0m, \u001b[1;36m-5.3737001e-03\u001b[0m,  \u001b[1;36m5.6950629e-02\u001b[0m\u001b[1m]\u001b[0m,\n",
       "        \u001b[1m[\u001b[0m\u001b[1;36m-2.5102872e-01\u001b[0m,  \u001b[1;36m5.6950629e-02\u001b[0m, \u001b[1;36m-1.0380522e-01\u001b[0m\u001b[1m]\u001b[0m\u001b[1m]\u001b[0m,\n",
       "\n",
       "       \u001b[1m[\u001b[0m\u001b[1m[\u001b[0m \u001b[1;36m5.2157402e-01\u001b[0m,  \u001b[1;36m0.0000000e+00\u001b[0m,  \u001b[1;36m1.8446822e-01\u001b[0m\u001b[1m]\u001b[0m,\n",
       "        \u001b[1m[\u001b[0m \u001b[1;36m0.0000000e+00\u001b[0m, \u001b[1;36m-6.7470860e-01\u001b[0m,  \u001b[1;36m0.0000000e+00\u001b[0m\u001b[1m]\u001b[0m,\n",
       "        \u001b[1m[\u001b[0m \u001b[1;36m1.8446822e-01\u001b[0m,  \u001b[1;36m0.0000000e+00\u001b[0m, \u001b[1;36m-6.4626366e-01\u001b[0m\u001b[1m]\u001b[0m\u001b[1m]\u001b[0m,\n",
       "\n",
       "       \u001b[1m[\u001b[0m\u001b[1m[\u001b[0m\u001b[1;36m-4.8696548e-01\u001b[0m,  \u001b[1;36m6.4782208e-01\u001b[0m,  \u001b[1;36m8.5105646e-01\u001b[0m\u001b[1m]\u001b[0m,\n",
       "        \u001b[1m[\u001b[0m \u001b[1;36m6.4782208e-01\u001b[0m, \u001b[1;36m-1.8883285e-01\u001b[0m,  \u001b[1;36m2.3763327e-01\u001b[0m\u001b[1m]\u001b[0m,\n",
       "        \u001b[1m[\u001b[0m \u001b[1;36m8.5105652e-01\u001b[0m,  \u001b[1;36m2.3763327e-01\u001b[0m,  \u001b[1;36m8.6133838e-01\u001b[0m\u001b[1m]\u001b[0m\u001b[1m]\u001b[0m,\n",
       "\n",
       "       \u001b[1m[\u001b[0m\u001b[1m[\u001b[0m \u001b[1;36m1.8067325e+00\u001b[0m,  \u001b[1;36m0.0000000e+00\u001b[0m,  \u001b[1;36m0.0000000e+00\u001b[0m\u001b[1m]\u001b[0m,\n",
       "        \u001b[1m[\u001b[0m \u001b[1;36m0.0000000e+00\u001b[0m,  \u001b[1;36m1.8067325e+00\u001b[0m,  \u001b[1;36m0.0000000e+00\u001b[0m\u001b[1m]\u001b[0m,\n",
       "        \u001b[1m[\u001b[0m \u001b[1;36m0.0000000e+00\u001b[0m,  \u001b[1;36m0.0000000e+00\u001b[0m, \u001b[1;36m-5.1907830e+00\u001b[0m\u001b[1m]\u001b[0m\u001b[1m]\u001b[0m\u001b[1m]\u001b[0m, \u001b[33mdtype\u001b[0m=\u001b[35mfloat32\u001b[0m\u001b[1m)\u001b[0m"
      ]
     },
     "execution_count": 109,
     "metadata": {},
     "output_type": "execute_result"
    }
   ],
   "source": [
    "s"
   ]
  },
  {
   "cell_type": "code",
   "execution_count": 65,
   "metadata": {},
   "outputs": [
    {
     "data": {
      "text/html": [
       "<pre style=\"white-space:pre;overflow-x:auto;line-height:normal;font-family:Menlo,'DejaVu Sans Mono',consolas,'Courier New',monospace\"></pre>\n"
      ],
      "text/plain": []
     },
     "metadata": {},
     "output_type": "display_data"
    },
    {
     "data": {
      "image/png": "[encoded data removed]",
      "text/plain": [
       "\u001b[1m<\u001b[0m\u001b[1;95mFigure\u001b[0m\u001b[39m size 80\u001b[0m\u001b[1;36m0x600\u001b[0m\u001b[39m with \u001b[0m\u001b[1;36m1\u001b[0m\u001b[39m Axes\u001b[0m\u001b[1m>\u001b[0m"
      ]
     },
     "metadata": {},
     "output_type": "display_data"
    },
    {
     "data": {
      "text/html": [
       "<pre style=\"white-space:pre;overflow-x:auto;line-height:normal;font-family:Menlo,'DejaVu Sans Mono',consolas,'Courier New',monospace\"></pre>\n"
      ],
      "text/plain": []
     },
     "metadata": {},
     "output_type": "display_data"
    },
    {
     "data": {
      "text/plain": [
       "\u001b[1m[\u001b[0m\u001b[1m<\u001b[0m\u001b[1;95mmatplotlib.lines.Line2D\u001b[0m\u001b[39m object at \u001b[0m\u001b[1;36m0x7f37444bd340\u001b[0m\u001b[1m>\u001b[0m\u001b[1m]\u001b[0m"
      ]
     },
     "execution_count": 65,
     "metadata": {},
     "output_type": "execute_result"
    },
    {
     "data": {
      "text/html": [
       "<pre style=\"white-space:pre;overflow-x:auto;line-height:normal;font-family:Menlo,'DejaVu Sans Mono',consolas,'Courier New',monospace\"></pre>\n"
      ],
      "text/plain": []
     },
     "metadata": {},
     "output_type": "display_data"
    },
    {
     "data": {
      "image/png": "[encoded data removed]",
      "text/plain": [
       "\u001b[1m<\u001b[0m\u001b[1;95mFigure\u001b[0m\u001b[39m size 80\u001b[0m\u001b[1;36m0x600\u001b[0m\u001b[39m with \u001b[0m\u001b[1;36m1\u001b[0m\u001b[39m Axes\u001b[0m\u001b[1m>\u001b[0m"
      ]
     },
     "metadata": {},
     "output_type": "display_data"
    }
   ],
   "source": [
    "plt.plot((jnp.abs(f) / (jnp.abs(fhat) + 1e-2)).mean(axis=1))\n",
    "plt.show()\n",
    "plt.plot(cg.n_node[cg.nodes.graph_i][node_pad])"
   ]
  },
  {
   "cell_type": "code",
   "execution_count": 42,
   "metadata": {},
   "outputs": [
    {
     "data": {
      "text/html": [
       "<pre style=\"white-space:pre;overflow-x:auto;line-height:normal;font-family:Menlo,'DejaVu Sans Mono',consolas,'Courier New',monospace\"></pre>\n"
      ],
      "text/plain": []
     },
     "metadata": {},
     "output_type": "display_data"
    },
    {
     "data": {
      "text/plain": [
       "\u001b[1;35mArray\u001b[0m\u001b[1m(\u001b[0m\u001b[1;36m0.5799207\u001b[0m, \u001b[33mdtype\u001b[0m=\u001b[35mfloat32\u001b[0m\u001b[1m)\u001b[0m"
      ]
     },
     "execution_count": 42,
     "metadata": {},
     "output_type": "execute_result"
    }
   ],
   "source": [
    "l1_loss(fhat)"
   ]
  },
  {
   "cell_type": "code",
   "execution_count": 43,
   "metadata": {},
   "outputs": [
    {
     "data": {
      "text/html": [
       "<pre style=\"white-space:pre;overflow-x:auto;line-height:normal;font-family:Menlo,'DejaVu Sans Mono',consolas,'Courier New',monospace\"></pre>\n"
      ],
      "text/plain": []
     },
     "metadata": {},
     "output_type": "display_data"
    },
    {
     "data": {
      "text/plain": [
       "\u001b[1;35mArray\u001b[0m\u001b[1m(\u001b[0m\u001b[1;36m0.04981579\u001b[0m, \u001b[33mdtype\u001b[0m=\u001b[35mfloat32\u001b[0m\u001b[1m)\u001b[0m"
      ]
     },
     "execution_count": 43,
     "metadata": {},
     "output_type": "execute_result"
    }
   ],
   "source": [
    "l1_loss(f)"
   ]
  },
  {
   "cell_type": "code",
   "execution_count": 41,
   "metadata": {},
   "outputs": [
    {
     "data": {
      "text/html": [
       "<pre style=\"white-space:pre;overflow-x:auto;line-height:normal;font-family:Menlo,'DejaVu Sans Mono',consolas,'Courier New',monospace\"></pre>\n"
      ],
      "text/plain": []
     },
     "metadata": {},
     "output_type": "display_data"
    },
    {
     "data": {
      "text/plain": [
       "\u001b[1;35mArray\u001b[0m\u001b[1m(\u001b[0m\u001b[1;36m0.5978559\u001b[0m, \u001b[33mdtype\u001b[0m=\u001b[35mfloat32\u001b[0m\u001b[1m)\u001b[0m"
      ]
     },
     "execution_count": 41,
     "metadata": {},
     "output_type": "execute_result"
    }
   ],
   "source": [
    "l1_loss(-fhat, f)"
   ]
  },
  {
   "cell_type": "code",
   "execution_count": 17,
   "metadata": {},
   "outputs": [
    {
     "data": {
      "text/html": [
       "<pre style=\"white-space:pre;overflow-x:auto;line-height:normal;font-family:Menlo,'DejaVu Sans Mono',consolas,'Courier New',monospace\"></pre>\n"
      ],
      "text/plain": []
     },
     "metadata": {},
     "output_type": "display_data"
    },
    {
     "data": {
      "text/plain": [
       "\u001b[1;35mArray\u001b[0m\u001b[1m(\u001b[0m\u001b[1;36m2.1459146\u001b[0m, \u001b[33mdtype\u001b[0m=\u001b[35mfloat32\u001b[0m\u001b[1m)\u001b[0m"
      ]
     },
     "execution_count": 17,
     "metadata": {},
     "output_type": "execute_result"
    }
   ],
   "source": [
    "l1_loss(out.energy, cg.target_data.e_form)"
   ]
  },
  {
   "cell_type": "code",
   "execution_count": 13,
   "metadata": {},
   "outputs": [
    {
     "data": {
      "text/html": [
       "<pre style=\"white-space:pre;overflow-x:auto;line-height:normal;font-family:Menlo,'DejaVu Sans Mono',consolas,'Courier New',monospace\"></pre>\n"
      ],
      "text/plain": []
     },
     "metadata": {},
     "output_type": "display_data"
    },
    {
     "data": {
      "text/plain": [
       "\u001b[1;35mArray\u001b[0m\u001b[1m(\u001b[0m\u001b[1;36m0.6943037\u001b[0m, \u001b[33mdtype\u001b[0m=\u001b[35mfloat32\u001b[0m\u001b[1m)\u001b[0m"
      ]
     },
     "execution_count": 13,
     "metadata": {},
     "output_type": "execute_result"
    }
   ],
   "source": [
    "l1_loss(f)"
   ]
  },
  {
   "cell_type": "code",
   "execution_count": null,
   "metadata": {},
   "outputs": [],
   "source": [
    "l1_loss(fhat, f)"
   ]
  },
  {
   "cell_type": "code",
   "execution_count": 85,
   "metadata": {},
   "outputs": [
    {
     "data": {
      "text/html": [
       "<pre style=\"white-space:pre;overflow-x:auto;line-height:normal;font-family:Menlo,'DejaVu Sans Mono',consolas,'Courier New',monospace\"></pre>\n"
      ],
      "text/plain": []
     },
     "metadata": {},
     "output_type": "display_data"
    },
    {
     "data": {
      "text/plain": [
       "\n",
       "\u001b[1;35mArray\u001b[0m\u001b[1m(\u001b[0m\u001b[1m[\u001b[0m\u001b[1;36m2696.727\u001b[0m   ,  \u001b[1;36m992.36285\u001b[0m ,  \u001b[1;36m620.93396\u001b[0m ,  \u001b[1;36m776.3881\u001b[0m  , \u001b[1;36m1254.885\u001b[0m   ,\n",
       "        \u001b[1;36m445.16635\u001b[0m ,  \u001b[1;36m662.7077\u001b[0m  ,  \u001b[1;36m448.4857\u001b[0m  ,  \u001b[1;36m603.1233\u001b[0m  ,  \u001b[1;36m495.03308\u001b[0m ,\n",
       "        \u001b[1;36m755.0803\u001b[0m  ,  \u001b[1;36m326.15817\u001b[0m ,  \u001b[1;36m325.39355\u001b[0m ,  \u001b[1;36m279.91446\u001b[0m ,  \u001b[1;36m277.42963\u001b[0m ,\n",
       "        \u001b[1;36m258.77118\u001b[0m ,  \u001b[1;36m274.63596\u001b[0m ,  \u001b[1;36m342.94644\u001b[0m ,  \u001b[1;36m159.77986\u001b[0m ,  \u001b[1;36m166.9987\u001b[0m  ,\n",
       "        \u001b[1;36m158.49847\u001b[0m ,  \u001b[1;36m213.66805\u001b[0m ,  \u001b[1;36m142.81676\u001b[0m ,  \u001b[1;36m195.74626\u001b[0m ,  \u001b[1;36m103.411896\u001b[0m,\n",
       "        \u001b[1;36m204.39546\u001b[0m ,   \u001b[1;36m65.49931\u001b[0m ,   \u001b[1;36m44.829044\u001b[0m,   \u001b[1;36m61.68288\u001b[0m ,   \u001b[1;36m52.1802\u001b[0m  ,\n",
       "         \u001b[1;36m26.543814\u001b[0m,    \u001b[1;36m0\u001b[0m.      \u001b[1m]\u001b[0m, \u001b[33mdtype\u001b[0m=\u001b[35mfloat32\u001b[0m\u001b[1m)\u001b[0m"
      ]
     },
     "execution_count": 85,
     "metadata": {},
     "output_type": "execute_result"
    }
   ],
   "source": [
    "jnp.linalg.det(cg.graph_data.lat)"
   ]
  },
  {
   "cell_type": "code",
   "execution_count": null,
   "metadata": {},
   "outputs": [],
   "source": [
    "loss = config.train.loss.efs_loss(cg, out)"
   ]
  },
  {
   "cell_type": "code",
   "execution_count": 35,
   "metadata": {},
   "outputs": [
    {
     "data": {
      "text/html": [
       "<pre style=\"white-space:pre;overflow-x:auto;line-height:normal;font-family:Menlo,'DejaVu Sans Mono',consolas,'Courier New',monospace\"></pre>\n"
      ],
      "text/plain": []
     },
     "metadata": {},
     "output_type": "display_data"
    },
    {
     "data": {
      "text/plain": [
       "\n",
       "\u001b[1;35mArray\u001b[0m\u001b[1m(\u001b[0m\u001b[1m[\u001b[0m\u001b[1;36m0\u001b[0m, \u001b[1;36m0\u001b[0m, \u001b[1;36m0\u001b[0m, \u001b[1;36m0\u001b[0m, \u001b[1;36m0\u001b[0m, \u001b[1;36m0\u001b[0m, \u001b[1;36m0\u001b[0m, \u001b[1;36m0\u001b[0m, \u001b[1;36m0\u001b[0m, \u001b[1;36m0\u001b[0m, \u001b[1;36m0\u001b[0m, \u001b[1;36m0\u001b[0m, \u001b[1;36m0\u001b[0m, \u001b[1;36m0\u001b[0m, \u001b[1;36m0\u001b[0m, \u001b[1;36m0\u001b[0m, \u001b[1;36m0\u001b[0m, \u001b[1;36m0\u001b[0m, \u001b[1;36m0\u001b[0m, \u001b[1;36m0\u001b[0m, \u001b[1;36m0\u001b[0m, \u001b[1;36m0\u001b[0m,\n",
       "       \u001b[1;36m0\u001b[0m, \u001b[1;36m0\u001b[0m, \u001b[1;36m0\u001b[0m, \u001b[1;36m0\u001b[0m, \u001b[1;36m0\u001b[0m, \u001b[1;36m0\u001b[0m, \u001b[1;36m0\u001b[0m, \u001b[1;36m0\u001b[0m, \u001b[1;36m0\u001b[0m, \u001b[1;36m0\u001b[0m, \u001b[1;36m0\u001b[0m, \u001b[1;36m0\u001b[0m, \u001b[1;36m0\u001b[0m, \u001b[1;36m0\u001b[0m, \u001b[1;36m0\u001b[0m, \u001b[1;36m0\u001b[0m, \u001b[1;36m0\u001b[0m, \u001b[1;36m0\u001b[0m, \u001b[1;36m0\u001b[0m, \u001b[1;36m0\u001b[0m, \u001b[1;36m0\u001b[0m, \u001b[1;36m0\u001b[0m,\n",
       "       \u001b[1;36m0\u001b[0m, \u001b[1;36m0\u001b[0m, \u001b[1;36m0\u001b[0m, \u001b[1;36m0\u001b[0m, \u001b[1;36m0\u001b[0m, \u001b[1;36m0\u001b[0m, \u001b[1;36m0\u001b[0m, \u001b[1;36m0\u001b[0m, \u001b[1;36m0\u001b[0m, \u001b[1;36m0\u001b[0m, \u001b[1;36m0\u001b[0m, \u001b[1;36m0\u001b[0m, \u001b[1;36m0\u001b[0m, \u001b[1;36m0\u001b[0m, \u001b[1;36m0\u001b[0m, \u001b[1;36m0\u001b[0m, \u001b[1;36m0\u001b[0m, \u001b[1;36m0\u001b[0m, \u001b[1;36m0\u001b[0m, \u001b[1;36m0\u001b[0m, \u001b[1;36m0\u001b[0m, \u001b[1;36m0\u001b[0m,\n",
       "       \u001b[1;36m0\u001b[0m, \u001b[1;36m0\u001b[0m, \u001b[1;36m0\u001b[0m, \u001b[1;36m0\u001b[0m, \u001b[1;36m0\u001b[0m, \u001b[1;36m0\u001b[0m, \u001b[1;36m0\u001b[0m, \u001b[1;36m0\u001b[0m, \u001b[1;36m0\u001b[0m, \u001b[1;36m0\u001b[0m, \u001b[1;36m0\u001b[0m, \u001b[1;36m0\u001b[0m, \u001b[1;36m0\u001b[0m, \u001b[1;36m0\u001b[0m, \u001b[1;36m0\u001b[0m, \u001b[1;36m0\u001b[0m, \u001b[1;36m0\u001b[0m, \u001b[1;36m0\u001b[0m, \u001b[1;36m0\u001b[0m, \u001b[1;36m0\u001b[0m, \u001b[1;36m0\u001b[0m, \u001b[1;36m0\u001b[0m,\n",
       "       \u001b[1;36m0\u001b[0m, \u001b[1;36m0\u001b[0m, \u001b[1;36m0\u001b[0m, \u001b[1;36m0\u001b[0m, \u001b[1;36m0\u001b[0m, \u001b[1;36m0\u001b[0m, \u001b[1;36m0\u001b[0m, \u001b[1;36m0\u001b[0m, \u001b[1;36m0\u001b[0m, \u001b[1;36m0\u001b[0m, \u001b[1;36m0\u001b[0m, \u001b[1;36m0\u001b[0m, \u001b[1;36m0\u001b[0m, \u001b[1;36m0\u001b[0m, \u001b[1;36m0\u001b[0m, \u001b[1;36m0\u001b[0m, \u001b[1;36m0\u001b[0m, \u001b[1;36m0\u001b[0m, \u001b[1;36m0\u001b[0m, \u001b[1;36m0\u001b[0m, \u001b[1;36m0\u001b[0m, \u001b[1;36m0\u001b[0m,\n",
       "       \u001b[1;36m0\u001b[0m, \u001b[1;36m0\u001b[0m, \u001b[1;36m0\u001b[0m, \u001b[1;36m0\u001b[0m, \u001b[1;36m0\u001b[0m, \u001b[1;36m0\u001b[0m, \u001b[1;36m0\u001b[0m, \u001b[1;36m0\u001b[0m, \u001b[1;36m0\u001b[0m, \u001b[1;36m0\u001b[0m, \u001b[1;36m0\u001b[0m, \u001b[1;36m0\u001b[0m, \u001b[1;36m0\u001b[0m, \u001b[1;36m0\u001b[0m, \u001b[1;36m0\u001b[0m, \u001b[1;36m0\u001b[0m, \u001b[1;36m0\u001b[0m, \u001b[1;36m0\u001b[0m, \u001b[1;36m0\u001b[0m, \u001b[1;36m0\u001b[0m, \u001b[1;36m0\u001b[0m, \u001b[1;36m0\u001b[0m,\n",
       "       \u001b[1;36m0\u001b[0m, \u001b[1;36m0\u001b[0m, \u001b[1;36m0\u001b[0m, \u001b[1;36m0\u001b[0m, \u001b[1;36m0\u001b[0m, \u001b[1;36m0\u001b[0m, \u001b[1;36m0\u001b[0m, \u001b[1;36m0\u001b[0m, \u001b[1;36m0\u001b[0m, \u001b[1;36m0\u001b[0m, \u001b[1;36m0\u001b[0m, \u001b[1;36m0\u001b[0m, \u001b[1;36m0\u001b[0m, \u001b[1;36m0\u001b[0m, \u001b[1;36m0\u001b[0m, \u001b[1;36m0\u001b[0m, \u001b[1;36m0\u001b[0m, \u001b[1;36m0\u001b[0m, \u001b[1;36m0\u001b[0m, \u001b[1;36m0\u001b[0m, \u001b[1;36m0\u001b[0m, \u001b[1;36m0\u001b[0m,\n",
       "       \u001b[1;36m0\u001b[0m, \u001b[1;36m0\u001b[0m, \u001b[1;36m0\u001b[0m, \u001b[1;36m0\u001b[0m, \u001b[1;36m0\u001b[0m, \u001b[1;36m0\u001b[0m, \u001b[1;36m0\u001b[0m, \u001b[1;36m0\u001b[0m, \u001b[1;36m0\u001b[0m, \u001b[1;36m0\u001b[0m, \u001b[1;36m0\u001b[0m, \u001b[1;36m0\u001b[0m, \u001b[1;36m0\u001b[0m, \u001b[1;36m0\u001b[0m, \u001b[1;36m0\u001b[0m, \u001b[1;36m0\u001b[0m, \u001b[1;36m0\u001b[0m, \u001b[1;36m0\u001b[0m, \u001b[1;36m0\u001b[0m, \u001b[1;36m0\u001b[0m, \u001b[1;36m0\u001b[0m, \u001b[1;36m0\u001b[0m,\n",
       "       \u001b[1;36m0\u001b[0m, \u001b[1;36m0\u001b[0m, \u001b[1;36m0\u001b[0m, \u001b[1;36m0\u001b[0m, \u001b[1;36m0\u001b[0m, \u001b[1;36m0\u001b[0m, \u001b[1;36m0\u001b[0m, \u001b[1;36m0\u001b[0m, \u001b[1;36m0\u001b[0m, \u001b[1;36m0\u001b[0m, \u001b[1;36m0\u001b[0m, \u001b[1;36m0\u001b[0m, \u001b[1;36m0\u001b[0m, \u001b[1;36m0\u001b[0m, \u001b[1;36m0\u001b[0m, \u001b[1;36m0\u001b[0m, \u001b[1;36m0\u001b[0m, \u001b[1;36m0\u001b[0m, \u001b[1;36m0\u001b[0m, \u001b[1;36m0\u001b[0m, \u001b[1;36m0\u001b[0m, \u001b[1;36m0\u001b[0m,\n",
       "       \u001b[1;36m0\u001b[0m, \u001b[1;36m0\u001b[0m, \u001b[1;36m0\u001b[0m, \u001b[1;36m0\u001b[0m, \u001b[1;36m0\u001b[0m, \u001b[1;36m0\u001b[0m, \u001b[1;36m0\u001b[0m, \u001b[1;36m0\u001b[0m, \u001b[1;36m0\u001b[0m, \u001b[1;36m0\u001b[0m, \u001b[1;36m0\u001b[0m, \u001b[1;36m0\u001b[0m, \u001b[1;36m0\u001b[0m, \u001b[1;36m0\u001b[0m, \u001b[1;36m0\u001b[0m, \u001b[1;36m0\u001b[0m, \u001b[1;36m0\u001b[0m, \u001b[1;36m0\u001b[0m, \u001b[1;36m0\u001b[0m, \u001b[1;36m0\u001b[0m, \u001b[1;36m0\u001b[0m, \u001b[1;36m0\u001b[0m,\n",
       "       \u001b[1;36m0\u001b[0m, \u001b[1;36m0\u001b[0m, \u001b[1;36m0\u001b[0m, \u001b[1;36m0\u001b[0m, \u001b[1;36m0\u001b[0m, \u001b[1;36m0\u001b[0m, \u001b[1;36m0\u001b[0m, \u001b[1;36m0\u001b[0m, \u001b[1;36m0\u001b[0m, \u001b[1;36m0\u001b[0m, \u001b[1;36m0\u001b[0m, \u001b[1;36m0\u001b[0m, \u001b[1;36m0\u001b[0m, \u001b[1;36m0\u001b[0m, \u001b[1;36m0\u001b[0m, \u001b[1;36m0\u001b[0m, \u001b[1;36m0\u001b[0m, \u001b[1;36m0\u001b[0m, \u001b[1;36m0\u001b[0m, \u001b[1;36m0\u001b[0m, \u001b[1;36m0\u001b[0m, \u001b[1;36m0\u001b[0m,\n",
       "       \u001b[1;36m0\u001b[0m, \u001b[1;36m0\u001b[0m, \u001b[1;36m0\u001b[0m, \u001b[1;36m0\u001b[0m, \u001b[1;36m0\u001b[0m, \u001b[1;36m0\u001b[0m, \u001b[1;36m0\u001b[0m, \u001b[1;36m0\u001b[0m, \u001b[1;36m0\u001b[0m, \u001b[1;36m0\u001b[0m, \u001b[1;36m0\u001b[0m, \u001b[1;36m0\u001b[0m, \u001b[1;36m0\u001b[0m, \u001b[1;36m0\u001b[0m, \u001b[1;36m0\u001b[0m, \u001b[1;36m0\u001b[0m, \u001b[1;36m0\u001b[0m, \u001b[1;36m0\u001b[0m, \u001b[1;36m0\u001b[0m, \u001b[1;36m0\u001b[0m, \u001b[1;36m0\u001b[0m, \u001b[1;36m0\u001b[0m,\n",
       "       \u001b[1;36m0\u001b[0m, \u001b[1;36m0\u001b[0m, \u001b[1;36m0\u001b[0m, \u001b[1;36m0\u001b[0m, \u001b[1;36m0\u001b[0m, \u001b[1;36m0\u001b[0m, \u001b[1;36m0\u001b[0m, \u001b[1;36m0\u001b[0m\u001b[1m]\u001b[0m, \u001b[33mdtype\u001b[0m=\u001b[35mint32\u001b[0m\u001b[1m)\u001b[0m"
      ]
     },
     "execution_count": 35,
     "metadata": {},
     "output_type": "execute_result"
    }
   ],
   "source": [
    "cg.nodes.graph_i[:272]"
   ]
  },
  {
   "cell_type": "code",
   "execution_count": 93,
   "metadata": {},
   "outputs": [],
   "source": [
    "from pymatgen.core import Lattice\n",
    "\n",
    "lat = Lattice(cg.graph_data.lat[0])"
   ]
  },
  {
   "cell_type": "code",
   "execution_count": 97,
   "metadata": {},
   "outputs": [],
   "source": [
    "volume = jnp.abs(jnp.linalg.det(cg.graph_data.lat))[..., None, None]\n",
    "stress_cell = (0.1 * out.stress / jnp.where(volume == 0, jnp.ones_like(volume), volume))"
   ]
  },
  {
   "cell_type": "code",
   "execution_count": 98,
   "metadata": {},
   "outputs": [
    {
     "name": "stdout",
     "output_type": "stream",
     "text": [
      "15.490802\n"
     ]
    },
    {
     "data": {
      "text/html": [
       "<pre style=\"white-space:pre;overflow-x:auto;line-height:normal;font-family:Menlo,'DejaVu Sans Mono',consolas,'Courier New',monospace\"></pre>\n"
      ],
      "text/plain": []
     },
     "metadata": {},
     "output_type": "display_data"
    },
    {
     "data": {
      "text/plain": [
       "\u001b[1m<\u001b[0m\u001b[1;95mseaborn.axisgrid.JointGrid\u001b[0m\u001b[39m object at \u001b[0m\u001b[1;36m0x7ef79c6952e0\u001b[0m\u001b[1m>\u001b[0m"
      ]
     },
     "execution_count": 98,
     "metadata": {},
     "output_type": "execute_result"
    },
    {
     "data": {
      "text/html": [
       "<pre style=\"white-space:pre;overflow-x:auto;line-height:normal;font-family:Menlo,'DejaVu Sans Mono',consolas,'Courier New',monospace\"></pre>\n"
      ],
      "text/plain": []
     },
     "metadata": {},
     "output_type": "display_data"
    },
    {
     "data": {
      "image/png": "[encoded data removed]",
      "text/plain": [
       "\u001b[1m<\u001b[0m\u001b[1;95mFigure\u001b[0m\u001b[39m size 60\u001b[0m\u001b[1;36m0x600\u001b[0m\u001b[39m with \u001b[0m\u001b[1;36m3\u001b[0m\u001b[39m Axes\u001b[0m\u001b[1m>\u001b[0m"
      ]
     },
     "metadata": {},
     "output_type": "display_data"
    }
   ],
   "source": [
    "y = cg.target_data.stress[cg.padding_mask]\n",
    "volume = jnp.linalg.det(cg.graph_data.lat)[..., None, None]\n",
    "yhat = stress_cell[cg.padding_mask]\n",
    "\n",
    "z = y - yhat\n",
    "# z = z[cg.padding_mask[cg.nodes.graph_i]]\n",
    "print(jnp.mean(jnp.abs(z)))\n",
    "sns.jointplot(x=yhat.reshape(-1), y=y.reshape(-1), kind='hex')"
   ]
  },
  {
   "cell_type": "code",
   "execution_count": 40,
   "metadata": {},
   "outputs": [
    {
     "data": {
      "text/html": [
       "<pre style=\"white-space:pre;overflow-x:auto;line-height:normal;font-family:Menlo,'DejaVu Sans Mono',consolas,'Courier New',monospace\"></pre>\n"
      ],
      "text/plain": []
     },
     "metadata": {},
     "output_type": "display_data"
    },
    {
     "data": {
      "text/plain": [
       "\n",
       "\u001b[1;35mArray\u001b[0m\u001b[1m(\u001b[0m\u001b[1m[\u001b[0m\u001b[1m[\u001b[0m\u001b[1;36m10.297847\u001b[0m  ,  \u001b[1;36m0\u001b[0m.        , \u001b[1;36m-2.931051\u001b[0m  \u001b[1m]\u001b[0m,\n",
       "       \u001b[1m[\u001b[0m \u001b[1;36m0\u001b[0m.        ,  \u001b[1;36m9.247357\u001b[0m  ,  \u001b[1;36m0\u001b[0m.        \u001b[1m]\u001b[0m,\n",
       "       \u001b[1m[\u001b[0m\u001b[1;36m-0.02958372\u001b[0m,  \u001b[1;36m0\u001b[0m.        , \u001b[1;36m10.42935\u001b[0m   \u001b[1m]\u001b[0m\u001b[1m]\u001b[0m, \u001b[33mdtype\u001b[0m=\u001b[35mfloat32\u001b[0m\u001b[1m)\u001b[0m"
      ]
     },
     "execution_count": 40,
     "metadata": {},
     "output_type": "execute_result"
    }
   ],
   "source": [
    "cg.graph_data.lat[1]"
   ]
  },
  {
   "cell_type": "code",
   "execution_count": 13,
   "metadata": {},
   "outputs": [
    {
     "data": {
      "text/html": [
       "<pre style=\"white-space:pre;overflow-x:auto;line-height:normal;font-family:Menlo,'DejaVu Sans Mono',consolas,'Courier New',monospace\"></pre>\n"
      ],
      "text/plain": []
     },
     "metadata": {},
     "output_type": "display_data"
    },
    {
     "data": {
      "text/plain": [
       "\u001b[1m<\u001b[0m\u001b[1;95mmatplotlib.collections.PathCollection\u001b[0m\u001b[39m object at \u001b[0m\u001b[1;36m0x7f01105c95b0\u001b[0m\u001b[1m>\u001b[0m"
      ]
     },
     "execution_count": 13,
     "metadata": {},
     "output_type": "execute_result"
    },
    {
     "data": {
      "text/html": [
       "<pre style=\"white-space:pre;overflow-x:auto;line-height:normal;font-family:Menlo,'DejaVu Sans Mono',consolas,'Courier New',monospace\"></pre>\n"
      ],
      "text/plain": []
     },
     "metadata": {},
     "output_type": "display_data"
    },
    {
     "data": {
      "image/png": "[encoded data removed]",
      "text/plain": [
       "\u001b[1m<\u001b[0m\u001b[1;95mFigure\u001b[0m\u001b[39m size 80\u001b[0m\u001b[1;36m0x600\u001b[0m\u001b[39m with \u001b[0m\u001b[1;36m1\u001b[0m\u001b[39m Axes\u001b[0m\u001b[1m>\u001b[0m"
      ]
     },
     "metadata": {},
     "output_type": "display_data"
    }
   ],
   "source": [
    "plt.scatter(out.energy, cg.e_form)"
   ]
  },
  {
   "cell_type": "code",
   "execution_count": null,
   "metadata": {},
   "outputs": [],
   "source": []
  }
 ],
 "metadata": {
  "kernelspec": {
   "display_name": "avid",
   "language": "python",
   "name": "python3"
  },
  "language_info": {
   "codemirror_mode": {
    "name": "ipython",
    "version": 3
   },
   "file_extension": ".py",
   "mimetype": "text/x-python",
   "name": "python",
   "nbconvert_exporter": "python",
   "pygments_lexer": "ipython3",
   "version": "3.12.0"
  }
 },
 "nbformat": 4,
 "nbformat_minor": 2
}
