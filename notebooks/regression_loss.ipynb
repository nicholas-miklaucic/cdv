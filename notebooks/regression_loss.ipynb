{
 "cells": [
  {
   "cell_type": "code",
   "execution_count": 1,
   "metadata": {},
   "outputs": [],
   "source": [
    "import os\n",
    "\n",
    "os.environ['CUDA_VISIBLE_DEVICES'] = '1'\n",
    "\n",
    "import numpy as np\n",
    "import jax.numpy as jnp\n",
    "import jax\n",
    "import jax.random as jr\n",
    "import pandas as pd\n",
    "import plotly.express as px\n",
    "import matplotlib.pyplot as plt\n",
    "import seaborn as sns\n",
    "import rho_plus as rp\n",
    "\n",
    "is_dark = False\n",
    "theme, cs = rp.mpl_setup(is_dark)\n",
    "rp.plotly_setup(is_dark)"
   ]
  },
  {
   "cell_type": "code",
   "execution_count": 2,
   "metadata": {},
   "outputs": [
    {
     "name": "stdout",
     "output_type": "stream",
     "text": [
      "/home/nmiklaucic/cdv\n"
     ]
    },
    {
     "name": "stderr",
     "output_type": "stream",
     "text": [
      "/home/nmiklaucic/miniconda3/envs/avid/lib/python3.12/site-packages/IPython/core/magics/osm.py:393: UserWarning: This is now an optional IPython functionality, using bookmarks requires you to install the `pickleshare` library.\n",
      "  bkms = self.shell.db.get('bookmarks', {})\n",
      "/home/nmiklaucic/miniconda3/envs/avid/lib/python3.12/site-packages/IPython/core/magics/osm.py:417: UserWarning: This is now an optional IPython functionality, setting dhist requires you to install the `pickleshare` library.\n",
      "  self.shell.db['dhist'] = compress_dhist(dhist)[-100:]\n"
     ]
    }
   ],
   "source": [
    "%cd ~/cdv/"
   ]
  },
  {
   "cell_type": "code",
   "execution_count": 8,
   "metadata": {},
   "outputs": [
    {
     "data": {
      "text/html": [
       "<pre style=\"white-space:pre;overflow-x:auto;line-height:normal;font-family:Menlo,'DejaVu Sans Mono',consolas,'Courier New',monospace\">Configured `CheckpointManager` using deprecated legacy API. Please follow the instructions at                      \n",
       "<span style=\"color: #0000ff; text-decoration-color: #0000ff; text-decoration: underline\">https://orbax.readthedocs.io/en/latest/api_refactor.html</span> to migrate by May 1st, <span style=\"color: #008080; text-decoration-color: #008080; font-weight: bold\">2024</span>.                              \n",
       "</pre>\n"
      ],
      "text/plain": [
       "Configured `CheckpointManager` using deprecated legacy API. Please follow the instructions at                      \n",
       "\u001b[4;94mhttps://orbax.readthedocs.io/en/latest/api_refactor.html\u001b[0m to migrate by May 1st, \u001b[1;36m2024\u001b[0m.                              \n"
      ]
     },
     "metadata": {},
     "output_type": "display_data"
    },
    {
     "data": {
      "text/html": [
       "<pre style=\"white-space:pre;overflow-x:auto;line-height:normal;font-family:Menlo,'DejaVu Sans Mono',consolas,'Courier New',monospace\">Given directory is read <span style=\"color: #808000; text-decoration-color: #808000\">only</span>=<span style=\"color: #800080; text-decoration-color: #800080\">/home/nmiklaucic/cdv/logs/refactor_102/final_ckpt/</span><span style=\"color: #ff00ff; text-decoration-color: #ff00ff\">ckpts</span>                               \n",
       "</pre>\n"
      ],
      "text/plain": [
       "Given directory is read \u001b[33monly\u001b[0m=\u001b[35m/home/nmiklaucic/cdv/logs/refactor_102/final_ckpt/\u001b[0m\u001b[95mckpts\u001b[0m                               \n"
      ]
     },
     "metadata": {},
     "output_type": "display_data"
    },
    {
     "data": {
      "text/html": [
       "<pre style=\"white-space:pre;overflow-x:auto;line-height:normal;font-family:Menlo,'DejaVu Sans Mono',consolas,'Courier New',monospace\">Restoring item from <span style=\"color: #800080; text-decoration-color: #800080\">/home/nmiklaucic/cdv/logs/refactor_102/final_ckpt/ckpts/</span><span style=\"color: #ff00ff; text-decoration-color: #ff00ff\">22499.</span>                                 \n",
       "</pre>\n"
      ],
      "text/plain": [
       "Restoring item from \u001b[35m/home/nmiklaucic/cdv/logs/refactor_102/final_ckpt/ckpts/\u001b[0m\u001b[95m22499.\u001b[0m                                 \n"
      ]
     },
     "metadata": {},
     "output_type": "display_data"
    },
    {
     "data": {
      "text/html": [
       "<pre style=\"white-space:pre;overflow-x:auto;line-height:normal;font-family:Menlo,'DejaVu Sans Mono',consolas,'Courier New',monospace\">Finished restoring checkpoint from <span style=\"color: #800080; text-decoration-color: #800080\">/home/nmiklaucic/cdv/logs/refactor_102/final_ckpt/ckpts/</span><span style=\"color: #ff00ff; text-decoration-color: #ff00ff\">22499.</span>                  \n",
       "</pre>\n"
      ],
      "text/plain": [
       "Finished restoring checkpoint from \u001b[35m/home/nmiklaucic/cdv/logs/refactor_102/final_ckpt/ckpts/\u001b[0m\u001b[95m22499.\u001b[0m                  \n"
      ]
     },
     "metadata": {},
     "output_type": "display_data"
    }
   ],
   "source": [
    "from pathlib import Path\n",
    "import pyrallis\n",
    "from cdv.config import MainConfig\n",
    "import orbax.checkpoint as ocp\n",
    "\n",
    "from cdv.training_state import TrainingRun\n",
    "from cdv.checkpointing import best_ckpt\n",
    "\n",
    "# run_dir = Path('logs') / '06-30-19_406'\n",
    "run_dir = Path('logs') / 'refactor_102'\n",
    "\n",
    "with open(run_dir / 'config.toml') as conf_file:\n",
    "    config = pyrallis.cfgparsing.load(MainConfig, conf_file)\n",
    "\n",
    "if config.task == 'e_form':\n",
    "    model = config.build_regressor()\n",
    "elif config.task == 'vae':\n",
    "    model = config.build_vae()\n",
    "\n",
    "\n",
    "ckpt = best_ckpt(run_dir)\n",
    "ckpt = jax.tree.map(lambda x: x if isinstance(x, (float, int)) else x.astype(jnp.float32), ckpt)\n",
    "# model = model.bind(ckpt['state']['params'])"
   ]
  },
  {
   "cell_type": "code",
   "execution_count": 4,
   "metadata": {},
   "outputs": [
    {
     "data": {
      "text/html": [
       "<pre style=\"white-space:pre;overflow-x:auto;line-height:normal;font-family:Menlo,'DejaVu Sans Mono',consolas,'Courier New',monospace\"></pre>\n"
      ],
      "text/plain": []
     },
     "metadata": {},
     "output_type": "display_data"
    },
    {
     "data": {
      "text/plain": [
       "\u001b[1;35mCrystalGraphs\u001b[0m\u001b[1m(\u001b[0m\u001b[33mnodes\u001b[0m=\u001b[1m(\u001b[0m\u001b[1;36m1024\u001b[0m, \u001b[1;36m3\u001b[0m\u001b[1m)\u001b[0m, \u001b[33medges\u001b[0m=\u001b[1m(\u001b[0m\u001b[1;36m1024\u001b[0m, \u001b[1;36m16\u001b[0m\u001b[1m)\u001b[0m, \u001b[33mgraphs\u001b[0m=\u001b[1m(\u001b[0m\u001b[1;36m32\u001b[0m,\u001b[1m)\u001b[0m\u001b[1m)\u001b[0m"
      ]
     },
     "execution_count": 4,
     "metadata": {},
     "output_type": "execute_result"
    }
   ],
   "source": [
    "from cdv.dataset import load_file, stack_trees\n",
    "cg = load_file(config)\n",
    "cg"
   ]
  },
  {
   "cell_type": "code",
   "execution_count": 12,
   "metadata": {},
   "outputs": [
    {
     "data": {
      "text/html": [
       "<pre style=\"white-space:pre;overflow-x:auto;line-height:normal;font-family:Menlo,'DejaVu Sans Mono',consolas,'Courier New',monospace\"></pre>\n"
      ],
      "text/plain": []
     },
     "metadata": {},
     "output_type": "display_data"
    },
    {
     "data": {
      "text/plain": [
       "\n",
       "\u001b[1;35mEFSOutput\u001b[0m\u001b[1m(\u001b[0m\n",
       "    \u001b[33menergy\u001b[0m=\u001b[1;35mArray\u001b[0m\u001b[1m(\u001b[0m\u001b[1m[\u001b[0m\u001b[1m[\u001b[0m \u001b[1;36m-8.097197\u001b[0m  \u001b[1m]\u001b[0m,\n",
       "       \u001b[1m[\u001b[0m \u001b[1;36m-7.2521195\u001b[0m \u001b[1m]\u001b[0m,\n",
       "       \u001b[1m[\u001b[0m \u001b[1;36m-6.3271155\u001b[0m \u001b[1m]\u001b[0m,\n",
       "       \u001b[1m[\u001b[0m \u001b[1;36m-4.490765\u001b[0m  \u001b[1m]\u001b[0m,\n",
       "       \u001b[1m[\u001b[0m \u001b[1;36m-5.1013527\u001b[0m \u001b[1m]\u001b[0m,\n",
       "       \u001b[1m[\u001b[0m \u001b[1;36m-9.451162\u001b[0m  \u001b[1m]\u001b[0m,\n",
       "       \u001b[1m[\u001b[0m \u001b[1;36m-5.870725\u001b[0m  \u001b[1m]\u001b[0m,\n",
       "       \u001b[1m[\u001b[0m \u001b[1;36m-8.137844\u001b[0m  \u001b[1m]\u001b[0m,\n",
       "       \u001b[1m[\u001b[0m \u001b[1;36m-5.657994\u001b[0m  \u001b[1m]\u001b[0m,\n",
       "       \u001b[1m[\u001b[0m \u001b[1;36m-5.772934\u001b[0m  \u001b[1m]\u001b[0m,\n",
       "       \u001b[1m[\u001b[0m \u001b[1;36m-4.585565\u001b[0m  \u001b[1m]\u001b[0m,\n",
       "       \u001b[1m[\u001b[0m \u001b[1;36m-8.476302\u001b[0m  \u001b[1m]\u001b[0m,\n",
       "       \u001b[1m[\u001b[0m \u001b[1;36m-6.949283\u001b[0m  \u001b[1m]\u001b[0m,\n",
       "       \u001b[1m[\u001b[0m \u001b[1;36m-7.6523585\u001b[0m \u001b[1m]\u001b[0m,\n",
       "       \u001b[1m[\u001b[0m \u001b[1;36m-5.307356\u001b[0m  \u001b[1m]\u001b[0m,\n",
       "       \u001b[1m[\u001b[0m \u001b[1;36m-7.5254655\u001b[0m \u001b[1m]\u001b[0m,\n",
       "       \u001b[1m[\u001b[0m \u001b[1;36m-6.6701837\u001b[0m \u001b[1m]\u001b[0m,\n",
       "       \u001b[1m[\u001b[0m \u001b[1;36m-7.5140176\u001b[0m \u001b[1m]\u001b[0m,\n",
       "       \u001b[1m[\u001b[0m \u001b[1;36m-6.6827493\u001b[0m \u001b[1m]\u001b[0m,\n",
       "       \u001b[1m[\u001b[0m \u001b[1;36m-5.581137\u001b[0m  \u001b[1m]\u001b[0m,\n",
       "       \u001b[1m[\u001b[0m \u001b[1;36m-9.602773\u001b[0m  \u001b[1m]\u001b[0m,\n",
       "       \u001b[1m[\u001b[0m \u001b[1;36m-4.0304275\u001b[0m \u001b[1m]\u001b[0m,\n",
       "       \u001b[1m[\u001b[0m \u001b[1;36m-8.732369\u001b[0m  \u001b[1m]\u001b[0m,\n",
       "       \u001b[1m[\u001b[0m \u001b[1;36m-5.511499\u001b[0m  \u001b[1m]\u001b[0m,\n",
       "       \u001b[1m[\u001b[0m \u001b[1;36m-7.325319\u001b[0m  \u001b[1m]\u001b[0m,\n",
       "       \u001b[1m[\u001b[0m \u001b[1;36m-3.9198284\u001b[0m \u001b[1m]\u001b[0m,\n",
       "       \u001b[1m[\u001b[0m \u001b[1;36m-7.4241867\u001b[0m \u001b[1m]\u001b[0m,\n",
       "       \u001b[1m[\u001b[0m \u001b[1;36m-7.214806\u001b[0m  \u001b[1m]\u001b[0m,\n",
       "       \u001b[1m[\u001b[0m\u001b[1;36m-10.03207\u001b[0m   \u001b[1m]\u001b[0m,\n",
       "       \u001b[1m[\u001b[0m \u001b[1;36m-5.9288793\u001b[0m \u001b[1m]\u001b[0m,\n",
       "       \u001b[1m[\u001b[0m \u001b[1;36m-7.0438657\u001b[0m \u001b[1m]\u001b[0m,\n",
       "       \u001b[1m[\u001b[0m  \u001b[1;36m0.10571503\u001b[0m\u001b[1m]\u001b[0m\u001b[1m]\u001b[0m, \u001b[33mdtype\u001b[0m=\u001b[35mfloat32\u001b[0m\u001b[1m)\u001b[0m,\n",
       "    \u001b[33mforce\u001b[0m=\u001b[1;35mArray\u001b[0m\u001b[1m(\u001b[0m\u001b[1m[\u001b[0m\u001b[1m[\u001b[0m \u001b[1;36m0.09518433\u001b[0m, \u001b[1;36m-0.12104034\u001b[0m,  \u001b[1;36m0.06345558\u001b[0m\u001b[1m]\u001b[0m,\n",
       "       \u001b[1m[\u001b[0m \u001b[1;36m0.0873642\u001b[0m ,  \u001b[1;36m0.14580727\u001b[0m, \u001b[1;36m-0.06214285\u001b[0m\u001b[1m]\u001b[0m,\n",
       "       \u001b[1m[\u001b[0m\u001b[1;36m-0.0873642\u001b[0m , \u001b[1;36m-0.14580727\u001b[0m, \u001b[1;36m-0.06214285\u001b[0m\u001b[1m]\u001b[0m,\n",
       "       \u001b[33m...\u001b[0m,\n",
       "       \u001b[1m[\u001b[0m\u001b[1;36m-0\u001b[0m.        , \u001b[1;36m-0\u001b[0m.        , \u001b[1;36m-0\u001b[0m.        \u001b[1m]\u001b[0m,\n",
       "       \u001b[1m[\u001b[0m\u001b[1;36m-0\u001b[0m.        , \u001b[1;36m-0\u001b[0m.        , \u001b[1;36m-0\u001b[0m.        \u001b[1m]\u001b[0m,\n",
       "       \u001b[1m[\u001b[0m\u001b[1;36m-0\u001b[0m.        , \u001b[1;36m-0\u001b[0m.        , \u001b[1;36m-0\u001b[0m.        \u001b[1m]\u001b[0m\u001b[1m]\u001b[0m, \u001b[33mdtype\u001b[0m=\u001b[35mfloat32\u001b[0m\u001b[1m)\u001b[0m,\n",
       "    \u001b[33mstress\u001b[0m=\u001b[1;35mArray\u001b[0m\u001b[1m(\u001b[0m\u001b[1m[\u001b[0m\u001b[1m[\u001b[0m\u001b[1m[\u001b[0m \u001b[1;36m2.99714327e+00\u001b[0m,  \u001b[1;36m3.76516581e-01\u001b[0m, \u001b[1;36m-5.72328911e+01\u001b[0m\u001b[1m]\u001b[0m,\n",
       "        \u001b[1m[\u001b[0m \u001b[1;36m6.31732941e-01\u001b[0m, \u001b[1;36m-2.35260010e+00\u001b[0m, \u001b[1;36m-0.00000000e+00\u001b[0m\u001b[1m]\u001b[0m,\n",
       "        \u001b[1m[\u001b[0m\u001b[1;36m-1.29166412e+01\u001b[0m, \u001b[1;36m-6.65094703e-02\u001b[0m,  \u001b[1;36m1.42879665e+00\u001b[0m\u001b[1m]\u001b[0m\u001b[1m]\u001b[0m,\n",
       "\n",
       "       \u001b[1m[\u001b[0m\u001b[1m[\u001b[0m\u001b[1;36m-1.42902374e+01\u001b[0m, \u001b[1;36m-1.24618225e+01\u001b[0m, \u001b[1;36m-1.34176064e+01\u001b[0m\u001b[1m]\u001b[0m,\n",
       "        \u001b[1m[\u001b[0m\u001b[1;36m-3.39610100e+00\u001b[0m, \u001b[1;36m-2.01002693e+01\u001b[0m,  \u001b[1;36m4.65440750e+00\u001b[0m\u001b[1m]\u001b[0m,\n",
       "        \u001b[1m[\u001b[0m \u001b[1;36m4.52565193e+00\u001b[0m,  \u001b[1;36m4.83704805e+00\u001b[0m, \u001b[1;36m-8.41567993e+00\u001b[0m\u001b[1m]\u001b[0m\u001b[1m]\u001b[0m,\n",
       "\n",
       "       \u001b[1m[\u001b[0m\u001b[1m[\u001b[0m\u001b[1;36m-9.66156006e+00\u001b[0m, \u001b[1;36m-2.16960907e-04\u001b[0m,  \u001b[1;36m2.85434723e-02\u001b[0m\u001b[1m]\u001b[0m,\n",
       "        \u001b[1m[\u001b[0m \u001b[1;36m1.03883624e+00\u001b[0m, \u001b[1;36m-9.97314453e+00\u001b[0m,  \u001b[1;36m3.45230103e-01\u001b[0m\u001b[1m]\u001b[0m,\n",
       "        \u001b[1m[\u001b[0m\u001b[1;36m-9.26551819e-01\u001b[0m, \u001b[1;36m-8.58831406e-02\u001b[0m, \u001b[1;36m-4.85168457e+00\u001b[0m\u001b[1m]\u001b[0m\u001b[1m]\u001b[0m,\n",
       "\n",
       "       \u001b[1m[\u001b[0m\u001b[1m[\u001b[0m \u001b[1;36m5.89247274e+00\u001b[0m,  \u001b[1;36m2.22155690e+00\u001b[0m,  \u001b[1;36m7.75898457e+00\u001b[0m\u001b[1m]\u001b[0m,\n",
       "        \u001b[1m[\u001b[0m \u001b[1;36m1.13038063e+00\u001b[0m, \u001b[1;36m-1.72586918e+00\u001b[0m,  \u001b[1;36m6.48679256e+00\u001b[0m\u001b[1m]\u001b[0m,\n",
       "        \u001b[1m[\u001b[0m\u001b[1;36m-2.86257029e+00\u001b[0m,  \u001b[1;36m9.90649700e+00\u001b[0m,  \u001b[1;36m9.31157768e-01\u001b[0m\u001b[1m]\u001b[0m\u001b[1m]\u001b[0m,\n",
       "\n",
       "       \u001b[1m[\u001b[0m\u001b[1m[\u001b[0m\u001b[1;36m-3.61677551e+01\u001b[0m,  \u001b[1;36m2.77595520e-01\u001b[0m, \u001b[1;36m-2.16558075e+01\u001b[0m\u001b[1m]\u001b[0m,\n",
       "        \u001b[1m[\u001b[0m \u001b[1;36m1.52774811e+01\u001b[0m,  \u001b[1;36m3.69593811e+01\u001b[0m, \u001b[1;36m-8.66180420e+00\u001b[0m\u001b[1m]\u001b[0m,\n",
       "        \u001b[1m[\u001b[0m\u001b[1;36m-1.91572571e+01\u001b[0m,  \u001b[1;36m2.77233124e-02\u001b[0m, \u001b[1;36m-1.04910278e+01\u001b[0m\u001b[1m]\u001b[0m\u001b[1m]\u001b[0m,\n",
       "\n",
       "       \u001b[1m[\u001b[0m\u001b[1m[\u001b[0m\u001b[1;36m-3.26417542e+01\u001b[0m, \u001b[1;36m-2.87692261e+01\u001b[0m, \u001b[1;36m-4.15811539e+00\u001b[0m\u001b[1m]\u001b[0m,\n",
       "        \u001b[1m[\u001b[0m\u001b[1;36m-3.27583313e+01\u001b[0m, \u001b[1;36m-6.83834076e+00\u001b[0m, \u001b[1;36m-2.85378075e+01\u001b[0m\u001b[1m]\u001b[0m,\n",
       "        \u001b[1m[\u001b[0m\u001b[1;36m-1.11248302e+01\u001b[0m, \u001b[1;36m-3.08601189e+01\u001b[0m, \u001b[1;36m-3.15145493e+01\u001b[0m\u001b[1m]\u001b[0m\u001b[1m]\u001b[0m,\n",
       "\n",
       "       \u001b[1m[\u001b[0m\u001b[1m[\u001b[0m\u001b[1;36m-1.29907227e+01\u001b[0m, \u001b[1;36m-0.00000000e+00\u001b[0m,  \u001b[1;36m9.90861893e+00\u001b[0m\u001b[1m]\u001b[0m,\n",
       "        \u001b[1m[\u001b[0m\u001b[1;36m-0.00000000e+00\u001b[0m,  \u001b[1;36m7.06726074e+00\u001b[0m, \u001b[1;36m-7.71873474e+00\u001b[0m\u001b[1m]\u001b[0m,\n",
       "        \u001b[1m[\u001b[0m \u001b[1;36m6.58401489e+00\u001b[0m, \u001b[1;36m-0.00000000e+00\u001b[0m,  \u001b[1;36m1.03543854e+01\u001b[0m\u001b[1m]\u001b[0m\u001b[1m]\u001b[0m,\n",
       "\n",
       "       \u001b[1m[\u001b[0m\u001b[1m[\u001b[0m \u001b[1;36m5.84646463e-01\u001b[0m, \u001b[1;36m-2.06521511e+00\u001b[0m, \u001b[1;36m-2.73251176e+00\u001b[0m\u001b[1m]\u001b[0m,\n",
       "        \u001b[1m[\u001b[0m \u001b[1;36m2.20272827e+01\u001b[0m, \u001b[1;36m-2.70753098e+01\u001b[0m,  \u001b[1;36m4.14980240e+01\u001b[0m\u001b[1m]\u001b[0m,\n",
       "        \u001b[1m[\u001b[0m \u001b[1;36m3.23483047e+01\u001b[0m, \u001b[1;36m-1.86529922e+01\u001b[0m, \u001b[1;36m-5.25355568e+01\u001b[0m\u001b[1m]\u001b[0m\u001b[1m]\u001b[0m,\n",
       "\n",
       "       \u001b[1m[\u001b[0m\u001b[1m[\u001b[0m \u001b[1;36m7.55051575e+01\u001b[0m,  \u001b[1;36m1.66873395e+00\u001b[0m,  \u001b[1;36m1.64255798e+00\u001b[0m\u001b[1m]\u001b[0m,\n",
       "        \u001b[1m[\u001b[0m\u001b[1;36m-5.87144494e-02\u001b[0m,  \u001b[1;36m5.09178619e+01\u001b[0m,  \u001b[1;36m2.74705887e-02\u001b[0m\u001b[1m]\u001b[0m,\n",
       "        \u001b[1m[\u001b[0m\u001b[1;36m-2.58499682e-01\u001b[0m,  \u001b[1;36m1.95358396e-01\u001b[0m,  \u001b[1;36m4.58656998e+01\u001b[0m\u001b[1m]\u001b[0m\u001b[1m]\u001b[0m,\n",
       "\n",
       "       \u001b[1m[\u001b[0m\u001b[1m[\u001b[0m \u001b[1;36m1.98068619e+01\u001b[0m, \u001b[1;36m-1.79173470e+01\u001b[0m, \u001b[1;36m-1.81147957e+01\u001b[0m\u001b[1m]\u001b[0m,\n",
       "        \u001b[1m[\u001b[0m\u001b[1;36m-1.91420174e+01\u001b[0m,  \u001b[1;36m2.08313560e+01\u001b[0m, \u001b[1;36m-1.76054001e+01\u001b[0m\u001b[1m]\u001b[0m,\n",
       "        \u001b[1m[\u001b[0m\u001b[1;36m-1.90352058e+01\u001b[0m, \u001b[1;36m-1.62629318e+01\u001b[0m,  \u001b[1;36m2.05685997e+01\u001b[0m\u001b[1m]\u001b[0m\u001b[1m]\u001b[0m,\n",
       "\n",
       "       \u001b[1m[\u001b[0m\u001b[1m[\u001b[0m\u001b[1;36m-4.19189453e+00\u001b[0m,  \u001b[1;36m3.19503784e+00\u001b[0m, \u001b[1;36m-0.00000000e+00\u001b[0m\u001b[1m]\u001b[0m,\n",
       "        \u001b[1m[\u001b[0m\u001b[1;36m-0.00000000e+00\u001b[0m,  \u001b[1;36m9.19494629e+00\u001b[0m,  \u001b[1;36m4.66529846e+00\u001b[0m\u001b[1m]\u001b[0m,\n",
       "        \u001b[1m[\u001b[0m\u001b[1;36m-0.00000000e+00\u001b[0m,  \u001b[1;36m6.78802490e+00\u001b[0m, \u001b[1;36m-1.57189941e+01\u001b[0m\u001b[1m]\u001b[0m\u001b[1m]\u001b[0m,\n",
       "\n",
       "       \u001b[1m[\u001b[0m\u001b[1m[\u001b[0m \u001b[1;36m1.76338196e+01\u001b[0m,  \u001b[1;36m9.82925892e+00\u001b[0m, \u001b[1;36m-1.53924465e+01\u001b[0m\u001b[1m]\u001b[0m,\n",
       "        \u001b[1m[\u001b[0m\u001b[1;36m-1.96726608e+01\u001b[0m,  \u001b[1;36m1.81491566e+01\u001b[0m, \u001b[1;36m-1.12155151e+01\u001b[0m\u001b[1m]\u001b[0m,\n",
       "        \u001b[1m[\u001b[0m\u001b[1;36m-2.45494843e-01\u001b[0m,  \u001b[1;36m5.95040798e+00\u001b[0m, \u001b[1;36m-1.52716827e+01\u001b[0m\u001b[1m]\u001b[0m\u001b[1m]\u001b[0m,\n",
       "\n",
       "       \u001b[1m[\u001b[0m\u001b[1m[\u001b[0m \u001b[1;36m2.54266357e+01\u001b[0m,  \u001b[1;36m7.48977661e-01\u001b[0m, \u001b[1;36m-4.81262207e-01\u001b[0m\u001b[1m]\u001b[0m,\n",
       "        \u001b[1m[\u001b[0m \u001b[1;36m7.94591904e+00\u001b[0m, \u001b[1;36m-1.11172867e+01\u001b[0m,  \u001b[1;36m1.03651285e+00\u001b[0m\u001b[1m]\u001b[0m,\n",
       "        \u001b[1m[\u001b[0m \u001b[1;36m4.91638184e+00\u001b[0m,  \u001b[1;36m5.09399414e+00\u001b[0m,  \u001b[1;36m9.61914062e-01\u001b[0m\u001b[1m]\u001b[0m\u001b[1m]\u001b[0m,\n",
       "\n",
       "       \u001b[1m[\u001b[0m\u001b[1m[\u001b[0m \u001b[1;36m8.17908325e+01\u001b[0m, \u001b[1;36m-0.00000000e+00\u001b[0m, \u001b[1;36m-0.00000000e+00\u001b[0m\u001b[1m]\u001b[0m,\n",
       "        \u001b[1m[\u001b[0m \u001b[1;36m5.43212891e-02\u001b[0m,  \u001b[1;36m6.64490700e+00\u001b[0m, \u001b[1;36m-7.17379570e+00\u001b[0m\u001b[1m]\u001b[0m,\n",
       "        \u001b[1m[\u001b[0m\u001b[1;36m-0.00000000e+00\u001b[0m,  \u001b[1;36m1.28082275e+00\u001b[0m,  \u001b[1;36m1.17614746e+01\u001b[0m\u001b[1m]\u001b[0m\u001b[1m]\u001b[0m,\n",
       "\n",
       "       \u001b[1m[\u001b[0m\u001b[1m[\u001b[0m\u001b[1;36m-3.76409912e+01\u001b[0m,  \u001b[1;36m1.65451050e+00\u001b[0m, \u001b[1;36m-6.56600189e+01\u001b[0m\u001b[1m]\u001b[0m,\n",
       "        \u001b[1m[\u001b[0m\u001b[1;36m-0.00000000e+00\u001b[0m, \u001b[1;36m-1.26627197e+02\u001b[0m, \u001b[1;36m-4.67889404e+01\u001b[0m\u001b[1m]\u001b[0m,\n",
       "        \u001b[1m[\u001b[0m\u001b[1;36m-0.00000000e+00\u001b[0m,  \u001b[1;36m6.40258789e-01\u001b[0m, \u001b[1;36m-6.77520752e+01\u001b[0m\u001b[1m]\u001b[0m\u001b[1m]\u001b[0m,\n",
       "\n",
       "       \u001b[1m[\u001b[0m\u001b[1m[\u001b[0m\u001b[1;36m-1.00978241e+02\u001b[0m,  \u001b[1;36m8.94214325e+01\u001b[0m, \u001b[1;36m-2.98011589e+01\u001b[0m\u001b[1m]\u001b[0m,\n",
       "        \u001b[1m[\u001b[0m \u001b[1;36m2.32492065e+01\u001b[0m, \u001b[1;36m-5.09851074e+01\u001b[0m, \u001b[1;36m-2.55511856e+01\u001b[0m\u001b[1m]\u001b[0m,\n",
       "        \u001b[1m[\u001b[0m \u001b[1;36m2.79292297e+01\u001b[0m, \u001b[1;36m-3.00811977e+01\u001b[0m, \u001b[1;36m-4.40666580e+01\u001b[0m\u001b[1m]\u001b[0m\u001b[1m]\u001b[0m,\n",
       "\n",
       "       \u001b[1m[\u001b[0m\u001b[1m[\u001b[0m\u001b[1;36m-8.55599976e+01\u001b[0m,  \u001b[1;36m8.91235352e+00\u001b[0m,  \u001b[1;36m4.93057251e+00\u001b[0m\u001b[1m]\u001b[0m,\n",
       "        \u001b[1m[\u001b[0m \u001b[1;36m3.61816406e+00\u001b[0m, \u001b[1;36m-8.57592773e+01\u001b[0m,  \u001b[1;36m4.60342407e+00\u001b[0m\u001b[1m]\u001b[0m,\n",
       "        \u001b[1m[\u001b[0m\u001b[1;36m-0.00000000e+00\u001b[0m, \u001b[1;36m-0.00000000e+00\u001b[0m, \u001b[1;36m-1.45117188e+01\u001b[0m\u001b[1m]\u001b[0m\u001b[1m]\u001b[0m,\n",
       "\n",
       "       \u001b[1m[\u001b[0m\u001b[1m[\u001b[0m\u001b[1;36m-1.86271667e+00\u001b[0m, \u001b[1;36m-1.74073334e+01\u001b[0m,  \u001b[1;36m2.65719509e+01\u001b[0m\u001b[1m]\u001b[0m,\n",
       "        \u001b[1m[\u001b[0m \u001b[1;36m9.81498718e+00\u001b[0m, \u001b[1;36m-1.76637650e+00\u001b[0m,  \u001b[1;36m7.15545654e+00\u001b[0m\u001b[1m]\u001b[0m,\n",
       "        \u001b[1m[\u001b[0m \u001b[1;36m1.48478718e+01\u001b[0m,  \u001b[1;36m4.92630577e+00\u001b[0m,  \u001b[1;36m9.66078949e+00\u001b[0m\u001b[1m]\u001b[0m\u001b[1m]\u001b[0m,\n",
       "\n",
       "       \u001b[1m[\u001b[0m\u001b[1m[\u001b[0m \u001b[1;36m2.58789062e+00\u001b[0m,  \u001b[1;36m4.12597656e+00\u001b[0m,  \u001b[1;36m4.12597656e+00\u001b[0m\u001b[1m]\u001b[0m,\n",
       "        \u001b[1m[\u001b[0m \u001b[1;36m3.72131348e+00\u001b[0m,  \u001b[1;36m2.38671875e+01\u001b[0m,  \u001b[1;36m4.37500000e+00\u001b[0m\u001b[1m]\u001b[0m,\n",
       "        \u001b[1m[\u001b[0m \u001b[1;36m3.72131348e+00\u001b[0m,  \u001b[1;36m2.61718750e+00\u001b[0m,  \u001b[1;36m2.56250000e+01\u001b[0m\u001b[1m]\u001b[0m\u001b[1m]\u001b[0m,\n",
       "\n",
       "       \u001b[1m[\u001b[0m\u001b[1m[\u001b[0m \u001b[1;36m1.21356201e+01\u001b[0m,  \u001b[1;36m2.96890259e+00\u001b[0m, \u001b[1;36m-4.86022949e+00\u001b[0m\u001b[1m]\u001b[0m,\n",
       "        \u001b[1m[\u001b[0m \u001b[1;36m7.75833130e-01\u001b[0m,  \u001b[1;36m2.56848907e+01\u001b[0m, \u001b[1;36m-1.36165428e+01\u001b[0m\u001b[1m]\u001b[0m,\n",
       "        \u001b[1m[\u001b[0m\u001b[1;36m-1.34262085e+00\u001b[0m, \u001b[1;36m-9.70428467e+00\u001b[0m, \u001b[1;36m-2.15185547e+01\u001b[0m\u001b[1m]\u001b[0m\u001b[1m]\u001b[0m,\n",
       "\n",
       "       \u001b[1m[\u001b[0m\u001b[1m[\u001b[0m\u001b[1;36m-3.63198242e+02\u001b[0m, \u001b[1;36m-9.27734375e+00\u001b[0m, \u001b[1;36m-0.00000000e+00\u001b[0m\u001b[1m]\u001b[0m,\n",
       "        \u001b[1m[\u001b[0m \u001b[1;36m6.17675781e-01\u001b[0m, \u001b[1;36m-3.01962891e+02\u001b[0m, \u001b[1;36m-1.67065430e+01\u001b[0m\u001b[1m]\u001b[0m,\n",
       "        \u001b[1m[\u001b[0m\u001b[1;36m-0.00000000e+00\u001b[0m, \u001b[1;36m-0.00000000e+00\u001b[0m, \u001b[1;36m-2.87578125e+02\u001b[0m\u001b[1m]\u001b[0m\u001b[1m]\u001b[0m,\n",
       "\n",
       "       \u001b[1m[\u001b[0m\u001b[1m[\u001b[0m \u001b[1;36m1.15649414e+02\u001b[0m,  \u001b[1;36m8.68701172e+01\u001b[0m, \u001b[1;36m-1.61132812e-01\u001b[0m\u001b[1m]\u001b[0m,\n",
       "        \u001b[1m[\u001b[0m \u001b[1;36m3.70251312e+01\u001b[0m,  \u001b[1;36m1.32285156e+02\u001b[0m,  \u001b[1;36m3.71276855e+00\u001b[0m\u001b[1m]\u001b[0m,\n",
       "        \u001b[1m[\u001b[0m\u001b[1;36m-4.03564453e+00\u001b[0m,  \u001b[1;36m7.54150391e+00\u001b[0m, \u001b[1;36m-3.99792480e+01\u001b[0m\u001b[1m]\u001b[0m\u001b[1m]\u001b[0m,\n",
       "\n",
       "       \u001b[1m[\u001b[0m\u001b[1m[\u001b[0m \u001b[1;36m4.66959801e+01\u001b[0m,  \u001b[1;36m2.78373718e+01\u001b[0m,  \u001b[1;36m1.56756592e+01\u001b[0m\u001b[1m]\u001b[0m,\n",
       "        \u001b[1m[\u001b[0m\u001b[1;36m-6.19217110e+01\u001b[0m, \u001b[1;36m-4.10161591e+01\u001b[0m,  \u001b[1;36m5.27105713e+01\u001b[0m\u001b[1m]\u001b[0m,\n",
       "        \u001b[1m[\u001b[0m\u001b[1;36m-6.15704536e+01\u001b[0m,  \u001b[1;36m6.49865723e+01\u001b[0m, \u001b[1;36m-4.62718201e+01\u001b[0m\u001b[1m]\u001b[0m\u001b[1m]\u001b[0m,\n",
       "\n",
       "       \u001b[1m[\u001b[0m\u001b[1m[\u001b[0m\u001b[1;36m-2.17785645e+01\u001b[0m,  \u001b[1;36m6.02928162e+00\u001b[0m, \u001b[1;36m-4.55078125e+00\u001b[0m\u001b[1m]\u001b[0m,\n",
       "        \u001b[1m[\u001b[0m\u001b[1;36m-1.67236328e-01\u001b[0m, \u001b[1;36m-1.36889648e+01\u001b[0m, \u001b[1;36m-2.34082031e+01\u001b[0m\u001b[1m]\u001b[0m,\n",
       "        \u001b[1m[\u001b[0m \u001b[1;36m2.31170654e-01\u001b[0m,  \u001b[1;36m2.92968750e-01\u001b[0m, \u001b[1;36m-2.14843750e-01\u001b[0m\u001b[1m]\u001b[0m\u001b[1m]\u001b[0m,\n",
       "\n",
       "       \u001b[1m[\u001b[0m\u001b[1m[\u001b[0m\u001b[1;36m-4.82197571e+01\u001b[0m, \u001b[1;36m-1.42187500e+01\u001b[0m,  \u001b[1;36m1.42187500e+01\u001b[0m\u001b[1m]\u001b[0m,\n",
       "        \u001b[1m[\u001b[0m\u001b[1;36m-2.66307831e+00\u001b[0m,  \u001b[1;36m2.11987305e+01\u001b[0m, \u001b[1;36m-2.05810547e+00\u001b[0m\u001b[1m]\u001b[0m,\n",
       "        \u001b[1m[\u001b[0m\u001b[1;36m-2.98534393e+00\u001b[0m, \u001b[1;36m-2.42065430e+00\u001b[0m,  \u001b[1;36m2.10656738e+01\u001b[0m\u001b[1m]\u001b[0m\u001b[1m]\u001b[0m,\n",
       "\n",
       "       \u001b[1m[\u001b[0m\u001b[1m[\u001b[0m \u001b[1;36m1.11740875e+02\u001b[0m,  \u001b[1;36m1.88251114e+01\u001b[0m, \u001b[1;36m-6.60962582e+00\u001b[0m\u001b[1m]\u001b[0m,\n",
       "        \u001b[1m[\u001b[0m\u001b[1;36m-0.00000000e+00\u001b[0m, \u001b[1;36m-5.39562988e+01\u001b[0m,  \u001b[1;36m1.20553017e+00\u001b[0m\u001b[1m]\u001b[0m,\n",
       "        \u001b[1m[\u001b[0m\u001b[1;36m-0.00000000e+00\u001b[0m, \u001b[1;36m-4.21445847e+00\u001b[0m,  \u001b[1;36m6.80845642e+01\u001b[0m\u001b[1m]\u001b[0m\u001b[1m]\u001b[0m,\n",
       "\n",
       "       \u001b[1m[\u001b[0m\u001b[1m[\u001b[0m\u001b[1;36m-2.51596680e+02\u001b[0m,  \u001b[1;36m5.00000000e+00\u001b[0m,  \u001b[1;36m5.00000000e+00\u001b[0m\u001b[1m]\u001b[0m,\n",
       "        \u001b[1m[\u001b[0m \u001b[1;36m1.00000000e+01\u001b[0m, \u001b[1;36m-2.56596680e+02\u001b[0m, \u001b[1;36m-0.00000000e+00\u001b[0m\u001b[1m]\u001b[0m,\n",
       "        \u001b[1m[\u001b[0m \u001b[1;36m1.00000000e+01\u001b[0m, \u001b[1;36m-0.00000000e+00\u001b[0m, \u001b[1;36m-2.48554688e+02\u001b[0m\u001b[1m]\u001b[0m\u001b[1m]\u001b[0m,\n",
       "\n",
       "       \u001b[1m[\u001b[0m\u001b[1m[\u001b[0m \u001b[1;36m1.00852051e+02\u001b[0m,  \u001b[1;36m1.00852051e+02\u001b[0m, \u001b[1;36m-1.07229004e+02\u001b[0m\u001b[1m]\u001b[0m,\n",
       "        \u001b[1m[\u001b[0m \u001b[1;36m1.07229004e+02\u001b[0m, \u001b[1;36m-1.07229004e+02\u001b[0m,  \u001b[1;36m1.07229004e+02\u001b[0m\u001b[1m]\u001b[0m,\n",
       "        \u001b[1m[\u001b[0m\u001b[1;36m-1.07229004e+02\u001b[0m,  \u001b[1;36m1.07229004e+02\u001b[0m,  \u001b[1;36m1.07229004e+02\u001b[0m\u001b[1m]\u001b[0m\u001b[1m]\u001b[0m,\n",
       "\n",
       "       \u001b[1m[\u001b[0m\u001b[1m[\u001b[0m \u001b[1;36m5.84213829e+01\u001b[0m,  \u001b[1;36m1.12197571e+02\u001b[0m, \u001b[1;36m-7.73672180e+01\u001b[0m\u001b[1m]\u001b[0m,\n",
       "        \u001b[1m[\u001b[0m \u001b[1;36m2.32226276e+01\u001b[0m, \u001b[1;36m-3.77881050e+01\u001b[0m,  \u001b[1;36m7.26184540e+01\u001b[0m\u001b[1m]\u001b[0m,\n",
       "        \u001b[1m[\u001b[0m\u001b[1;36m-1.14180148e-05\u001b[0m, \u001b[1;36m-1.62670135e+01\u001b[0m, \u001b[1;36m-1.62670135e+01\u001b[0m\u001b[1m]\u001b[0m\u001b[1m]\u001b[0m,\n",
       "\n",
       "       \u001b[1m[\u001b[0m\u001b[1m[\u001b[0m \u001b[1;36m8.66210938e+01\u001b[0m, \u001b[1;36m-4.62500000e+01\u001b[0m, \u001b[1;36m-1.76318359e+01\u001b[0m\u001b[1m]\u001b[0m,\n",
       "        \u001b[1m[\u001b[0m\u001b[1;36m-1.10937500e+01\u001b[0m,  \u001b[1;36m6.86718750e+01\u001b[0m,  \u001b[1;36m3.54980469e+00\u001b[0m\u001b[1m]\u001b[0m,\n",
       "        \u001b[1m[\u001b[0m\u001b[1;36m-1.98828125e+01\u001b[0m,  \u001b[1;36m4.29687500e+00\u001b[0m,  \u001b[1;36m3.17968750e+01\u001b[0m\u001b[1m]\u001b[0m\u001b[1m]\u001b[0m,\n",
       "\n",
       "       \u001b[1m[\u001b[0m\u001b[1m[\u001b[0m\u001b[1;36m-1.83281250e+02\u001b[0m, \u001b[1;36m-0.00000000e+00\u001b[0m, \u001b[1;36m-0.00000000e+00\u001b[0m\u001b[1m]\u001b[0m,\n",
       "        \u001b[1m[\u001b[0m\u001b[1;36m-0.00000000e+00\u001b[0m, \u001b[1;36m-1.83281250e+02\u001b[0m, \u001b[1;36m-0.00000000e+00\u001b[0m\u001b[1m]\u001b[0m,\n",
       "        \u001b[1m[\u001b[0m\u001b[1;36m-0.00000000e+00\u001b[0m, \u001b[1;36m-0.00000000e+00\u001b[0m, \u001b[1;36m-1.97187500e+02\u001b[0m\u001b[1m]\u001b[0m\u001b[1m]\u001b[0m,\n",
       "\n",
       "       \u001b[1m[\u001b[0m\u001b[1m[\u001b[0m\u001b[1;36m-0.00000000e+00\u001b[0m, \u001b[1;36m-0.00000000e+00\u001b[0m, \u001b[1;36m-0.00000000e+00\u001b[0m\u001b[1m]\u001b[0m,\n",
       "        \u001b[1m[\u001b[0m\u001b[1;36m-0.00000000e+00\u001b[0m, \u001b[1;36m-0.00000000e+00\u001b[0m, \u001b[1;36m-0.00000000e+00\u001b[0m\u001b[1m]\u001b[0m,\n",
       "        \u001b[1m[\u001b[0m\u001b[1;36m-0.00000000e+00\u001b[0m, \u001b[1;36m-0.00000000e+00\u001b[0m, \u001b[1;36m-0.00000000e+00\u001b[0m\u001b[1m]\u001b[0m\u001b[1m]\u001b[0m\u001b[1m]\u001b[0m,      \u001b[33mdtype\u001b[0m=\u001b[35mfloat32\u001b[0m\u001b[1m)\u001b[0m\n",
       "\u001b[1m)\u001b[0m"
      ]
     },
     "execution_count": 12,
     "metadata": {},
     "output_type": "execute_result"
    }
   ],
   "source": [
    "from cdv.layers import Context\n",
    "from cdv.regression import EFSWrapper\n",
    "ctx = Context(training=False)\n",
    "\n",
    "out = EFSWrapper()(model.apply, ckpt['state']['params'], cg=cg, ctx=ctx)\n",
    "out"
   ]
  },
  {
   "cell_type": "code",
   "execution_count": 85,
   "metadata": {},
   "outputs": [
    {
     "data": {
      "text/html": [
       "<pre style=\"white-space:pre;overflow-x:auto;line-height:normal;font-family:Menlo,'DejaVu Sans Mono',consolas,'Courier New',monospace\"></pre>\n"
      ],
      "text/plain": []
     },
     "metadata": {},
     "output_type": "display_data"
    },
    {
     "data": {
      "text/plain": [
       "\n",
       "\u001b[1;35mArray\u001b[0m\u001b[1m(\u001b[0m\u001b[1m[\u001b[0m\u001b[1;36m2696.727\u001b[0m   ,  \u001b[1;36m992.36285\u001b[0m ,  \u001b[1;36m620.93396\u001b[0m ,  \u001b[1;36m776.3881\u001b[0m  , \u001b[1;36m1254.885\u001b[0m   ,\n",
       "        \u001b[1;36m445.16635\u001b[0m ,  \u001b[1;36m662.7077\u001b[0m  ,  \u001b[1;36m448.4857\u001b[0m  ,  \u001b[1;36m603.1233\u001b[0m  ,  \u001b[1;36m495.03308\u001b[0m ,\n",
       "        \u001b[1;36m755.0803\u001b[0m  ,  \u001b[1;36m326.15817\u001b[0m ,  \u001b[1;36m325.39355\u001b[0m ,  \u001b[1;36m279.91446\u001b[0m ,  \u001b[1;36m277.42963\u001b[0m ,\n",
       "        \u001b[1;36m258.77118\u001b[0m ,  \u001b[1;36m274.63596\u001b[0m ,  \u001b[1;36m342.94644\u001b[0m ,  \u001b[1;36m159.77986\u001b[0m ,  \u001b[1;36m166.9987\u001b[0m  ,\n",
       "        \u001b[1;36m158.49847\u001b[0m ,  \u001b[1;36m213.66805\u001b[0m ,  \u001b[1;36m142.81676\u001b[0m ,  \u001b[1;36m195.74626\u001b[0m ,  \u001b[1;36m103.411896\u001b[0m,\n",
       "        \u001b[1;36m204.39546\u001b[0m ,   \u001b[1;36m65.49931\u001b[0m ,   \u001b[1;36m44.829044\u001b[0m,   \u001b[1;36m61.68288\u001b[0m ,   \u001b[1;36m52.1802\u001b[0m  ,\n",
       "         \u001b[1;36m26.543814\u001b[0m,    \u001b[1;36m0\u001b[0m.      \u001b[1m]\u001b[0m, \u001b[33mdtype\u001b[0m=\u001b[35mfloat32\u001b[0m\u001b[1m)\u001b[0m"
      ]
     },
     "execution_count": 85,
     "metadata": {},
     "output_type": "execute_result"
    }
   ],
   "source": [
    "jnp.linalg.det(cg.graph_data.lat)"
   ]
  },
  {
   "cell_type": "code",
   "execution_count": null,
   "metadata": {},
   "outputs": [],
   "source": [
    "loss = config.train.loss.efs_loss(cg, out)"
   ]
  },
  {
   "cell_type": "code",
   "execution_count": 35,
   "metadata": {},
   "outputs": [
    {
     "data": {
      "text/html": [
       "<pre style=\"white-space:pre;overflow-x:auto;line-height:normal;font-family:Menlo,'DejaVu Sans Mono',consolas,'Courier New',monospace\"></pre>\n"
      ],
      "text/plain": []
     },
     "metadata": {},
     "output_type": "display_data"
    },
    {
     "data": {
      "text/plain": [
       "\n",
       "\u001b[1;35mArray\u001b[0m\u001b[1m(\u001b[0m\u001b[1m[\u001b[0m\u001b[1;36m0\u001b[0m, \u001b[1;36m0\u001b[0m, \u001b[1;36m0\u001b[0m, \u001b[1;36m0\u001b[0m, \u001b[1;36m0\u001b[0m, \u001b[1;36m0\u001b[0m, \u001b[1;36m0\u001b[0m, \u001b[1;36m0\u001b[0m, \u001b[1;36m0\u001b[0m, \u001b[1;36m0\u001b[0m, \u001b[1;36m0\u001b[0m, \u001b[1;36m0\u001b[0m, \u001b[1;36m0\u001b[0m, \u001b[1;36m0\u001b[0m, \u001b[1;36m0\u001b[0m, \u001b[1;36m0\u001b[0m, \u001b[1;36m0\u001b[0m, \u001b[1;36m0\u001b[0m, \u001b[1;36m0\u001b[0m, \u001b[1;36m0\u001b[0m, \u001b[1;36m0\u001b[0m, \u001b[1;36m0\u001b[0m,\n",
       "       \u001b[1;36m0\u001b[0m, \u001b[1;36m0\u001b[0m, \u001b[1;36m0\u001b[0m, \u001b[1;36m0\u001b[0m, \u001b[1;36m0\u001b[0m, \u001b[1;36m0\u001b[0m, \u001b[1;36m0\u001b[0m, \u001b[1;36m0\u001b[0m, \u001b[1;36m0\u001b[0m, \u001b[1;36m0\u001b[0m, \u001b[1;36m0\u001b[0m, \u001b[1;36m0\u001b[0m, \u001b[1;36m0\u001b[0m, \u001b[1;36m0\u001b[0m, \u001b[1;36m0\u001b[0m, \u001b[1;36m0\u001b[0m, \u001b[1;36m0\u001b[0m, \u001b[1;36m0\u001b[0m, \u001b[1;36m0\u001b[0m, \u001b[1;36m0\u001b[0m, \u001b[1;36m0\u001b[0m, \u001b[1;36m0\u001b[0m,\n",
       "       \u001b[1;36m0\u001b[0m, \u001b[1;36m0\u001b[0m, \u001b[1;36m0\u001b[0m, \u001b[1;36m0\u001b[0m, \u001b[1;36m0\u001b[0m, \u001b[1;36m0\u001b[0m, \u001b[1;36m0\u001b[0m, \u001b[1;36m0\u001b[0m, \u001b[1;36m0\u001b[0m, \u001b[1;36m0\u001b[0m, \u001b[1;36m0\u001b[0m, \u001b[1;36m0\u001b[0m, \u001b[1;36m0\u001b[0m, \u001b[1;36m0\u001b[0m, \u001b[1;36m0\u001b[0m, \u001b[1;36m0\u001b[0m, \u001b[1;36m0\u001b[0m, \u001b[1;36m0\u001b[0m, \u001b[1;36m0\u001b[0m, \u001b[1;36m0\u001b[0m, \u001b[1;36m0\u001b[0m, \u001b[1;36m0\u001b[0m,\n",
       "       \u001b[1;36m0\u001b[0m, \u001b[1;36m0\u001b[0m, \u001b[1;36m0\u001b[0m, \u001b[1;36m0\u001b[0m, \u001b[1;36m0\u001b[0m, \u001b[1;36m0\u001b[0m, \u001b[1;36m0\u001b[0m, \u001b[1;36m0\u001b[0m, \u001b[1;36m0\u001b[0m, \u001b[1;36m0\u001b[0m, \u001b[1;36m0\u001b[0m, \u001b[1;36m0\u001b[0m, \u001b[1;36m0\u001b[0m, \u001b[1;36m0\u001b[0m, \u001b[1;36m0\u001b[0m, \u001b[1;36m0\u001b[0m, \u001b[1;36m0\u001b[0m, \u001b[1;36m0\u001b[0m, \u001b[1;36m0\u001b[0m, \u001b[1;36m0\u001b[0m, \u001b[1;36m0\u001b[0m, \u001b[1;36m0\u001b[0m,\n",
       "       \u001b[1;36m0\u001b[0m, \u001b[1;36m0\u001b[0m, \u001b[1;36m0\u001b[0m, \u001b[1;36m0\u001b[0m, \u001b[1;36m0\u001b[0m, \u001b[1;36m0\u001b[0m, \u001b[1;36m0\u001b[0m, \u001b[1;36m0\u001b[0m, \u001b[1;36m0\u001b[0m, \u001b[1;36m0\u001b[0m, \u001b[1;36m0\u001b[0m, \u001b[1;36m0\u001b[0m, \u001b[1;36m0\u001b[0m, \u001b[1;36m0\u001b[0m, \u001b[1;36m0\u001b[0m, \u001b[1;36m0\u001b[0m, \u001b[1;36m0\u001b[0m, \u001b[1;36m0\u001b[0m, \u001b[1;36m0\u001b[0m, \u001b[1;36m0\u001b[0m, \u001b[1;36m0\u001b[0m, \u001b[1;36m0\u001b[0m,\n",
       "       \u001b[1;36m0\u001b[0m, \u001b[1;36m0\u001b[0m, \u001b[1;36m0\u001b[0m, \u001b[1;36m0\u001b[0m, \u001b[1;36m0\u001b[0m, \u001b[1;36m0\u001b[0m, \u001b[1;36m0\u001b[0m, \u001b[1;36m0\u001b[0m, \u001b[1;36m0\u001b[0m, \u001b[1;36m0\u001b[0m, \u001b[1;36m0\u001b[0m, \u001b[1;36m0\u001b[0m, \u001b[1;36m0\u001b[0m, \u001b[1;36m0\u001b[0m, \u001b[1;36m0\u001b[0m, \u001b[1;36m0\u001b[0m, \u001b[1;36m0\u001b[0m, \u001b[1;36m0\u001b[0m, \u001b[1;36m0\u001b[0m, \u001b[1;36m0\u001b[0m, \u001b[1;36m0\u001b[0m, \u001b[1;36m0\u001b[0m,\n",
       "       \u001b[1;36m0\u001b[0m, \u001b[1;36m0\u001b[0m, \u001b[1;36m0\u001b[0m, \u001b[1;36m0\u001b[0m, \u001b[1;36m0\u001b[0m, \u001b[1;36m0\u001b[0m, \u001b[1;36m0\u001b[0m, \u001b[1;36m0\u001b[0m, \u001b[1;36m0\u001b[0m, \u001b[1;36m0\u001b[0m, \u001b[1;36m0\u001b[0m, \u001b[1;36m0\u001b[0m, \u001b[1;36m0\u001b[0m, \u001b[1;36m0\u001b[0m, \u001b[1;36m0\u001b[0m, \u001b[1;36m0\u001b[0m, \u001b[1;36m0\u001b[0m, \u001b[1;36m0\u001b[0m, \u001b[1;36m0\u001b[0m, \u001b[1;36m0\u001b[0m, \u001b[1;36m0\u001b[0m, \u001b[1;36m0\u001b[0m,\n",
       "       \u001b[1;36m0\u001b[0m, \u001b[1;36m0\u001b[0m, \u001b[1;36m0\u001b[0m, \u001b[1;36m0\u001b[0m, \u001b[1;36m0\u001b[0m, \u001b[1;36m0\u001b[0m, \u001b[1;36m0\u001b[0m, \u001b[1;36m0\u001b[0m, \u001b[1;36m0\u001b[0m, \u001b[1;36m0\u001b[0m, \u001b[1;36m0\u001b[0m, \u001b[1;36m0\u001b[0m, \u001b[1;36m0\u001b[0m, \u001b[1;36m0\u001b[0m, \u001b[1;36m0\u001b[0m, \u001b[1;36m0\u001b[0m, \u001b[1;36m0\u001b[0m, \u001b[1;36m0\u001b[0m, \u001b[1;36m0\u001b[0m, \u001b[1;36m0\u001b[0m, \u001b[1;36m0\u001b[0m, \u001b[1;36m0\u001b[0m,\n",
       "       \u001b[1;36m0\u001b[0m, \u001b[1;36m0\u001b[0m, \u001b[1;36m0\u001b[0m, \u001b[1;36m0\u001b[0m, \u001b[1;36m0\u001b[0m, \u001b[1;36m0\u001b[0m, \u001b[1;36m0\u001b[0m, \u001b[1;36m0\u001b[0m, \u001b[1;36m0\u001b[0m, \u001b[1;36m0\u001b[0m, \u001b[1;36m0\u001b[0m, \u001b[1;36m0\u001b[0m, \u001b[1;36m0\u001b[0m, \u001b[1;36m0\u001b[0m, \u001b[1;36m0\u001b[0m, \u001b[1;36m0\u001b[0m, \u001b[1;36m0\u001b[0m, \u001b[1;36m0\u001b[0m, \u001b[1;36m0\u001b[0m, \u001b[1;36m0\u001b[0m, \u001b[1;36m0\u001b[0m, \u001b[1;36m0\u001b[0m,\n",
       "       \u001b[1;36m0\u001b[0m, \u001b[1;36m0\u001b[0m, \u001b[1;36m0\u001b[0m, \u001b[1;36m0\u001b[0m, \u001b[1;36m0\u001b[0m, \u001b[1;36m0\u001b[0m, \u001b[1;36m0\u001b[0m, \u001b[1;36m0\u001b[0m, \u001b[1;36m0\u001b[0m, \u001b[1;36m0\u001b[0m, \u001b[1;36m0\u001b[0m, \u001b[1;36m0\u001b[0m, \u001b[1;36m0\u001b[0m, \u001b[1;36m0\u001b[0m, \u001b[1;36m0\u001b[0m, \u001b[1;36m0\u001b[0m, \u001b[1;36m0\u001b[0m, \u001b[1;36m0\u001b[0m, \u001b[1;36m0\u001b[0m, \u001b[1;36m0\u001b[0m, \u001b[1;36m0\u001b[0m, \u001b[1;36m0\u001b[0m,\n",
       "       \u001b[1;36m0\u001b[0m, \u001b[1;36m0\u001b[0m, \u001b[1;36m0\u001b[0m, \u001b[1;36m0\u001b[0m, \u001b[1;36m0\u001b[0m, \u001b[1;36m0\u001b[0m, \u001b[1;36m0\u001b[0m, \u001b[1;36m0\u001b[0m, \u001b[1;36m0\u001b[0m, \u001b[1;36m0\u001b[0m, \u001b[1;36m0\u001b[0m, \u001b[1;36m0\u001b[0m, \u001b[1;36m0\u001b[0m, \u001b[1;36m0\u001b[0m, \u001b[1;36m0\u001b[0m, \u001b[1;36m0\u001b[0m, \u001b[1;36m0\u001b[0m, \u001b[1;36m0\u001b[0m, \u001b[1;36m0\u001b[0m, \u001b[1;36m0\u001b[0m, \u001b[1;36m0\u001b[0m, \u001b[1;36m0\u001b[0m,\n",
       "       \u001b[1;36m0\u001b[0m, \u001b[1;36m0\u001b[0m, \u001b[1;36m0\u001b[0m, \u001b[1;36m0\u001b[0m, \u001b[1;36m0\u001b[0m, \u001b[1;36m0\u001b[0m, \u001b[1;36m0\u001b[0m, \u001b[1;36m0\u001b[0m, \u001b[1;36m0\u001b[0m, \u001b[1;36m0\u001b[0m, \u001b[1;36m0\u001b[0m, \u001b[1;36m0\u001b[0m, \u001b[1;36m0\u001b[0m, \u001b[1;36m0\u001b[0m, \u001b[1;36m0\u001b[0m, \u001b[1;36m0\u001b[0m, \u001b[1;36m0\u001b[0m, \u001b[1;36m0\u001b[0m, \u001b[1;36m0\u001b[0m, \u001b[1;36m0\u001b[0m, \u001b[1;36m0\u001b[0m, \u001b[1;36m0\u001b[0m,\n",
       "       \u001b[1;36m0\u001b[0m, \u001b[1;36m0\u001b[0m, \u001b[1;36m0\u001b[0m, \u001b[1;36m0\u001b[0m, \u001b[1;36m0\u001b[0m, \u001b[1;36m0\u001b[0m, \u001b[1;36m0\u001b[0m, \u001b[1;36m0\u001b[0m\u001b[1m]\u001b[0m, \u001b[33mdtype\u001b[0m=\u001b[35mint32\u001b[0m\u001b[1m)\u001b[0m"
      ]
     },
     "execution_count": 35,
     "metadata": {},
     "output_type": "execute_result"
    }
   ],
   "source": [
    "cg.nodes.graph_i[:272]"
   ]
  },
  {
   "cell_type": "code",
   "execution_count": 93,
   "metadata": {},
   "outputs": [],
   "source": [
    "from pymatgen.core import Lattice\n",
    "\n",
    "lat = Lattice(cg.graph_data.lat[0])"
   ]
  },
  {
   "cell_type": "code",
   "execution_count": 97,
   "metadata": {},
   "outputs": [],
   "source": [
    "volume = jnp.abs(jnp.linalg.det(cg.graph_data.lat))[..., None, None]\n",
    "stress_cell = (0.1 * out.stress / jnp.where(volume == 0, jnp.ones_like(volume), volume))"
   ]
  },
  {
   "cell_type": "code",
   "execution_count": 98,
   "metadata": {},
   "outputs": [
    {
     "name": "stdout",
     "output_type": "stream",
     "text": [
      "15.490802\n"
     ]
    },
    {
     "data": {
      "text/html": [
       "<pre style=\"white-space:pre;overflow-x:auto;line-height:normal;font-family:Menlo,'DejaVu Sans Mono',consolas,'Courier New',monospace\"></pre>\n"
      ],
      "text/plain": []
     },
     "metadata": {},
     "output_type": "display_data"
    },
    {
     "data": {
      "text/plain": [
       "\u001b[1m<\u001b[0m\u001b[1;95mseaborn.axisgrid.JointGrid\u001b[0m\u001b[39m object at \u001b[0m\u001b[1;36m0x7ef79c6952e0\u001b[0m\u001b[1m>\u001b[0m"
      ]
     },
     "execution_count": 98,
     "metadata": {},
     "output_type": "execute_result"
    },
    {
     "data": {
      "text/html": [
       "<pre style=\"white-space:pre;overflow-x:auto;line-height:normal;font-family:Menlo,'DejaVu Sans Mono',consolas,'Courier New',monospace\"></pre>\n"
      ],
      "text/plain": []
     },
     "metadata": {},
     "output_type": "display_data"
    },
    {
     "data": {
      "image/png": "[encoded data removed]",
      "text/plain": [
       "\u001b[1m<\u001b[0m\u001b[1;95mFigure\u001b[0m\u001b[39m size 60\u001b[0m\u001b[1;36m0x600\u001b[0m\u001b[39m with \u001b[0m\u001b[1;36m3\u001b[0m\u001b[39m Axes\u001b[0m\u001b[1m>\u001b[0m"
      ]
     },
     "metadata": {},
     "output_type": "display_data"
    }
   ],
   "source": [
    "y = cg.target_data.stress[cg.padding_mask]\n",
    "volume = jnp.linalg.det(cg.graph_data.lat)[..., None, None]\n",
    "yhat = stress_cell[cg.padding_mask]\n",
    "\n",
    "z = y - yhat\n",
    "# z = z[cg.padding_mask[cg.nodes.graph_i]]\n",
    "print(jnp.mean(jnp.abs(z)))\n",
    "sns.jointplot(x=yhat.reshape(-1), y=y.reshape(-1), kind='hex')"
   ]
  },
  {
   "cell_type": "code",
   "execution_count": 40,
   "metadata": {},
   "outputs": [
    {
     "data": {
      "text/html": [
       "<pre style=\"white-space:pre;overflow-x:auto;line-height:normal;font-family:Menlo,'DejaVu Sans Mono',consolas,'Courier New',monospace\"></pre>\n"
      ],
      "text/plain": []
     },
     "metadata": {},
     "output_type": "display_data"
    },
    {
     "data": {
      "text/plain": [
       "\n",
       "\u001b[1;35mArray\u001b[0m\u001b[1m(\u001b[0m\u001b[1m[\u001b[0m\u001b[1m[\u001b[0m\u001b[1;36m10.297847\u001b[0m  ,  \u001b[1;36m0\u001b[0m.        , \u001b[1;36m-2.931051\u001b[0m  \u001b[1m]\u001b[0m,\n",
       "       \u001b[1m[\u001b[0m \u001b[1;36m0\u001b[0m.        ,  \u001b[1;36m9.247357\u001b[0m  ,  \u001b[1;36m0\u001b[0m.        \u001b[1m]\u001b[0m,\n",
       "       \u001b[1m[\u001b[0m\u001b[1;36m-0.02958372\u001b[0m,  \u001b[1;36m0\u001b[0m.        , \u001b[1;36m10.42935\u001b[0m   \u001b[1m]\u001b[0m\u001b[1m]\u001b[0m, \u001b[33mdtype\u001b[0m=\u001b[35mfloat32\u001b[0m\u001b[1m)\u001b[0m"
      ]
     },
     "execution_count": 40,
     "metadata": {},
     "output_type": "execute_result"
    }
   ],
   "source": [
    "cg.graph_data.lat[1]"
   ]
  },
  {
   "cell_type": "code",
   "execution_count": 13,
   "metadata": {},
   "outputs": [
    {
     "data": {
      "text/html": [
       "<pre style=\"white-space:pre;overflow-x:auto;line-height:normal;font-family:Menlo,'DejaVu Sans Mono',consolas,'Courier New',monospace\"></pre>\n"
      ],
      "text/plain": []
     },
     "metadata": {},
     "output_type": "display_data"
    },
    {
     "data": {
      "text/plain": [
       "\u001b[1m<\u001b[0m\u001b[1;95mmatplotlib.collections.PathCollection\u001b[0m\u001b[39m object at \u001b[0m\u001b[1;36m0x7f01105c95b0\u001b[0m\u001b[1m>\u001b[0m"
      ]
     },
     "execution_count": 13,
     "metadata": {},
     "output_type": "execute_result"
    },
    {
     "data": {
      "text/html": [
       "<pre style=\"white-space:pre;overflow-x:auto;line-height:normal;font-family:Menlo,'DejaVu Sans Mono',consolas,'Courier New',monospace\"></pre>\n"
      ],
      "text/plain": []
     },
     "metadata": {},
     "output_type": "display_data"
    },
    {
     "data": {
      "image/png": "[encoded data removed]",
      "text/plain": [
       "\u001b[1m<\u001b[0m\u001b[1;95mFigure\u001b[0m\u001b[39m size 80\u001b[0m\u001b[1;36m0x600\u001b[0m\u001b[39m with \u001b[0m\u001b[1;36m1\u001b[0m\u001b[39m Axes\u001b[0m\u001b[1m>\u001b[0m"
      ]
     },
     "metadata": {},
     "output_type": "display_data"
    }
   ],
   "source": [
    "plt.scatter(out.energy, cg.e_form)"
   ]
  },
  {
   "cell_type": "code",
   "execution_count": null,
   "metadata": {},
   "outputs": [],
   "source": []
  }
 ],
 "metadata": {
  "kernelspec": {
   "display_name": "avid",
   "language": "python",
   "name": "python3"
  },
  "language_info": {
   "codemirror_mode": {
    "name": "ipython",
    "version": 3
   },
   "file_extension": ".py",
   "mimetype": "text/x-python",
   "name": "python",
   "nbconvert_exporter": "python",
   "pygments_lexer": "ipython3",
   "version": "3.12.0"
  }
 },
 "nbformat": 4,
 "nbformat_minor": 2
}
